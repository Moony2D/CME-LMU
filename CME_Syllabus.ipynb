{
 "cells": [
  {
   "cell_type": "markdown",
   "metadata": {},
   "source": [
    "### Schedule\n",
    "\n",
    "W 01 (16/10): Introduction\n",
    "\n",
    "W 02 (23/10): Version Control \n",
    "\n",
    "W 03 (30/10): Python: Basics\n",
    "\n",
    "W 04 (06/11): Python: Numpy\n",
    "\n",
    "W 05 (13/11): Python: Matplotlib \n",
    "\n",
    "W 06 (20/11): Computer Basics / Systems of Linear Equations   \n",
    "\n",
    "W 07 (27/11): Root Finding  \n",
    "\n",
    "W 08 (04/12): Numerical Optimization I\n",
    "\n",
    "W 09 (11/12): Numerical Optimization II\n",
    "\n",
    "W 10 (18/12): Python: Pandas, OOP\n",
    "\n",
    "W 11 (08/01): Function Approximation\n",
    "\n",
    "W 12 (15/01): Numerical Integration\n",
    "\n",
    "W 13 (22/01): Dynamic Programming\n",
    "\n",
    "W 14 (29/01): Applications I: RBC Model, Inequality \n",
    "\n",
    "W 15 (04/02): Applications II / Review"
   ]
  },
  {
   "cell_type": "markdown",
   "metadata": {},
   "source": [
    "### Problem Sets (Due Dates)\n",
    "\n",
    "PS1 (13/11): Python Basics\n",
    "\n",
    "PS2 (27/11): Numpy, SLE\n",
    "\n",
    "PS3 (11/12): Root Finding, Numerical Optimization\n",
    "\n",
    "PS4 (08/01): Data Analysis (Numerical Optimization, Pandas)\n",
    "\n",
    "PS5 (22/01): Function Approximation, Numerical Integration\n",
    "\n",
    "PS6 (04/02): Dynamic Programming"
   ]
  },
  {
   "cell_type": "code",
   "execution_count": null,
   "metadata": {},
   "outputs": [],
   "source": []
  }
 ],
 "metadata": {
  "kernelspec": {
   "display_name": "Python 3",
   "language": "python",
   "name": "python3"
  },
  "language_info": {
   "codemirror_mode": {
    "name": "ipython",
    "version": 3
   },
   "file_extension": ".py",
   "mimetype": "text/x-python",
   "name": "python",
   "nbconvert_exporter": "python",
   "pygments_lexer": "ipython3",
   "version": "3.7.3"
  }
 },
 "nbformat": 4,
 "nbformat_minor": 2
}
