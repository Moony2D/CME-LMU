{
 "cells": [
  {
   "cell_type": "markdown",
   "metadata": {},
   "source": [
    "Before you turn this problem in, make sure everything runs as expected. First, **restart the kernel** (in the menubar, select Kernel$\\rightarrow$Restart) and then **run all cells** (in the menubar, select Cell$\\rightarrow$Run All).\n",
    "\n",
    "Make sure you fill in any place that says `YOUR CODE HERE`, as well as your name below:"
   ]
  },
  {
   "cell_type": "code",
   "execution_count": null,
   "metadata": {},
   "outputs": [],
   "source": [
    "NAME = \"\""
   ]
  },
  {
   "cell_type": "markdown",
   "metadata": {},
   "source": [
    "Please save this notebook in a folder of the same name (`CME_PS` plus the corresponding number) and push it to your LRZ-Gitlab repository. Do not change the name of the notebook!"
   ]
  },
  {
   "cell_type": "markdown",
   "metadata": {},
   "source": [
    "Note: some of the cells below are locked, so you cannot change them, but you can evaluate them!"
   ]
  },
  {
   "cell_type": "markdown",
   "metadata": {},
   "source": [
    "---"
   ]
  },
  {
   "cell_type": "markdown",
   "metadata": {
    "deletable": false,
    "editable": false,
    "nbgrader": {
     "cell_type": "markdown",
     "checksum": "a730125f76d0d5bf0790e1e1908d251c",
     "grade": false,
     "grade_id": "cell-ff41bfd971742b5f",
     "locked": true,
     "schema_version": 3,
     "solution": false,
     "task": false
    }
   },
   "source": [
    "# Computational Methods in Economics\n",
    "\n",
    "## Problem Set 4 - Numerical Optimization and Pandas "
   ]
  },
  {
   "cell_type": "markdown",
   "metadata": {
    "deletable": false,
    "editable": false,
    "nbgrader": {
     "cell_type": "markdown",
     "checksum": "a3a5403d5b8aed3a4e7efe062807ec65",
     "grade": false,
     "grade_id": "cell-a69909ea9ea572e8",
     "locked": true,
     "schema_version": 3,
     "solution": false,
     "task": false
    }
   },
   "source": [
    "#### DEADLINE: Wednesday, January 8, 12 pm (Noon)"
   ]
  },
  {
   "cell_type": "markdown",
   "metadata": {
    "deletable": false,
    "editable": false,
    "nbgrader": {
     "cell_type": "markdown",
     "checksum": "0b2dae658af3d77ed32e441ecd56d9d8",
     "grade": false,
     "grade_id": "cell-3990712381996b5b",
     "locked": true,
     "schema_version": 3,
     "solution": false,
     "task": false
    }
   },
   "source": [
    "### Preliminaries\n",
    "\n",
    "#### Import Modules"
   ]
  },
  {
   "cell_type": "code",
   "execution_count": null,
   "metadata": {
    "deletable": false,
    "editable": false,
    "nbgrader": {
     "cell_type": "code",
     "checksum": "fc027585b60f24546fdf3bd67633f9b5",
     "grade": false,
     "grade_id": "cell-b2465406307b475e",
     "locked": true,
     "schema_version": 3,
     "solution": false,
     "task": false
    }
   },
   "outputs": [],
   "source": [
    "import numpy as np\n",
    "import pandas as pd\n",
    "import scipy.optimize\n",
    "\n",
    "import matplotlib.pyplot as plt\n",
    "%matplotlib inline"
   ]
  },
  {
   "cell_type": "markdown",
   "metadata": {
    "deletable": false,
    "editable": false,
    "nbgrader": {
     "cell_type": "markdown",
     "checksum": "0e702c020317c0804356ce2051fb6469",
     "grade": false,
     "grade_id": "cell-957bfdc7c012f582",
     "locked": true,
     "schema_version": 3,
     "solution": false,
     "task": false
    }
   },
   "source": [
    "## Question 1\n",
    "\n",
    "Run the cell below which imports the data set on Bundesliga players and performs the same operations as in the lecture, in order to make the players' last names the indices of the DataFrame (Make sure that you have the **BundesligaData.csv** file in the same folder!)"
   ]
  },
  {
   "cell_type": "code",
   "execution_count": null,
   "metadata": {
    "deletable": false,
    "editable": false,
    "nbgrader": {
     "cell_type": "code",
     "checksum": "4588a84fbf554e941805b837bc240483",
     "grade": false,
     "grade_id": "cell-dd786e363f969368",
     "locked": true,
     "schema_version": 3,
     "solution": false,
     "task": false
    }
   },
   "outputs": [],
   "source": [
    "df = pd.read_csv('BundesligaData.csv', sep = ';')\n",
    "\n",
    "def reverse_name(name):\n",
    "    L = name.split(\" \")\n",
    "    try:\n",
    "        S = L[1] + \" \" + L[0]\n",
    "    except:\n",
    "        S = L[0]\n",
    "    return S\n",
    "## apply reverse_name function on 'name' column\n",
    "df['name'] = df['name'].apply(reverse_name)\n",
    "## create new dataframe with last and first names\n",
    "names = df['name'].str.split(expand=True)\n",
    "# replace column 'name'\n",
    "df['name'] = names[0]\n",
    "## add column 'first name'\n",
    "df.insert(1, 'first name', names[1])\n",
    "## make name the index\n",
    "df.set_index('name', drop = True, inplace = True)\n",
    "## check dataframe\n",
    "df.head()"
   ]
  },
  {
   "cell_type": "markdown",
   "metadata": {
    "deletable": false,
    "editable": false,
    "nbgrader": {
     "cell_type": "markdown",
     "checksum": "bf4433fa8f99b582cf2487fae075da7a",
     "grade": false,
     "grade_id": "cell-b8be152f6919b5a9",
     "locked": true,
     "schema_version": 3,
     "solution": false,
     "task": false
    }
   },
   "source": [
    "Using this DataFrame, answer the following questions:"
   ]
  },
  {
   "cell_type": "markdown",
   "metadata": {
    "deletable": false,
    "editable": false,
    "nbgrader": {
     "cell_type": "markdown",
     "checksum": "41dabada4c32047c3207e3c20122b228",
     "grade": false,
     "grade_id": "cell-b2d1e17e9f82c6c2",
     "locked": true,
     "schema_version": 3,
     "solution": false,
     "task": false
    }
   },
   "source": [
    "(a) Which player got the most scorer points in the 2016/17 season, and how many points did he get? A scorer point is awarded for both a goal and an assist. Your answer should be a tuple named **answer** consisting of a string (the player's last name) and an integer."
   ]
  },
  {
   "cell_type": "code",
   "execution_count": null,
   "metadata": {
    "deletable": false,
    "nbgrader": {
     "cell_type": "code",
     "checksum": "0ccbffd6d4511cd32ec4bd7d5aff9fa2",
     "grade": false,
     "grade_id": "cell-2b746ba3c901352c",
     "locked": false,
     "schema_version": 3,
     "solution": true,
     "task": false
    }
   },
   "outputs": [],
   "source": [
    "## (a)\n",
    "# YOUR CODE HERE"
   ]
  },
  {
   "cell_type": "code",
   "execution_count": null,
   "metadata": {
    "deletable": false,
    "editable": false,
    "nbgrader": {
     "cell_type": "code",
     "checksum": "21b6cd109b45837f59133801f95c04e9",
     "grade": true,
     "grade_id": "cell-63f185d923f251c3",
     "locked": true,
     "points": 1,
     "schema_version": 3,
     "solution": false,
     "task": false
    }
   },
   "outputs": [],
   "source": [
    "## THIS IS A TEST CELL!"
   ]
  },
  {
   "cell_type": "markdown",
   "metadata": {
    "deletable": false,
    "editable": false,
    "nbgrader": {
     "cell_type": "markdown",
     "checksum": "213bc951b0975bef7e1d6ddbc97ea49d",
     "grade": false,
     "grade_id": "cell-95aa0cc1592f1d7f",
     "locked": true,
     "schema_version": 3,
     "solution": false,
     "task": false
    }
   },
   "source": [
    "(b) Are there any players in the data set that are younger than 23 and have scored at least 8 goals? Your answer should be a tuple named **answer** containing only strings."
   ]
  },
  {
   "cell_type": "code",
   "execution_count": null,
   "metadata": {
    "deletable": false,
    "nbgrader": {
     "cell_type": "code",
     "checksum": "67845ee1790e9433321002d08f749703",
     "grade": false,
     "grade_id": "cell-5f51e6beead41989",
     "locked": false,
     "schema_version": 3,
     "solution": true,
     "task": false
    }
   },
   "outputs": [],
   "source": [
    "## (b)\n",
    "# YOUR CODE HERE"
   ]
  },
  {
   "cell_type": "code",
   "execution_count": null,
   "metadata": {
    "deletable": false,
    "editable": false,
    "nbgrader": {
     "cell_type": "code",
     "checksum": "10c5f0563d7a6766b3d6c4390cd73832",
     "grade": true,
     "grade_id": "cell-1c5d448170c9bd17",
     "locked": true,
     "points": 1,
     "schema_version": 3,
     "solution": false,
     "task": false
    }
   },
   "outputs": [],
   "source": [
    "## THIS IS A TEST CELL!"
   ]
  },
  {
   "cell_type": "markdown",
   "metadata": {
    "deletable": false,
    "editable": false,
    "nbgrader": {
     "cell_type": "markdown",
     "checksum": "46aafa205a4b8fb015462a115320f673",
     "grade": false,
     "grade_id": "cell-7d5eecde13e1b195",
     "locked": true,
     "schema_version": 3,
     "solution": false,
     "task": false
    }
   },
   "source": [
    "(c) At which positions do the players with the most red cards, the most assists, and the highest pass success, respectively, play? For your answer, use the following dictionary, where you need to add the corresponding positions."
   ]
  },
  {
   "cell_type": "code",
   "execution_count": null,
   "metadata": {
    "deletable": false,
    "editable": false,
    "nbgrader": {
     "cell_type": "code",
     "checksum": "8b2459ff6a046787fb7ab3025c26a14a",
     "grade": false,
     "grade_id": "cell-b0eff87d5a150e33",
     "locked": true,
     "schema_version": 3,
     "solution": false,
     "task": false
    }
   },
   "outputs": [],
   "source": [
    "answer = {'red cards': None,\\\n",
    "          'assists': None,\\\n",
    "          'pass success': None}"
   ]
  },
  {
   "cell_type": "code",
   "execution_count": null,
   "metadata": {
    "deletable": false,
    "nbgrader": {
     "cell_type": "code",
     "checksum": "c1fc70b9d31415a1c14215419f19889c",
     "grade": false,
     "grade_id": "cell-78377fcb5b99484a",
     "locked": false,
     "schema_version": 3,
     "solution": true,
     "task": false
    }
   },
   "outputs": [],
   "source": [
    "## (c)\n",
    "# YOUR CODE HERE"
   ]
  },
  {
   "cell_type": "code",
   "execution_count": null,
   "metadata": {
    "deletable": false,
    "editable": false,
    "nbgrader": {
     "cell_type": "code",
     "checksum": "6fbc65e72a19d7b1e7bcb4c7ba6797d7",
     "grade": true,
     "grade_id": "cell-8ddeadd0c4dd756e",
     "locked": true,
     "points": 1,
     "schema_version": 3,
     "solution": false,
     "task": false
    }
   },
   "outputs": [],
   "source": [
    "## THIS IS A TEST CELL!"
   ]
  },
  {
   "cell_type": "markdown",
   "metadata": {
    "deletable": false,
    "editable": false,
    "nbgrader": {
     "cell_type": "markdown",
     "checksum": "281f2dad5db065811cda24743589ba98",
     "grade": false,
     "grade_id": "cell-ac0a2b4d2b334abf",
     "locked": true,
     "schema_version": 3,
     "solution": false,
     "task": false
    }
   },
   "source": [
    "(d) For the first five players, update the **'goals'** column with the the number of goals they scored on the matchday 34, namely {'Lewandowski' : 0, 'Aubameyang': 2, 'Mueller': 0, Costa': 0, 'Reus': 1}. This should change the DataFrame **df** in place.\n",
    "\n",
    "**Hint**: All functions or methods needed to solve this question were discussed in the **pd.Series** part of the lecture."
   ]
  },
  {
   "cell_type": "code",
   "execution_count": null,
   "metadata": {
    "deletable": false,
    "nbgrader": {
     "cell_type": "code",
     "checksum": "67ed3a25018b007de1c8ca10d88ad52a",
     "grade": false,
     "grade_id": "cell-3e8cdaf90f3debd9",
     "locked": false,
     "schema_version": 3,
     "solution": true,
     "task": false
    }
   },
   "outputs": [],
   "source": [
    "## (d)\n",
    "# YOUR CODE HERE"
   ]
  },
  {
   "cell_type": "code",
   "execution_count": null,
   "metadata": {
    "deletable": false,
    "editable": false,
    "nbgrader": {
     "cell_type": "code",
     "checksum": "420706f07551705a8810b7cb7723e2b1",
     "grade": true,
     "grade_id": "cell-812563c23c7d901a",
     "locked": true,
     "points": 1,
     "schema_version": 3,
     "solution": false,
     "task": false
    }
   },
   "outputs": [],
   "source": [
    "## THIS IS A TEST CELL!"
   ]
  },
  {
   "cell_type": "markdown",
   "metadata": {
    "deletable": false,
    "editable": false,
    "nbgrader": {
     "cell_type": "markdown",
     "checksum": "e6591b9140f2c26dcc73cc94ba2764ec",
     "grade": false,
     "grade_id": "cell-f2b2a53f6e2461a8",
     "locked": true,
     "schema_version": 3,
     "solution": false,
     "task": false
    }
   },
   "source": [
    "(e) At what age do players on average have the highest value? At what age the highest rating? Use the **groupby** and the **apply** method. Your answer should be a tuple named answer consisting of two integers."
   ]
  },
  {
   "cell_type": "code",
   "execution_count": null,
   "metadata": {
    "deletable": false,
    "nbgrader": {
     "cell_type": "code",
     "checksum": "fcc2dc50cdfd2da167e681b5a70c05d6",
     "grade": false,
     "grade_id": "cell-cdf9e4ad2c6ff9de",
     "locked": false,
     "schema_version": 3,
     "solution": true,
     "task": false
    }
   },
   "outputs": [],
   "source": [
    "## (e)\n",
    "# YOUR CODE HERE"
   ]
  },
  {
   "cell_type": "code",
   "execution_count": null,
   "metadata": {
    "deletable": false,
    "editable": false,
    "nbgrader": {
     "cell_type": "code",
     "checksum": "4cfc9f235b71569c06b1f35135a3abab",
     "grade": true,
     "grade_id": "cell-0209bfa55fa2fc38",
     "locked": true,
     "points": 1,
     "schema_version": 3,
     "solution": false,
     "task": false
    }
   },
   "outputs": [],
   "source": [
    "## THIS IS A TEST CELL!"
   ]
  },
  {
   "cell_type": "markdown",
   "metadata": {
    "deletable": false,
    "editable": false,
    "nbgrader": {
     "cell_type": "markdown",
     "checksum": "9c9c8608aac6160ac3bec1f957bdc6d9",
     "grade": false,
     "grade_id": "cell-3dcfec900059ebac",
     "locked": true,
     "schema_version": 3,
     "solution": false,
     "task": false
    }
   },
   "source": [
    "(f) Write a function **standardize** that takes a series or dataframe column and standardizes its data, i.e. transforms each value by removing the mean and by dividing by the standard deviation:\n",
    "\\begin{equation}\n",
    "    \\tilde{x}_i = \\frac{x_i - mean(x)}{std(x)}\n",
    "\\end{equation}\n",
    "When computing the standard deviation, keep the default settings.\n",
    "\n",
    "Create a new DataFrame **df_stand** as a copy of **df**. Use the **apply** to standardize **df_stand**. Keep in mind that **apply** only works if all columns have the right data type; use **drop** to get rid of those column that don't."
   ]
  },
  {
   "cell_type": "code",
   "execution_count": null,
   "metadata": {
    "deletable": false,
    "nbgrader": {
     "cell_type": "code",
     "checksum": "bcbfa98e9dd38e3b2e4725086cd05412",
     "grade": false,
     "grade_id": "cell-c8d9f2016de7d4e3",
     "locked": false,
     "schema_version": 3,
     "solution": true,
     "task": false
    }
   },
   "outputs": [],
   "source": [
    "## (f)\n",
    "# YOUR CODE HERE"
   ]
  },
  {
   "cell_type": "code",
   "execution_count": null,
   "metadata": {
    "deletable": false,
    "editable": false,
    "nbgrader": {
     "cell_type": "code",
     "checksum": "4ec7cb22b86c0447f158e402ba40ad63",
     "grade": true,
     "grade_id": "cell-59db52ca119feaae",
     "locked": true,
     "points": 1,
     "schema_version": 3,
     "solution": false,
     "task": false
    }
   },
   "outputs": [],
   "source": [
    "s = pd.Series([1,2,3,4,5])\n",
    "assert np.allclose(standardize(s), pd.Series([-1.264911,-0.632456,0,0.632456,1.264911]) )"
   ]
  },
  {
   "cell_type": "code",
   "execution_count": null,
   "metadata": {
    "deletable": false,
    "editable": false,
    "nbgrader": {
     "cell_type": "code",
     "checksum": "c8a66f897f04a313e0a23143f02af721",
     "grade": true,
     "grade_id": "cell-1d0cb3bc12a0ab95",
     "locked": true,
     "points": 1,
     "schema_version": 3,
     "solution": false,
     "task": false
    }
   },
   "outputs": [],
   "source": [
    "## THIS IS A TEST CELL!"
   ]
  },
  {
   "cell_type": "markdown",
   "metadata": {
    "deletable": false,
    "editable": false,
    "nbgrader": {
     "cell_type": "markdown",
     "checksum": "c829f40581fa8468b73af9f1b7947659",
     "grade": false,
     "grade_id": "cell-72202bc99d1724f7",
     "locked": true,
     "schema_version": 3,
     "solution": false,
     "task": false
    }
   },
   "source": [
    "## Question 2\n",
    "\n",
    "Solve the following problem using *constrained optimization*\n",
    "\n",
    "$$\n",
    "    \\min_{\\mathbf{x}}\\ x_1 x_4  (x_1 + x_2 + x_3) + x_3\n",
    "$$\n",
    "\n",
    "s.t. \n",
    "$$\n",
    "  x_1  x_2  x_3  x_4 >= 25  \n",
    "$$\n",
    "\n",
    "$$\n",
    "  x_1^2  x_2^2  x_3^2  x_4^2 = 40  \n",
    "$$\n",
    "\n",
    "and $1 \\le x_j \\le 5$ for $j =1,2,3,4$. You can use $x0 = (1,5,5,1)$ as an initial guess. Save your solution vector under the name **x_sol**.\n",
    "\n",
    "**Hint**: In order to solve the question, apart from the initial guess, you need to define three functions (either using **def** or the **lambda** notation), a list of dictionaries and a list of tuples. "
   ]
  },
  {
   "cell_type": "code",
   "execution_count": null,
   "metadata": {
    "deletable": false,
    "nbgrader": {
     "cell_type": "code",
     "checksum": "1eee8020f471127245d9bdfc2f3e95bb",
     "grade": false,
     "grade_id": "cell-b1ba99b8320ee796",
     "locked": false,
     "schema_version": 3,
     "solution": true,
     "task": false
    }
   },
   "outputs": [],
   "source": [
    "# YOUR CODE HERE"
   ]
  },
  {
   "cell_type": "code",
   "execution_count": null,
   "metadata": {
    "deletable": false,
    "editable": false,
    "nbgrader": {
     "cell_type": "code",
     "checksum": "bf6b2366f0a7f5701db1b6fbcaed3053",
     "grade": true,
     "grade_id": "cell-44b691247402081f",
     "locked": true,
     "points": 5,
     "schema_version": 3,
     "solution": false,
     "task": false
    }
   },
   "outputs": [],
   "source": [
    "assert np.allclose(x_sol, np.array([1. , 4.74299607, 3.82115466, 1.37940764]))"
   ]
  },
  {
   "cell_type": "markdown",
   "metadata": {
    "deletable": false,
    "editable": false,
    "nbgrader": {
     "cell_type": "markdown",
     "checksum": "2d23b8fda749c6c86ae2a22262dfd6f8",
     "grade": false,
     "grade_id": "cell-45473838c3aa02d7",
     "locked": true,
     "schema_version": 3,
     "solution": false,
     "task": false
    }
   },
   "source": [
    "## Question 3\n",
    "*Based on Judd(1998), chapter 4, question 2*. Consider an endowment economy with $m$ agents and $n$ goods. Throughout this question, *superscripts* will indicate agents, while *subscripts* will indicate goods.\n",
    "\n",
    "Assume that agent $i$'s utility function over the $n$ goods is \n",
    "\n",
    "\\begin{equation}\n",
    "    u^{i}(\\mathbf{x}^i) = \\sum^{n}_{j = 1} a^i_j (x^i_j)^{v^i_j + 1} (1 + v^i_j)^{-1} \n",
    "\\end{equation}\n",
    "\n",
    "Suppose that agent $i$'s endowment of good $j$ is $e^i_j$. Assume that $a^i_j, e^i_j > 0$ and $v^i_j < 0$ (for $v^i_j =-1$, we replace $(x^i_j)^{v^i_j + 1} (1 + v^i_j)^{-1}$ with $\\ln x^i_j$). \n",
    "\n",
    "In this question, we use *numerical optimization* to solve for the outcome of the planning problem, in which the planner maximizes total welfare:\n",
    "\n",
    "$$\n",
    "    \\max_{\\left\\{\\mathbf{x}^i\\right\\}_{i = 1}^m} \\sum_{i = 1}^m \\lambda^i u^{i}(\\mathbf{x}^i) \n",
    "$$\n",
    "subject to the resource constraint:\n",
    "<a id = 'rc'></a>\n",
    "\\begin{equation}\n",
    "    \\sum^{m}_{i = 1} x_j^i = \\sum^{m}_{i = 1} e_j^i, \\quad \\forall j \\tag{RC}\n",
    "\\end{equation}\n",
    "\n",
    "\n",
    "where $\\lambda^i$ is the social weight associated with agent $i$. We will consider a case with $m = 2$ (two agents) and $n = 3$ (three goods; however, note that your code should be written in a way that it works for any number $n$!). Assume the following values for the parameters:"
   ]
  },
  {
   "cell_type": "code",
   "execution_count": null,
   "metadata": {
    "deletable": false,
    "editable": false,
    "nbgrader": {
     "cell_type": "code",
     "checksum": "822b2ad2dce6e98d76505053c2d3ef20",
     "grade": false,
     "grade_id": "cell-ec79105103171ce3",
     "locked": true,
     "schema_version": 3,
     "solution": false,
     "task": false
    }
   },
   "outputs": [],
   "source": [
    "## read parameters\n",
    "A = np.array([ [2.0, 1.5, 1.5],\n",
    "               [1.5, 2.0, 1.5]])\n",
    "\n",
    "V = np.array([ [-2.0, -0.5, -0.5],\n",
    "               [-1.5, -0.5, -1.5]])\n",
    "\n",
    "E = np.array([ [2.0, 3.0, 0.0],\n",
    "               [1.0, 2.0, 4.0]])"
   ]
  },
  {
   "cell_type": "markdown",
   "metadata": {
    "deletable": false,
    "editable": false,
    "nbgrader": {
     "cell_type": "markdown",
     "checksum": "5f08c27e20b68b05759922c15db609c0",
     "grade": false,
     "grade_id": "cell-0ced49eeb5545a09",
     "locked": true,
     "schema_version": 3,
     "solution": false,
     "task": false
    }
   },
   "source": [
    "The way to read these matrices is that an agent corresponds to a row and a good to a column. For example, agent 1's endowment of good 2, $e^1_2$, would be the element in the first row and second column of matrix **E**, and hence $e^1_2 = 3.0$."
   ]
  },
  {
   "cell_type": "markdown",
   "metadata": {
    "deletable": false,
    "editable": false,
    "nbgrader": {
     "cell_type": "markdown",
     "checksum": "8cdfd6bde803276ae2df5373e0707a8e",
     "grade": false,
     "grade_id": "cell-a4824d6935dfbcd2",
     "locked": true,
     "schema_version": 3,
     "solution": false,
     "task": false
    }
   },
   "source": [
    "(a) Write a function **objective_uncon** that takes as inputs a flat array **x1**, the arrays **A**, **V** and **E** given above, and a flat array **lam** containing the social weights $\\lambda^1$ and $\\lambda^2 = 1 - \\lambda^1$, and returns the *negative* of total welfare as defined above (recall that we face a *maximization* problem here!). \n",
    "\n",
    "**Hint**: A slightly tricky issue when answering this question using *unconstrained* numerical optimization methods is how to deal with the constraint that aggregate consumption of good $j$ must equal aggregate endowments, i.e.\n",
    "\n",
    "\\begin{equation}\n",
    "    \\sum^{m}_{i = 1} x_j^i = \\sum^{m}_{i = 1} e_j^i\n",
    "\\end{equation}\n",
    "\n",
    "With two agents, this can be easily addressed by maximizing over the consumption choice of agent 1, and then computing the consumption of agent 2 as the *residual*. Hence, for good $j$:\n",
    "\n",
    "\\begin{equation}\n",
    "    x_j^2 = \\sum^{2}_{i = 1} e^i_j - x_j^1\n",
    "\\end{equation}\n",
    "\n",
    "Thus, the input in the **objective_uncon** function is a flat array of length $n$, in the example here of length 3, representing the vector $\\mathbf{x}^1 = (x^1_1, x^1_2, x^1_3)$."
   ]
  },
  {
   "cell_type": "code",
   "execution_count": null,
   "metadata": {
    "deletable": false,
    "nbgrader": {
     "cell_type": "code",
     "checksum": "2f1408f1dc94e361b3a3131ca841f7b6",
     "grade": false,
     "grade_id": "cell-0f3c606180bdb376",
     "locked": false,
     "schema_version": 3,
     "solution": true,
     "task": false
    }
   },
   "outputs": [],
   "source": [
    "def objective_uncon(x1, V, A, E, lam):\n",
    "    \"\"\"\n",
    "    Implements the objective function for the social planner problem with two agents and n goods\n",
    "    \n",
    "    ((n,)np.array, (m,n)np.array, (m,n)np.array, (m,n)np.array, (m,)np.array ) -> float\n",
    "    \"\"\"\n",
    "    ## get dimension of the problem \n",
    "    m, n = V.shape ## number of agents, number of good\n",
    "\n",
    "    ## check if the parameter matrices have the correct dimensions \n",
    "    assert A.shape == (m, n), \"The dimensions of A and V must coincide!\"\n",
    "    assert E.shape == (m, n), \"The dimensions of E and V must coincide!\"\n",
    "    assert len(lam) == m, \"The length of lam is not consistent with the dimensions of V!\"\n",
    "    \n",
    "    ## The remainder of the function below should include the following steps:\n",
    "    ## 1. compute x2 for given x1 and E \n",
    "    ## 2. compute total welfare from x1, x2, lam, V and A\n",
    "    \n",
    "    \n",
    "    # YOUR CODE HERE"
   ]
  },
  {
   "cell_type": "code",
   "execution_count": null,
   "metadata": {
    "deletable": false,
    "editable": false,
    "nbgrader": {
     "cell_type": "code",
     "checksum": "2a1fa202b8b02b330008618624b1493a",
     "grade": true,
     "grade_id": "cell-f2778041df07ecff",
     "locked": true,
     "points": 5,
     "schema_version": 3,
     "solution": false,
     "task": false
    }
   },
   "outputs": [],
   "source": [
    "x0 = np.array([2., 2., 2.])\n",
    "lam1 = 0.5\n",
    "lam = np.array([lam1, 1-lam1])\n",
    "objective_uncon(x0, V, A, E, lam)\n",
    "\n",
    "assert np.allclose(objective_uncon(x0, V, A, E, lam), -4.646082130477218) "
   ]
  },
  {
   "cell_type": "markdown",
   "metadata": {
    "deletable": false,
    "editable": false,
    "nbgrader": {
     "cell_type": "markdown",
     "checksum": "81a77cce550ea1f9f885b904809a9152",
     "grade": false,
     "grade_id": "cell-bb92e0aef9b2ac83",
     "locked": true,
     "schema_version": 3,
     "solution": false,
     "task": false
    }
   },
   "source": [
    "(b) Using Scipy's BFGS implementation, compute the solution to the planning problem. You should report a tuple **x_sol** that consists of arrays **x1** and **x2**, the consumption vector for agents 1 and 2, respectively. "
   ]
  },
  {
   "cell_type": "code",
   "execution_count": null,
   "metadata": {
    "deletable": false,
    "nbgrader": {
     "cell_type": "code",
     "checksum": "8058349cf4b5ab358eac27c2d9efb46a",
     "grade": false,
     "grade_id": "cell-86df3bba0f0249f9",
     "locked": false,
     "schema_version": 3,
     "solution": true,
     "task": false
    }
   },
   "outputs": [],
   "source": [
    "## b)\n",
    "x0 = np.array([2., 2., 2.])\n",
    "lam1 = 0.5\n",
    "lam = np.array([lam1, 1-lam1])\n",
    "# YOUR CODE HERE"
   ]
  },
  {
   "cell_type": "code",
   "execution_count": null,
   "metadata": {
    "deletable": false,
    "editable": false,
    "nbgrader": {
     "cell_type": "code",
     "checksum": "4bdb13e98764e23aec38b7e9240f1cf8",
     "grade": true,
     "grade_id": "cell-d4ceaca73deb9b15",
     "locked": true,
     "points": 3,
     "schema_version": 3,
     "solution": false,
     "task": false
    }
   },
   "outputs": [],
   "source": [
    "assert np.allclose(x_sol,  (np.array([1.53646326, 1.79999756, 2.62120338]), np.array([1.46353674, 3.20000244, 1.37879662])) ) "
   ]
  },
  {
   "cell_type": "markdown",
   "metadata": {},
   "source": [
    "(c) Alternatively, we can use constrained optimization to solve the same problem. Write a function **objective_con** that takes as inputs a flat array **x**, the arrays **A**, **V** and **E** given above, and a flat array **lam**. This function is very similar to the function defined in question (a). The important difference here is that we maximize over the quantities of agent 1 and agent 2 simultaneously. Hence, the input **x** has length $2n$, here 6. \n",
    "\n",
    "**Hint**: Depending on how you set up your function, the following property of the Numpy's **resize** method may be useful (you do not have to use this to answer the question though!): "
   ]
  },
  {
   "cell_type": "code",
   "execution_count": null,
   "metadata": {
    "deletable": false,
    "editable": false,
    "nbgrader": {
     "cell_type": "code",
     "checksum": "908bbe4c5fda899ef2bb8af6fb934397",
     "grade": false,
     "grade_id": "cell-274b91e117ff53e4",
     "locked": true,
     "schema_version": 3,
     "solution": false,
     "task": false
    }
   },
   "outputs": [],
   "source": [
    "B = np.array(['a', 'b', 'c', 'd', 'e', 'f'])\n",
    "B.resize((2,3))\n",
    "print(B)"
   ]
  },
  {
   "cell_type": "code",
   "execution_count": null,
   "metadata": {
    "deletable": false,
    "nbgrader": {
     "cell_type": "code",
     "checksum": "4f9a3e3bb66d3c72a8139fea12737b85",
     "grade": false,
     "grade_id": "cell-731dacf14ab2188a",
     "locked": false,
     "schema_version": 3,
     "solution": true,
     "task": false
    }
   },
   "outputs": [],
   "source": [
    "## c)\n",
    "\n",
    "def objective_con(x, V, A, E, lam):\n",
    "    \"\"\"\n",
    "    Computes the objective function for the m-by-n social planner problem\n",
    "    \n",
    "    ((m*n,)np.array, (m,n)np.array, (m,n)np.array, (m,n)np.array, (m,)np.array ) -> float\n",
    "    \"\"\"\n",
    "    ## get dimension of the problem \n",
    "    m, n = V.shape ## number of agents, number of good\n",
    "\n",
    "    ## check if the parameter matrices have the correct dimensions \n",
    "    assert A.shape == (m, n), \"The dimensions of A and V must coincide!\"\n",
    "    assert E.shape == (m, n), \"The dimensions of E and V must coincide!\"\n",
    "    assert len(lam) == m, \"The length of lam is not consistent with the dimensions of V!\"\n",
    "    \n",
    "    # YOUR CODE HERE\n"
   ]
  },
  {
   "cell_type": "code",
   "execution_count": null,
   "metadata": {
    "deletable": false,
    "editable": false,
    "nbgrader": {
     "cell_type": "code",
     "checksum": "4931e9c2081bc05462f98559b6cf2d4b",
     "grade": true,
     "grade_id": "cell-f972f1be475dc841",
     "locked": true,
     "points": 2,
     "schema_version": 3,
     "solution": false,
     "task": false
    }
   },
   "outputs": [],
   "source": [
    "# THIS IS A TEST CELL!"
   ]
  },
  {
   "cell_type": "markdown",
   "metadata": {
    "deletable": false,
    "editable": false,
    "nbgrader": {
     "cell_type": "markdown",
     "checksum": "09a62998ccd0590305da48c02059db3b",
     "grade": false,
     "grade_id": "cell-21ef6a8bcc1f7432",
     "locked": true,
     "schema_version": 3,
     "solution": false,
     "task": false
    }
   },
   "source": [
    "(d) Below, I give you a function **resource** which is used to define the resource constraint [RC](#rc) in the **constr** list. With this list, solve the constrained optimization problem (recall to define bounds for the variables!). Report your results in a flat Numpy array called **x_sol2**. "
   ]
  },
  {
   "cell_type": "code",
   "execution_count": null,
   "metadata": {
    "deletable": false,
    "editable": false,
    "nbgrader": {
     "cell_type": "code",
     "checksum": "04365bd05a5fbb1a9bd070589e77d795",
     "grade": false,
     "grade_id": "cell-a8d51e2f94520419",
     "locked": true,
     "schema_version": 3,
     "solution": false,
     "task": false
    }
   },
   "outputs": [],
   "source": [
    "def resource(x, V, A, E, lam):\n",
    "    \"\"\"\n",
    "    Computes an m-by-n consumption matrix from solution vector x and endowments E;\n",
    "    Agent n's consumption is computed as the residual comsumption \n",
    "    \"\"\"\n",
    "    ## get dimension of the endowment matrix\n",
    "    m, n = E.shape\n",
    "    ## reshape x into matrix X \n",
    "    X = x.copy()\n",
    "    X.resize((m, n))\n",
    "    ## compute and return residual consumption\n",
    "    return E.sum(axis = 0) - X.sum(axis = 0)\n",
    "\n",
    "constr = [{'type': 'eq', 'fun': resource, 'args': (V, A, E, lam)}]"
   ]
  },
  {
   "cell_type": "code",
   "execution_count": null,
   "metadata": {
    "deletable": false,
    "nbgrader": {
     "cell_type": "code",
     "checksum": "b87382eafff7e59de76524e826f1596c",
     "grade": false,
     "grade_id": "cell-1f477cd78aef5c2a",
     "locked": false,
     "schema_version": 3,
     "solution": true,
     "task": false
    }
   },
   "outputs": [],
   "source": [
    "x0 = np.array([2., 2., 2., 1., 3., 2.])\n",
    "lam1 = 0.5\n",
    "lam = np.array([lam1, 1-lam1]) \n",
    "# YOUR CODE HERE"
   ]
  },
  {
   "cell_type": "code",
   "execution_count": null,
   "metadata": {
    "deletable": false,
    "editable": false,
    "nbgrader": {
     "cell_type": "code",
     "checksum": "43530bbfd244d1420b6b08f59d1f9f42",
     "grade": true,
     "grade_id": "cell-acc5fb3f96593ac0",
     "locked": true,
     "points": 3,
     "schema_version": 3,
     "solution": false,
     "task": false
    }
   },
   "outputs": [],
   "source": [
    "assert np.allclose(x_sol2, np.array([1.53677822, 1.79949481, 2.62096144, 1.46322178, 3.20050519, 1.37903856])) "
   ]
  }
 ],
 "metadata": {
  "kernelspec": {
   "display_name": "Python 3",
   "language": "python",
   "name": "python3"
  },
  "language_info": {
   "codemirror_mode": {
    "name": "ipython",
    "version": 3
   },
   "file_extension": ".py",
   "mimetype": "text/x-python",
   "name": "python",
   "nbconvert_exporter": "python",
   "pygments_lexer": "ipython3",
   "version": "3.7.5"
  }
 },
 "nbformat": 4,
 "nbformat_minor": 1
}
