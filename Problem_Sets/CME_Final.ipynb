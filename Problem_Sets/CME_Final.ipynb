{
 "cells": [
  {
   "cell_type": "markdown",
   "metadata": {},
   "source": [
    "Before you turn this problem in, make sure everything runs as expected. First, **restart the kernel** (in the menubar, select Kernel$\\rightarrow$Restart) and then **run all cells** (in the menubar, select Cell$\\rightarrow$Run All).\n",
    "\n",
    "Make sure you fill in any place that says `YOUR CODE HERE`, as well as your name below:"
   ]
  },
  {
   "cell_type": "code",
   "execution_count": null,
   "metadata": {},
   "outputs": [],
   "source": [
    "NAME = \"\""
   ]
  },
  {
   "cell_type": "markdown",
   "metadata": {},
   "source": [
    "Note: some of the cells below are locked, so you cannot change them, but you can evaluate them!"
   ]
  },
  {
   "cell_type": "markdown",
   "metadata": {},
   "source": [
    "---"
   ]
  },
  {
   "cell_type": "markdown",
   "metadata": {
    "deletable": false,
    "editable": false,
    "nbgrader": {
     "cell_type": "markdown",
     "checksum": "69e2b2c71a7d1a0485364ca599a0432d",
     "grade": false,
     "grade_id": "cell-ff41bfd971742b5f",
     "locked": true,
     "schema_version": 3,
     "solution": false,
     "task": false
    }
   },
   "source": [
    "# Computational Methods in Economics (WiSe 2019/20)\n",
    "\n",
    "## Exam Question"
   ]
  },
  {
   "cell_type": "markdown",
   "metadata": {
    "deletable": false,
    "editable": false,
    "nbgrader": {
     "cell_type": "markdown",
     "checksum": "f05169404475b29ff26075cec8ea316a",
     "grade": false,
     "grade_id": "cell-e75e3fe42a0df63a",
     "locked": true,
     "schema_version": 3,
     "solution": false,
     "task": false
    }
   },
   "source": [
    "#### DEADLINE: Tuesday, February 11, 6 pm (18:00)\n",
    "\n",
    "Please submit your answer in the same way as the problem sets: save this notebook in a folder of the same name (`CME_Final`) and push it to your LRZ-Gitlab repository. Do not change the name of the notebook!"
   ]
  },
  {
   "cell_type": "code",
   "execution_count": null,
   "metadata": {
    "deletable": false,
    "editable": false,
    "nbgrader": {
     "cell_type": "code",
     "checksum": "9927e454eb7de095ff5187e9b6ee7e7e",
     "grade": false,
     "grade_id": "cell-b4c9c272344a4f2a",
     "locked": true,
     "schema_version": 3,
     "solution": false,
     "task": false
    }
   },
   "outputs": [],
   "source": [
    "import numpy as np\n",
    "import pandas as pd\n",
    "import scipy.optimize\n",
    "\n",
    "import matplotlib.pyplot as plt\n",
    "%matplotlib inline\n",
    "\n",
    "import funapprox_cme as fa "
   ]
  },
  {
   "cell_type": "markdown",
   "metadata": {
    "deletable": false,
    "editable": false,
    "nbgrader": {
     "cell_type": "markdown",
     "checksum": "ebca2c5e16ac26bb38598b3ea4237d1d",
     "grade": false,
     "grade_id": "cell-45473838c3aa02d7",
     "locked": true,
     "schema_version": 3,
     "solution": false,
     "task": false
    }
   },
   "source": [
    "Consider an endowment economy with $m$ agents and $n$ goods. Throughout this question, *superscripts* will indicate agents, while *subscripts* will indicate goods.\n",
    "\n",
    "Agent $i$'s utility function over the $n$ goods is given by:\n",
    "\n",
    "\\begin{equation}\n",
    "    u^{i}(\\mathbf{x}^i) = \\sum^{n}_{j = 1} a^i_j (x^i_j)^{v^i_j + 1} (1 + v^i_j)^{-1} \n",
    "\\end{equation}\n",
    "\n",
    "Suppose that agent $i$'s endowment of good $j$ is $e^i_j$. Assume that $a^i_j, e^i_j > 0$ and $v^i_j < 0$ (for $v^i_j =-1$, we replace $(x^i_j)^{v^i_j + 1} (1 + v^i_j)^{-1}$ with $\\ln x^i_j$). \n",
    "\n",
    "The parameters $v^i_j$, $a^i_j$ and $e^i_j$ are given as Numpy arrays. For example, for a setting with $m = 3$ (three agents) and $n = 2$ (two goods):"
   ]
  },
  {
   "cell_type": "code",
   "execution_count": null,
   "metadata": {
    "deletable": false,
    "editable": false,
    "nbgrader": {
     "cell_type": "code",
     "checksum": "b58b479c3cbdcdf343f632ad8b3b8900",
     "grade": false,
     "grade_id": "cell-ec79105103171ce3",
     "locked": true,
     "schema_version": 3,
     "solution": false,
     "task": false
    }
   },
   "outputs": [],
   "source": [
    "## read parameters\n",
    "A = np.array([ [2.0, 1.5],\n",
    "               [1.5, 2.0],\n",
    "               [1.5, 2.0]  ])\n",
    "\n",
    "V = np.array([ [-2.0, -0.5],\n",
    "               [-1.5, -0.5],\n",
    "               [-0.5, -1.5] ])\n",
    "\n",
    "E = np.array([ [2.0, 3.0],\n",
    "               [1.0, 2.0],\n",
    "               [4.0, 0.0]  ])\n"
   ]
  },
  {
   "cell_type": "markdown",
   "metadata": {
    "deletable": false,
    "editable": false,
    "nbgrader": {
     "cell_type": "markdown",
     "checksum": "5f08c27e20b68b05759922c15db609c0",
     "grade": false,
     "grade_id": "cell-0ced49eeb5545a09",
     "locked": true,
     "schema_version": 3,
     "solution": false,
     "task": false
    }
   },
   "source": [
    "The way to read these matrices is that an agent corresponds to a row and a good to a column. For example, agent 1's endowment of good 2, $e^1_2$, would be the element in the first row and second column of matrix **E**, and hence $e^1_2 = 3.0$."
   ]
  },
  {
   "cell_type": "markdown",
   "metadata": {
    "collapsed": true,
    "deletable": false,
    "editable": false,
    "nbgrader": {
     "cell_type": "markdown",
     "checksum": "e27db39a5cc1622756bb1650943a3fe8",
     "grade": false,
     "grade_id": "cell-de9391e4b85c9487",
     "locked": true,
     "schema_version": 3,
     "solution": false,
     "task": false
    }
   },
   "source": [
    "-------------------------------------------------------------------------------------------------------------------------------\n",
    "\n",
    "(a) In this question, we use *numerical optimization* to solve for the outcome of the planning problem, in which the planner maximizes total welfare:\n",
    "\n",
    "$$\n",
    "    \\max_{\\left\\{\\mathbf{x}^i\\right\\}_{i = 1}^m} \\sum_{i = 1}^m \\lambda^i u^{i}(\\mathbf{x}^i) \\tag{1}\n",
    "$$\n",
    "\n",
    "subject to the resource constraint, i.e. aggregate consumption of good $j$ must equal aggregate endowments:\n",
    "\n",
    "<a id = 'rc'></a>\n",
    "\\begin{equation}\n",
    "    \\sum^{m}_{i = 1} x_j^i = \\sum^{m}_{i = 1} e_j^i, \\quad \\forall j \\tag{RC}\n",
    "\\end{equation}\n",
    "\n",
    "where $\\lambda^i$ is the social weight associated with agent $i$.\n",
    "\n",
    "\n",
    "\n",
    "Write a function **solve_planner** that takes as inputs an array **x0**, the arrays **V**, **A** and **E** (each of them with dimension $m$-by-$n$), and a flat array **lam** with length $m$ containing the social weights $\\lambda^1,...,\\lambda^m$ (compare equation (1)), and returns the solution to the social planner's problem. That is, it should return an $m$-by-$n$ Numpy array **X**, where element $x^i_{j}$ is the planner's allocation of good $j$ to agent $i$. **x0** contains the initial guess, and can be either flat (with length $m \\cdot n$) or of dimension $m$-by-$n$.\n",
    "\n",
    "You can use *either constrained or unconstrained numerical optimization*, and make use of any built-in Python function. Note that your code should be written (and will be tested!) in a way that it works for any numbers $m$ and $n$.\n",
    "\n",
    "\n",
    "**Hint**: A slightly tricky issue when answering this question using *unconstrained* numerical optimization methods is how to deal with the constraint \n",
    "\n",
    "\\begin{equation}\n",
    "    \\sum^{n}_{i = 1} x_j^i = \\sum^{n}_{i = 1} e_j^i\n",
    "\\end{equation}\n",
    "\n",
    "One way to address this is to have the algorithm solve for the optimal consumption for $m - 1$ agents and evaluate the consumption and hence the utility of the last agent *as the residual*. Formally, for good $j$,\n",
    "\n",
    "\\begin{equation}\n",
    "    x_j^m = \\sum^{m}_{i = 1} e_j^i - \\sum^{m-1}_{i = 1} x_j^i\n",
    "\\end{equation}\n",
    "\n",
    "\n"
   ]
  },
  {
   "cell_type": "code",
   "execution_count": null,
   "metadata": {
    "deletable": false,
    "nbgrader": {
     "cell_type": "code",
     "checksum": "0cc0aa4d81709ea6d7d327530ea6f937",
     "grade": false,
     "grade_id": "cell-e74058a6d2411f5e",
     "locked": false,
     "schema_version": 3,
     "solution": true,
     "task": false
    }
   },
   "outputs": [],
   "source": [
    "# YOUR CODE HERE"
   ]
  },
  {
   "cell_type": "code",
   "execution_count": null,
   "metadata": {
    "deletable": false,
    "editable": false,
    "nbgrader": {
     "cell_type": "code",
     "checksum": "18ba5d7a2e3cf45b754647a30c83d967",
     "grade": true,
     "grade_id": "cell-ec21f728517f98d2",
     "locked": true,
     "points": 2,
     "schema_version": 3,
     "solution": false,
     "task": false
    }
   },
   "outputs": [],
   "source": [
    "## test case from PS4\n",
    "\n",
    "A = np.array([ [2.0, 1.5, 1.5],\n",
    "               [1.5, 2.0, 1.5]])\n",
    "\n",
    "V = np.array([ [-2.0, -0.5, -0.5],\n",
    "               [-1.5, -0.5, -1.5]])\n",
    "\n",
    "E = np.array([ [2.0, 3.0, 0.0],\n",
    "               [1.0, 2.0, 4.0]])\n",
    "\n",
    "x0 = np.array([2., 2., 2., 1., 3., 2.])\n",
    "lam1 = 0.5\n",
    "lam = np.array([lam1, 1-lam1])\n",
    "assert np.allclose( solve_planner(x0, V, A, E, lam), np.array([[1.53677822, 1.79949481, 2.62096144], \n",
    "                                                               [1.46322178, 3.20050519, 1.37903856]]), atol = 1e-2 )"
   ]
  },
  {
   "cell_type": "code",
   "execution_count": null,
   "metadata": {
    "deletable": false,
    "editable": false,
    "nbgrader": {
     "cell_type": "code",
     "checksum": "347f5918692cdbec05671b8002466bfe",
     "grade": true,
     "grade_id": "cell-b8242159039caa9c",
     "locked": true,
     "points": 3,
     "schema_version": 3,
     "solution": false,
     "task": false
    }
   },
   "outputs": [],
   "source": [
    "## THIS IS A TEST CELL!"
   ]
  },
  {
   "cell_type": "markdown",
   "metadata": {
    "deletable": false,
    "editable": false,
    "nbgrader": {
     "cell_type": "markdown",
     "checksum": "b324db60adcf3ec7cd055d4e153c6244",
     "grade": false,
     "grade_id": "cell-d4122beff1ffc1ff",
     "locked": true,
     "schema_version": 3,
     "solution": false,
     "task": false
    }
   },
   "source": [
    "-------------------------------------------------------------------------------------------------------------------------------\n",
    "\n",
    "(b) Note that the planning solution does not depend on how initial endowments are distributed between agents; all that matters are the total endowments (across agents) of goods. To illustrate this, consider the case with $m = 3$ agents and $n = 2$ goods. Here, we are interested in how agent 3's consumption of good 1, $x^3_1$, changes compared to agent 1's consumption $x^1_1$, when agent 1's endowment of good 1, $e^1_1$, increases. In other words, we want to find (that is, approximate) the functions $x^1_1 = \\pi(e_1^1)$ and $x^3_1 = \\phi(e_1^1)$. \n",
    "\n",
    "Start with the following endowment matrix:"
   ]
  },
  {
   "cell_type": "code",
   "execution_count": null,
   "metadata": {
    "deletable": false,
    "editable": false,
    "nbgrader": {
     "cell_type": "code",
     "checksum": "3446569fd74e140dd6468bc9d9c5b5b4",
     "grade": false,
     "grade_id": "cell-9f1881db017d5b60",
     "locked": true,
     "schema_version": 3,
     "solution": false,
     "task": false
    }
   },
   "outputs": [],
   "source": [
    "E0 = np.array([ [0.0, 3.0],\n",
    "               [1.0, 2.0],\n",
    "               [4.0, 0.0]  ])"
   ]
  },
  {
   "cell_type": "markdown",
   "metadata": {
    "deletable": false,
    "editable": false,
    "nbgrader": {
     "cell_type": "markdown",
     "checksum": "039d427092bd3eee3af625f06e657675",
     "grade": false,
     "grade_id": "cell-29b349a1354d140c",
     "locked": true,
     "schema_version": 3,
     "solution": false,
     "task": false
    }
   },
   "source": [
    "To find your data points, you should only vary the first element (**E[0,0]**). Keep all other values constant. Approximate the functions using 9 grid points, making use of your **solve_planner** function from question (a), for the inputs given below. Hence, you should return Numpy arrays **a_11** and **a_31** of length 9 that contain the corresponding approximation coefficients. Plot the approximated functions along a dense grid, and add labels and a legend to your plot. "
   ]
  },
  {
   "cell_type": "code",
   "execution_count": null,
   "metadata": {
    "deletable": false,
    "editable": false,
    "nbgrader": {
     "cell_type": "code",
     "checksum": "8d73cb1935acc92d3812a1fa3b32bd7c",
     "grade": false,
     "grade_id": "cell-6302755918ae6804",
     "locked": true,
     "schema_version": 3,
     "solution": false,
     "task": false
    }
   },
   "outputs": [],
   "source": [
    "A = np.array([ [2.0, 1.5],\n",
    "               [1.5, 2.0],\n",
    "               [1.5, 2.0]  ])\n",
    "\n",
    "V = np.array([ [-2.0, -0.5],\n",
    "               [-1.5, -0.5],\n",
    "               [-0.5, -1.5] ])\n",
    "\n",
    "\n",
    "X0 = np.array([[1., 2.], [2., 2.], [2., 1.]])  \n",
    "lam1, lam2 = 0.5595, 0.324\n",
    "lam = np.array([lam1, lam2, 1-lam1-lam2])   "
   ]
  },
  {
   "cell_type": "code",
   "execution_count": null,
   "metadata": {
    "deletable": false,
    "nbgrader": {
     "cell_type": "code",
     "checksum": "556d299be9410489cc0e1195d8402890",
     "grade": false,
     "grade_id": "cell-5de944b9a1126804",
     "locked": false,
     "schema_version": 3,
     "solution": true,
     "task": false
    }
   },
   "outputs": [],
   "source": [
    "# YOUR CODE HERE"
   ]
  },
  {
   "cell_type": "code",
   "execution_count": null,
   "metadata": {
    "deletable": false,
    "editable": false,
    "nbgrader": {
     "cell_type": "code",
     "checksum": "38bcc211fa89cce6e24d232fab717e29",
     "grade": true,
     "grade_id": "cell-20838e7cc4cfc367",
     "locked": true,
     "points": 4,
     "schema_version": 3,
     "solution": false,
     "task": false
    }
   },
   "outputs": [],
   "source": [
    "## THIS IS A TEST CELL!"
   ]
  },
  {
   "cell_type": "markdown",
   "metadata": {
    "deletable": false,
    "editable": false,
    "nbgrader": {
     "cell_type": "markdown",
     "checksum": "3dad2a58f0aca8e5e056930ea4be809b",
     "grade": false,
     "grade_id": "cell-2cc0b37dda1d458b",
     "locked": true,
     "schema_version": 3,
     "solution": false,
     "task": false
    }
   },
   "source": [
    "-------------------------------------------------------------------------------------------------------------------------------\n",
    "(c) In this question, we use *root finding* to solve for a market equilibrium.  \n",
    "\n",
    "The problem of agent $i$ is given by\n",
    "\n",
    "\\begin{equation}\n",
    "    \\max_{x^i}\\ u^{i}(x^i) = \\sum^{n}_{j = 1} a^i_j (x^i_j)^{v^i_j + 1} (1 + v^i_j)^{-1} \n",
    "\\end{equation}\n",
    "\n",
    "s.t. $\\sum^{n}_{j = 1} p_j x^i_{j} = \\sum^{n}_{j = 1} p_j e^i_{j} $, where $p_j$ denotes the market price of good $j$. \n",
    "\n",
    "Taking first-conditions gives \n",
    "\n",
    "\\begin{equation}\n",
    "    \\frac{\\partial u^i(x^i)}{\\partial x^i_{j}} = u^i_{j}(x^i) = a^i_{j} (x^i_{j})^{v^i_{j}} = \\mu_i p_j,\\quad \\forall i,j \\tag{2}\n",
    "\\end{equation},\n",
    "\n",
    "where $\\mu_i$ is the Lagrange multiplier corresponding to agent $i$.\n",
    "\n",
    "Consider $n = 2$, and normalize prices such that $p_1 + p_2 = 1$. Equation (2) then results in one first-order conditions for each agent $i$:\n",
    "\n",
    "\\begin{equation}\n",
    "     \\frac{ a^i_{1} (x^i_{1})^{v^i_{1}} }{p_1} - \\frac{ a^i_{2} (x^i_{2})^{v^i_{2}} }{p_2} = 0\n",
    "\\end{equation}\n",
    "\n",
    "Moreover, we have one budget constraint per agent $i$:\n",
    "\n",
    "\\begin{equation}\n",
    "    p_1 x^i_{1} + p_2 x^i_{2} - p_1 e^i_{1} - p_2 e^i_{2} = 0\n",
    "\\end{equation}\n",
    "\n",
    "Finally, the markets clear, implying two resource constraints:\n",
    "\n",
    "\\begin{equation}\n",
    "    \\sum_{i} x^i_{1} = \\sum_{i}  e^i_{1},\\quad \\sum_{i} x^i_{2} = \\sum_{i}  e^i_{2}\n",
    "\\end{equation}\n",
    "\n",
    "In total, we have a system of $2m + 2$ equations - $m$ f.o.c.'s, $m$ budget constraints and two resource constraints - and $2m + 1$ unknown variables, $2m$ quantities $x^i_{j}$ and the price $p_1$ (recall that $p_2 = 1 - p_1$). \n",
    "\n",
    "Of course, Walras' law applies: in the context of this question, given that the agents' budget constraints all hold with equality, if we have an equilibrium on one market (i.e. no excess demand or supply), we must also have an equilibrium on the other market. Hence, we have to use only 7 of the 8 equations, without changing the problem. \n"
   ]
  },
  {
   "cell_type": "markdown",
   "metadata": {
    "deletable": false,
    "editable": false,
    "nbgrader": {
     "cell_type": "markdown",
     "checksum": "0b09f0298fe7ad28ddc3497da94ca58c",
     "grade": false,
     "grade_id": "cell-8541e95e91256b57",
     "locked": true,
     "schema_version": 3,
     "solution": false,
     "task": false
    }
   },
   "source": [
    "Write a function **S** that implements the system of non-linear equations outlined above. It takes a flat Numpy array **z** of length 7, as well as the arrays **V**, **A**, and **E** as inputs. Following the explanation above, omit market clearing for good 2 from your system. \n",
    "\n",
    "Note that since the algorithm should not consider negative values, you should use the \"trick\" with solving for the logarithms and using the exponential function. That is, element $z^i_j$ of your vector **z** is given by $z^i_j = \\log(x^i_j)$.\n",
    "\n",
    "\n",
    "Then, use write a function **solve_market** that takes the same arguments as **S** and uses Broyden's method to solve the system for the market equilibrium. It should return a *tuple*, where the first element is an array of dimension $m$-by-$2$ that contains the consumption quantities $x^i_j$, and the second element is the price $p_1$ (a scalar). "
   ]
  },
  {
   "cell_type": "markdown",
   "metadata": {
    "deletable": false,
    "editable": false,
    "nbgrader": {
     "cell_type": "markdown",
     "checksum": "169aba266d5658faffb05d87a710f8eb",
     "grade": false,
     "grade_id": "cell-5002e7de59f8078e",
     "locked": true,
     "schema_version": 3,
     "solution": false,
     "task": false
    }
   },
   "source": [
    "**Hint**: Comparing the planning solution in question (a) and the market equilibrium (c), since there are no externalities or other frictions in this economy, the welfare theorems hold; hence, both setups will lead to the same allocations, as long as the social weights $\\lambda_i$ and the initial endowments are chosen accordingly.\n",
    "\n",
    "The following scenario should lead to very similar consumption arrays in both (a) and (c):"
   ]
  },
  {
   "cell_type": "code",
   "execution_count": null,
   "metadata": {
    "deletable": false,
    "editable": false,
    "nbgrader": {
     "cell_type": "code",
     "checksum": "473d2cbcac0fb42eed4d8c446ce14a18",
     "grade": false,
     "grade_id": "cell-0208b8b67718a1b7",
     "locked": true,
     "schema_version": 3,
     "solution": false,
     "task": false
    }
   },
   "outputs": [],
   "source": [
    "lam1, lam2 = 0.5595, 0.324\n",
    "lam = np.array([lam1, lam2, 1-lam1-lam2]) \n",
    "\n",
    "\n",
    "A = np.array([ [2.0, 1.5],\n",
    "               [1.5, 2.0],\n",
    "               [1.5, 2.0]  ])\n",
    "\n",
    "V = np.array([ [-2.0, -0.5],\n",
    "               [-1.5, -0.5],\n",
    "               [-0.5, -1.5] ])\n",
    "\n",
    "E = np.array([ [2.0, 3.0],\n",
    "               [1.0, 2.0],\n",
    "               [4.0, 0.0]  ])\n",
    "\n"
   ]
  },
  {
   "cell_type": "code",
   "execution_count": null,
   "metadata": {
    "deletable": false,
    "nbgrader": {
     "cell_type": "code",
     "checksum": "4ab297690f73c4c4966fd0f92ecc044d",
     "grade": false,
     "grade_id": "cell-ed17d8faebb6c83e",
     "locked": false,
     "schema_version": 3,
     "solution": true,
     "task": false
    }
   },
   "outputs": [],
   "source": [
    "def S(z, V, A, E):\n",
    "    \"\"\"\n",
    "    Implements the system of equations to solve for the market equilibrium for m agents and two goods\n",
    "    \n",
    "    ((2m + 1,) np.array, (m,2) np.array, (m,2) np.array, (m,2) np.array) -> (2m + 1,) np.array\n",
    "    \"\"\"\n",
    "    # YOUR CODE HERE\n",
    "\n",
    "def solve_market(z0, V, A, E):\n",
    "    \"\"\"\n",
    "    Solves the system of equations to solve for the market equilibrium for m agents and two goods\n",
    "    \n",
    "    ((2m + 1,) np.array, (m,2) np.array, (m,2) np.array, (m,2) np.array) -> ( (m,2) np.array, float)\n",
    "    \"\"\"\n",
    "    # YOUR CODE HERE"
   ]
  },
  {
   "cell_type": "code",
   "execution_count": null,
   "metadata": {
    "deletable": false,
    "editable": false,
    "nbgrader": {
     "cell_type": "code",
     "checksum": "6d8d2b5d63a14adb3f41b013061ebbfa",
     "grade": true,
     "grade_id": "cell-0df91bbb28dfed99",
     "locked": true,
     "points": 2,
     "schema_version": 3,
     "solution": false,
     "task": false
    }
   },
   "outputs": [],
   "source": [
    "x = np.ones(7)\n",
    "assert np.allclose( S(x, V, A, E), np.array([ 0.62905421,  0.82910093,  0.59440835,  2.43656366,  3.43656366,\n",
    "       -8.15484549,  1.15484549]))"
   ]
  },
  {
   "cell_type": "code",
   "execution_count": null,
   "metadata": {
    "deletable": false,
    "editable": false,
    "nbgrader": {
     "cell_type": "code",
     "checksum": "8fa4d567059c9894f4df7f9f830b2d42",
     "grade": true,
     "grade_id": "cell-b2d8f1d50449576a",
     "locked": true,
     "points": 4,
     "schema_version": 3,
     "solution": false,
     "task": false
    }
   },
   "outputs": [],
   "source": [
    "## THIS IS A TEST CELL!"
   ]
  }
 ],
 "metadata": {
  "kernelspec": {
   "display_name": "Python 3",
   "language": "python",
   "name": "python3"
  },
  "language_info": {
   "codemirror_mode": {
    "name": "ipython",
    "version": 3
   },
   "file_extension": ".py",
   "mimetype": "text/x-python",
   "name": "python",
   "nbconvert_exporter": "python",
   "pygments_lexer": "ipython3",
   "version": "3.7.5"
  }
 },
 "nbformat": 4,
 "nbformat_minor": 1
}
