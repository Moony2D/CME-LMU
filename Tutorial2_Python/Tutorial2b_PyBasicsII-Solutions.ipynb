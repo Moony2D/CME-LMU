{
 "cells": [
  {
   "cell_type": "markdown",
   "metadata": {},
   "source": [
    "# Computational Methods in Economics\n",
    "\n",
    "## Tutorial 2b - Python Basics II - Solution to Classroom Exercises"
   ]
  },
  {
   "cell_type": "code",
   "execution_count": 1,
   "metadata": {},
   "outputs": [
    {
     "name": "stdout",
     "output_type": "stream",
     "text": [
      "Last update: 2019-10-21 12:45:24.857732\n"
     ]
    }
   ],
   "source": [
    "# Author: Alex Schmitt (schmitt@ifo.de)\n",
    "\n",
    "import datetime\n",
    "print('Last update: ' + str(datetime.datetime.today()))"
   ]
  },
  {
   "cell_type": "markdown",
   "metadata": {},
   "source": [
    "### Exercise 1\n",
    "\n",
    "Given two numeric lists or tuples **x_vals** and **y_vals** of equal length, compute their inner product using **zip()**. (Source: lectures.quantecon.org, Python Essentials, Exercise 1)"
   ]
  },
  {
   "cell_type": "code",
   "execution_count": 2,
   "metadata": {},
   "outputs": [
    {
     "name": "stdout",
     "output_type": "stream",
     "text": [
      "32\n"
     ]
    }
   ],
   "source": [
    "x_vals = [1,2,3]\n",
    "y_vals = (4,5,6)\n",
    "\n",
    "inner = 0\n",
    "for x,y in zip(x_vals, y_vals):\n",
    "    inner += x * y\n",
    "\n",
    "## alternative: list comprehension\n",
    "# sum([x * y for x, y in zip(x_vals, y_vals)])\n",
    "    \n",
    "print(inner)    "
   ]
  },
  {
   "cell_type": "markdown",
   "metadata": {},
   "source": [
    "### Exercise 2\n",
    "\n",
    "Given **pairs = ((2, 5), (4, 2), (9, 8), (12, 10))**, count the number of pairs (a, b) such that both a and b are even. \n",
    "\n",
    "Hint: For this question, we can use the *modulo* operation **%** for integers. In general, **x % y** divides x by y and returns the *remainder*. For example, **4 % 2** returns 0, since there is no remainder (this is true for any *even* number x when typing **x % 2**). In contrast, **7 % 2** returns 1 since 7 = 3 x 2 **+ 1**. In fact, for any *odd* integer x, **x % 2** returns 1.\n",
    "\n",
    "(Source: lectures.quantecon.org, Python Essentials, Exercise 1)"
   ]
  },
  {
   "cell_type": "code",
   "execution_count": 3,
   "metadata": {},
   "outputs": [
    {
     "name": "stdout",
     "output_type": "stream",
     "text": [
      "There are 2 all-even pairs.\n"
     ]
    }
   ],
   "source": [
    "pairs = ((2, 5), (4, 2), (9, 8), (12, 10))\n",
    "\n",
    "count = 0\n",
    "for pair in pairs:\n",
    "    if (pair[0] % 2 == 0) and (pair[1] % 2 == 0):\n",
    "        count += 1\n",
    "\n",
    "## alternative: list comprehension\n",
    "# sum([x % 2 == 0 and y % 2 == 0 for x, y in pairs])\n",
    "        \n",
    "print('There are {} all-even pairs.'.format(count)) "
   ]
  },
  {
   "cell_type": "markdown",
   "metadata": {},
   "source": [
    "### Exercise 3\n",
    "\n",
    "Write a program that takes an integer and returns the sum of its digits. For example, inputting **12345** should return 15 (as an integer or float).\n",
    "\n",
    "Hint: One way of computing the digit sum makes use of the *modulo* operation **\"%\"**, as seen above. What is useful to note for this question is that, for example, **12345 % 10** would return 5. In addition, what may be useful here is a **while** loop.   \n",
    "\n",
    "An alternative way would be to make use of the **str()** and **int()** functions. "
   ]
  },
  {
   "cell_type": "code",
   "execution_count": 4,
   "metadata": {},
   "outputs": [
    {
     "name": "stdout",
     "output_type": "stream",
     "text": [
      "15.0\n",
      "15\n"
     ]
    }
   ],
   "source": [
    "# Approach 1: use modulo operation\n",
    "x = 12345\n",
    "# initialize variable 'total' as zero\n",
    "total = 0\n",
    "# start a while loop: loop runs as long as x is positive\n",
    "while x > 0:\n",
    "    # using modulo 10 gives you the LAST digit for any number, e.g. 12345 % 10 = 5\n",
    "    dig = x % 10\n",
    "    # add this digit to total\n",
    "    total = total + dig\n",
    "    \n",
    "    # update x: (1) subtract the last digit and (2) divide by 10\n",
    "    # e.g. (12345 - 5)/10 = 1234 -> continue loop with x = 1234\n",
    "    x = (x - dig)/10\n",
    "\n",
    "print(total)\n",
    "\n",
    "# Approach 2: use strings\n",
    "x = 12345\n",
    "# convert x to a string: s ='12345'\n",
    "s = str(x)\n",
    "# initialize empty list\n",
    "lst = []\n",
    "# loop through s (possible since it behaves like an array) and add element to lst, converted to int\n",
    "for i in s:\n",
    "    lst.append(int(i))\n",
    "# sum over lst and print\n",
    "print(sum(lst))"
   ]
  },
  {
   "cell_type": "markdown",
   "metadata": {
    "slideshow": {
     "slide_type": "subslide"
    }
   },
   "source": [
    "### Exercise 4\n",
    "\n",
    "Write a program to prompt the user for hours worked and rate per hour to compute gross pay. Pay the hourly rate for the hours up to 40 and 1.5 times the hourly rate for all hours worked *above 40 hours*. Use 45 hours and a rate of 10.50 per hour to test the program (the pay should be 498.75). You should use **input()** to read a string and **float()** to convert the string to a number. Do not worry about error checking the user input - assume the user types numbers properly. (Source: Coursera, Programming for Everybody, Week 5)"
   ]
  },
  {
   "cell_type": "code",
   "execution_count": 5,
   "metadata": {
    "slideshow": {
     "slide_type": "skip"
    }
   },
   "outputs": [
    {
     "name": "stdout",
     "output_type": "stream",
     "text": [
      "Enter Hours:45\n",
      "Enter Rate:10.5\n",
      "498.75\n"
     ]
    }
   ],
   "source": [
    "hrs = input(\"Enter Hours:\")\n",
    "h = float(hrs)\n",
    "rate = input(\"Enter Rate:\")\n",
    "w = float(rate)\n",
    "\n",
    "if h <= 40:\n",
    "    sal = w * h\n",
    "else:\n",
    "    sal = w * 40 + 1.5 * w * (h - 40)\n",
    "    \n",
    "print(sal)   "
   ]
  },
  {
   "cell_type": "markdown",
   "metadata": {
    "slideshow": {
     "slide_type": "subslide"
    }
   },
   "source": [
    "### Exercise 5\n",
    "\n",
    "Write a program to prompt for a score between 0.0 and 1.0. If the score is out of range, print an error. If the score is between 0.0 and 1.0, print a grade using the following table:\n",
    "Score Grade\n",
    "- $>= 0.9 $: A\n",
    "- $>= 0.8 $: B\n",
    "- $>= 0.7 $: C\n",
    "- $>= 0.6 $: D\n",
    "- $< 0.6$ F\n",
    "\n",
    "If the user enters a value out of range, print a suitable error message and exit. For the test, enter a score of 0.85.\n",
    "(Source: Coursera, Programming for Everybody, Week 5)"
   ]
  },
  {
   "cell_type": "code",
   "execution_count": 6,
   "metadata": {},
   "outputs": [
    {
     "name": "stdout",
     "output_type": "stream",
     "text": [
      "Enter Score: 0.85\n",
      "B\n"
     ]
    }
   ],
   "source": [
    "score = float(input(\"Enter Score: \"))\n",
    "\n",
    "assert 0.0 <= score <= 1.0, \"Please enter a value between 0 and 1.\"\n",
    "\n",
    "if score < 0.6:\n",
    "    print('F')\n",
    "elif score < 0.7:\n",
    "    print('D')\n",
    "elif score < 0.8:\n",
    "    print('C') \n",
    "elif score < 0.9:\n",
    "    print('B')\n",
    "else:\n",
    "    print('A')    "
   ]
  },
  {
   "cell_type": "markdown",
   "metadata": {},
   "source": [
    "### Exercise 6\n",
    "\n",
    "Write a program that repeatedly prompts a user for integer numbers until the user enters 'done'. Once 'done' is entered, print out the largest and smallest of the numbers. If the user enters anything other than a valid number catch it with a **try/except** and put out an appropriate message and ignore the number. If no valid number has been entered, print out a corresponding statement. (Source: Coursera, Programming for Everybody, Week 7)"
   ]
  },
  {
   "cell_type": "code",
   "execution_count": 7,
   "metadata": {},
   "outputs": [
    {
     "name": "stdout",
     "output_type": "stream",
     "text": [
      "Enter a number: done\n",
      "No valid number entered!\n"
     ]
    }
   ],
   "source": [
    "# Approach 1: storing largest and smalles\n",
    "largest = 0\n",
    "smallest = 0\n",
    "first_entry = True\n",
    "\n",
    "while True:\n",
    "    num = input(\"Enter a number: \")\n",
    "    \n",
    "    try: \n",
    "        if first_entry:\n",
    "            largest = int(num)\n",
    "            smallest = int(num)\n",
    "            first_entry = False\n",
    "               \n",
    "        if int(num) > largest:\n",
    "            largest = int(num)\n",
    "            \n",
    "        elif int(num) < smallest :\n",
    "            smallest = int(num)    \n",
    "    except:\n",
    "        if num == \"done\" : break\n",
    "        else:\n",
    "            print(\"Invalid input\")\n",
    "            continue\n",
    "\n",
    "if not first_entry:    \n",
    "    print(\"The maximum number entered is\", largest)\n",
    "    print(\"The minimum number entered is\", smallest)\n",
    "else:\n",
    "    print(\"No valid number entered!\")"
   ]
  },
  {
   "cell_type": "code",
   "execution_count": 8,
   "metadata": {},
   "outputs": [
    {
     "name": "stdout",
     "output_type": "stream",
     "text": [
      "Enter a number: 3\n",
      "Enter a number: 8\n",
      "Enter a number: 6\n",
      "Enter a number: done\n",
      "The maximum number entered is 8\n",
      "The minimum number entered is 3\n"
     ]
    }
   ],
   "source": [
    "## Approach 2 (recommended): using a list\n",
    "\n",
    "# initialize list\n",
    "lst = []\n",
    "\n",
    "while True:\n",
    "    num = input(\"Enter a number: \")\n",
    "    \n",
    "    try: \n",
    "        lst.append(int(num))\n",
    "    \n",
    "    except:\n",
    "        if num == \"done\" : break\n",
    "        else:\n",
    "            print(\"Invalid input\")\n",
    "            continue\n",
    "    \n",
    "if len(lst) > 0:    \n",
    "    print(\"The maximum number entered is\", max(lst))\n",
    "    print(\"The minimum number entered is\", min(lst))\n",
    "else:\n",
    "    print(\"No valid number entered!\")    "
   ]
  },
  {
   "cell_type": "markdown",
   "metadata": {
    "slideshow": {
     "slide_type": "subslide"
    }
   },
   "source": [
    "### Exercise 7\n",
    "\n",
    "Recall that $n!$ is read as *n factorial* and defined as\n",
    "\\begin{equation}\n",
    "    n!=n×(n−1)×⋯×2×1n!=n×(n−1)×⋯×2×1\n",
    "\\end{equation}\n",
    "There are functions to compute this in various packages, but let’s write our own version as an exercise. In particular, write a function **factorial** such that **factorial(n)** returns $n!$ for any positive integer n. \n",
    "\n",
    "(Source: quantecon.org, An Introductory Example, Exercise 1)"
   ]
  },
  {
   "cell_type": "code",
   "execution_count": 9,
   "metadata": {},
   "outputs": [
    {
     "name": "stdout",
     "output_type": "stream",
     "text": [
      "The factorial of 3 is 6.\n"
     ]
    }
   ],
   "source": [
    "def factorial(n):\n",
    "    prod = 1\n",
    "    for i in range(1,n+1):\n",
    "        prod *= i\n",
    "    return prod\n",
    "\n",
    "n = 3\n",
    "print('The factorial of {} is {}.'.format(n, factorial(n)) )"
   ]
  },
  {
   "cell_type": "markdown",
   "metadata": {},
   "source": [
    "### Exercise 8\n",
    "\n",
    "As a hard-working PhD student or post doc, you should take a break from your work every now and then. Write a Python program that opens a web page (e.g. a YouTube video if you wanna spend your break listening to music or a news page if you wanna read up on current events) at regular intervals (say, every hour). \n",
    "\n",
    "Hint 1: The packages **time** and **webbrowser** have useful functions for implementing this program. Look them up in the Python documentation (google!) to find the functions you wanna use.\n",
    "\n",
    "Hint 2: You will probably want to use a **while** loop for this exercise. You can make the loop infinite (and interrupt it manually) if you're done for the day. You can also think about ways to stop the loop within the program, for example after a certain number of iterations."
   ]
  },
  {
   "cell_type": "code",
   "execution_count": null,
   "metadata": {},
   "outputs": [],
   "source": [
    "import time\n",
    "import webbrowser\n",
    "\n",
    "## infinite loop\n",
    "# while True:\n",
    "#     time.sleep(600)\n",
    "#     print('Take a break!')\n",
    "#     webbrowser.open(\"https://www.youtube.com/watch?v=ack4cJry0as&index=3&list=PLZzI4nElzA51i7_UXd8N0rj_0sDagszI-\")\n",
    "\n",
    "## loop that stops after N iterations\n",
    "N = 8\n",
    "it = 0\n",
    "while it < N:\n",
    "    time.sleep(600)\n",
    "    print('Take a break!')\n",
    "    webbrowser.open(\"https://www.youtube.com/watch?v=ack4cJry0as&index=3&list=PLZzI4nElzA51i7_UXd8N0rj_0sDagszI-\")\n",
    "    it += 1"
   ]
  }
 ],
 "metadata": {
  "anaconda-cloud": {},
  "kernelspec": {
   "display_name": "Python 3",
   "language": "python",
   "name": "python3"
  },
  "language_info": {
   "codemirror_mode": {
    "name": "ipython",
    "version": 3
   },
   "file_extension": ".py",
   "mimetype": "text/x-python",
   "name": "python",
   "nbconvert_exporter": "python",
   "pygments_lexer": "ipython3",
   "version": "3.7.5"
  }
 },
 "nbformat": 4,
 "nbformat_minor": 1
}
