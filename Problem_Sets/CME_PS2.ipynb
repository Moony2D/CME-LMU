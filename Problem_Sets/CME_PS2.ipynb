{
 "cells": [
  {
   "cell_type": "markdown",
   "metadata": {},
   "source": [
    "Before you turn this problem in, make sure everything runs as expected. First, **restart the kernel** (in the menubar, select Kernel$\\rightarrow$Restart) and then **run all cells** (in the menubar, select Cell$\\rightarrow$Run All).\n",
    "\n",
    "Make sure you fill in any place that says `YOUR CODE HERE`, as well as your name below:"
   ]
  },
  {
   "cell_type": "code",
   "execution_count": null,
   "metadata": {},
   "outputs": [],
   "source": [
    "NAME = \"\""
   ]
  },
  {
   "cell_type": "markdown",
   "metadata": {},
   "source": [
    "Please save this notebook in a folder of the same name (`CME_PS` plus the corresponding number) and push it to your LRZ-Gitlab repository. Do not change the name of the notebook!"
   ]
  },
  {
   "cell_type": "markdown",
   "metadata": {},
   "source": [
    "Note: some of the cells below are locked, so you cannot change them, but you can evaluate them!"
   ]
  },
  {
   "cell_type": "markdown",
   "metadata": {},
   "source": [
    "---"
   ]
  },
  {
   "cell_type": "markdown",
   "metadata": {
    "deletable": false,
    "editable": false,
    "nbgrader": {
     "cell_type": "markdown",
     "checksum": "af61a102153d61289bb4ccac02bc1ced",
     "grade": false,
     "grade_id": "cell-4d4dba112619ab1a",
     "locked": true,
     "schema_version": 3,
     "solution": false
    }
   },
   "source": [
    "# Computational Methods in Economics (winter term 2019/20)\n",
    "\n",
    "## Problem Set 2"
   ]
  },
  {
   "cell_type": "markdown",
   "metadata": {
    "deletable": false,
    "editable": false,
    "nbgrader": {
     "cell_type": "markdown",
     "checksum": "beae70850be424bae15daacd40ea283b",
     "grade": false,
     "grade_id": "cell-8850660ac36f0dce",
     "locked": true,
     "schema_version": 3,
     "solution": false
    }
   },
   "source": [
    "#### DEADLINE: Wednesday, November 27, 12 pm"
   ]
  },
  {
   "cell_type": "code",
   "execution_count": null,
   "metadata": {
    "deletable": false,
    "editable": false,
    "nbgrader": {
     "cell_type": "code",
     "checksum": "d21262c10f58edfc6d99aa56b76a0e2f",
     "grade": false,
     "grade_id": "cell-5a4d302a56efc5da",
     "locked": true,
     "schema_version": 3,
     "solution": false,
     "task": false
    }
   },
   "outputs": [],
   "source": [
    "import numpy as np"
   ]
  },
  {
   "cell_type": "markdown",
   "metadata": {
    "deletable": false,
    "editable": false,
    "nbgrader": {
     "cell_type": "markdown",
     "checksum": "905e2a46a1cc6e223dbdc78732251fcc",
     "grade": false,
     "grade_id": "cell-e378a9b81c8cd481",
     "locked": true,
     "schema_version": 3,
     "solution": false
    }
   },
   "source": [
    "## Question 1\n",
    "\n",
    "Consider the polynomial expression\n",
    "\\begin{equation*}\n",
    "\tp(x) = a_0 + a_1 x + a_2 x^2 + \\cdots + a_N x^N = \\sum_{n=0}^N a_n x^n,\n",
    "\\end{equation*}\n",
    "where $x$ is a scalar number.\n",
    "\n",
    "(a) Write a Python function **poly(xx, coeff)** that implements $p(x)$ (i.e. evaluates the polynomial) given a point (i.e. a scalar) **xx** and a list of coefficients **coeff** ($= a_0,...,a_N$). Use a loop with **enumerate()**.\n",
    "\n",
    "(b) Write a new function **poly_np(xx, coeff)** that does the same job, but uses NumPy arrays and vectorized operations, rather than any form of Python loop. \n",
    "\n",
    "*Hint*: You can use **np.cumprod()** here. Using **np.cumprod()** on a sequence gives an array where at each position, you have the product of all elements that come before or at that position in the original array. For example, **np.cumprod([2,3,4,5])** would return **[2,6,24,120]** as a NP array. \n",
    "\n",
    "(c) Using **%time**, check how long it takes for both functions to run when **len(coeff)** = 50000 (you can use random draws from a uniform distribution for the elements in **coeff**).\n"
   ]
  },
  {
   "cell_type": "code",
   "execution_count": null,
   "metadata": {
    "deletable": false,
    "nbgrader": {
     "cell_type": "code",
     "checksum": "012ae3560ec3b55d0203d8f0a6150529",
     "grade": false,
     "grade_id": "cell-da69ea1594af0027",
     "locked": false,
     "schema_version": 3,
     "solution": true
    }
   },
   "outputs": [],
   "source": [
    "## (a)\n",
    "def poly(x, coeff):\n",
    "    '''\n",
    "    Evaluates a polynomial p(x) = a_0 + a_1 x + a_2 x^2 + ... + a_N x^N using a loop\n",
    "    '''\n",
    "    # YOUR CODE HERE"
   ]
  },
  {
   "cell_type": "code",
   "execution_count": null,
   "metadata": {
    "deletable": false,
    "editable": false,
    "nbgrader": {
     "cell_type": "code",
     "checksum": "264d4cdee8f84cc12d6e877c38cd24a4",
     "grade": true,
     "grade_id": "cell-25000faaff4dbb7f",
     "locked": true,
     "points": 2,
     "schema_version": 3,
     "solution": false
    }
   },
   "outputs": [],
   "source": [
    "assert poly(1, [1,1,1]) == 3\n",
    "assert poly(2, [1,2,4]) == 21"
   ]
  },
  {
   "cell_type": "code",
   "execution_count": null,
   "metadata": {
    "deletable": false,
    "nbgrader": {
     "cell_type": "code",
     "checksum": "c510a1c273ed7d543925589d4691d3f5",
     "grade": false,
     "grade_id": "cell-60d27094a816a9a1",
     "locked": false,
     "schema_version": 3,
     "solution": true
    }
   },
   "outputs": [],
   "source": [
    "import numpy as np\n",
    "\n",
    "## (b)\n",
    "def poly_np(x, coeff):\n",
    "    '''\n",
    "    Evaluates a polynomial p(x) = a_0 + a_1 x + a_2 x^2 + ... + a_N x^N using NP arrays and cumprod\n",
    "    '''\n",
    "    # YOUR CODE HERE"
   ]
  },
  {
   "cell_type": "code",
   "execution_count": null,
   "metadata": {
    "deletable": false,
    "editable": false,
    "nbgrader": {
     "cell_type": "code",
     "checksum": "d007a02ed96e50ddf9f2c7628be26134",
     "grade": true,
     "grade_id": "cell-ec39e398e1d2bd36",
     "locked": true,
     "points": 2,
     "schema_version": 3,
     "solution": false
    }
   },
   "outputs": [],
   "source": [
    "# THIS IS A TEST CELL!"
   ]
  },
  {
   "cell_type": "code",
   "execution_count": null,
   "metadata": {
    "deletable": false,
    "nbgrader": {
     "cell_type": "code",
     "checksum": "ab564947e2a66d69cf2806bcc2031bc4",
     "grade": false,
     "grade_id": "cell-4b59e5b2c9f1e964",
     "locked": false,
     "schema_version": 3,
     "solution": true
    }
   },
   "outputs": [],
   "source": [
    "## (c)\n",
    "\n",
    "# YOUR CODE HERE"
   ]
  },
  {
   "cell_type": "code",
   "execution_count": null,
   "metadata": {
    "deletable": false,
    "editable": false,
    "nbgrader": {
     "cell_type": "code",
     "checksum": "1ebe33bea65989d1fd181a028e7c45e0",
     "grade": true,
     "grade_id": "cell-1ef0506d589f36d4",
     "locked": true,
     "points": 1,
     "schema_version": 3,
     "solution": false
    }
   },
   "outputs": [],
   "source": [
    "# THIS IS A TEST CELL!"
   ]
  },
  {
   "cell_type": "markdown",
   "metadata": {
    "deletable": false,
    "editable": false,
    "nbgrader": {
     "cell_type": "markdown",
     "checksum": "cc231794892faee549938d5875416dfa",
     "grade": false,
     "grade_id": "cell-f2e9830a97f60bf5",
     "locked": true,
     "schema_version": 3,
     "solution": false
    }
   },
   "source": [
    "## Question 2\n",
    "\n",
    "Write a function **compute_pi** that computes an approximation to the number $\\pi$ with the Monte Carlo method. The following is adapted from http://mathfaculty.fullerton.edu/mathews/n2003/montecarlopimod.html (check the link for more information and illustrations):\n",
    "\n",
    "\"Monte Carlo methods can be thought of as statistical simulation methods that utilize a sequences of random numbers to perform the simulation. The name \"Monte Carlo\" was coined by Nicholas Constantine Metropolis (1915-1999) and inspired by Stanslaw Ulam (1909-1986), because of the similarity of statistical simulation to games of chance, and because Monte Carlo is a center for gambling and games of chance. In a typical process one computes the number of points in a set B that lies inside box A. The ratio of the number of points that fall inside A to the total number of points tried is equal to the ratio of the two areas.  The accuracy of the ratio $\\rho$ depends on the number of points used, with more points leading to a more accurate value.\"\n",
    "\n",
    "A simple Monte Carlo simulation to approximate the value of $\\pi$ involves randomly selecting points $\\{(x_i, y_i)\\}_{i =1}^n$ in the unit square and determining the ratio $\\rho = m/n$, where $m$ is the number of points that is within a circle with radius 0.5, i.e. that satisfy \n",
    "$$\n",
    "\\sqrt{(x_i-0.5)^2 + (y_i-0.5)^2} \\le 0.5\n",
    "$$\n",
    "\n",
    "In other words: \n",
    "- If $U$ is a bivariate uniform random variable on the unit square $ A = (0,1)^2$, then the probability that a realization of $U$ (i.e. a random draw from two uniform distributions between 0 and 1) lies in a subset $B$ *is equal to the area of* $B$.\n",
    "- If $U_1,...,U_n$ are independently distributed realizations of $U$, then, as $n$ gets large, the fraction of random draws that fall in $B$ converges to the probability of landing in $B$.\n",
    "- In this case, $B$ is a circle in the unit square with radius $r = 0.5$. Recall that for a circle, $area = \\pi \\cdot r^2$.\n",
    "\n",
    "Try to implement this function without using loops (but feel free to use a loop if you do not manage otherwise!)."
   ]
  },
  {
   "cell_type": "code",
   "execution_count": null,
   "metadata": {
    "deletable": false,
    "nbgrader": {
     "cell_type": "code",
     "checksum": "63d5290a9ef28ef6bafbe54753d004bc",
     "grade": false,
     "grade_id": "cell-30dd53b241c49077",
     "locked": false,
     "schema_version": 3,
     "solution": true
    }
   },
   "outputs": [],
   "source": [
    "# function throws gives \n",
    "def compute_pi(n):\n",
    "    '''\n",
    "    Approximates pi as the fraction of random draws (\"throws\") that land in the unit cycle = area of unit cycle \n",
    "    '''\n",
    "    # YOUR CODE HERE"
   ]
  },
  {
   "cell_type": "code",
   "execution_count": null,
   "metadata": {
    "deletable": false,
    "editable": false,
    "nbgrader": {
     "cell_type": "code",
     "checksum": "2a1ff2426de1ad232feae91668e3334b",
     "grade": false,
     "grade_id": "cell-c6ccd6860a91db1b",
     "locked": true,
     "schema_version": 3,
     "solution": false
    }
   },
   "outputs": [],
   "source": [
    "## The following two numbers should be close too each other\n",
    "print(compute_pi(100000))\n",
    "print(np.pi)"
   ]
  },
  {
   "cell_type": "code",
   "execution_count": null,
   "metadata": {
    "deletable": false,
    "editable": false,
    "nbgrader": {
     "cell_type": "code",
     "checksum": "24617c3f19e8a62d91c001e3759a8e5a",
     "grade": true,
     "grade_id": "cell-0d3856540f26a7d4",
     "locked": true,
     "points": 4,
     "schema_version": 3,
     "solution": false
    }
   },
   "outputs": [],
   "source": [
    "# THIS IS A TEST CELL!"
   ]
  },
  {
   "cell_type": "markdown",
   "metadata": {
    "deletable": false,
    "editable": false,
    "nbgrader": {
     "cell_type": "markdown",
     "checksum": "a1d87731f6f1550b0be2052599444282",
     "grade": false,
     "grade_id": "cell-c44513fa922661b3",
     "locked": true,
     "schema_version": 3,
     "solution": false
    }
   },
   "source": [
    "## Question 3\n",
    "\n",
    "Consider the utility function $U(B,C)=B^{\\alpha} C^{(1-\\alpha)}$ of a Oktoberfest visitor consuming beer (B) and chicken (C).\n",
    "\n",
    "(a) Write a function **utility** that returns the utilily depending on the amount of consumed chicken and beers\n",
    "\n",
    "(b) Plot the utility as a function of the amount of beer with $\\alpha=0.7$ and $C=2$. The range of beers should be from 0 to 10. Add a title, axis labels and a legend. \n",
    "\n",
    "(C) Plot the isoquants of the same utility for all combination of C and B in the range from 0 to 10. In addition, consider the prices of $p_B=10 €$ and $p_C=10€$ and a budget of 55€. Draw the budgetline in the graph with the isoquants and guess what the optimal consumption might be. Add a title and axis labels.\n",
    "\n",
    "Hints: Make sure to display the graph only for reasonable values. You can set the limits of the x and the y axis by **ax.set_xlim([xlim,xmax])** and **ax.set_ylim([ylim,ymax])**."
   ]
  },
  {
   "cell_type": "code",
   "execution_count": null,
   "metadata": {
    "deletable": false,
    "nbgrader": {
     "cell_type": "code",
     "checksum": "6d1a04da4936ccd82e1cb8f8c9e87c64",
     "grade": false,
     "grade_id": "cell-533187078f516503",
     "locked": false,
     "schema_version": 3,
     "solution": true
    }
   },
   "outputs": [],
   "source": [
    "## (a)\n",
    "import numpy as np\n",
    "\n",
    "# YOUR CODE HERE"
   ]
  },
  {
   "cell_type": "code",
   "execution_count": null,
   "metadata": {
    "deletable": false,
    "editable": false,
    "nbgrader": {
     "cell_type": "code",
     "checksum": "7a5c2f10d2e6d0c939c0a51b78f70f92",
     "grade": true,
     "grade_id": "cell-ec0447ce516d82cf",
     "locked": true,
     "points": 1,
     "schema_version": 3,
     "solution": false
    }
   },
   "outputs": [],
   "source": [
    "assert float(utility(1,4,0.5)) == 2.0\n",
    "assert float(utility(4,0,1)) == 4.0"
   ]
  },
  {
   "cell_type": "code",
   "execution_count": null,
   "metadata": {
    "deletable": false,
    "nbgrader": {
     "cell_type": "code",
     "checksum": "77e4e9b4b4e78a5938b0b07ebcb3d725",
     "grade": true,
     "grade_id": "cell-e1bf8dc82f712994",
     "locked": false,
     "points": 2,
     "schema_version": 3,
     "solution": true
    }
   },
   "outputs": [],
   "source": [
    "## (b)\n",
    "\n",
    "import matplotlib.pyplot as plt\n",
    "%matplotlib inline\n",
    "\n",
    "fig, ax = plt.subplots()\n",
    "# YOUR CODE HERE"
   ]
  },
  {
   "cell_type": "code",
   "execution_count": null,
   "metadata": {
    "deletable": false,
    "nbgrader": {
     "cell_type": "code",
     "checksum": "8363fae176aa77843e6f8b67b31f93ef",
     "grade": true,
     "grade_id": "cell-10973f87d5301c7f",
     "locked": false,
     "points": 3,
     "schema_version": 3,
     "solution": true
    }
   },
   "outputs": [],
   "source": [
    "## (c)\n",
    "\n",
    "# YOUR CODE HERE"
   ]
  },
  {
   "cell_type": "markdown",
   "metadata": {
    "deletable": false,
    "editable": false,
    "nbgrader": {
     "cell_type": "markdown",
     "checksum": "b8e20f0de2780561720a610be6c5dd87",
     "grade": false,
     "grade_id": "cell-4168546af1f002ab",
     "locked": true,
     "schema_version": 3,
     "solution": false,
     "task": false
    }
   },
   "source": [
    "## Question 4 \n",
    "\n",
    "(a) Write a function **backward_sub** that implements the backward-substitution algorithm to solve an upper triangular system of equations in Python. Its inputs are a square matrix (2D array) and a flat 1D array. \n",
    "\n",
    "As a first step, derive an expression for $x_i$, analogous to the case of forward-substitution in the lecture.\n",
    "\n",
    "(b) Write a function **my_solve** that solves a linear system of equations, using LU factorization, backward and forward substitution. For backward substitution, use your code from question (a). For forward substitution, you can use the function defined in the lecture (see below). For LU factorization, use the **scipy.linalg.lu** function.\n",
    "\n",
    "*Do not use **np.linalg.solve** or **scipy.linalg.solve** in your function!* "
   ]
  },
  {
   "cell_type": "code",
   "execution_count": null,
   "metadata": {
    "deletable": false,
    "editable": false,
    "nbgrader": {
     "cell_type": "code",
     "checksum": "0dc4c83e84414ad7c4447fd88bf451b4",
     "grade": false,
     "grade_id": "cell-1d89efd8b6c02984",
     "locked": true,
     "schema_version": 3,
     "solution": false,
     "task": false
    }
   },
   "outputs": [],
   "source": [
    "import scipy.linalg\n",
    "\n",
    "def forward_sub(A, b):\n",
    "    \"\"\"\n",
    "    Implements the forward-substitution algorithm to solve a lower triangular system of equations\n",
    "    \n",
    "    (2D np array, 1D np array) -> (1D np array)\n",
    "    \"\"\"\n",
    "    n, m = A.shape\n",
    "    \n",
    "    assert n == m, \"A must be a square matrix\"\n",
    "    \n",
    "    x = np.zeros(n)\n",
    "    \n",
    "    for i in range(n):\n",
    "        \n",
    "        summ = 0\n",
    "        for j in range(i):\n",
    "            summ += A[i, j] * x[j]\n",
    "        \n",
    "        x[i] = (b[i] - summ) / A[i, i]   \n",
    "    \n",
    "    return x"
   ]
  },
  {
   "cell_type": "code",
   "execution_count": null,
   "metadata": {
    "deletable": false,
    "nbgrader": {
     "cell_type": "code",
     "checksum": "d2489a4b8ace74460148dddb71605101",
     "grade": false,
     "grade_id": "cell-edd4a56a8d2bd710",
     "locked": false,
     "schema_version": 3,
     "solution": true,
     "task": false
    }
   },
   "outputs": [],
   "source": [
    "## (a)\n",
    "\n",
    "def backward_sub(A, b):\n",
    "    \"\"\"\n",
    "    Implements the backward-substitution algorithm to solve an upper triangular system of equations \n",
    "    \n",
    "    (2D np array, 1D np array) -> (1D np array)\n",
    "    \n",
    "    \"\"\"\n",
    "    # YOUR CODE HERE"
   ]
  },
  {
   "cell_type": "code",
   "execution_count": null,
   "metadata": {
    "deletable": false,
    "editable": false,
    "nbgrader": {
     "cell_type": "code",
     "checksum": "539a7c545259c09c7161a865bd6b9027",
     "grade": true,
     "grade_id": "cell-6331c77468c66640",
     "locked": true,
     "points": 1,
     "schema_version": 3,
     "solution": false,
     "task": false
    }
   },
   "outputs": [],
   "source": [
    "assert np.allclose( backward_sub( np.array([[1, 1], [0, 1]]), np.array([2, 1])  ), np.array([ 1.,  1.]) )"
   ]
  },
  {
   "cell_type": "code",
   "execution_count": null,
   "metadata": {
    "deletable": false,
    "editable": false,
    "nbgrader": {
     "cell_type": "code",
     "checksum": "90826f7539021045f04367ac7aa92899",
     "grade": true,
     "grade_id": "cell-45dda4998d771208",
     "locked": true,
     "points": 2,
     "schema_version": 3,
     "solution": false,
     "task": false
    }
   },
   "outputs": [],
   "source": [
    "A = np.array([[1, 2, 3],\n",
    "              [0, 5, 7],\n",
    "              [0, 0, 9]])\n",
    "\n",
    "b = np.array([1, 2, 3])\n",
    "\n",
    "assert np.allclose( backward_sub(A, b), np.array([ 0.13333333, -0.06666667,  0.33333333]) )"
   ]
  },
  {
   "cell_type": "code",
   "execution_count": null,
   "metadata": {
    "deletable": false,
    "nbgrader": {
     "cell_type": "code",
     "checksum": "2df4295bc75f1dca9ea50c86357eaa14",
     "grade": false,
     "grade_id": "cell-717553585651c459",
     "locked": false,
     "schema_version": 3,
     "solution": true,
     "task": false
    }
   },
   "outputs": [],
   "source": [
    "## (b)\n",
    "\n",
    "def my_solve(A, b):\n",
    "    \"\"\"\n",
    "    Solves a linear system of equations using LU factorization, backward and forward distribution\n",
    "    \n",
    "    (2D np array, 1D np array) -> (1D np array)\n",
    "    \n",
    "    \"\"\"\n",
    "    # YOUR CODE HERE"
   ]
  },
  {
   "cell_type": "code",
   "execution_count": null,
   "metadata": {
    "deletable": false,
    "editable": false,
    "nbgrader": {
     "cell_type": "code",
     "checksum": "63b5d39f8bb59e616202ce7dcb1af73d",
     "grade": true,
     "grade_id": "cell-923e6a65158f2df2",
     "locked": true,
     "points": 1,
     "schema_version": 3,
     "solution": false,
     "task": false
    }
   },
   "outputs": [],
   "source": [
    "A = np.array([[1, 2, 3],\n",
    "              [0, 5, 7],\n",
    "              [0, 0, 9]])\n",
    "\n",
    "b = np.array([1, 2, 3])\n",
    "\n",
    "assert np.allclose( my_solve(A, b), np.array([ 0.13333333, -0.06666667,  0.33333333]) )"
   ]
  },
  {
   "cell_type": "code",
   "execution_count": null,
   "metadata": {
    "deletable": false,
    "editable": false,
    "nbgrader": {
     "cell_type": "code",
     "checksum": "74581f292de06a1984072204246d6304",
     "grade": true,
     "grade_id": "cell-817e96d1d7fb2dcd",
     "locked": true,
     "points": 1,
     "schema_version": 3,
     "solution": false,
     "task": false
    }
   },
   "outputs": [],
   "source": [
    "# THIS IS A TEST CELL!"
   ]
  },
  {
   "cell_type": "markdown",
   "metadata": {
    "deletable": false,
    "editable": false,
    "nbgrader": {
     "cell_type": "markdown",
     "checksum": "c4f80588f0c76a646d33a483bd5b2a86",
     "grade": false,
     "grade_id": "cell-7c62bff0583b2025",
     "locked": true,
     "schema_version": 3,
     "solution": false,
     "task": false
    }
   },
   "source": [
    "## Question 5\n",
    "\n",
    "From Judd (1998), chapter 3. Suppose that demand for good $i$ is \n",
    "\n",
    "\\begin{equation}\n",
    "    d_i(p) = a_i \\sum_{j \\neq i} p_j - b_ip_i + c_i,\\ \\ i = 1, ..., n\n",
    "\\end{equation}\n",
    "\n",
    "where $a_i > b_i > 0$, and that supply is \n",
    "\n",
    "\\begin{equation}\n",
    "    s_i(p) = A_i + B_i p_i, \\ \\ i = 1, ..., n \n",
    "\\end{equation}\n",
    "\n",
    "where $B_i > 0$. Write a function **find_eq** that solves for an equilibrium with 5 goods, for the values of $a_i$, $b_i$, $c_i$, $A_i$ and $B_i$ found in the next cell. In other words, your function should take the 5 arrays below as arguments, and return a *tuple of two arrays*, **(p, q)**, containing the equilibrium prices and quantities. \n",
    "\n",
    "Note that you are not given any test cases for comparison. However, your code should work for any number $n \\ge 1$ (not only $n = 5$). Hence, in order to check the validity of your code, you can construct simple examples, e.g. with $n = 2$, and compare the pen-and-paper result with the output of your function. \n",
    "\n",
    "*Optional*: While this is not mandatory to answer this question, think about what ranges of values for $a_i$, $b_i$, $c_i$, $A_i$ and $B_i$ are reasonable from an economic point of view, and how you could have your function check on whether these \"constraints\" are satisfied for a specific input."
   ]
  },
  {
   "cell_type": "code",
   "execution_count": null,
   "metadata": {
    "deletable": false,
    "editable": false,
    "nbgrader": {
     "cell_type": "code",
     "checksum": "db0b5679454e816abe1a9709a528212d",
     "grade": false,
     "grade_id": "cell-3f11fb1ca8d25214",
     "locked": true,
     "schema_version": 3,
     "solution": false,
     "task": false
    }
   },
   "outputs": [],
   "source": [
    "a = np.array([.3,.4,.4,1,.8])\n",
    "b = np.array([.2,.2,.3,.4,.5])\n",
    "c = np.array([1,1,1,1,1])\n",
    "A = np.array([-5,-4,-5,6,7])\n",
    "B = np.array([5,6,1,8,7])"
   ]
  },
  {
   "cell_type": "code",
   "execution_count": null,
   "metadata": {
    "deletable": false,
    "nbgrader": {
     "cell_type": "code",
     "checksum": "405d9a65ba0d3f46b711e732026b10ee",
     "grade": false,
     "grade_id": "cell-145c1f1348983f0f",
     "locked": false,
     "schema_version": 3,
     "solution": true,
     "task": false
    }
   },
   "outputs": [],
   "source": [
    "def find_eq(a,b,c,A,B):\n",
    "    \"\"\" \n",
    "    Takes in the parameters for a, b, c, A, B as flat numpy arrays. Solves for equilibrium\n",
    "    price and quantity vectors given a_i, b_i, A_i, B_i.\n",
    "    \n",
    "    Returns the price and quantity vectors as two flat numpy arrays.\n",
    "    \"\"\"\n",
    "    # YOUR CODE HERE"
   ]
  },
  {
   "cell_type": "code",
   "execution_count": null,
   "metadata": {
    "deletable": false,
    "editable": false,
    "nbgrader": {
     "cell_type": "code",
     "checksum": "435167e4e9a9dc6485f4fd6fcad39eff",
     "grade": true,
     "grade_id": "cell-ce303d97dd115234",
     "locked": true,
     "points": 5,
     "schema_version": 3,
     "solution": false,
     "task": false
    }
   },
   "outputs": [],
   "source": [
    "# THIS IS A TEST CELL!"
   ]
  },
  {
   "cell_type": "markdown",
   "metadata": {
    "deletable": false,
    "editable": false,
    "nbgrader": {
     "cell_type": "markdown",
     "checksum": "41e5ace00157b9c8865ec8998d0dc71e",
     "grade": false,
     "grade_id": "cell-c7fdc1fcf8b738ed",
     "locked": true,
     "schema_version": 3,
     "solution": false,
     "task": false
    }
   },
   "source": [
    "---------------------------------------------------------------------------------------------------------------------\n",
    "## Appendix"
   ]
  },
  {
   "cell_type": "markdown",
   "metadata": {
    "deletable": false,
    "editable": false,
    "nbgrader": {
     "cell_type": "markdown",
     "checksum": "3500721eb8e93b8ecaf788a851fd0d18",
     "grade": false,
     "grade_id": "cell-d95c94e65334f345",
     "locked": true,
     "schema_version": 3,
     "solution": false,
     "task": false
    }
   },
   "source": [
    "## Question A.1 (OPTIONAL; do not submit!)\n",
    "\n",
    "(a) Find the largest positive integer $n$ such that $2^n - 1$ is a DP number.\n",
    "\n",
    "(b) Show that the distance between two adjacent DP numbers $y_1$ and $y_2$ with $y_1 < y_2$ that, \n",
    "\n",
    "\\begin{equation}\n",
    "   | y_2 - y_1 | = \\epsilon_{DP} 2^{e(y_1) - 1023}. \n",
    "\\end{equation}\n",
    "\n",
    "Hint: Consider two cases for $e$ and $f$ that make two DP numbers adjacent.\n",
    "\n",
    "(c) Show that the relativ absolute difference between a real number $z$ and the DP number closest to it, $z_{DP}$, is bounded above by half machine epsilon, i.e.\n",
    "\n",
    "\\begin{equation}\n",
    "   \\left| \\frac{z_{DP} - z}{z} \\right| \\le \\frac{1}{2} \\epsilon_{DP}.\n",
    "\\end{equation}\n",
    "\n",
    "Hint: Use the result from (b)."
   ]
  }
 ],
 "metadata": {
  "anaconda-cloud": {},
  "kernelspec": {
   "display_name": "Python 3",
   "language": "python",
   "name": "python3"
  },
  "language_info": {
   "codemirror_mode": {
    "name": "ipython",
    "version": 3
   },
   "file_extension": ".py",
   "mimetype": "text/x-python",
   "name": "python",
   "nbconvert_exporter": "python",
   "pygments_lexer": "ipython3",
   "version": "3.7.5"
  }
 },
 "nbformat": 4,
 "nbformat_minor": 1
}
