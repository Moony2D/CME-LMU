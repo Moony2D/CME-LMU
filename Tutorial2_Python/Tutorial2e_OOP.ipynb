{
 "cells": [
  {
   "cell_type": "markdown",
   "metadata": {
    "slideshow": {
     "slide_type": "slide"
    }
   },
   "source": [
    "# Computational Methods in Economics\n",
    "\n",
    "## Tutorial 2e - Object-Oriented Programming"
   ]
  },
  {
   "cell_type": "code",
   "execution_count": 1,
   "metadata": {
    "collapsed": false,
    "slideshow": {
     "slide_type": "skip"
    }
   },
   "outputs": [
    {
     "name": "stdout",
     "output_type": "stream",
     "text": [
      "Last update: 2018-12-20 14:31:16.955254\n"
     ]
    }
   ],
   "source": [
    "# Author: Alex Schmitt (schmitt@ifo.de)\n",
    "\n",
    "import datetime\n",
    "print('Last update: ' + str(datetime.datetime.today()))"
   ]
  },
  {
   "cell_type": "code",
   "execution_count": 2,
   "metadata": {
    "collapsed": true,
    "slideshow": {
     "slide_type": "skip"
    }
   },
   "outputs": [],
   "source": [
    "import numpy as np\n",
    "from sklearn.linear_model import LinearRegression\n",
    "\n",
    "import scipy.optimize\n",
    "\n",
    "import matplotlib.pyplot as plt\n",
    "%matplotlib inline\n",
    "import seaborn\n",
    "\n",
    "from turtle import *\n",
    "from shapes import *\n",
    "from random import randint\n",
    "# from mobilechelonian import Turtle\n",
    "\n",
    "import webbrowser"
   ]
  },
  {
   "cell_type": "markdown",
   "metadata": {
    "slideshow": {
     "slide_type": "slide"
    }
   },
   "source": [
    "## This Lecture\n",
    "\n",
    "- [Introduction](#intro)\n",
    "- [Writing Your Own Class](#own)\n",
    "- [Defining an Economic Model as a Class](#df)"
   ]
  },
  {
   "cell_type": "markdown",
   "metadata": {
    "slideshow": {
     "slide_type": "skip"
    }
   },
   "source": [
    "----------------------------------------------------------------------------------------------------------------------"
   ]
  },
  {
   "cell_type": "markdown",
   "metadata": {
    "slideshow": {
     "slide_type": "slide"
    }
   },
   "source": [
    "### Introduction\n",
    "\n",
    "In the context of scikit-learn, we have encountered and used examples of *classes*. Recall the notation, e.g. for the **LinearRegression()** class:"
   ]
  },
  {
   "cell_type": "code",
   "execution_count": 33,
   "metadata": {
    "collapsed": true,
    "slideshow": {
     "slide_type": "subslide"
    }
   },
   "outputs": [],
   "source": [
    "## call instance of LinearRegression()\n",
    "lr = LinearRegression()\n",
    "## use a method -> not applicable here, since we do not have data \n",
    "# lr.fit(X, y)\n",
    "## check attributes\n",
    "# lr.coef_"
   ]
  },
  {
   "cell_type": "markdown",
   "metadata": {
    "slideshow": {
     "slide_type": "subslide"
    }
   },
   "source": [
    "In the example above, **LinearRegression()** is the name of the class; calling the first line defines an *instance* of this class under the name **lr**. \n",
    "\n",
    "You can think of a class like the *blueprint*, e.g. for a house; that is, a recipe that tells you how to build, what goes where and so on. In this analogy, an instance would then be an actual house, built following the blueprint."
   ]
  },
  {
   "cell_type": "markdown",
   "metadata": {
    "slideshow": {
     "slide_type": "subslide"
    }
   },
   "source": [
    "Classes are a very important concept in the context of *object-oriented programming (OOP)*. "
   ]
  },
  {
   "cell_type": "markdown",
   "metadata": {
    "slideshow": {
     "slide_type": "subslide"
    }
   },
   "source": [
    "From Wikipedia: \"OOP is a programming paradigm based on the concept of \"objects\", which may contain data, in the form of fields, often known as *attributes*; and code, in the form of procedures, often known as *methods*. A feature of objects is that an object's procedures can access and often modify the data fields of the object with which they are associated (*objects have a notion of \"this\" or \"self\"*). \n",
    "\n",
    "[...] There is significant diversity of OOP languages, but the most popular ones are *class-based*, meaning that objects are instances of classes, which typically also determine their type.\""
   ]
  },
  {
   "cell_type": "markdown",
   "metadata": {
    "slideshow": {
     "slide_type": "subslide"
    }
   },
   "source": [
    "We have encountered a number of variable types that fit this description of objects. For example, consider a NumPy array: it obviously contains data, and it has attributes (e.g. **.shape**) and methods (e.g. **.mean()**) associated with it.\n",
    "\n",
    "There are also methods that can directly modify the attributes of a NumPy attributes, e.g. **.resize()**."
   ]
  },
  {
   "cell_type": "code",
   "execution_count": 48,
   "metadata": {
    "collapsed": false,
    "slideshow": {
     "slide_type": "subslide"
    }
   },
   "outputs": [
    {
     "name": "stdout",
     "output_type": "stream",
     "text": [
      "(2, 2)\n",
      "(4, 1)\n",
      "[[1]\n",
      " [2]\n",
      " [3]\n",
      " [4]]\n"
     ]
    }
   ],
   "source": [
    "A = np.array([[1, 2], [3, 4]])\n",
    "print(A.shape)\n",
    "A.resize((4,1))\n",
    "print(A.shape)\n",
    "print(A)"
   ]
  },
  {
   "cell_type": "markdown",
   "metadata": {
    "slideshow": {
     "slide_type": "subslide"
    }
   },
   "source": [
    "In this sense, we have used OOP since the start of this course! The new feature in this lecture is that Python lets you write your own classes, and hence define your own kind of objects.\n",
    "\n",
    "We will first look at a simple but fun example to get an idea how it works. We then turn to a more useful example and discuss why and when writing your own classes may be a good idea."
   ]
  },
  {
   "cell_type": "markdown",
   "metadata": {
    "slideshow": {
     "slide_type": "skip"
    }
   },
   "source": [
    "----------------------------------------------------------------------------------------------------------------------\n",
    "<a id = 'own'></a>"
   ]
  },
  {
   "cell_type": "markdown",
   "metadata": {
    "slideshow": {
     "slide_type": "subslide"
    }
   },
   "source": [
    "### Writing your own class\n",
    "\n",
    "Below, we will define a class called **Santa**. Here, we import it from the **christmas** module to illustrate its features. "
   ]
  },
  {
   "cell_type": "code",
   "execution_count": 3,
   "metadata": {
    "collapsed": true
   },
   "outputs": [],
   "source": [
    "from christmas import Santa"
   ]
  },
  {
   "cell_type": "markdown",
   "metadata": {
    "slideshow": {
     "slide_type": "subslide"
    }
   },
   "source": [
    "First, we create an instance of the class, and provide it with four arguments: the color (a string) of Santa's hat, the number of gifts he's bringing, his degree of \"jolliness\" and his favorite Christmas song (a string). The syntax below indicates that the latter two are *optional* arguments, i.e. have default values.    "
   ]
  },
  {
   "cell_type": "code",
   "execution_count": 4,
   "metadata": {
    "collapsed": false,
    "slideshow": {
     "slide_type": "-"
    }
   },
   "outputs": [
    {
     "data": {
      "text/plain": [
       "christmas.Santa"
      ]
     },
     "execution_count": 4,
     "metadata": {},
     "output_type": "execute_result"
    }
   ],
   "source": [
    "santa_claus = Santa(\"red\", 4, jolly = 1, favorite_song = 'https://www.youtube.com/watch?v=76WFkKp8Tjs')\n",
    "type(santa_claus)"
   ]
  },
  {
   "cell_type": "markdown",
   "metadata": {
    "slideshow": {
     "slide_type": "subslide"
    }
   },
   "source": [
    "Each instance of the Santa class has a number of *attributes*, that we can access by the name of the attribute, attached to the name of the instance by a dot (like a method, bit without parentheses). For example, we can print the number of gifts and how jolly **santa_claus** is:"
   ]
  },
  {
   "cell_type": "code",
   "execution_count": 5,
   "metadata": {
    "collapsed": false
   },
   "outputs": [
    {
     "name": "stdout",
     "output_type": "stream",
     "text": [
      "4\n"
     ]
    }
   ],
   "source": [
    "print( santa_claus.num_of_gifts )"
   ]
  },
  {
   "cell_type": "code",
   "execution_count": 6,
   "metadata": {
    "collapsed": false
   },
   "outputs": [
    {
     "name": "stdout",
     "output_type": "stream",
     "text": [
      "1\n"
     ]
    }
   ],
   "source": [
    "print( santa_claus.jolly )"
   ]
  },
  {
   "cell_type": "markdown",
   "metadata": {
    "slideshow": {
     "slide_type": "subslide"
    }
   },
   "source": [
    "Next, the class has a number of methods, for example to pack more gifts. Note that this will change the **num_of_gifts** attribute of the instance:"
   ]
  },
  {
   "cell_type": "code",
   "execution_count": 7,
   "metadata": {
    "collapsed": false
   },
   "outputs": [
    {
     "name": "stdout",
     "output_type": "stream",
     "text": [
      "5\n"
     ]
    }
   ],
   "source": [
    "santa_claus.add_gift(2)\n",
    "print( santa_claus.num_of_gifts )"
   ]
  },
  {
   "cell_type": "markdown",
   "metadata": {
    "slideshow": {
     "slide_type": "subslide"
    }
   },
   "source": [
    "Similarly, Santa also gives gifts, which increases his level of jolliness:"
   ]
  },
  {
   "cell_type": "code",
   "execution_count": 8,
   "metadata": {
    "collapsed": false
   },
   "outputs": [
    {
     "name": "stdout",
     "output_type": "stream",
     "text": [
      "4\n",
      "2\n"
     ]
    }
   ],
   "source": [
    "santa_claus.give_gift()\n",
    "print( santa_claus.num_of_gifts )\n",
    "print( santa_claus.jolly )"
   ]
  },
  {
   "cell_type": "markdown",
   "metadata": {
    "slideshow": {
     "slide_type": "subslide"
    }
   },
   "source": [
    "The next method asks a Santa to be jolly: "
   ]
  },
  {
   "cell_type": "code",
   "execution_count": 9,
   "metadata": {
    "collapsed": false
   },
   "outputs": [
    {
     "name": "stdout",
     "output_type": "stream",
     "text": [
      "Ho! \n",
      "Ho! \n",
      "Merry Christmas!\n"
     ]
    }
   ],
   "source": [
    "santa_claus.be_jolly()"
   ]
  },
  {
   "cell_type": "markdown",
   "metadata": {
    "slideshow": {
     "slide_type": "subslide"
    }
   },
   "source": [
    "We can also directly change an attribute level:"
   ]
  },
  {
   "cell_type": "code",
   "execution_count": 14,
   "metadata": {
    "collapsed": false
   },
   "outputs": [
    {
     "name": "stdout",
     "output_type": "stream",
     "text": [
      "Ho! \n",
      "Ho! \n",
      "Ho! \n",
      "Merry Christmas!\n"
     ]
    }
   ],
   "source": [
    "santa_claus.jolly = 3\n",
    "santa_claus.be_jolly()"
   ]
  },
  {
   "cell_type": "markdown",
   "metadata": {
    "slideshow": {
     "slide_type": "subslide"
    }
   },
   "source": [
    "Next, let's play Santa's favorite christmas song, and draw its head:"
   ]
  },
  {
   "cell_type": "code",
   "execution_count": 10,
   "metadata": {
    "collapsed": true
   },
   "outputs": [],
   "source": [
    "santa_claus.play_song()"
   ]
  },
  {
   "cell_type": "code",
   "execution_count": 11,
   "metadata": {
    "collapsed": true
   },
   "outputs": [],
   "source": [
    "santa_claus.draw_hat()"
   ]
  },
  {
   "cell_type": "markdown",
   "metadata": {
    "slideshow": {
     "slide_type": "subslide"
    }
   },
   "source": [
    "The implementation of this class with these methods and attributes is given below:"
   ]
  },
  {
   "cell_type": "code",
   "execution_count": null,
   "metadata": {
    "collapsed": true
   },
   "outputs": [],
   "source": []
  },
  {
   "cell_type": "markdown",
   "metadata": {
    "slideshow": {
     "slide_type": "subslide"
    }
   },
   "source": [
    "Note the following:\n",
    "\n",
    "- Every class definition starts with the keyword **class**, followed by the name of the class. You would expect that the arguments (e.g. the color in the example above) follows in the parentheses, but this is not the case. For now, we leave the parentheses empty. "
   ]
  },
  {
   "cell_type": "markdown",
   "metadata": {
    "slideshow": {
     "slide_type": "subslide"
    }
   },
   "source": [
    "- The second mandatory element for a class is the **__init__** function. As the name indicates, this \"initializes\" the instances. "
   ]
  },
  {
   "cell_type": "markdown",
   "metadata": {},
   "source": [
    "- The remaining elements in the class definition are the methods used above. Note that they all take **self** as argument, in addition to other arguments (e.g. the number of new gifts). The methods essentially work like functions, i.e. have **return** statements if something is to be returned. Moreover, you can access and change the values of the attributes within a method."
   ]
  },
  {
   "cell_type": "markdown",
   "metadata": {
    "slideshow": {
     "slide_type": "skip"
    }
   },
   "source": [
    "----------------------------------------------------------------------------------------------------------------------\n",
    "<a id = 'ngm'></a>"
   ]
  },
  {
   "cell_type": "markdown",
   "metadata": {
    "slideshow": {
     "slide_type": "slide"
    }
   },
   "source": [
    "### Defining an economic model as a class\n",
    "\n",
    "In previous lectures, we have used the neoclassical growth model as an example for rootfinding (lecture 4) and optimization (lecture 5). Compare the lecture notes for a refresher on the model structure. "
   ]
  },
  {
   "cell_type": "markdown",
   "metadata": {
    "slideshow": {
     "slide_type": "subslide"
    }
   },
   "source": [
    "Consider different instances of the NGM. What pieces of data that may be different between these instances? You may see differences in\n",
    "\n",
    "- parameter values (e.g., running the model for different values for the discount factor $\\beta$);\n",
    "- functional forms (e.g. a Cobb-Douglas production function vs. a CES);\n",
    "- dimensionality of the problem, i.e. how many choice variables are they in addition to investment?\n",
    "- whether or not you want to include a continuation value when solving it.\n"
   ]
  },
  {
   "cell_type": "markdown",
   "metadata": {
    "slideshow": {
     "slide_type": "subslide"
    }
   },
   "source": [
    "Now, consider what different versions of the model have in common, given these differences:\n",
    "\n",
    "- the objective function is always the sum of discounted per-period utility functions, which at the very least should be functions of consumption;\n",
    "- there is a resource constraint that relates production, consumption and investment in capital;\n",
    "- if we substitute the resource constraint, per-period utility is a function of next-period capital, plus possibly more (labor, pollution, etc.)\n",
    "- solving them involves solving a minimization problem for the transition phase."
   ]
  },
  {
   "cell_type": "markdown",
   "metadata": {
    "slideshow": {
     "slide_type": "subslide"
    }
   },
   "source": [
    "Based on these considerations, we can write a class that takes as inputs the (potentially) different data - parameters and functional forms - but contains the common features, in particular objective function and routines for solving for the steady state and the solution vectors over time. "
   ]
  },
  {
   "cell_type": "code",
   "execution_count": 12,
   "metadata": {
    "collapsed": true
   },
   "outputs": [],
   "source": [
    "class NGM():\n",
    "    \n",
    "    def __init__(self, x, utility, utility_ss, production, parameters, num_of_inputs):\n",
    "        ## the first input is the solution vector, i.e. initially the initial guess\n",
    "        self.x = x\n",
    "        ## the next two inputs are functions\n",
    "        self.util = utility\n",
    "        self.util_ss = utility_ss\n",
    "        self.prod = production\n",
    "        ## then parameters; we assume that the input is a dictionary\n",
    "        self.params = parameters\n",
    "        self.num = num_of_inputs\n",
    "        \n",
    "        ## derived attributes\n",
    "        self.T = int( len(self.x) / self.num )\n",
    "        \n",
    "        \n",
    "    def objective(self, z):\n",
    "        \"\"\"\n",
    "        Objective function: lifetime utility\n",
    "        \"\"\"\n",
    "        return - ( self.params['beta']**(np.array(range(self.T))) @ self.util( z , self.prod, self.params ) \n",
    "                   + (self.params['beta']**self.T/(1 - self.params['beta'])) *  \n",
    "                      self.util_ss( np.array( [z[self.T-1], z[2*self.T-1]] ), self.prod, self.params) )\n",
    "    \n",
    "    \n",
    "    def solve_transition(self):\n",
    "        res = scipy.optimize.minimize(self.objective, self.x, method = 'BFGS', tol = 1e-6)\n",
    "        print(res)\n",
    "#         print(res.success)\n",
    "        self.x = res.x\n",
    "        self.success = res.success\n",
    "        print(res.message)\n",
    "        \n",
    "    \n",
    "#     def graph(self):\n",
    "#         fig, ax = plt.subplots(2,1)\n",
    "#         ax[0].plot(self.kp)\n",
    "#         ax[1].plot(self.other)\n",
    "#         ax[0].hlines(1, 0, T)\n",
    "#         ax[1].hlines(1, 0, T)\n",
    "    "
   ]
  },
  {
   "cell_type": "markdown",
   "metadata": {},
   "source": [
    "We use the same example as in lecture 5a."
   ]
  },
  {
   "cell_type": "code",
   "execution_count": 13,
   "metadata": {
    "collapsed": true
   },
   "outputs": [],
   "source": [
    "params = dict()\n",
    "params['beta'] = 0.8      # discount factor\n",
    "params['nu'] = 2       # risk-aversion coefficient for consumption\n",
    "params['eta'] = 1         # elasticity parameter for labor supply\n",
    "## production\n",
    "params['alpha'] = 0.25\n",
    "params['delta'] = 0.1\n",
    "## derived\n",
    "params['A'] = (1 - params['beta'] * (1 - params['delta']))/(params['alpha']*params['beta'])  # normalization parameter for production function => steady state k = 1\n",
    "params['B'] = (1 - params['alpha']) * params['A'] * (params['A'] - params['delta'])**(-params['nu'])   # normalization parameter for utility function => steady state h = 1\n",
    "## initial capital stock\n",
    "params['k0'] = 0.8"
   ]
  },
  {
   "cell_type": "code",
   "execution_count": 14,
   "metadata": {
    "collapsed": true
   },
   "outputs": [],
   "source": [
    "T = 30\n",
    "## set initial guess    \n",
    "# x0 = np.concatenate([np.ones(T), np.ones(T)])\n",
    "x0 = 1e-6 * np.ones( 2* T)"
   ]
  },
  {
   "cell_type": "code",
   "execution_count": null,
   "metadata": {
    "collapsed": true
   },
   "outputs": [],
   "source": [
    "def choice1(x, params):\n",
    "    kp = np.exp( x[:T] )\n",
    "    k = np.insert(kp[:T-1], 0, params['k0'])\n",
    "    h = np.exp( x[T:] )\n",
    "    \n",
    "    return kp, k, h"
   ]
  },
  {
   "cell_type": "code",
   "execution_count": 15,
   "metadata": {
    "collapsed": true
   },
   "outputs": [],
   "source": [
    "def cd(x, params):\n",
    "    \"\"\"\n",
    "    Evaluates the Cobb-Douglas function with coefficient alpha and shift parameter A, for two inputs (x)\n",
    "    \"\"\"\n",
    "    T = int(len(x)/2)\n",
    "    \n",
    "    kp = np.exp( x[:T] )\n",
    "    k = np.insert(kp[:T-1], 0, params['k0'])\n",
    "    h = np.exp( x[T:] )\n",
    "    \n",
    "    return params['A'] * k**params['alpha'] * h**(1 - params['alpha'] )\n",
    "\n",
    "def u(x, prod, params):\n",
    "    \"\"\"\n",
    "    Utility function\n",
    "    \"\"\"\n",
    "    T = int(len(x)/2)\n",
    "    \n",
    "    kp = np.exp( x[:T] )\n",
    "    k = np.insert(kp[:T-1], 0, params['k0'])\n",
    "    h = np.exp( x[T:] )\n",
    "    c = prod(x, params) + (1 - params['delta']) * k - kp\n",
    "    \n",
    "    return c**(1 - params['nu'])/(1 -  params['nu']) -  params['B'] * h**(1 + params['eta'])/(1 +  params['eta'])\n",
    "\n",
    "def u_ss(x, prod, params):\n",
    "    \"\"\"\n",
    "    Utility function\n",
    "    \"\"\"\n",
    "    T = int(len(x)/2)\n",
    "    \n",
    "    kp = np.exp( x[:T] )\n",
    "    h = np.exp( x[T:] )\n",
    "    c = params['A'] * kp**params['alpha'] * h**(1 - params['alpha'] ) - params['delta'] * kp \n",
    "    \n",
    "    return c**(1 - params['nu'])/(1 -  params['nu']) -  params['B'] * h**(1 + params['eta'])/(1 +  params['eta'])"
   ]
  },
  {
   "cell_type": "code",
   "execution_count": 16,
   "metadata": {
    "collapsed": true
   },
   "outputs": [],
   "source": [
    "ngm1 = NGM(x0, u, u_ss, cd, params, 2)"
   ]
  },
  {
   "cell_type": "code",
   "execution_count": 17,
   "metadata": {
    "collapsed": false
   },
   "outputs": [
    {
     "data": {
      "text/plain": [
       "array([ 5.58799686])"
      ]
     },
     "execution_count": 17,
     "metadata": {},
     "output_type": "execute_result"
    }
   ],
   "source": [
    "ngm1.objective(x0)"
   ]
  },
  {
   "cell_type": "code",
   "execution_count": 18,
   "metadata": {
    "collapsed": false
   },
   "outputs": [
    {
     "name": "stdout",
     "output_type": "stream",
     "text": [
      "      fun: 5.560590689986769\n",
      " hess_inv: array([[  1.05954160e+00,   6.96031406e-01,   4.74853252e-01, ...,\n",
      "         -1.50360972e-04,  -4.79389156e-04,   3.96053802e-04],\n",
      "       [  6.96031406e-01,   1.73116492e+00,   1.18691985e+00, ...,\n",
      "         -6.06608807e-05,  -3.98520002e-04,  -1.18522674e-03],\n",
      "       [  4.74853252e-01,   1.18691985e+00,   2.31210081e+00, ...,\n",
      "         -2.31967311e-04,  -7.03560195e-04,  -4.54656268e-04],\n",
      "       ..., \n",
      "       [ -1.50360972e-04,  -6.06608807e-05,  -2.31967311e-04, ...,\n",
      "          9.99999776e-01,   3.41620658e-07,   3.08133503e-07],\n",
      "       [ -4.79389156e-04,  -3.98520002e-04,  -7.03560195e-04, ...,\n",
      "          3.41620658e-07,   1.00002308e+00,   7.53606284e-07],\n",
      "       [  3.96053802e-04,  -1.18522674e-03,  -4.54656268e-04, ...,\n",
      "          3.08133503e-07,   7.53606284e-07,   1.00057028e+00]])\n",
      "      jac: array([  0.00000000e+00,   5.96046448e-08,   0.00000000e+00,\n",
      "         0.00000000e+00,  -5.96046448e-08,   0.00000000e+00,\n",
      "         1.19209290e-07,   1.19209290e-07,   1.19209290e-07,\n",
      "        -1.78813934e-07,   0.00000000e+00,  -3.57627869e-07,\n",
      "         4.76837158e-07,   0.00000000e+00,  -3.57627869e-07,\n",
      "         1.19209290e-07,   4.76837158e-07,   3.57627869e-07,\n",
      "         2.38418579e-07,   1.19209290e-07,   0.00000000e+00,\n",
      "         0.00000000e+00,   0.00000000e+00,   0.00000000e+00,\n",
      "        -5.96046448e-08,   0.00000000e+00,   0.00000000e+00,\n",
      "         0.00000000e+00,   0.00000000e+00,   0.00000000e+00,\n",
      "         0.00000000e+00,   0.00000000e+00,   0.00000000e+00,\n",
      "         0.00000000e+00,   0.00000000e+00,   5.96046448e-08,\n",
      "         1.19209290e-07,   1.19209290e-07,   2.38418579e-07,\n",
      "         1.78813934e-07,   4.76837158e-07,  -5.96046448e-07,\n",
      "         4.76837158e-07,  -4.17232513e-07,  -1.19209290e-07,\n",
      "         2.98023224e-07,   2.38418579e-07,   0.00000000e+00,\n",
      "        -1.78813934e-07,  -1.19209290e-07,  -5.96046448e-08,\n",
      "        -5.96046448e-08,   0.00000000e+00,   0.00000000e+00,\n",
      "         0.00000000e+00,  -5.96046448e-08,   0.00000000e+00,\n",
      "         0.00000000e+00,   0.00000000e+00,   0.00000000e+00])\n",
      "  message: 'Optimization terminated successfully.'\n",
      "     nfev: 3782\n",
      "      nit: 58\n",
      "     njev: 61\n",
      "   status: 0\n",
      "  success: True\n",
      "        x: array([ -1.45894995e-01,  -9.63401720e-02,  -6.40255225e-02,\n",
      "        -4.27283025e-02,  -2.85941000e-02,  -1.91701516e-02,\n",
      "        -1.28674861e-02,  -8.64394855e-03,  -5.80951788e-03,\n",
      "        -3.90677155e-03,  -2.62342152e-03,  -1.76876357e-03,\n",
      "        -1.17508475e-03,  -7.94073153e-04,  -5.35209942e-04,\n",
      "        -3.30416266e-04,  -1.76816137e-04,  -8.02379814e-05,\n",
      "        -2.96004291e-05,  -8.72941143e-06,  -1.89970558e-06,\n",
      "         7.06751548e-07,   1.16738511e-06,   1.36027233e-06,\n",
      "         5.72732568e-07,   1.57353985e-06,   8.20756308e-07,\n",
      "         1.69812901e-06,   1.81401819e-06,   4.96111918e-07,\n",
      "         4.71942370e-02,   3.14044025e-02,   2.09741589e-02,\n",
      "         1.40427214e-02,   9.41768662e-03,   6.32321767e-03,\n",
      "         4.24875423e-03,   2.85626194e-03,   1.92149647e-03,\n",
      "         1.29216243e-03,   8.73505384e-04,   5.78023542e-04,\n",
      "         4.05754287e-04,   2.55534020e-04,   1.74502533e-04,\n",
      "         1.40408946e-04,   1.02721680e-04,   6.05990788e-05,\n",
      "         2.58312820e-05,   8.45823294e-06,   2.50159681e-06,\n",
      "         9.89462388e-07,  -2.65757334e-07,   2.80524293e-07,\n",
      "        -4.01169733e-07,  -2.03584515e-07,  -2.48185608e-07,\n",
      "         4.18077833e-07,   2.24703058e-07,  -3.03682456e-07])\n",
      "Optimization terminated successfully.\n",
      "True\n"
     ]
    }
   ],
   "source": [
    "ngm1.solve_transition()\n",
    "print(ngm1.success)"
   ]
  },
  {
   "cell_type": "code",
   "execution_count": 229,
   "metadata": {
    "collapsed": false
   },
   "outputs": [
    {
     "data": {
      "image/png": "[encoded data removed]",
      "text/plain": [
       "<Figure size 576x396 with 2 Axes>"
      ]
     },
     "metadata": {},
     "output_type": "display_data"
    }
   ],
   "source": [
    "ngm1.graph()"
   ]
  },
  {
   "cell_type": "code",
   "execution_count": null,
   "metadata": {
    "collapsed": true
   },
   "outputs": [],
   "source": []
  }
 ],
 "metadata": {
  "celltoolbar": "Slideshow",
  "kernelspec": {
   "display_name": "Python 3",
   "language": "python",
   "name": "python3"
  },
  "language_info": {
   "codemirror_mode": {
    "name": "ipython",
    "version": 3
   },
   "file_extension": ".py",
   "mimetype": "text/x-python",
   "name": "python",
   "nbconvert_exporter": "python",
   "pygments_lexer": "ipython3",
   "version": "3.6.6"
  }
 },
 "nbformat": 4,
 "nbformat_minor": 2
}
