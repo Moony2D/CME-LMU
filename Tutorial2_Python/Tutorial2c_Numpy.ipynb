{
 "cells": [
  {
   "cell_type": "markdown",
   "metadata": {
    "slideshow": {
     "slide_type": "slide"
    }
   },
   "source": [
    "# Computational Methods in Economics\n",
    "\n",
    "## Tutorial 2c - NumPy and Matplotlib"
   ]
  },
  {
   "cell_type": "code",
   "execution_count": 1,
   "metadata": {
    "slideshow": {
     "slide_type": "skip"
    }
   },
   "outputs": [
    {
     "name": "stdout",
     "output_type": "stream",
     "text": [
      "Last update: 2019-11-07 17:48:51.491185\n"
     ]
    }
   ],
   "source": [
    "# Author: Alex Schmitt (schmitt@ifo.de)\n",
    "\n",
    "import datetime\n",
    "print('Last update: ' + str(datetime.datetime.today()))"
   ]
  },
  {
   "cell_type": "markdown",
   "metadata": {
    "slideshow": {
     "slide_type": "slide"
    }
   },
   "source": [
    "## This Lecture\n",
    "\n",
    "- [NumPy](#num)\n",
    "- [Vectorized Operations](#vec)\n",
    "- [Two-Dimensional Arrays](#two)\n",
    "- [Multi-Dimensional Arrays](#multi)\n",
    "- [Matplotlib](#mat)"
   ]
  },
  {
   "cell_type": "markdown",
   "metadata": {
    "slideshow": {
     "slide_type": "skip"
    }
   },
   "source": [
    "----------------------------------------------------------------------------------------------------------------------\n",
    "<a id = \"num\"></a>"
   ]
  },
  {
   "cell_type": "markdown",
   "metadata": {
    "slideshow": {
     "slide_type": "slide"
    }
   },
   "source": [
    "## NumPy\n",
    "\n",
    "NumPy is probably the most widely used library for numerical programming and scientific computing in Python. Its documentation can be found here:\n",
    "\n",
    "http://docs.scipy.org/doc/numpy/reference/"
   ]
  },
  {
   "cell_type": "markdown",
   "metadata": {
    "slideshow": {
     "slide_type": "subslide"
    }
   },
   "source": [
    "Many people in the community will usually import it with an abbreviated name, using **import** with the **as** keyword. "
   ]
  },
  {
   "cell_type": "code",
   "execution_count": 2,
   "metadata": {},
   "outputs": [],
   "source": [
    "import numpy as np"
   ]
  },
  {
   "cell_type": "markdown",
   "metadata": {
    "slideshow": {
     "slide_type": "subslide"
    }
   },
   "source": [
    "### Motivation\n",
    "\n",
    "Suppose we would like to implement the popular Cobb-Douglas production function $y = f(E, L) = E^\\alpha L^{1 - \\alpha}$ as a Python function. Based on what we have learnt so far, this is straight forward:"
   ]
  },
  {
   "cell_type": "code",
   "execution_count": 3,
   "metadata": {
    "slideshow": {
     "slide_type": "subslide"
    }
   },
   "outputs": [
    {
     "name": "stdout",
     "output_type": "stream",
     "text": [
      "3.1622776601683795\n"
     ]
    }
   ],
   "source": [
    "def cobb_douglas(E, L, alpha = 0.5):\n",
    "    \"\"\"\n",
    "    Implements the Cobb-Douglas production function: y = E**alpha * L**alpha\n",
    "    \"\"\"\n",
    "    y = E**alpha * L**(1 - alpha)\n",
    "    return y\n",
    "\n",
    "print(cobb_douglas(10, 1))"
   ]
  },
  {
   "cell_type": "markdown",
   "metadata": {
    "slideshow": {
     "slide_type": "subslide"
    }
   },
   "source": [
    "Note that the function allows $E$ and $L$ to be scalar numbers. It would be nice to also be able to use the function on *arrays* (or *vectors*). For example, we may be interested in evaluating different combinations of $E$ and $L$ simultaneously, say $(E, L) = (10,1)$, $(E, L) = (12, 0.5)$ and $(E, L) = (15, 0.33)$. "
   ]
  },
  {
   "cell_type": "markdown",
   "metadata": {
    "slideshow": {
     "slide_type": "subslide"
    }
   },
   "source": [
    "One way you may think of in order to accomplish this in Python is using a loop together with the **zip** function."
   ]
  },
  {
   "cell_type": "code",
   "execution_count": 4,
   "metadata": {
    "slideshow": {
     "slide_type": "-"
    }
   },
   "outputs": [
    {
     "name": "stdout",
     "output_type": "stream",
     "text": [
      "3.1622776601683795\n",
      "2.4494897427831783\n",
      "2.224859546128699\n"
     ]
    }
   ],
   "source": [
    "input_E = [10,12,15]\n",
    "input_L = [1,0.5,0.33]\n",
    "for item_E, item_L in zip(input_E, input_L):\n",
    "    print(cobb_douglas(item_E, item_L))"
   ]
  },
  {
   "cell_type": "markdown",
   "metadata": {
    "slideshow": {
     "slide_type": "subslide"
    }
   },
   "source": [
    "This works fine, but is not the most efficient solution. In particular, for large inputs, loops can take quite some time to execute. What would preferable instead is if we could insert lists of numbers (instead of scalars) in the function. "
   ]
  },
  {
   "cell_type": "markdown",
   "metadata": {
    "slideshow": {
     "slide_type": "subslide"
    }
   },
   "source": [
    "The technical term of doing this is to perform *vectorized operations* on the input arrays. While this is a great idea, unfortunately it won't work with lists:"
   ]
  },
  {
   "cell_type": "code",
   "execution_count": 5,
   "metadata": {},
   "outputs": [],
   "source": [
    "# print(cobb_douglas([10, 12, 15], [1, 0.5, 0.33])) # this will throw an error!"
   ]
  },
  {
   "cell_type": "markdown",
   "metadata": {
    "slideshow": {
     "slide_type": "subslide"
    }
   },
   "source": [
    "It will work with a different type of array, namely a NumPy array."
   ]
  },
  {
   "cell_type": "markdown",
   "metadata": {
    "slideshow": {
     "slide_type": "subslide"
    }
   },
   "source": [
    "### NumPy Arrays\n",
    "\n",
    "NumPy introduces a new type of array: *numpy.ndarray* (n-dimensional array). A one-dimensional NumPy array shares some features with a Python list: it contains a sequence of elements, which can be of any type (e.g. integers or strings). \n",
    "\n",
    "The elements are ordered and you can access them by position, using the slicing notation introduced above (with the first element indexed by 0 etc.). You can also use NumPy arrays in for-loops, iterating over its elements. \n"
   ]
  },
  {
   "cell_type": "markdown",
   "metadata": {
    "slideshow": {
     "slide_type": "subslide"
    }
   },
   "source": [
    "In fact, one way to get a NumPy array is to take a list and convert it using the **np.array** function."
   ]
  },
  {
   "cell_type": "code",
   "execution_count": 6,
   "metadata": {
    "slideshow": {
     "slide_type": "-"
    }
   },
   "outputs": [
    {
     "name": "stdout",
     "output_type": "stream",
     "text": [
      "['Daenerys' 'Tyrion' 'Arya' 'Samwell']\n",
      "<class 'numpy.ndarray'>\n"
     ]
    }
   ],
   "source": [
    "names = ['Daenerys', 'Tyrion', 'Arya', 'Samwell']  # start with a list, here of strings\n",
    "\n",
    "names_np = np.array(names)  # define a NP array\n",
    "print(names_np)\n",
    "print(type(names_np))"
   ]
  },
  {
   "cell_type": "code",
   "execution_count": 7,
   "metadata": {
    "slideshow": {
     "slide_type": "subslide"
    }
   },
   "outputs": [
    {
     "name": "stdout",
     "output_type": "stream",
     "text": [
      "Daenerys\n",
      "['Tyrion' 'Arya']\n",
      "Daenerys\n",
      "Tyrion\n",
      "Arya\n",
      "Samwell\n"
     ]
    }
   ],
   "source": [
    "print(names_np[0])    # access first element\n",
    "print(names_np[1:3])  # access second and third element\n",
    "\n",
    "for item in names_np: # loop over elements\n",
    "    print(item)"
   ]
  },
  {
   "cell_type": "markdown",
   "metadata": {
    "slideshow": {
     "slide_type": "subslide"
    }
   },
   "source": [
    "#### Copying Arrays\n",
    "\n",
    "Just as lists, NumPy arrays are mutable, i.e. can be changed. Note that this brings about the same issue as with lists if two names refer to the same array: then changing one of them will change the other as well. One option to make a copy of an array is the function **np.copy**, which will make a shallow copy of a NP array. "
   ]
  },
  {
   "cell_type": "markdown",
   "metadata": {
    "slideshow": {
     "slide_type": "subslide"
    }
   },
   "source": [
    "As this topic is quite important when working with lists and arrays, we present some extension to copying of lists (and NP arrays) at the end of this notebook. For NP arrays and in the next paragraphs, we will use the method **copy**. Here are some examples to understand the difference between a copy and the defintion of a different name."
   ]
  },
  {
   "cell_type": "code",
   "execution_count": 8,
   "metadata": {
    "slideshow": {
     "slide_type": "subslide"
    }
   },
   "outputs": [
    {
     "name": "stdout",
     "output_type": "stream",
     "text": [
      "['Cersei' 'Tyrion' 'Arya' 'Samwell']\n",
      "['Cersei' 'Tyrion' 'Arya' 'Samwell']\n"
     ]
    }
   ],
   "source": [
    "names = ['Daenerys', 'Tyrion', 'Arya', 'Samwell']  \n",
    "names_np = np.array(names)  # create NP array\n",
    "\n",
    "## define a different name that refers to the same array\n",
    "heroes_np = names_np\n",
    "## change array names\n",
    "names_np[0] = 'Cersei'\n",
    "## print array heroes\n",
    "print(names_np)\n",
    "print(heroes_np)"
   ]
  },
  {
   "cell_type": "code",
   "execution_count": 9,
   "metadata": {
    "slideshow": {
     "slide_type": "subslide"
    }
   },
   "outputs": [
    {
     "name": "stdout",
     "output_type": "stream",
     "text": [
      "['Cersei' 'Tyrion' 'Arya' 'Samwell']\n",
      "['Daenerys' 'Tyrion' 'Arya' 'Samwell']\n"
     ]
    }
   ],
   "source": [
    "names_np = np.array(names)  # create NP array\n",
    "\n",
    "# Solution (if necessary)\n",
    "heroes_np = names_np.copy()  # define heroes_np as a copy of names_np\n",
    "names_np[0] = 'Cersei'\n",
    "print(names_np)\n",
    "print(heroes_np)"
   ]
  },
  {
   "cell_type": "markdown",
   "metadata": {
    "slideshow": {
     "slide_type": "skip"
    }
   },
   "source": [
    "----------------------------------------------------------------------------------------------------------------------\n",
    "<a id = \"vec\"></a>"
   ]
  },
  {
   "cell_type": "markdown",
   "metadata": {
    "slideshow": {
     "slide_type": "subslide"
    }
   },
   "source": [
    "## Vectorized Operations\n",
    "\n",
    "Despite their similarities, there are some key differences between lists and NumPy arrays. First, each element in a NP array must be of the *same type*, for example all elements must be strings or all integers. Second, NP arrays allow for *vectorized operations*. "
   ]
  },
  {
   "cell_type": "markdown",
   "metadata": {
    "slideshow": {
     "slide_type": "subslide"
    }
   },
   "source": [
    "Essentially, *a vectorized operation applies a command to every element in an array*. \n",
    "\n",
    "Consider the basic arithmetic operations. Recall from above that using **\"+\"** on two lists would concatenate them, while a **\"-\"** operation is not defined on lists.    "
   ]
  },
  {
   "cell_type": "markdown",
   "metadata": {
    "slideshow": {
     "slide_type": "subslide"
    }
   },
   "source": [
    "With NP arrays, in contrast, addition of two arrays of the same length works as a vectorized operation, adding up the elements by position (*elementwise addition*). An analogous operation is performed in the case of subtraction, multiplication and division. Finally, *scalar multiplication* multiplies each element of the NP array with an integer or a float. "
   ]
  },
  {
   "cell_type": "code",
   "execution_count": 10,
   "metadata": {
    "slideshow": {
     "slide_type": "subslide"
    }
   },
   "outputs": [
    {
     "name": "stdout",
     "output_type": "stream",
     "text": [
      "A =  [1 2 3 4]\n",
      "B =  [ 5 10 15 20]\n"
     ]
    }
   ],
   "source": [
    "ls = [1, 2, 3, 4]   # list\n",
    "\n",
    "A = np.array(ls) # turn list NP into array\n",
    "B = 5 * A   # scalar multiplication using NP arrays\n",
    "\n",
    "print('A = ', A)\n",
    "# print (ls*5) # Compare with list\n",
    "print('B = ', B)"
   ]
  },
  {
   "cell_type": "code",
   "execution_count": 11,
   "metadata": {
    "slideshow": {
     "slide_type": "subslide"
    }
   },
   "outputs": [
    {
     "name": "stdout",
     "output_type": "stream",
     "text": [
      "B + A =  [ 6 12 18 24]\n",
      "B - A =  [ 4  8 12 16]\n",
      "B * A =  [ 5 20 45 80]\n",
      "B / A =  [5. 5. 5. 5.]\n"
     ]
    }
   ],
   "source": [
    "print('B + A = ', B + A)  # elementwise addition \n",
    "print('B - A = ', B - A)  # elementwise subtraction \n",
    "print('B * A = ', B * A)  # elementwise multiplication \n",
    "print('B / A = ', B / A)  # elementwise subtraction "
   ]
  },
  {
   "cell_type": "markdown",
   "metadata": {
    "slideshow": {
     "slide_type": "subslide"
    }
   },
   "source": [
    "### Universal Functions\n",
    "\n",
    "In addition to the basic arithmetic operations, *vectorized functions* (also called \"universal functions\" or *ufuncs*, since they accept both numbers and sequences as arguments) are another example of vectorized operations."
   ]
  },
  {
   "cell_type": "markdown",
   "metadata": {
    "slideshow": {
     "slide_type": "subslide"
    }
   },
   "source": [
    "Important examples are **np.log** and **np.exp**, which apply the natural logarithm and the exponential function, respectively, elementwise on a sequence. \n",
    "\n",
    "Note that NumPy's vectorized function accept not only NP arrays as arguments, but all types of ordered arrays like lists and tuples. However, the returned object will always be a NP array. "
   ]
  },
  {
   "cell_type": "code",
   "execution_count": 12,
   "metadata": {
    "slideshow": {
     "slide_type": "subslide"
    }
   },
   "outputs": [
    {
     "name": "stdout",
     "output_type": "stream",
     "text": [
      "[1, 2, 3, 4]\n",
      "[0.         0.69314718 1.09861229 1.38629436]\n",
      "<class 'numpy.ndarray'>\n",
      "<class 'numpy.ndarray'>\n"
     ]
    }
   ],
   "source": [
    "print(ls)\n",
    "print(np.log(ls))        # use np.log on a list\n",
    "print(type(np.log(ls)))  # argument: list -> returns a NP array\n",
    "\n",
    "print(type(np.log(A)))   # argument: NP array -> returns a NP array"
   ]
  },
  {
   "cell_type": "markdown",
   "metadata": {
    "slideshow": {
     "slide_type": "subslide"
    }
   },
   "source": [
    "### Statistical Functions and Methods\n",
    "\n",
    "In addition, there are a number of useful functions that operate on the whole array and return some statistic, for example the mean, standard deviation, maximum/minimum value or the sum. Again, you can apply these functions to any array."
   ]
  },
  {
   "cell_type": "code",
   "execution_count": 13,
   "metadata": {
    "slideshow": {
     "slide_type": "subslide"
    }
   },
   "outputs": [
    {
     "name": "stdout",
     "output_type": "stream",
     "text": [
      "2.5\n",
      "2.5\n",
      "1.118033988749895\n",
      "4\n"
     ]
    }
   ],
   "source": [
    "print(np.mean(ls))       # use np.mean() on a list to get the mean\n",
    "\n",
    "print(np.mean(A))        # use np.mean() on NP array to get the mean\n",
    "print(np.std(A))        # standard deviation\n",
    "print(np.max(A))        # maximum value"
   ]
  },
  {
   "cell_type": "markdown",
   "metadata": {
    "slideshow": {
     "slide_type": "subslide"
    }
   },
   "source": [
    "In the case of NumPy arrays, these functions can be used as methods (which is the more common way to use them):"
   ]
  },
  {
   "cell_type": "code",
   "execution_count": 14,
   "metadata": {},
   "outputs": [
    {
     "name": "stdout",
     "output_type": "stream",
     "text": [
      "2.5\n",
      "1.118033988749895\n",
      "4\n",
      "1\n",
      "10\n"
     ]
    }
   ],
   "source": [
    "# use methods instead\n",
    "print(A.mean())   # use .mean() method\n",
    "print(A.std())    # use .std() method\n",
    "print(A.max())    # use .max() method\n",
    "print(A.min())    # use .min() method\n",
    "print(A.sum())    # use .sum() method"
   ]
  },
  {
   "cell_type": "code",
   "execution_count": 15,
   "metadata": {
    "slideshow": {
     "slide_type": "subslide"
    }
   },
   "outputs": [
    {
     "name": "stdout",
     "output_type": "stream",
     "text": [
      "[ 1  3  6 10]\n",
      "[ 1  2  6 24]\n"
     ]
    }
   ],
   "source": [
    "# other useful methods\n",
    "print(A.cumsum()) # cumulative sum\n",
    "print(A.cumprod()) # cumulative product"
   ]
  },
  {
   "cell_type": "code",
   "execution_count": 16,
   "metadata": {
    "slideshow": {
     "slide_type": "subslide"
    }
   },
   "outputs": [
    {
     "name": "stdout",
     "output_type": "stream",
     "text": [
      "[1 2 3 4]\n",
      "3\n",
      "0\n",
      "[10  2  3  4]\n"
     ]
    }
   ],
   "source": [
    "# finding the position of the minimum and maximum\n",
    "print(A)\n",
    "print(A.argmax())    # use .argmax() method\n",
    "print(A.argmin())    # use .argmin() method\n",
    "# replacing the minimum\n",
    "A[A.argmin()] = A.sum()\n",
    "print(A)"
   ]
  },
  {
   "cell_type": "markdown",
   "metadata": {
    "slideshow": {
     "slide_type": "subslide"
    }
   },
   "source": [
    "### Why use NumPy and Vectorized Operations\n",
    "\n",
    "The ability to use vectorized operations and fast array processing is the very point of NumPy. While you can perform some vectorized operations on Python lists, you should always use NumPy arrays instead, in particular for large arrays of integers or floats. \n",
    "\n",
    "In other words, when working with a lot of data stored in arrays, using a NumPy array will be significantly faster than using a Python list. "
   ]
  },
  {
   "cell_type": "markdown",
   "metadata": {
    "slideshow": {
     "slide_type": "subslide"
    }
   },
   "source": [
    "There are some technical reasons for this, which you can read up on in the Quant-Econ section on Numpy (or in other sources). \n",
    "\n",
    "Moreover, you should *use vectorized operations whenever possible*, rather than use loops in Vanilla Python. Not only does this make your code more concise and hence improves readability, it can also make your code run faster considerably. "
   ]
  },
  {
   "cell_type": "markdown",
   "metadata": {
    "slideshow": {
     "slide_type": "subslide"
    }
   },
   "source": [
    "In other words, vectorized operations speed up programming, both in terms of time it takes to run code and time it takes to write it.\n",
    "\n",
    "As a side note: the time it takes to complete a programming project is the *sum of the time spent writing the code and the time that the computer spends running it*. Good programming should always strive to *minimize* this sum."
   ]
  },
  {
   "cell_type": "markdown",
   "metadata": {
    "slideshow": {
     "slide_type": "subslide"
    }
   },
   "source": [
    "#### Vectorized Operations: Example\n",
    "\n",
    "Suppose you want to create an array of a large number (say $N = 10,000,000$) of random draws from a uniform distribution and then compute the mean. Without using NumPy, your first crack at the problem may be to write a for-loop that starts with an empty list and in every iteration, performs a random draw and adds it to the list. This idea is implemented in the function **draw_unif**. "
   ]
  },
  {
   "cell_type": "markdown",
   "metadata": {
    "slideshow": {
     "slide_type": "subslide"
    }
   },
   "source": [
    "Note that in Vanilla Python, the function **random()** in the module **random** implements a single draw from a uniform distribution."
   ]
  },
  {
   "cell_type": "code",
   "execution_count": 17,
   "metadata": {
    "slideshow": {
     "slide_type": "-"
    }
   },
   "outputs": [],
   "source": [
    "import random\n",
    "\n",
    "def draw_unif(N):\n",
    "    ls = []\n",
    "    for i in range(N):\n",
    "        ls.append(random.random())\n",
    "    return ls    \n",
    "    \n",
    "N = int(1e+7)  # alternative way to write N = 10000000"
   ]
  },
  {
   "cell_type": "markdown",
   "metadata": {
    "slideshow": {
     "slide_type": "subslide"
    }
   },
   "source": [
    "In addition, I implement the same function, but instead of an empty list, I initialize the loop with an empty NP array of length N. The advantage of this is that the computer knows in advance how large the array will be that the function returns. Note that in this case, the function **draw_unif_np** returns a NumPy array. "
   ]
  },
  {
   "cell_type": "code",
   "execution_count": 18,
   "metadata": {
    "slideshow": {
     "slide_type": "subslide"
    }
   },
   "outputs": [],
   "source": [
    "def draw_unif_np(N):\n",
    "    npa = np.zeros(N)\n",
    "    for i in range(N):\n",
    "        npa[i] = random.random()\n",
    "    return npa "
   ]
  },
  {
   "cell_type": "markdown",
   "metadata": {
    "slideshow": {
     "slide_type": "subslide"
    }
   },
   "source": [
    "I can \"time\" the time it takes to run these functions by using what is called an *IPython magic*, basically useful commands you can use in the IPython shell or a Jupyter notebook. Here, I add the command **%time** before running the function."
   ]
  },
  {
   "cell_type": "code",
   "execution_count": 19,
   "metadata": {},
   "outputs": [
    {
     "name": "stdout",
     "output_type": "stream",
     "text": [
      "CPU times: user 2.98 s, sys: 342 ms, total: 3.32 s\n",
      "Wall time: 3.44 s\n"
     ]
    },
    {
     "data": {
      "text/plain": [
       "0.500047223536049"
      ]
     },
     "execution_count": 19,
     "metadata": {},
     "output_type": "execute_result"
    }
   ],
   "source": [
    "%time np.mean(draw_unif(N))  "
   ]
  },
  {
   "cell_type": "markdown",
   "metadata": {
    "slideshow": {
     "slide_type": "subslide"
    }
   },
   "source": [
    "The user CPU time and system CPU time are the amount of time spent in user space and the amount of time spent in kernel space (see https://en.wikipedia.org/wiki/User_space if you are interested in that). The wall time is the elapsed time, including time spent waiting for its turn on the CPU. If you are running other programs at the same time, wall time might be higher than CPU time. On the other hand, if you are executing code in parallel mode (computing on several CPUs at the same time), the wall time could be smaller than the CPU time."
   ]
  },
  {
   "cell_type": "markdown",
   "metadata": {
    "slideshow": {
     "slide_type": "subslide"
    }
   },
   "source": [
    "Timing the two functions shows that the implementation with a NumPy array is a bit faster than the one using a list. "
   ]
  },
  {
   "cell_type": "code",
   "execution_count": 20,
   "metadata": {
    "slideshow": {
     "slide_type": "-"
    }
   },
   "outputs": [
    {
     "name": "stdout",
     "output_type": "stream",
     "text": [
      "CPU times: user 3.34 s, sys: 131 ms, total: 3.47 s\n",
      "Wall time: 4.61 s\n"
     ]
    },
    {
     "data": {
      "text/plain": [
       "0.5000945826271765"
      ]
     },
     "execution_count": 20,
     "metadata": {},
     "output_type": "execute_result"
    }
   ],
   "source": [
    "%time draw_unif_np(N).mean()"
   ]
  },
  {
   "cell_type": "markdown",
   "metadata": {
    "slideshow": {
     "slide_type": "subslide"
    }
   },
   "source": [
    "Next, I use what is called a *list comprehension*, which is a more efficient one-line implementation of the **draw_unif** function. As we can see, this is even slightly faster than the standard loop with a NumPy array:"
   ]
  },
  {
   "cell_type": "code",
   "execution_count": 21,
   "metadata": {},
   "outputs": [
    {
     "name": "stdout",
     "output_type": "stream",
     "text": [
      "CPU times: user 3.73 s, sys: 914 ms, total: 4.65 s\n",
      "Wall time: 10.2 s\n"
     ]
    },
    {
     "data": {
      "text/plain": [
       "0.5000727290675305"
      ]
     },
     "execution_count": 21,
     "metadata": {},
     "output_type": "execute_result"
    }
   ],
   "source": [
    "%time np.mean([random.random() for i in range(N)]) "
   ]
  },
  {
   "cell_type": "markdown",
   "metadata": {
    "slideshow": {
     "slide_type": "subslide"
    }
   },
   "source": [
    "Finally, I use a fully vectorized operation in NumPy. Its subpackage **random** (which is a different module than Vanilla Python's module of the same name) contains a vectorized function **uniform(a, b, N)** that performs N random draws from the interval $[a,b]$. This implementation performs the same task in *less than 1/10* of the time that it takes Vanilla Python."
   ]
  },
  {
   "cell_type": "code",
   "execution_count": 22,
   "metadata": {
    "slideshow": {
     "slide_type": "subslide"
    }
   },
   "outputs": [
    {
     "name": "stdout",
     "output_type": "stream",
     "text": [
      "CPU times: user 278 ms, sys: 59.9 ms, total: 338 ms\n",
      "Wall time: 615 ms\n"
     ]
    },
    {
     "data": {
      "text/plain": [
       "0.49997710281370245"
      ]
     },
     "execution_count": 22,
     "metadata": {},
     "output_type": "execute_result"
    }
   ],
   "source": [
    "%time np.random.uniform(0, 1, N).mean()"
   ]
  },
  {
   "cell_type": "markdown",
   "metadata": {
    "slideshow": {
     "slide_type": "skip"
    }
   },
   "source": [
    "----------------------------------------------------------------------------------------------------------------------"
   ]
  },
  {
   "cell_type": "markdown",
   "metadata": {
    "slideshow": {
     "slide_type": "subslide"
    }
   },
   "source": [
    "### Exercise 1\n",
    "\n",
    "(a) Create random vector with five elements and print the average of the vector. Then, replace the maximum value by 0 and print the vector and its average again.\n",
    "\n",
    "(b) Use NumPy's **random** package to get N draws from a standard normal distribution (google to get the name of the corresponding function and its syntax!) and store them in a NumPy array. Find the sample average and standard deviation for **N = 10**, **N = 1000** and **N = 1000000**."
   ]
  },
  {
   "cell_type": "code",
   "execution_count": null,
   "metadata": {},
   "outputs": [],
   "source": []
  },
  {
   "cell_type": "markdown",
   "metadata": {
    "slideshow": {
     "slide_type": "skip"
    }
   },
   "source": [
    "----------------------------------------------------------------------------------------------------------------------\n",
    "<a id = \"two\"></a>"
   ]
  },
  {
   "cell_type": "markdown",
   "metadata": {
    "slideshow": {
     "slide_type": "slide"
    }
   },
   "source": [
    "## Two-dimensional Arrays\n",
    "\n",
    "Another big advantage of NumPy compared to standard Python arrays is working in two dimensions, i.e. with matrices. \n",
    "\n",
    "While you can represent a matrix as a list of lists in Vanilla Python, 2D NumPy arrays are not only more memory efficient, but also more convenient to work with and have a lot of useful functions and methods, in particular when doing Linear Algebra."
   ]
  },
  {
   "cell_type": "markdown",
   "metadata": {
    "slideshow": {
     "slide_type": "subslide"
    }
   },
   "source": [
    "There are different ways to create a 2D NumPy array. One is, similar to above, using the **np.array()** function on a list of lists. Alternatively, you can write all elements in a simple list, apply **np.array()** and then use the **shape** attribute to give the array the desired *dimension*."
   ]
  },
  {
   "cell_type": "code",
   "execution_count": 23,
   "metadata": {
    "slideshow": {
     "slide_type": "subslide"
    }
   },
   "outputs": [
    {
     "name": "stdout",
     "output_type": "stream",
     "text": [
      "[[1 2]\n",
      " [3 4]]\n"
     ]
    }
   ],
   "source": [
    "# create 2-by-2 array from list of lists\n",
    "ls = [[1,2],[3,4]]\n",
    "A = np.array(ls)\n",
    "print(A)"
   ]
  },
  {
   "cell_type": "code",
   "execution_count": 24,
   "metadata": {
    "slideshow": {
     "slide_type": "subslide"
    }
   },
   "outputs": [
    {
     "name": "stdout",
     "output_type": "stream",
     "text": [
      "[[1 2]\n",
      " [3 4]]\n",
      "(2, 2)\n"
     ]
    }
   ],
   "source": [
    "# create 2-by-2 array from list and using shape \n",
    "B = np.array([1,2,3,4])\n",
    "B.shape = (2,2)\n",
    "print(B)\n",
    "\n",
    "print(B.shape)  # print shape of B"
   ]
  },
  {
   "cell_type": "markdown",
   "metadata": {
    "slideshow": {
     "slide_type": "subslide"
    }
   },
   "source": [
    "**shape** takes a tuple with two elements: the first one represents the number of rows in the array, the second the number of columns. Of course, you have to make sure that the number of elements in the original list ([1,2,3,4]) equals the number of elements implied by the given dimension, here 2x2 = 4 - otherwise you will get an error. \n",
    "\n",
    "Moreover, note how NumPy applies the shape: it fills the 2D array row by row (rather than column by column)."
   ]
  },
  {
   "cell_type": "markdown",
   "metadata": {
    "slideshow": {
     "slide_type": "subslide"
    }
   },
   "source": [
    "You can also use the **shape** attribute to access an array's dimension. Note that a one-dimensional array, as defined above is by default *flat*: its dimension is *not*, for example, 4-by-1 (column vector) or 1-by-4 (row vector), but instead given as (4,). \n",
    "\n",
    "In order to change its dimension to (4,1) or (1,4) - and thus turn it into a *two-dimensional* array - you can use the **shape** attribute. "
   ]
  },
  {
   "cell_type": "code",
   "execution_count": 25,
   "metadata": {
    "slideshow": {
     "slide_type": "subslide"
    }
   },
   "outputs": [
    {
     "name": "stdout",
     "output_type": "stream",
     "text": [
      "A flat 1D array [1 2 3 4] with dimension (4,)\n"
     ]
    }
   ],
   "source": [
    "A = np.array([1,2,3,4])\n",
    "print('A flat 1D array', A, 'with dimension', A.shape)"
   ]
  },
  {
   "cell_type": "code",
   "execution_count": 26,
   "metadata": {
    "slideshow": {
     "slide_type": "subslide"
    }
   },
   "outputs": [
    {
     "name": "stdout",
     "output_type": "stream",
     "text": [
      "A column vector [[1]\n",
      " [2]\n",
      " [3]\n",
      " [4]] with dimension (4, 1)\n"
     ]
    }
   ],
   "source": [
    "# turn A into a 4-by-1 column vector\n",
    "A.shape = (4,1)\n",
    "print('A column vector', A, 'with dimension', A.shape)"
   ]
  },
  {
   "cell_type": "code",
   "execution_count": 27,
   "metadata": {
    "slideshow": {
     "slide_type": "subslide"
    }
   },
   "outputs": [
    {
     "name": "stdout",
     "output_type": "stream",
     "text": [
      "A row vector [[1 2 3 4]] with dimension (1, 4)\n"
     ]
    }
   ],
   "source": [
    "# turn A into a 4-by-1 column vector\n",
    "A.shape = (1,4)\n",
    "print('A row vector', A, 'with dimension', A.shape)"
   ]
  },
  {
   "cell_type": "markdown",
   "metadata": {
    "slideshow": {
     "slide_type": "subslide"
    }
   },
   "source": [
    "### Special Arrays\n",
    "\n",
    "There are other ways to create particular NumPy arrays. The functions **np.zeros** and **np.ones** create arrays filled with zeros and ones, respectively, where the input argument determines the number of elements. \n",
    "\n",
    "You can make them two-dimensional arrays right away by giving them the intended dimension, again as a tuple. "
   ]
  },
  {
   "cell_type": "code",
   "execution_count": 28,
   "metadata": {
    "slideshow": {
     "slide_type": "subslide"
    }
   },
   "outputs": [
    {
     "name": "stdout",
     "output_type": "stream",
     "text": [
      "A flat 1D array [0. 0. 0.] with dimension (3,)\n",
      "A 2D array [[1. 1.]\n",
      " [1. 1.]] with dimension (2, 2)\n"
     ]
    }
   ],
   "source": [
    "Z = np.zeros(3)\n",
    "print('A flat 1D array', Z, 'with dimension', Z.shape)\n",
    "\n",
    "O = np.ones((2,2))\n",
    "print('A 2D array', O, 'with dimension', O.shape)"
   ]
  },
  {
   "cell_type": "markdown",
   "metadata": {
    "slideshow": {
     "slide_type": "subslide"
    }
   },
   "source": [
    "The functions **np.eye** and **np.identity** create the identity matrix. Since this is by default a two-dimesional *square* matrix (number of rows = number of columns), it takes only one integer as an argument. \n",
    "\n",
    "**np.linspace(x, y, N)** is very useful for setting up a 1D array of N evenly spaced numbers between x and y."
   ]
  },
  {
   "cell_type": "code",
   "execution_count": 29,
   "metadata": {
    "slideshow": {
     "slide_type": "subslide"
    }
   },
   "outputs": [
    {
     "name": "stdout",
     "output_type": "stream",
     "text": [
      "The identity matrix [[1. 0.]\n",
      " [0. 1.]] with dimension (2, 2)\n",
      "A flat 1D array [1.  1.5 2.  2.5 3. ] with dimension (5,)\n"
     ]
    }
   ],
   "source": [
    "I = np.eye(2)\n",
    "print('The identity matrix', I, 'with dimension', I.shape)\n",
    "\n",
    "G = np.linspace(1, 3, 5)\n",
    "print('A flat 1D array', G, 'with dimension', G.shape)"
   ]
  },
  {
   "cell_type": "markdown",
   "metadata": {
    "slideshow": {
     "slide_type": "subslide"
    }
   },
   "source": [
    "### Indexing and Slicing\n",
    "\n",
    "As mentioned above, for a flat array, indexing is the same as standard Python sequences. For 2D arrays, the notation is similar, but using two indices, one for rows and one for columns. In other words, the slicing notation introduced for arrays is generalized in order to access multiple elements."
   ]
  },
  {
   "cell_type": "markdown",
   "metadata": {
    "slideshow": {
     "slide_type": "subslide"
    }
   },
   "source": [
    "For example, **A[0, 1]** accesses the element in array A which is in the *first row* (indices start at 0!) and *second column*. "
   ]
  },
  {
   "cell_type": "code",
   "execution_count": 30,
   "metadata": {
    "slideshow": {
     "slide_type": "-"
    }
   },
   "outputs": [
    {
     "name": "stdout",
     "output_type": "stream",
     "text": [
      "2\n",
      "9\n"
     ]
    }
   ],
   "source": [
    "A = np.array([[1,2,3], [4,5,6], [7,8,9]])  # create 2D array with dimension 3-by-3\n",
    "\n",
    "print(A[0, 1])    # print element in first row, second column\n",
    "print(A[-1, -1])  # print element in last row, last column"
   ]
  },
  {
   "cell_type": "code",
   "execution_count": 31,
   "metadata": {
    "slideshow": {
     "slide_type": "subslide"
    }
   },
   "outputs": [
    {
     "name": "stdout",
     "output_type": "stream",
     "text": [
      "[2 5 8]\n",
      "[7 8 9]\n",
      "[[1 2]\n",
      " [4 5]]\n"
     ]
    }
   ],
   "source": [
    "print(A[:,1])     # print second column; NB: resulting array is flat!\n",
    "print(A[2,:])     # print third row; NB: resulting array is flat!\n",
    "print(A[:2,:2])   # print elements in first two rows and first two columns"
   ]
  },
  {
   "cell_type": "markdown",
   "metadata": {
    "slideshow": {
     "slide_type": "subslide"
    }
   },
   "source": [
    "2D NumPy arrays can use the same methods as flat arrays. For example, using the **.mean()** method without an argument gives you the mean value across *all* elements in an array. \n",
    "\n",
    "In addition, you can also compute the mean for each column or each row separately, using **axis = 0** (across rows) and **axis = 1** (across columns). "
   ]
  },
  {
   "cell_type": "code",
   "execution_count": 32,
   "metadata": {
    "slideshow": {
     "slide_type": "subslide"
    }
   },
   "outputs": [
    {
     "name": "stdout",
     "output_type": "stream",
     "text": [
      "[[1 2 3]\n",
      " [4 5 6]\n",
      " [7 8 9]]\n",
      "5.0\n",
      "[4. 5. 6.]\n",
      "[2. 5. 8.]\n"
     ]
    }
   ],
   "source": [
    "print(A)\n",
    "print(A.mean())         # mean across all elements\n",
    "print(A.mean(axis = 0)) # mean for each column, across rows\n",
    "print(A.mean(axis = 1)) # mean for each row, across columns"
   ]
  },
  {
   "cell_type": "markdown",
   "metadata": {
    "slideshow": {
     "slide_type": "subslide"
    }
   },
   "source": [
    "### Vectorized Operations\n",
    "\n",
    "Vectorized operations work in the same way as they do for flat arrays. Vectorized functions such as **np.log** are applied to each element in the 2D array, while operations such as addition work elementwise; of course that implies that the two arrays you add must have the same dimension. "
   ]
  },
  {
   "cell_type": "code",
   "execution_count": 33,
   "metadata": {
    "slideshow": {
     "slide_type": "subslide"
    }
   },
   "outputs": [
    {
     "name": "stdout",
     "output_type": "stream",
     "text": [
      "[[0.         0.69314718 1.09861229]\n",
      " [1.38629436 1.60943791 1.79175947]\n",
      " [1.94591015 2.07944154 2.19722458]]\n"
     ]
    }
   ],
   "source": [
    "A = np.array([[1,2,3], [4,5,6], [7,8,9]])  # create 2D array with dimension 3-by-3\n",
    "B = np.ones((3,3))\n",
    "\n",
    "print(np.log(A))    # apply vectorized function"
   ]
  },
  {
   "cell_type": "markdown",
   "metadata": {
    "slideshow": {
     "slide_type": "subslide"
    }
   },
   "source": [
    "Caution: **A * B** performs elementwise multiplication, *not matrix multiplication*. Adding a scalar to a 2D array or multiplying a 2D array with a scalar works as expected. Finally, note that *comparisons* (e.g. A > 2 or A > B) are also done elementwise, resulting in a 2D arrays of Booleans with the same dimension as A."
   ]
  },
  {
   "cell_type": "code",
   "execution_count": 34,
   "metadata": {
    "slideshow": {
     "slide_type": "subslide"
    }
   },
   "outputs": [
    {
     "name": "stdout",
     "output_type": "stream",
     "text": [
      "[[ 2.  3.  4.]\n",
      " [ 5.  6.  7.]\n",
      " [ 8.  9. 10.]]\n",
      "[[1. 2. 3.]\n",
      " [4. 5. 6.]\n",
      " [7. 8. 9.]]\n"
     ]
    }
   ],
   "source": [
    "print(A + B)        # elementwise addition        \n",
    "print(A * B)        # elementwise multiplication"
   ]
  },
  {
   "cell_type": "code",
   "execution_count": 35,
   "metadata": {
    "slideshow": {
     "slide_type": "subslide"
    }
   },
   "outputs": [
    {
     "name": "stdout",
     "output_type": "stream",
     "text": [
      "[[ 5  6  7]\n",
      " [ 8  9 10]\n",
      " [11 12 13]]\n",
      "[[ 2  4  6]\n",
      " [ 8 10 12]\n",
      " [14 16 18]]\n"
     ]
    }
   ],
   "source": [
    "print(A + 4)        # adding a scalar\n",
    "print(A * 2)        # multiplying with a scalar"
   ]
  },
  {
   "cell_type": "code",
   "execution_count": 36,
   "metadata": {
    "slideshow": {
     "slide_type": "subslide"
    }
   },
   "outputs": [
    {
     "name": "stdout",
     "output_type": "stream",
     "text": [
      "[[False False  True]\n",
      " [ True  True  True]\n",
      " [ True  True  True]]\n",
      "[[False False False]\n",
      " [ True  True  True]\n",
      " [ True  True  True]]\n"
     ]
    }
   ],
   "source": [
    "print(A > 2)        # elementwise comparison to a scalar\n",
    "print(A > 3 * B)    # elementwise comparison between two arrays"
   ]
  },
  {
   "cell_type": "markdown",
   "metadata": {
    "slideshow": {
     "slide_type": "subslide"
    }
   },
   "source": [
    "### Index Arrays\n",
    "\n",
    "Note that the last example gives rise to NumPy *index arrays*. As an example, say you want to find all elements in a 1D or 2D array that are greater than 2. A straightforward way would be to use a loop, i.e. go through all elements in the array and check each of them successively, storing the ones that satisfy the condition. "
   ]
  },
  {
   "cell_type": "markdown",
   "metadata": {
    "slideshow": {
     "slide_type": "subslide"
    }
   },
   "source": [
    "However, there is a *vectorized* and hence much faster option. The key idea is that you can use NumPy arrays that consists of booleans as index arrays for other arrays, assuming they have the same dimension."
   ]
  },
  {
   "cell_type": "code",
   "execution_count": 37,
   "metadata": {},
   "outputs": [
    {
     "name": "stdout",
     "output_type": "stream",
     "text": [
      "[1 2]\n"
     ]
    }
   ],
   "source": [
    "Q = np.array([1, 2, 3])\n",
    "P = np.array([True, True, False])\n",
    "print(Q[P])"
   ]
  },
  {
   "cell_type": "markdown",
   "metadata": {
    "slideshow": {
     "slide_type": "subslide"
    }
   },
   "source": [
    "Basically, you keep only the elements of Q that correspond to a **True** Boolean in P. Using this idea, we can define B as **B = A > 2** and then use **A[B]** in order to get all elements of A greater than 2. In fact, we do not even have to define B, but can access these elements direcly: "
   ]
  },
  {
   "cell_type": "code",
   "execution_count": 38,
   "metadata": {},
   "outputs": [
    {
     "name": "stdout",
     "output_type": "stream",
     "text": [
      "[3 4 5 6 7 8 9]\n"
     ]
    }
   ],
   "source": [
    "print(A[A > 2])"
   ]
  },
  {
   "cell_type": "markdown",
   "metadata": {
    "slideshow": {
     "slide_type": "subslide"
    }
   },
   "source": [
    "In the same way, we can also change single values of the array depending on one or multiple conditions:"
   ]
  },
  {
   "cell_type": "code",
   "execution_count": 39,
   "metadata": {},
   "outputs": [
    {
     "name": "stdout",
     "output_type": "stream",
     "text": [
      "[[1 2 3]\n",
      " [4 5 0]\n",
      " [0 0 0]]\n"
     ]
    }
   ],
   "source": [
    "B = A.copy()\n",
    "B[B > 5] = 0\n",
    "print(B)"
   ]
  },
  {
   "cell_type": "markdown",
   "metadata": {
    "slideshow": {
     "slide_type": "subslide"
    }
   },
   "source": [
    "It is also possible to have multiple conditions with the & (and) or the | (or) operators."
   ]
  },
  {
   "cell_type": "code",
   "execution_count": 40,
   "metadata": {},
   "outputs": [
    {
     "name": "stdout",
     "output_type": "stream",
     "text": [
      "[[1 2 0]\n",
      " [0 5 0]\n",
      " [0 0 0]]\n"
     ]
    }
   ],
   "source": [
    "B[(B > 2) & (B < 5)] = 0\n",
    "# alternative \n",
    "# B[np.logical_and(B > 2, B < 5)] = 0 \n",
    "print(B)"
   ]
  },
  {
   "cell_type": "code",
   "execution_count": 41,
   "metadata": {
    "slideshow": {
     "slide_type": "subslide"
    }
   },
   "outputs": [
    {
     "name": "stdout",
     "output_type": "stream",
     "text": [
      "[[ 1  2  9]\n",
      " [16  5  6]\n",
      " [ 7  8  9]]\n"
     ]
    }
   ],
   "source": [
    "C = A.copy()\n",
    "C[(C > 2) & (C < 5)] = C[(C > 2) & (C < 5)]**2\n",
    "# alternatively: \n",
    "# C[(C > 2) & (C < 5)] **=2\n",
    "print(C)"
   ]
  },
  {
   "cell_type": "code",
   "execution_count": 42,
   "metadata": {
    "slideshow": {
     "slide_type": "subslide"
    }
   },
   "outputs": [
    {
     "name": "stdout",
     "output_type": "stream",
     "text": [
      "[[ 1  4  3]\n",
      " [ 4  5 36]\n",
      " [49 64 81]]\n"
     ]
    }
   ],
   "source": [
    "C = A.copy()\n",
    "C[(C > 5) | (C < 3)] = C[(C > 5) | (C < 3)]**2\n",
    "# alternatively: \n",
    "# C[(C > 2) | (C < 5)] **=2\n",
    "print(C)"
   ]
  },
  {
   "cell_type": "markdown",
   "metadata": {
    "slideshow": {
     "slide_type": "subslide"
    }
   },
   "source": [
    "It might also be useful to see where the elements that satisfy one or more conditions are located in an array. The function **np.where()** returns a tuples that contains a list of the row indices and a list of the column indices of those elements that satisfy the conditions."
   ]
  },
  {
   "cell_type": "code",
   "execution_count": 43,
   "metadata": {
    "slideshow": {
     "slide_type": "subslide"
    }
   },
   "outputs": [
    {
     "name": "stdout",
     "output_type": "stream",
     "text": [
      "(array([0, 1, 1, 1, 2, 2, 2]), array([2, 0, 1, 2, 0, 1, 2]))\n",
      "3\n",
      "4\n",
      "5\n",
      "6\n",
      "7\n",
      "8\n",
      "9\n"
     ]
    }
   ],
   "source": [
    "print(np.where(A > 2))\n",
    "rows, columns = np.where(A > 2)\n",
    "\n",
    "## use zip function to get index pairs\n",
    "for idxr, idxc in zip(rows, columns):\n",
    "    print(A[idxr, idxc])"
   ]
  },
  {
   "cell_type": "markdown",
   "metadata": {
    "slideshow": {
     "slide_type": "skip"
    }
   },
   "source": [
    "----------------------------------------------------------------------------------------------------------------------"
   ]
  },
  {
   "cell_type": "markdown",
   "metadata": {
    "slideshow": {
     "slide_type": "subslide"
    }
   },
   "source": [
    "### Exercise 2\n",
    "\n",
    "(a) For the last case in exercise 1(b) with **N = 1000000**, use an index array or Numpy's **where** function to find the share of draws that is either less than -1.96 or greater than 1.96. What's your expectation what this share should be?\n",
    "\n",
    "(b) Create a two-dimensional 4-by-4 NumPy array **Ar** with elements from 1 to 16. A quick way to do is using Python **range** function and the **shape** method of NP arrays. Recall from linear algebra that multiplying any matrix with the identity matrix **Id** just results in same matrix (i.e. $I \\cdot Ar = Ar \\cdot I = Ar$). Confirm this using your array **Ar**. What happens if you multiply **Ar** with an array of the same dimension that consists only of 1s?\n",
    "\n",
    "(c) Write a function **get_diag** that takes a *square* matrix of dimension **nn** and returns a flat array of length **nn** that contains the elements on the matrix' diagonal. The first thing the function should do is checking if the input is a square array and give an error message otherwise. You could this in many ways; one neat option is an **assert** statement (check the documentation!). Alternatively, you could use a print statement and interrupt the function with **Return None**."
   ]
  },
  {
   "cell_type": "code",
   "execution_count": null,
   "metadata": {},
   "outputs": [],
   "source": []
  },
  {
   "cell_type": "markdown",
   "metadata": {
    "slideshow": {
     "slide_type": "skip"
    }
   },
   "source": [
    "----------------------------------------------------------------------------------------------------------------------"
   ]
  },
  {
   "cell_type": "markdown",
   "metadata": {
    "slideshow": {
     "slide_type": "subslide"
    }
   },
   "source": [
    "### Matrix Multiplication\n",
    "\n",
    "*Matrix multiplication* is an important operation in the context of linear algebra. For Python 3.5 and above, you can use the **'@'** symbol for matrix multiplication. In ealier version, you have to use **np.dot(A, B)**.\n",
    "\n",
    "The usual requirement for matrix multiplications apply. In particular, the number of columns of the first array must be equal to the number of row in the second array. "
   ]
  },
  {
   "cell_type": "code",
   "execution_count": 44,
   "metadata": {
    "slideshow": {
     "slide_type": "subslide"
    }
   },
   "outputs": [
    {
     "name": "stdout",
     "output_type": "stream",
     "text": [
      "[[ 3.  3.  3.  3.]\n",
      " [ 9.  9.  9.  9.]\n",
      " [15. 15. 15. 15.]]\n"
     ]
    }
   ],
   "source": [
    "A = np.array([[1,2], [4,5], [7,8]])  # create 2D array with dimension 3-by-2\n",
    "B = np.ones((2,4))\n",
    "\n",
    "print(A @ B)"
   ]
  },
  {
   "cell_type": "markdown",
   "metadata": {
    "slideshow": {
     "slide_type": "subslide"
    }
   },
   "source": [
    "For flat arrays, matrix multiplication gives the inner product: "
   ]
  },
  {
   "cell_type": "code",
   "execution_count": 45,
   "metadata": {},
   "outputs": [
    {
     "name": "stdout",
     "output_type": "stream",
     "text": [
      "10\n",
      "10\n"
     ]
    }
   ],
   "source": [
    "A = np.array([1,2,3,4])\n",
    "B = np.array([1,1,1,1])\n",
    "print(A @ B)\n",
    "print(B @ A)\n"
   ]
  },
  {
   "cell_type": "markdown",
   "metadata": {
    "slideshow": {
     "slide_type": "skip"
    }
   },
   "source": [
    "----------------------------------------------------------------------------------------------------------------------\n",
    "<a id = \"multi\"></a>"
   ]
  },
  {
   "cell_type": "markdown",
   "metadata": {
    "slideshow": {
     "slide_type": "skip"
    }
   },
   "source": [
    "## Multidimensional Arrays\n",
    "\n",
    "As the name of ndarray stems from n-dimensional array, it's useful to point to the fact that NP arrays are not restricted to 2 dimensions. I will not go into details here but just have a look at basic properties. \n",
    "\n",
    "One option to generate a 3-D array is to stack two 2-D arrays with the function **np.stack**. The argument *axis* is optional and give the direction (in the 3-D Array), in which the input arrays are stacked."
   ]
  },
  {
   "cell_type": "code",
   "execution_count": 46,
   "metadata": {
    "slideshow": {
     "slide_type": "skip"
    }
   },
   "outputs": [
    {
     "name": "stdout",
     "output_type": "stream",
     "text": [
      "[[[1. 2. 3.]\n",
      "  [4. 5. 6.]\n",
      "  [7. 8. 9.]]\n",
      "\n",
      " [[1. 1. 1.]\n",
      "  [1. 1. 1.]\n",
      "  [1. 1. 1.]]]\n",
      "(2, 3, 3)\n"
     ]
    }
   ],
   "source": [
    "A = np.array([[1,2,3], [4,5,6], [7,8,9]])  # create 2D array with dimension 3-by-3\n",
    "B = np.ones((3,3))\n",
    "\n",
    "S = np.stack((A, B), axis = 0)\n",
    "print(S)\n",
    "print(S.shape)"
   ]
  },
  {
   "cell_type": "markdown",
   "metadata": {
    "slideshow": {
     "slide_type": "skip"
    }
   },
   "source": [
    "Multidimensional arrays can also be also be constructed by **np.ones** or **np.zeros** and can have more than 3 dimensions as well."
   ]
  },
  {
   "cell_type": "code",
   "execution_count": 47,
   "metadata": {
    "slideshow": {
     "slide_type": "skip"
    }
   },
   "outputs": [
    {
     "name": "stdout",
     "output_type": "stream",
     "text": [
      "[[[[1. 1.]\n",
      "   [1. 1.]]\n",
      "\n",
      "  [[1. 1.]\n",
      "   [1. 1.]]]\n",
      "\n",
      "\n",
      " [[[1. 1.]\n",
      "   [1. 1.]]\n",
      "\n",
      "  [[1. 1.]\n",
      "   [1. 1.]]]]\n"
     ]
    }
   ],
   "source": [
    "# 4-dimensional array filled with ones and two elements in each dimension\n",
    "Om = np.ones((2,2,2,2))\n",
    "print(Om)"
   ]
  },
  {
   "cell_type": "code",
   "execution_count": 48,
   "metadata": {
    "slideshow": {
     "slide_type": "skip"
    }
   },
   "outputs": [
    {
     "name": "stdout",
     "output_type": "stream",
     "text": [
      "[[[[0. 0. 0. 0.]\n",
      "   [0. 0. 0. 0.]\n",
      "   [0. 0. 0. 0.]]\n",
      "\n",
      "  [[0. 0. 0. 0.]\n",
      "   [0. 0. 0. 0.]\n",
      "   [0. 0. 0. 0.]]]\n",
      "\n",
      "\n",
      " [[[0. 0. 0. 0.]\n",
      "   [0. 0. 0. 0.]\n",
      "   [0. 0. 0. 0.]]\n",
      "\n",
      "  [[0. 0. 0. 0.]\n",
      "   [0. 0. 0. 0.]\n",
      "   [0. 0. 0. 0.]]]]\n"
     ]
    }
   ],
   "source": [
    "# 4-dimensional array of zeros, diffent number of elements in the dimensions\n",
    "Zm = np.zeros((2,2,3,4))\n",
    "print(Zm)"
   ]
  },
  {
   "cell_type": "markdown",
   "metadata": {
    "slideshow": {
     "slide_type": "skip"
    }
   },
   "source": [
    "The elements of the array can be accessed by a vector with the position in each dimension, e.g [1,3,2] accesses the element at the second position in the first dimension, the fourth position in the second dimensions and the third position in the third dimension."
   ]
  },
  {
   "cell_type": "code",
   "execution_count": 49,
   "metadata": {
    "slideshow": {
     "slide_type": "skip"
    }
   },
   "outputs": [
    {
     "name": "stdout",
     "output_type": "stream",
     "text": [
      "[[[[0. 0. 0. 0.]\n",
      "   [0. 0. 0. 0.]\n",
      "   [0. 0. 0. 0.]]\n",
      "\n",
      "  [[1. 0. 0. 0.]\n",
      "   [0. 0. 0. 0.]\n",
      "   [0. 0. 0. 0.]]]\n",
      "\n",
      "\n",
      " [[[0. 0. 0. 0.]\n",
      "   [0. 0. 0. 0.]\n",
      "   [0. 0. 0. 0.]]\n",
      "\n",
      "  [[0. 0. 0. 0.]\n",
      "   [0. 0. 0. 0.]\n",
      "   [0. 0. 0. 0.]]]]\n"
     ]
    }
   ],
   "source": [
    "Zm[0,1,0,0] = 1\n",
    "print(Zm)\n",
    "#Zm[0,:,:,:] = 1\n",
    "#print(Zm)"
   ]
  },
  {
   "cell_type": "markdown",
   "metadata": {
    "slideshow": {
     "slide_type": "skip"
    }
   },
   "source": [
    "----------------------------------------------------------------------------------------------------------------------\n",
    "<a id = \"stock\"></a>"
   ]
  },
  {
   "cell_type": "markdown",
   "metadata": {
    "slideshow": {
     "slide_type": "slide"
    }
   },
   "source": [
    "## Taking Stock\n",
    "\n",
    "Recall from above that we have defined a Cobb-Douglas production function that can take scalars (integer or floats) as arguments. For convenience, it is defined again below. We also noted that if we want to compute the output for several *(E,L)* combinations simultaneously, we need to use a loop since the function could not operate on Python lists. "
   ]
  },
  {
   "cell_type": "markdown",
   "metadata": {
    "slideshow": {
     "slide_type": "subslide"
    }
   },
   "source": [
    "In fact, in terms of the terminology that we learnt in this section, what we want our **cobb_douglas** function to do is to be able to perform a vectorized operation on two arrays of inputs. It should not come as a surprise that the function does exactly that when we use NumPy arrays rather than lists as input arguments:"
   ]
  },
  {
   "cell_type": "code",
   "execution_count": 50,
   "metadata": {
    "slideshow": {
     "slide_type": "subslide"
    }
   },
   "outputs": [
    {
     "name": "stdout",
     "output_type": "stream",
     "text": [
      "[2.13796209 1.42705172 1.16282525]\n"
     ]
    }
   ],
   "source": [
    "def cobb_douglas(E, L, alpha = 0.5):\n",
    "    \"\"\"\n",
    "    Implements the Cobb-Douglas production function: y = E**alpha * L**alpha\n",
    "    \"\"\"\n",
    "    y = E**alpha * L**(1 - alpha)\n",
    "    return y\n",
    "\n",
    "# run the function with NP arrays as inputs\n",
    "print(cobb_douglas(np.array([10, 12, 15]), np.array([1, 0.5, 0.33]), 0.33)) "
   ]
  },
  {
   "cell_type": "markdown",
   "metadata": {
    "slideshow": {
     "slide_type": "skip"
    }
   },
   "source": [
    "----------------------------------------------------------------------------------------------------------------------\n",
    "<a id = \"mat\"></a>"
   ]
  },
  {
   "cell_type": "markdown",
   "metadata": {
    "slideshow": {
     "slide_type": "subslide"
    }
   },
   "source": [
    "## Matplotlib\n",
    "\n",
    "*Matplotlib* is an outstanding graphics library, designed for scientific computing, with high quality 2D and 3D plots\n",
    "and output in all the usual formats (PDF, PNG, etc.). To import it, run the following code:"
   ]
  },
  {
   "cell_type": "code",
   "execution_count": 51,
   "metadata": {},
   "outputs": [],
   "source": [
    "import matplotlib.pyplot as plt\n",
    "%matplotlib inline"
   ]
  },
  {
   "cell_type": "markdown",
   "metadata": {
    "slideshow": {
     "slide_type": "subslide"
    }
   },
   "source": [
    "The second line imports Matplotlib's subpackage **pyplot**. The third line tells the Jupyter notebook to display figures not in separate windows, but as part of the output below the cell. This line is specific to using Matplotlib in a Jupyter notebook."
   ]
  },
  {
   "cell_type": "markdown",
   "metadata": {
    "slideshow": {
     "slide_type": "subslide"
    }
   },
   "source": [
    "Before going into details, we should emphasize that the material presented here only scratches the very surface of creating plots and figures with Matplotlib. There is a lot of advanced functionality - you can compare compare the offical documentation, including the very illustrative Matplotlib gallery, for more examples.\n",
    "\n",
    "http://matplotlib.org/1.5.1/index.html\n",
    "\n",
    "http://matplotlib.org/gallery.html"
   ]
  },
  {
   "cell_type": "markdown",
   "metadata": {
    "slideshow": {
     "slide_type": "subslide"
    }
   },
   "source": [
    "### Line Plots\n",
    "\n",
    "Matplotlib allows you to choose from a large number of different graph types, for example scatter plots, histograms, or pie charts. The easiest way to plot a data sequence **yy** over a data sequence **xx** is a simple line plot, using the the **plt.plot()** function."
   ]
  },
  {
   "cell_type": "code",
   "execution_count": 53,
   "metadata": {
    "slideshow": {
     "slide_type": "subslide"
    }
   },
   "outputs": [
    {
     "data": {
      "text/plain": [
       "[<matplotlib.lines.Line2D at 0x1272aa780>]"
      ]
     },
     "execution_count": 53,
     "metadata": {},
     "output_type": "execute_result"
    },
    {
     "data": {
      "image/png": "[encoded data removed]",
      "text/plain": [
       "<Figure size 432x288 with 1 Axes>"
      ]
     },
     "metadata": {
      "needs_background": "light"
     },
     "output_type": "display_data"
    }
   ],
   "source": [
    "xx = np.linspace(0,5,100)\n",
    "yy = xx**2\n",
    "plt.plot(xx, yy, 'r-', linewidth=2)\n",
    "# plt.show()"
   ]
  },
  {
   "cell_type": "markdown",
   "metadata": {
    "slideshow": {
     "slide_type": "subslide"
    }
   },
   "source": [
    "We can give additional *optional* arguments to the plot function, for example an argument for the color, here **-r** for red (the default is blue) and **linewidth=2** to draw the line a bit thicker than the default. \n",
    "\n",
    "Note that in other Python environments, the **plt.show()** statement may be necessary for displaying the figure. "
   ]
  },
  {
   "cell_type": "markdown",
   "metadata": {
    "slideshow": {
     "slide_type": "subslide"
    }
   },
   "source": [
    "Instead of the simple syntax above, I would recommend to use the following code when implementing graphics, which defines a *Figure* and a an *AxesSubplot* object. \n",
    "\n",
    "**plot()** as well as other functions are then used as methods of **ax**. The main advantage of using this syntax is that you have much more ways (via methods) to customize your graph. For example, you can add labels, a title and a legend. "
   ]
  },
  {
   "cell_type": "code",
   "execution_count": 54,
   "metadata": {
    "slideshow": {
     "slide_type": "subslide"
    }
   },
   "outputs": [
    {
     "data": {
      "text/plain": [
       "<matplotlib.legend.Legend at 0x1272e7390>"
      ]
     },
     "execution_count": 54,
     "metadata": {},
     "output_type": "execute_result"
    },
    {
     "data": {
      "image/png": "[encoded data removed]",
      "text/plain": [
       "<Figure size 432x288 with 1 Axes>"
      ]
     },
     "metadata": {
      "needs_background": "light"
     },
     "output_type": "display_data"
    }
   ],
   "source": [
    "xx = np.linspace(0,5,100)\n",
    "yy = xx**2\n",
    "fig, ax = plt.subplots()\n",
    "ax.plot(xx, yy, 'r-', linewidth=2, label = '$y = x^2$')\n",
    "ax.set_title('Plotting the quadratic function')\n",
    "ax.set_xlabel('x')\n",
    "ax.set_ylabel('$y$')\n",
    "ax.legend(loc = 'upper center')"
   ]
  },
  {
   "cell_type": "markdown",
   "metadata": {
    "slideshow": {
     "slide_type": "subslide"
    }
   },
   "source": [
    "Note that each of the strings can be combined with LaTeX syntax to implement mathematical expression. What is shown in the legend field is determined by the *label* argument of the plot method. Its position can be set with the *loc* argument.\n",
    "\n",
    "You can also combine multiple plots in one figure."
   ]
  },
  {
   "cell_type": "code",
   "execution_count": 55,
   "metadata": {
    "slideshow": {
     "slide_type": "subslide"
    }
   },
   "outputs": [],
   "source": [
    "x = np.linspace(0,5,100)\n",
    "y = np.sin(x)\n",
    "z = np.cos(x)"
   ]
  },
  {
   "cell_type": "code",
   "execution_count": 56,
   "metadata": {
    "slideshow": {
     "slide_type": "subslide"
    }
   },
   "outputs": [
    {
     "data": {
      "text/plain": [
       "<matplotlib.legend.Legend at 0x1274ecd30>"
      ]
     },
     "execution_count": 56,
     "metadata": {},
     "output_type": "execute_result"
    },
    {
     "data": {
      "image/png": "[encoded data removed]",
      "text/plain": [
       "<Figure size 432x288 with 1 Axes>"
      ]
     },
     "metadata": {
      "needs_background": "light"
     },
     "output_type": "display_data"
    }
   ],
   "source": [
    "fig, ax = plt.subplots()\n",
    "ax.plot(x, y, 'r-', linewidth=2, label = '$sin(x)$')\n",
    "ax.plot(x, z, 'g-', linewidth=2, label = '$cos(x)$')\n",
    "ax.set_title('Plotting sine and cosine')\n",
    "ax.set_xlabel('$x$')\n",
    "ax.set_ylabel('$y$')\n",
    "ax.legend(loc = 'upper right')"
   ]
  },
  {
   "cell_type": "markdown",
   "metadata": {
    "slideshow": {
     "slide_type": "subslide"
    }
   },
   "source": [
    "An another example, consider the Cobb-Douglas production defined above. As an illustration, we plot output levels against input quantities for one of the production factors (keeping the other one fixed). Since labor supply is constrained by 1, it makes sense to fix it at this level, and plot $y$ against $E$, say over a grid between 0 and 10 (these values are rather arbitrary). "
   ]
  },
  {
   "cell_type": "markdown",
   "metadata": {
    "slideshow": {
     "slide_type": "subslide"
    }
   },
   "source": [
    "We can use NumPy **linspace** function and compute the output value for 100 grid points. Given this grid, we let Python compute and draw two output plots, one for $\\alpha = 0.5$ (the default value) and one for $\\alpha = 0.33$ - recall that $\\alpha$ denotes the exponent in the Cobb-Douglas function, which equals the factor income share of $E$ in this example. \n",
    "\n",
    "As we would expect, the resulting plots are concave, and a higher $\\alpha$ corresponds to a higher output level."
   ]
  },
  {
   "cell_type": "code",
   "execution_count": 57,
   "metadata": {
    "slideshow": {
     "slide_type": "subslide"
    }
   },
   "outputs": [],
   "source": [
    "N = 100\n",
    "## interpolate first production factor over equidistant grid\n",
    "E = np.linspace(0, 10, N)"
   ]
  },
  {
   "cell_type": "code",
   "execution_count": 58,
   "metadata": {
    "slideshow": {
     "slide_type": "subslide"
    }
   },
   "outputs": [
    {
     "data": {
      "text/plain": [
       "<matplotlib.legend.Legend at 0x127616940>"
      ]
     },
     "execution_count": 58,
     "metadata": {},
     "output_type": "execute_result"
    },
    {
     "data": {
      "image/png": "[encoded data removed]",
      "text/plain": [
       "<Figure size 432x288 with 1 Axes>"
      ]
     },
     "metadata": {
      "needs_background": "light"
     },
     "output_type": "display_data"
    }
   ],
   "source": [
    "fig, ax = plt.subplots()\n",
    "ax.plot(E, cobb_douglas(E, 1), 'r-', label = '$\\\\alpha = 0.5$', linewidth=2)\n",
    "ax.plot(E, cobb_douglas(E, 1, 0.33), 'b-', label = '$\\\\alpha = 0.33$', linewidth=2)\n",
    "ax.set_title('Output from a Cobb-Douglas PF')\n",
    "ax.set_xlabel('$E$')\n",
    "ax.set_ylabel('$Y$')\n",
    "ax.legend(loc = 'upper left')"
   ]
  },
  {
   "cell_type": "markdown",
   "metadata": {
    "slideshow": {
     "slide_type": "skip"
    }
   },
   "source": [
    "----------------------------------------------------------------------------------------------------------------------"
   ]
  },
  {
   "cell_type": "markdown",
   "metadata": {
    "slideshow": {
     "slide_type": "subslide"
    }
   },
   "source": [
    "### Exercise 3\n",
    "\n",
    "(a) Draw the function $y=log(x)$ on the interval from 1 to 10\n",
    "\n",
    "(b) Draw the function $y=x^3$ on the interval from -10 to 10. Compile the plot once with N=5 and with N=100 individual values for the x-axis, both in the same figure. Set two different colors for the to lines.\n"
   ]
  },
  {
   "cell_type": "code",
   "execution_count": null,
   "metadata": {},
   "outputs": [],
   "source": []
  },
  {
   "cell_type": "markdown",
   "metadata": {
    "slideshow": {
     "slide_type": "skip"
    }
   },
   "source": [
    "----------------------------------------------------------------------------------------------------------------------"
   ]
  },
  {
   "cell_type": "markdown",
   "metadata": {
    "slideshow": {
     "slide_type": "subslide"
    }
   },
   "source": [
    "### Contour Plots\n",
    "\n",
    "Another way to plot three-dimensional data such as provided by the Cobb-Douglas function above are *contour plots*. They are a graphical representation of isoquants, which you may remember from elementary economics courses (e.g. indifference curves in utility theory or production isoquants). "
   ]
  },
  {
   "cell_type": "markdown",
   "metadata": {
    "slideshow": {
     "slide_type": "subslide"
    }
   },
   "source": [
    "In the Cobb-Douglas examples, a line in a contour plot represents all possible (**E, L**) combinations that obtain a given output level. In Matplotlib, such a plot can be called by the **contour** method."
   ]
  },
  {
   "cell_type": "code",
   "execution_count": 59,
   "metadata": {
    "slideshow": {
     "slide_type": "subslide"
    }
   },
   "outputs": [],
   "source": [
    "N = 11\n",
    "## interpolate both production factors over equidistant grid\n",
    "E = np.linspace(0, 10, N)\n",
    "L = np.linspace(0, 1, N)\n",
    "## use meshgrid function \n",
    "X, Y = np.meshgrid(E, L)\n",
    "Z = cobb_douglas(X, Y)"
   ]
  },
  {
   "cell_type": "code",
   "execution_count": 60,
   "metadata": {
    "slideshow": {
     "slide_type": "subslide"
    }
   },
   "outputs": [
    {
     "data": {
      "text/plain": [
       "<matplotlib.contour.QuadContourSet at 0x12777fbe0>"
      ]
     },
     "execution_count": 60,
     "metadata": {},
     "output_type": "execute_result"
    },
    {
     "data": {
      "image/png": "[encoded data removed]",
      "text/plain": [
       "<Figure size 432x288 with 1 Axes>"
      ]
     },
     "metadata": {
      "needs_background": "light"
     },
     "output_type": "display_data"
    }
   ],
   "source": [
    "## plot contour\n",
    "fig, ax = plt.subplots()\n",
    "ax.contour(E, L, Z, cmap='viridis')"
   ]
  },
  {
   "cell_type": "markdown",
   "metadata": {
    "slideshow": {
     "slide_type": "subslide"
    }
   },
   "source": [
    "Note that each of the functional values **'Z'** above is the combination of of two inputs, one element of **'E'** and one element of **'L'**. In other words, if we have e.g. 10 values for both **'E'** and **'L'**, we have 100 function values. "
   ]
  },
  {
   "cell_type": "markdown",
   "metadata": {
    "slideshow": {
     "slide_type": "subslide"
    }
   },
   "source": [
    "A quick way for both computing function values and plotting is Numpy's **meshgrid** function. It takes two one-dimensional arrays and \"makes them two-dimensional\", by stacking up either the same row or the same column vector. \n",
    "\n",
    "The resulting matrices can be used in the function to compute the two-dimensional functional values as a vectorized operation."
   ]
  },
  {
   "cell_type": "code",
   "execution_count": 61,
   "metadata": {
    "slideshow": {
     "slide_type": "subslide"
    }
   },
   "outputs": [
    {
     "name": "stdout",
     "output_type": "stream",
     "text": [
      "[[ 0.  1.  2.  3.  4.  5.  6.  7.  8.  9. 10.]\n",
      " [ 0.  1.  2.  3.  4.  5.  6.  7.  8.  9. 10.]\n",
      " [ 0.  1.  2.  3.  4.  5.  6.  7.  8.  9. 10.]\n",
      " [ 0.  1.  2.  3.  4.  5.  6.  7.  8.  9. 10.]\n",
      " [ 0.  1.  2.  3.  4.  5.  6.  7.  8.  9. 10.]\n",
      " [ 0.  1.  2.  3.  4.  5.  6.  7.  8.  9. 10.]\n",
      " [ 0.  1.  2.  3.  4.  5.  6.  7.  8.  9. 10.]\n",
      " [ 0.  1.  2.  3.  4.  5.  6.  7.  8.  9. 10.]\n",
      " [ 0.  1.  2.  3.  4.  5.  6.  7.  8.  9. 10.]\n",
      " [ 0.  1.  2.  3.  4.  5.  6.  7.  8.  9. 10.]\n",
      " [ 0.  1.  2.  3.  4.  5.  6.  7.  8.  9. 10.]]\n"
     ]
    }
   ],
   "source": [
    "print(X)"
   ]
  },
  {
   "cell_type": "code",
   "execution_count": 62,
   "metadata": {
    "slideshow": {
     "slide_type": "subslide"
    }
   },
   "outputs": [
    {
     "name": "stdout",
     "output_type": "stream",
     "text": [
      "[[0.  0.  0.  0.  0.  0.  0.  0.  0.  0.  0. ]\n",
      " [0.1 0.1 0.1 0.1 0.1 0.1 0.1 0.1 0.1 0.1 0.1]\n",
      " [0.2 0.2 0.2 0.2 0.2 0.2 0.2 0.2 0.2 0.2 0.2]\n",
      " [0.3 0.3 0.3 0.3 0.3 0.3 0.3 0.3 0.3 0.3 0.3]\n",
      " [0.4 0.4 0.4 0.4 0.4 0.4 0.4 0.4 0.4 0.4 0.4]\n",
      " [0.5 0.5 0.5 0.5 0.5 0.5 0.5 0.5 0.5 0.5 0.5]\n",
      " [0.6 0.6 0.6 0.6 0.6 0.6 0.6 0.6 0.6 0.6 0.6]\n",
      " [0.7 0.7 0.7 0.7 0.7 0.7 0.7 0.7 0.7 0.7 0.7]\n",
      " [0.8 0.8 0.8 0.8 0.8 0.8 0.8 0.8 0.8 0.8 0.8]\n",
      " [0.9 0.9 0.9 0.9 0.9 0.9 0.9 0.9 0.9 0.9 0.9]\n",
      " [1.  1.  1.  1.  1.  1.  1.  1.  1.  1.  1. ]]\n"
     ]
    }
   ],
   "source": [
    "print(Y)"
   ]
  },
  {
   "cell_type": "markdown",
   "metadata": {
    "slideshow": {
     "slide_type": "subslide"
    }
   },
   "source": [
    "Depending on the functional relationship you plot, a contour plot can look quite fancy. Consider the example below that plots the sine of the squared sum of two numbers."
   ]
  },
  {
   "cell_type": "code",
   "execution_count": 63,
   "metadata": {
    "slideshow": {
     "slide_type": "subslide"
    }
   },
   "outputs": [
    {
     "data": {
      "text/plain": [
       "<matplotlib.contour.QuadContourSet at 0x1277b7dd8>"
      ]
     },
     "execution_count": 63,
     "metadata": {},
     "output_type": "execute_result"
    },
    {
     "data": {
      "image/png": "[encoded data removed]",
      "text/plain": [
       "<Figure size 432x288 with 1 Axes>"
      ]
     },
     "metadata": {
      "needs_background": "light"
     },
     "output_type": "display_data"
    }
   ],
   "source": [
    "x = np.arange(-5.01, 5.01, 0.25)\n",
    "y = np.arange(-5.01, 5.01, 0.25)\n",
    "xx, yy = np.meshgrid(x, y)\n",
    "zz = np.sin(xx**2+yy**2)\n",
    "\n",
    "## plot contour\n",
    "fig, ax = plt.subplots()\n",
    "ax.contour(x, y, zz, cmap='viridis')"
   ]
  },
  {
   "cell_type": "markdown",
   "metadata": {
    "slideshow": {
     "slide_type": "subslide"
    }
   },
   "source": [
    "We get some insight why the contour plot looks like this if we fix the second argument and plot the relevant column of **zz** over **x**:"
   ]
  },
  {
   "cell_type": "code",
   "execution_count": 64,
   "metadata": {},
   "outputs": [
    {
     "data": {
      "text/plain": [
       "[<matplotlib.lines.Line2D at 0x12797fd30>]"
      ]
     },
     "execution_count": 64,
     "metadata": {},
     "output_type": "execute_result"
    },
    {
     "data": {
      "image/png": "[encoded data removed]",
      "text/plain": [
       "<Figure size 432x288 with 1 Axes>"
      ]
     },
     "metadata": {
      "needs_background": "light"
     },
     "output_type": "display_data"
    }
   ],
   "source": [
    "fig, ax = plt.subplots()\n",
    "ax.plot(x, zz[0,:])"
   ]
  },
  {
   "cell_type": "markdown",
   "metadata": {
    "slideshow": {
     "slide_type": "subslide"
    }
   },
   "source": [
    "### Bar Plots\n",
    "\n",
    "Bar plots are a way to illustrate frequencies in a data set. As a (non-economic) example, we have data on when in a game the clubs from the German Bundesliga scored their goals during the 2016/17 season. \n",
    "\n",
    "The \"bins\" for the minutes are the following: ['1 - 15', '16 - 30', '31 - 45', '45+', '46 - 60', '61 - 75', '76 - 90', '90+']. "
   ]
  },
  {
   "cell_type": "markdown",
   "metadata": {
    "slideshow": {
     "slide_type": "subslide"
    }
   },
   "source": [
    "The data is stored in text file. We can use Numpy's very useful **loadtxt** function to directly load this (purely numerical) data into a Numpy array."
   ]
  },
  {
   "cell_type": "code",
   "execution_count": 65,
   "metadata": {
    "slideshow": {
     "slide_type": "-"
    }
   },
   "outputs": [
    {
     "name": "stdout",
     "output_type": "stream",
     "text": [
      "(18, 8)\n"
     ]
    }
   ],
   "source": [
    "## load data from txt-file\n",
    "D = np.loadtxt('Data/goal_dis.txt')\n",
    "print(D.shape)"
   ]
  },
  {
   "cell_type": "markdown",
   "metadata": {
    "slideshow": {
     "slide_type": "subslide"
    }
   },
   "source": [
    "As a side note, a better way to store this data would be in a *Pandas dataframe* - we'll get to that in the next lecture. \n",
    "\n",
    "The resulting Numpy array has 18 rows (one for each club) and 8 columns (one for each bin). To get the total number of goals for each bin, we sum across the rows. We can then generate a bar plot using the **bar** method. The height of each bar indicates how many observations (goals) are in the corresponding bin."
   ]
  },
  {
   "cell_type": "code",
   "execution_count": 66,
   "metadata": {
    "slideshow": {
     "slide_type": "subslide"
    }
   },
   "outputs": [],
   "source": [
    "## bins\n",
    "labels = ['1 - 15', '16 - 30', '31 - 45', '45+', '46 - 60', '61 - 75', '76 - 90', '90+']\n",
    "\n",
    "## sum across the rows\n",
    "tot = D.sum(axis = 0)"
   ]
  },
  {
   "cell_type": "code",
   "execution_count": 67,
   "metadata": {
    "slideshow": {
     "slide_type": "subslide"
    }
   },
   "outputs": [
    {
     "data": {
      "image/png": "[encoded data removed]",
      "text/plain": [
       "<Figure size 432x288 with 1 Axes>"
      ]
     },
     "metadata": {
      "needs_background": "light"
     },
     "output_type": "display_data"
    }
   ],
   "source": [
    "fig, ax = plt.subplots()\n",
    "ax.bar(range(8), height = tot)\n",
    "ax.set_xticks( np.array(range(0,8)) )\n",
    "ax.set_xticklabels(np.array(labels))\n",
    "plt.show()"
   ]
  },
  {
   "cell_type": "markdown",
   "metadata": {
    "slideshow": {
     "slide_type": "subslide"
    }
   },
   "source": [
    "This example also illustrates other useful methods to use when plotting **set_xticks** and **set_xticklabels**. They allow you to customize the labeling on the axes of your graph."
   ]
  },
  {
   "cell_type": "markdown",
   "metadata": {
    "slideshow": {
     "slide_type": "subslide"
    }
   },
   "source": [
    "### Histograms\n",
    "\n",
    "Histograms are a particular type of bar chart and a common type of graph in statistics. As an example, below we sample 50000 draws from a normal distribution using Scipy's **stats** package (more on this in the next lecture!). "
   ]
  },
  {
   "cell_type": "markdown",
   "metadata": {
    "slideshow": {
     "slide_type": "subslide"
    }
   },
   "source": [
    "We then plot the sampling distribution in a histogram with 30 bins using the **hist** method. Just for illustration, we also plot the pdf of the normal distribution. Feel free to look up the documentation of **hist** and play around with the settings, in particular the number of bins."
   ]
  },
  {
   "cell_type": "code",
   "execution_count": 68,
   "metadata": {
    "slideshow": {
     "slide_type": "subslide"
    }
   },
   "outputs": [],
   "source": [
    "from scipy.stats import norm\n",
    "## Parameters of the normal distribution\n",
    "mu = 2\n",
    "sigma = 3\n",
    "## Sampling for sample size N\n",
    "N = 50000\n",
    "r = norm.rvs(mu, sigma, size = N)"
   ]
  },
  {
   "cell_type": "code",
   "execution_count": 69,
   "metadata": {
    "slideshow": {
     "slide_type": "subslide"
    }
   },
   "outputs": [
    {
     "data": {
      "text/plain": [
       "Text(0,0.5,'$p(x)$')"
      ]
     },
     "execution_count": 69,
     "metadata": {},
     "output_type": "execute_result"
    },
    {
     "data": {
      "image/png": "[encoded data removed]",
      "text/plain": [
       "<Figure size 432x288 with 1 Axes>"
      ]
     },
     "metadata": {
      "needs_background": "light"
     },
     "output_type": "display_data"
    }
   ],
   "source": [
    "## Plotting\n",
    "fig, ax = plt.subplots()\n",
    "## Histogram for sample\n",
    "ax.hist(r, 30, density=True, histtype='stepfilled', alpha=0.5)\n",
    "\n",
    "## plot pdf\n",
    "M = 1001\n",
    "x = np.linspace(-10, 15, M)\n",
    "ax.plot(x, norm.pdf(x, mu, sigma) , 'r') \n",
    "\n",
    "ax.set_title(\"Sampling from a normal distribution\")\n",
    "ax.set_xlabel(\"$x$\")\n",
    "ax.set_ylabel(\"$p(x)$\")"
   ]
  },
  {
   "cell_type": "markdown",
   "metadata": {
    "slideshow": {
     "slide_type": "subslide"
    }
   },
   "source": [
    "### Scatter Plots\n",
    "Scatter plots allow to show more than two dimensions. Basic scatter plots would display two variables on their x- and y-axis. In addition, the markers in the scatter plot can be colored or their size can be adjusted, or both. So, four different variables can be plotted and analyzed in one figure. \n",
    "\n",
    "We start with a plot of four variables (each of 100 random values) that are shown in one figure."
   ]
  },
  {
   "cell_type": "code",
   "execution_count": 70,
   "metadata": {
    "slideshow": {
     "slide_type": "subslide"
    }
   },
   "outputs": [],
   "source": [
    "# example from http://nbviewer.jupyter.org/github/jakevdp/PythonDataScienceHandbook/blob/master/notebooks/04.02-Simple-Scatter-Plots.ipynb\n",
    "rng = np.random.RandomState(0)\n",
    "x = rng.randn(100)\n",
    "y = rng.randn(100)\n",
    "colors = rng.rand(100)\n",
    "sizes = 1000 * rng.rand(100)"
   ]
  },
  {
   "cell_type": "code",
   "execution_count": 71,
   "metadata": {
    "slideshow": {
     "slide_type": "subslide"
    }
   },
   "outputs": [
    {
     "data": {
      "image/png": "[encoded data removed]",
      "text/plain": [
       "<Figure size 432x288 with 2 Axes>"
      ]
     },
     "metadata": {
      "needs_background": "light"
     },
     "output_type": "display_data"
    }
   ],
   "source": [
    "fig, ax = plt.subplots()\n",
    "im = ax.scatter(x, y, c=colors, s=sizes, alpha=0.3, cmap='viridis')\n",
    "fig.colorbar(im);  # show color scale"
   ]
  },
  {
   "cell_type": "markdown",
   "metadata": {
    "slideshow": {
     "slide_type": "subslide"
    }
   },
   "source": [
    "As another example, we have compiled a dataset on football players of the German bundesliga. The dataset contains the names, the market value and several statistics of the season 2016/2017 (e.g. number of goals, success rate of passes etc). \n",
    "\n",
    "You received the dataset in the \"bundesliga.txt\" file in the \"data\" folder. The datasource is \"www.transfermarkt.de\" and \"www.whoscored.com\"  In this lecture we are working with Numpy only, which does not allow to have arrays consisting of strings and numerical values. What we learn here might does seem a bit inelegant, however, with the introduction of the Pandas package in the next lecture, working with such dataset will become easier."
   ]
  },
  {
   "cell_type": "markdown",
   "metadata": {
    "slideshow": {
     "slide_type": "subslide"
    }
   },
   "source": [
    "With the **np.loadtxt** function, we can decide which columns we want to include in the analysis. Remember: only columns containing the same data type can be loaded! Here, we include the columns for market value (column 2), pass success (column 10), aerials won (column 11) and position (column 13)."
   ]
  },
  {
   "cell_type": "code",
   "execution_count": 72,
   "metadata": {},
   "outputs": [],
   "source": [
    "cols=(2,10,11,13)\n",
    "# load data from txt-file\n",
    "bundesliga = np.loadtxt('Data/BundesligaData.txt', delimiter=';',usecols=(cols), skiprows=1)"
   ]
  },
  {
   "cell_type": "markdown",
   "metadata": {
    "slideshow": {
     "slide_type": "subslide"
    }
   },
   "source": [
    "Next, we visualize the data. For this example, we plot the pass success on the x-axis, the aerials won per game on the y-axis, and color the markers according to their position (with **cmap = 'varidis'**, stikers are yellow, midfielders are turquoise, and defenders are purple). "
   ]
  },
  {
   "cell_type": "markdown",
   "metadata": {
    "slideshow": {
     "slide_type": "subslide"
    }
   },
   "source": [
    "Additionally, we put the market value of the players as their size. The analysis shows that defenders have a higher pass success and that also players of high values tend to have higher pass success. Concerning, the aerials won, no clear trends are observable. You can now play around with the dataset and plot different things against each other."
   ]
  },
  {
   "cell_type": "code",
   "execution_count": 73,
   "metadata": {
    "slideshow": {
     "slide_type": "subslide"
    }
   },
   "outputs": [
    {
     "data": {
      "image/png": "[encoded data removed]",
      "text/plain": [
       "<Figure size 432x288 with 2 Axes>"
      ]
     },
     "metadata": {
      "needs_background": "light"
     },
     "output_type": "display_data"
    }
   ],
   "source": [
    "fig, ax = plt.subplots()\n",
    "im=ax.scatter(bundesliga[:,1], bundesliga[:,2], s = bundesliga[:,0]*10, c = bundesliga[:,3], alpha=0.3, cmap='viridis')\n",
    "ax.set_xlabel(\"pass sucess (%)\")\n",
    "ax.set_ylabel(\"aerials won (per game)\")\n",
    "cbar=fig.colorbar(im)\n",
    "cbar.set_ticks([1,2,3])"
   ]
  },
  {
   "cell_type": "markdown",
   "metadata": {
    "slideshow": {
     "slide_type": "subslide"
    }
   },
   "source": [
    "We can also use **subplots** to for multiple scatter plots in one figure:"
   ]
  },
  {
   "cell_type": "code",
   "execution_count": 74,
   "metadata": {
    "slideshow": {
     "slide_type": "subslide"
    }
   },
   "outputs": [
    {
     "data": {
      "image/png": "[encoded data removed]",
      "text/plain": [
       "<Figure size 648x432 with 3 Axes>"
      ]
     },
     "metadata": {
      "needs_background": "light"
     },
     "output_type": "display_data"
    }
   ],
   "source": [
    "nrows = 3\n",
    "ncols = 1\n",
    "fig, ax = plt.subplots(nrows=nrows, ncols=ncols, figsize=(9, 6))\n",
    "plt.yticks(())\n",
    "\n",
    "for i in range(nrows):\n",
    "    ax[i].scatter(bundesliga[:,i+1],bundesliga[:,0])\n"
   ]
  },
  {
   "cell_type": "markdown",
   "metadata": {
    "slideshow": {
     "slide_type": "subslide"
    }
   },
   "source": [
    "This graph is not so informative, since we haven't added which data is contained. Of course, we could look at the original data set and add the information manually, for example that the first graph plots pass success against market value. However, it would be nice if this information were already included when we load the data set. \n",
    "\n",
    "That's only one reason why we usually use Pandas when doing data analysis. This will be the topic of the next tutorial."
   ]
  },
  {
   "cell_type": "markdown",
   "metadata": {
    "slideshow": {
     "slide_type": "skip"
    }
   },
   "source": [
    "----------------------------------------------------------------------------------------------------------------------\n",
    "<a id = \"app\"></a>"
   ]
  },
  {
   "cell_type": "markdown",
   "metadata": {
    "slideshow": {
     "slide_type": "subslide"
    }
   },
   "source": [
    "### Exercise 4\n",
    "\n",
    "The file *Capacities.csv* contains country-level data on electricity generation capacity, and more specifically on capacity of \"clean\" (i.e. non-carbon emitting) technologies. It consists of three columns: the first columns contains the combined capacity for hydro and nuclear power plants, while the second columns contains the combined capacity for wind and solar installations (all in TW). The third columns contains the overall *capacity factor*, that is, the share of potential electricity that is actually produced. In other words, a capacity factor of 50% would imply that the a plant runs half of the time. In this question, we are interested in how the capacity factor depends on how wind and solar capacity are in the system.\n",
    "\n",
    "(a) Each column consists of 600 *country-year* observations (30 OECD countries over 20 years). Use Numpy's **loadtxt** function to load the data as a 600-by-3 array. (A side note: there are better ways to work with this kind of data in Python than a Numpy array, as we will see in next lecture).\n",
    "\n",
    "(b) Visualize the data using a scatter plot, where each axis corresponds to a capacity measure, while the color (or the size) of the markers is determined by the level of the capacity factor.\n",
    "\n",
    "(c) If you are not interested in absolute capacity levels, an alternative is to plot the capacity factor against the *relative* capacity of wind and solar, i.e. their share in total renewable capacity. Use Matplotlib's **plot** method, but with markers instead of lines. Also, include only those observations that have a wind & solar share of more than 1 percent (Hint: use a logical Nunpy array)."
   ]
  },
  {
   "cell_type": "code",
   "execution_count": null,
   "metadata": {},
   "outputs": [],
   "source": []
  },
  {
   "cell_type": "markdown",
   "metadata": {
    "slideshow": {
     "slide_type": "skip"
    }
   },
   "source": [
    "----------------------------------------------------------------------------------------------------------------------\n",
    "<a id = \"app\"></a>"
   ]
  },
  {
   "cell_type": "markdown",
   "metadata": {
    "slideshow": {
     "slide_type": "skip"
    }
   },
   "source": [
    "## Appendix: Copying Arrays (and Lists)\n",
    "Just as lists, NumPy arrays are mutable, i.e. can be changed. Note that this brings about the same issue as with lists if two names refer to the same array: then changing one of them will change the other as well. As this topic is quite important when working with lists and arrays, we present some extension to copying of lists here. Generally, copies can be disguingished between *shallow* and *deep* copies. While a *deep* copy also copies objects that are part of the list (e.g. list in list), a shallow copy would point to the same nested list. To understand the difference, several methods for lists are compared here: **list.copy()** (shallow copy), **slicing** (shallow copy), **copy.copy** (shallow) and **copy.deepcopy** from the module copy. If you need a copy and don't care that much about memory, we would suggest to always make deep copies of lists. If you are sure you are using only a flat list, you can also use a method for shallow copies."
   ]
  },
  {
   "cell_type": "code",
   "execution_count": 75,
   "metadata": {
    "slideshow": {
     "slide_type": "skip"
    }
   },
   "outputs": [
    {
     "name": "stdout",
     "output_type": "stream",
     "text": [
      "[1, 2, 3, 4]\n"
     ]
    }
   ],
   "source": [
    "# Import the module copy\n",
    "import copy\n",
    "\n",
    "# Simple List\n",
    "a1 = [1, 2, 3, 4]\n",
    "b1 = a1[:] #shallow copy\n",
    "c1 = copy.deepcopy(a1) # deep copy\n",
    "d1 = a1.copy() #shallow copy\n",
    "e1 = copy.copy(a1) #shallow copy\n",
    "# We set values of the copies to 0 at different positions to see which of them changes the orginal \n",
    "b1[0] = 0\n",
    "c1[1] = 0\n",
    "d1[2] = 0\n",
    "e1[3] = 0\n",
    "# And print the original list\n",
    "print(a1)"
   ]
  },
  {
   "cell_type": "code",
   "execution_count": 76,
   "metadata": {
    "slideshow": {
     "slide_type": "skip"
    }
   },
   "outputs": [
    {
     "name": "stdout",
     "output_type": "stream",
     "text": [
      "[[0], [2], [0], [0]]\n"
     ]
    }
   ],
   "source": [
    "# Nested List\n",
    "a2 = [[1], [2], [3], [4]]\n",
    "b2 = a2[:] # shallow copy\n",
    "c2 = copy.deepcopy(a2) # deep copy\n",
    "d2 = a2.copy() # shallow copy\n",
    "e2 = copy.copy(a2) # shallow copy\n",
    "# We set values of the copies to 0 at different positions to see which of them changes the orginal \n",
    "b2[0][0] = 0\n",
    "c2[1][0] = 0\n",
    "d2[2][0] = 0\n",
    "e2[3][0] = 0\n",
    "# And print the original list\n",
    "print(a2)"
   ]
  },
  {
   "cell_type": "markdown",
   "metadata": {
    "slideshow": {
     "slide_type": "skip"
    }
   },
   "source": [
    "In NumPy, you can make a copy of an array by using the **np.copyto** function or the **np.matrix.copy()** method in addition to the functions of the **copy** module. In contrast to lists, slicing by [:] does not lead to a copy of the array. However, to make life a bit easier, all copies of NumPy arrays are deep copies and you don't need to worry about this. As all elements of a NumPy Array consist of identical type, there is hardly any need for shallow copies."
   ]
  },
  {
   "cell_type": "code",
   "execution_count": 77,
   "metadata": {
    "slideshow": {
     "slide_type": "skip"
    }
   },
   "outputs": [
    {
     "name": "stdout",
     "output_type": "stream",
     "text": [
      "[0 2 3 4 5]\n"
     ]
    }
   ],
   "source": [
    "# Simple NP Array\n",
    "a3 = np.array([1, 2, 3, 4, 5])\n",
    "b3 = a3[:] # not a copy!\n",
    "c3 = copy.deepcopy(a3) # deep copy\n",
    "d3 = a3.copy() # deep copy\n",
    "e3 = copy.copy(a3) # deep copy\n",
    "f3 = np.empty_like(a3)\n",
    "np.copyto(f3,a3) # deep copy\n",
    "# We set values of the copies to 0 at different positions to see which of them changes the orginal \n",
    "b3[0] = 0\n",
    "c3[1] = 0\n",
    "d3[2] = 0\n",
    "e3[3] = 0\n",
    "f3[4] = 0\n",
    "# and print the original array\n",
    "print (a3)"
   ]
  },
  {
   "cell_type": "code",
   "execution_count": 78,
   "metadata": {
    "slideshow": {
     "slide_type": "skip"
    }
   },
   "outputs": [
    {
     "name": "stdout",
     "output_type": "stream",
     "text": [
      "[[0]\n",
      " [2]\n",
      " [3]\n",
      " [4]\n",
      " [5]]\n"
     ]
    }
   ],
   "source": [
    "# Nested NP Array\n",
    "a4 = np.array([[1], [2], [3], [4], [5]])\n",
    "b4 = a4[:] # not a copy!\n",
    "c4 = copy.deepcopy(a4) # deep copy\n",
    "d4 = a4.copy() # deep copy\n",
    "e4 = copy.copy(a4) # deep copy\n",
    "f4 = np.empty_like(a4)\n",
    "np.copyto(f4,a4) # deep copy           \n",
    "# We set values of the copies to 0 at different positions to see which of them changes the orginal               \n",
    "b4[0][0] = 0\n",
    "c4[1][0] = 0\n",
    "d4[2][0] = 0\n",
    "e4[3][0] = 0\n",
    "f4[4] = 0\n",
    "# and print the original array\n",
    "print (a4)"
   ]
  }
 ],
 "metadata": {
  "anaconda-cloud": {},
  "celltoolbar": "Slideshow",
  "kernelspec": {
   "display_name": "Python 3",
   "language": "python",
   "name": "python3"
  },
  "language_info": {
   "codemirror_mode": {
    "name": "ipython",
    "version": 3
   },
   "file_extension": ".py",
   "mimetype": "text/x-python",
   "name": "python",
   "nbconvert_exporter": "python",
   "pygments_lexer": "ipython3",
   "version": "3.7.5"
  }
 },
 "nbformat": 4,
 "nbformat_minor": 1
}
