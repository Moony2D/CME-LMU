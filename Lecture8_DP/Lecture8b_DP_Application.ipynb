{
 "cells": [
  {
   "cell_type": "markdown",
   "metadata": {
    "slideshow": {
     "slide_type": "slide"
    }
   },
   "source": [
    "# Computational Methods in Economics\n",
    "\n",
    "## Lecture 8b: Applications of Dynamic Programming "
   ]
  },
  {
   "cell_type": "code",
   "execution_count": 1,
   "metadata": {
    "slideshow": {
     "slide_type": "skip"
    }
   },
   "outputs": [
    {
     "name": "stdout",
     "output_type": "stream",
     "text": [
      "Last update: 2020-02-11 15:44:37.371773\n"
     ]
    }
   ],
   "source": [
    "# Author: Alex Schmitt (schmitt@ifo.de)\n",
    "\n",
    "import datetime\n",
    "print('Last update: ' + str(datetime.datetime.today()))"
   ]
  },
  {
   "cell_type": "markdown",
   "metadata": {
    "slideshow": {
     "slide_type": "skip"
    }
   },
   "source": [
    "### Preliminaries\n",
    "\n",
    "#### Import Modules"
   ]
  },
  {
   "cell_type": "code",
   "execution_count": 2,
   "metadata": {
    "slideshow": {
     "slide_type": "skip"
    }
   },
   "outputs": [],
   "source": [
    "import numpy as np\n",
    "import scipy.optimize\n",
    "import matplotlib.pyplot as plt\n",
    "%matplotlib inline  "
   ]
  },
  {
   "cell_type": "code",
   "execution_count": 3,
   "metadata": {
    "slideshow": {
     "slide_type": "skip"
    }
   },
   "outputs": [],
   "source": [
    "# from importlib import reload"
   ]
  },
  {
   "cell_type": "markdown",
   "metadata": {
    "slideshow": {
     "slide_type": "slide"
    }
   },
   "source": [
    "### This Lecture\n",
    "\n",
    "- [Pydyp - A DP Tool Box](#pydyp)\n",
    "- [Application: The Aiyagari Model](#aiyagari)\n",
    "    - [Setup](#setup)\n",
    "    - [Implementation](#impl)\n",
    "    - [Solving for a stationary equilibrium](#sree)"
   ]
  },
  {
   "cell_type": "markdown",
   "metadata": {
    "slideshow": {
     "slide_type": "slide"
    }
   },
   "source": [
    "----------------------------------------------------------------------------------------------------------------------\n",
    "<a id ='pydyp'></a>\n",
    "\n",
    "## Pydyp - A DP Tool Box\n",
    "\n",
    "In the previous lecture, we saw how to implement the *value function iteration* algorithm numerically, and how to use it to solve a dynamic programming problem. "
   ]
  },
  {
   "cell_type": "markdown",
   "metadata": {
    "slideshow": {
     "slide_type": "subslide"
    }
   },
   "source": [
    "Importantly, the key ideas of this algorithm - approximate the value function using standard function approximation tools, finding it iteratively, solving optimization problems along the grid - are independent from any specific problem.\n",
    "\n",
    "In other words, a lot of the code that we saw last time is the same across different DP problems. This makes DP problems conducive for implementing them in Python using a *class*."
   ]
  },
  {
   "cell_type": "markdown",
   "metadata": {
    "slideshow": {
     "slide_type": "subslide"
    }
   },
   "source": [
    "Let's think about which elements are problem-specific, and hence need to be provided as inputs when creating an instance of such a DP class:\n",
    "\n",
    "- the dimensionality of the problem (i.e. the number of state and control variables);\n",
    "- the functional form of the (RHS of the) Bellman equation and possibly of one or more constraints;"
   ]
  },
  {
   "cell_type": "markdown",
   "metadata": {
    "slideshow": {
     "slide_type": "subslide"
    }
   },
   "source": [
    "- parameter values (e.g., running the model for different values for the discount factor $\\beta$);\n",
    "- the number of grid points, and the interval that they cover;\n",
    "- the names of the variables, and their steady state values."
   ]
  },
  {
   "cell_type": "markdown",
   "metadata": {
    "slideshow": {
     "slide_type": "subslide"
    }
   },
   "source": [
    "I have written a module named **pydyp** which contains different implementations of a DP class. Relevant for us is the **DPP1** class, which is suitable for DP problems with *one state variable*, e.g. the simple NGM with capital as its only state.\n",
    "\n",
    "In the following, we use the **DPP1** class to solve the same NGM as in the previous lecture."
   ]
  },
  {
   "cell_type": "code",
   "execution_count": 4,
   "metadata": {
    "slideshow": {
     "slide_type": "-"
    }
   },
   "outputs": [],
   "source": [
    "import pydyp"
   ]
  },
  {
   "cell_type": "markdown",
   "metadata": {
    "slideshow": {
     "slide_type": "subslide"
    }
   },
   "source": [
    "### Preliminaries\n",
    "\n",
    "Start by defining the parameters and auxiliary functions, as in the previous lecture. "
   ]
  },
  {
   "cell_type": "markdown",
   "metadata": {
    "slideshow": {
     "slide_type": "subslide"
    }
   },
   "source": [
    "#### Parameters"
   ]
  },
  {
   "cell_type": "code",
   "execution_count": 5,
   "metadata": {
    "slideshow": {
     "slide_type": "-"
    }
   },
   "outputs": [],
   "source": [
    "## utility\n",
    "beta = 0.8   # discount factor\n",
    "nu = 2       # risk-aversion coefficient for consumption\n",
    "eta = 1      # elasticity parameter for labor supply\n",
    "## production\n",
    "alpha = 0.25\n",
    "delta = 0.1\n",
    "## derived\n",
    "A = (1 - beta * (1 - delta))/(alpha*beta)   # normalization parameter for production function => steady state k = 1\n",
    "B = (1 - alpha) * A * (A - delta)**(-nu)  # normalization parameter for utility function => steady state h = 1\n",
    "\n",
    "params = {'beta': beta, 'nu': nu, 'eta': eta, 'alpha': alpha, 'delta': delta, 'A': A, 'B': B }"
   ]
  },
  {
   "cell_type": "markdown",
   "metadata": {
    "slideshow": {
     "slide_type": "subslide"
    }
   },
   "source": [
    "#### Auxiliary Functions"
   ]
  },
  {
   "cell_type": "code",
   "execution_count": 6,
   "metadata": {
    "slideshow": {
     "slide_type": "-"
    }
   },
   "outputs": [],
   "source": [
    "def f(k, h, pm):\n",
    "    \"\"\"\n",
    "    Evaluates a Cobb-Douglas production function with coefficient alpha and shift parameter A, for two inputs k and h\n",
    "    \"\"\"\n",
    "    return pm['A'] * k**pm['alpha'] * h**(1 - pm['alpha'])\n",
    "\n",
    "def u(c, h, pm):\n",
    "    \"\"\"\n",
    "    Evaluates an additive-separable utility function with consumption and labor as arguments\n",
    "    \"\"\"\n",
    "    return c**(1 - pm['nu'])/(1 - pm['nu']) - pm['B'] * h**(1 + pm['eta'])/(1 + pm['eta'])"
   ]
  },
  {
   "cell_type": "markdown",
   "metadata": {
    "slideshow": {
     "slide_type": "subslide"
    }
   },
   "source": [
    "#### Provide Steady State\n",
    "\n",
    "Here, rather than computing the steady state, we just provide its values:"
   ]
  },
  {
   "cell_type": "code",
   "execution_count": 7,
   "metadata": {
    "slideshow": {
     "slide_type": "-"
    }
   },
   "outputs": [],
   "source": [
    "xs = np.array([1, 1.3, 1])"
   ]
  },
  {
   "cell_type": "markdown",
   "metadata": {
    "slideshow": {
     "slide_type": "subslide"
    }
   },
   "source": [
    "#### Bellman Equation\n",
    "\n",
    "In this application, we use constrained optimization, hence we need not only a function implementing the RHS of the Bellman equation, but also a function implementing the resource constraint.\n",
    "\n",
    "Moreover, note that the Python functions that we use for function approximation (e.g. **convert**) are also contained in the **pydyp** module."
   ]
  },
  {
   "cell_type": "code",
   "execution_count": 8,
   "metadata": {
    "slideshow": {
     "slide_type": "subslide"
    }
   },
   "outputs": [],
   "source": [
    "def be_rhs(x, k, coef, k_min, k_max, pm):\n",
    "    \"\"\"\n",
    "    RHS of the Bellman equation: Objective function\n",
    "    \"\"\"\n",
    "    kp = x[0]\n",
    "    c = x[1]\n",
    "    h = x[2]\n",
    "\n",
    "    return (- u(c, h, pm) - \\\n",
    "            pm['beta'] * np.polynomial.chebyshev.chebval(pydyp.convert(kp, k_min, k_max), coef) )"
   ]
  },
  {
   "cell_type": "code",
   "execution_count": 9,
   "metadata": {
    "slideshow": {
     "slide_type": "subslide"
    }
   },
   "outputs": [],
   "source": [
    "def resource_con(x, k, pm):\n",
    "    \"\"\"\n",
    "    RHS of the Bellman equation: Resource Constraint\n",
    "    \"\"\"    \n",
    "    kp = x[0]\n",
    "    c = x[1]\n",
    "    h = x[2]\n",
    "    \n",
    "    return f(k, h, pm) + (1 - pm['delta']) * k - kp - c"
   ]
  },
  {
   "cell_type": "markdown",
   "metadata": {
    "slideshow": {
     "slide_type": "subslide"
    }
   },
   "source": [
    "#### Value Function Iteration\n",
    "\n",
    "Finally, we need to provide some information for the grid - number of grid points and end points, as well as an initial guess for the approximation coefficients (**coef0**) and the optimization problem (**x0**)."
   ]
  },
  {
   "cell_type": "code",
   "execution_count": 10,
   "metadata": {
    "slideshow": {
     "slide_type": "-"
    }
   },
   "outputs": [],
   "source": [
    "## define parameters and grid\n",
    "m = 10\n",
    "k_min = 0.7\n",
    "k_max = 1.3\n",
    "## initital guess for coefficients and maximization problem\n",
    "coef0 = np.zeros(m)\n",
    "coef0[1] = 1\n",
    "x0 = xs"
   ]
  },
  {
   "cell_type": "markdown",
   "metadata": {
    "slideshow": {
     "slide_type": "subslide"
    }
   },
   "source": [
    "At this point, we have all the information required to create an instance of the **DPP1** class, which we name **NGM**."
   ]
  },
  {
   "cell_type": "code",
   "execution_count": 11,
   "metadata": {
    "slideshow": {
     "slide_type": "subslide"
    }
   },
   "outputs": [],
   "source": [
    "## create instance\n",
    "NGM = pydyp.DPP1(be_rhs, coef0, m, k_min, k_max, params, \\\n",
    "                 'k', ['c', 'h'], x0, [(k_min, k_max), (1e-8, 1e+8), (1e-8, 1e+8)], \\\n",
    "                 constraints = resource_con, ss = xs)   "
   ]
  },
  {
   "cell_type": "markdown",
   "metadata": {
    "slideshow": {
     "slide_type": "subslide"
    }
   },
   "source": [
    "We can check the inputs into this class by running"
   ]
  },
  {
   "cell_type": "code",
   "execution_count": 12,
   "metadata": {
    "slideshow": {
     "slide_type": "-"
    }
   },
   "outputs": [],
   "source": [
    "?pydyp.DPP1"
   ]
  },
  {
   "cell_type": "markdown",
   "metadata": {
    "slideshow": {
     "slide_type": "subslide"
    }
   },
   "source": [
    "Once we have this instance, we can run its **run_vfi** method. It essentially does two things:\n",
    "- It runs the value function iteration algorithm introduced in the last lecture. The main result of this is an array of coefficients used to approximate the value function. It can be accessed in the instance's **coef** attribute. \n",
    "- If the optional argument **sim** is set to **True**, it runs a simulation, starting at the initial state given by **state_init** and for **T** periods. "
   ]
  },
  {
   "cell_type": "code",
   "execution_count": 13,
   "metadata": {
    "slideshow": {
     "slide_type": "subslide"
    }
   },
   "outputs": [
    {
     "name": "stdout",
     "output_type": "stream",
     "text": [
      "9.903475195628448e-09 95\n"
     ]
    },
    {
     "data": {
      "image/png": "[encoded data removed]",
      "text/plain": [
       "<Figure size 432x288 with 3 Axes>"
      ]
     },
     "metadata": {
      "needs_background": "light"
     },
     "output_type": "display_data"
    }
   ],
   "source": [
    "## run VFI\n",
    "NGM.run_vfi(sim = True, state_init = 0.8, T = 30)\n",
    "\n",
    "print(NGM.err, NGM.it)"
   ]
  },
  {
   "cell_type": "code",
   "execution_count": 14,
   "metadata": {
    "slideshow": {
     "slide_type": "subslide"
    }
   },
   "outputs": [
    {
     "data": {
      "text/plain": [
       "array([[-5.41322415e+00],\n",
       "       [ 2.28510731e-01],\n",
       "       [-1.39611104e-02],\n",
       "       [ 1.31321781e-03],\n",
       "       [-1.47532586e-04],\n",
       "       [ 1.80942584e-05],\n",
       "       [-2.33420367e-06],\n",
       "       [ 3.11277385e-07],\n",
       "       [-4.26169076e-08],\n",
       "       [ 5.78927544e-09]])"
      ]
     },
     "execution_count": 14,
     "metadata": {},
     "output_type": "execute_result"
    }
   ],
   "source": [
    "NGM.coef"
   ]
  },
  {
   "cell_type": "markdown",
   "metadata": {
    "slideshow": {
     "slide_type": "subslide"
    }
   },
   "source": [
    "Note that the result of the simulation, the time paths for the model variables, is stored as a Pandas time series, which is stored in the instance's **ts** attribute. "
   ]
  },
  {
   "cell_type": "code",
   "execution_count": 15,
   "metadata": {
    "slideshow": {
     "slide_type": "-"
    }
   },
   "outputs": [
    {
     "name": "stdout",
     "output_type": "stream",
     "text": [
      "          k         c         h\n",
      "0  0.800000  1.227494  1.048325\n",
      "1  0.864248  1.251696  1.031903\n",
      "2  0.908155  1.267711  1.021196\n",
      "3  0.937981  1.278368  1.014142\n",
      "4  0.958172  1.285486  1.009462\n"
     ]
    }
   ],
   "source": [
    "print( NGM.ts.head() )"
   ]
  },
  {
   "cell_type": "markdown",
   "metadata": {
    "slideshow": {
     "slide_type": "skip"
    }
   },
   "source": [
    "----------------------------------------------------------------------------------------------------------------------\n",
    "<a id ='aiyagari'></a>"
   ]
  },
  {
   "cell_type": "markdown",
   "metadata": {
    "slideshow": {
     "slide_type": "slide"
    }
   },
   "source": [
    "## Application: The Aiyagari Model"
   ]
  },
  {
   "cell_type": "markdown",
   "metadata": {
    "slideshow": {
     "slide_type": "subslide"
    }
   },
   "source": [
    "### The Aiyagari Model: Introduction\n",
    "\n",
    "The NGM considered above is an example of a *representative-agent* economy. \n",
    "\n",
    "While these types of models are prevalent in economic analysis, they are not suitable for applications that feature *heterogeneity* across agents and/or are interested in questions concerning the *distribution* of income, wealth, welfare etc."
   ]
  },
  {
   "cell_type": "markdown",
   "metadata": {
    "slideshow": {
     "slide_type": "subslide"
    }
   },
   "source": [
    "As an example, consider a paper by Domeij and Heathcote (2004) \"On the distributional effects of reducing capital taxes\" (in the course repository). \n",
    "\n",
    "It addresses the question whether household heterogeneity - specifically, the presence of \"idiosyncratic\" (household-specific) uninsurable income risk - has quantitatively important implications for the welfare effects of tax changes, i.e. reducing capital income taxes while increasing labor income taxes."
   ]
  },
  {
   "cell_type": "markdown",
   "metadata": {
    "slideshow": {
     "slide_type": "subslide"
    }
   },
   "source": [
    "To answer this question, the paper uses the *Aiyagari model*, the workhorse model for analyzing heterogeneous households under market incompleteness (and without *aggregate* uncertainty, e.g. productivity shocks). \n",
    "\n",
    "For more background, compare the survey paper by Krusell and Smith (2006), section 3.1 (in the course repository)."
   ]
  },
  {
   "cell_type": "markdown",
   "metadata": {
    "slideshow": {
     "slide_type": "skip"
    }
   },
   "source": [
    "------------------------------------------------------------------------------------------------------------------------------\n",
    "<a id = 'setup'></a>"
   ]
  },
  {
   "cell_type": "markdown",
   "metadata": {
    "slideshow": {
     "slide_type": "subslide"
    }
   },
   "source": [
    "### The Aiyagari Model: Setup\n",
    "\n",
    "The following exposition is taken from QuantEcon's lecture on the Aiyagari model: https://lectures.quantecon.org/py/aiyagari.html"
   ]
  },
  {
   "cell_type": "markdown",
   "metadata": {
    "slideshow": {
     "slide_type": "subslide"
    }
   },
   "source": [
    "#### Households\n",
    "\n",
    "Infinitely lived households / consumers with *idiosyncratic* (i.e., household-specific) income shocks.\n",
    "\n",
    "A unit interval of  *ex-ante* identical households face a common borrowing constraint."
   ]
  },
  {
   "cell_type": "markdown",
   "metadata": {
    "slideshow": {
     "slide_type": "subslide"
    }
   },
   "source": [
    "The savings problem faced by a typical  household is\n",
    "\n",
    "$$\n",
    "\\max \\mathbb E \\sum_{t=0}^{\\infty} \\beta^t u(c_t)\n",
    "$$\n",
    "\n",
    "subject to\n",
    "\n",
    "$$\n",
    "a_{t+1} + c_t \\leq W \\bar{n} z_t + (1 + R) a_t\n",
    "\\quad\n",
    "c_t \\geq 0,\n",
    "\\quad \\text{and} \\quad\n",
    "a_t \\geq \\underline{a}\n",
    "$$\n"
   ]
  },
  {
   "cell_type": "markdown",
   "metadata": {
    "slideshow": {
     "slide_type": "subslide"
    }
   },
   "source": [
    "where\n",
    "\n",
    "- $ c_t $ is current consumption  \n",
    "- $ a_t $ is asset holding or \"wealth\"\n",
    "- $ \\bar{n}$ is the household's (constant) labor endowment \n",
    "- $ z_t $ is an exogenous component of labor income capturing e.g. stochastic unemployment risk \n",
    "- $ W $ is the wage rate  \n",
    "- $ R $ is the net interest rate  \n",
    "- $ \\underline{a} $ is the maximum amount that the agent is allowed to borrow  "
   ]
  },
  {
   "cell_type": "markdown",
   "metadata": {
    "slideshow": {
     "slide_type": "subslide"
    }
   },
   "source": [
    "The wage and interest rate are constant over time. Thus, we focus on a *steady state* setting.\n",
    "\n",
    "In this simple version of the model, households supply labor inelastically because they do not value leisure."
   ]
  },
  {
   "cell_type": "markdown",
   "metadata": {
    "slideshow": {
     "slide_type": "subslide"
    }
   },
   "source": [
    "#### Uncertainty\n",
    "\n",
    "The exogenous process $ \\{z_t\\} $ follows a finite-state Markov chain with given *probability transition matrix* $ P $. \n",
    "\n",
    "In other words, $z_t$ is a discrete random variable whose \"support\" consists of a finite number of values. "
   ]
  },
  {
   "cell_type": "markdown",
   "metadata": {
    "slideshow": {
     "slide_type": "subslide"
    }
   },
   "source": [
    "For example, consider the case where the support of $z$ consists of two values (a low state and a high state). Then, $P$ would be given by\n",
    "\n",
    "\\begin{equation}\n",
    "    P =  \\left[\\begin{array}{cc}\n",
    "    p_{00} & p_{01} \\\\\n",
    "    p_{10} & p_{11} \\\\\n",
    "    \\end{array}\\right]\n",
    "\\end{equation}\n",
    "\n",
    "The element $p_{ij}$ denotes the constant probability to move from state $i$ to state $j$ between two periods. Hence, it has to hold that $p_{00} + p_{01} = 1$ and $p_{10} + p_{11} = 1$."
   ]
  },
  {
   "cell_type": "markdown",
   "metadata": {
    "slideshow": {
     "slide_type": "subslide"
    }
   },
   "source": [
    "Before discussing dynamic programming, think about solving this model using a sequential approach. \n",
    "\n",
    "Why is this much more computationally intensive than for the deterministic model we have seen before? In other words, how many variables would the algorithm have to find when solving the model for a finite number of periods $T$?"
   ]
  },
  {
   "cell_type": "markdown",
   "metadata": {
    "slideshow": {
     "slide_type": "subslide"
    }
   },
   "source": [
    "Note that the household problem has two states, $a$ and $z$. $z$ is not a continuous variable, but can only take a *discrete* number of values (e.g. 2). \n",
    "\n",
    "Hence, one approach to dynamic programming in this setting is to still approximate the value function as a univariate function, but have two \"instances\" of $V$, one when the economy is in state 0 and one in state 1. "
   ]
  },
  {
   "cell_type": "markdown",
   "metadata": {
    "slideshow": {
     "slide_type": "subslide"
    }
   },
   "source": [
    "In other words, we have approximations $\\hat{V}^{(it)}_0(a) = \\hat{V}(a; \\gamma^{(it)}_0)$ and $\\hat{V}^{(it)}_1(a) = \\hat{V}(a; \\gamma^{(it)}_1)$, where $\\gamma$ denotes the basis coefficients.\n",
    "\n",
    "This implies that the fitting step in every iteration of our value function iteration algorithm includes finding *two* vectors of basis coefficients."
   ]
  },
  {
   "cell_type": "markdown",
   "metadata": {
    "slideshow": {
     "slide_type": "subslide"
    }
   },
   "source": [
    "Moreover, note that the continuation value on the right hand side of the Bellman equation is given by the expectation over the possible states. In other words, when we are in state 0, we remain in state 0 with probability $p_{00}$ and move to state 1 with probability $p_{01}$. Hence, the expected continuation value is \n",
    "\n",
    "\\begin{equation}\n",
    "    p_{00} \\hat{V}(a'; \\gamma^{(it)}_0) + p_{01} \\hat{V}(a'; \\gamma^{(it)}_1)\n",
    "\\end{equation}\n",
    "\n",
    "and analogous if the economy is in state 1. "
   ]
  },
  {
   "cell_type": "markdown",
   "metadata": {
    "slideshow": {
     "slide_type": "subslide"
    }
   },
   "source": [
    "Hence, the full Bellman equation to be used for the VFI algorithm when being in state $i \\in \\{0, 1\\}$ reads \n",
    "\n",
    "\\begin{equation}\n",
    "    \\hat{V}^{(it + 1)}_i(a) \\leftarrow \\max_{a'} u(W \\bar{n} z_i + (1 + R) a - a') + \\beta\\left[p_{i0} \\hat{V}^{(it)}_0(a') + p_{i1} \\hat{V}^{(it)}_1(a')\\right]\n",
    "\\end{equation}\n",
    "\n",
    "In other words, we essentially have *two Bellman equations*, one for each state. "
   ]
  },
  {
   "cell_type": "markdown",
   "metadata": {
    "slideshow": {
     "slide_type": "subslide"
    }
   },
   "source": [
    "#### Firms\n",
    "\n",
    "Firms produce output by hiring capital and labor.\n",
    "\n",
    "Firms act competitively and face constant returns to scale.\n",
    "\n",
    "Since returns to scale are constant the number of firms does not matter.\n",
    "\n",
    "Hence we can consider a single (but nonetheless competitive) representative firm."
   ]
  },
  {
   "cell_type": "markdown",
   "metadata": {
    "slideshow": {
     "slide_type": "subslide"
    }
   },
   "source": [
    "The firm’s output is\n",
    "\n",
    "$$\n",
    "Y_t = K_t^{\\alpha} N^{1 - \\alpha}\n",
    "$$\n",
    "\n",
    "where\n",
    "\n",
    "- $ \\alpha $ is a parameter, $ \\alpha \\in (0, 1) $  \n",
    "- $ K_t $ is aggregate capital  \n",
    "- $ N $ is total labor supply (which is constant in this simple version of the model)  "
   ]
  },
  {
   "cell_type": "markdown",
   "metadata": {
    "slideshow": {
     "slide_type": "subslide"
    }
   },
   "source": [
    "The firm’s problem is\n",
    "\n",
    "$$\n",
    "max_{K, N} \\left\\{ K_t^{\\alpha} N^{1 - \\alpha} - (R + \\delta) K - W N \\right\\}\n",
    "$$\n",
    "\n",
    "The parameter $ \\delta $ is the depreciation rate."
   ]
  },
  {
   "cell_type": "markdown",
   "metadata": {
    "slideshow": {
     "slide_type": "subslide"
    }
   },
   "source": [
    "From the first-order condition with respect to capital, the firm’s inverse demand for capital is\n",
    "\n",
    "\n",
    "<a id='equation-aiy-rgk'></a>\n",
    "$$\n",
    "R = \\alpha  \\left( \\frac{N}{K} \\right)^{1 - \\alpha} - \\delta = \\alpha \\frac{Y}{K}  - \\delta \\tag{1}\n",
    "$$\n",
    "\n",
    "Using this expression and the firm’s first-order condition for labor, we can pin down\n",
    "the equilibrium wage rate as a function of $ r $ as\n",
    "\n",
    "\n",
    "<a id='equation-aiy-wgr'></a>\n",
    "$$\n",
    "w(R) = (1 - \\alpha)  (\\alpha / (R + \\delta))^{\\alpha / (1 - \\alpha)} = (1 - \\alpha) \\frac{Y}{N}  \\tag{2}\n",
    "$$"
   ]
  },
  {
   "cell_type": "markdown",
   "metadata": {
    "slideshow": {
     "slide_type": "subslide"
    }
   },
   "source": [
    "It will be useful to implement these two expressions in a function:"
   ]
  },
  {
   "cell_type": "code",
   "execution_count": 16,
   "metadata": {
    "slideshow": {
     "slide_type": "-"
    }
   },
   "outputs": [],
   "source": [
    "def get_prices(K, params):\n",
    "    Y = f(K, params['n'], params)\n",
    "    R = params['alpha'] * Y / K - params['delta']\n",
    "    W = (1 - params['alpha']) * Y / params['n']\n",
    "    return R, W"
   ]
  },
  {
   "cell_type": "markdown",
   "metadata": {
    "slideshow": {
     "slide_type": "subslide"
    }
   },
   "source": [
    "#### Equilibrium\n",
    "\n",
    "We construct  a *stationary rational expectations equilibrium* (SREE).\n",
    "\n",
    "In such an equilibrium\n",
    "\n",
    "- prices induce behavior that generates aggregate quantities consistent with the prices  \n",
    "- aggregate quantities and prices are *constant* over time  "
   ]
  },
  {
   "cell_type": "markdown",
   "metadata": {
    "slideshow": {
     "slide_type": "subslide"
    }
   },
   "source": [
    "In more detail, an SREE lists a set of prices, savings and production policies such that\n",
    "- households want to choose the specified savings policies taking the prices as given  \n",
    "- firms maximize profits taking the same prices as given  \n",
    "- the resulting aggregate quantities are consistent with the prices; in particular, the demand for capital equals the supply  \n",
    "- aggregate quantities (defined as cross-sectional averages) are constant  "
   ]
  },
  {
   "cell_type": "markdown",
   "metadata": {
    "slideshow": {
     "slide_type": "subslide"
    }
   },
   "source": [
    "In practice, once parameter values are set, we can check for an SREE by the following steps\n",
    "\n",
    "1. pick a proposed quantity $ K $ for aggregate capital  \n",
    "2. determine corresponding prices, with interest rate $ R $ determined by [(1)](#equation-aiy-rgk) and a wage rate $ W(R) $ as given in [(2)](#equation-aiy-wgr)  \n"
   ]
  },
  {
   "cell_type": "markdown",
   "metadata": {
    "slideshow": {
     "slide_type": "subslide"
    }
   },
   "source": [
    " \n",
    "3. determine the common optimal savings policy of the households given these prices  \n",
    "4. compute aggregate capital as the mean of steady state asset holding given this savings policy  \n",
    "\n",
    "If this final quantity agrees with $ K $ then we have a SREE."
   ]
  },
  {
   "cell_type": "markdown",
   "metadata": {
    "slideshow": {
     "slide_type": "subslide"
    }
   },
   "source": [
    "#### Wealth-employment Distribution\n",
    "\n",
    "Step (4) may look confusing: how do we compute the mean asset holding in steady state for an infinite number of households? \n",
    "\n",
    "Note that in any period $t$, each household can be described by the pair $(a_t, z_t)$, i.e. its asset holding and its employment status. "
   ]
  },
  {
   "cell_type": "markdown",
   "metadata": {
    "slideshow": {
     "slide_type": "subslide"
    }
   },
   "source": [
    "Define the (unconditional) distribution of $(a_t, z_t)$ pairs as\n",
    "\n",
    "$$\n",
    "    \\lambda_t(a, z) = \\text{Prob}(a_t = a, z_t = z)\n",
    "$$\n",
    "\n",
    "Since we are interested in a stationary equilibrium, we focus on a stationary or time-invariant distribution $\\lambda$. "
   ]
  },
  {
   "cell_type": "markdown",
   "metadata": {
    "slideshow": {
     "slide_type": "subslide"
    }
   },
   "source": [
    "That is, $\\lambda$ describes the probability that a given household has asset holding $a$ and employment status $z$; this probability is independent of period $t$. \n",
    "\n",
    "Note that what is slightly confusing here is that even though we are in a steady state - i.e., aggregate variables do not change - an individual household still bounces around the wealth-employment distribution. In other words, on the individual level, variables do change."
   ]
  },
  {
   "cell_type": "markdown",
   "metadata": {
    "slideshow": {
     "slide_type": "subslide"
    }
   },
   "source": [
    "From this, a second interpretation of $\\lambda$ follows: it gives the share of households which are associated with one particular $(a, z)$ pair in any period - and hence what we need to know in order to compute mean asset holdings across households!"
   ]
  },
  {
   "cell_type": "markdown",
   "metadata": {
    "slideshow": {
     "slide_type": "subslide"
    }
   },
   "source": [
    "To find $\\lambda$, we use the first interpretation and approximate the probability by a *frequency*: that is, once we have found the household's optimal savings decision, we simulate a household's behaviour for a large number of periods $T$, drawing $z_t$ from the Markov chain defined above.\n",
    "\n",
    "We can then take the average of the household's asset holdings over time; following the argument above, this is also the mean wealth across all households at any point in time!"
   ]
  },
  {
   "cell_type": "markdown",
   "metadata": {
    "slideshow": {
     "slide_type": "skip"
    }
   },
   "source": [
    "--------------------------------------------------------------------------------------------------------------------------------\n",
    "<a id = \"impl\"></a>"
   ]
  },
  {
   "cell_type": "markdown",
   "metadata": {
    "slideshow": {
     "slide_type": "subslide"
    }
   },
   "source": [
    "### The Aiyagari Model: Implementation\n",
    "\n",
    "In the following, we will replicate some of the results in Domeij and Heathcote and (D&H, 2004). Note that since this is a paper about tax reform, the household's budget constraint is subject to a tax on labor income $\\tau_n$ and on capital income $\\tau_k$. In other words, there are two additional model parameters.\n",
    "\n",
    "Moreover, the paper assumes that the borrowing limit is 0, i.e. $\\underline{a} = 0$."
   ]
  },
  {
   "cell_type": "markdown",
   "metadata": {
    "slideshow": {
     "slide_type": "subslide"
    }
   },
   "source": [
    "Hence, the household problem now reads:\n",
    "\n",
    "$$\n",
    "\\max \\mathbb E \\sum_{t=0}^{\\infty} \\beta^t u(c_t)\n",
    "$$\n",
    "\n",
    "subject to\n",
    "\n",
    "$$\n",
    "a_{t+1} + c_t \\leq (1 - \\tau_h) W \\bar{n} z_t + [1 + (1 - \\tau_k) R]  a_t\n",
    "\\quad\n",
    "c_t \\geq 0,\n",
    "\\quad \\text{and} \\quad\n",
    "a_t \\geq 0\n",
    "$$\n"
   ]
  },
  {
   "cell_type": "markdown",
   "metadata": {
    "slideshow": {
     "slide_type": "subslide"
    }
   },
   "source": [
    "Another modification of this model compared to version above is the presence of government debt (\"bonds\"), denoted by $B$. That is, there two assets in the economy, physical capital $K$ and debt $B$. "
   ]
  },
  {
   "cell_type": "markdown",
   "metadata": {
    "slideshow": {
     "slide_type": "subslide"
    }
   },
   "source": [
    "In equilibrium, the real one-period return to debt (which is guaranteed by the government and hence risk-free), in equilibrium the two assets must pay the same real return. \n",
    "\n",
    "Hence, it is not necessary to specify the division between capital and bonds in an individual’s portfolio."
   ]
  },
  {
   "cell_type": "markdown",
   "metadata": {
    "slideshow": {
     "slide_type": "subslide"
    }
   },
   "source": [
    "Formally, the demand for asset holding - the sum (or actually integral, since there is a mass of households) of individual households' savings choice - must equal the sum of $K$ and $B$, the steady-state supply of asset:\n",
    "\n",
    "$$\n",
    "    \\sum_{i} a^i_{t} = K_t + B_t \\equiv A_t \\quad\\ \\forall t\n",
    "$$"
   ]
  },
  {
   "cell_type": "markdown",
   "metadata": {
    "slideshow": {
     "slide_type": "subslide"
    }
   },
   "source": [
    "#### Parameters"
   ]
  },
  {
   "cell_type": "code",
   "execution_count": 17,
   "metadata": {
    "slideshow": {
     "slide_type": "-"
    }
   },
   "outputs": [],
   "source": [
    "## utility\n",
    "beta = 0.965   # discount factor\n",
    "## production\n",
    "alpha = 0.36\n",
    "delta = 0.06\n",
    "## tax rates: taken from D&H, table 3\n",
    "τ_n, τ_k = 0.269, 0.397\n",
    "\n",
    "params = {'beta': beta, 'alpha': alpha, 'delta': delta, 'τ_n': 0.269, 'τ_k': 0.397, 'n': 0.3275 }"
   ]
  },
  {
   "cell_type": "markdown",
   "metadata": {
    "slideshow": {
     "slide_type": "subslide"
    }
   },
   "source": [
    "With regard to the stochastic process, the values for $z$ and its transition matrix are taken from D&H, p. 530 ff. In this model, there are three states. \n",
    "\n",
    "They are chosen such that on average, the model reproduces certain features of the wealth distribution observed in the United States."
   ]
  },
  {
   "cell_type": "code",
   "execution_count": 18,
   "metadata": {
    "slideshow": {
     "slide_type": "subslide"
    }
   },
   "outputs": [],
   "source": [
    "## stochastic states and transition matrix\n",
    "z = np.array([0.167 , 0.839, 5.087])\n",
    "Pi_11 = 0.9\n",
    "Pi_22 = 0.99\n",
    "Pi_33 = 0.9\n",
    "\n",
    "P = np.array([[Pi_11, 1 - Pi_11, 0],\n",
    "              [0.5*(1-Pi_22), Pi_22, 0.5*(1-Pi_22)],\n",
    "              [0, 1 - Pi_33, Pi_33]])"
   ]
  },
  {
   "cell_type": "markdown",
   "metadata": {
    "slideshow": {
     "slide_type": "subslide"
    }
   },
   "source": [
    "#### Auxiliary Functions"
   ]
  },
  {
   "cell_type": "code",
   "execution_count": 19,
   "metadata": {
    "slideshow": {
     "slide_type": "-"
    }
   },
   "outputs": [],
   "source": [
    "def f(k, h, pm):\n",
    "    \"\"\"\n",
    "    Production function\n",
    "    \"\"\"\n",
    "    return k**pm['alpha'] * h**(1 - pm['alpha'])\n",
    "\n",
    "def u(c, h, pm):\n",
    "    \"\"\"\n",
    "    Utility function\n",
    "    \"\"\"\n",
    "    return np.log(c)\n"
   ]
  },
  {
   "cell_type": "markdown",
   "metadata": {
    "slideshow": {
     "slide_type": "subslide"
    }
   },
   "source": [
    "#### Household Problem: Bellman Equation\n",
    "\n",
    "On the right hand side, we have an expected value, following the logic described above, but with three states rather than two.\n",
    "In other words, when in state $i$, the RHS reads:\n",
    "\n",
    "\\begin{equation}\n",
    "     \\max_{a'} u(W \\bar{n} z_i + (1 + R) a - a') + \\beta \\sum_j p_{ij} \\hat{V}^{(it)}_j(a')\n",
    "\\end{equation}\n",
    "\n",
    "Below, I implement the sum as a vector multiplication."
   ]
  },
  {
   "cell_type": "code",
   "execution_count": 20,
   "metadata": {
    "slideshow": {
     "slide_type": "subslide"
    }
   },
   "outputs": [],
   "source": [
    "def be_rhs(x, state, coef, a_min, a_max, pm, z, P):\n",
    "    \"\"\"\n",
    "    RHS of the Bellman equation: Objective function\n",
    "    \"\"\"\n",
    "    ap = x[0]\n",
    "    c = x[1]\n",
    "    \n",
    "    a, z_ind = state\n",
    "    \n",
    "    return (- u(c, 1, pm) - \\\n",
    "            pm['beta'] * P[z_ind, :] @ np.polynomial.chebyshev.chebval(pydyp.convert(ap, a_min, a_max), coef) )"
   ]
  },
  {
   "cell_type": "code",
   "execution_count": 21,
   "metadata": {
    "slideshow": {
     "slide_type": "subslide"
    }
   },
   "outputs": [],
   "source": [
    "def resource_con(x, state, pm, z):\n",
    "    \"\"\"\n",
    "    RHS of the Bellman equation: Resource Constraint\n",
    "    \"\"\"    \n",
    "    ap = x[0]\n",
    "    c = x[1]\n",
    "\n",
    "    a, z_ind = state\n",
    "    \n",
    "    return (1 + (1 - pm['τ_k']) * pm['R']) * a + (1 - pm['τ_n']) * pm['W'] * pm['n'] * z[z_ind] - ap - c"
   ]
  },
  {
   "cell_type": "markdown",
   "metadata": {
    "slideshow": {
     "slide_type": "subslide"
    }
   },
   "source": [
    "#### Illustration: solve household problem\n",
    "\n",
    "Here, we compute the solution to the household problem given above, for given prices $R$ and $W$, using the dynamic programming algorithm implemented in our **DPP1** class. \n",
    "\n",
    "In the context of the approach outlined above to find the equilibrium, this would correspond to step (3).  "
   ]
  },
  {
   "cell_type": "markdown",
   "metadata": {
    "slideshow": {
     "slide_type": "subslide"
    }
   },
   "source": [
    "Since we have three value functions (one per state), our initial guess for the approximation coefficients is an array of dimension $m$-by-3. "
   ]
  },
  {
   "cell_type": "code",
   "execution_count": 22,
   "metadata": {
    "slideshow": {
     "slide_type": "subslide"
    }
   },
   "outputs": [],
   "source": [
    "## define parameters and grid\n",
    "m = 10\n",
    "a_min = 1e-6\n",
    "a_max = 45\n",
    "\n",
    "## initital guess for coefficients and maximization problem\n",
    "coef0 = np.zeros(m)\n",
    "coef0[1] = 1\n",
    "coef0 = np.repeat(coef0, 3)\n",
    "coef0.shape = (m, 3)\n",
    "\n",
    "x0 = (2, 1)"
   ]
  },
  {
   "cell_type": "markdown",
   "metadata": {
    "slideshow": {
     "slide_type": "subslide"
    }
   },
   "source": [
    "We also need values for the wage and interest rate:"
   ]
  },
  {
   "cell_type": "code",
   "execution_count": 23,
   "metadata": {
    "slideshow": {
     "slide_type": "-"
    }
   },
   "outputs": [],
   "source": [
    "params['W'] = 1.265\n",
    "params['R'] = 0.0472"
   ]
  },
  {
   "cell_type": "code",
   "execution_count": 24,
   "metadata": {
    "slideshow": {
     "slide_type": "subslide"
    }
   },
   "outputs": [],
   "source": [
    "## define problem\n",
    "NGM1 = pydyp.DPP1(be_rhs, coef0, m, a_min, a_max, params,  \\\n",
    "                  'a', ['c'], x0,[(a_min, a_max), (1e-8, 1e+8)], \\\n",
    "                    constraints = resource_con, z = z, P = P) "
   ]
  },
  {
   "cell_type": "code",
   "execution_count": 25,
   "metadata": {
    "scrolled": true,
    "slideshow": {
     "slide_type": "subslide"
    }
   },
   "outputs": [
    {
     "name": "stdout",
     "output_type": "stream",
     "text": [
      "100 0.5312686152758247\n",
      "200 0.01791712998133894\n",
      "300 0.0005277054312524755\n",
      "400 1.504953344064397e-05\n",
      "500 4.271750295284638e-07\n",
      "600 1.2116749591299468e-08\n",
      "9.78303686611078e-09 605\n"
     ]
    }
   ],
   "source": [
    "## run VFI\n",
    "NGM1.run_vfi()\n",
    "print(NGM1.err, NGM1.it)"
   ]
  },
  {
   "cell_type": "markdown",
   "metadata": {
    "slideshow": {
     "slide_type": "skip"
    }
   },
   "source": [
    "-------------------------------------------------------------------------------------------------------------------------------\n",
    "<a id = sree></a>"
   ]
  },
  {
   "cell_type": "markdown",
   "metadata": {
    "slideshow": {
     "slide_type": "subslide"
    }
   },
   "source": [
    "### Solving for a stationary equilibrium \n",
    "\n",
    "In order to solve for the stationary equilibrium (the steady state), we follow the approach outlined above. To be more precise, these are the steps (from D&H): \n",
    "\n",
    "(a) Guess a value for the capital stock (and implicitly for output and prices)\n",
    "\n",
    "(b) Compute the value for government debt such that given capital stock, the debt-to-GDP ratio is constant; from this, we also get the \"implied\" aggregate asset holdings (aggregate capital plus aggregate debt)"
   ]
  },
  {
   "cell_type": "markdown",
   "metadata": {
    "slideshow": {
     "slide_type": "subslide"
    }
   },
   "source": [
    "(c) Solve for household savings decisions (as above)\n",
    "\n",
    "(d) Simulate the economy to generate a stationary asset-holding distribution\n",
    "\n",
    "(e) Check that aggregate household savings equal aggregate asset holdings computed in (b)\n",
    "\n",
    "(f) Adjust the guess for capital and iterate until the market for savings clears"
   ]
  },
  {
   "cell_type": "markdown",
   "metadata": {
    "slideshow": {
     "slide_type": "subslide"
    }
   },
   "source": [
    "Step (b) is implemented in the following function:"
   ]
  },
  {
   "cell_type": "code",
   "execution_count": 26,
   "metadata": {
    "slideshow": {
     "slide_type": "-"
    }
   },
   "outputs": [],
   "source": [
    "def get_implied_asset(K, params, share = 0.67):\n",
    "    Y = f(K, params['n'], params) \n",
    "    B = share * Y\n",
    "    \n",
    "    return K + B, B   "
   ]
  },
  {
   "cell_type": "code",
   "execution_count": 27,
   "metadata": {
    "slideshow": {
     "slide_type": "subslide"
    }
   },
   "outputs": [],
   "source": [
    "## prepare the loop\n",
    "dist, eps = 1, 1e-5\n",
    "it, maxit = 0, 20\n",
    "phi = 0.9\n",
    "\n",
    "## for simulation\n",
    "T = 100000\n",
    "\n",
    "## step (a)\n",
    "K = 2.1544567780362396"
   ]
  },
  {
   "cell_type": "code",
   "execution_count": 28,
   "metadata": {
    "slideshow": {
     "slide_type": "subslide"
    }
   },
   "outputs": [
    {
     "name": "stdout",
     "output_type": "stream",
     "text": [
      "Iteration 1: K = 2.1544567780362396\n",
      "100 0.002024686627799965\n",
      "200 1.71224109100131e-05\n",
      "300 4.245469473008697e-07\n",
      "400 1.4231449551326623e-08\n",
      "-6.210487486946192e-06\n"
     ]
    },
    {
     "data": {
      "image/png": "[encoded data removed]",
      "text/plain": [
       "<Figure size 432x288 with 2 Axes>"
      ]
     },
     "metadata": {
      "needs_background": "light"
     },
     "output_type": "display_data"
    }
   ],
   "source": [
    "while abs(dist) > eps and it < maxit:\n",
    "    it += 1\n",
    "    print('Iteration {}: K = {}'.format(it, K))\n",
    "    ## steps (a) and (b)\n",
    "    R, W = get_prices(K, params)\n",
    "    A_implied, B_implied = get_implied_asset(K, params)\n",
    "    NGM1.pm['R'] = R\n",
    "    NGM1.pm['W'] = W\n",
    "    \n",
    "    ## step (c) and (d)\n",
    "    NGM1.run_vfi(sim = True, state_init = 1, T = T)\n",
    "    \n",
    "    ## step (e)\n",
    "    A = NGM1.ts['a'].mean()\n",
    "    dist = A - A_implied\n",
    "    print(dist)\n",
    "    ## step (f)\n",
    "    K = phi * K + (1 - phi)*(A - B_implied)"
   ]
  },
  {
   "cell_type": "markdown",
   "metadata": {
    "slideshow": {
     "slide_type": "subslide"
    }
   },
   "source": [
    "#### Report results\n",
    "\n",
    "Here, we compute some equilibrium results and compare them to tables 2 and 3 in D&H (column \"Benchmark)."
   ]
  },
  {
   "cell_type": "code",
   "execution_count": 29,
   "metadata": {
    "slideshow": {
     "slide_type": "subslide"
    }
   },
   "outputs": [
    {
     "name": "stdout",
     "output_type": "stream",
     "text": [
      "0.6452630440493871\n",
      "0.2995015897430182\n"
     ]
    }
   ],
   "source": [
    "## compute output\n",
    "Y = f(K, params['n'], params)\n",
    "print(Y)\n",
    "print(Y / K)"
   ]
  },
  {
   "cell_type": "code",
   "execution_count": 30,
   "metadata": {
    "slideshow": {
     "slide_type": "subslide"
    }
   },
   "outputs": [
    {
     "name": "stdout",
     "output_type": "stream",
     "text": [
      "2.883580510141439\n"
     ]
    }
   ],
   "source": [
    "R, W = get_prices(K, params)\n",
    "A, B = get_implied_asset(K, params)\n",
    "## R (% post-tax)\n",
    "print( (1 - params['τ_k']) * R * 100 )"
   ]
  },
  {
   "cell_type": "code",
   "execution_count": 31,
   "metadata": {
    "slideshow": {
     "slide_type": "-"
    }
   },
   "outputs": [
    {
     "name": "stdout",
     "output_type": "stream",
     "text": [
      "0.2470915164747887\n"
     ]
    }
   ],
   "source": [
    "## post-tax asset to labor income ratio\n",
    "print( (1 - params['τ_k']) * (K + B) * R / ( (1 - params['τ_n']) * W * params['n']) )"
   ]
  },
  {
   "cell_type": "markdown",
   "metadata": {
    "slideshow": {
     "slide_type": "subslide"
    }
   },
   "source": [
    "In order to compute Gini coefficients, we use the following function:"
   ]
  },
  {
   "cell_type": "code",
   "execution_count": 32,
   "metadata": {
    "slideshow": {
     "slide_type": "-"
    }
   },
   "outputs": [],
   "source": [
    "def gini(array):\n",
    "    \"\"\"Calculate the Gini coefficient of a numpy array.\"\"\"\n",
    "    # based on bottom eq: http://www.statsdirect.com/help/content/image/stat0206_wmf.gif\n",
    "    # from: http://www.statsdirect.com/help/default.htm#nonparametric_methods/gini.htm\n",
    "    array = array.flatten() #all values are treated equally, arrays must be 1d\n",
    "    if np.amin(array) < 0:\n",
    "        array -= np.amin(array) #values cannot be negative\n",
    "    array += 0.0000001 #values cannot be 0\n",
    "    array = np.sort(array) #values must be sorted\n",
    "    index = np.arange(1,array.shape[0]+1) #index per array element\n",
    "    n = array.shape[0]#number of array elements\n",
    "    return ((np.sum((2 * index - n  - 1) * array)) / (n * np.sum(array))) #Gini coefficient"
   ]
  },
  {
   "cell_type": "code",
   "execution_count": 33,
   "metadata": {
    "slideshow": {
     "slide_type": "subslide"
    }
   },
   "outputs": [
    {
     "name": "stdout",
     "output_type": "stream",
     "text": [
      "0.7772658388037018\n"
     ]
    }
   ],
   "source": [
    "## Gini coefficient of asset holdings (cp. table 2, column 1)\n",
    "dis = NGM1.ts['a'].sort_values()\n",
    "print( gini(dis.values) )"
   ]
  },
  {
   "cell_type": "code",
   "execution_count": 34,
   "metadata": {
    "slideshow": {
     "slide_type": "subslide"
    }
   },
   "outputs": [
    {
     "data": {
      "text/plain": [
       "0.10752021212228981"
      ]
     },
     "execution_count": 34,
     "metadata": {},
     "output_type": "execute_result"
    }
   ],
   "source": [
    "## asset holding distribution: 99%-100%\n",
    "dis.iloc[int(0.99 * T):].sum() / dis.sum()"
   ]
  },
  {
   "cell_type": "code",
   "execution_count": 35,
   "metadata": {
    "slideshow": {
     "slide_type": "-"
    }
   },
   "outputs": [
    {
     "data": {
      "text/plain": [
       "0.5816436572120971"
      ]
     },
     "execution_count": 35,
     "metadata": {},
     "output_type": "execute_result"
    }
   ],
   "source": [
    "## asset holding distribution: 90%-100%\n",
    "dis.iloc[int(0.9 * T):].sum() / dis.sum()"
   ]
  },
  {
   "cell_type": "code",
   "execution_count": 36,
   "metadata": {
    "slideshow": {
     "slide_type": "subslide"
    }
   },
   "outputs": [
    {
     "data": {
      "text/plain": [
       "0.8187791739020753"
      ]
     },
     "execution_count": 36,
     "metadata": {},
     "output_type": "execute_result"
    }
   ],
   "source": [
    "## asset holding distribution: 80%-100%\n",
    "dis.iloc[int(0.8 * T):].sum() / dis.sum()"
   ]
  },
  {
   "cell_type": "code",
   "execution_count": 37,
   "metadata": {
    "slideshow": {
     "slide_type": "-"
    }
   },
   "outputs": [
    {
     "data": {
      "text/plain": [
       "0.0010870632157784113"
      ]
     },
     "execution_count": 37,
     "metadata": {},
     "output_type": "execute_result"
    }
   ],
   "source": [
    "## asset holding distribution: 0%-40%\n",
    "dis.iloc[:int(0.4 * T)].sum() / dis.sum()"
   ]
  },
  {
   "cell_type": "markdown",
   "metadata": {
    "slideshow": {
     "slide_type": "subslide"
    }
   },
   "source": [
    "Note that we are not able to replicate the precise values reported by D&H, but our results are sufficiently close."
   ]
  }
 ],
 "metadata": {
  "celltoolbar": "Slideshow",
  "kernelspec": {
   "display_name": "Python 3",
   "language": "python",
   "name": "python3"
  },
  "language_info": {
   "codemirror_mode": {
    "name": "ipython",
    "version": 3
   },
   "file_extension": ".py",
   "mimetype": "text/x-python",
   "name": "python",
   "nbconvert_exporter": "python",
   "pygments_lexer": "ipython3",
   "version": "3.7.5"
  }
 },
 "nbformat": 4,
 "nbformat_minor": 2
}
