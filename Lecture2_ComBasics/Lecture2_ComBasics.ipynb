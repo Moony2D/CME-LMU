{
 "cells": [
  {
   "cell_type": "markdown",
   "metadata": {
    "slideshow": {
     "slide_type": "slide"
    }
   },
   "source": [
    "# Computational Methods in Economics\n",
    "\n",
    "## Lecture 2 - Computer Arithmetic"
   ]
  },
  {
   "cell_type": "code",
   "execution_count": 1,
   "metadata": {
    "slideshow": {
     "slide_type": "skip"
    }
   },
   "outputs": [
    {
     "name": "stdout",
     "output_type": "stream",
     "text": [
      "Last update: 2019-02-06 16:04:36.837298\n"
     ]
    }
   ],
   "source": [
    "# Author: Alex Schmitt (schmitt@ifo.de)\n",
    "\n",
    "import datetime\n",
    "print('Last update: ' + str(datetime.datetime.today()))"
   ]
  },
  {
   "cell_type": "markdown",
   "metadata": {
    "slideshow": {
     "slide_type": "skip"
    }
   },
   "source": [
    "### Preliminaries\n",
    "\n",
    "#### Import Modules"
   ]
  },
  {
   "cell_type": "code",
   "execution_count": 2,
   "metadata": {
    "collapsed": true,
    "slideshow": {
     "slide_type": "skip"
    }
   },
   "outputs": [],
   "source": [
    "import numpy as np\n",
    "import scipy.optimize\n",
    "\n",
    "import matplotlib.pyplot as plt\n",
    "%matplotlib inline\n",
    "import seaborn\n",
    "\n",
    "import numpy as np\n",
    "import math\n",
    "\n",
    "import sys\n",
    "from importlib import reload"
   ]
  },
  {
   "cell_type": "markdown",
   "metadata": {
    "slideshow": {
     "slide_type": "slide"
    }
   },
   "source": [
    "## This Lecture\n",
    "\n",
    "- [Introduction](#introduction)\n",
    "- [Integers](#int)\n",
    "- [Floating-Point Numbers](#floats)\n",
    "- [Appendix](#app)"
   ]
  },
  {
   "cell_type": "markdown",
   "metadata": {
    "slideshow": {
     "slide_type": "skip"
    }
   },
   "source": [
    "----------------------------------------------------------------------------------------------------------------------\n",
    "<a id = \"introduction\"></a>"
   ]
  },
  {
   "cell_type": "markdown",
   "metadata": {
    "slideshow": {
     "slide_type": "slide"
    }
   },
   "source": [
    "## Introduction"
   ]
  },
  {
   "cell_type": "markdown",
   "metadata": {
    "slideshow": {
     "slide_type": "subslide"
    }
   },
   "source": [
    "Working with numbers and doing computations on a computer is inherently based on approximations. In other words, \"exact\" arithmetic and computer arithmetic does not always lead to the same result. Consider the example in Miranda and Fackler, p. 20:"
   ]
  },
  {
   "cell_type": "code",
   "execution_count": 3,
   "metadata": {
    "slideshow": {
     "slide_type": "-"
    }
   },
   "outputs": [
    {
     "name": "stdout",
     "output_type": "stream",
     "text": [
      "1e-20\n",
      "0.0\n"
     ]
    }
   ],
   "source": [
    "print( 1e-20 + (1 - 1) )\n",
    "print( (1e-20 + 1) - 1 )"
   ]
  },
  {
   "cell_type": "markdown",
   "metadata": {
    "slideshow": {
     "slide_type": "subslide"
    }
   },
   "source": [
    "In case you are not familiar with the notation, $1\\text{e}-20$ is another way to write $1 \\cdot 10^{-20}$. \n",
    "\n",
    "While the two expressions are mathematically equivalent and would return the correct result in exact arithmetic, only the first one is correctly evaluated. The result of the second expression, although close to the exact result, is incorrect.   "
   ]
  },
  {
   "cell_type": "markdown",
   "metadata": {
    "slideshow": {
     "slide_type": "subslide"
    }
   },
   "source": [
    "As a second example, consider the following subtraction:"
   ]
  },
  {
   "cell_type": "code",
   "execution_count": 4,
   "metadata": {
    "slideshow": {
     "slide_type": "-"
    }
   },
   "outputs": [
    {
     "name": "stdout",
     "output_type": "stream",
     "text": [
      "0.09999999997671694\n"
     ]
    }
   ],
   "source": [
    "print(1000000.2 - 1000000.1)"
   ]
  },
  {
   "cell_type": "markdown",
   "metadata": {
    "slideshow": {
     "slide_type": "subslide"
    }
   },
   "source": [
    "In exact arithmetic, the result of this operation is 0.1. Evaluated numerically, we again see a small error. "
   ]
  },
  {
   "cell_type": "markdown",
   "metadata": {
    "slideshow": {
     "slide_type": "skip"
    }
   },
   "source": [
    "As a final example, consider the function $p(x) = (1 - x)^{10}$. Evaluating the multiplications, the *power series form* of this expression is\n",
    "\n",
    "\\begin{equation}\n",
    "    p(x) = x^{10} - 10 x^9 + 45 x^8 - 120  x^7 + 210  x^6 - 252  x^5 + 210  x^4 - 120  x^3 + 45  x^2 - 10  x + 1  \n",
    "\\end{equation}\n",
    "\n",
    "In exact arithmetic, these expressions are equivalent. If we use a computer to evaluate, say, the values between 0.99 and 1.01, we get the following:"
   ]
  },
  {
   "cell_type": "code",
   "execution_count": 5,
   "metadata": {
    "slideshow": {
     "slide_type": "skip"
    }
   },
   "outputs": [
    {
     "data": {
      "text/plain": [
       "[<matplotlib.lines.Line2D at 0xdba97e9550>]"
      ]
     },
     "execution_count": 5,
     "metadata": {},
     "output_type": "execute_result"
    },
    {
     "data": {
      "image/png": "[encoded data removed]",
      "text/plain": [
       "<Figure size 576x396 with 1 Axes>"
      ]
     },
     "metadata": {},
     "output_type": "display_data"
    }
   ],
   "source": [
    "def fun(x):\n",
    "    return (1 - x)**10\n",
    "\n",
    "def fun2(x):\n",
    "    return x**10 - 10 * x**9 + 45 * x**8 - 120 * x**7 + 210 * x**6 - 252 * x**5 + 210 * x**4 - 120 * x**3 + 45 * x**2 - 10 * x + 1  \n",
    "\n",
    "x = np.linspace(0.99, 1.01, 103)\n",
    "\n",
    "fig, ax = plt.subplots()\n",
    "ax.plot(x, fun(x))\n",
    "ax.plot(x, fun2(x))"
   ]
  },
  {
   "cell_type": "markdown",
   "metadata": {
    "slideshow": {
     "slide_type": "skip"
    }
   },
   "source": [
    "Clearly, in exact arithmetic, the function $p$ has only one root, at $p(x) = 0$. However, its power series form exhibits multiple roots, while its functional values jump between positive and negative."
   ]
  },
  {
   "cell_type": "markdown",
   "metadata": {
    "slideshow": {
     "slide_type": "subslide"
    }
   },
   "source": [
    "These example illustrate the approximate nature of numerical computing. More precisely, they can be explained by the way that a computer \"represents\" or \"stores\" numbers. "
   ]
  },
  {
   "cell_type": "markdown",
   "metadata": {
    "slideshow": {
     "slide_type": "skip"
    }
   },
   "source": [
    "----------------------------------------------------------------------------------------------------------------------\n",
    "<a id = \"int\"></a>"
   ]
  },
  {
   "cell_type": "markdown",
   "metadata": {
    "slideshow": {
     "slide_type": "slide"
    }
   },
   "source": [
    "## Integers"
   ]
  },
  {
   "cell_type": "markdown",
   "metadata": {
    "slideshow": {
     "slide_type": "subslide"
    }
   },
   "source": [
    "As outlined in the introductory Python sessions, we distinguish two types of numbers in numerical computing: *integers* and *floating point numbers (floats)*. From a computational perspective, the difference is how a computer stores a number. "
   ]
  },
  {
   "cell_type": "markdown",
   "metadata": {
    "slideshow": {
     "slide_type": "subslide"
    }
   },
   "source": [
    "Without going into technical details, the first thing to understand is that a computer is essentially composed of devices (*transistors*) that can be in an \"on\" or \"off\" state.\n",
    "\n",
    "In other words, a single transistor could phiysically encode information about which one of two possible states is realized; for example, these could be labeled *True* or *False*, or 0 or 1. "
   ]
  },
  {
   "cell_type": "markdown",
   "metadata": {
    "slideshow": {
     "slide_type": "subslide"
    }
   },
   "source": [
    "From Wikipedia:\n",
    "\n",
    "\"The transistor is the key active component in practically all modern electronics. Many consider it to be one of the greatest inventions of the 20th century.\"\n",
    "\n",
    "\"About 60 millions transistors were built in 2002... for [each] man, woman and child on Earth.\""
   ]
  },
  {
   "cell_type": "markdown",
   "metadata": {
    "slideshow": {
     "slide_type": "subslide"
    }
   },
   "source": [
    "The information encoded by a two-state device like a transistor is called a *bit* (*binary digit*). In computing, taking 8 bits together gives a *byte*.\n",
    "\n",
    "Of course, most problems we encounter in numerical computing involve more states than 0 or 1. Hence, while a single bit does not get us very far, multiple bits together allow us to represent numerical data."
   ]
  },
  {
   "cell_type": "markdown",
   "metadata": {
    "slideshow": {
     "slide_type": "subslide"
    }
   },
   "source": [
    "Recall that all integers (in the decimal system or *base-10 notation*) can be represented as *binary numbers* (*base-2 notation*). As a reminder, a binary number is a sequence of \n",
    "\n",
    "\\begin{equation}\n",
    "b_N b_{N-1} ... b_2 b_1 b_0,\\quad b_j \\in \\{0, 1\\}, \n",
    "\\end{equation}\n",
    "where\n",
    "\\begin{equation}\n",
    " y = b_N 2^N + b_{N-1} 2^{N-1} + ... + b_1 2^1 + b_0 2^0.\n",
    "\\end{equation}"
   ]
  },
  {
   "cell_type": "markdown",
   "metadata": {
    "slideshow": {
     "slide_type": "subslide"
    }
   },
   "source": [
    "For example, the binary number $1110$ is evaluated to\n",
    "\n",
    "\\begin{equation}\n",
    " y =  2^3 + 2^2 + 2^1 = 14.\n",
    "\\end{equation}"
   ]
  },
  {
   "cell_type": "markdown",
   "metadata": {
    "slideshow": {
     "slide_type": "subslide"
    }
   },
   "source": [
    "As a side note, Python has a **bin** function that gives a binary representation (as a *string*) of integers. Note that the first two elements in the string (**'0b'**) just indicate that what follows is a binary number, and hence can be disregarded: "
   ]
  },
  {
   "cell_type": "code",
   "execution_count": 6,
   "metadata": {
    "slideshow": {
     "slide_type": "-"
    }
   },
   "outputs": [
    {
     "data": {
      "text/plain": [
       "'0b1110'"
      ]
     },
     "execution_count": 6,
     "metadata": {},
     "output_type": "execute_result"
    }
   ],
   "source": [
    "bin(14)"
   ]
  },
  {
   "cell_type": "code",
   "execution_count": 7,
   "metadata": {
    "slideshow": {
     "slide_type": "-"
    }
   },
   "outputs": [
    {
     "data": {
      "text/plain": [
       "'0b11111111'"
      ]
     },
     "execution_count": 7,
     "metadata": {},
     "output_type": "execute_result"
    }
   ],
   "source": [
    "bin(255)"
   ]
  },
  {
   "cell_type": "markdown",
   "metadata": {
    "slideshow": {
     "slide_type": "skip"
    }
   },
   "source": [
    "The other way round works as well: you can type a sequence of 0s and 1s (not as a string!), preceded by **0b**, and Python will return the corresponding integer:"
   ]
  },
  {
   "cell_type": "code",
   "execution_count": 8,
   "metadata": {
    "slideshow": {
     "slide_type": "skip"
    }
   },
   "outputs": [
    {
     "data": {
      "text/plain": [
       "5"
      ]
     },
     "execution_count": 8,
     "metadata": {},
     "output_type": "execute_result"
    }
   ],
   "source": [
    "0b101"
   ]
  },
  {
   "cell_type": "markdown",
   "metadata": {
    "slideshow": {
     "slide_type": "subslide"
    }
   },
   "source": [
    "Hence, in order to represent integers of higher complexity, a computer would convert them into a binary number and then use one bit per digit. \n",
    "\n",
    "As an example, with 8 bits, a computer can represent the numbers between 0 and 255 (the largest integer whose binary representation has 8 digits)."
   ]
  },
  {
   "cell_type": "markdown",
   "metadata": {
    "slideshow": {
     "slide_type": "subslide"
    }
   },
   "source": [
    "In many programming languages, the number of bits used to represent an integer is limited. \n",
    "\n",
    "In Python 3, however, this is not an issue: integers can be arbitrarily large by assigning them more bits (to the extent permitted by memory), while still represented \"precisely\"."
   ]
  },
  {
   "cell_type": "markdown",
   "metadata": {
    "slideshow": {
     "slide_type": "skip"
    }
   },
   "source": [
    "Note that how an integer is represented is only loosely linked to how the integer *object* in Python is stored. For example, you could assume that it requires only 1 byte to store the integer 255. However, the function **getsizeof()** from the **sys** module shows that its size is actually *28* bytes: "
   ]
  },
  {
   "cell_type": "code",
   "execution_count": 9,
   "metadata": {
    "slideshow": {
     "slide_type": "skip"
    }
   },
   "outputs": [
    {
     "data": {
      "text/plain": [
       "28"
      ]
     },
     "execution_count": 9,
     "metadata": {},
     "output_type": "execute_result"
    }
   ],
   "source": [
    "sys.getsizeof(255)"
   ]
  },
  {
   "cell_type": "markdown",
   "metadata": {
    "slideshow": {
     "slide_type": "skip"
    }
   },
   "source": [
    "Recall that a Python object comprises more than only the value; other things that are stored in the object, for example information on the type.\n",
    "\n",
    "For more information on how integers are stored in Python, compare https://stackoverflow.com/questions/23016610/why-do-ints-require-three-times-as-much-memory-in-python and http://mortada.net/can-integer-operations-overflow-in-python.html."
   ]
  },
  {
   "cell_type": "markdown",
   "metadata": {
    "slideshow": {
     "slide_type": "skip"
    }
   },
   "source": [
    "----------------------------------------------------------------------------------------------------------------------\n",
    "<a id = \"floats\"></a>"
   ]
  },
  {
   "cell_type": "markdown",
   "metadata": {
    "slideshow": {
     "slide_type": "slide"
    }
   },
   "source": [
    "## Floating-Point Numbers"
   ]
  },
  {
   "cell_type": "markdown",
   "metadata": {
    "slideshow": {
     "slide_type": "subslide"
    }
   },
   "source": [
    "Floating-point numbers (*float*s) are a subset of the real numbers. That they can only be a subset is intuitive: recall that there are infinitely many real numbers, while a computer can only deal with a finite set of representations."
   ]
  },
  {
   "cell_type": "markdown",
   "metadata": {
    "slideshow": {
     "slide_type": "subslide"
    }
   },
   "source": [
    "#### Representation: DP Numbers\n",
    "\n",
    "There are different types of floating point numbers. In the following, we focus on 64-bit **double precision (DP)** floating point numbers, as defined by the *IEEE 754-1985 Standard for Binary Floating-Point Arithmetic*. As the name indicates, a DP float is stored using 64 bits. "
   ]
  },
  {
   "cell_type": "markdown",
   "metadata": {
    "slideshow": {
     "slide_type": "subslide"
    }
   },
   "source": [
    "In contrast, **single precision (SP)** numbers have only 32 bits available. That said, the fundamental idea of how floats are stored and what that implies for numerical errors is analogous for SP and DP numbers.  "
   ]
  },
  {
   "cell_type": "markdown",
   "metadata": {
    "slideshow": {
     "slide_type": "subslide"
    }
   },
   "source": [
    "\n",
    "In the following, let $y$ denote a DP number. On a computer, $y$ is represented by three integers $s$, $e$ and $f$, according to the following formula given by the \"Standard\":\n",
    "\n",
    "\\begin{equation}\n",
    "    y = (-1)^s \\cdot \\left(1 + \\frac{f}{2^{52}}\\right) \\cdot 2^{e - 1023}\n",
    "\\end{equation}"
   ]
  },
  {
   "cell_type": "markdown",
   "metadata": {
    "slideshow": {
     "slide_type": "subslide"
    }
   },
   "source": [
    "The key idea here is that the 64 bits used to represent a DP float are divided between $s$, $e$ and $f$, in the following way:\n",
    "\n",
    "$s$ contains information about the sign and is either 0 or 1, i.e. 1 bit is used to store the value for $s$. "
   ]
  },
  {
   "cell_type": "markdown",
   "metadata": {
    "slideshow": {
     "slide_type": "subslide"
    }
   },
   "source": [
    "$e$ is an 11-bit integer (\"exponent\"); since 2047 is the largest integer whose binary representation has 11 digits, we have \n",
    "\n",
    "\\begin{equation}\n",
    "0 \\le e \\le 2047\n",
    "\\end{equation}\n",
    "\n",
    "For reasons omitted here, these inequalities are actually strict: $0 < e < 2047$."
   ]
  },
  {
   "cell_type": "code",
   "execution_count": 10,
   "metadata": {
    "slideshow": {
     "slide_type": "-"
    }
   },
   "outputs": [
    {
     "data": {
      "text/plain": [
       "(11, 12)"
      ]
     },
     "execution_count": 10,
     "metadata": {},
     "output_type": "execute_result"
    }
   ],
   "source": [
    "len(bin(2047)[2:]), len(bin(2048)[2:])"
   ]
  },
  {
   "cell_type": "markdown",
   "metadata": {
    "slideshow": {
     "slide_type": "subslide"
    }
   },
   "source": [
    "$f$ is a 52-bit integer (\"significand\"); since $2^{52} - 1$ is the the largest integer whose binary representation has 52 digits, we have\n",
    "\n",
    "\\begin{equation}\n",
    "0 \\le f \\le 2^{52} - 1\n",
    "\\end{equation}"
   ]
  },
  {
   "cell_type": "code",
   "execution_count": 11,
   "metadata": {
    "slideshow": {
     "slide_type": "-"
    }
   },
   "outputs": [
    {
     "data": {
      "text/plain": [
       "(52, 53)"
      ]
     },
     "execution_count": 11,
     "metadata": {},
     "output_type": "execute_result"
    }
   ],
   "source": [
    "len(bin(2**52 - 1)[2:]), len(bin(2**52)[2:])"
   ]
  },
  {
   "cell_type": "markdown",
   "metadata": {
    "slideshow": {
     "slide_type": "subslide"
    }
   },
   "source": [
    "For illustration, we define a function **comp_float** that takes a tuple consisting of $s$, $e$ and $f$ and computes the resulting floating point number:"
   ]
  },
  {
   "cell_type": "code",
   "execution_count": 12,
   "metadata": {
    "collapsed": true,
    "slideshow": {
     "slide_type": "-"
    }
   },
   "outputs": [],
   "source": [
    "def comp_float(tup):\n",
    "    \"\"\"\n",
    "    Takes a tuple consisting of s, e and f and computes the resulting DP floating point number, according to the IEEE formula\n",
    "    \"\"\"\n",
    "    s, e, f = tup\n",
    "    \n",
    "    return (-1)**s * (1 + f * 2**(-52) ) * 2**(-1023 + e)"
   ]
  },
  {
   "cell_type": "markdown",
   "metadata": {
    "slideshow": {
     "slide_type": "subslide"
    }
   },
   "source": [
    "Consider an example:"
   ]
  },
  {
   "cell_type": "code",
   "execution_count": 13,
   "metadata": {},
   "outputs": [
    {
     "name": "stdout",
     "output_type": "stream",
     "text": [
      "1000000.1\n"
     ]
    }
   ],
   "source": [
    "tup = (0, 1042, 4086335823622963)\n",
    "print( comp_float(tup) )"
   ]
  },
  {
   "cell_type": "markdown",
   "metadata": {
    "slideshow": {
     "slide_type": "subslide"
    }
   },
   "source": [
    "We can also use the **format** function to show the number up to its, say, 20th decimal:"
   ]
  },
  {
   "cell_type": "code",
   "execution_count": 14,
   "metadata": {},
   "outputs": [
    {
     "data": {
      "text/plain": [
       "'1000000.09999999997671693563'"
      ]
     },
     "execution_count": 14,
     "metadata": {},
     "output_type": "execute_result"
    }
   ],
   "source": [
    "format( comp_float(tup), '.20f')"
   ]
  },
  {
   "cell_type": "markdown",
   "metadata": {
    "slideshow": {
     "slide_type": "subslide"
    }
   },
   "source": [
    "#### Not all real numbers are DP floats\n",
    "\n",
    "The previous example might struck you as odd. At first glance, it seems that the tuple\n",
    "\n",
    "\\begin{equation}\n",
    "    (s, e, f) = (0, 1042, 4086335823622963)\n",
    "\\end{equation}\n",
    "\n",
    "used in the formula above gives you 1000000.1. Using the format function, however, shows that this was an approximation."
   ]
  },
  {
   "cell_type": "markdown",
   "metadata": {
    "slideshow": {
     "slide_type": "subslide"
    }
   },
   "source": [
    "In fact, the number 1000000.1 \"does not exist\" on a computer, at least not when using DP numbers.\n",
    "\n",
    "That is, there is no combination *(s, e, f)* with which the expression above evaluates to 1000000.1 exactly. In other words, it is not a DP number. \n",
    "\n",
    "\"The best\" a computer can do is approximating it by the DP number 1000000.09999999997671693563."
   ]
  },
  {
   "cell_type": "markdown",
   "metadata": {
    "slideshow": {
     "slide_type": "subslide"
    }
   },
   "source": [
    "As a corollary, all numbers in between 1000000.1 and 1000000.09999999997671693563 have the same representation on a computer!"
   ]
  },
  {
   "cell_type": "markdown",
   "metadata": {
    "slideshow": {
     "slide_type": "subslide"
    }
   },
   "source": [
    "This example illustrates the key issue when using real numbers on a computer, which was already hinted to above, and becomes obvious when looking at the representation described above: there are infinitely many real numbers, while there is only a *finite combination* of possible significands and exponents - recall that both $e$ and $f$ are required to be integers, and are bounded below and above. "
   ]
  },
  {
   "cell_type": "markdown",
   "metadata": {
    "slideshow": {
     "slide_type": "subslide"
    }
   },
   "source": [
    "What follows directly from this *finite set of DP numbers* is that not all real numbers can be represented as DP floats. When working with real numbers that cannot, those are instead *approximated by the closest DP number*.  \n",
    "\n",
    "\\begin{equation}\n",
    "    z \\approx (z)_{DP} = z_{DP} = y\n",
    "\\end{equation}\n",
    "\n",
    "where $z$ is a real number (but not a DP number), while $y$ is the closest DP number.\n",
    "\n",
    "As a result, working with floating point numbers is inherently *approximate*. Below, we will discuss the main issues and consequences for numerical analysis. "
   ]
  },
  {
   "cell_type": "markdown",
   "metadata": {
    "slideshow": {
     "slide_type": "subslide"
    }
   },
   "source": [
    "#### Machine epsilon\n",
    "\n",
    "This issue is related to the the so-called **machine epsilon** (or **machine zero**) $\\epsilon_{DP} $ which is defined as the distance from 1.0 to the next larger number that the computer can represent as a DP float. In double precision, it turns out to be $2^{-52}$."
   ]
  },
  {
   "cell_type": "markdown",
   "metadata": {
    "slideshow": {
     "slide_type": "subslide"
    }
   },
   "source": [
    "To see this, first note that 1.0 can be represented by the tuple $s = 0$, $f = 0$ and $e = 1023$:"
   ]
  },
  {
   "cell_type": "code",
   "execution_count": 15,
   "metadata": {},
   "outputs": [
    {
     "data": {
      "text/plain": [
       "1.0"
      ]
     },
     "execution_count": 15,
     "metadata": {},
     "output_type": "execute_result"
    }
   ],
   "source": [
    "comp_float( (0, 1023, 0) )"
   ]
  },
  {
   "cell_type": "markdown",
   "metadata": {
    "slideshow": {
     "slide_type": "subslide"
    }
   },
   "source": [
    "Next, it is easy to verify that the float $1 + 2^{-52}$ can be represented by $s = 0$, $f = 1$ and $e = 1023$:"
   ]
  },
  {
   "cell_type": "code",
   "execution_count": 16,
   "metadata": {},
   "outputs": [
    {
     "data": {
      "text/plain": [
       "1.0000000000000002"
      ]
     },
     "execution_count": 16,
     "metadata": {},
     "output_type": "execute_result"
    }
   ],
   "source": [
    "comp_float( (0, 1023, 1) ) "
   ]
  },
  {
   "cell_type": "code",
   "execution_count": 17,
   "metadata": {},
   "outputs": [
    {
     "data": {
      "text/plain": [
       "True"
      ]
     },
     "execution_count": 17,
     "metadata": {},
     "output_type": "execute_result"
    }
   ],
   "source": [
    "comp_float( (0, 1023, 1) ) == 1 + 2**(-52)"
   ]
  },
  {
   "cell_type": "markdown",
   "metadata": {
    "slideshow": {
     "slide_type": "subslide"
    }
   },
   "source": [
    "What about the (smaller) float $1 + 2^{-53}$? In the expression above, the combination $s = 0$, $f = 0.5$ and $e = 1023$ would do the trick. However, recall that $f$ must be an integer. Hence, it is represented *in the same way* as 1.0."
   ]
  },
  {
   "cell_type": "markdown",
   "metadata": {
    "slideshow": {
     "slide_type": "subslide"
    }
   },
   "source": [
    "Note that in general, the distance between two adjacent DP numbers is increasing in their exponent. You will show in this week's problem set that for two adjacent DP numbers $y_1$ and $y_2$ with $y_1 < y_2$, \n",
    "\n",
    "\\begin{equation}\n",
    "   | y_2 - y_1 | = \\epsilon_{DP} 2^{e(y_1) - 1023} \\equiv ulp(y_1) \n",
    "\\end{equation}\n",
    "\n",
    "The expression on the RHS is often referred to as the *ulp* (\"units in last place\") of a DP number.   "
   ]
  },
  {
   "cell_type": "markdown",
   "metadata": {
    "slideshow": {
     "slide_type": "subslide"
    }
   },
   "source": [
    "Hence we can conclude that it is not possible for a computer to *distinguish two floats whose distance is less than $2^{-52}$ in double precision*: "
   ]
  },
  {
   "cell_type": "code",
   "execution_count": 18,
   "metadata": {
    "slideshow": {
     "slide_type": "-"
    }
   },
   "outputs": [
    {
     "name": "stdout",
     "output_type": "stream",
     "text": [
      "2.220446049250313e-16\n"
     ]
    }
   ],
   "source": [
    "eps = 2**(-52) \n",
    "print(eps)"
   ]
  },
  {
   "cell_type": "markdown",
   "metadata": {
    "slideshow": {
     "slide_type": "subslide"
    }
   },
   "source": [
    "Note that this feature explains our motivating example above:"
   ]
  },
  {
   "cell_type": "code",
   "execution_count": 19,
   "metadata": {
    "slideshow": {
     "slide_type": "-"
    }
   },
   "outputs": [
    {
     "name": "stdout",
     "output_type": "stream",
     "text": [
      "0.0\n"
     ]
    }
   ],
   "source": [
    "print( (1e-20 + 1) - 1 )"
   ]
  },
  {
   "cell_type": "markdown",
   "metadata": {
    "slideshow": {
     "slide_type": "subslide"
    }
   },
   "source": [
    "Since"
   ]
  },
  {
   "cell_type": "code",
   "execution_count": 20,
   "metadata": {
    "slideshow": {
     "slide_type": "-"
    }
   },
   "outputs": [
    {
     "data": {
      "text/plain": [
       "True"
      ]
     },
     "execution_count": 20,
     "metadata": {},
     "output_type": "execute_result"
    }
   ],
   "source": [
    "1e-20 < eps"
   ]
  },
  {
   "cell_type": "markdown",
   "metadata": {
    "slideshow": {
     "slide_type": "-"
    }
   },
   "source": [
    "The sum $(1\\mathrm{e}{-20}+ 1)$ is not distinguishable from 1, and hence the result of the subtraction is zero."
   ]
  },
  {
   "cell_type": "markdown",
   "metadata": {
    "slideshow": {
     "slide_type": "subslide"
    }
   },
   "source": [
    "As a final point, note that - perhaps somewhat confusing - machine zero is *not* the smallest float that can be represented on a computer. This is given by the smallest values for $e$ (1) and $f$ (0), which results in:"
   ]
  },
  {
   "cell_type": "code",
   "execution_count": 21,
   "metadata": {
    "slideshow": {
     "slide_type": "-"
    }
   },
   "outputs": [
    {
     "data": {
      "text/plain": [
       "2.2250738585072014e-308"
      ]
     },
     "execution_count": 21,
     "metadata": {},
     "output_type": "execute_result"
    }
   ],
   "source": [
    "2**(-1022)"
   ]
  },
  {
   "cell_type": "code",
   "execution_count": 22,
   "metadata": {},
   "outputs": [
    {
     "name": "stdout",
     "output_type": "stream",
     "text": [
      "2.2250738585072014e-308\n"
     ]
    }
   ],
   "source": [
    "print( comp_float((0, 1, 0)) )"
   ]
  },
  {
   "cell_type": "markdown",
   "metadata": {
    "slideshow": {
     "slide_type": "subslide"
    }
   },
   "source": [
    "Similarly, the largest float that can be represented is given by $e = 2046$ and $f = 2^{52} - 1$:"
   ]
  },
  {
   "cell_type": "code",
   "execution_count": 23,
   "metadata": {
    "slideshow": {
     "slide_type": "-"
    }
   },
   "outputs": [
    {
     "name": "stdout",
     "output_type": "stream",
     "text": [
      "1.7976931348623157e+308\n"
     ]
    }
   ],
   "source": [
    "print( comp_float((0, 2046, 2**52-1)) )"
   ]
  },
  {
   "cell_type": "markdown",
   "metadata": {
    "slideshow": {
     "slide_type": "subslide"
    }
   },
   "source": [
    "Finally, in Python, the **sys.float_info** function summarizes machine epsilon, as well as the max and the min:"
   ]
  },
  {
   "cell_type": "code",
   "execution_count": 24,
   "metadata": {
    "slideshow": {
     "slide_type": "-"
    }
   },
   "outputs": [
    {
     "data": {
      "text/plain": [
       "sys.float_info(max=1.7976931348623157e+308, max_exp=1024, max_10_exp=308, min=2.2250738585072014e-308, min_exp=-1021, min_10_exp=-307, dig=15, mant_dig=53, epsilon=2.220446049250313e-16, radix=2, rounds=1)"
      ]
     },
     "execution_count": 24,
     "metadata": {},
     "output_type": "execute_result"
    }
   ],
   "source": [
    "sys.float_info"
   ]
  },
  {
   "cell_type": "markdown",
   "metadata": {
    "slideshow": {
     "slide_type": "subslide"
    }
   },
   "source": [
    "####  The set of DP numbers is not closed under the arithmetic operations\n",
    "\n",
    "Above, we have seen that working with floating point numbers is inherently *approximate*. \n",
    "\n",
    "This is compounded by the fact that even if you start with two DP numbers, applying arithmetic operations (addition, subtraction, multiplication, division) on them does not necessarily yield a DP number as a result!"
   ]
  },
  {
   "cell_type": "markdown",
   "metadata": {
    "slideshow": {
     "slide_type": "subslide"
    }
   },
   "source": [
    "In other words, the set of DP numbers is not closed under these operations. \n",
    "\n",
    "As an example consider $y_1 = 2^{52} - 1$ and $y_2 = 2^{52} + 1$. First note that they integers, but of course every integer can be thought as a real number (e.g. 1.0) and must be represented by a DP number.  "
   ]
  },
  {
   "cell_type": "markdown",
   "metadata": {
    "slideshow": {
     "slide_type": "subslide"
    }
   },
   "source": [
    "We could show analytically that these are DP numbers, but let's skip this her (but try to verify it yourself!). Instead, there is a simple way of checking if the *floating point representation of an integer* is a DP number, using the **float** conversion function. "
   ]
  },
  {
   "cell_type": "code",
   "execution_count": 25,
   "metadata": {},
   "outputs": [
    {
     "name": "stdout",
     "output_type": "stream",
     "text": [
      "True\n",
      "True\n"
     ]
    }
   ],
   "source": [
    "print( float(2**52 - 1) == 2**52 - 1 )\n",
    "print( float(2**52 + 1) == 2**52 + 1 )"
   ]
  },
  {
   "cell_type": "markdown",
   "metadata": {
    "slideshow": {
     "slide_type": "subslide"
    }
   },
   "source": [
    "When **True**, this means that the float is not an approximation (since it has the same value as the integer), and hence it must be a DP number. "
   ]
  },
  {
   "cell_type": "markdown",
   "metadata": {
    "slideshow": {
     "slide_type": "subslide"
    }
   },
   "source": [
    "Next, the product of these two DP numbers gives $y_1 y_2 = 2^{104} - 1$. Again, we can us the **float** conversion function to check whether it is a DP number (which it is not):"
   ]
  },
  {
   "cell_type": "code",
   "execution_count": 26,
   "metadata": {
    "slideshow": {
     "slide_type": "-"
    }
   },
   "outputs": [
    {
     "name": "stdout",
     "output_type": "stream",
     "text": [
      "False\n"
     ]
    }
   ],
   "source": [
    "print( float( 2**104 - 1 ) == 2**104 - 1 )"
   ]
  },
  {
   "cell_type": "markdown",
   "metadata": {
    "slideshow": {
     "slide_type": "subslide"
    }
   },
   "source": [
    "In fact, the representation of $2^{104} - 1$ is the same as for $2^{104}$, which is a DP number:"
   ]
  },
  {
   "cell_type": "code",
   "execution_count": 27,
   "metadata": {
    "slideshow": {
     "slide_type": "-"
    }
   },
   "outputs": [
    {
     "data": {
      "text/plain": [
       "True"
      ]
     },
     "execution_count": 27,
     "metadata": {},
     "output_type": "execute_result"
    }
   ],
   "source": [
    "comp_float( (0, 1127, 0) ) == float( 2**104 )"
   ]
  },
  {
   "cell_type": "code",
   "execution_count": 28,
   "metadata": {},
   "outputs": [
    {
     "data": {
      "text/plain": [
       "True"
      ]
     },
     "execution_count": 28,
     "metadata": {},
     "output_type": "execute_result"
    }
   ],
   "source": [
    "comp_float( (0, 1127, 0) ) == float(2**104 - 1)"
   ]
  },
  {
   "cell_type": "markdown",
   "metadata": {
    "slideshow": {
     "slide_type": "subslide"
    }
   },
   "source": [
    "#### Quality of Approximation\n",
    "\n",
    "The examples above have shown that a computer *approximates a real number $z$ that is not a DP number (e.g. $2^{104} - 1$) by the DP number closest to $z$ (e.g. $2^{104}$)*. \n",
    "\n",
    "In the following, I denote this approximation by $z_{DP}$. The difference between $z$ and $z_{DP}$ is referred to as *roundoff error*.\n"
   ]
  },
  {
   "cell_type": "markdown",
   "metadata": {
    "slideshow": {
     "slide_type": "subslide"
    }
   },
   "source": [
    "Similarly, the value of a sum, difference, product or quotient of DP numbers is equal to the DP number closest to the precise result, e.g.\n",
    "\n",
    "\\begin{equation}\n",
    "   y_1 + y_2 \\approx (y_1 + y_2)_{DP} \n",
    "\\end{equation}"
   ]
  },
  {
   "cell_type": "markdown",
   "metadata": {
    "slideshow": {
     "slide_type": "subslide"
    }
   },
   "source": [
    "It is shown in this week's problem set that \n",
    "\n",
    "\\begin{equation}\n",
    "    |\\mu| \\equiv \\left| \\frac{z_{DP} - z}{z} \\right| \\le \\frac{1}{2} \\epsilon_{DP}\n",
    "\\end{equation}\n",
    "\n",
    "In words, *the absolute relative error in the DP approximation $z_{DP}$ to the real number $z$ is at most half machine epsilon*. "
   ]
  },
  {
   "cell_type": "markdown",
   "metadata": {
    "slideshow": {
     "slide_type": "subslide"
    }
   },
   "source": [
    "What does this mean in practice? Recall that $\\epsilon_{DP} = 2^{-52} \\approx 2\\mathrm{e}{-16}$. Hence, the absolute relative error is bounded above by about $1\\mathrm{e}{-16}$. Moreover, rearranging \n",
    "\n",
    "\\begin{equation}\n",
    "    \\left| z_{DP} - z \\right| \\le \\frac{1}{2} |z| \\cdot 2 \\cdot 10^{-16} \\le \\frac{1}{2} |z|  \\cdot 10^{-15}.\n",
    "\\end{equation}"
   ]
  },
  {
   "cell_type": "markdown",
   "metadata": {
    "slideshow": {
     "slide_type": "subslide"
    }
   },
   "source": [
    "This last expression implies that $z_{DP}$ is about 15-digits accurate as an approximation to $z$. Loosely speaking, this means that the first 15 significant digits are guaranteed to be the same."
   ]
  },
  {
   "cell_type": "markdown",
   "metadata": {
    "slideshow": {
     "slide_type": "subslide"
    }
   },
   "source": [
    "Related to this is the following result: adding or subtracting two floats whose relative magnitudes differ by less than machine epsilon is not meaningful in the sense that the smaller value is effectively treated as zero. Formally, let $z$ and $w$ be real numbers such that\n",
    "\n",
    "\\begin{equation}\n",
    "    \\frac{w}{z} = r.\n",
    "\\end{equation}"
   ]
  },
  {
   "cell_type": "markdown",
   "metadata": {
    "slideshow": {
     "slide_type": "subslide"
    }
   },
   "source": [
    "It can be shown that for $z$ and $z + w$ to be represented by *different* DP numbers, their relative magnitude must be at least $\\epsilon_{DP}$:\n",
    "\n",
    "\\begin{equation}\n",
    "    (z + w)_{DP} > (z)_{DP} \\ \\ \\Rightarrow\\ \\ r \\ge \\epsilon_{DP}\n",
    "\\end{equation}\n",
    "\n",
    "The proof for this is omitted, but follows from the results above."
   ]
  },
  {
   "cell_type": "markdown",
   "metadata": {
    "slideshow": {
     "slide_type": "subslide"
    }
   },
   "source": [
    "Consider the following example:"
   ]
  },
  {
   "cell_type": "code",
   "execution_count": 38,
   "metadata": {},
   "outputs": [
    {
     "name": "stdout",
     "output_type": "stream",
     "text": [
      "True\n",
      "1234.56700000000000727596\n",
      "1234.56700000000000727596\n"
     ]
    }
   ],
   "source": [
    "z = 1234.567\n",
    "w = 1e-13\n",
    "print( (w / z) < 2**(-52))\n",
    "print(format(z, '.20f'))\n",
    "print(format(z + w, '.20f'))"
   ]
  },
  {
   "cell_type": "markdown",
   "metadata": {
    "slideshow": {
     "slide_type": "subslide"
    }
   },
   "source": [
    "#### Propagation of Errors\n",
    "\n",
    "To summarize what's outlined above, when working with floating point numbers, there are two sources of error:\n",
    "- the error inherent in a float $z$ if $z$ is not a DP number\n",
    "- the error introduced when an arithmetic operation is performed on two DP numbers $y_1$ and $y_2$ "
   ]
  },
  {
   "cell_type": "markdown",
   "metadata": {
    "slideshow": {
     "slide_type": "subslide"
    }
   },
   "source": [
    "Given the bound on the absolute relative approximation error, we can write \n",
    "\n",
    "\\begin{equation}\n",
    "    z_{DP} = (1 + \\mu) z , \\ \\  \\text{with}\\ \\ |\\mu| \\le \\frac{1}{2} \\epsilon_{DP}\n",
    "\\end{equation}"
   ]
  },
  {
   "cell_type": "markdown",
   "metadata": {
    "slideshow": {
     "slide_type": "subslide"
    }
   },
   "source": [
    "Moreover, suppose we perform an arithmetic operation on two DP numbers $y_1$ and $y_2$. As outlined above, the result is not in general a DP number, but instead is approximated by $(y_1 + y_2)_{DP}$. For the example of addition,\n",
    "\n",
    "\\begin{equation}\n",
    "   (y_1 + y_2)_{DP} = (1 + \\mu_A) (y_1 + y_2), \\ \\  \\text{with}\\ \\ |\\mu_A| \\le \\frac{1}{2} \\epsilon_{DP}\n",
    "\\end{equation}\n",
    "\n",
    "Analogous expression can be derived for the other arithmetic operations.  "
   ]
  },
  {
   "cell_type": "markdown",
   "metadata": {
    "slideshow": {
     "slide_type": "subslide"
    }
   },
   "source": [
    "Hence, what happens if we perform an arithmetic operation on two floats $z_1$ and $z_2$  that are not DP numbers? "
   ]
  },
  {
   "cell_type": "markdown",
   "metadata": {
    "slideshow": {
     "slide_type": "subslide"
    }
   },
   "source": [
    "With\n",
    "\n",
    "\\begin{equation}\n",
    "    (z_1)_{DP} = (1 + \\mu_1) z_1 ,\\ \\ (z_2)_{DP} = (1 + \\mu_2) z_2\n",
    "\\end{equation}\n",
    "\n",
    "we get\n",
    "\n",
    "\\begin{equation}\n",
    "\\begin{split}\n",
    "   \\left[(z_1)_{DP} + (z_2)_{DP}\\right]_{DP} &= (1 + \\mu_A) \\left[(z_1)_{DP} + (z_2)_{DP}\\right] \\\\\n",
    "   &= (1 + \\mu_A) \\left[(1 + \\mu_1) z_1 + (1 + \\mu_2) z_2 \\right]\n",
    "\\end{split}\n",
    "\\end{equation}\n",
    "\n",
    "Again, similar expressions can be derived for the other arithmetic operations.  "
   ]
  },
  {
   "cell_type": "markdown",
   "metadata": {
    "slideshow": {
     "slide_type": "subslide"
    }
   },
   "source": [
    "Usually, numerical analysis involves a large number of operations on floating point numbers. The derivation above illustrates that the approximation error in the final result (compared to exact arithmetic) is *the accumulation of errors from all the arithmetic operations, on top of the errors in the initial numbers* (e.g. parameters). "
   ]
  },
  {
   "cell_type": "markdown",
   "metadata": {
    "slideshow": {
     "slide_type": "subslide"
    }
   },
   "source": [
    "This propagation of errors when using floating-point arithmetic also explains why it is better to use double-precision numbers than single-precision numbers. \n",
    "\n",
    "While the same formal arguments can be made for SP arithmetic, the relative errors $\\mu$ (and hence the overall error in the final result) are (much) smaller for DP numbers."
   ]
  },
  {
   "cell_type": "markdown",
   "metadata": {
    "slideshow": {
     "slide_type": "skip"
    }
   },
   "source": [
    "----------------------------------------------------------------------------------------------------------------------"
   ]
  },
  {
   "cell_type": "markdown",
   "metadata": {
    "slideshow": {
     "slide_type": "skip"
    }
   },
   "source": [
    "As a final comment, note that the actual size of an object representing a floating point number in Python is greater than 64 bit (8 byte). In fact, *all* floating point numbers, independent of their size, are stored using 24 bytes. This leads to the somewhat curious situation that the largest floating point number needs less space than the smallest integer. "
   ]
  },
  {
   "cell_type": "code",
   "execution_count": 29,
   "metadata": {
    "slideshow": {
     "slide_type": "skip"
    }
   },
   "outputs": [
    {
     "data": {
      "text/plain": [
       "24"
      ]
     },
     "execution_count": 29,
     "metadata": {},
     "output_type": "execute_result"
    }
   ],
   "source": [
    "sys.getsizeof(1.0)"
   ]
  },
  {
   "cell_type": "code",
   "execution_count": 30,
   "metadata": {
    "slideshow": {
     "slide_type": "skip"
    }
   },
   "outputs": [
    {
     "data": {
      "text/plain": [
       "24"
      ]
     },
     "execution_count": 30,
     "metadata": {},
     "output_type": "execute_result"
    }
   ],
   "source": [
    "sys.getsizeof(1.7976931348623157e+308)"
   ]
  },
  {
   "cell_type": "code",
   "execution_count": 31,
   "metadata": {
    "slideshow": {
     "slide_type": "skip"
    }
   },
   "outputs": [
    {
     "data": {
      "text/plain": [
       "28"
      ]
     },
     "execution_count": 31,
     "metadata": {},
     "output_type": "execute_result"
    }
   ],
   "source": [
    "sys.getsizeof(1)"
   ]
  },
  {
   "cell_type": "markdown",
   "metadata": {
    "slideshow": {
     "slide_type": "skip"
    }
   },
   "source": [
    "More information on floats in Python:\n",
    "- https://docs.python.org/3/tutorial/floatingpoint.html\n",
    "- https://stackoverflow.com/questions/4838994/float-to-binary"
   ]
  },
  {
   "cell_type": "markdown",
   "metadata": {
    "slideshow": {
     "slide_type": "skip"
    }
   },
   "source": [
    "----------------------------------------------------------------------------------------------------------------------\n",
    "<a id = \"appendix\"></a>"
   ]
  },
  {
   "cell_type": "markdown",
   "metadata": {
    "slideshow": {
     "slide_type": "skip"
    }
   },
   "source": [
    "### Appendix"
   ]
  },
  {
   "cell_type": "markdown",
   "metadata": {
    "slideshow": {
     "slide_type": "skip"
    }
   },
   "source": [
    "The following function implements going in the other direction than **comp_float** defined above: it takes a floating point number $x$ and decomposes it into the tuple consisting of $s$, $e$ and $f$. Don't worry about the exact implementation here."
   ]
  },
  {
   "cell_type": "code",
   "execution_count": 32,
   "metadata": {
    "slideshow": {
     "slide_type": "skip"
    }
   },
   "outputs": [
    {
     "name": "stdout",
     "output_type": "stream",
     "text": [
      "1 1034 2556320554114089\n",
      "-3210.48\n"
     ]
    }
   ],
   "source": [
    "def int_repr2(x):\n",
    "    \"\"\"\n",
    "    Takes a floating point number $x$ and decomposes it in the tuple consisting of $s$, $e$ and $f$\n",
    "    \"\"\"\n",
    "    n, d = x.as_integer_ratio()\n",
    "    s = int(n < 0)\n",
    "    \n",
    "    n = abs(n)\n",
    "    \n",
    "    while n > 2 - 2**(-52):\n",
    "        n *= 0.5\n",
    "        d *= 0.5\n",
    "        \n",
    "    f = int( (n - 1) * 2**52 )\n",
    "    e = 1023 + int( math.log(1/d)/math.log(2) )\n",
    "    \n",
    "    return s, e, f\n",
    "\n",
    "    \n",
    "s, e, f = int_repr2(-3210.48)\n",
    "print( s, e, f )\n",
    "print( comp_float( (s, e, f) ) )"
   ]
  },
  {
   "cell_type": "markdown",
   "metadata": {
    "slideshow": {
     "slide_type": "skip"
    }
   },
   "source": [
    "We can also use the function **int_repr2** in another function **float_to_bin** that takes a float and translates it into its binary computer representation:"
   ]
  },
  {
   "cell_type": "code",
   "execution_count": 33,
   "metadata": {
    "slideshow": {
     "slide_type": "skip"
    }
   },
   "outputs": [
    {
     "name": "stdout",
     "output_type": "stream",
     "text": [
      "1 10000001010 1001000101001111010111000010100011110101110000101001\n"
     ]
    }
   ],
   "source": [
    "def float_to_bin(x):\n",
    "    s, e, f = int_repr2(x)\n",
    "    return \"{} {:011b} {:052b}\".format(s, e, f)\n",
    "\n",
    "print( float_to_bin(-3210.48) )"
   ]
  },
  {
   "cell_type": "code",
   "execution_count": 34,
   "metadata": {
    "slideshow": {
     "slide_type": "skip"
    }
   },
   "outputs": [
    {
     "data": {
      "text/plain": [
       "(0, 1042, 4086335823622963)"
      ]
     },
     "execution_count": 34,
     "metadata": {},
     "output_type": "execute_result"
    }
   ],
   "source": [
    "int_repr2(1000000.1)"
   ]
  },
  {
   "cell_type": "code",
   "execution_count": 35,
   "metadata": {
    "slideshow": {
     "slide_type": "skip"
    }
   },
   "outputs": [
    {
     "data": {
      "text/plain": [
       "(0, 1042, 4086335823622963)"
      ]
     },
     "execution_count": 35,
     "metadata": {},
     "output_type": "execute_result"
    }
   ],
   "source": [
    "int_repr2(1000000.09999999997671693563)"
   ]
  },
  {
   "cell_type": "markdown",
   "metadata": {
    "slideshow": {
     "slide_type": "skip"
    }
   },
   "source": [
    "----------------------------------------------------------------------------------------------------------------------"
   ]
  }
 ],
 "metadata": {
  "celltoolbar": "Slideshow",
  "kernelspec": {
   "display_name": "Python 3",
   "language": "python",
   "name": "python3"
  },
  "language_info": {
   "codemirror_mode": {
    "name": "ipython",
    "version": 3
   },
   "file_extension": ".py",
   "mimetype": "text/x-python",
   "name": "python",
   "nbconvert_exporter": "python",
   "pygments_lexer": "ipython3",
   "version": "3.7.0"
  }
 },
 "nbformat": 4,
 "nbformat_minor": 1
}
