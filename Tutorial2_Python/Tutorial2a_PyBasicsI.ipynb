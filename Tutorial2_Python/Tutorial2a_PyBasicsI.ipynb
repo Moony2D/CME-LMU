{
 "cells": [
  {
   "cell_type": "markdown",
   "metadata": {
    "slideshow": {
     "slide_type": "slide"
    }
   },
   "source": [
    "# Computational Methods in Economics\n",
    "\n",
    "## Tutorial 2a - Python Basics I"
   ]
  },
  {
   "cell_type": "code",
   "execution_count": 1,
   "metadata": {
    "slideshow": {
     "slide_type": "skip"
    }
   },
   "outputs": [
    {
     "name": "stdout",
     "output_type": "stream",
     "text": [
      "Last update: 2019-11-01 10:06:17.876264\n"
     ]
    }
   ],
   "source": [
    "# Author: Alex Schmitt (schmitt@ifo.de)\n",
    "\n",
    "import datetime\n",
    "print('Last update: ' + str(datetime.datetime.today()))"
   ]
  },
  {
   "cell_type": "markdown",
   "metadata": {
    "slideshow": {
     "slide_type": "slide"
    }
   },
   "source": [
    "## This Lecture\n",
    "\n",
    "- [Using Functions](#fun)\n",
    "- [Objects and Variables](#obj)\n",
    "- [Object Types](#typ)\n",
    "- [Arrays](#arr)"
   ]
  },
  {
   "cell_type": "markdown",
   "metadata": {
    "slideshow": {
     "slide_type": "subslide"
    }
   },
   "source": [
    "## Documentation\n",
    "\n",
    "The core package (or \"Vanilla Python\") contains the Python Standard Library, a collection of many basic *built-in* modules and functions. In other words, it comprises all the functionalities in Python that you can use without installing any external packages (more on that in the next lecture).\n",
    "\n",
    "Documentation for the Python 3 standard library can be found here: https://docs.python.org/3/library/"
   ]
  },
  {
   "cell_type": "markdown",
   "metadata": {
    "slideshow": {
     "slide_type": "skip"
    }
   },
   "source": [
    "Documentation for external packages such as Numpy or Matplotlib is separate, but can be found easily by googling the name of the package. In general, most (if not all) problems you may run into when programming in Python have already been encountered by someone else, so Google should be the first place to go when you are stuck somewhere. \n",
    "\n",
    "In case you want to apply and practice your Python skills in other areas, MOOC (*massive open online courses*) sites like Coursera or Udacity have great free-of-charge courses on Python, both for beginners and more advanced programmers. "
   ]
  },
  {
   "cell_type": "markdown",
   "metadata": {
    "slideshow": {
     "slide_type": "skip"
    }
   },
   "source": [
    "----------------------------------------------------------------------------------------------------------------------\n",
    "<a id = \"fun\"></a>"
   ]
  },
  {
   "cell_type": "markdown",
   "metadata": {
    "slideshow": {
     "slide_type": "slide"
    }
   },
   "source": [
    "## Using functions\n",
    "\n",
    "Functions in Python are used by calling their name and their argument(s) in parenthesis. A frequently used function from the Standard Library is **print()**. As the name indicates, it displays output on screen, in Jupyter below a code cell."
   ]
  },
  {
   "cell_type": "code",
   "execution_count": 2,
   "metadata": {
    "slideshow": {
     "slide_type": "subslide"
    }
   },
   "outputs": [
    {
     "name": "stdout",
     "output_type": "stream",
     "text": [
      "Hello class!\n"
     ]
    }
   ],
   "source": [
    "print(\"Hello class!\")"
   ]
  },
  {
   "cell_type": "code",
   "execution_count": 3,
   "metadata": {},
   "outputs": [
    {
     "name": "stdout",
     "output_type": "stream",
     "text": [
      "4\n"
     ]
    }
   ],
   "source": [
    "print(2 + 2)"
   ]
  },
  {
   "cell_type": "markdown",
   "metadata": {
    "slideshow": {
     "slide_type": "subslide"
    }
   },
   "source": [
    "Note that Jupyter also displays output from the last line in a code cell. Compare the following examples:"
   ]
  },
  {
   "cell_type": "code",
   "execution_count": 4,
   "metadata": {},
   "outputs": [
    {
     "name": "stdout",
     "output_type": "stream",
     "text": [
      "Hello Westeros\n"
     ]
    },
    {
     "data": {
      "text/plain": [
       "'Westeros'"
      ]
     },
     "execution_count": 4,
     "metadata": {},
     "output_type": "execute_result"
    }
   ],
   "source": [
    "\"Hello\"\n",
    "print(\"Hello Westeros\")\n",
    "\"Westeros\""
   ]
  },
  {
   "cell_type": "code",
   "execution_count": 5,
   "metadata": {
    "slideshow": {
     "slide_type": "subslide"
    }
   },
   "outputs": [
    {
     "name": "stdout",
     "output_type": "stream",
     "text": [
      "4\n"
     ]
    },
    {
     "data": {
      "text/plain": [
       "6"
      ]
     },
     "execution_count": 5,
     "metadata": {},
     "output_type": "execute_result"
    }
   ],
   "source": [
    "1 + 1\n",
    "print(2 + 2)\n",
    "3 + 3"
   ]
  },
  {
   "cell_type": "markdown",
   "metadata": {
    "slideshow": {
     "slide_type": "subslide"
    }
   },
   "source": [
    "As a general rule, use **print** whenever you wanna see some output shown on screen. "
   ]
  },
  {
   "cell_type": "markdown",
   "metadata": {
    "slideshow": {
     "slide_type": "skip"
    }
   },
   "source": [
    "----------------------------------------------------------------------------------------------------------------------\n",
    "<a id = \"obj\"></a>"
   ]
  },
  {
   "cell_type": "markdown",
   "metadata": {
    "slideshow": {
     "slide_type": "slide"
    }
   },
   "source": [
    "## Objects and Variables\n",
    "\n",
    "Since we don't just want to use Python as a glorified calculator that prints calculations to the screen, we typically work with *variables* when using programming languages. A variable in Python is a *name* or a *label* that refers to an *object*. "
   ]
  },
  {
   "cell_type": "markdown",
   "metadata": {
    "slideshow": {
     "slide_type": "subslide"
    }
   },
   "source": [
    "An object in Python is a collection of data stored in computer memory that consists of\n",
    "- a type\n",
    "- some content (*value*)\n",
    "- a unique identity\n",
    "- (zero or more methods)\n",
    "\n",
    "Essentially everything you encounter when using Python - numbers, strings, arrays, functions, modules etc. - falls under this definition and hence, is an object!"
   ]
  },
  {
   "cell_type": "markdown",
   "metadata": {
    "slideshow": {
     "slide_type": "subslide"
    }
   },
   "source": [
    "To be more concrete, let's look at an example:"
   ]
  },
  {
   "cell_type": "code",
   "execution_count": 6,
   "metadata": {},
   "outputs": [],
   "source": [
    "S = \"Hello class\""
   ]
  },
  {
   "cell_type": "markdown",
   "metadata": {},
   "source": [
    "In this statement, we assign the name **\"S\"** to the object **\"Hello class\"**. This object is a *string* -- a sequence of letters --, which is its type. The content of the object is a sequence of eleven characters (note that spaces also count as characters). "
   ]
  },
  {
   "cell_type": "markdown",
   "metadata": {
    "slideshow": {
     "slide_type": "subslide"
    }
   },
   "source": [
    "Its identity is just an internal index that Python uses to access the object in computer memory. It can be checked using the **id** function: "
   ]
  },
  {
   "cell_type": "code",
   "execution_count": 7,
   "metadata": {},
   "outputs": [
    {
     "name": "stdout",
     "output_type": "stream",
     "text": [
      "2446495016048\n"
     ]
    }
   ],
   "source": [
    "print(id(S))"
   ]
  },
  {
   "cell_type": "markdown",
   "metadata": {
    "slideshow": {
     "slide_type": "subslide"
    }
   },
   "source": [
    "Consider another example. Below I assign the name **\"A\"** to the *integer* 2. Whenever I call **A** later on, it will refer to this object."
   ]
  },
  {
   "cell_type": "code",
   "execution_count": 8,
   "metadata": {},
   "outputs": [
    {
     "name": "stdout",
     "output_type": "stream",
     "text": [
      "2\n",
      "140735506584416\n"
     ]
    }
   ],
   "source": [
    "A = 2\n",
    "print(A)\n",
    "print(id(A))"
   ]
  },
  {
   "cell_type": "markdown",
   "metadata": {
    "slideshow": {
     "slide_type": "subslide"
    }
   },
   "source": [
    "Note that you can also use assignment statements to update the value contained in a variable. In other words, the variable is used on the right hand side of the statement:"
   ]
  },
  {
   "cell_type": "code",
   "execution_count": 9,
   "metadata": {},
   "outputs": [
    {
     "name": "stdout",
     "output_type": "stream",
     "text": [
      "3\n",
      "140735506584448\n"
     ]
    }
   ],
   "source": [
    "A = 2\n",
    "A = A + 1\n",
    "## equivalent: A += 1\n",
    "print(A)\n",
    "print(id(A))"
   ]
  },
  {
   "cell_type": "markdown",
   "metadata": {
    "slideshow": {
     "slide_type": "subslide"
    }
   },
   "source": [
    "A side note about choosing variable names: as you will see throughout this lecture, there are a number of so-called \"keywords\" in Python that are reserved for some in-built functionality. **print** and **id** are examples. These should be avoided to use for variables. \n",
    "\n",
    "Conveniently, Jupyter prints keywords in green in code cells, indicating their special status."
   ]
  },
  {
   "cell_type": "markdown",
   "metadata": {
    "slideshow": {
     "slide_type": "subslide"
    }
   },
   "source": [
    "#### Objects and Identity\n",
    "\n",
    "Internally, Python uses some type of registry, where it keeps track of our variables, i.e. the names that we have defined and the objects they point to. Note that more than one name can point to the same object. "
   ]
  },
  {
   "cell_type": "markdown",
   "metadata": {
    "slideshow": {
     "slide_type": "subslide"
    }
   },
   "source": [
    "In the following, I assign the name **\"B\"** to the object that is already referred to by the name **\"A\"** (\"aliasing\"). Hence, calling **\"B\"** prints out the same value; moreover, we can use the **id** function to verify that they really refer to the same object:"
   ]
  },
  {
   "cell_type": "code",
   "execution_count": 10,
   "metadata": {},
   "outputs": [
    {
     "name": "stdout",
     "output_type": "stream",
     "text": [
      "2\n",
      "140735506584416\n",
      "140735506584416\n"
     ]
    }
   ],
   "source": [
    "A = 2\n",
    "B = A\n",
    "print(B)\n",
    "print(id(A))\n",
    "print(id(B))"
   ]
  },
  {
   "cell_type": "markdown",
   "metadata": {
    "slideshow": {
     "slide_type": "subslide"
    }
   },
   "source": [
    "It is straightforward to reassign a name to another object, as seen below. **\"A\"** now refers to a different object -- the integer 3 -- while **\"B\"** still points to the same object - the integer 2 - as before:"
   ]
  },
  {
   "cell_type": "code",
   "execution_count": 11,
   "metadata": {},
   "outputs": [
    {
     "name": "stdout",
     "output_type": "stream",
     "text": [
      "3\n",
      "2\n",
      "140735506584448\n",
      "140735506584416\n"
     ]
    }
   ],
   "source": [
    "A = 3\n",
    "print(A)\n",
    "print(B)\n",
    "print(id(A))\n",
    "print(id(B))"
   ]
  },
  {
   "cell_type": "markdown",
   "metadata": {
    "slideshow": {
     "slide_type": "subslide"
    }
   },
   "source": [
    "Finally, note that you can assign names not only to integers and strings, but to various types of objects. The next section will go through some of the most important ones."
   ]
  },
  {
   "cell_type": "markdown",
   "metadata": {
    "slideshow": {
     "slide_type": "subslide"
    }
   },
   "source": [
    "#### Namespaces\n",
    "\n",
    "The registry mentioned above that Python uses to keep track of variables is called a *namespace*. Namespaces are a very important concept in Python, and there is much more to know about them than what we discuss at this point (for example, there are multiple namespaces \"active\" at any point in a Python environment).\n",
    "\n",
    "For now, just think of namespaces as lists containing both the variables you have defined, as well as some built-in stuff that Python defines by default."
   ]
  },
  {
   "cell_type": "markdown",
   "metadata": {
    "slideshow": {
     "slide_type": "subslide"
    }
   },
   "source": [
    "There are two ways to look at your current namespace. Independent of the Python environment that you are in, type **dir()** to see a (not very convenient) display of elements in the namespace.\n",
    "\n",
    "You can see the variables that we have defined so far - **A, B, S** - along with a lot of other things that you can ignore for now. "
   ]
  },
  {
   "cell_type": "code",
   "execution_count": 12,
   "metadata": {
    "slideshow": {
     "slide_type": "subslide"
    }
   },
   "outputs": [
    {
     "data": {
      "text/plain": [
       "['A',\n",
       " 'B',\n",
       " 'In',\n",
       " 'Out',\n",
       " 'S',\n",
       " '_',\n",
       " '_4',\n",
       " '_5',\n",
       " '__',\n",
       " '___',\n",
       " '__builtin__',\n",
       " '__builtins__',\n",
       " '__doc__',\n",
       " '__loader__',\n",
       " '__name__',\n",
       " '__package__',\n",
       " '__spec__',\n",
       " '_dh',\n",
       " '_i',\n",
       " '_i1',\n",
       " '_i10',\n",
       " '_i11',\n",
       " '_i12',\n",
       " '_i2',\n",
       " '_i3',\n",
       " '_i4',\n",
       " '_i5',\n",
       " '_i6',\n",
       " '_i7',\n",
       " '_i8',\n",
       " '_i9',\n",
       " '_ih',\n",
       " '_ii',\n",
       " '_iii',\n",
       " '_oh',\n",
       " 'datetime',\n",
       " 'exit',\n",
       " 'get_ipython',\n",
       " 'quit']"
      ]
     },
     "execution_count": 12,
     "metadata": {},
     "output_type": "execute_result"
    }
   ],
   "source": [
    "dir()"
   ]
  },
  {
   "cell_type": "markdown",
   "metadata": {
    "slideshow": {
     "slide_type": "subslide"
    }
   },
   "source": [
    "A much more convenient way to list the variables defined by us is **%whos**. This works in Jupyter notebook and Spyder (but will not work in Python environments not based on IPython). "
   ]
  },
  {
   "cell_type": "code",
   "execution_count": 13,
   "metadata": {},
   "outputs": [
    {
     "name": "stdout",
     "output_type": "stream",
     "text": [
      "Variable   Type      Data/Info\n",
      "------------------------------\n",
      "A          int       3\n",
      "B          int       2\n",
      "S          str       Hello class\n",
      "datetime   module    <module 'datetime' from '<...>\\test\\\\lib\\\\datetime.py'>\n"
     ]
    }
   ],
   "source": [
    "%whos"
   ]
  },
  {
   "cell_type": "markdown",
   "metadata": {
    "slideshow": {
     "slide_type": "subslide"
    }
   },
   "source": [
    "Note that the previous command is an example of a so-called **line** or **cell magic command** in Jupyter notebook. These are essentially very helpful functions that can be used in Jupyter notebooks (or Spyder) but are not part of the core Python distribution. \n",
    "\n",
    "They always start with one or two percentage sign (**%%**). We will see more of them later on."
   ]
  },
  {
   "cell_type": "markdown",
   "metadata": {
    "slideshow": {
     "slide_type": "subslide"
    }
   },
   "source": [
    "As a final point about namespace, to delete a previously defined variable you have to erase it from the namespace, by typing **del** plus the variable name. To erase variable **A** for example, type **del A**.\n",
    "\n",
    "Checking **%whos**, we can see that is has disappeared from the namespace."
   ]
  },
  {
   "cell_type": "code",
   "execution_count": 14,
   "metadata": {
    "slideshow": {
     "slide_type": "subslide"
    }
   },
   "outputs": [
    {
     "name": "stdout",
     "output_type": "stream",
     "text": [
      "Variable   Type      Data/Info\n",
      "------------------------------\n",
      "B          int       2\n",
      "S          str       Hello class\n",
      "datetime   module    <module 'datetime' from '<...>\\test\\\\lib\\\\datetime.py'>\n"
     ]
    }
   ],
   "source": [
    "del A\n",
    "%whos"
   ]
  },
  {
   "cell_type": "markdown",
   "metadata": {
    "slideshow": {
     "slide_type": "subslide"
    }
   },
   "source": [
    "This is a useful command for example if you have accidentally overwritten a predefined keyword (e.g. **print**). However, if you are *careful in choosing your variable names*, you will not use this very often."
   ]
  },
  {
   "cell_type": "markdown",
   "metadata": {
    "slideshow": {
     "slide_type": "subslide"
    }
   },
   "source": [
    "Note also that **del** erases a name from the namespace, but not the corresponding object in cases where multiple names are assigned to the same object. Consider the example from above."
   ]
  },
  {
   "cell_type": "code",
   "execution_count": 15,
   "metadata": {
    "slideshow": {
     "slide_type": "subslide"
    }
   },
   "outputs": [
    {
     "name": "stdout",
     "output_type": "stream",
     "text": [
      "2 2\n",
      "140735506584416\n",
      "140735506584416\n"
     ]
    }
   ],
   "source": [
    "A = 2\n",
    "B = A\n",
    "print(A, B)\n",
    "print(id(A))\n",
    "print(id(B))"
   ]
  },
  {
   "cell_type": "markdown",
   "metadata": {
    "slideshow": {
     "slide_type": "subslide"
    }
   },
   "source": [
    "Both A and B point to the same object. Erasing A from the namespace deletes the variable A, but not B. "
   ]
  },
  {
   "cell_type": "code",
   "execution_count": 16,
   "metadata": {},
   "outputs": [
    {
     "name": "stdout",
     "output_type": "stream",
     "text": [
      "Variable   Type      Data/Info\n",
      "------------------------------\n",
      "B          int       2\n",
      "S          str       Hello class\n",
      "datetime   module    <module 'datetime' from '<...>\\test\\\\lib\\\\datetime.py'>\n"
     ]
    }
   ],
   "source": [
    "del A\n",
    "%whos"
   ]
  },
  {
   "cell_type": "markdown",
   "metadata": {
    "slideshow": {
     "slide_type": "skip"
    }
   },
   "source": [
    "----------------------------------------------------------------------------------------------------------------------\n",
    "<a id = \"typ\"></a>"
   ]
  },
  {
   "cell_type": "markdown",
   "metadata": {
    "slideshow": {
     "slide_type": "slide"
    }
   },
   "source": [
    "## Object Types"
   ]
  },
  {
   "cell_type": "markdown",
   "metadata": {
    "slideshow": {
     "slide_type": "subslide"
    }
   },
   "source": [
    "The most important data types in Vanilla Python are:\n",
    "- integers ('int') and floating point numbers/floats ('float') for numbers\n",
    "- strings ('str') for text\n",
    "- booleans, which can have two values, **True** or **False**\n",
    "- arrays or containers or sequences, such as lists, sets, and dictionaries\n"
   ]
  },
  {
   "cell_type": "markdown",
   "metadata": {
    "slideshow": {
     "slide_type": "subslide"
    }
   },
   "source": [
    "In addition, external packages (such as Numpy or Pandas, which we will see later on) often use their own object types."
   ]
  },
  {
   "cell_type": "markdown",
   "metadata": {
    "slideshow": {
     "slide_type": "subslide"
    }
   },
   "source": [
    "To check the type of an object, you can use the **type()** function: "
   ]
  },
  {
   "cell_type": "code",
   "execution_count": 17,
   "metadata": {},
   "outputs": [
    {
     "name": "stdout",
     "output_type": "stream",
     "text": [
      "<class 'int'>\n"
     ]
    }
   ],
   "source": [
    "a = 2\n",
    "print(type(a))"
   ]
  },
  {
   "cell_type": "markdown",
   "metadata": {
    "slideshow": {
     "slide_type": "subslide"
    }
   },
   "source": [
    "The type of an object matters for what operations can be used with that type. If you try to use an operation on a type for which it is not defined, Python will return an error message. "
   ]
  },
  {
   "cell_type": "markdown",
   "metadata": {
    "slideshow": {
     "slide_type": "subslide"
    }
   },
   "source": [
    "For example, you can use the standard arithmetic operations (+, -, *, /) on integers and floats. Trying to use division on strings, however, will not work. Moreover, some operations do different things for different types. Adding two numbers returns the sum, while adding two strings concatenates them. "
   ]
  },
  {
   "cell_type": "markdown",
   "metadata": {
    "slideshow": {
     "slide_type": "subslide"
    }
   },
   "source": [
    "### Integers and Floats"
   ]
  },
  {
   "cell_type": "code",
   "execution_count": 18,
   "metadata": {
    "scrolled": true
   },
   "outputs": [
    {
     "name": "stdout",
     "output_type": "stream",
     "text": [
      "<class 'int'>\n",
      "<class 'float'>\n"
     ]
    }
   ],
   "source": [
    "a = 2\n",
    "b = 1.5\n",
    "print(type(a))\n",
    "print(type(b))"
   ]
  },
  {
   "cell_type": "markdown",
   "metadata": {
    "slideshow": {
     "slide_type": "subslide"
    }
   },
   "source": [
    "You can use the standard arithmetic operations on integers and floats and assign a new name to the result:"
   ]
  },
  {
   "cell_type": "code",
   "execution_count": 19,
   "metadata": {},
   "outputs": [
    {
     "name": "stdout",
     "output_type": "stream",
     "text": [
      "3.5\n",
      "3.0\n",
      "1.3333333333333333\n",
      "2.25\n"
     ]
    }
   ],
   "source": [
    "c = a + b\n",
    "print(c)\n",
    "print(a * b)\n",
    "print(a / b)\n",
    "# to take b to the power of a, use '**\"\n",
    "print(b**a)"
   ]
  },
  {
   "cell_type": "markdown",
   "metadata": {
    "slideshow": {
     "slide_type": "skip"
    }
   },
   "source": [
    "Note: if you use Python 2.7 (rather than Python 3.7), division of two *integers* returns only the integer part! "
   ]
  },
  {
   "cell_type": "code",
   "execution_count": 20,
   "metadata": {
    "slideshow": {
     "slide_type": "skip"
    }
   },
   "outputs": [
    {
     "name": "stdout",
     "output_type": "stream",
     "text": [
      "1.5\n"
     ]
    }
   ],
   "source": [
    "## in Python 2.7, the following would return 1 instead of 1.5\n",
    "print(3 / 2)"
   ]
  },
  {
   "cell_type": "markdown",
   "metadata": {
    "slideshow": {
     "slide_type": "subslide"
    }
   },
   "source": [
    "### Strings\n",
    "\n",
    "A *string* is a sequence of characters. To distinguish strings from assigned object names, they must be set in quotation marks, either single or double:"
   ]
  },
  {
   "cell_type": "code",
   "execution_count": 21,
   "metadata": {},
   "outputs": [
    {
     "name": "stdout",
     "output_type": "stream",
     "text": [
      "<class 'str'>\n"
     ]
    }
   ],
   "source": [
    "# strings\n",
    "c = \"T\"\n",
    "d = 'yrion'\n",
    "print(type(c))"
   ]
  },
  {
   "cell_type": "markdown",
   "metadata": {
    "slideshow": {
     "slide_type": "subslide"
    }
   },
   "source": [
    "Using '+' on two strings concatenates them to a new string. Multiplying a string with an integer **n** copies the string n times:"
   ]
  },
  {
   "cell_type": "code",
   "execution_count": 22,
   "metadata": {},
   "outputs": [
    {
     "name": "stdout",
     "output_type": "stream",
     "text": [
      "Tyrion\n",
      "<class 'str'>\n",
      "TTT\n",
      "<class 'str'>\n"
     ]
    }
   ],
   "source": [
    "print(c + d)\n",
    "print(type(c + d))\n",
    "\n",
    "print(3 * c)\n",
    "print(type(3 * c))"
   ]
  },
  {
   "cell_type": "markdown",
   "metadata": {
    "slideshow": {
     "slide_type": "subslide"
    }
   },
   "source": [
    "Multiplication, subtraction and division on two strings (or a number and a string for the latter two) throws an error:"
   ]
  },
  {
   "cell_type": "code",
   "execution_count": 23,
   "metadata": {},
   "outputs": [],
   "source": [
    "# print(c / d)"
   ]
  },
  {
   "cell_type": "markdown",
   "metadata": {
    "slideshow": {
     "slide_type": "subslide"
    }
   },
   "source": [
    "Distinguish between an integer (or float) and the corresponding string. You can use the in-built *type conversion* functions **int()** and **float()** to convert a numerical string to an integer or float, respectively, and the function **str()** to convert a number to a string."
   ]
  },
  {
   "cell_type": "code",
   "execution_count": 24,
   "metadata": {
    "slideshow": {
     "slide_type": "subslide"
    }
   },
   "outputs": [
    {
     "name": "stdout",
     "output_type": "stream",
     "text": [
      "<class 'int'>\n",
      "<class 'str'>\n",
      "<class 'int'>\n",
      "<class 'float'>\n",
      "<class 'str'>\n"
     ]
    }
   ],
   "source": [
    "## integer\n",
    "print(type(3))\n",
    "## string\n",
    "print(type('3'))\n",
    "\n",
    "## convert string to int\n",
    "print(type( int('3') ) )\n",
    "## convert string to float\n",
    "print(type( float('3') ) )\n",
    "## convert int to string\n",
    "print( type( str(3) ) )"
   ]
  },
  {
   "cell_type": "markdown",
   "metadata": {
    "slideshow": {
     "slide_type": "subslide"
    }
   },
   "source": [
    "These functions are particularly useful in connection with **input()**. This function prompts the user to enter some input (in Jupyter notebook below the code cell), which is *stored as a string* and can be converted to a number using **int()** or **float()**. This can be used to write more interactive programs: "
   ]
  },
  {
   "cell_type": "code",
   "execution_count": 25,
   "metadata": {},
   "outputs": [
    {
     "name": "stdout",
     "output_type": "stream",
     "text": [
      "Enter a number:345\n",
      "Its square root is 119025\n"
     ]
    }
   ],
   "source": [
    "x = input(\"Enter a number:\")\n",
    "print('Its square root is', int(x)**2)"
   ]
  },
  {
   "cell_type": "markdown",
   "metadata": {
    "slideshow": {
     "slide_type": "skip"
    }
   },
   "source": [
    "--------------------------------------------------------------------------------------------------------------------------------"
   ]
  },
  {
   "cell_type": "markdown",
   "metadata": {
    "slideshow": {
     "slide_type": "subslide"
    }
   },
   "source": [
    "#### Exercise 1\n",
    "\n",
    "Write a program which prompts the user for a Celsius temperature using the **input()** function. Convert the temperature to Fahrenheit and print out the converted temperature.\n",
    "\n",
    "Hint: \n",
    "\\begin{equation}\n",
    "    T_{F} = 1.8 \\cdot T_C + 32 \n",
    "\\end{equation}\n"
   ]
  },
  {
   "cell_type": "code",
   "execution_count": 26,
   "metadata": {},
   "outputs": [
    {
     "name": "stdout",
     "output_type": "stream",
     "text": [
      "Enter Temperature in °C:10\n",
      "50.0\n"
     ]
    }
   ],
   "source": [
    "T_C = input('Enter Temperature in °C:')\n",
    "T_F = 1.8 * float(T_C) + 32\n",
    "print(T_F)"
   ]
  },
  {
   "cell_type": "markdown",
   "metadata": {
    "slideshow": {
     "slide_type": "skip"
    }
   },
   "source": [
    "--------------------------------------------------------------------------------------------------------------------------------"
   ]
  },
  {
   "cell_type": "markdown",
   "metadata": {
    "slideshow": {
     "slide_type": "subslide"
    }
   },
   "source": [
    "### Booleans\n",
    "\n",
    "A boolean can have one of two values, **True** or **False**. They are not strings! "
   ]
  },
  {
   "cell_type": "code",
   "execution_count": 27,
   "metadata": {},
   "outputs": [
    {
     "name": "stdout",
     "output_type": "stream",
     "text": [
      "<class 'bool'>\n"
     ]
    }
   ],
   "source": [
    "x = True\n",
    "print( type(x) )"
   ]
  },
  {
   "cell_type": "markdown",
   "metadata": {
    "slideshow": {
     "slide_type": "subslide"
    }
   },
   "source": [
    "Usually, booleans are defined using a *comparison* operator: **==** (equal), **!=** (not equal), **>, <**, **>=**, **<=**. You can also compare more than two objects."
   ]
  },
  {
   "cell_type": "code",
   "execution_count": 28,
   "metadata": {
    "slideshow": {
     "slide_type": "subslide"
    }
   },
   "outputs": [
    {
     "name": "stdout",
     "output_type": "stream",
     "text": [
      "True\n",
      "False\n"
     ]
    }
   ],
   "source": [
    "## evaluate boolean directly\n",
    "print(4 > 3)\n",
    "print(4 > 5)"
   ]
  },
  {
   "cell_type": "code",
   "execution_count": 29,
   "metadata": {
    "slideshow": {
     "slide_type": "subslide"
    }
   },
   "outputs": [
    {
     "name": "stdout",
     "output_type": "stream",
     "text": [
      "False\n",
      "<class 'bool'>\n",
      "True\n",
      "True\n"
     ]
    }
   ],
   "source": [
    "## assign boolean to name\n",
    "e = (4 == 5)\n",
    "f = (6 >= 5)\n",
    "print(e)\n",
    "print(type(e))\n",
    "print(f)\n",
    "\n",
    "## chain inequalities \n",
    "print(1 < 2 < 3)"
   ]
  },
  {
   "cell_type": "markdown",
   "metadata": {
    "slideshow": {
     "slide_type": "subslide"
    }
   },
   "source": [
    "The comparison operators **is** and **is not** compare the identity of two objects. **x is y** is essentially a shorter way to write **id(x) == id(y)**. "
   ]
  },
  {
   "cell_type": "code",
   "execution_count": 30,
   "metadata": {},
   "outputs": [
    {
     "name": "stdout",
     "output_type": "stream",
     "text": [
      "2446494353328\n",
      "2446494353496\n",
      "True\n",
      "False\n"
     ]
    }
   ],
   "source": [
    "x = 2.0\n",
    "print(id(x))\n",
    "y = 2.0\n",
    "print(id(y))\n",
    "\n",
    "print(x == y)\n",
    "print(x is y)"
   ]
  },
  {
   "cell_type": "markdown",
   "metadata": {
    "slideshow": {
     "slide_type": "subslide"
    }
   },
   "source": [
    "What is the difference between **x == y** and **x is y**? In the example above, the variables x and y are *equivalent* (**x == y** evaluates to **True**), meaning that they have the same *content*. However, they are *not identical* (**x is y** evaluates to **False**), since they refer to distinct objects in memory. "
   ]
  },
  {
   "cell_type": "markdown",
   "metadata": {
    "slideshow": {
     "slide_type": "subslide"
    }
   },
   "source": [
    "As an aside: in most cases, equivalent variables are not identical (as above). An exception are integers in the range from -5 to 256."
   ]
  },
  {
   "cell_type": "code",
   "execution_count": 31,
   "metadata": {
    "slideshow": {
     "slide_type": "subslide"
    }
   },
   "outputs": [
    {
     "name": "stdout",
     "output_type": "stream",
     "text": [
      "True\n",
      "True\n",
      "True\n",
      "False\n"
     ]
    }
   ],
   "source": [
    "## ints are identical for a certain range of numbers\n",
    "x = 256\n",
    "y = 256\n",
    "print(x == y)\n",
    "print(x is y)\n",
    "\n",
    "x = 257\n",
    "y = 257\n",
    "print(x == y)\n",
    "print(x is y)"
   ]
  },
  {
   "cell_type": "markdown",
   "metadata": {
    "slideshow": {
     "slide_type": "subslide"
    }
   },
   "source": [
    "Note that you can use arithmetic operations on two booleans, in which case **True** is treated as 1 and **False** as 0."
   ]
  },
  {
   "cell_type": "code",
   "execution_count": 32,
   "metadata": {},
   "outputs": [
    {
     "name": "stdout",
     "output_type": "stream",
     "text": [
      "1\n",
      "0\n",
      "<class 'int'>\n"
     ]
    }
   ],
   "source": [
    "# using arithmetic operations on two booleans treats True as 1 and False as 0\n",
    "print(e + f)\n",
    "g = e * f\n",
    "print(g)\n",
    "print(type(g))"
   ]
  },
  {
   "cell_type": "markdown",
   "metadata": {
    "slideshow": {
     "slide_type": "subslide"
    }
   },
   "source": [
    "You can combine comparisons or booleans by using *logical operators* **and** and **or**. Expressions linked by **and** will only be evaluated as **True** if *all* operands are true. Note that Python does a so-called \"lazy evaluation\" (\"short-circuit evaluation\"): if the first operand is **False**, the expression is evaluated **False** and the second operand is not evaluated.   "
   ]
  },
  {
   "cell_type": "markdown",
   "metadata": {
    "slideshow": {
     "slide_type": "subslide"
    }
   },
   "source": [
    "Alternatively, you can also use **'&'** for **and** and **'|'** for **or**. However, note that **'&'** does not perform a lazy evaluation, but instead evaluates all expressions."
   ]
  },
  {
   "cell_type": "code",
   "execution_count": 33,
   "metadata": {
    "slideshow": {
     "slide_type": "subslide"
    }
   },
   "outputs": [
    {
     "name": "stdout",
     "output_type": "stream",
     "text": [
      "False\n",
      "True\n",
      "False\n"
     ]
    }
   ],
   "source": [
    "print(4 == 5 and 5 < 6)  # False, since first expression is False\n",
    "## alternative: print((4 == 5) & (5 < 6))\n",
    "\n",
    "A = True  # boolean       \n",
    "print(A and 5 < 6)    # True, since both expressions are True   \n",
    "## alternative: print(A & (5 < 6)) \n",
    "\n",
    "## example for lazy evaluation\n",
    "x = -1\n",
    "y = 0\n",
    "print(x > 0 and (x/y) > 1) # no error, since second expression is not evaluated!\n",
    "## NB: print(x > 0 & (x/y) > 1) would return an error!"
   ]
  },
  {
   "cell_type": "markdown",
   "metadata": {
    "slideshow": {
     "slide_type": "subslide"
    }
   },
   "source": [
    "Expressions linked by **or** will be evaluated as **True** if at least one comparison is **True**:"
   ]
  },
  {
   "cell_type": "code",
   "execution_count": 34,
   "metadata": {},
   "outputs": [
    {
     "name": "stdout",
     "output_type": "stream",
     "text": [
      "True\n",
      "True\n"
     ]
    }
   ],
   "source": [
    "print(4 == 5 or 5 < 6)   # True, since second expression is True\n",
    "## alternative:  print((4 == 5) | (5 < 6))\n",
    "\n",
    "B = False\n",
    "print(A or B)         # True, since A is True  \n",
    "## alternative: print(A | B)"
   ]
  },
  {
   "cell_type": "markdown",
   "metadata": {
    "slideshow": {
     "slide_type": "subslide"
    }
   },
   "source": [
    "Finally, the logical operator **not** negates a boolean expression:"
   ]
  },
  {
   "cell_type": "code",
   "execution_count": 35,
   "metadata": {},
   "outputs": [
    {
     "name": "stdout",
     "output_type": "stream",
     "text": [
      "False\n",
      "True\n"
     ]
    }
   ],
   "source": [
    "print(not 5 > 4)\n",
    "print(not B)"
   ]
  },
  {
   "cell_type": "markdown",
   "metadata": {
    "slideshow": {
     "slide_type": "skip"
    }
   },
   "source": [
    "----------------------------------------------------------------------------------------------------------------------\n",
    "<a id = \"arr\"></a>"
   ]
  },
  {
   "cell_type": "markdown",
   "metadata": {
    "slideshow": {
     "slide_type": "slide"
    }
   },
   "source": [
    "### Arrays\n",
    "\n",
    "Vanilla Python has different types of arrays or \"containers\". The most important are probably lists, sets and dictionaries. "
   ]
  },
  {
   "cell_type": "markdown",
   "metadata": {
    "slideshow": {
     "slide_type": "subslide"
    }
   },
   "source": [
    "### Lists\n",
    "\n",
    "Lists are sequences of objects, referred to as *elements*. They are characterized by *square brackets* - parentheses and curly brackets are reserved for other types of arrays. Note that the elements in a list do not have to have the same type."
   ]
  },
  {
   "cell_type": "markdown",
   "metadata": {
    "slideshow": {
     "slide_type": "subslide"
    }
   },
   "source": [
    "Lists are defined similar to row vectors in Matlab. However, note that they behave differently. In particular, vectorized operations (e.g. elementwise summation) does not work with lists (we will see a different type of array which you can use for vectorized operations later on). "
   ]
  },
  {
   "cell_type": "code",
   "execution_count": 36,
   "metadata": {
    "slideshow": {
     "slide_type": "subslide"
    }
   },
   "outputs": [
    {
     "name": "stdout",
     "output_type": "stream",
     "text": [
      "[1, 2, 3, 4, 5]\n",
      "<class 'list'>\n",
      "[6, 'Seven', [8, 9]]\n"
     ]
    }
   ],
   "source": [
    "a = [1,2,3,4,5]\n",
    "print(a)\n",
    "print(type(a))\n",
    "\n",
    "b = [6, 'Seven', [8, 9]]\n",
    "print(b)"
   ]
  },
  {
   "cell_type": "markdown",
   "metadata": {
    "slideshow": {
     "slide_type": "subslide"
    }
   },
   "source": [
    "\"Summing up\" two lists will not do piecewise summation of the elements (as you may expect if you're a Matlab user), but will concatenate the lists:"
   ]
  },
  {
   "cell_type": "code",
   "execution_count": 37,
   "metadata": {
    "slideshow": {
     "slide_type": "-"
    }
   },
   "outputs": [
    {
     "name": "stdout",
     "output_type": "stream",
     "text": [
      "[1, 2, 3, 4, 5, 6, 'Seven', [8, 9]]\n"
     ]
    }
   ],
   "source": [
    "print(a + b)"
   ]
  },
  {
   "cell_type": "markdown",
   "metadata": {
    "slideshow": {
     "slide_type": "subslide"
    }
   },
   "source": [
    "An empty list can be defined in two ways:"
   ]
  },
  {
   "cell_type": "code",
   "execution_count": 38,
   "metadata": {
    "slideshow": {
     "slide_type": "-"
    }
   },
   "outputs": [
    {
     "name": "stdout",
     "output_type": "stream",
     "text": [
      "[] []\n"
     ]
    }
   ],
   "source": [
    "lst1 = []\n",
    "lst2 = list()\n",
    "print(lst1, lst2)"
   ]
  },
  {
   "cell_type": "markdown",
   "metadata": {
    "slideshow": {
     "slide_type": "subslide"
    }
   },
   "source": [
    "As with most object types in Python, arrays can be equivalent (i.e. the same sequence of values), but are not identical:"
   ]
  },
  {
   "cell_type": "code",
   "execution_count": 39,
   "metadata": {},
   "outputs": [
    {
     "name": "stdout",
     "output_type": "stream",
     "text": [
      "2446494947144\n",
      "2446495109320\n",
      "True\n",
      "False\n"
     ]
    }
   ],
   "source": [
    "x = [1,2,3]\n",
    "print(id(x))\n",
    "y = [1,2,3]\n",
    "print(id(y))\n",
    "\n",
    "print(x == y)\n",
    "print(x is y)"
   ]
  },
  {
   "cell_type": "markdown",
   "metadata": {
    "slideshow": {
     "slide_type": "subslide"
    }
   },
   "source": [
    "#### Indexing\n",
    "\n",
    "Indexing works different from Matlab in two ways. First, it starts at zero; in other words, the first element of a list L is **L[0]**. "
   ]
  },
  {
   "cell_type": "markdown",
   "metadata": {
    "slideshow": {
     "slide_type": "subslide"
    }
   },
   "source": [
    "Second, when you want to access multiple elements, say the second element (indexed by [1]) and the third (indexed by [2]), the notation would be **L[1:3]**. The semi-colon here stands for \"from 1 to 3, but excluding 3\". In other words, the range starts at the first element and stops at the index of the first element *which is not included*. \n",
    "\n",
    "The notation above is sometimes referred to as *slicing* a list. "
   ]
  },
  {
   "cell_type": "code",
   "execution_count": 40,
   "metadata": {
    "slideshow": {
     "slide_type": "subslide"
    }
   },
   "outputs": [
    {
     "name": "stdout",
     "output_type": "stream",
     "text": [
      "[1, 2, 3, 4, 5]\n",
      "1\n",
      "[2, 3]\n"
     ]
    }
   ],
   "source": [
    "print(a)\n",
    "print(a[0])   # accesses the first element of list a\n",
    "print(a[1:3]) # indexes the second and third element of list"
   ]
  },
  {
   "cell_type": "markdown",
   "metadata": {
    "slideshow": {
     "slide_type": "subslide"
    }
   },
   "source": [
    "Omitting the first index (e.g. **L[:3]**) starts the slice at the beginning of the list, i.e. returns the elements from index 0 to index 2. Omitting the second index (e.g. **L[1:]**) returns the elements from index 1 to the end of the list. If you omit both, the slice is a copy of the list."
   ]
  },
  {
   "cell_type": "code",
   "execution_count": 41,
   "metadata": {
    "slideshow": {
     "slide_type": "-"
    }
   },
   "outputs": [
    {
     "name": "stdout",
     "output_type": "stream",
     "text": [
      "[1, 2, 3]\n",
      "[2, 3, 4, 5]\n",
      "[1, 2, 3, 4, 5]\n"
     ]
    }
   ],
   "source": [
    "print(a[:3])  # indexes all elements starting up to the third\n",
    "print(a[1:])  # indexes all elements starting with the second\n",
    "print(a[:])   # indexes all elements"
   ]
  },
  {
   "cell_type": "markdown",
   "metadata": {
    "slideshow": {
     "slide_type": "subslide"
    }
   },
   "source": [
    "Using *negative* indices starts at the end of the list and counts backwards. For example, the index [-1] is used for the last element in an array, the index [-2] for the second-to-last, etc. "
   ]
  },
  {
   "cell_type": "code",
   "execution_count": 42,
   "metadata": {},
   "outputs": [
    {
     "name": "stdout",
     "output_type": "stream",
     "text": [
      "4\n",
      "[1, 2, 3, 4]\n"
     ]
    }
   ],
   "source": [
    "print(a[-2]) # indexes the second-to-last element\n",
    "print(a[:-1]) # indexes all elements except the last"
   ]
  },
  {
   "cell_type": "markdown",
   "metadata": {
    "slideshow": {
     "slide_type": "subslide"
    }
   },
   "source": [
    "Adding a third index to the slicing notation -- e.g. **L[1:-1:2]** gives the step size with which the list is traversed. Here only every second element is indexed."
   ]
  },
  {
   "cell_type": "code",
   "execution_count": 43,
   "metadata": {},
   "outputs": [
    {
     "name": "stdout",
     "output_type": "stream",
     "text": [
      "[2, 4]\n",
      "[5, 4, 3, 2, 1]\n"
     ]
    }
   ],
   "source": [
    "print(a[1:-1:2]) # indexes every second element, starting with the second \n",
    "print(a[::-1])   # indexes all elements in backwards order"
   ]
  },
  {
   "cell_type": "markdown",
   "metadata": {
    "slideshow": {
     "slide_type": "subslide"
    }
   },
   "source": [
    "#### Functions \n",
    "\n",
    "There are a number of handy built-in functions that can be used on lists (and in some cases on other arrays). All types of arrays can be used with the **len()** function, that gives the length of the array:"
   ]
  },
  {
   "cell_type": "code",
   "execution_count": 44,
   "metadata": {},
   "outputs": [
    {
     "name": "stdout",
     "output_type": "stream",
     "text": [
      "5\n"
     ]
    }
   ],
   "source": [
    "print(len(a))"
   ]
  },
  {
   "cell_type": "markdown",
   "metadata": {
    "slideshow": {
     "slide_type": "subslide"
    }
   },
   "source": [
    "For lists whose elements are comparable, **max()** and **min()** return the largest and smallest element, respectively. For strings, the comparison is made alphabetically with respect to the first character of each string."
   ]
  },
  {
   "cell_type": "code",
   "execution_count": 45,
   "metadata": {
    "slideshow": {
     "slide_type": "subslide"
    }
   },
   "outputs": [
    {
     "name": "stdout",
     "output_type": "stream",
     "text": [
      "5\n",
      "Alex\n"
     ]
    }
   ],
   "source": [
    "print(max(a))\n",
    "\n",
    "c = ['Alex', 'bb', 'c']\n",
    "print(min(c))\n",
    "\n",
    "## max() and min() do not work on lists whose elements are not comparable (e.g. numbers and strings)\n",
    "# print(max( [6, 'Seven', [8, 9]] )) # would throw an error"
   ]
  },
  {
   "cell_type": "markdown",
   "metadata": {
    "slideshow": {
     "slide_type": "subslide"
    }
   },
   "source": [
    "When all list elements are numbers, **sum()** can be used to sum them up."
   ]
  },
  {
   "cell_type": "code",
   "execution_count": 46,
   "metadata": {},
   "outputs": [
    {
     "name": "stdout",
     "output_type": "stream",
     "text": [
      "15\n"
     ]
    }
   ],
   "source": [
    "print(sum(a))"
   ]
  },
  {
   "cell_type": "markdown",
   "metadata": {
    "slideshow": {
     "slide_type": "subslide"
    }
   },
   "source": [
    "To get a list of integers, you can also use the *list* and the *range* functions. *list(range(x))* creates a list of all integers from 0 to x-1, hence again excluding the last element x. *list(range(x,y))* creates a list of all integers from x to y-1."
   ]
  },
  {
   "cell_type": "code",
   "execution_count": 47,
   "metadata": {},
   "outputs": [
    {
     "name": "stdout",
     "output_type": "stream",
     "text": [
      "[0, 1, 2, 3, 4, 5, 6, 7, 8, 9]\n",
      "[1, 2, 3, 4, 5, 6, 7, 8, 9]\n",
      "[10, 9, 8, 7, 6, 5, 4, 3, 2]\n"
     ]
    }
   ],
   "source": [
    "print(list(range(10)))   # list from 0 to 9\n",
    "print(list(range(1,10))) # list from 1 to 9\n",
    "print(list(range(10,1,-1))) # list from 10 to 2 (going backwards)"
   ]
  },
  {
   "cell_type": "markdown",
   "metadata": {
    "slideshow": {
     "slide_type": "subslide"
    }
   },
   "source": [
    "The **list()** function can also be used to convert a string to a list:"
   ]
  },
  {
   "cell_type": "code",
   "execution_count": 48,
   "metadata": {},
   "outputs": [
    {
     "name": "stdout",
     "output_type": "stream",
     "text": [
      "['i', 'f', 'o']\n"
     ]
    }
   ],
   "source": [
    "S = 'ifo'\n",
    "print(list(S))"
   ]
  },
  {
   "cell_type": "markdown",
   "metadata": {
    "slideshow": {
     "slide_type": "subslide"
    }
   },
   "source": [
    "#### Methods for Lists\n",
    "\n",
    "We will talk in more detail about methods later in the course in the context of object-oriented programming - for now, it suffices to say that methods are very similar to functions, apart from their syntax being slightly different. They are used after an object, separated by a \".\": \n",
    "\n",
    "*variable_name.method_name(arguments)*.  "
   ]
  },
  {
   "cell_type": "markdown",
   "metadata": {
    "slideshow": {
     "slide_type": "subslide"
    }
   },
   "source": [
    "As an example, consider the **append()** method for lists. It adds an element to the end of an existing list."
   ]
  },
  {
   "cell_type": "code",
   "execution_count": 49,
   "metadata": {
    "slideshow": {
     "slide_type": "-"
    }
   },
   "outputs": [
    {
     "name": "stdout",
     "output_type": "stream",
     "text": [
      "[1, 2, 3, 4, 5]\n",
      "[1, 2, 3, 4, 5, 6]\n"
     ]
    }
   ],
   "source": [
    "print(a)\n",
    "## add an element to a list\n",
    "a.append(6)\n",
    "print(a)"
   ]
  },
  {
   "cell_type": "code",
   "execution_count": 50,
   "metadata": {
    "slideshow": {
     "slide_type": "subslide"
    }
   },
   "outputs": [
    {
     "name": "stdout",
     "output_type": "stream",
     "text": [
      "['Daenerys', 'Tyrion', 'Arya', 'Samwell', 'Jon', 'Jaime']\n"
     ]
    }
   ],
   "source": [
    "## example with a list of strings\n",
    "names = ['Daenerys', 'Tyrion', 'Arya', 'Samwell'] \n",
    "names.append('Jon')\n",
    "names.append('Jaime')\n",
    "\n",
    "print(names)"
   ]
  },
  {
   "cell_type": "markdown",
   "metadata": {
    "slideshow": {
     "slide_type": "subslide"
    }
   },
   "source": [
    "Different object types have different methods. In other words, **append** works only on lists, but would not work e.g. with strings (strings have their own methods). \n",
    "\n",
    "An important characteristic about list methods is that they change a list *in-place*, i.e. you do not have to assign the outcome to a new variable in order to implement the change."
   ]
  },
  {
   "cell_type": "code",
   "execution_count": 51,
   "metadata": {
    "slideshow": {
     "slide_type": "subslide"
    }
   },
   "outputs": [
    {
     "name": "stdout",
     "output_type": "stream",
     "text": [
      "[1, 2, 3]\n",
      "[1, 2, 3, 4]\n",
      "[1, 2, 3, 4]\n"
     ]
    }
   ],
   "source": [
    "x = [1,2,3]\n",
    "## using a plus operator does not change the list x, unless it is assigned to the name\n",
    "x + [4]\n",
    "print(x)\n",
    "x = x + [4]\n",
    "print(x)\n",
    "\n",
    "## using a list method does change the list x in-place\n",
    "x = [1,2,3]\n",
    "x.append(4)\n",
    "print(x)"
   ]
  },
  {
   "cell_type": "markdown",
   "metadata": {
    "slideshow": {
     "slide_type": "subslide"
    }
   },
   "source": [
    "Other important list methods are:\n",
    "- **list.pop(index)**: erases the element with the given index from a list and returns it; \n",
    "    - if no index is given, the last element is \"popped\" and returned\n",
    "- **list1.extend(list2)**: concatenates list1 and list2 (note that list2 remains unchanged!)"
   ]
  },
  {
   "cell_type": "markdown",
   "metadata": {
    "slideshow": {
     "slide_type": "subslide"
    }
   },
   "source": [
    "- **list.remove(element)**: removes an element from the list\n",
    "    - if the element occurs more than once in the list, the first occurrence is removed"
   ]
  },
  {
   "cell_type": "code",
   "execution_count": 52,
   "metadata": {
    "slideshow": {
     "slide_type": "subslide"
    }
   },
   "outputs": [
    {
     "name": "stdout",
     "output_type": "stream",
     "text": [
      "3\n",
      "5\n",
      "[1, 2, 4]\n"
     ]
    }
   ],
   "source": [
    "lst = [1,2,3,4,5]\n",
    "## Example: pop\n",
    "print(lst.pop(2))\n",
    "print(lst.pop())\n",
    "print(lst)"
   ]
  },
  {
   "cell_type": "code",
   "execution_count": 53,
   "metadata": {
    "slideshow": {
     "slide_type": "subslide"
    }
   },
   "outputs": [
    {
     "name": "stdout",
     "output_type": "stream",
     "text": [
      "[1, 2, 3, 4, 5, 6, 7, 8]\n"
     ]
    }
   ],
   "source": [
    "lst = [1,2,3,4,5]\n",
    "## Example: extend\n",
    "lst.extend([6,7,8])\n",
    "print(lst)"
   ]
  },
  {
   "cell_type": "code",
   "execution_count": 54,
   "metadata": {
    "slideshow": {
     "slide_type": "subslide"
    }
   },
   "outputs": [
    {
     "name": "stdout",
     "output_type": "stream",
     "text": [
      "[2, 1, 1, 2]\n",
      "[1, 1, 2]\n"
     ]
    }
   ],
   "source": [
    "lst = [2,1,1,2,3]\n",
    "## Example: remove\n",
    "lst.remove(3)\n",
    "print(lst)\n",
    "\n",
    "lst.remove(2)\n",
    "print(lst)"
   ]
  },
  {
   "cell_type": "markdown",
   "metadata": {
    "slideshow": {
     "slide_type": "subslide"
    }
   },
   "source": [
    "#### Mutability\n",
    "\n",
    "Note that lists are \"mutable\", which means they can be changed. This feature distinguishes lists from other array types like tuples or sets. "
   ]
  },
  {
   "cell_type": "code",
   "execution_count": 55,
   "metadata": {},
   "outputs": [
    {
     "name": "stdout",
     "output_type": "stream",
     "text": [
      "[0, 2, 3, 4]\n",
      "[0, 0, 0, 4]\n"
     ]
    }
   ],
   "source": [
    "a = [1,2,3,4]\n",
    "a[0] = 0\n",
    "print(a)\n",
    "a[1:3] = [0,0]\n",
    "print(a)"
   ]
  },
  {
   "cell_type": "markdown",
   "metadata": {
    "slideshow": {
     "slide_type": "subslide"
    }
   },
   "source": [
    "One issue in the context of mutability comes from the way Python stores objects, as discussed above. In particular, different variables or names can refer to the same object (\"*aliasing*\"):"
   ]
  },
  {
   "cell_type": "code",
   "execution_count": 56,
   "metadata": {},
   "outputs": [
    {
     "name": "stdout",
     "output_type": "stream",
     "text": [
      "[6, 7, 8]\n",
      "True\n"
     ]
    }
   ],
   "source": [
    "b = [6,7,8]\n",
    "c = b\n",
    "print(c)\n",
    "print(id(b) == id(c))"
   ]
  },
  {
   "cell_type": "markdown",
   "metadata": {
    "slideshow": {
     "slide_type": "subslide"
    }
   },
   "source": [
    "When the list that the name **\"b\"** refers to is mutated, calling **\"c\"** reflects this change, since it refers to the exact same object: "
   ]
  },
  {
   "cell_type": "code",
   "execution_count": 57,
   "metadata": {},
   "outputs": [
    {
     "name": "stdout",
     "output_type": "stream",
     "text": [
      "[9, 7, 8]\n",
      "True\n"
     ]
    }
   ],
   "source": [
    "b[0] = 9\n",
    "print(c)\n",
    "print(id(b) == id(c))"
   ]
  },
  {
   "cell_type": "markdown",
   "metadata": {
    "slideshow": {
     "slide_type": "subslide"
    }
   },
   "source": [
    "Hence, in the context of mutable objects such as lists, aliasing should be avoided. If you need a *copy* of a list, you can use the slicing notation **[:]**:"
   ]
  },
  {
   "cell_type": "code",
   "execution_count": 58,
   "metadata": {},
   "outputs": [
    {
     "name": "stdout",
     "output_type": "stream",
     "text": [
      "False\n",
      "[6, 7, 8]\n"
     ]
    }
   ],
   "source": [
    "b = [6,7,8]\n",
    "c = b[:]\n",
    "print(id(b) == id(c))\n",
    "b[0] = 9\n",
    "print(c)"
   ]
  },
  {
   "cell_type": "markdown",
   "metadata": {
    "slideshow": {
     "slide_type": "subslide"
    }
   },
   "source": [
    "This feature in Python is less of a problem for *immutable* object types such as tuples. "
   ]
  },
  {
   "cell_type": "markdown",
   "metadata": {
    "slideshow": {
     "slide_type": "subslide"
    }
   },
   "source": [
    "### Tuples\n",
    "\n",
    "The immutable equivalent to lists are called *tuples*. We can use the same index notation as for lists in order to access its elements. However, trying to assign a new value to them throws an error."
   ]
  },
  {
   "cell_type": "code",
   "execution_count": 59,
   "metadata": {
    "slideshow": {
     "slide_type": "subslide"
    }
   },
   "outputs": [
    {
     "name": "stdout",
     "output_type": "stream",
     "text": [
      "3\n",
      "9\n"
     ]
    }
   ],
   "source": [
    "d = (9, 10, 11)\n",
    "print(len(d)) \n",
    "print(d[0])  # accesses the first element of d\n",
    "\n",
    "# d[0] = 12  # will throw an error"
   ]
  },
  {
   "cell_type": "markdown",
   "metadata": {
    "slideshow": {
     "slide_type": "subslide"
    }
   },
   "source": [
    "A side note: a string behaves similar to a tuple of text, in the sense that you can access each letter by an index and that it is immutable."
   ]
  },
  {
   "cell_type": "code",
   "execution_count": 60,
   "metadata": {},
   "outputs": [
    {
     "name": "stdout",
     "output_type": "stream",
     "text": [
      "y\n",
      "6\n"
     ]
    }
   ],
   "source": [
    "string = 'Tyrion'\n",
    "print(string[1])  # accesses the second letter of string\n",
    "print(len(string))\n",
    "# string[1] = 'x'  # will throw an error"
   ]
  },
  {
   "cell_type": "markdown",
   "metadata": {
    "slideshow": {
     "slide_type": "skip"
    }
   },
   "source": [
    "--------------------------------------------------------------------------------------------------------------------------------"
   ]
  },
  {
   "cell_type": "markdown",
   "metadata": {
    "slideshow": {
     "slide_type": "slide"
    }
   },
   "source": [
    "### Exercise 2\n",
    "\n",
    "Suppose you want to use Python to keep track of the points of the clubs in the German football Bundesliga. For example, you have the following information:\n",
    "    - FC Bayern: 15 points\n",
    "    - FC Schalke: 14 points\n",
    "    - Borussia Dortmund: 15 points\n",
    "    \n",
    "(a) Based on what we have learned so far, use Python arrays to store this information, using one array for clubs and one array for points. Think about which array types may be suitable (and which are not).\n",
    "\n",
    "(b) Add information for at least one other club to your arrays.\n",
    "\n",
    "(c) Update the information in the points array to the most recent game day. \n",
    "\n",
    "(d) Use the arrays to write to the screen how many points a given club has."
   ]
  },
  {
   "cell_type": "code",
   "execution_count": null,
   "metadata": {},
   "outputs": [],
   "source": []
  },
  {
   "cell_type": "markdown",
   "metadata": {
    "slideshow": {
     "slide_type": "skip"
    }
   },
   "source": [
    "--------------------------------------------------------------------------------------------------------------------------------"
   ]
  },
  {
   "cell_type": "markdown",
   "metadata": {
    "slideshow": {
     "slide_type": "subslide"
    }
   },
   "source": [
    "### Sets\n",
    "\n",
    "*Sets* are similar to tuples in that they are immutable. However, elements are not in a particular order, hence you cannot use indices for sets. Additionally, there are no duplicates, so they are essentially an \"unordered collections of unique elements\" "
   ]
  },
  {
   "cell_type": "code",
   "execution_count": 61,
   "metadata": {
    "slideshow": {
     "slide_type": "-"
    }
   },
   "outputs": [
    {
     "name": "stdout",
     "output_type": "stream",
     "text": [
      "{4, 5, 6}\n"
     ]
    }
   ],
   "source": [
    "# set\n",
    "B = {4,5,6}\n",
    "print (B)"
   ]
  },
  {
   "cell_type": "code",
   "execution_count": 62,
   "metadata": {},
   "outputs": [],
   "source": [
    "#print(b[0])  # will throw an error!"
   ]
  },
  {
   "cell_type": "markdown",
   "metadata": {
    "slideshow": {
     "slide_type": "subslide"
    }
   },
   "source": [
    "As for arrays, the length (number of items) can be measured with the function **len()**."
   ]
  },
  {
   "cell_type": "code",
   "execution_count": 63,
   "metadata": {},
   "outputs": [
    {
     "name": "stdout",
     "output_type": "stream",
     "text": [
      "3\n"
     ]
    }
   ],
   "source": [
    "print(len(B))"
   ]
  },
  {
   "cell_type": "markdown",
   "metadata": {
    "slideshow": {
     "slide_type": "subslide"
    }
   },
   "source": [
    "#### Methods for Sets\n",
    "\n",
    "The equivalent to the **append()** method for sets is the **add()** method. Unsurprisingly, adding an element to a set which is already in there will not change the set."
   ]
  },
  {
   "cell_type": "code",
   "execution_count": 64,
   "metadata": {
    "slideshow": {
     "slide_type": "subslide"
    }
   },
   "outputs": [
    {
     "name": "stdout",
     "output_type": "stream",
     "text": [
      "{3, 4, 5, 6}\n",
      "{3, 4, 5, 6}\n"
     ]
    }
   ],
   "source": [
    "B.add(3)\n",
    "print(B)\n",
    "\n",
    "B.add(4)\n",
    "print(B)"
   ]
  },
  {
   "cell_type": "markdown",
   "metadata": {
    "slideshow": {
     "slide_type": "subslide"
    }
   },
   "source": [
    "Further methods of sets are the major mathematical/logical operations. Important ones are:\n",
    "* **intersection:** $A \\cap B$\n",
    "* **union:** $A \\cup B$\n",
    "* **issubset:** $A \\subseteq B$\n",
    "* **issuperset:**$A\t\\supseteq B$\n",
    "* **difference:** $A \\setminus B$"
   ]
  },
  {
   "cell_type": "code",
   "execution_count": 65,
   "metadata": {
    "slideshow": {
     "slide_type": "subslide"
    }
   },
   "outputs": [
    {
     "name": "stdout",
     "output_type": "stream",
     "text": [
      "{1, 2, 3, 4}\n",
      "{3, 4, 5, 6}\n",
      "{3, 4}\n",
      "{1, 2, 3, 4, 5, 6}\n"
     ]
    }
   ],
   "source": [
    "# Define a second set, \"A\"\n",
    "A = {1,2,3,4}\n",
    "print(A)\n",
    "print(B)\n",
    "# Intersect and union A with B\n",
    "print(A.intersection(B))\n",
    "print(A.union(B))"
   ]
  },
  {
   "cell_type": "code",
   "execution_count": 66,
   "metadata": {
    "slideshow": {
     "slide_type": "subslide"
    }
   },
   "outputs": [
    {
     "name": "stdout",
     "output_type": "stream",
     "text": [
      "False\n",
      "False\n"
     ]
    }
   ],
   "source": [
    "# Test whether A is subset or superset of B\n",
    "print(A.issubset(B))\n",
    "print(A.issuperset(B))"
   ]
  },
  {
   "cell_type": "code",
   "execution_count": 67,
   "metadata": {
    "slideshow": {
     "slide_type": "subslide"
    }
   },
   "outputs": [
    {
     "name": "stdout",
     "output_type": "stream",
     "text": [
      "{1, 2}\n",
      "{5, 6}\n"
     ]
    }
   ],
   "source": [
    "# Compute the differences of the sets\n",
    "print(A.difference(B))\n",
    "print(B.difference(A))"
   ]
  },
  {
   "cell_type": "markdown",
   "metadata": {
    "slideshow": {
     "slide_type": "subslide"
    }
   },
   "source": [
    "We can also define a new set that is built by an operation of two existing sets, e.g. $C=A \\cup B$."
   ]
  },
  {
   "cell_type": "code",
   "execution_count": 68,
   "metadata": {},
   "outputs": [
    {
     "name": "stdout",
     "output_type": "stream",
     "text": [
      "{1, 2, 3, 4, 5, 6}\n"
     ]
    }
   ],
   "source": [
    "C = A.union(B)\n",
    "print(C)"
   ]
  },
  {
   "cell_type": "code",
   "execution_count": 69,
   "metadata": {
    "slideshow": {
     "slide_type": "subslide"
    }
   },
   "outputs": [
    {
     "name": "stdout",
     "output_type": "stream",
     "text": [
      "True\n",
      "False\n",
      "True\n"
     ]
    }
   ],
   "source": [
    "# The union of the sets A and B is a superset of B/A now and B/A are subsets of the new set C \n",
    "print(C.issuperset(B))\n",
    "print(C.issubset(B))\n",
    "print(B.issubset(C))"
   ]
  },
  {
   "cell_type": "markdown",
   "metadata": {
    "slideshow": {
     "slide_type": "subslide"
    }
   },
   "source": [
    "### Dictionaries\n",
    "\n",
    "A very important and useful type of arrays are *dictionaries*. Dictionaries are similar to lists, but its entries (*values*) are indexed by names (*keys*) rather than numbers. In other words, dictionaries are *key-value mappings*: they map a key (e.g. **'name'**) to a value (e.g. the string **'Alex'**). Note that both the keys and the values in a dictionary can be of different types (integers, floats, strings, booleans, arrays etc.)."
   ]
  },
  {
   "cell_type": "code",
   "execution_count": 70,
   "metadata": {
    "slideshow": {
     "slide_type": "subslide"
    }
   },
   "outputs": [
    {
     "name": "stdout",
     "output_type": "stream",
     "text": [
      "{'name': 'Alex', 'age': 38, 'likes_football': True, 'interests': ['Python', 'Data Science', 'Gaming']}\n",
      "Alex\n",
      "38\n",
      "True\n",
      "['Python', 'Data Science', 'Gaming']\n"
     ]
    }
   ],
   "source": [
    "# dictionary\n",
    "info = {'name': 'Alex', 'age': 38, 'likes_football': True, \\\n",
    "        'interests': ['Python', 'Data Science', 'Gaming']}\n",
    "\n",
    "print(info)\n",
    "print(info['name'])\n",
    "print(info['age'])\n",
    "print(info['likes_football'])\n",
    "print(info['interests'])"
   ]
  },
  {
   "cell_type": "markdown",
   "metadata": {
    "slideshow": {
     "slide_type": "subslide"
    }
   },
   "source": [
    "You can add new key-value pairs to an existing (or an empty) dictionary. "
   ]
  },
  {
   "cell_type": "code",
   "execution_count": 71,
   "metadata": {},
   "outputs": [
    {
     "name": "stdout",
     "output_type": "stream",
     "text": [
      "{'name': 'Alex', 'age': 38, 'likes_football': True, 'interests': ['Python', 'Data Science', 'Gaming'], 'height': 1.82}\n"
     ]
    }
   ],
   "source": [
    "# add a new entry to an existing dictionary\n",
    "info['height'] = 1.82\n",
    "print(info)"
   ]
  },
  {
   "cell_type": "code",
   "execution_count": 72,
   "metadata": {
    "slideshow": {
     "slide_type": "subslide"
    }
   },
   "outputs": [
    {
     "name": "stdout",
     "output_type": "stream",
     "text": [
      "{'Munich': 1500000.0, 'Berlin': 3500000.0, 'London': 8500000.0}\n"
     ]
    }
   ],
   "source": [
    "# create an empty dictionary and fill it \n",
    "residents = dict()\n",
    "residents['Munich'] = 1.5e+6\n",
    "residents['Berlin'] = 3.5e+6\n",
    "residents['London'] = 8.5e+6\n",
    "\n",
    "print(residents)"
   ]
  },
  {
   "cell_type": "markdown",
   "metadata": {
    "slideshow": {
     "slide_type": "subslide"
    }
   },
   "source": [
    "As a list, a dictionary is mutable, i.e. the value of its entries can be changed:"
   ]
  },
  {
   "cell_type": "code",
   "execution_count": 73,
   "metadata": {},
   "outputs": [
    {
     "name": "stdout",
     "output_type": "stream",
     "text": [
      "{'Munich': 1600000.0, 'Berlin': 3500000.0, 'London': 7650000.0}\n"
     ]
    }
   ],
   "source": [
    "residents['Munich'] += 100000\n",
    "residents['London'] = residents['London'] * 0.9\n",
    "print(residents)"
   ]
  },
  {
   "cell_type": "markdown",
   "metadata": {
    "slideshow": {
     "slide_type": "subslide"
    }
   },
   "source": [
    "Like for all Python arrays, **len()** can also be used to determine the lengths (number of key-value pairs) of a dictionary."
   ]
  },
  {
   "cell_type": "code",
   "execution_count": 74,
   "metadata": {},
   "outputs": [
    {
     "name": "stdout",
     "output_type": "stream",
     "text": [
      "3\n"
     ]
    }
   ],
   "source": [
    "print(len(residents))"
   ]
  },
  {
   "cell_type": "markdown",
   "metadata": {
    "slideshow": {
     "slide_type": "subslide"
    }
   },
   "source": [
    "You can also define a new dictionary using a *dictionary comprehension* (i.e. a compact version of a loop). They work similar as list comprehensions. You can iterate through one list, two lists or a list of arrays:"
   ]
  },
  {
   "cell_type": "code",
   "execution_count": 75,
   "metadata": {},
   "outputs": [
    {
     "name": "stdout",
     "output_type": "stream",
     "text": [
      "{-10: 10, -9: 9, -8: 8, -7: 7, -6: 6, -5: 5, -4: 4, -3: 3, -2: 2, -1: 1, 0: 0, 1: 1, 2: 2, 3: 3, 4: 4, 5: 5, 6: 6, 7: 7, 8: 8, 9: 9}\n"
     ]
    }
   ],
   "source": [
    "D1 = { x:abs(x) for x in range(-10, 10) }\n",
    "print(D1)"
   ]
  },
  {
   "cell_type": "code",
   "execution_count": 76,
   "metadata": {
    "slideshow": {
     "slide_type": "subslide"
    }
   },
   "outputs": [
    {
     "name": "stdout",
     "output_type": "stream",
     "text": [
      "{(1, 1): 1, (1, 2): 2, (1, 3): 3, (2, 1): 2, (2, 2): 4, (2, 3): 6, (3, 1): 3, (3, 2): 6, (3, 3): 9}\n"
     ]
    }
   ],
   "source": [
    "D2 = { (x,y):x*y for x in [1,2,3] for y in [1,2,3] }\n",
    "print(D2)"
   ]
  },
  {
   "cell_type": "code",
   "execution_count": 77,
   "metadata": {
    "slideshow": {
     "slide_type": "subslide"
    }
   },
   "outputs": [
    {
     "name": "stdout",
     "output_type": "stream",
     "text": [
      "{3: 2, 4: 0, 100: 1}\n"
     ]
    }
   ],
   "source": [
    "D3 = { k:v for (k,v) in [(3,2),(4,0),(100,1)] }\n",
    "print(D3)"
   ]
  },
  {
   "cell_type": "markdown",
   "metadata": {
    "slideshow": {
     "slide_type": "skip"
    }
   },
   "source": [
    "--------------------------------------------------------------------------------------------------------------------------------"
   ]
  },
  {
   "cell_type": "markdown",
   "metadata": {
    "slideshow": {
     "slide_type": "subslide"
    }
   },
   "source": [
    "### Exercise 3\n",
    "\n",
    "Using **range**, write a comprehension whose value is a dictionary. The keys should be the integers from 0 to 99 and the value corresponding to a key should be the square of the key."
   ]
  },
  {
   "cell_type": "code",
   "execution_count": null,
   "metadata": {
    "slideshow": {
     "slide_type": "skip"
    }
   },
   "outputs": [],
   "source": []
  },
  {
   "cell_type": "markdown",
   "metadata": {
    "slideshow": {
     "slide_type": "skip"
    }
   },
   "source": [
    "--------------------------------------------------------------------------------------------------------------------------------"
   ]
  },
  {
   "cell_type": "markdown",
   "metadata": {
    "slideshow": {
     "slide_type": "subslide"
    }
   },
   "source": [
    "With the **zip** function, you don't even need a comprehension to define a dictionary:"
   ]
  },
  {
   "cell_type": "code",
   "execution_count": 78,
   "metadata": {},
   "outputs": [
    {
     "name": "stdout",
     "output_type": "stream",
     "text": [
      "{'Daenerys': 'Targaryen', 'Tyrion': 'Lannister', 'Arya': 'Stark', 'Samwell': 'Tarly'}\n",
      "{'Daenerys': 'Targaryen', 'Tyrion': 'Lannister', 'Arya': 'Stark', 'Samwell': 'Tarly'}\n"
     ]
    }
   ],
   "source": [
    "names = ['Daenerys', 'Tyrion', 'Arya', 'Samwell']\n",
    "houses = ['Targaryen', 'Lannister', 'Stark', 'Tarly']\n",
    "\n",
    "D4 = {name: house for (name, house) in zip(names, houses)}\n",
    "print(D4)    \n",
    "\n",
    "D5 = dict(zip(names, houses))\n",
    "print(D5)"
   ]
  },
  {
   "cell_type": "markdown",
   "metadata": {
    "slideshow": {
     "slide_type": "subslide"
    }
   },
   "source": [
    "#### Methods for Dictionaries\n",
    "\n",
    "Both the complete list of keys and of values of a dictionary can accessed by using the **.keys()** and **.values()** methods, respectively."
   ]
  },
  {
   "cell_type": "code",
   "execution_count": 79,
   "metadata": {
    "slideshow": {
     "slide_type": "subslide"
    }
   },
   "outputs": [
    {
     "name": "stdout",
     "output_type": "stream",
     "text": [
      "{'name': 'Alex', 'age': 38, 'likes_football': True, 'interests': ['Python', 'Data Science', 'Gaming'], 'height': 1.82}\n",
      "dict_keys(['name', 'age', 'likes_football', 'interests', 'height'])\n",
      "dict_values(['Alex', 38, True, ['Python', 'Data Science', 'Gaming'], 1.82])\n"
     ]
    }
   ],
   "source": [
    "print(info)\n",
    "\n",
    "print(info.keys())\n",
    "print(info.values())"
   ]
  },
  {
   "cell_type": "markdown",
   "metadata": {
    "slideshow": {
     "slide_type": "subslide"
    }
   },
   "source": [
    "Another helpful method for dictionaries is **.update(other)**. It is used to extend (update) an existing dictionary with another dictionary or an array of two-item tuples."
   ]
  },
  {
   "cell_type": "code",
   "execution_count": 80,
   "metadata": {
    "slideshow": {
     "slide_type": "subslide"
    }
   },
   "outputs": [
    {
     "name": "stdout",
     "output_type": "stream",
     "text": [
      "{'blau': 'blue', 'grün': 'green'}\n",
      "{'blau': 'blue', 'grün': 'green', 'rot': 'red', 'gelb': 'yello'}\n",
      "{'blau': 'blue', 'grün': 'green', 'rot': 'red', 'gelb': 'yello', 'grau': 'grey', 'schwarz': 'black'}\n"
     ]
    }
   ],
   "source": [
    "de_en = {'blau':'blue','grün':'green'}\n",
    "print(de_en)\n",
    "\n",
    "de_en_add = {'rot':'red','gelb':'yello'}\n",
    "de_en.update(de_en_add)\n",
    "print(de_en)\n",
    "\n",
    "de_en.update([('grau', 'grey'),('schwarz','black')])\n",
    "print(de_en)"
   ]
  },
  {
   "cell_type": "markdown",
   "metadata": {
    "slideshow": {
     "slide_type": "skip"
    }
   },
   "source": [
    "--------------------------------------------------------------------------------------------------------------------------------"
   ]
  },
  {
   "cell_type": "markdown",
   "metadata": {
    "slideshow": {
     "slide_type": "subslide"
    }
   },
   "source": [
    "### Exercise 4\n",
    "\n",
    "(a) From exercise 2 above you have information on Bundesliga clubs and their points. Turn the arrays defined above into *sets*. Why will the resulting arrays be of different length?\n",
    "\n",
    "(b) Put the information from question 2 in a dictionary.\n",
    "\n",
    "**HINT**: With the **zip()** function, you can use the arrays defined in exercise 2 to easily construct the dictionary.\n",
    "\n",
    "(c) Add information for at least one other club to your dictionary.\n",
    "\n",
    "(d) Use the dictionary to write to the screen how many points a given club has."
   ]
  },
  {
   "cell_type": "code",
   "execution_count": null,
   "metadata": {},
   "outputs": [],
   "source": []
  }
 ],
 "metadata": {
  "anaconda-cloud": {},
  "celltoolbar": "Slideshow",
  "kernelspec": {
   "display_name": "Python 3",
   "language": "python",
   "name": "python3"
  },
  "language_info": {
   "codemirror_mode": {
    "name": "ipython",
    "version": 3
   },
   "file_extension": ".py",
   "mimetype": "text/x-python",
   "name": "python",
   "nbconvert_exporter": "python",
   "pygments_lexer": "ipython3",
   "version": "3.7.3"
  }
 },
 "nbformat": 4,
 "nbformat_minor": 1
}
