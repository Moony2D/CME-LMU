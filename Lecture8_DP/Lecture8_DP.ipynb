{
 "cells": [
  {
   "cell_type": "markdown",
   "metadata": {
    "slideshow": {
     "slide_type": "slide"
    }
   },
   "source": [
    "# Computational Methods in Economics\n",
    "\n",
    "## Lecture 8 - Dynamic Programming"
   ]
  },
  {
   "cell_type": "code",
   "execution_count": 1,
   "metadata": {
    "slideshow": {
     "slide_type": "skip"
    }
   },
   "outputs": [
    {
     "name": "stdout",
     "output_type": "stream",
     "text": [
      "Last update: 2020-01-29 10:58:51.293704\n"
     ]
    }
   ],
   "source": [
    "# Author: Alex Schmitt (schmitt@ifo.de)\n",
    "\n",
    "import datetime\n",
    "print('Last update: ' + str(datetime.datetime.today()))"
   ]
  },
  {
   "cell_type": "markdown",
   "metadata": {
    "slideshow": {
     "slide_type": "skip"
    }
   },
   "source": [
    "### Preliminaries\n",
    "\n",
    "#### Import Modules"
   ]
  },
  {
   "cell_type": "code",
   "execution_count": 2,
   "metadata": {
    "slideshow": {
     "slide_type": "skip"
    }
   },
   "outputs": [],
   "source": [
    "import numpy as np\n",
    "\n",
    "import matplotlib.pyplot as plt\n",
    "%matplotlib inline\n",
    "import seaborn\n",
    "\n",
    "import scipy.optimize\n",
    "\n",
    "import funapprox_cme as fa\n",
    "\n",
    "# from importlib import reload"
   ]
  },
  {
   "cell_type": "markdown",
   "metadata": {
    "slideshow": {
     "slide_type": "slide"
    }
   },
   "source": [
    "## This Lecture\n",
    "\n",
    "- [Introduction](#intro)\n",
    "- [Infinite-Horizon Dynamic Optimization in Discrete Time](#theory)\n",
    "- [The Bellman Equation](#bellman)\n",
    "- [Value Function Iteration](#vfi)\n",
    "- [Numerical Implementation](#ngm)\n",
    "- [Appendix](#appendix)"
   ]
  },
  {
   "cell_type": "markdown",
   "metadata": {
    "slideshow": {
     "slide_type": "skip"
    }
   },
   "source": [
    "--------------------------------------------------------------------------------------------------------------------------------\n",
    "<a id = 'introduction'></a>"
   ]
  },
  {
   "cell_type": "markdown",
   "metadata": {
    "slideshow": {
     "slide_type": "slide"
    }
   },
   "source": [
    "### Introduction\n",
    "\n",
    "Dynamic Programming is a very important tool in many areas in Economics, in particular (but not only) for solving intertemporal optimization problems. \n",
    "\n",
    "While I will introduce Dynamic Programming in the context of Macroeconomics - that is, solving variants of the neoclassical growth model - the general idea can be applied to other applications as well. "
   ]
  },
  {
   "cell_type": "markdown",
   "metadata": {
    "slideshow": {
     "slide_type": "subslide"
    }
   },
   "source": [
    "For example, in IO, dynamic programming is an important tool for structural estimation. A common application is the estimation of dynamic discrete choice models, e.g. the classical \"bus engine replacement problem\" (Rust 1987).\n",
    "\n",
    "The following is based on the exposition in Daron Acemoglu's *Modern Economic Growth*, chapter 6. "
   ]
  },
  {
   "cell_type": "markdown",
   "metadata": {
    "slideshow": {
     "slide_type": "skip"
    }
   },
   "source": [
    "--------------------------------------------------------------------------------------------------------------------------------\n",
    "<a id = 'theory'></a>"
   ]
  },
  {
   "cell_type": "markdown",
   "metadata": {
    "slideshow": {
     "slide_type": "slide"
    }
   },
   "source": [
    "### Infinite-Horizon Dynamic Optimization in Discrete Time\n",
    "\n",
    "A canonical *discrete-time* *infinite-horizon* dynamic optimization problem can be written as\n",
    "\n",
    "\\begin{equation}\n",
    "    \\max_{\\left\\{x_t, y_{t}\\right\\}_{t = 0}^{\\infty} }\\sum^\\infty_{t = 0} \\beta^t \\tilde{U}(t, x_t, y_t) \n",
    "\\end{equation}\n",
    "\n",
    "subject to\n",
    "\n",
    "\\begin{equation}\n",
    "   y_t \\in \\tilde{G}(t, x_t), \\quad \\forall t \\ge 0\n",
    "\\end{equation}\n",
    "\n",
    "\\begin{equation}\n",
    "    x_{t + 1} = \\tilde{F}(t, x_t, y_t), \\quad \\forall t \\ge 0\n",
    "\\end{equation}\n",
    "\n",
    "and $x_0$ given.\n"
   ]
  },
  {
   "cell_type": "markdown",
   "metadata": {
    "slideshow": {
     "slide_type": "subslide"
    }
   },
   "source": [
    "Note the following:\n",
    "\n",
    "- $x_t \\in X \\subset \\mathbb{R}^M$ is referred to as a (vector of) *state variable(s)* in period $t$.\n",
    "\n",
    "- $y_t \\in Y \\subset \\mathbb{R}^N$ denotes the (vector of) *control variable(s)* in period $t$. It can be chosen from an $N$-dimensional set $\\tilde{G}(t, x_t) \\subset Y$ which is given by a *correspondence* $\\tilde{G}$ which depends on time and the value of the state variables."
   ]
  },
  {
   "cell_type": "markdown",
   "metadata": {
    "slideshow": {
     "slide_type": "subslide"
    }
   },
   "source": [
    "- The function $\\tilde{F}$ specifies the evolution of the state variables over time; that is, $\\tilde{F}$ gives next period's state variables as a function of the current state vector and control vector. \n"
   ]
  },
  {
   "cell_type": "markdown",
   "metadata": {
    "slideshow": {
     "slide_type": "subslide"
    }
   },
   "source": [
    "- $\\tilde{U}$ denotes the *instantaneous payoff* as a function of the current state and control variables, as well as time. The *objective function* is given by \n",
    "\n",
    "\\begin{equation}\n",
    "    \\sum^\\infty_{t = 0} \\beta^t \\tilde{U}(t, x_t, y_t) \n",
    "\\end{equation}\n",
    "\n",
    "where we have already imposed the condition that the objective is a *discounted* sum of instantaneous payoffs, with $\\beta$ denoting the discount factor.   "
   ]
  },
  {
   "cell_type": "markdown",
   "metadata": {
    "slideshow": {
     "slide_type": "subslide"
    }
   },
   "source": [
    "#### Stationarity\n",
    "\n",
    "In the formulation of the problem above, the functions $\\tilde{U}$, $\\tilde{F}$, and $\\tilde{G}$ all have time $t$ as an explicit argument. If this is not the case, i.e. if we have functions $U$, $F$, and $G$ that do not *explicitly* depend on time, we have a stationary dynamic optimization problem:\n",
    "\n",
    "\\begin{equation}\n",
    "    \\max_{\\left\\{x_t, y_{t}\\right\\}_{t = 0}^{\\infty} } \\sum^\\infty_{t = 0} \\beta^t U(x_t, y_t) \n",
    "\\end{equation}\n"
   ]
  },
  {
   "cell_type": "markdown",
   "metadata": {
    "slideshow": {
     "slide_type": "subslide"
    }
   },
   "source": [
    "... subject to\n",
    "\n",
    "\\begin{equation}\n",
    "   y_t \\in G(x_t), \\quad \\forall t \\ge 0\n",
    "\\end{equation}\n",
    "\n",
    "\\begin{equation}\n",
    "    x_{t + 1} = F(x_t, y_t), \\quad \\forall t \\ge 0\n",
    "\\end{equation}\n",
    "\n",
    "and $x_0$ given."
   ]
  },
  {
   "cell_type": "markdown",
   "metadata": {
    "slideshow": {
     "slide_type": "subslide"
    }
   },
   "source": [
    "#### Example: NGM\n",
    "\n",
    "As a concrete example, we can map the abstract stationary problem above to the familiar neoclassical growth model that we have already seen multiple times. As a reminder, here is a concise description of the model: \n",
    "\n",
    "- Utility function:\n",
    "\n",
    "\\begin{equation}\n",
    "    u(c, h) = \\frac{c^{1-\\nu}}{1-\\nu} - B \\frac{h^{1+\\eta}}{1+\\eta}\n",
    "\\end{equation}\n",
    "\n",
    "with $c$ denoting consumption and $h$ labor supply."
   ]
  },
  {
   "cell_type": "markdown",
   "metadata": {
    "slideshow": {
     "slide_type": "subslide"
    }
   },
   "source": [
    "- Production function:\n",
    "\n",
    "\\begin{equation}\n",
    "    f(k_t, h_t) = A k_t^\\alpha h_t^{1-\\alpha}\n",
    "\\end{equation}\n",
    "\n",
    "with $k$ denoting the capital stock, and $A$ the productivity level."
   ]
  },
  {
   "cell_type": "markdown",
   "metadata": {
    "slideshow": {
     "slide_type": "subslide"
    }
   },
   "source": [
    "- Resource Constraint:\n",
    "\n",
    "\\begin{equation}\n",
    "    k_{t+1} + c_t = f(k_t, h_t) + (1 - \\delta) k_t = A k_t^\\alpha h_t^{1-\\alpha} + (1 - \\delta) k_t\n",
    "\\end{equation}\n",
    "\n",
    "- Planner's Problem:\n",
    "\n",
    "\\begin{equation}\n",
    "    \\max_{\\left\\{c_t, k_{t+1}, h_t\\right\\}_{t = 0}^{\\infty} } \\sum^\\infty_{t = 0} \\beta^t u(c_t, h_t) \n",
    "\\end{equation}\n",
    "s.t. the resource constraint."
   ]
  },
  {
   "cell_type": "markdown",
   "metadata": {
    "slideshow": {
     "slide_type": "subslide"
    }
   },
   "source": [
    "Using the constraint to substitute for $c_t$, the problem can be written as\n",
    "\n",
    "\\begin{equation}\n",
    "    \\max_{\\left\\{k_t, k_{t+1}, h_t\\right\\}} \\sum^\\infty_{t = 0} \\beta^t u(f(k_t, h_t) + (1 - \\delta) k_t - k_{t+1}, h_t) \n",
    "\\end{equation}\n",
    "\n",
    "with $k_0$ given. "
   ]
  },
  {
   "cell_type": "markdown",
   "metadata": {
    "slideshow": {
     "slide_type": "subslide"
    }
   },
   "source": [
    "Mapping this problem to the general formulation above, we see the following:\n",
    "\n",
    "- There is one state variable, $x_t = k_t$.\n",
    "\n",
    "- The vector of choice variables is given by $y_t = (k_{t + 1}, h_t)$.\n",
    "\n",
    "- Instantaneous payoff is given by the per-period utility function $U\\big(k_t, (k_{t + 1}, h_t)\\big)  = u(f(k_t, h_t) + (1 - \\delta) k_t - k_{t+1}, h_t)$"
   ]
  },
  {
   "cell_type": "markdown",
   "metadata": {
    "slideshow": {
     "slide_type": "subslide"
    }
   },
   "source": [
    "- The function $F$ is essentially an identity function $x_{t + 1} = k_{t + 1} = F\\big(k_t, (k_{t + 1}, h_t)\\big) = k_{t + 1}$. \n",
    "\n",
    "- What is the choice set for the control variables? For $h_t$, there is no constraint other than that it cannot be negative, and hence $h_t \\in [0, \\infty)$. For $k_{t+1}$, we also have $k_{t+1} \\ge 0$. In addition, it is bounded above by $f(k_t, h_t) + (1 - \\delta)k_t$, since otherwise consumption would be negative. Hence,\n",
    "\n",
    "\\begin{equation}\n",
    "    k_{t+1} \\in [0, f(k_t, h_t) + (1 - \\delta) k_t)\n",
    "\\end{equation}"
   ]
  },
  {
   "cell_type": "markdown",
   "metadata": {
    "slideshow": {
     "slide_type": "subslide"
    }
   },
   "source": [
    "Note that this problem is stationary since the per-period utility function and the production function do not depend directly on time (of course, their arguments do depend on time $t$). \n",
    "\n",
    "This would not be the case if the productivity level $A$ in the production function would change with time rather than being constant. "
   ]
  },
  {
   "cell_type": "markdown",
   "metadata": {
    "slideshow": {
     "slide_type": "subslide"
    }
   },
   "source": [
    "If $A_t$ were to grow with a constant rate $g$, i.e.\n",
    "\n",
    "\\begin{equation}\n",
    "    A_t = (1 + g) A_{t-1} = (1 + g)^t A_0,\n",
    "\\end{equation}\n",
    "\n",
    "we could make the model stationary by transforming the variables."
   ]
  },
  {
   "cell_type": "markdown",
   "metadata": {
    "slideshow": {
     "slide_type": "subslide"
    }
   },
   "source": [
    "#### Sequential Problem\n",
    "\n",
    "Let's recap the canonical stationary problem:\n",
    "\n",
    "<a id = 'Seq'></a>\n",
    "\\begin{equation}\n",
    "    \\max_{\\left\\{x_t, y_{t}\\right\\}_{t = 0}^{\\infty} } \\sum^\\infty_{t = 0} \\beta^t U(x_t, y_t) \\tag{Seq}\n",
    "\\end{equation}\n",
    "s.t.\n",
    "\\begin{equation}\n",
    "    y_t \\in G(x_t), \\quad x_{t + 1} = F(x_t, y_t), \\quad \\forall t \\ge 0, \\quad \\text{and}\\ x_0\\ \\text{given}.\n",
    "\\end{equation}"
   ]
  },
  {
   "cell_type": "markdown",
   "metadata": {
    "slideshow": {
     "slide_type": "subslide"
    }
   },
   "source": [
    "To solve this problem, we are looking for the sequences $\\{x^*_t, y^*_t\\}_{t = 0}^\\infty$ that attain the maximal value of the objective. We refer to these *infinite* sequences as a solution to the intertemporal optimization problem or an *optimal plan*. \n",
    "\n",
    "Our objective when solving any intertemporal optimization problem is usually to characterize this optimal plan (in practice, up to some finite period $T$)."
   ]
  },
  {
   "cell_type": "markdown",
   "metadata": {
    "slideshow": {
     "slide_type": "subslide"
    }
   },
   "source": [
    "Note that we have solved such a *sequential* or *sequence* problem previously in the lecture on numerical optimization, in the context of the NGM. \n",
    "\n",
    "We have made an optimization algorithm (BFGS) choose a sequence (i.e. a vector) of values for capital and labor up to period $T$ (and then made use of the fact that the problem converged to steady state).   "
   ]
  },
  {
   "cell_type": "markdown",
   "metadata": {
    "slideshow": {
     "slide_type": "subslide"
    }
   },
   "source": [
    "#### Value Function\n",
    "\n",
    "For the generic stationary problem above, let's define the *value function* \n",
    "\n",
    "\\begin{equation}\n",
    "    V^*: X \\rightarrow \\mathbb{R}\n",
    "\\end{equation}\n",
    "\n",
    "as highest possible value (i.e. the maximum) that the objective function can reach, given the initial $x_0$."
   ]
  },
  {
   "cell_type": "markdown",
   "metadata": {
    "slideshow": {
     "slide_type": "subslide"
    }
   },
   "source": [
    "Hence,\n",
    "\n",
    "\\begin{equation}\n",
    "    V^*(x_0) = \\max_{\\left\\{x_t, y_{t}\\right\\}} \\sum^\\infty_{t = 0} \\beta^t U(x_t, y_t)\\quad \\text{s.t.}\\quad y_t \\in G(x_t), \\quad x_{t + 1} = F(x_t, y_t), \\quad \\forall t \\ge 0\n",
    "\\end{equation}\n",
    "\n",
    "With the optimal plan $\\{x^*_t, y^*_t\\}_{t = 0}^\\infty$, we can also write the value function as \n",
    "\n",
    "\\begin{equation}\n",
    "    V^*(x_0)  = \\sum^\\infty_{t = 0} \\beta^t U(x^*_t, y^*_t) \n",
    "\\end{equation}\n"
   ]
  },
  {
   "cell_type": "markdown",
   "metadata": {
    "slideshow": {
     "slide_type": "skip"
    }
   },
   "source": [
    "--------------------------------------------------------------------------------------------------------------------------------\n",
    "<a id = 'bellman'></a>"
   ]
  },
  {
   "cell_type": "markdown",
   "metadata": {
    "slideshow": {
     "slide_type": "slide"
    }
   },
   "source": [
    "### The Bellman Equation \n",
    "\n",
    "The Bellman equation is at the center of dynamic programming. It can be written in the following way:\n",
    "\n",
    "<a id = 'BE'></a>\n",
    "\\begin{equation}\n",
    "    V(x)  =  \\max_{ y \\in G(x) } \\left\\{  U(x, y) + \\beta V(x^+) \\right\\}, \\quad \\forall x \\in X \\tag{BE}\n",
    "\\end{equation}\n",
    "\n",
    "s.t. $x^+ = F(x, y)$."
   ]
  },
  {
   "cell_type": "markdown",
   "metadata": {
    "slideshow": {
     "slide_type": "subslide"
    }
   },
   "source": [
    "Before looking at why this is useful, a few features are worth noting:\n",
    "\n",
    "- The Bellman equation is a *functional equation*: instead of finding a scalar or vector that satisfies it, we will solve it by finding an *ex-ante unknown value function $V$* which appears on both the left- and the right-hand side. This is also why the Bellman equation is called a *recursive formulation* of the intertemporal optimization problem. \n",
    "\n",
    "    Moreover, note that $V$ is ex-ante different from $V^*$, which is a particular, known value function (rather than an unknown one)."
   ]
  },
  {
   "cell_type": "markdown",
   "metadata": {
    "slideshow": {
     "slide_type": "subslide"
    }
   },
   "source": [
    "- Related to this, note that this functional equation must be satisfied for *all* state variables $x$ that are admissible (i.e. lie in the set $X$) \n",
    "\n",
    "- In a stationary problem, since the instantaneous payoff function does not depend on time, the choice on the right-hand side is not time dependent either. That's why we have omitted time subscripts here."
   ]
  },
  {
   "cell_type": "markdown",
   "metadata": {
    "slideshow": {
     "slide_type": "subslide"
    }
   },
   "source": [
    "- On the right-hand side, we choose the *policy* $y$ only for one period, which is a scalar or vector depending on the dimension of the control vector, given this period's state $x$. \n",
    "\n",
    "    In other words, the problem on the RHS asks what actions $y$ one should take today, given the current situation/state $x$, in order to maximize the sum of *current payoff* and *continuation value*."
   ]
  },
  {
   "cell_type": "markdown",
   "metadata": {},
   "source": [
    "The last point encapsulates the basic idea of dynamic programming: an optimal policy must be such that it is optimal both today - i.e., it maximizes the current return - and along the *continuation path*. The highest possible value attained by this policy is given by the value function $V$.\n",
    "\n",
    "Along this path, the remaining decisions must constitute an optimal policy with regard to the state resulting from the first decision ($x^+$), and hence the continuation value is given by the same value function $V$.  "
   ]
  },
  {
   "cell_type": "markdown",
   "metadata": {
    "slideshow": {
     "slide_type": "subslide"
    }
   },
   "source": [
    "Why is the Bellman equation useful for solving an intertemporal optimization problem? There are essentially three parts to answering this question."
   ]
  },
  {
   "cell_type": "markdown",
   "metadata": {
    "slideshow": {
     "slide_type": "subslide"
    }
   },
   "source": [
    "First, and most importantly, it can be shown that the recursive formulation [(BE)](#BE) above is equivalent to the sequential problem [(Seq)](#Seq), in the sense that any (feasible) optimal plan $\\{x^*_t, y^*_t\\}_{t = 0}^\\infty$ that solves the sequential problem also satisfies the Bellman equation.\n",
    "\n",
    "\\begin{equation}\n",
    "   V(x^*_t) = U(x^*_t, y^*_t) + \\beta V\\big(F(x^*_{t}, y^*_t)\\big)\\quad \\forall t \n",
    "\\end{equation}\n",
    "\n",
    "for $V = V^*$. "
   ]
  },
  {
   "cell_type": "markdown",
   "metadata": {
    "slideshow": {
     "slide_type": "subslide"
    }
   },
   "source": [
    "Hence, any solution to the sequential problem is also a solution to the recursive formulation of the problem.\n",
    "\n",
    "Note that this result follows from two theorem, the *Principle of Optimality* and the *Theorem of Equivalence*. They are outlined in the appendix, together with some heuristic arguments why this result holds."
   ]
  },
  {
   "cell_type": "markdown",
   "metadata": {
    "slideshow": {
     "slide_type": "subslide"
    }
   },
   "source": [
    "Second, if we know the functional form of the value function $V$, we can easily find an optimal plan $\\{x^*_t, y^*_t\\}_{t = 0}^\\infty$ by repeatedly solving the low-dimensional problem on the right-hand side of the Bellman equation (rather than the infinite-dimensional sequential problem!). "
   ]
  },
  {
   "cell_type": "markdown",
   "metadata": {
    "slideshow": {
     "slide_type": "subslide"
    }
   },
   "source": [
    "In other words, since we have just established that any optimal plan satisfies the Bellman equation, we can use its right-hand side to solve for the optimal $(x^*_{1}, y^*_0)$ given some initial state $x_{0}$. \n",
    "\n",
    "Then, we can use $x^*_{1}$ as the initial state and solve for $(x^*_{2}, y^*_1)$ and so on."
   ]
  },
  {
   "cell_type": "markdown",
   "metadata": {
    "slideshow": {
     "slide_type": "subslide"
    }
   },
   "source": [
    "\\begin{align}\n",
    "            &\\max_{ y \\in G(x_0) }  U(x_0, y) + \\beta V(F(x_0, y))\\quad \\rightarrow\\quad (x_1^*, y_0^*) \\\\\n",
    "   \\quad\\rightarrow\\quad &\\max_{ y \\in G(x_1^*) }  U(x_1^*, y) + \\beta V(F(x_1^*, y))\\quad \\rightarrow\\quad (x_2^*, y_1^*) \\\\\n",
    "   \\quad\\rightarrow\\quad &\\max_{ y \\in G(x_2^*) }  U(x_2^*, y) + \\beta V(F(x_2^*, y))\\quad \\rightarrow\\quad (x_3^*, y_2^*) \\\\\n",
    "   \\quad\\rightarrow\\quad &... \n",
    "\\end{align}"
   ]
  },
  {
   "cell_type": "markdown",
   "metadata": {
    "slideshow": {
     "slide_type": "subslide"
    }
   },
   "source": [
    "Thus, by solving the RHS of the Bellman equation repeatedly and updating the state vector for every period, we can *generate* the sequences $\\{x^*_t, y^*_t\\}_{t = 0}^T$ up to some arbitrary period $T$ (which can be very large).\n",
    "\n",
    "We will refer to this as \"simulating\" the model, as discussed below."
   ]
  },
  {
   "cell_type": "markdown",
   "metadata": {
    "slideshow": {
     "slide_type": "subslide"
    }
   },
   "source": [
    "Third, since the value function is ex-ante unknown, we need to solve the Bellman equation for $V$. While functional equations can be tricky to work with in general, it turns out that the Bellman equation is computationally very convenient, and there are efficient algorithms to find $V$. "
   ]
  },
  {
   "cell_type": "markdown",
   "metadata": {
    "slideshow": {
     "slide_type": "subslide"
    }
   },
   "source": [
    "As a result, dynamic optimization problems can be much easier to solve using the Bellman equation than a sequential formulation (and in some cases, it is the only option)."
   ]
  },
  {
   "cell_type": "markdown",
   "metadata": {
    "slideshow": {
     "slide_type": "subslide"
    }
   },
   "source": [
    "To summarize, rather than computing the optimal plan explicitly in one large optimization problem, we compute it recursively solving a *small-scale, finite-dimensional optimization problem in every period*. This is not only more computationally efficient in many cases, it sometimes may also be the only way to find the optimal plan, for example under uncertainty.\n",
    "\n",
    "Of course, a prerequisite for this strategy is knowing the value function $V$. We turn to how do this in the next section. "
   ]
  },
  {
   "cell_type": "markdown",
   "metadata": {
    "slideshow": {
     "slide_type": "subslide"
    }
   },
   "source": [
    "Note that another advantage of solving an intertemporal optimization problem using stationary dynamic programming is that the solution can be represented by a time-invariant *policy function* (*decision rule*) $\\phi: X \\rightarrow Y$. \n",
    "\n",
    "That is, $\\phi(x)$ gives the optimal value to choose for a given value of the state variable $x$, independent of the time period $t$. "
   ]
  },
  {
   "cell_type": "markdown",
   "metadata": {
    "slideshow": {
     "slide_type": "subslide"
    }
   },
   "source": [
    "For a given value function $V$, the policy function is defined implicitly by\n",
    "\n",
    "\\begin{equation}\n",
    "    V(x)  =  U(x, \\phi(x)) + \\beta V\\big(F(x, \\phi(x))\\big)\\quad \\forall x \\in X.\n",
    "\\end{equation}\n",
    "\n",
    "This equation simply follows from the fact that $\\phi(x)$ is the optimal policy, so when $y = \\phi(x)$, the RHS of the Bellman eqution reaches the optimal value $V(x)$. "
   ]
  },
  {
   "cell_type": "markdown",
   "metadata": {
    "slideshow": {
     "slide_type": "subslide"
    }
   },
   "source": [
    "In other words, if an optimal plan solves the sequential problem, it can be expressed as a policy function that solves the maximization problem associated with the Bellman equation."
   ]
  },
  {
   "cell_type": "markdown",
   "metadata": {
    "slideshow": {
     "slide_type": "subslide"
    }
   },
   "source": [
    "As before, the intuition for $\\phi$ not depending on time is that the instantaneous payoff function does not depend on time in a stationary problem.\n",
    "\n",
    "We will see below how to find the policy function(s) numerically and how to use them to find the optimal plan."
   ]
  },
  {
   "cell_type": "markdown",
   "metadata": {
    "slideshow": {
     "slide_type": "subslide"
    }
   },
   "source": [
    "As a final remark, dynamic programming and using the Bellman equation is not restricted to stationary infinite-horizon intertemporal optimization problems. Models that are not stationary (and cannot be transformed into a stationary version) can be solved using the following Bellman equation:\n",
    "\n",
    "\\begin{equation}\n",
    "    V_t(x_t)  =  \\max_{ y_t \\in G(t, x_t) }  U(x_t, y_t) + \\beta V_{t+1}(x_{t+1}), \\quad \\forall x_t \\in X_t\n",
    "\\end{equation}"
   ]
  },
  {
   "cell_type": "markdown",
   "metadata": {
    "slideshow": {
     "slide_type": "subslide"
    }
   },
   "source": [
    "In contrast to above, the value function here depends on time, and hence you have different value functions on the left-hand and the right-hand side. This also implies that we have time-dependent policy functions $\\phi_t$."
   ]
  },
  {
   "cell_type": "markdown",
   "metadata": {
    "slideshow": {
     "slide_type": "subslide"
    }
   },
   "source": [
    "In a model with a finite time horizon $T$, we can use this equation to solve the model via *backwards induction*. \n",
    "\n",
    "That is, we start with $V_{T+1} = 0$ - since the economy ends after period $T$ - plug this in on the right hand side of the Bellman equation and solve for $V_T$. Next, we use $V_T$ on the RHS and solve for $V_{T-1}$ and so on. We continue this recursive procedure until $V_0$.\n"
   ]
  },
  {
   "cell_type": "markdown",
   "metadata": {
    "slideshow": {
     "slide_type": "subslide"
    }
   },
   "source": [
    "In a non-stationary, infinite-horizon problem, there is no last period, and hence applying backwards induction is less straightforward. \n",
    "\n",
    "To solve such models, we usually assume that they become stationary at some point $\\bar{T}$ in the future; starting in this period, we compute the value function $V( \\bar{T} )$ using the methods presented below. We can initialize backwards induction by setting $V_{T+1} = \\bar{V}$ and then again going backwards in time."
   ]
  },
  {
   "cell_type": "markdown",
   "metadata": {
    "slideshow": {
     "slide_type": "skip"
    }
   },
   "source": [
    "--------------------------------------------------------------------------------------------------------------------------------\n",
    "<a id = 'vfi'></a>"
   ]
  },
  {
   "cell_type": "markdown",
   "metadata": {
    "slideshow": {
     "slide_type": "slide"
    }
   },
   "source": [
    "### Value Function Iteration\n",
    "\n",
    "The next question is how to find the value function $V$, starting from the Bellman equation:\n",
    "\n",
    "\\begin{equation}\n",
    "    V(x)  =  \\max_{ y \\in G(x) }  U(x, y) + \\beta V(x^+)\n",
    "\\end{equation}\n",
    "\n",
    "s.t. $x^+ = F(x, y)$. "
   ]
  },
  {
   "cell_type": "markdown",
   "metadata": {
    "slideshow": {
     "slide_type": "subslide"
    }
   },
   "source": [
    "Before moving on, note that the Bellman equation is often expressed as \n",
    "\n",
    "\\begin{equation}\n",
    "    V  = \\mathcal{T}V\n",
    "\\end{equation}"
   ]
  },
  {
   "cell_type": "markdown",
   "metadata": {
    "slideshow": {
     "slide_type": "subslide"
    }
   },
   "source": [
    "$\\mathcal{T}$ is a mapping (also referred to as an \"operator\") which is applied on a function. Recall that a function is a mapping in a (finite-dimensional) Euclidean space that maps a scalar/vector $x$ to a scalar/vector $y$. Similarly, an operator is a mapping in an infinite-dimensional *metric* space that maps a function $w$ to a function $z$. \n",
    "\n",
    "The Bellman equation then implies that $\\mathcal{T}$ maps $V$ onto itself. In other words, $V$ is a *fixed point* of $\\mathcal{T}$."
   ]
  },
  {
   "cell_type": "markdown",
   "metadata": {
    "slideshow": {
     "slide_type": "subslide"
    }
   },
   "source": [
    "It turns out that in order to find this fixed point, we can use an iterative procedure, an idea that we have already encountered in previous lectures. \n",
    "\n",
    "As a reminder, the basic idea of iterative methods is to generate a sequence of approximations to the object of interest, here the value function, i.e. to generate $\\left\\{ V^{(k)} \\right\\}_{k = 0}^\\infty$."
   ]
  },
  {
   "cell_type": "markdown",
   "metadata": {
    "slideshow": {
     "slide_type": "subslide"
    }
   },
   "source": [
    "These approximations should converge, i.e. become more and more \"precise\" with an increasing number of iterations. \n",
    "\n",
    "\\begin{equation}\n",
    "    V^{(k)} \\ \\rightarrow\\ V \\quad \\text{as} \\quad k\\ \\rightarrow\\ \\infty. \n",
    "\\end{equation}\n",
    "\n",
    "When we talked about iterative methods in previous lectures, the object of interest was a scalar or a vector, i.e. a finite-dimensional object. Here, we aim to approximate an infinite-dimensional function. "
   ]
  },
  {
   "cell_type": "markdown",
   "metadata": {
    "slideshow": {
     "slide_type": "subslide"
    }
   },
   "source": [
    "The iteration rule is \n",
    "\n",
    "\\begin{equation}\n",
    "    V^{(k+1)} = \\mathcal{T} V^{(k)}. \n",
    "\\end{equation}\n",
    "\n",
    "In other words, we take the current guess $V^{(k)}$ and use it to solve the RHS side of the Bellman equation (that is, apply the operator $\\mathcal{T}$). The resulting value function is used as the new guess $V^{(k+1)}$:\n",
    "\n",
    "\\begin{equation}\n",
    "    V^{(k+1)}(x)  =  \\max_{ y \\in G(x) }  U(x, y) + \\beta V^{(k)}\\big(F(x, y)\\big)\n",
    "\\end{equation}"
   ]
  },
  {
   "cell_type": "markdown",
   "metadata": {
    "slideshow": {
     "slide_type": "subslide"
    }
   },
   "source": [
    "How do we know that that the sequence $\\left\\{ V^{(k)} \\right\\}$ generated in this way converge to the true value function? We are guaranteed convergence if the operator $\\mathcal{T}$ is a *contraction mapping*. In the interest of time, we will not go deeper into this, but take this convergence as given. \n",
    "\n",
    "Next, we discuss how to implement *value function iteration* numerically."
   ]
  },
  {
   "cell_type": "markdown",
   "metadata": {
    "slideshow": {
     "slide_type": "skip"
    }
   },
   "source": [
    "--------------------------------------------------------------------------------------------------------------------------------\n",
    "<a id = 'ngm'></a>"
   ]
  },
  {
   "cell_type": "markdown",
   "metadata": {
    "slideshow": {
     "slide_type": "slide"
    }
   },
   "source": [
    "### VFI: Numerical Implementation\n",
    "\n",
    "As mentioned above, a function is an infinite-dimensional object, hence we have to find a way to represent it on the computer with a finite-dimensional object. "
   ]
  },
  {
   "cell_type": "markdown",
   "metadata": {
    "slideshow": {
     "slide_type": "subslide"
    }
   },
   "source": [
    "Fortunately, we have already encountered a way to do this in the context of function approximation: recall that the approximant $\\hat{f}$ to a function $f$ is a linear combination of (a finite number of) basis functions, with (a finite number of) basis coefficients. "
   ]
  },
  {
   "cell_type": "markdown",
   "metadata": {
    "slideshow": {
     "slide_type": "subslide"
    }
   },
   "source": [
    "Hence, when numerically implementing value function iteration, the value function will be represented by a vector of basis coefficients (and a given set of basis functions), which will be updated in every iteration. Formally,\n",
    "\n",
    "\\begin{equation}\n",
    "   V^{(k)}(x) \\approx \\hat{V}(x; a^{(k)}) = \\sum_{j = 0}^{n} a^{(k)}_j B_j(x)\n",
    "\\end{equation}"
   ]
  },
  {
   "cell_type": "markdown",
   "metadata": {
    "slideshow": {
     "slide_type": "subslide"
    }
   },
   "source": [
    "In other words, the objective below is to find $a$ such that $\\hat{V}(x; a)$ is an approximation to the \"true\" value function that satisfies the Bellman equation. Hence, $\\hat{V}(x; a)$ should \"approximately\" satisfies the Bellman equation for all $x \\in X$."
   ]
  },
  {
   "cell_type": "markdown",
   "metadata": {
    "slideshow": {
     "slide_type": "subslide"
    }
   },
   "source": [
    "This leads to the following pseudo-code:\n",
    "\n",
    "(i) Choose the approximation grid $\\{x_i : 1 \\le i \\le m\\} \\subset \\mathbb{R}^M$. Moreover, choose a degree of approximation $n$ and a family of basis functions $\\{B_j(x) : 0 \\le j \\le n\\}$."
   ]
  },
  {
   "cell_type": "markdown",
   "metadata": {
    "slideshow": {
     "slide_type": "subslide"
    }
   },
   "source": [
    "(ii) Choose an initial value for the basis coefficients $\\{a_j : 0 \\le j \\le n\\}$, denoted by $a_j^{(0)}$. The initial guess for the value function $V$ is approximated by \n",
    "\n",
    "\\begin{equation}\n",
    "    \\hat{V}^{(0)} = \\hat{V}(x; a^{(0)}) = \\sum_{j = 0}^{n} a^{(0)}_j B_j(x)\n",
    "\\end{equation}"
   ]
  },
  {
   "cell_type": "markdown",
   "metadata": {
    "slideshow": {
     "slide_type": "subslide"
    }
   },
   "source": [
    "(iii) *Optimization step*: for a given vector $a^{(k)}$, compute \n",
    "\n",
    "\\begin{equation}\n",
    "\\begin{split}\n",
    "    v_i &= \\max_{ y \\in G(x_i) }  U(x_i, y) + \\beta \\hat{V}^{(k)}\\big(F(x_i, y)\\big) \\\\\n",
    "        &=  \\max_{ y \\in G(x_i) }  U(x_i, y) + \\beta \\sum_{j = 0}^{n} a^{(k)}_j B_j\\big(F(x_i, y)\\big)\n",
    "\\end{split}\n",
    "\\end{equation}\n",
    "\n",
    "for each approximation node $x_i$."
   ]
  },
  {
   "cell_type": "markdown",
   "metadata": {
    "slideshow": {
     "slide_type": "subslide"
    }
   },
   "source": [
    "(iv) *Fitting step*: given the data $\\{x_i, v_i:  1 \\le i \\le m\\}$, use an appropriate approximation method to find $a^{(k+1)}$ such that\n",
    "\n",
    "\\begin{equation}\n",
    "    \\hat{V}(x_i; a^{(k + 1)}) \\approx v_i \n",
    "\\end{equation}\n",
    "\n",
    "Note that this last expression would feature an equality in the case of interpolation."
   ]
  },
  {
   "cell_type": "markdown",
   "metadata": {
    "slideshow": {
     "slide_type": "subslide"
    }
   },
   "source": [
    "(v) *Stopping rule*: compute the convergence criterion $\\epsilon$ which compares the new guess $a^{(k + 1)}$ with the current guess $a^{(k)}$, i.e. is a function of these two vectors. If the convergence criterion is less than some small number, e.g. the square root of machine epsilon,\n",
    "\n",
    "\\begin{equation}\n",
    "    \\epsilon(a^{(k)}, a^{(k + 1)}) \\le \\sqrt{\\epsilon_{DP}}\n",
    "\\end{equation}\n",
    "\n",
    "then stop and report $a^{(k + 1)}$. Otherwise, go back to (iii)."
   ]
  },
  {
   "cell_type": "markdown",
   "metadata": {
    "slideshow": {
     "slide_type": "subslide"
    }
   },
   "source": [
    "Before moving to the actual Python implementation, note that each iteration features two essential operations: optimization and function approximation. For both of them, we have learned efficient and reliable methods earlier in this course. \n",
    "\n",
    "Below, we will use the BFGS method for the optimization problem in the Bellman equation, and Chebyshev polynomials and nodes to approximate the value function. "
   ]
  },
  {
   "cell_type": "markdown",
   "metadata": {
    "slideshow": {
     "slide_type": "subslide"
    }
   },
   "source": [
    "#### Workhorse Example: NGM\n",
    "\n",
    "We now use this algorithm to solve the NGM, as outlined above. From the mapping between the NGM and the general intertemporal optimization problem outlined above, we can write the Bellman equation for the NGM as:\n",
    "\n",
    "\\begin{equation}\n",
    "    V(k_t)  =  \\max_{ h_t \\in [0, \\infty), \\ k_{t+1} \\in [0, f(k_t, h_t) + (1 - \\delta) k_t) }  u(f(k_t, h_t) + (1 - \\delta) k_t - k_{t+1}, h_t) + \\beta V(k_{t+1})\n",
    "\\end{equation}"
   ]
  },
  {
   "cell_type": "markdown",
   "metadata": {
    "slideshow": {
     "slide_type": "subslide"
    }
   },
   "source": [
    "We start by defining the parameters and some auxiliary functions. We then compute the steady state, as seen before."
   ]
  },
  {
   "cell_type": "markdown",
   "metadata": {
    "slideshow": {
     "slide_type": "subslide"
    }
   },
   "source": [
    "#### Parameters "
   ]
  },
  {
   "cell_type": "code",
   "execution_count": 3,
   "metadata": {
    "slideshow": {
     "slide_type": "-"
    }
   },
   "outputs": [],
   "source": [
    "## utility\n",
    "beta = 0.8      # discount factor\n",
    "nu = 2       # risk-aversion coefficient for consumption\n",
    "eta = 1         # elasticity parameter for labor supply\n",
    "\n",
    "## production\n",
    "alpha = 0.25\n",
    "delta = 0.1"
   ]
  },
  {
   "cell_type": "code",
   "execution_count": 4,
   "metadata": {},
   "outputs": [
    {
     "name": "stdout",
     "output_type": "stream",
     "text": [
      "0.8\n"
     ]
    }
   ],
   "source": [
    "## derived\n",
    "A = (1 - beta * (1 - delta))/(alpha*beta) # normalization parameter for production function => steady state k = 1\n",
    "B = (1 - alpha) * A * (A - delta)**(-nu)      # parameter for utility function\n",
    "\n",
    "params = {'beta': beta, 'nu': nu, 'eta': eta, \n",
    "          'alpha': alpha, 'delta': delta, 'A': A, 'B': B }\n",
    "print( params['beta'] )"
   ]
  },
  {
   "cell_type": "markdown",
   "metadata": {
    "slideshow": {
     "slide_type": "subslide"
    }
   },
   "source": [
    "#### Auxiliary Functions"
   ]
  },
  {
   "cell_type": "code",
   "execution_count": 5,
   "metadata": {
    "slideshow": {
     "slide_type": "-"
    }
   },
   "outputs": [],
   "source": [
    "def u(c, h, pm):\n",
    "    \"\"\"\n",
    "    Evaluates an additive-separable utility function with consumption and labor as arguments\n",
    "    \"\"\"\n",
    "    return c**(1 - pm['nu'])/(1 - pm['nu']) - pm['B'] * h**(1 + pm['eta'])/(1 + pm['eta'])"
   ]
  },
  {
   "cell_type": "code",
   "execution_count": 6,
   "metadata": {
    "slideshow": {
     "slide_type": "subslide"
    }
   },
   "outputs": [],
   "source": [
    "def f(k, h, pm):\n",
    "    \"\"\"\n",
    "    Evaluates a Cobb-Douglas production function with coefficient alpha and shift parameter A, for two inputs k and h\n",
    "    \"\"\"\n",
    "    return pm['A'] * k**pm['alpha'] * h**(1 - pm['alpha'])\n",
    "\n",
    "\n",
    "def f_diff(k, h, pm):\n",
    "    \"\"\"\n",
    "    Evaluates the first derivatives (returned as a tuple) of the Cobb-Douglas function with coefficient alpha and shift parameter A, for two inputs k and h\n",
    "    \"\"\"\n",
    "    return (pm['alpha'] * f(k, h, pm) / k, (1 - pm['alpha']) * f(k, h, pm) / h)"
   ]
  },
  {
   "cell_type": "markdown",
   "metadata": {
    "slideshow": {
     "slide_type": "skip"
    }
   },
   "source": [
    "#### Compute Steady State"
   ]
  },
  {
   "cell_type": "code",
   "execution_count": 7,
   "metadata": {
    "slideshow": {
     "slide_type": "skip"
    }
   },
   "outputs": [],
   "source": [
    "def steady(x, pm):\n",
    "    \"\"\"\n",
    "    Returns the vector-valued function consisting of the steady-state conditions \n",
    "    \"\"\"\n",
    "    y = np.zeros(2)\n",
    "    mp = f_diff(x[0], x[1], pm)\n",
    "    \n",
    "    y[0] = pm['beta'] * (mp[0] + 1 - pm['delta']) - 1\n",
    "    y[1] = ( f(x[0], x[1], pm) - pm['delta'] * x[0])**(- pm['nu']) * mp[1] - B * x[1]**pm['eta']\n",
    "    \n",
    "    return y"
   ]
  },
  {
   "cell_type": "code",
   "execution_count": 8,
   "metadata": {
    "slideshow": {
     "slide_type": "skip"
    }
   },
   "outputs": [
    {
     "name": "stdout",
     "output_type": "stream",
     "text": [
      "1.000000000000086 0.9999999999999751\n"
     ]
    }
   ],
   "source": [
    "## solve for steady state\n",
    "x0 = np.array([0.5, 0.5])\n",
    "res = scipy.optimize.root(steady, x0, args = ( params ), tol = 1e-8, method = \"broyden1\")\n",
    "kss, hss = res.x \n",
    "print(kss, hss)"
   ]
  },
  {
   "cell_type": "markdown",
   "metadata": {
    "slideshow": {
     "slide_type": "subslide"
    }
   },
   "source": [
    "#### Interpolation grid and initial guess\n",
    "\n",
    "We can now implement the steps in the VFI algorithm. For the interpolation grid, we set $m = 10$. For the end points, note that since our initial capital stock is $k_0 = 0.8$ and its steady state value 1, we can focus on values for $k_t$ between $0.7$ and $1.3$. "
   ]
  },
  {
   "cell_type": "code",
   "execution_count": 9,
   "metadata": {
    "slideshow": {
     "slide_type": "-"
    }
   },
   "outputs": [],
   "source": [
    "m = 10\n",
    "k_min = 0.7\n",
    "k_max = 1.3\n",
    "\n",
    "k_grid = fa.chebgrid(k_min, k_max, m)"
   ]
  },
  {
   "cell_type": "markdown",
   "metadata": {
    "slideshow": {
     "slide_type": "subslide"
    }
   },
   "source": [
    "We use an interpolation scheme, and hence $n = m - 1$. As an initial guess for the basis coefficients, $a^{(0)}$, a common choice is start with a vector of zeros; note that this would imply that the initial guess for the approximated continuation function, $\\hat{V}^{(0)}$, is zero. "
   ]
  },
  {
   "cell_type": "markdown",
   "metadata": {
    "slideshow": {
     "slide_type": "subslide"
    }
   },
   "source": [
    "However, this may not be the best choice: for more computationally intensive problems, we want our initial guess to be as close to the true value function as possible, in order to minimize the number of iterations and hence the running time of the algorithm above. "
   ]
  },
  {
   "cell_type": "markdown",
   "metadata": {
    "slideshow": {
     "slide_type": "subslide"
    }
   },
   "source": [
    "Moreover, in the NGM, note that if the continuation value on the RHS of the Bellman equation is zero, this also implies that the control variable $k_{t+1}$ is set to zero for all state variables; intuitively, there is no reason to build up capital for the next period if it doesn't give you any utility. \n",
    "\n",
    "$k_{t+1} = 0$ would imply a capital stock outside of our grid, which causes problems when approximating the continuation value."
   ]
  },
  {
   "cell_type": "markdown",
   "metadata": {
    "slideshow": {
     "slide_type": "subslide"
    }
   },
   "source": [
    "For a better initial guess, consider the special case of the NGM with logarithmic utility and full capital depreciation. We know that in this case, consumption and savings are a fixed share of output in every period. We can derive the value function in this case as\n",
    "\n",
    "\\begin{equation}\n",
    "    V(k) = \\frac{\\alpha}{1 - \\alpha \\beta} \\log(k) + Q\n",
    "\\end{equation}\n",
    "\n",
    "where $Q$ is a constant depending on the model parameters. We can use the first term as an initial guess for our value function in the more general case."
   ]
  },
  {
   "cell_type": "code",
   "execution_count": 10,
   "metadata": {
    "slideshow": {
     "slide_type": "subslide"
    }
   },
   "outputs": [],
   "source": [
    "## set the degree of approximation\n",
    "n = m - 1\n",
    "\n",
    "## initial guess for VF\n",
    "V0 = (alpha / (1 - alpha * beta)) * np.log(k_grid )\n",
    "## compute implied basis coefficients\n",
    "a0 = fa.chebapprox(V0, n)"
   ]
  },
  {
   "cell_type": "markdown",
   "metadata": {
    "slideshow": {
     "slide_type": "subslide"
    }
   },
   "source": [
    "#### Optimization Step\n",
    "\n",
    "For the optimization step (iii) in the VFI algorithm, it is useful to define a function that contains the objective function of the optimization problem on the right hand side of the Bellman equation."
   ]
  },
  {
   "cell_type": "code",
   "execution_count": 11,
   "metadata": {
    "slideshow": {
     "slide_type": "subslide"
    }
   },
   "outputs": [],
   "source": [
    "def vf_rhs(x, k, a, k_min, k_max, pm):\n",
    "    \"\"\"\n",
    "    RHS of the Bellman equation\n",
    "    \"\"\"\n",
    "    kp = np.exp(x[0])\n",
    "    h = np.exp(x[1])\n",
    "    \n",
    "    current_util = u(f(k, h, pm) + (1 - pm['delta']) * k - kp, h, pm)\n",
    "    cont_value = np.polynomial.chebyshev.chebval(fa.chebconvert(kp, k_min, k_max), a)\n",
    "\n",
    "    return - (current_util + pm['beta'] * cont_value )"
   ]
  },
  {
   "cell_type": "markdown",
   "metadata": {
    "slideshow": {
     "slide_type": "subslide"
    }
   },
   "source": [
    "We can use Scipy's **minimize** function with the BFGS method to solve the problem on the RHS of the Bellman equation. Recall that we need to run a separate optimization for each of the $m$ grid point, which correspond to different initial capital stocks. We can use a **for** loop that iterates over **k_grid**:  "
   ]
  },
  {
   "cell_type": "code",
   "execution_count": 12,
   "metadata": {
    "slideshow": {
     "slide_type": "-"
    }
   },
   "outputs": [
    {
     "name": "stdout",
     "output_type": "stream",
     "text": [
      "Optimization terminated successfully.\n",
      "Optimization terminated successfully.\n",
      "Optimization terminated successfully.\n",
      "Optimization terminated successfully.\n",
      "Optimization terminated successfully.\n",
      "Optimization terminated successfully.\n",
      "Optimization terminated successfully.\n",
      "Optimization terminated successfully.\n",
      "Optimization terminated successfully.\n",
      "Optimization terminated successfully.\n"
     ]
    }
   ],
   "source": [
    "x0 = (0, 0)\n",
    "V = np.zeros(m) \n",
    "\n",
    "for (ind, k) in enumerate(k_grid):\n",
    "    ## optimization step\n",
    "    res = scipy.optimize.minimize(vf_rhs, x0, args = (k, a0, k_min, k_max, params), method ='BFGS') \n",
    "    V[ind] = - res.fun\n",
    "    print(res.message)"
   ]
  },
  {
   "cell_type": "markdown",
   "metadata": {
    "slideshow": {
     "slide_type": "subslide"
    }
   },
   "source": [
    "In order to better structure our code below, it is useful to implement the steps above as a Python function, here called **opt_step**."
   ]
  },
  {
   "cell_type": "code",
   "execution_count": 13,
   "metadata": {
    "slideshow": {
     "slide_type": "subslide"
    }
   },
   "outputs": [],
   "source": [
    "def opt_step(k_grid, obj_fun, x0, a_ch, k_min, k_max, pm):     \n",
    "    \"\"\"\n",
    "    Function that loops over all states (= elements in k_grid) and solves the respective optimization problem (obj_fun, initial guess x0)\n",
    "    for a given vector of Chebyshev basis coefficients a_ch\n",
    "    -> uses Scipy's optimize module\n",
    "    \"\"\"\n",
    "    ## initialize policy and value functions\n",
    "    V = np.zeros(m)\n",
    "    Kp = np.zeros(m)\n",
    "    H = np.zeros(m)\n",
    "    \n",
    "    ## loop\n",
    "    for (ind, k) in enumerate(k_grid):\n",
    "    ## optimization step\n",
    "        res = scipy.optimize.minimize(obj_fun, x0, args = (k, a_ch, k_min, k_max, pm), method ='BFGS') \n",
    "        V[ind] = - res.fun\n",
    "        Kp[ind], H[ind] = np.exp( res.x )\n",
    "\n",
    "    return V, Kp, H"
   ]
  },
  {
   "cell_type": "markdown",
   "metadata": {
    "slideshow": {
     "slide_type": "subslide"
    }
   },
   "source": [
    "#### Fitting Step\n",
    "\n",
    "The optimization step returns the \"new\" value function $v_i$ - given the continuation value $\\beta \\hat{V}^{(k)}$ computed with the current guess $a^{(k)}$ - for each of the $m$ grid points $k_i$. \n",
    "\n",
    "Since **k_grid** was defined as a Chebyshev grid and the continuation value was approximated with a Chebyshev basis, we can use our **chebapprox** function on the data $\\{k_i, v_i:  1 \\le i \\le m\\}$ to find the \"new\" guess $a^{(k + 1)}$."
   ]
  },
  {
   "cell_type": "code",
   "execution_count": 14,
   "metadata": {
    "slideshow": {
     "slide_type": "-"
    }
   },
   "outputs": [],
   "source": [
    "a = fa.chebapprox(V, n)"
   ]
  },
  {
   "cell_type": "markdown",
   "metadata": {
    "slideshow": {
     "slide_type": "subslide"
    }
   },
   "source": [
    "#### Outer Loop\n",
    "\n",
    "As outlined in the algorithm above, we iterate on the optimization and on the fitting step until\n",
    "\n",
    "\\begin{equation}\n",
    "    \\epsilon(a^{(k)}, a^{(k + 1)}) \\le \\sqrt{\\epsilon_{DP}}\n",
    "\\end{equation}\n",
    "\n",
    "where $\\epsilon$ denotes the convergence criterion as a function of the new and current iterates for the basis coefficients."
   ]
  },
  {
   "cell_type": "markdown",
   "metadata": {
    "slideshow": {
     "slide_type": "subslide"
    }
   },
   "source": [
    "The easiest approach would be to compute the norm of the distance between $a^{(k)}$ and  $a^{(k + 1)}$:\n",
    "\n",
    "\\begin{equation}\n",
    "    \\epsilon(a^{(k)}, a^{(k + 1)}) = \\left|\\left|\\ a^{(k)} - a^{(k + 1)}\\ \\right|\\right|\n",
    "\\end{equation}\n"
   ]
  },
  {
   "cell_type": "markdown",
   "metadata": {
    "slideshow": {
     "slide_type": "subslide"
    }
   },
   "source": [
    "As in the other instances of iterative procedures that we have seen in previous lectures, we can use a **while** loop to iterate until the convergence criterion is sufficiently small. "
   ]
  },
  {
   "cell_type": "code",
   "execution_count": 15,
   "metadata": {
    "slideshow": {
     "slide_type": "subslide"
    }
   },
   "outputs": [
    {
     "name": "stdout",
     "output_type": "stream",
     "text": [
      "85 8.018930411734804e-09\n"
     ]
    }
   ],
   "source": [
    "## initialize initial guess for basis coefficients and optimization\n",
    "a_ch = a0.copy()\n",
    "x0 = (0, 0)\n",
    "\n",
    "eps = 1\n",
    "it = 0\n",
    "maxit = 100\n",
    "\n",
    "while eps > 1e-8 and it < maxit:\n",
    "    it += 1\n",
    "    ## optimization step\n",
    "    V, K, H = opt_step(k_grid, vf_rhs, x0, a_ch, k_min, k_max, params)\n",
    "    ## fitting step\n",
    "    a_new = fa.chebapprox(V, n)\n",
    "    ## compute convergence criterion\n",
    "    eps = np.linalg.norm(a_new - a_ch)\n",
    "    ## update coefficients\n",
    "    a_ch = a_new.copy()\n",
    "\n",
    "print(it, eps)"
   ]
  },
  {
   "cell_type": "markdown",
   "metadata": {
    "slideshow": {
     "slide_type": "subslide"
    }
   },
   "source": [
    "The following piece of code repeats this last step, while plotting the approximated value function for every iteration. \n",
    "\n",
    "The graph illustrates convergence, in the sense that the distance between two iterates of value function decreases in the number of iterations."
   ]
  },
  {
   "cell_type": "code",
   "execution_count": 16,
   "metadata": {
    "slideshow": {
     "slide_type": "skip"
    }
   },
   "outputs": [],
   "source": [
    "a_ch = a0.copy()\n",
    "eps = 1\n",
    "it = 0\n",
    "maxit = 100"
   ]
  },
  {
   "cell_type": "code",
   "execution_count": 17,
   "metadata": {
    "slideshow": {
     "slide_type": "subslide"
    }
   },
   "outputs": [
    {
     "data": {
      "image/png": "[encoded data removed]",
      "text/plain": [
       "<Figure size 432x288 with 1 Axes>"
      ]
     },
     "metadata": {
      "needs_background": "light"
     },
     "output_type": "display_data"
    }
   ],
   "source": [
    "fig, ax = plt.subplots()\n",
    "ax.plot(k_grid, V0)\n",
    "ax.set_xlabel('k')\n",
    "ax.set_ylabel('V')\n",
    "\n",
    "while eps > 1e-8 and it < maxit:\n",
    "    it += 1\n",
    "    ## optimization step\n",
    "    V, K, H = opt_step(k_grid, vf_rhs, x0, a_ch, k_min, k_max, params)\n",
    "    ax.plot(k_grid, V)\n",
    "    ## fitting step\n",
    "    a_new = fa.chebapprox(V, n)\n",
    "    ## compute convergence criterion\n",
    "    eps = np.linalg.norm(a_new - a_ch)\n",
    "    ## update coefficients\n",
    "    a_ch = a_new.copy()\n"
   ]
  },
  {
   "cell_type": "markdown",
   "metadata": {
    "slideshow": {
     "slide_type": "subslide"
    }
   },
   "source": [
    "#### Policy Functions and Simulation\n",
    "\n",
    "At this point, we have found the basis coefficients approximating the value function $V$ that satisfies the stationary Bellman equation. Recall that ultimately, we are interested in the optimal plan that solves the intertemporal optimization problem, here sequences over time for capital and labor. "
   ]
  },
  {
   "cell_type": "markdown",
   "metadata": {
    "slideshow": {
     "slide_type": "subslide"
    }
   },
   "source": [
    "One way to generate these optimal sequences is to derive and apply the policy functions, as introduced above. Denote the policy functions by $\\phi_k$ and $\\phi_h$, respectively. Hence, we have\n",
    "\n",
    "\\begin{align}\n",
    "    k_{t+1} = \\phi_k(k_t) \\\\\n",
    "    h_t = \\phi_h(k_t)\n",
    "\\end{align}"
   ]
  },
  {
   "cell_type": "markdown",
   "metadata": {
    "slideshow": {
     "slide_type": "subslide"
    }
   },
   "source": [
    "In line with how we defined the policy functions above, they are the solutions to the optimization problem on the RHS of Bellman equation, assuming that we have found the true value function:\n",
    "\n",
    "\\begin{equation}\n",
    "    V(k)  =  u(f(k, \\phi_h(k)) + (1 - \\delta) k - \\phi_k(k), \\phi_h(k)) + \\beta V(\\phi_k(k))\n",
    "\\end{equation}\n"
   ]
  },
  {
   "cell_type": "markdown",
   "metadata": {
    "slideshow": {
     "slide_type": "subslide"
    }
   },
   "source": [
    "When running the optimization step in the **opt_step** function above, we also kept track of the optimal capital and labor supply in the arrays **'K'** and **'H'**. \n",
    "\n",
    "Since by construction, the last iteration in our outer loop solved the optimization problem with (an approximation of) the true value functions, these arrays now contain the optimal control variables along our grid. "
   ]
  },
  {
   "cell_type": "markdown",
   "metadata": {
    "slideshow": {
     "slide_type": "subslide"
    }
   },
   "source": [
    "In other words, we have data $\\{k_i, \\phi_{k,i}:  1 \\le i \\le m\\}$ and $\\{k_i, \\phi_{h,i}:  1 \\le i \\le m\\}$, respectively. Hence, we can use function approximation to get the policy functions, again represented by a Chebyshev basis. "
   ]
  },
  {
   "cell_type": "code",
   "execution_count": 18,
   "metadata": {
    "slideshow": {
     "slide_type": "-"
    }
   },
   "outputs": [],
   "source": [
    "a_k = fa.chebapprox(K, n)\n",
    "a_h = fa.chebapprox(H, n)"
   ]
  },
  {
   "cell_type": "markdown",
   "metadata": {
    "slideshow": {
     "slide_type": "subslide"
    }
   },
   "source": [
    "As a final step, we can use these approximations to generate the optimal plan, i.e. the optimal sequences for $k_{t+1}$ and $h_t$ over time, for an arbitrary number of periods $T$. "
   ]
  },
  {
   "cell_type": "code",
   "execution_count": 19,
   "metadata": {
    "slideshow": {
     "slide_type": "subslide"
    }
   },
   "outputs": [],
   "source": [
    "## number of periods\n",
    "T = 30\n",
    "\n",
    "## initial capital stock\n",
    "k0 = 0.8\n",
    "\n",
    "## initialize arrays to keep track of time series\n",
    "kt = np.zeros(T+1)\n",
    "ht = np.zeros(T)"
   ]
  },
  {
   "cell_type": "code",
   "execution_count": 20,
   "metadata": {
    "slideshow": {
     "slide_type": "subslide"
    }
   },
   "outputs": [],
   "source": [
    "## initial capital stock is given\n",
    "kt[0] = k0\n",
    "\n",
    "## loop over time and use policy function approximations to fill kt and ht\n",
    "for t in range(T):\n",
    "    kt[t+1] = np.polynomial.chebyshev.chebval( \n",
    "                fa.chebconvert(kt[t], k_min, k_max), a_k )\n",
    "    ht[t] = np.polynomial.chebyshev.chebval( \n",
    "                fa.chebconvert(kt[t], k_min, k_max), a_h )"
   ]
  },
  {
   "cell_type": "code",
   "execution_count": 21,
   "metadata": {
    "slideshow": {
     "slide_type": "subslide"
    }
   },
   "outputs": [
    {
     "data": {
      "text/plain": [
       "<matplotlib.collections.LineCollection at 0x237c8ae4ac8>"
      ]
     },
     "execution_count": 21,
     "metadata": {},
     "output_type": "execute_result"
    },
    {
     "data": {
      "image/png": "[encoded data removed]",
      "text/plain": [
       "<Figure size 432x288 with 2 Axes>"
      ]
     },
     "metadata": {
      "needs_background": "light"
     },
     "output_type": "display_data"
    }
   ],
   "source": [
    "## plot optimal plans and check for convergence to steady state\n",
    "fig, ax = plt.subplots(2,1)\n",
    "ax[0].plot(range(T), kt[:-1])\n",
    "ax[0].hlines(kss, 0, T)\n",
    "ax[1].plot(range(T), ht)\n",
    "ax[1].hlines(hss, 0, T)    "
   ]
  },
  {
   "cell_type": "markdown",
   "metadata": {
    "collapsed": true,
    "slideshow": {
     "slide_type": "subslide"
    }
   },
   "source": [
    "### Final Remark\n",
    "\n",
    "The numerical algorithm presented above is just one way to implement dynamic programming/value function iteration. Other approaches are possible in particular with how to approximate the value function and how to implement the optimization step. \n",
    "\n",
    "In particular, easier algorithms may \"discretize\" the state space (i.e. compute the value function along a very dense grid for $k_i$) or use piecewise linear interpolation rather than Chebyshev polynomials (cp. problem set 5)."
   ]
  },
  {
   "cell_type": "markdown",
   "metadata": {
    "collapsed": true,
    "slideshow": {
     "slide_type": "subslide"
    }
   },
   "source": [
    "However, these methods may not only be considerably slower than the algorithm presented here, they can also be much less accurate. \n",
    "\n",
    "For most of the intertemporal optimization problems encountered in economics, the combination of (Chebyshev) polynomial approximation and Newton-based optimization methods (in contrast to, e.g., bisection or Nelder-Mead) is *the best we can do*."
   ]
  },
  {
   "cell_type": "markdown",
   "metadata": {
    "slideshow": {
     "slide_type": "skip"
    }
   },
   "source": [
    "-------------------------------------------------------------------------------------------------------------------------------\n",
    "<a id = 'appendix'></a>\n",
    "\n",
    "## Appendix "
   ]
  },
  {
   "cell_type": "markdown",
   "metadata": {
    "slideshow": {
     "slide_type": "skip"
    }
   },
   "source": [
    "### Principle of Optimality\n",
    "\n",
    "Start with the definition of the value function:\n",
    "\n",
    "\\begin{equation}\n",
    "    V^*(x_0)  = \\sum^\\infty_{t = 0} \\beta^t U(x^*_t, y^*_t) \n",
    "\\end{equation}\n",
    "\n",
    "Noting that the optimal state in the first period is constrained by the initial state, $x^*_0 = x_0$, the last expression can be rewritten as:\n",
    "\n",
    "\\begin{equation}\n",
    "\\begin{split}\n",
    "    V^*(x_0)  &= \\sum^\\infty_{t = 0} \\beta^t U(x^*_t, y^*_t) \\\\\n",
    "              &= U(x^*_0, y^*_0) + \\sum^\\infty_{t = 1} \\beta^t U(x^*_t, y^*_t) \\\\\n",
    "              &= U(x_0, y^*_0) + \\beta \\sum^\\infty_{t = 0} \\beta^t U(x^*_{t+1}, y^*_{t+1}) \n",
    "              &= U(x_0, y^*_0) + \\beta V^*(x^*_{1}) \n",
    "\\end{split}\n",
    "\\end{equation}"
   ]
  },
  {
   "cell_type": "markdown",
   "metadata": {
    "slideshow": {
     "slide_type": "skip"
    }
   },
   "source": [
    "This equation encapsulates the basic idea of dynamic programming: an optimal plan can be broken into two parts, the decision on what is optimal today (i.e. what maximizes the *current return*) and the *optimal continuation path*. \n",
    "\n",
    "Along this path, the remaining decisions must constitute an optimal policy with regard to the state resulting from the first decision ($x^*_{1}$). This is called the *Principle of Optimality*. "
   ]
  },
  {
   "cell_type": "markdown",
   "metadata": {
    "slideshow": {
     "slide_type": "skip"
    }
   },
   "source": [
    "Above we have stated the principle of optimality for the initial period. For a more general version, define the *set of feasible plans* as all plans that satisfy the constraints of the optimization problem when starting at an arbitrary state $x_t$:\n",
    "\n",
    "\\begin{equation}\n",
    "    \\Phi(x_t) = \\big\\{ \\{x_s, y_s\\}_{s = t}^\\infty: y_s \\in G(x_s), \\ x_{s + 1} = F(x_s, y_s) \\quad \\text{for}\\ s = t, t+1, ... \\big\\}\n",
    "\\end{equation}"
   ]
  },
  {
   "cell_type": "markdown",
   "metadata": {
    "slideshow": {
     "slide_type": "skip"
    }
   },
   "source": [
    "Moreover, make the following assumption:\n",
    "\n",
    "**Assumption**: $G(x)$ is non-empty for all $x \\in X$. Moreover, for all $x(0) \\in X$ and $\\{x_t, y_t\\}_{t = 0}^\\infty \\in \\Phi(x_0)$, $\\lim_{n \\rightarrow \\infty} \\sum^n_{t = 0} \\beta^t U(x_t, y_t)$ exists and is finite.\n",
    "\n",
    "In words, for any state, there is a feasible policy $y$. Moreover, in the limit, the discounted sum of per-period utilities does not converge to infinity."
   ]
  },
  {
   "cell_type": "markdown",
   "metadata": {
    "slideshow": {
     "slide_type": "skip"
    }
   },
   "source": [
    "We then have the following theorem.\n",
    "\n",
    "**Theorem (Principle of Optimality)**: Suppose the assumption above holds. Let $\\{x^*_t, y^*_t\\}_{t = 0}^\\infty \\in \\Phi(x_0)$ be a feasible plan that attains $V^*(x_0)$ in the sequential problem above.  Then, \n",
    "\n",
    "\\begin{equation}\n",
    "   V^*(x^*_t) = U(x^*_t, y^*_t) + \\beta V^*\\big(F(x^*_{t}, y^*_t)\\big) \n",
    "\\end{equation}\n",
    "\n",
    "for $t = 0, 1, ...$, with $x^*_0 = x_0$. Moreover, if any $\\{x^*_t, y^*_t\\}_{t = 0}^\\infty \\in \\Phi(x_0)$ satisfies this equation, then it attains the $V^*(x_0)$ in the sequential problem above."
   ]
  },
  {
   "cell_type": "markdown",
   "metadata": {
    "slideshow": {
     "slide_type": "skip"
    }
   },
   "source": [
    "The principle of optimality essentially says two things:\n",
    "\n",
    "- The highest possible value that can be attained starting from $x^*_t$ can be split up in two parts: the optimal current return, which is a function of the current state and control $(x^*_{t}, y^*_t)$ and an continuation value that depends on the future state $F(x^*_{t}, y^*_t)$. This statement by itself is almost trivial."
   ]
  },
  {
   "cell_type": "markdown",
   "metadata": {
    "slideshow": {
     "slide_type": "skip"
    }
   },
   "source": [
    "- The not-so-trivial part is that the continuation value is the highest possible value that can be attained starting from the state $F(x^*_{t}, y^*_t)$. While we are not going to strictly prove this, here is a heuristic argument. Suppose this were not the case and the continuation value were given by a function $\\tilde{V}$, with $\\tilde{V}\\big(F(x^*_{t}, y^*_t)\\big) < V^*\\big(F(x^*_{t}, y^*_t)\\big)$:\n",
    "\n",
    "\\begin{equation}\n",
    "   V^*(x^*_t) = U(x^*_t, y^*_t) + \\beta \\tilde{V}\\big(F(x^*_{t}, y^*_t)\\big) \n",
    "\\end{equation}"
   ]
  },
  {
   "cell_type": "markdown",
   "metadata": {
    "slideshow": {
     "slide_type": "skip"
    }
   },
   "source": [
    "In the subsequent period, by assumption, value $V^*\\big(F(x^*_{t}, y^*_t)\\big)$ can attained by choosing $y_{t +1}^*$. However, a higher continuation value implies that a higher value can be attained in the current period, contradicting the assumption that the highest possible value is $V^*(x^*_t)$."
   ]
  },
  {
   "cell_type": "markdown",
   "metadata": {
    "slideshow": {
     "slide_type": "skip"
    }
   },
   "source": [
    "### Equivalence of Values\n",
    "\n",
    "With respect to the Bellman equation being equivalent to the sequential problem, we need the following theorem.\n",
    "\n",
    "**Theorem (Equivalence of Values)**: Suppose the assumption above holds. Then for any $x \\in X$, any solution $V^*(x)$ to the sequential problem is also a solution to the Bellman equation\n",
    "\n",
    "\\begin{equation}\n",
    "    V(x)  =  \\max_{ y \\in G(x) }  U(x, y) + \\beta V\\big(F(x, y)\\big), \\quad \\forall x \\in X\n",
    "\\end{equation}\n",
    "\n",
    "Moreover, any solution $V(x)$ to the Bellman equation is also a solution to the sequential problem, so that $V^*(x) = V(x)$ for all $x \\in X$. "
   ]
  },
  {
   "cell_type": "markdown",
   "metadata": {
    "slideshow": {
     "slide_type": "skip"
    }
   },
   "source": [
    "This theorem establishes that the value functions defined by the sequential and the recursive formulation of the problem are equivalent. \n",
    "\n",
    "However, we are ultimately interested in equivalence with respect to the solutions. Recall that by the principle of optimality, any feasible solution $\\{x^*_t, y^*_t\\}_{t = 0}^\\infty$ to the sequential problem satisfies \n",
    "\n",
    "\\begin{equation}\n",
    "   V^*(x^*_t) = U(x^*_t, y^*_t) + \\beta V^*\\big(F(x^*_{t}, y^*_t)\\big). \n",
    "\\end{equation}"
   ]
  },
  {
   "cell_type": "markdown",
   "metadata": {
    "slideshow": {
     "slide_type": "skip"
    }
   },
   "source": [
    "Since we have just shown that $V^*(x) = V(x)$ for all $x \\in X$, we can write this as\n",
    "\n",
    "\\begin{equation}\n",
    "   V(x^*_t) = U(x^*_t, y^*_t) + \\beta V\\big(F(x^*_{t}, y^*_t)\\big). \n",
    "\\end{equation}"
   ]
  },
  {
   "cell_type": "markdown",
   "metadata": {
    "slideshow": {
     "slide_type": "skip"
    }
   },
   "source": [
    "Moreover, consider a feasible sequence $\\{\\hat{x}_t, \\hat{y}_t\\}_{t = 0}^\\infty \\in \\Phi(x_0)$ that satisfies the Bellman equation *for a given value function* $V$. That is, for any period $t$, $\\hat{y}_t$ is the solution to the right hand side for the Bellman equation given the state $\\hat{x}_t$. Hence, for all $t = 0, 1, ...$, we have \n",
    "\n",
    "\\begin{equation}\n",
    "    V(\\hat{x}_t)  =  U(\\hat{x}_t, \\hat{y}_t) + \\beta V\\big(F(\\hat{x}_t, \\hat{y}_t)\\big).\n",
    "\\end{equation}"
   ]
  },
  {
   "cell_type": "markdown",
   "metadata": {
    "slideshow": {
     "slide_type": "skip"
    }
   },
   "source": [
    "Comparing the last two expressions, we see that $\\{x^*_t, y^*_t\\}_{t = 0}^\\infty$ satisfies the Bellman equation, and hence any solution to the sequential problem is also a solution to the recursive formulation of the problem."
   ]
  },
  {
   "cell_type": "code",
   "execution_count": null,
   "metadata": {},
   "outputs": [],
   "source": []
  }
 ],
 "metadata": {
  "celltoolbar": "Slideshow",
  "kernelspec": {
   "display_name": "Python 3",
   "language": "python",
   "name": "python3"
  },
  "language_info": {
   "codemirror_mode": {
    "name": "ipython",
    "version": 3
   },
   "file_extension": ".py",
   "mimetype": "text/x-python",
   "name": "python",
   "nbconvert_exporter": "python",
   "pygments_lexer": "ipython3",
   "version": "3.7.5"
  }
 },
 "nbformat": 4,
 "nbformat_minor": 1
}
