{
 "cells": [
  {
   "cell_type": "markdown",
   "metadata": {},
   "source": [
    "Before you turn this problem in, make sure everything runs as expected. First, **restart the kernel** (in the menubar, select Kernel$\\rightarrow$Restart) and then **run all cells** (in the menubar, select Cell$\\rightarrow$Run All).\n",
    "\n",
    "Make sure you fill in any place that says `YOUR CODE HERE`, as well as your name below:"
   ]
  },
  {
   "cell_type": "code",
   "execution_count": null,
   "metadata": {},
   "outputs": [],
   "source": [
    "NAME = \"\""
   ]
  },
  {
   "cell_type": "markdown",
   "metadata": {},
   "source": [
    "Please save this notebook in a folder of the same name (`CME_PS` plus the corresponding number) and push it to your LRZ-Gitlab repository. Do not change the name of the notebook!"
   ]
  },
  {
   "cell_type": "markdown",
   "metadata": {},
   "source": [
    "Note: some of the cells below are locked, so you cannot change them, but you can evaluate them!"
   ]
  },
  {
   "cell_type": "markdown",
   "metadata": {},
   "source": [
    "---"
   ]
  },
  {
   "cell_type": "markdown",
   "metadata": {
    "deletable": false,
    "editable": false,
    "nbgrader": {
     "cell_type": "markdown",
     "checksum": "22949eea07e9e8eac223694ce3ca376d",
     "grade": false,
     "grade_id": "cell-766265bdb7b1d061",
     "locked": true,
     "schema_version": 3,
     "solution": false,
     "task": false
    }
   },
   "source": [
    "# Computational Methods in Economics (winter term 2019/20)\n",
    "\n",
    "## Problem Set 3"
   ]
  },
  {
   "cell_type": "markdown",
   "metadata": {
    "deletable": false,
    "editable": false,
    "nbgrader": {
     "cell_type": "markdown",
     "checksum": "988db8abc21c88367e6bd29d9f95af9a",
     "grade": false,
     "grade_id": "cell-aba41b2861a855b0",
     "locked": true,
     "schema_version": 3,
     "solution": false,
     "task": false
    }
   },
   "source": [
    "#### DEADLINE: Wednesday, December 11, 12 pm (Noon)"
   ]
  },
  {
   "cell_type": "markdown",
   "metadata": {
    "deletable": false,
    "editable": false,
    "nbgrader": {
     "cell_type": "markdown",
     "checksum": "15b51670fb9fb8293c442739967fe67b",
     "grade": false,
     "grade_id": "cell-2ca9aa5782909f87",
     "locked": true,
     "schema_version": 3,
     "solution": false,
     "task": false
    }
   },
   "source": [
    "### Preliminaries\n",
    "\n",
    "#### Import Modules"
   ]
  },
  {
   "cell_type": "code",
   "execution_count": null,
   "metadata": {
    "deletable": false,
    "editable": false,
    "nbgrader": {
     "cell_type": "code",
     "checksum": "f7372cea0688a896b96301755048c698",
     "grade": false,
     "grade_id": "cell-8074bc2d1f52c6f1",
     "locked": true,
     "schema_version": 3,
     "solution": false,
     "task": false
    }
   },
   "outputs": [],
   "source": [
    "import numpy as np\n",
    "import scipy.linalg\n",
    "import scipy.optimize\n",
    "\n",
    "import matplotlib.pyplot as plt\n",
    "%matplotlib inline"
   ]
  },
  {
   "cell_type": "markdown",
   "metadata": {
    "deletable": false,
    "editable": false,
    "nbgrader": {
     "cell_type": "markdown",
     "checksum": "91ed503d7253d03b176b9603db75806f",
     "grade": false,
     "grade_id": "cell-e5318083ca87a69d",
     "locked": true,
     "schema_version": 3,
     "solution": false,
     "task": false
    }
   },
   "source": [
    "## Question 1\n",
    "\n",
    "Write a function **mybisect(f, a, b)** in Python that implements the pseudo-code for the bisection method from the lecture, with initial interval **[a,b]**. DO NOT USE SciPy's in-built function! \n",
    "\n",
    "*Hint*: Consider using the **abs()** and **np.sign()** functions.  "
   ]
  },
  {
   "cell_type": "code",
   "execution_count": null,
   "metadata": {
    "deletable": false,
    "nbgrader": {
     "cell_type": "code",
     "checksum": "5154d72c2287d837b9f13b3ede25a3af",
     "grade": false,
     "grade_id": "cell-dfd87f0c7e1141f9",
     "locked": false,
     "schema_version": 3,
     "solution": true,
     "task": false
    }
   },
   "outputs": [],
   "source": [
    "def mybisect(fun, a, b):\n",
    "    \"\"\"\n",
    "    Implements the bisection method\n",
    "    \n",
    "    (fun, float, float) -> float\n",
    "    \"\"\"\n",
    "    # YOUR CODE HERE"
   ]
  },
  {
   "cell_type": "code",
   "execution_count": null,
   "metadata": {
    "deletable": false,
    "editable": false,
    "nbgrader": {
     "cell_type": "code",
     "checksum": "16978f80c7668df09e671a422a294227",
     "grade": true,
     "grade_id": "cell-49f6e765c0738985",
     "locked": true,
     "points": 2,
     "schema_version": 3,
     "solution": false,
     "task": false
    }
   },
   "outputs": [],
   "source": [
    "# test function\n",
    "def fun(x):\n",
    "    return np.sin(4 * (x - 0.25)) + x + x**20 - 1\n",
    "\n",
    "assert np.allclose(mybisect(fun, 0, 2), 0.408293504267931)"
   ]
  },
  {
   "cell_type": "code",
   "execution_count": null,
   "metadata": {
    "deletable": false,
    "editable": false,
    "nbgrader": {
     "cell_type": "code",
     "checksum": "67517c415f780e21a5f52d939b6ec1fe",
     "grade": true,
     "grade_id": "cell-b0a9f8ade13be356",
     "locked": true,
     "points": 2,
     "schema_version": 3,
     "solution": false,
     "task": false
    }
   },
   "outputs": [],
   "source": [
    "# THIS IS A TEST CELL!"
   ]
  },
  {
   "cell_type": "markdown",
   "metadata": {
    "deletable": false,
    "editable": false,
    "nbgrader": {
     "cell_type": "markdown",
     "checksum": "d668a4b471d1a9f79708cf841bea9268",
     "grade": false,
     "grade_id": "cell-ce6efe884ace727e",
     "locked": true,
     "schema_version": 3,
     "solution": false,
     "task": false
    }
   },
   "source": [
    "## Question 2\n",
    "\n",
    "In this question, we use Newton's method to solve a Cournot duopoly. There two firms producing $q_i$ units of a good, for $i = 1,2$. Their production cost are given by:\n",
    "\n",
    "$$\n",
    "C_i(q_i) = 0.5c_i q_i^2.\n",
    "$$\n",
    "\n",
    "The inverse demand in the market is given by \n",
    "\n",
    "$$\n",
    "P(q) = q^{-1/\\eta} = (q_1 + q_2)^{-1/\\eta}.\n",
    "$$\n",
    "\n",
    "Hence, the profit of firm $i$ depends on the quantity produced by the other firm, and vice versa:\n",
    "\n",
    "$$\n",
    "  \\pi_i(q_1, q_2) = P(q_1 + q_2)q_i - C_i(q_i)\n",
    "$$  \n",
    "\n",
    "Taking first-order conditions gives the following equilibrium condition for firm $i$:\n",
    "\n",
    "$$\n",
    "   \\partial \\pi_i / \\partial q_i = 0 = P(q_1 + q_2) + P'(q_1 + q_2) q_i - C_i'(q_i) \\equiv \\phi_i(q_1, q_2)\n",
    "$$    \n",
    "\n",
    "Hence, the equilibrium can be characterized by a system of non-linear equations: \n",
    "\n",
    "$$\n",
    "    \\phi(q_1, q_2) = \\begin{bmatrix} \\phi_1(q_1, q_2) \\\\\n",
    "                                     \\phi_2(q_1, q_2) \\end{bmatrix} = \n",
    "                     \\begin{bmatrix} 0 \\\\\n",
    "                                     0 \\end{bmatrix}\n",
    "$$                                     \n",
    "                                     \n",
    "\n",
    "(a) Write a function **cournot** that implements the system of non-linear equations above. As inputs, it takes an array **q = [q_1, q_2]**, an array **c = [c_1, c_2]**, and a scalar **eta** ($=\\eta$).\n",
    "\n",
    "(b) Write a function **cournot_J** that takes the same inputs as **cournot** and implements the Jacobian of the system.\n",
    "\n",
    "(c) Write a function **my_newton** that takes an array **q** (initial guess), two functions **cournot** and **cournot_J**, as well as **c** and **eta**, as inputs and solves for the Cournot equilibrium. Make sure that your algorithm does not run indefinitely by including an upper bound for the number of iterations (**maxit**)."
   ]
  },
  {
   "cell_type": "code",
   "execution_count": null,
   "metadata": {
    "deletable": false,
    "nbgrader": {
     "cell_type": "code",
     "checksum": "dab2481755b8a936c90fa013bdf3101c",
     "grade": false,
     "grade_id": "cell-2c1ac520f97d2706",
     "locked": false,
     "schema_version": 3,
     "solution": true,
     "task": false
    }
   },
   "outputs": [],
   "source": [
    "## (a)\n",
    "\n",
    "def cournot(q, c, eta):\n",
    "    \"\"\"\n",
    "    Implements the Cournot duopoly as a system of non-linear equations in two unknowns\n",
    "   \n",
    "    ((2,) np.array, (2,) np.array, float) -> (2,) np.array   \n",
    "    \"\"\"\n",
    "    # YOUR CODE HERE"
   ]
  },
  {
   "cell_type": "code",
   "execution_count": null,
   "metadata": {
    "deletable": false,
    "editable": false,
    "nbgrader": {
     "cell_type": "code",
     "checksum": "885d4cd85bd085611a403ad532af925d",
     "grade": true,
     "grade_id": "cell-8fecc31b05e3d051",
     "locked": true,
     "points": 1,
     "schema_version": 3,
     "solution": false,
     "task": false
    }
   },
   "outputs": [],
   "source": [
    "assert np.allclose( cournot([2, 2], [0.5, 0.5], 1.5), np.array([-0.73543316, -0.73543316]))"
   ]
  },
  {
   "cell_type": "code",
   "execution_count": null,
   "metadata": {
    "deletable": false,
    "editable": false,
    "nbgrader": {
     "cell_type": "code",
     "checksum": "fa955241379864c28ee4227328fc54ff",
     "grade": true,
     "grade_id": "cell-c137a981fab3209e",
     "locked": true,
     "points": 1,
     "schema_version": 3,
     "solution": false,
     "task": false
    }
   },
   "outputs": [],
   "source": [
    "# THIS IS A TEST CELL!"
   ]
  },
  {
   "cell_type": "code",
   "execution_count": null,
   "metadata": {
    "deletable": false,
    "nbgrader": {
     "cell_type": "code",
     "checksum": "3f705f3a1adef259699b43e63623ccea",
     "grade": false,
     "grade_id": "cell-591be21fc581dbb9",
     "locked": false,
     "schema_version": 3,
     "solution": true,
     "task": false
    }
   },
   "outputs": [],
   "source": [
    "## (b)\n",
    "\n",
    "def cournot_J(q, c, eta):\n",
    "    \"\"\"\n",
    "    Implements the Jacobian of the Cournot duopoly model \n",
    "    \n",
    "    ((2, 2) np.array, (2, 2) np.array, float) -> (2, 2) np.array  \n",
    "    \"\"\"\n",
    "    # YOUR CODE HERE"
   ]
  },
  {
   "cell_type": "code",
   "execution_count": null,
   "metadata": {
    "deletable": false,
    "editable": false,
    "nbgrader": {
     "cell_type": "code",
     "checksum": "1692761c382c11a3c2e4fb227f616d5b",
     "grade": true,
     "grade_id": "cell-9e29c2b7f1913e1d",
     "locked": true,
     "points": 1,
     "schema_version": 3,
     "solution": false,
     "task": false
    }
   },
   "outputs": [],
   "source": [
    "assert np.allclose(cournot_J([2, 2], [0.5, 0.5], 1.5), np.array([[-0.57716533, -0.01102362],\n",
    "                                               [-0.01102362, -0.57716533]]))"
   ]
  },
  {
   "cell_type": "code",
   "execution_count": null,
   "metadata": {
    "deletable": false,
    "editable": false,
    "nbgrader": {
     "cell_type": "code",
     "checksum": "cbc273b83010b6acb0d7c46659787fa7",
     "grade": true,
     "grade_id": "cell-0850651107a4c5ba",
     "locked": true,
     "points": 2,
     "schema_version": 3,
     "solution": false,
     "task": false
    }
   },
   "outputs": [],
   "source": [
    "# THIS IS A TEST CELL!"
   ]
  },
  {
   "cell_type": "code",
   "execution_count": null,
   "metadata": {
    "deletable": false,
    "nbgrader": {
     "cell_type": "code",
     "checksum": "2032d323caeddc802062c9b1dc89c8cb",
     "grade": false,
     "grade_id": "cell-d240145a9f7132cd",
     "locked": false,
     "schema_version": 3,
     "solution": true,
     "task": false
    }
   },
   "outputs": [],
   "source": [
    "## (c)\n",
    "\n",
    "def my_newton(q, cournot, cournot_J, c, eta, maxit = 1000):\n",
    "    \"\"\"\n",
    "    Implements Newton's method for a vector-valued function\n",
    "    \n",
    "    ((2,) np.array, fun, fun, (2,) np.array, float) -> (2,) np.array\n",
    "    \"\"\"    \n",
    "    # YOUR CODE HERE"
   ]
  },
  {
   "cell_type": "code",
   "execution_count": null,
   "metadata": {
    "deletable": false,
    "editable": false,
    "nbgrader": {
     "cell_type": "code",
     "checksum": "b103f9642ccf88da55cd839b1182c210",
     "grade": true,
     "grade_id": "cell-62ac4fa62f5046d9",
     "locked": true,
     "points": 2,
     "schema_version": 3,
     "solution": false,
     "task": false
    }
   },
   "outputs": [],
   "source": [
    "# THIS IS A TEST CELL!"
   ]
  },
  {
   "cell_type": "markdown",
   "metadata": {
    "deletable": false,
    "editable": false,
    "nbgrader": {
     "cell_type": "markdown",
     "checksum": "42f9cad297571abbe99164bb4cde72c6",
     "grade": false,
     "grade_id": "cell-406823d98de3815b",
     "locked": true,
     "schema_version": 3,
     "solution": false,
     "task": false
    }
   },
   "source": [
    "## Question 3 (N)"
   ]
  },
  {
   "cell_type": "markdown",
   "metadata": {
    "collapsed": true,
    "deletable": false,
    "editable": false,
    "nbgrader": {
     "cell_type": "markdown",
     "checksum": "c78bd7f2e5960bb48cc0c1ab2f7dfd34",
     "grade": false,
     "grade_id": "cell-f54162932408bdd1",
     "locked": true,
     "schema_version": 3,
     "solution": false,
     "task": false
    }
   },
   "source": [
    "Write a function **mysecant(f, x)** in Python that implements the pseudo-code for the secant method from the lecture. Again, test it on the function $f$ and compare the result to question 1. Make sure that your algorithm does not run indefinitely by including an upper bound for the number of iterations (**maxit**)."
   ]
  },
  {
   "cell_type": "code",
   "execution_count": null,
   "metadata": {
    "deletable": false,
    "nbgrader": {
     "cell_type": "code",
     "checksum": "afa7f2b0a7e472fe2781b2beddfd1d5c",
     "grade": false,
     "grade_id": "cell-c4db5a1dddf53e91",
     "locked": false,
     "schema_version": 3,
     "solution": true,
     "task": false
    }
   },
   "outputs": [],
   "source": [
    "def my_secant(fun, x, maxit = 100):\n",
    "    \"\"\"\n",
    "    Implements the secant method for a univariate scalar function\n",
    "    \n",
    "    (fun, float) -> float\n",
    "    \"\"\"        \n",
    "    # YOUR CODE HERE\n",
    "        "
   ]
  },
  {
   "cell_type": "code",
   "execution_count": null,
   "metadata": {
    "deletable": false,
    "editable": false,
    "nbgrader": {
     "cell_type": "code",
     "checksum": "454a68c7e5af7ec3d74f8377d6a60a88",
     "grade": true,
     "grade_id": "cell-a0bb83da71c0217e",
     "locked": true,
     "points": 2,
     "schema_version": 3,
     "solution": false,
     "task": false
    }
   },
   "outputs": [],
   "source": [
    "# test function\n",
    "def fun(x):\n",
    "    return np.sin(4 * (x - 0.25)) + x + x**20 - 1\n",
    "\n",
    "assert np.allclose(my_secant(fun, 0.01), 0.408293504267931)"
   ]
  },
  {
   "cell_type": "code",
   "execution_count": null,
   "metadata": {
    "deletable": false,
    "editable": false,
    "nbgrader": {
     "cell_type": "code",
     "checksum": "66271f8ea87289ca6862975b466106f7",
     "grade": true,
     "grade_id": "cell-e91987b7c4778bc9",
     "locked": true,
     "points": 2,
     "schema_version": 3,
     "solution": false,
     "task": false
    }
   },
   "outputs": [],
   "source": [
    "# THIS IS A TEST CELL!"
   ]
  },
  {
   "cell_type": "markdown",
   "metadata": {
    "deletable": false,
    "editable": false,
    "nbgrader": {
     "cell_type": "markdown",
     "checksum": "0dffb8f649d2f86fd7ccf6238d0de197",
     "grade": false,
     "grade_id": "cell-ffdecd19f528ea83",
     "locked": true,
     "schema_version": 3,
     "solution": false,
     "task": false
    }
   },
   "source": [
    "## Question 4\n",
    "\n",
    "Consider the neoclassical growth model from the lecture. In this question, we extend it so that the production function contains *energy* $m_t$ as a third production factor in addition to capital and labor. Hence, output is given by\n",
    "\n",
    "\\begin{equation}\n",
    "    y_t = f(k_t, h_{y,t}, m_t) = A k_t^\\alpha m_t^\\gamma h_{y,t}^{1-\\alpha-\\gamma}\n",
    "\\end{equation}\n",
    "\n",
    "Energy is itself produced by using a part of the labor supply:\n",
    "\n",
    "\\begin{equation}\n",
    "    m_t = \\rho h_{m,t}\n",
    "\\end{equation}\n",
    "\n",
    "which implies that one unit of labor supply creates $\\rho$ units of energy.\n",
    "\n",
    "Solve for the steady state of the planner problem numerically. Note that lifetime utility is still given by \n",
    "\n",
    "\\begin{equation}\n",
    "    u(c_t, h_t) = \\frac{c^{1-\\nu}}{1-\\nu} - B \\frac{h_t^{1+\\eta}}{1+\\eta}\n",
    "\\end{equation}\n",
    "\n",
    "with $h_t = h_{y,t} + h_{m,t}$. Use the parameter values from the lecture, and $\\gamma = 0.05$ and $\\rho = 0.9$. \n",
    "\n",
    "Proceed in the following steps:\n",
    "\n",
    "(a) Define a dictionary named **param** that contains the name of the parameters as keys and the parameter values as values. Include **alpha**, **beta**, **gamma**, **delta**, **nu**, **eta**, **rho**, **A** and **B**. \n",
    "\n",
    "(b) Define a function **cd** that takes as inputs a flat array with length 3 and a dictionary, and implements the Cobb-Douglas production function. Similarly, define a function **cd_diff** that takes the same inputs as **cd** and returns the derivatives of the Cobb-Douglas function with respect to each of the three production factors.\n",
    "\n",
    "(c) Define a function **steady** that takes as inputs a flat array with length 3, a dictionary, as well as two functions, corresponding to **cd** and **cd_diff** defined in question (b), and implements the steady-state conditions of the model as a system of linear equations. Make sure that the function considers only *non-negative* quantities of $k$, $h_y$ and $h_m$. \n",
    "\n",
    "(d) Define a function **solve_steady** that takes as inputs a function (corresponding to **steady** defined in question (c)) plus the inputs that **steady** takes, and returns an array with the steady state values of $k$, $h_y$ and $h_m$ (in this order!)."
   ]
  },
  {
   "cell_type": "code",
   "execution_count": null,
   "metadata": {
    "deletable": false,
    "nbgrader": {
     "cell_type": "code",
     "checksum": "7a680e099355e97e0026b83eba3b66a3",
     "grade": false,
     "grade_id": "cell-a494080df5d5451b",
     "locked": false,
     "schema_version": 3,
     "solution": true,
     "task": false
    }
   },
   "outputs": [],
   "source": [
    "## (a)\n",
    "\n",
    "# YOUR CODE HERE"
   ]
  },
  {
   "cell_type": "code",
   "execution_count": null,
   "metadata": {
    "deletable": false,
    "editable": false,
    "nbgrader": {
     "cell_type": "code",
     "checksum": "a46e83308191569a929ebfc854d1ef0c",
     "grade": true,
     "grade_id": "cell-5085d5b34f8670e2",
     "locked": true,
     "points": 2,
     "schema_version": 3,
     "solution": false,
     "task": false
    }
   },
   "outputs": [],
   "source": [
    "# THIS IS A TEST CELL!"
   ]
  },
  {
   "cell_type": "code",
   "execution_count": null,
   "metadata": {
    "deletable": false,
    "nbgrader": {
     "cell_type": "code",
     "checksum": "a82d5cccdb1e5d363213c1e65c27032f",
     "grade": false,
     "grade_id": "cell-83431f12a3184874",
     "locked": false,
     "schema_version": 3,
     "solution": true,
     "task": false
    }
   },
   "outputs": [],
   "source": [
    "## (b)\n",
    "def cd(x, param):\n",
    "    \"\"\"\n",
    "    Evaluates the Cobb-Douglas function with coefficient alpha and shift parameter A, for two inputs (x)\n",
    "    \n",
    "    ((3,) np.array, dict) -> float   \n",
    "    \"\"\"\n",
    "    # YOUR CODE HERE\n",
    "\n",
    "def cd_diff(x, param):\n",
    "    \"\"\"\n",
    "    Returns the first derivative of the cobb douglas wrt k, hy and hm\n",
    "    \n",
    "    ((3,) np.array, dict) -> (3,) np.array\n",
    "    \"\"\"\n",
    "    # YOUR CODE HERE"
   ]
  },
  {
   "cell_type": "code",
   "execution_count": null,
   "metadata": {
    "deletable": false,
    "editable": false,
    "nbgrader": {
     "cell_type": "code",
     "checksum": "6bd3f92f73890c1f58b6631fcb23d09d",
     "grade": true,
     "grade_id": "cell-daee54686b599ccc",
     "locked": true,
     "points": 1,
     "schema_version": 3,
     "solution": false,
     "task": false
    }
   },
   "outputs": [],
   "source": [
    "## NOTE: running this test cell assumes that you have defined a dictionary named \"param\" that contains the parameter values\n",
    "x = np.array([2, 0.1, 0.8])\n",
    "cd(x, param)\n",
    "assert np.allclose(cd(x, param), 0.19710389502522407) "
   ]
  },
  {
   "cell_type": "code",
   "execution_count": null,
   "metadata": {
    "deletable": false,
    "editable": false,
    "nbgrader": {
     "cell_type": "code",
     "checksum": "1443afd98724ae5e4ed1d5d685d4b09a",
     "grade": true,
     "grade_id": "cell-2d5d0c09e25d68db",
     "locked": true,
     "points": 2,
     "schema_version": 3,
     "solution": false,
     "task": false
    }
   },
   "outputs": [],
   "source": [
    "# THIS IS A TEST CELL!"
   ]
  },
  {
   "cell_type": "code",
   "execution_count": null,
   "metadata": {
    "deletable": false,
    "nbgrader": {
     "cell_type": "code",
     "checksum": "11891ac13f45fcbf3d70b80f070520d3",
     "grade": false,
     "grade_id": "cell-ec083ca409fb0de6",
     "locked": false,
     "schema_version": 3,
     "solution": true,
     "task": false
    }
   },
   "outputs": [],
   "source": [
    "## (c)\n",
    "\n",
    "def steady(x, param, cd, cd_diff):\n",
    "    \"\"\"\n",
    "    Returns the vector-valued function consisting of the steady-state conditions \n",
    "    \n",
    "    ((3,) np.array, dict, fun, fun) -> (3,) np.array\n",
    "    \"\"\"\n",
    "    # YOUR CODE HERE"
   ]
  },
  {
   "cell_type": "code",
   "execution_count": null,
   "metadata": {
    "deletable": false,
    "editable": false,
    "nbgrader": {
     "cell_type": "code",
     "checksum": "420c948579ec1cffd02e40686c3f4a61",
     "grade": true,
     "grade_id": "cell-01ef6fd294781eb2",
     "locked": true,
     "points": 3,
     "schema_version": 3,
     "solution": false,
     "task": false
    }
   },
   "outputs": [],
   "source": [
    "# THIS IS A TEST CELL!"
   ]
  },
  {
   "cell_type": "code",
   "execution_count": null,
   "metadata": {
    "deletable": false,
    "nbgrader": {
     "cell_type": "code",
     "checksum": "736422acbf7068824205dce8daf6aae0",
     "grade": false,
     "grade_id": "cell-9f0a4d6e4d75e42b",
     "locked": false,
     "schema_version": 3,
     "solution": true,
     "task": false
    }
   },
   "outputs": [],
   "source": [
    "## (d)\n",
    "\n",
    "def solve_steady(steady, x0, param, cd, cd_diff):\n",
    "    '''\n",
    "    Solces for the steady state of the NGM\n",
    "    \n",
    "    ((3,)np.array, fun, dict, fun, fun) -> (3,)np.array\n",
    "    '''\n",
    "    # YOUR CODE HERE\n"
   ]
  },
  {
   "cell_type": "code",
   "execution_count": null,
   "metadata": {
    "deletable": false,
    "editable": false,
    "nbgrader": {
     "cell_type": "code",
     "checksum": "a4430834738b980b32385f34b9ce68a1",
     "grade": true,
     "grade_id": "cell-ea5ec34d88b8671b",
     "locked": true,
     "points": 2,
     "schema_version": 3,
     "solution": false,
     "task": false
    }
   },
   "outputs": [],
   "source": [
    "# THIS IS A TEST CELL"
   ]
  },
  {
   "cell_type": "markdown",
   "metadata": {
    "deletable": false,
    "editable": false,
    "nbgrader": {
     "cell_type": "markdown",
     "checksum": "20e49987e88da8db060e265b48c64fe8",
     "grade": false,
     "grade_id": "cell-e57ed4d543433cdb",
     "locked": true,
     "schema_version": 3,
     "solution": false,
     "task": false
    }
   },
   "source": [
    "-------------------------------------------------------------------------------------------------------------------------------"
   ]
  },
  {
   "cell_type": "markdown",
   "metadata": {
    "deletable": false,
    "editable": false,
    "nbgrader": {
     "cell_type": "markdown",
     "checksum": "09970720b8a53e3c7c280984fe7051fe",
     "grade": false,
     "grade_id": "cell-15c3345bd9a4a110",
     "locked": true,
     "schema_version": 3,
     "solution": false,
     "task": false
    }
   },
   "source": [
    "## Appendix"
   ]
  },
  {
   "cell_type": "markdown",
   "metadata": {
    "deletable": false,
    "editable": false,
    "nbgrader": {
     "cell_type": "markdown",
     "checksum": "50d2aab156942906b444e74c4cc3658a",
     "grade": false,
     "grade_id": "cell-43c3df3c8d23e811",
     "locked": true,
     "schema_version": 3,
     "solution": false,
     "task": false
    }
   },
   "source": [
    "### Question A.1\n",
    "\n",
    "(a) Show that the update rule for $A^{(k+1)}$ used in Broyden's method,\n",
    "\n",
    "\\begin{equation}\n",
    " A^{(k+1)} = A^{(k)} + \\frac{ \\left( \\mathbf{f}(\\mathbf{x}^{(k+1)}) - \\mathbf{f}(\\mathbf{x}^{(k)}) - A^{(k)} \\mathbf{p}^{(k)} \\right) (\\mathbf{p}^{(k)})^T}{(\\mathbf{p}^{(k)})^T \\mathbf{p}^{(k)}}\n",
    "\\end{equation}\n",
    "\n",
    "satisfies the secant condition,\n",
    "\n",
    "\\begin{equation}\n",
    " A^{(k+1)} \\mathbf{p}^{(k)} = \\mathbf{f}(\\mathbf{x}^{(k+1)}) - \\mathbf{f}(\\mathbf{x}^{(k)}).\n",
    "\\end{equation}\n",
    "\n",
    " and\n",
    "\n",
    "\\begin{equation}\n",
    " A^{(k+1)} \\mathbf{q} = A^{(k)} \\mathbf{q}\\ \\ \\text{for}\\ \\ \\mathbf{q}^{T} \\mathbf{p}^{(k)} = 0\n",
    "\\end{equation}.\n",
    "\n",
    "(b) To prepare question (c), Show that for any vector $\\mathbf{p} \\in \\mathbb{R}^n$, we have \n",
    "\n",
    "\\begin{equation}\n",
    "    \\left| \\left| \\frac{\\mathbf{p}\\ \\mathbf{p}^T}{\\mathbf{p}^T \\mathbf{p} } \\right| \\right| = 1\n",
    "\\end{equation}\n",
    "\n",
    "\n",
    "(c) Using the result from question (b), show that\n",
    "\n",
    "\\begin{equation}\n",
    " A^{(k+1)} \\in \\arg \\min_{A :\\ A \\mathbf{p}^{(k)} = \\mathbf{f}(\\mathbf{x}^{(k+1)}) - \\mathbf{f}(\\mathbf{x}^{(k)})} ||\\ A - A^{(k)} ||\n",
    "\\end{equation}\n",
    "\n",
    "Hint: Use the update rule in (a) to rewrite the distance $||\\ A^{(k+1)}  - A^{(k)} ||$."
   ]
  }
 ],
 "metadata": {
  "kernelspec": {
   "display_name": "Python 3",
   "language": "python",
   "name": "python3"
  },
  "language_info": {
   "codemirror_mode": {
    "name": "ipython",
    "version": 3
   },
   "file_extension": ".py",
   "mimetype": "text/x-python",
   "name": "python",
   "nbconvert_exporter": "python",
   "pygments_lexer": "ipython3",
   "version": "3.7.5"
  }
 },
 "nbformat": 4,
 "nbformat_minor": 1
}
