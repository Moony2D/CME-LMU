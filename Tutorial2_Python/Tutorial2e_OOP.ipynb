{
 "cells": [
  {
   "cell_type": "markdown",
   "metadata": {
    "slideshow": {
     "slide_type": "slide"
    }
   },
   "source": [
    "# Computational Methods in Economics\n",
    "\n",
    "## Tutorial 2e - Object-Oriented Programming"
   ]
  },
  {
   "cell_type": "code",
   "execution_count": 1,
   "metadata": {
    "slideshow": {
     "slide_type": "skip"
    }
   },
   "outputs": [
    {
     "name": "stdout",
     "output_type": "stream",
     "text": [
      "Last update: 2019-12-18 11:46:35.572166\n"
     ]
    }
   ],
   "source": [
    "# Author: Alex Schmitt (schmitt@ifo.de)\n",
    "\n",
    "import datetime\n",
    "print('Last update: ' + str(datetime.datetime.today()))"
   ]
  },
  {
   "cell_type": "code",
   "execution_count": 2,
   "metadata": {
    "slideshow": {
     "slide_type": "skip"
    }
   },
   "outputs": [],
   "source": [
    "import numpy as np\n",
    "from sklearn.linear_model import LinearRegression\n",
    "\n",
    "from turtle import *\n",
    "from shapes import *\n",
    "from random import randint\n",
    "\n",
    "import webbrowser\n",
    "\n",
    "from importlib import reload"
   ]
  },
  {
   "cell_type": "markdown",
   "metadata": {
    "slideshow": {
     "slide_type": "slide"
    }
   },
   "source": [
    "## This Lecture\n",
    "\n",
    "- [Introduction](#intro)\n",
    "- [Writing Your Own Class](#own)\n",
    "- [Appendix: Defining an Economic Model as a Class](#df)"
   ]
  },
  {
   "cell_type": "markdown",
   "metadata": {
    "slideshow": {
     "slide_type": "skip"
    }
   },
   "source": [
    "----------------------------------------------------------------------------------------------------------------------"
   ]
  },
  {
   "cell_type": "markdown",
   "metadata": {
    "slideshow": {
     "slide_type": "slide"
    }
   },
   "source": [
    "### Introduction\n",
    "\n",
    "In the context of scikit-learn, we have encountered and used examples of *classes*. Recall the notation, e.g. for the **LinearRegression()** class:"
   ]
  },
  {
   "cell_type": "code",
   "execution_count": 3,
   "metadata": {
    "slideshow": {
     "slide_type": "-"
    }
   },
   "outputs": [],
   "source": [
    "## call instance of LinearRegression()\n",
    "lr = LinearRegression()\n",
    "## use a method -> not applicable here, since we do not have data \n",
    "# lr.fit(X, y)\n",
    "## check attributes\n",
    "# lr.coef_"
   ]
  },
  {
   "cell_type": "markdown",
   "metadata": {
    "slideshow": {
     "slide_type": "subslide"
    }
   },
   "source": [
    "In the example above, **LinearRegression()** is the name of the class; calling the first line defines an *instance* of this class under the name **lr**. "
   ]
  },
  {
   "cell_type": "markdown",
   "metadata": {
    "slideshow": {
     "slide_type": "subslide"
    }
   },
   "source": [
    "You can think of a class like the *blueprint*, e.g. for a house; that is, a recipe that tells you how to build, what goes where and so on. In this analogy, an instance would then be an actual house, built following the blueprint.\n",
    "\n",
    "Classes are a very important concept in the context of *object-oriented programming (OOP)*. "
   ]
  },
  {
   "cell_type": "markdown",
   "metadata": {
    "slideshow": {
     "slide_type": "subslide"
    }
   },
   "source": [
    "From Wikipedia: \"OOP is a programming paradigm based on the concept of \"objects\", which may contain data, in the form of fields, often known as *attributes*; and code, in the form of procedures, often known as *methods*. A feature of objects is that an object's procedures can access and often modify the data fields of the object with which they are associated (*objects have a notion of \"this\" or \"self\"*). \n",
    "\n",
    "[...] There is significant diversity of OOP languages, but the most popular ones are *class-based*, meaning that objects are instances of classes, which typically also determine their type.\""
   ]
  },
  {
   "cell_type": "markdown",
   "metadata": {
    "slideshow": {
     "slide_type": "subslide"
    }
   },
   "source": [
    "We have encountered a number of variable types that fit this description of objects. For example, consider a NumPy array: it obviously contains data, and it has attributes (e.g. **.shape**) and methods (e.g. **.mean()**) associated with it.\n",
    "\n",
    "There are also methods that can directly modify the attributes of a NumPy attributes, e.g. **.resize()**."
   ]
  },
  {
   "cell_type": "code",
   "execution_count": 4,
   "metadata": {
    "slideshow": {
     "slide_type": "subslide"
    }
   },
   "outputs": [
    {
     "name": "stdout",
     "output_type": "stream",
     "text": [
      "(2, 2)\n",
      "(4, 1)\n",
      "[[1]\n",
      " [2]\n",
      " [3]\n",
      " [4]]\n"
     ]
    }
   ],
   "source": [
    "A = np.array([[1, 2], [3, 4]])\n",
    "print(A.shape)\n",
    "A.resize((4,1))\n",
    "print(A.shape)\n",
    "print(A)"
   ]
  },
  {
   "cell_type": "markdown",
   "metadata": {
    "slideshow": {
     "slide_type": "subslide"
    }
   },
   "source": [
    "In this sense, we have used OOP since the start of this course! The new feature in this lecture is that Python lets you write your own classes, and hence define your own kind of objects.\n",
    "\n",
    "We will first look at a simple but fun example to get an idea how it works. In the appendix, we turn to a more useful example and discuss why and when writing your own classes may be a good idea."
   ]
  },
  {
   "cell_type": "markdown",
   "metadata": {
    "slideshow": {
     "slide_type": "skip"
    }
   },
   "source": [
    "----------------------------------------------------------------------------------------------------------------------\n",
    "<a id = 'own'></a>"
   ]
  },
  {
   "cell_type": "markdown",
   "metadata": {
    "slideshow": {
     "slide_type": "subslide"
    }
   },
   "source": [
    "### Writing your own class\n",
    "\n",
    "Below, we will define a class called **Santa**. Here, we import it from the **christmas** module to illustrate its features. "
   ]
  },
  {
   "cell_type": "code",
   "execution_count": 5,
   "metadata": {},
   "outputs": [],
   "source": [
    "from christmas import Santa"
   ]
  },
  {
   "cell_type": "markdown",
   "metadata": {
    "slideshow": {
     "slide_type": "subslide"
    }
   },
   "source": [
    "First, we create an instance of the class, and provide it with four arguments: the color (a string) of Santa's hat, the number of gifts he's bringing, his degree of \"jolliness\" and his favorite Christmas song (a string). The syntax below indicates that the latter two are *optional* arguments, i.e. have default values.    "
   ]
  },
  {
   "cell_type": "code",
   "execution_count": 6,
   "metadata": {
    "slideshow": {
     "slide_type": "-"
    }
   },
   "outputs": [
    {
     "data": {
      "text/plain": [
       "christmas.Santa"
      ]
     },
     "execution_count": 6,
     "metadata": {},
     "output_type": "execute_result"
    }
   ],
   "source": [
    "santa_claus = Santa(\"red\", 4, jolliness = 1, favorite_song = 'https://www.youtube.com/watch?v=76WFkKp8Tjs')\n",
    "type(santa_claus)"
   ]
  },
  {
   "cell_type": "markdown",
   "metadata": {
    "slideshow": {
     "slide_type": "subslide"
    }
   },
   "source": [
    "Each instance of the Santa class has a number of *attributes*, that we can access by the name of the attribute, attached to the name of the instance by a dot (like a method, bit without parentheses). For example, we can print the number of gifts and how jolly **santa_claus** is:"
   ]
  },
  {
   "cell_type": "code",
   "execution_count": 7,
   "metadata": {},
   "outputs": [
    {
     "name": "stdout",
     "output_type": "stream",
     "text": [
      "4\n"
     ]
    }
   ],
   "source": [
    "print( santa_claus.num_of_gifts )"
   ]
  },
  {
   "cell_type": "code",
   "execution_count": 8,
   "metadata": {},
   "outputs": [
    {
     "name": "stdout",
     "output_type": "stream",
     "text": [
      "1\n"
     ]
    }
   ],
   "source": [
    "print( santa_claus.jolly )"
   ]
  },
  {
   "cell_type": "markdown",
   "metadata": {
    "slideshow": {
     "slide_type": "subslide"
    }
   },
   "source": [
    "Note that a class can also have attributes that were not given as inputs:"
   ]
  },
  {
   "cell_type": "code",
   "execution_count": 9,
   "metadata": {},
   "outputs": [
    {
     "name": "stdout",
     "output_type": "stream",
     "text": [
      "North Pole\n"
     ]
    }
   ],
   "source": [
    "print( santa_claus.HOME )"
   ]
  },
  {
   "cell_type": "markdown",
   "metadata": {
    "slideshow": {
     "slide_type": "subslide"
    }
   },
   "source": [
    "Next, the class has a number of methods, for example to pack more gifts. Note that this will change the **num_of_gifts** attribute of the instance:"
   ]
  },
  {
   "cell_type": "code",
   "execution_count": 10,
   "metadata": {},
   "outputs": [
    {
     "name": "stdout",
     "output_type": "stream",
     "text": [
      "6\n"
     ]
    }
   ],
   "source": [
    "santa_claus.add_gift(2)\n",
    "print( santa_claus.num_of_gifts )"
   ]
  },
  {
   "cell_type": "markdown",
   "metadata": {
    "slideshow": {
     "slide_type": "subslide"
    }
   },
   "source": [
    "Similarly, Santa also gives gifts, which increases his level of jolliness:"
   ]
  },
  {
   "cell_type": "code",
   "execution_count": 11,
   "metadata": {},
   "outputs": [
    {
     "name": "stdout",
     "output_type": "stream",
     "text": [
      "5\n",
      "2\n"
     ]
    }
   ],
   "source": [
    "santa_claus.give_gift()\n",
    "print( santa_claus.num_of_gifts )\n",
    "print( santa_claus.jolly )"
   ]
  },
  {
   "cell_type": "markdown",
   "metadata": {
    "slideshow": {
     "slide_type": "subslide"
    }
   },
   "source": [
    "The next method asks a Santa to be jolly: "
   ]
  },
  {
   "cell_type": "code",
   "execution_count": 12,
   "metadata": {},
   "outputs": [
    {
     "name": "stdout",
     "output_type": "stream",
     "text": [
      "Ho! \n",
      "Ho! \n",
      "Merry Christmas!\n"
     ]
    }
   ],
   "source": [
    "santa_claus.be_jolly()"
   ]
  },
  {
   "cell_type": "markdown",
   "metadata": {
    "slideshow": {
     "slide_type": "subslide"
    }
   },
   "source": [
    "We can also directly change an attribute level:"
   ]
  },
  {
   "cell_type": "code",
   "execution_count": 13,
   "metadata": {},
   "outputs": [
    {
     "name": "stdout",
     "output_type": "stream",
     "text": [
      "Ho! \n",
      "Ho! \n",
      "Ho! \n",
      "Merry Christmas!\n"
     ]
    }
   ],
   "source": [
    "santa_claus.jolly = 3\n",
    "santa_claus.be_jolly()"
   ]
  },
  {
   "cell_type": "markdown",
   "metadata": {
    "slideshow": {
     "slide_type": "subslide"
    }
   },
   "source": [
    "Next, let's play Santa's favorite christmas song, and draw its head:"
   ]
  },
  {
   "cell_type": "code",
   "execution_count": 14,
   "metadata": {},
   "outputs": [],
   "source": [
    "santa_claus.play_song()  ## opens Youtube link in new browser window"
   ]
  },
  {
   "cell_type": "code",
   "execution_count": 15,
   "metadata": {
    "scrolled": true
   },
   "outputs": [],
   "source": [
    "# santa_claus.draw_hat()   ## Note: this uses the \"Turtle\" class (see below), which may lead to issues when running from a Jupyter notebook"
   ]
  },
  {
   "cell_type": "markdown",
   "metadata": {
    "slideshow": {
     "slide_type": "subslide"
    }
   },
   "source": [
    "The implementation of this class with these methods and attributes is given below:"
   ]
  },
  {
   "cell_type": "code",
   "execution_count": 15,
   "metadata": {},
   "outputs": [],
   "source": [
    "# class Santa():\n",
    "#     \"\"\" \n",
    "#     Creates a \"Santa\" class - purely for illustrating creating your own class :)\n",
    "#     \"\"\"\n",
    "    \n",
    "#     ## fixed variable\n",
    "#     HOME = \"North Pole\"\n",
    "    \n",
    "#     def __init__(self, color, num_of_gifts, jolliness = 3, favorite_song = 'https://www.youtube.com/watch?v=76WFkKp8Tjs'):\n",
    "#         \"\"\" \n",
    "#         Constructor function for the Santa class\n",
    "#         \"\"\"\n",
    "#         self.color = color\n",
    "#         self.num_of_gifts = num_of_gifts\n",
    "#         self.jolly = jolliness\n",
    "#         self.song = favorite_song\n",
    "        \n",
    "        \n",
    "#     def add_gift(self, new_gifts):\n",
    "#         \"\"\"\n",
    "#         Method that adds scalar 'new_gifts' to attribute 'num_of_gifts'\n",
    "#         \"\"\"\n",
    "#         self.num_of_gifts += new_gifts\n",
    "        \n",
    "#     def give_gift(self):\n",
    "#         \"\"\"\n",
    "#         Method that decreases attribute 'num_of_gifts' by 1 and increases attribute 'jolly' by 1.\n",
    "#         \"\"\"\n",
    "#         if self.num_of_gifts > 0:\n",
    "#             self.num_of_gifts -= 1\n",
    "#             self.jolly += 1\n",
    "#         else:\n",
    "#             print('There are no more gifts left!')\n",
    "          \n",
    "#     def be_jolly(self):\n",
    "#         \"\"\"\n",
    "#         Method that prints string \"Ho!\" for range(jolly) and prints \"Merry Christmas\"\n",
    "#         \"\"\"\n",
    "#         for it in range(self.jolly):\n",
    "#             print(\"Ho! \")\n",
    "#         print(\"Merry Christmas!\")    \n",
    "    \n",
    "#     def play_song(self):\n",
    "#         \"\"\"\n",
    "#         Method that opens weblink given by attribute 'song'\n",
    "#         \"\"\"\n",
    "#         webbrowser.open(self.song) \n",
    "    \n",
    "#     def draw_hat(self):\n",
    "#         \"\"\"\n",
    "#         Method that draws a santa hat using an instance of the \"Turtle\" class, with color given by attribute 'color'\n",
    "#         \"\"\"\n",
    "#         ### Example taken from https://www.101computing.net/chirstmas-tree/\n",
    "        \n",
    "#         myPen = Turtle()\n",
    "# #         myPen.shape(\"turtle\")\n",
    "#         myPen.speed(25)\n",
    "\n",
    "#         window = turtle.Screen()\n",
    "#         window.bgcolor(\"#FFFFFF\")\n",
    "\n",
    "#         draw_circle(myPen, \"#69D9FF\", 0, -200, 200)\n",
    "\n",
    "#         draw_triangle(myPen, self.color, -100, -80, 200)\n",
    "#         draw_circle(myPen, \"white\", 0, 70, 30)\n",
    "\n",
    "#         for it in range(0, 200, 20):\n",
    "#           draw_circle(myPen, \"white\", -90+it, -100, 20)\n",
    "\n",
    "#         myPen.hideturtle()\n",
    "#         done()"
   ]
  },
  {
   "cell_type": "markdown",
   "metadata": {
    "slideshow": {
     "slide_type": "subslide"
    }
   },
   "source": [
    "Note the following:\n",
    "\n",
    "- Every class definition starts with the keyword **class**, followed by the name of the class. You would expect that the arguments (e.g. the color in the example above) follows in the parentheses, but this is not the case. For now, we leave the parentheses empty. "
   ]
  },
  {
   "cell_type": "markdown",
   "metadata": {
    "slideshow": {
     "slide_type": "subslide"
    }
   },
   "source": [
    "- The second mandatory element for a class is the **__init__** function. As the name indicates, this \"initializes\" the instance, i.e. it creates an object in memory. It is also called a **constructor**. Within **__init__**, the attributes of the instance are defined.  \n",
    "- What is slightly complex here is the use of the keyword **self**. Essentially, **self** refers to an instance of the class. It has to be used within the class definition whenever a method or an attribute of the class is called."
   ]
  },
  {
   "cell_type": "markdown",
   "metadata": {
    "slideshow": {
     "slide_type": "subslide"
    }
   },
   "source": [
    "- The remaining elements in the class definition are the methods used above. Note that they all take **self** as argument, in addition to other arguments (e.g. the number of new gifts). The methods essentially work like functions, i.e. have **return** statements if something is to be returned. Moreover, you can access and change the values of the attributes within a method."
   ]
  },
  {
   "cell_type": "markdown",
   "metadata": {
    "slideshow": {
     "slide_type": "subslide"
    }
   },
   "source": [
    "#### Class Inheritance\n",
    "\n",
    "In the context of OOP, \"inheritance\" means that a class uses code constructed within another class. This is useful to avoid redundancies and save coding time.\n"
   ]
  },
  {
   "cell_type": "markdown",
   "metadata": {
    "slideshow": {
     "slide_type": "subslide"
    }
   },
   "source": [
    "One usually refers to a **child class** or **subclass** that inherits variables from a **parent class**. \n",
    "\n",
    "Because the child subclass is inheriting from the parent class, the child class can reuse the code of Parent, allowing the programmer to use fewer lines of code and decrease redundancy."
   ]
  },
  {
   "cell_type": "markdown",
   "metadata": {
    "slideshow": {
     "slide_type": "subslide"
    }
   },
   "source": [
    "Consider the following example:"
   ]
  },
  {
   "cell_type": "code",
   "execution_count": 16,
   "metadata": {},
   "outputs": [],
   "source": [
    "from christmas import Christkind"
   ]
  },
  {
   "cell_type": "code",
   "execution_count": 17,
   "metadata": {},
   "outputs": [],
   "source": [
    "christkind = Christkind(5, \"https://www.youtube.com/watch?v=lQnDNACTt9c\")"
   ]
  },
  {
   "cell_type": "markdown",
   "metadata": {
    "slideshow": {
     "slide_type": "subslide"
    }
   },
   "source": [
    "The code for this class looks the like this:"
   ]
  },
  {
   "cell_type": "code",
   "execution_count": 18,
   "metadata": {},
   "outputs": [],
   "source": [
    "# class Christkind(Santa):    \n",
    "#     \"\"\" \n",
    "#     Creates a \"child\" class of the \"parent\" Santa class - purely for illustrating creating your own class :)\n",
    "#     \"\"\"\n",
    "    \n",
    "#     HOME = \"Heaven\"\n",
    "    \n",
    "#     def __init__(self, num_of_gifts, favorite_song = 'https://www.youtube.com/watch?v=76WFkKp8Tjs'):\n",
    "#         \"\"\" \n",
    "#         Constructor function for the Christkind class - note that Christkind has less attributes than Santa!\n",
    "#         \"\"\"\n",
    "#         self.num_of_gifts = num_of_gifts\n",
    "#         self.song = favorite_song\n",
    "        "
   ]
  },
  {
   "cell_type": "markdown",
   "metadata": {
    "slideshow": {
     "slide_type": "subslide"
    }
   },
   "source": [
    "Note the following:\n",
    "\n",
    "- Inheritance is indicated by putting the name parent class in the parentheses of the child class.\n",
    "- **Christkind** has its own init-function, which is different from **Santa**'s init function. This is not necessary: if **Christkind** did not have an init function, it would take the one from **Santa**."
   ]
  },
  {
   "cell_type": "markdown",
   "metadata": {
    "slideshow": {
     "slide_type": "subslide"
    }
   },
   "source": [
    "- Even though we have not defined a method for **Christkind**, it can use the methods from **Santa**. However, note a potential source of error: we have given **Christkind** its own **init** function, without defining an attribute **jolly**. The method **give_gifts** in the **Santa** class refers to such an attribute, and hence running this for an instance of **Christkind** will throw an error."
   ]
  },
  {
   "cell_type": "code",
   "execution_count": 19,
   "metadata": {
    "slideshow": {
     "slide_type": "subslide"
    }
   },
   "outputs": [
    {
     "name": "stdout",
     "output_type": "stream",
     "text": [
      "Heaven\n"
     ]
    }
   ],
   "source": [
    "print(christkind.HOME)"
   ]
  },
  {
   "cell_type": "code",
   "execution_count": 20,
   "metadata": {},
   "outputs": [
    {
     "data": {
      "text/plain": [
       "7"
      ]
     },
     "execution_count": 20,
     "metadata": {},
     "output_type": "execute_result"
    }
   ],
   "source": [
    "christkind.add_gift(2)\n",
    "christkind.num_of_gifts"
   ]
  },
  {
   "cell_type": "code",
   "execution_count": 21,
   "metadata": {
    "slideshow": {
     "slide_type": "subslide"
    }
   },
   "outputs": [],
   "source": [
    "# christkind.play_song()"
   ]
  },
  {
   "cell_type": "code",
   "execution_count": 23,
   "metadata": {},
   "outputs": [],
   "source": [
    "## this will throw an error!\n",
    "# christkind.give_gift()"
   ]
  },
  {
   "cell_type": "code",
   "execution_count": 22,
   "metadata": {
    "scrolled": false,
    "slideshow": {
     "slide_type": "subslide"
    }
   },
   "outputs": [],
   "source": [
    "christkind.draw_tree()"
   ]
  },
  {
   "cell_type": "markdown",
   "metadata": {
    "slideshow": {
     "slide_type": "skip"
    }
   },
   "source": [
    "----------------------------------------------------------------------------------------------------------------------\n",
    "<a id = 'ngm'></a>"
   ]
  },
  {
   "cell_type": "markdown",
   "metadata": {
    "slideshow": {
     "slide_type": "slide"
    }
   },
   "source": [
    "## Appendix\n",
    "\n",
    "### Defining an economic model as a class\n",
    "\n",
    "In previous lectures, we have used the neoclassical growth model as an example for rootfinding (lecture 4) and optimization (lecture 5). Compare the lecture notes for a refresher on the model structure. "
   ]
  },
  {
   "cell_type": "markdown",
   "metadata": {
    "slideshow": {
     "slide_type": "subslide"
    }
   },
   "source": [
    "Consider different instances of the NGM. What pieces of data that may be different between these instances? You may see differences in\n",
    "\n",
    "- parameter values (e.g., running the model for different values for the discount factor $\\beta$);\n",
    "- functional forms (e.g. a Cobb-Douglas production function vs. a CES);\n",
    "- dimensionality of the problem, i.e. how many choice variables are they in addition to investment?\n"
   ]
  },
  {
   "cell_type": "markdown",
   "metadata": {
    "slideshow": {
     "slide_type": "subslide"
    }
   },
   "source": [
    "Now, consider what different versions of the model have in common, given these differences:\n",
    "\n",
    "- there is a resource constraint that relates production, consumption and investment in capital; if we substitute the resource constraint, per-period utility is a function of next-period capital, plus possibly more (labor, pollution, etc.)\n",
    "- the objective function is always the sum of discounted per-period utility functions, which at the very least should be functions of consumption;\n",
    "- solving it involves solving a minimization problem for the transition phase."
   ]
  },
  {
   "cell_type": "markdown",
   "metadata": {
    "slideshow": {
     "slide_type": "subslide"
    }
   },
   "source": [
    "Based on these considerations, we can write a class that takes as inputs the (potentially) different data - parameters and functional forms - but contains the common features, in particular objective function and routines for solving for the steady state and the solution vectors over time. "
   ]
  },
  {
   "cell_type": "code",
   "execution_count": 24,
   "metadata": {
    "slideshow": {
     "slide_type": "subslide"
    }
   },
   "outputs": [],
   "source": [
    "class NGM():\n",
    "    \"\"\"\n",
    "    Implements the neoclassical growth model. \n",
    "    \n",
    "    It allows for an arbitrary number of choice variables, but assumes next period's capital as a choice variable by default\n",
    "    \"\"\"\n",
    "    \n",
    "    \n",
    "    def __init__(self, x, utility, choice, production, parameters, num_of_inputs):\n",
    "        \"\"\"\n",
    "        Constructor function for the NGM class\n",
    "        \"\"\"\n",
    "        ## the first input is the solution vector, i.e. initially the initial guess\n",
    "        self.x = x\n",
    "        ## the next two inputs are functions\n",
    "        self.util = utility\n",
    "        self.prod = production\n",
    "        self.choice = choice\n",
    "        ## then parameters; we assume that the input is a dictionary\n",
    "        self.params = parameters\n",
    "        self.num = num_of_inputs\n",
    "        \n",
    "        ## derived attributes\n",
    "        self.T = int( len(self.x) / self.num )\n",
    "        \n",
    "        ## access kp: first T elements in x\n",
    "        self.kp = self.choice(self.x, self.params)[0]\n",
    "        \n",
    "    def objective(self, z):\n",
    "        \"\"\"\n",
    "        Method that computes the objective function (lifetime utility) for the NGM class, as a function of the vector z\n",
    "        \"\"\"\n",
    "        return - ( self.params['beta']**(np.array(range(self.T))) @ self.util( z , self.prod, self.choice, self.params ) \n",
    "                   + (self.params['beta']**self.T/(1 - self.params['beta'])) *  \n",
    "                      self.util( z, self.prod, self.choice, self.params, cv = True) )\n",
    "    \n",
    "    \n",
    "    def solve_transition(self):\n",
    "        \"\"\"\n",
    "        Method that applies SciPy's minimize function on the objective function of the NGM, using self.x as initial guess\n",
    "        \"\"\"\n",
    "        res = scipy.optimize.minimize(self.objective, self.x, method = 'BFGS', tol = 1e-6)\n",
    "        self.x = res.x\n",
    "        self.res = res\n",
    "        print(res.message)\n",
    "        ## update decision vectors\n",
    "        self.kp = self.choice(self.x, self.params)[0]\n",
    "        \n",
    "    ## plot capital over time\n",
    "    def graph(self):\n",
    "        \"\"\"\n",
    "        Method that plots the vector of next period's capital (self.kp)\n",
    "        \n",
    "        NOTE: it also plots a horizontal line at 1, which is the steady state for this SPECIFIC EXAMPLE; \n",
    "                a complete implementation of NGM should also include a method for computing the steady state of the problem\n",
    "                and then use in the ax.hlines command below\n",
    "        \"\"\"\n",
    "        fig, ax = plt.subplots()\n",
    "        ax.plot(self.kp)\n",
    "        ax.hlines(1, 0, T)\n",
    "\n",
    "    "
   ]
  },
  {
   "cell_type": "markdown",
   "metadata": {
    "slideshow": {
     "slide_type": "subslide"
    }
   },
   "source": [
    "Based on the considerations above, every instance of an NGM is characterized by the following problem-specific data:\n",
    "- a collection of parameters;\n",
    "- a **choice** function that takes the solution vector **'x'** and divides it in the different variables (e.g. capital, labor etc.)"
   ]
  },
  {
   "cell_type": "markdown",
   "metadata": {
    "slideshow": {
     "slide_type": "subslide"
    }
   },
   "source": [
    "- a **prod** function that takes **'x'** and **choice** as inputs and returns a vector of outputs.\n",
    "- a **util** function that takes **'x'**, **choice** and **prod** as inputs, and returns the vector of per -period utilities. "
   ]
  },
  {
   "cell_type": "markdown",
   "metadata": {
    "slideshow": {
     "slide_type": "subslide"
    }
   },
   "source": [
    "With respect to parameters, note that instead of separate objects (scalars) for every parameter, we use a dictionary where the keys are the parameter names. This saves on coding time and simplifies the structure of the code. "
   ]
  },
  {
   "cell_type": "markdown",
   "metadata": {
    "slideshow": {
     "slide_type": "subslide"
    }
   },
   "source": [
    "#### Examples\n",
    "\n",
    "We consider the same example as in lecture 5a. Start by defining the parameter values. In contrast to before, we store all parameter values in a dictionary, rather than as individual scalars. This way, we have one input for parameters when defining an instance of **NGM**, rather than eight. "
   ]
  },
  {
   "cell_type": "code",
   "execution_count": 25,
   "metadata": {
    "slideshow": {
     "slide_type": "subslide"
    }
   },
   "outputs": [],
   "source": [
    "params = dict()\n",
    "params['beta'] = 0.8      # discount factor\n",
    "params['nu'] = 2       # risk-aversion coefficient for consumption\n",
    "params['eta'] = 1         # elasticity parameter for labor supply\n",
    "## production\n",
    "params['alpha'] = 0.25\n",
    "params['delta'] = 0.1\n",
    "## derived\n",
    "params['A'] = (1 - params['beta'] * (1 - params['delta']))/(params['alpha']*params['beta'])  # normalization parameter for production function => steady state k = 1\n",
    "params['B'] = (1 - params['alpha']) * params['A'] * (params['A'] - params['delta'])**(-params['nu'])   # normalization parameter for utility function => steady state h = 1\n",
    "## initial capital stock\n",
    "params['k0'] = 0.8"
   ]
  },
  {
   "cell_type": "markdown",
   "metadata": {
    "slideshow": {
     "slide_type": "subslide"
    }
   },
   "source": [
    "Next, we define the three problem-specific functions outlined above:"
   ]
  },
  {
   "cell_type": "code",
   "execution_count": 26,
   "metadata": {
    "slideshow": {
     "slide_type": "subslide"
    }
   },
   "outputs": [],
   "source": [
    "def choice1(x, params):\n",
    "    \"\"\"\n",
    "    Implements the choice function for the a NGM with capital and labor\n",
    "    \"\"\"\n",
    "    T = int(len(x)/2)\n",
    "    \n",
    "    kp = np.exp( x[:T] )\n",
    "    k = np.insert(kp[:T-1], 0, params['k0'])\n",
    "    h = np.exp( x[T:] )\n",
    "    \n",
    "    return kp, k, h\n"
   ]
  },
  {
   "cell_type": "code",
   "execution_count": 27,
   "metadata": {
    "slideshow": {
     "slide_type": "subslide"
    }
   },
   "outputs": [],
   "source": [
    "def cd1(x, choice, params):\n",
    "    \"\"\"\n",
    "    Evaluates the Cobb-Douglas function with coefficient alpha and shift parameter A, for two inputs in x\n",
    "    \"\"\"\n",
    "    kp, k, h = choice(x, params)\n",
    "    \n",
    "    return params['A'] * k**params['alpha'] * h**(1 - params['alpha'] )"
   ]
  },
  {
   "cell_type": "code",
   "execution_count": 28,
   "metadata": {
    "slideshow": {
     "slide_type": "subslide"
    }
   },
   "outputs": [],
   "source": [
    "def u1(x, prod, choice, params, cv = False):\n",
    "    \"\"\"\n",
    "    Evaluates the per-period utility function for the NGM with capital and labor\n",
    "    \"\"\"\n",
    "    kp, k, h = choice(x, params)\n",
    "    \n",
    "    if not cv:\n",
    "        c = prod(x, choice, params) + (1 - params['delta']) * k - kp\n",
    "        return c**(1 - params['nu'])/(1 -  params['nu']) -  params['B'] * h**(1 + params['eta'])/(1 +  params['eta'])\n",
    "    else:\n",
    "        c = params['A'] * kp[-1]**params['alpha'] * h[-1]**(1 - params['alpha'] ) - params['delta'] * kp[-1] \n",
    "        return c**(1 - params['nu'])/(1 -  params['nu']) -  params['B'] * h[-1]**(1 + params['eta'])/(1 +  params['eta'])\n",
    "    \n",
    "    "
   ]
  },
  {
   "cell_type": "markdown",
   "metadata": {
    "slideshow": {
     "slide_type": "subslide"
    }
   },
   "source": [
    "We then define an instance of the **NGM** class and use it to solve it the model:"
   ]
  },
  {
   "cell_type": "code",
   "execution_count": 29,
   "metadata": {},
   "outputs": [],
   "source": [
    "## set time horizon\n",
    "T = 30\n",
    "## set initial guess    \n",
    "x0 = 1e-6 * np.ones( 2 * T)"
   ]
  },
  {
   "cell_type": "code",
   "execution_count": 30,
   "metadata": {
    "slideshow": {
     "slide_type": "-"
    }
   },
   "outputs": [
    {
     "data": {
      "text/plain": [
       "5.587996862002016"
      ]
     },
     "execution_count": 30,
     "metadata": {},
     "output_type": "execute_result"
    }
   ],
   "source": [
    "ngm1 = NGM(x0, u1, choice1, cd1, params, 2)\n",
    "ngm1.objective(x0)"
   ]
  },
  {
   "cell_type": "code",
   "execution_count": 31,
   "metadata": {
    "slideshow": {
     "slide_type": "subslide"
    }
   },
   "outputs": [
    {
     "name": "stdout",
     "output_type": "stream",
     "text": [
      "Optimization terminated successfully.\n"
     ]
    }
   ],
   "source": [
    "ngm1.solve_transition()"
   ]
  },
  {
   "cell_type": "code",
   "execution_count": 32,
   "metadata": {},
   "outputs": [
    {
     "data": {
      "image/png": "[encoded data removed]",
      "text/plain": [
       "<Figure size 432x288 with 1 Axes>"
      ]
     },
     "metadata": {
      "needs_background": "light"
     },
     "output_type": "display_data"
    }
   ],
   "source": [
    "ngm1.graph()"
   ]
  },
  {
   "cell_type": "markdown",
   "metadata": {
    "slideshow": {
     "slide_type": "subslide"
    }
   },
   "source": [
    "#### Model 2: Energy as a production input\n",
    "\n",
    "To illustrate the advantage of using classes for economic modeling, we modify the NGM considered above by adding energy $e$ as a third production factor. The production function now looks the following:\n",
    "\n",
    "\\begin{equation}\n",
    "    f(k, h, e) = A k^\\alpha e^\\gamma h^{1-\\alpha-\\gamma}\n",
    "\\end{equation}"
   ]
  },
  {
   "cell_type": "markdown",
   "metadata": {
    "slideshow": {
     "slide_type": "subslide"
    }
   },
   "source": [
    "Moreover, we have to introduce a cost for energy use (otherwise the input of energy in $f$ would just be infinity). We assume a constant marginal cost of energy, denoted by $\\xi$, which is paid in terms of the final good. The resource constraint then reads:\n",
    "\n",
    "\\begin{equation}\n",
    "    k_{t+1} + c_t = f(k_t, h_t) + (1 - \\delta) k_t = A k_t^\\alpha h_t^{1-\\alpha} + (1 - \\delta) k_t - \\xi e_t\n",
    "\\end{equation}"
   ]
  },
  {
   "cell_type": "markdown",
   "metadata": {
    "slideshow": {
     "slide_type": "subslide"
    }
   },
   "source": [
    "Hence, compared to above, we have to add two parameters - $\\gamma$ and $\\xi$ - and modify the problem-specific function:\n",
    "- we need a **choice** function that divides the choice vector in three parts, for capital, labor and energy;\n",
    "- the production function should now reflect three inputs;\n",
    "- the utility function should account for the additional cost in the resource constraint.\n",
    "\n",
    "Below, we define three function **choice2**, **prod2** and **util2** that implement these changes."
   ]
  },
  {
   "cell_type": "code",
   "execution_count": 33,
   "metadata": {
    "slideshow": {
     "slide_type": "subslide"
    }
   },
   "outputs": [],
   "source": [
    "params['gamma'] = 0.05\n",
    "params['xi'] = 0.1\n",
    "\n",
    "def choice2(x, params):\n",
    "    \"\"\"\n",
    "    Implements the choice function for the a NGM with capital, labor and energy\n",
    "    \"\"\"\n",
    "    T = int(len(x)/3)\n",
    "    \n",
    "    kp = np.exp( x[:T] )\n",
    "    k = np.insert(kp[:T-1], 0, params['k0'])\n",
    "    h = np.exp( x[T : 2*T] )\n",
    "    e = np.exp( x[2 * T : ] )\n",
    "    \n",
    "    return kp, k, h, e\n",
    "\n",
    "\n",
    "def cd2(x, choice, params):\n",
    "    \"\"\"\n",
    "    Evaluates the Cobb-Douglas function with coefficients alpha and gamma and shift parameter A, for three inputs in x\n",
    "    \"\"\"\n",
    "    kp, k, h, e = choice(x, params)\n",
    "    \n",
    "    return params['A'] * k**params['alpha'] * e**params['gamma'] * h**(1 - params['alpha'] - params['gamma'] )\n",
    "\n",
    "def u2(x, prod, choice, params, cv = False):\n",
    "    \"\"\"\n",
    "    Evaluates the per-period utility function for the NGM with capital, labor and energy\n",
    "    \"\"\"\n",
    "    kp, k, h, e = choice(x, params)\n",
    "    \n",
    "    if not cv:\n",
    "        c = prod(x, choice, params) + (1 - params['delta']) * k - kp - params['xi'] * e\n",
    "        return c**(1 - params['nu'])/(1 -  params['nu']) -  params['B'] * h**(1 + params['eta'])/(1 +  params['eta'])\n",
    "    else:\n",
    "        c = params['A'] * kp[-1]**params['alpha'] * e[-1]**params['gamma'] * h[-1]**(1 - params['alpha'] - params['gamma'])\\\n",
    "            - params['delta'] * kp[-1] - params['xi'] * e[-1]\n",
    "        return c**(1 - params['nu'])/(1 -  params['nu']) -  params['B'] * h[-1]**(1 + params['eta'])/(1 +  params['eta'])    \n",
    "    "
   ]
  },
  {
   "cell_type": "markdown",
   "metadata": {
    "slideshow": {
     "slide_type": "subslide"
    }
   },
   "source": [
    "Given these problem-specific pieces of data, we can define a *new instance* of the NGM class; note that we also need an initial **x0** of dimension $3T$."
   ]
  },
  {
   "cell_type": "code",
   "execution_count": 34,
   "metadata": {
    "slideshow": {
     "slide_type": "-"
    }
   },
   "outputs": [],
   "source": [
    "T = 30\n",
    "## set initial guess    \n",
    "x0 = 1e-6 * np.ones( 3 * T)"
   ]
  },
  {
   "cell_type": "code",
   "execution_count": 35,
   "metadata": {
    "slideshow": {
     "slide_type": "-"
    }
   },
   "outputs": [
    {
     "data": {
      "text/plain": [
       "5.945866774386963"
      ]
     },
     "execution_count": 35,
     "metadata": {},
     "output_type": "execute_result"
    }
   ],
   "source": [
    "ngm2 = NGM(x0, u2, choice2, cd2, params, 3)\n",
    "ngm2.objective(x0)"
   ]
  },
  {
   "cell_type": "markdown",
   "metadata": {
    "slideshow": {
     "slide_type": "subslide"
    }
   },
   "source": [
    "Finally, we again rely on the class method defined above to solve the model and plot the time path for capital."
   ]
  },
  {
   "cell_type": "code",
   "execution_count": 36,
   "metadata": {},
   "outputs": [
    {
     "name": "stdout",
     "output_type": "stream",
     "text": [
      "Optimization terminated successfully.\n"
     ]
    }
   ],
   "source": [
    "ngm2.solve_transition()"
   ]
  },
  {
   "cell_type": "code",
   "execution_count": 37,
   "metadata": {},
   "outputs": [
    {
     "data": {
      "image/png": "[encoded data removed]",
      "text/plain": [
       "<Figure size 432x288 with 1 Axes>"
      ]
     },
     "metadata": {
      "needs_background": "light"
     },
     "output_type": "display_data"
    }
   ],
   "source": [
    "ngm2.graph()"
   ]
  },
  {
   "cell_type": "markdown",
   "metadata": {
    "slideshow": {
     "slide_type": "subslide"
    }
   },
   "source": [
    "Note that for this example, we have not actually computed the steady state values (for the first example, we knew that the steady state for labor and capital was $(1,1)$). As an exercise, think about how to add a computation of the steady state to the **NGM** class. "
   ]
  }
 ],
 "metadata": {
  "celltoolbar": "Slideshow",
  "kernelspec": {
   "display_name": "Python 3",
   "language": "python",
   "name": "python3"
  },
  "language_info": {
   "codemirror_mode": {
    "name": "ipython",
    "version": 3
   },
   "file_extension": ".py",
   "mimetype": "text/x-python",
   "name": "python",
   "nbconvert_exporter": "python",
   "pygments_lexer": "ipython3",
   "version": "3.7.5"
  }
 },
 "nbformat": 4,
 "nbformat_minor": 2
}
