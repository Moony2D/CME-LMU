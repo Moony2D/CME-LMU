{
 "cells": [
  {
   "cell_type": "markdown",
   "metadata": {
    "nbgrader": {
     "grade": false,
     "grade_id": "cell-766265bdb7b1d061",
     "locked": true,
     "schema_version": 3,
     "solution": false,
     "task": false
    }
   },
   "source": [
    "# Computational Methods in Economics (winter term 2019/20)\n",
    "\n",
    "## Problem Set 3"
   ]
  },
  {
   "cell_type": "markdown",
   "metadata": {
    "nbgrader": {
     "grade": false,
     "grade_id": "cell-aba41b2861a855b0",
     "locked": true,
     "schema_version": 3,
     "solution": false,
     "task": false
    }
   },
   "source": [
    "#### DEADLINE: Wednesday, December 18, 12 pm (Noon)"
   ]
  },
  {
   "cell_type": "markdown",
   "metadata": {
    "nbgrader": {
     "grade": false,
     "grade_id": "cell-2ca9aa5782909f87",
     "locked": true,
     "schema_version": 3,
     "solution": false,
     "task": false
    }
   },
   "source": [
    "### Preliminaries\n",
    "\n",
    "#### Import Modules"
   ]
  },
  {
   "cell_type": "code",
   "execution_count": 1,
   "metadata": {
    "nbgrader": {
     "grade": false,
     "grade_id": "cell-8074bc2d1f52c6f1",
     "locked": true,
     "schema_version": 3,
     "solution": false,
     "task": false
    }
   },
   "outputs": [],
   "source": [
    "import numpy as np\n",
    "import scipy.linalg\n",
    "import scipy.optimize\n",
    "\n",
    "import matplotlib.pyplot as plt\n",
    "%matplotlib inline"
   ]
  },
  {
   "cell_type": "markdown",
   "metadata": {
    "nbgrader": {
     "grade": false,
     "grade_id": "cell-e5318083ca87a69d",
     "locked": true,
     "schema_version": 3,
     "solution": false,
     "task": false
    }
   },
   "source": [
    "## Question 1\n",
    "\n",
    "Write a function **mybisect(f, a, b)** in Python that implements the pseudo-code for the bisection method from the lecture, with initial interval **[a,b]**. DO NOT USE SciPy's in-built function! \n",
    "\n",
    "*Hint*: Consider using the **abs()** and **np.sign()** functions.  "
   ]
  },
  {
   "cell_type": "code",
   "execution_count": 2,
   "metadata": {
    "nbgrader": {
     "grade": false,
     "grade_id": "cell-dfd87f0c7e1141f9",
     "locked": false,
     "schema_version": 3,
     "solution": true,
     "task": false
    }
   },
   "outputs": [],
   "source": [
    "def mybisect(fun, a, b):\n",
    "    \"\"\"\n",
    "    Implements the bisection method\n",
    "    \n",
    "    (fun, float, float) -> float\n",
    "    \"\"\"\n",
    "    ### BEGIN SOLUTION\n",
    "    ## check on signs of function values at initial points a and b\n",
    "    assert np.sign(fun(a)) == - np.sign(fun(b)), \"Choose a and b such that f(a) and f(b) have different signs\"\n",
    "    \n",
    "    # iteration counter\n",
    "    it = 0\n",
    "    # choose tolerance level\n",
    "    tol = 1e-10\n",
    "    # initialize d (= function value at x)\n",
    "    d = 1\n",
    "    # while-loop: iterate until d sufficiently small\n",
    "    while abs(d) > tol:\n",
    "        it += 1\n",
    "        # find intermediate value between a and b\n",
    "        x = (a + b)/2\n",
    "        # evaluate function\n",
    "        d = fun(x)\n",
    "        # find new end points for interval [a,b]\n",
    "        if np.sign(d) == np.sign(fun(a)):\n",
    "            a = x\n",
    "        elif np.sign(d) == np.sign(fun(b)):\n",
    "            b = x\n",
    "    \n",
    "#     print(\"Number of iterations = {}\".format(it) )\n",
    "    \n",
    "    return x\n",
    "    ### END SOLUTION"
   ]
  },
  {
   "cell_type": "code",
   "execution_count": 3,
   "metadata": {
    "nbgrader": {
     "grade": true,
     "grade_id": "cell-49f6e765c0738985",
     "locked": true,
     "points": 2,
     "schema_version": 3,
     "solution": false,
     "task": false
    }
   },
   "outputs": [],
   "source": [
    "# test function\n",
    "def fun(x):\n",
    "    return np.sin(4 * (x - 0.25)) + x + x**20 - 1\n",
    "\n",
    "assert np.allclose(mybisect(fun, 0, 2), 0.408293504267931)"
   ]
  },
  {
   "cell_type": "code",
   "execution_count": 4,
   "metadata": {
    "nbgrader": {
     "grade": true,
     "grade_id": "cell-b0a9f8ade13be356",
     "locked": true,
     "points": 2,
     "schema_version": 3,
     "solution": false,
     "task": false
    }
   },
   "outputs": [],
   "source": [
    "# THIS IS A TEST CELL!\n",
    "### BEGIN HIDDEN TESTS\n",
    "assert np.allclose( mybisect(lambda x: -x**2 + 4, 1, 10), 2)\n",
    "assert np.allclose( mybisect(lambda x: -x**2 + 4, -1, -10), -2)\n",
    "### END HIDDEN TESTS"
   ]
  },
  {
   "cell_type": "markdown",
   "metadata": {
    "nbgrader": {
     "grade": false,
     "grade_id": "cell-ce6efe884ace727e",
     "locked": true,
     "schema_version": 3,
     "solution": false,
     "task": false
    }
   },
   "source": [
    "## Question 2\n",
    "\n",
    "In this question, we use Newton's method to solve a Cournot duopoly. There two firms producing $q_i$ units of a good, for $i = 1,2$. Their production cost are given by:\n",
    "\n",
    "$$\n",
    "C_i(q_i) = 0.5c_i q_i^2.\n",
    "$$\n",
    "\n",
    "The inverse demand in the market is given by \n",
    "\n",
    "$$\n",
    "P(q) = q^{-1/\\eta} = (q_1 + q_2)^{-1/\\eta}.\n",
    "$$\n",
    "\n",
    "Hence, the profit of firm $i$ depends on the quantity produced by the other firm, and vice versa:\n",
    "\n",
    "$$\n",
    "  \\pi_i(q_1, q_2) = P(q_1 + q_2)q_i - C_i(q_i)\n",
    "$$  \n",
    "\n",
    "Taking first-order conditions gives the following equilibrium condition for firm $i$:\n",
    "\n",
    "$$\n",
    "   \\partial \\pi_i / \\partial q_i = 0 = P(q_1 + q_2) + P'(q_1 + q_2) q_i - C_i'(q_i) \\equiv \\phi_i(q_1, q_2)\n",
    "$$    \n",
    "\n",
    "Hence, the equilibrium can be characterized by a system of non-linear equations: \n",
    "\n",
    "$$\n",
    "    \\phi(q_1, q_2) = \\begin{bmatrix} \\phi_1(q_1, q_2) \\\\\n",
    "                                     \\phi_2(q_1, q_2) \\end{bmatrix} = \n",
    "                     \\begin{bmatrix} 0 \\\\\n",
    "                                     0 \\end{bmatrix}\n",
    "$$                                     \n",
    "                                     \n",
    "\n",
    "(a) Write a function **cournot** that implements the system of non-linear equations above. As inputs, it takes an array **q = [q_1, q_2]**, an array **c = [c_1, c_2]**, and a scalar **eta** ($=\\eta$).\n",
    "\n",
    "(b) Write a function **cournot_J** that takes the same inputs as **cournot** and implements the Jacobian of the system.\n",
    "\n",
    "(c) Write a function **my_newton** that takes an array **q** (initial guess), two functions **cournot** and **cournot_J**, as well as **c** and **eta**, as inputs and solves for the Cournot equilibrium. Make sure that your algorithm does not run indefinitely by including an upper bound for the number of iterations (**maxit**)."
   ]
  },
  {
   "cell_type": "code",
   "execution_count": 5,
   "metadata": {
    "nbgrader": {
     "grade": false,
     "grade_id": "cell-2c1ac520f97d2706",
     "locked": false,
     "schema_version": 3,
     "solution": true,
     "task": false
    }
   },
   "outputs": [],
   "source": [
    "## (a)\n",
    "\n",
    "def cournot(q, c, eta):\n",
    "    \"\"\"\n",
    "    Implements the Cournot duopoly as a system of non-linear equations in two unknowns\n",
    "   \n",
    "    ((2,) np.array, (2,) np.array, float) -> (2,) np.array   \n",
    "    \"\"\"\n",
    "    ## BEGIN SOLUTION \n",
    "    # phi_i(q1, q2) = [(q1 + q2)^(-1/eta) - (1/eta)*[(q1 + q2)^(-1/eta - 1)]*q_i - c_i*q_i]\n",
    "    e = -1/eta\n",
    "    \n",
    "    return np.array(( (q[0]+q[1])**e + e*((q[0]+q[1])**(e-1))*q[0] - c[0]*q[0],\n",
    "                    (q[0]+q[1])**e + e*((q[0]+q[1])**(e-1))*q[1] - c[1]*q[1]))\n",
    "    ## END SOLUTION"
   ]
  },
  {
   "cell_type": "code",
   "execution_count": 6,
   "metadata": {
    "nbgrader": {
     "grade": true,
     "grade_id": "cell-8fecc31b05e3d051",
     "locked": true,
     "points": 1,
     "schema_version": 3,
     "solution": false,
     "task": false
    }
   },
   "outputs": [],
   "source": [
    "assert np.allclose( cournot([2, 2], [0.5, 0.5], 1.5), np.array([-0.73543316, -0.73543316]))"
   ]
  },
  {
   "cell_type": "code",
   "execution_count": 7,
   "metadata": {
    "nbgrader": {
     "grade": true,
     "grade_id": "cell-c137a981fab3209e",
     "locked": true,
     "points": 1,
     "schema_version": 3,
     "solution": false,
     "task": false
    }
   },
   "outputs": [],
   "source": [
    "# THIS IS A TEST CELL!\n",
    "### BEGIN HIDDEN TESTS\n",
    "assert np.allclose( cournot([0.8395676,  0.68879643], [0.6, 0.8], 1.6), np.zeros(2))\n",
    "### END HIDDEN TESTS"
   ]
  },
  {
   "cell_type": "code",
   "execution_count": 8,
   "metadata": {
    "nbgrader": {
     "grade": false,
     "grade_id": "cell-591be21fc581dbb9",
     "locked": false,
     "schema_version": 3,
     "solution": true,
     "task": false
    }
   },
   "outputs": [],
   "source": [
    "## (b)\n",
    "\n",
    "def cournot_J(q, c, eta):\n",
    "    \"\"\"\n",
    "    Implements the Jacobian of the Cournot duopoly model \n",
    "    \n",
    "    ((2, 2) np.array, (2, 2) np.array, float) -> (2, 2) np.array  \n",
    "    \"\"\"\n",
    "    ### BEGIN SOLUTION\n",
    "    e = -1/eta\n",
    "    \n",
    "    f_00 = (e*(q[0]+q[1])**(e-2))*(e*q[0] + q[0] + 2*q[1]) - c[0] \n",
    "    f_01 = (e*(q[0]+q[1])**(e-2))*(e*q[0] + q[1])\n",
    "    f_10 = (e*(q[0]+q[1])**(e-2))*(e*q[1] + q[0])\n",
    "    f_11 = (e*(q[0]+q[1])**(e-2))*(e*q[1] + 2*q[0] + q[1]) - c[1]\n",
    "    \n",
    "    return np.array([[f_00, f_01], [f_10, f_11]])\n",
    "    ### END SOLUTION"
   ]
  },
  {
   "cell_type": "code",
   "execution_count": 9,
   "metadata": {
    "nbgrader": {
     "grade": true,
     "grade_id": "cell-9e29c2b7f1913e1d",
     "locked": true,
     "points": 1,
     "schema_version": 3,
     "solution": false,
     "task": false
    }
   },
   "outputs": [],
   "source": [
    "assert np.allclose(cournot_J([2, 2], [0.5, 0.5], 1.5), np.array([[-0.57716533, -0.01102362],\n",
    "                                               [-0.01102362, -0.57716533]]))"
   ]
  },
  {
   "cell_type": "code",
   "execution_count": 10,
   "metadata": {
    "nbgrader": {
     "grade": true,
     "grade_id": "cell-0850651107a4c5ba",
     "locked": true,
     "points": 2,
     "schema_version": 3,
     "solution": false,
     "task": false
    }
   },
   "outputs": [],
   "source": [
    "# THIS IS A TEST CELL!\n",
    "### BEGIN HIDDEN TESTS\n",
    "assert np.allclose( cournot_J([0.8395676,  0.68879643], [0.6, 0.8], 1.6), np.array([[-0.94737259, -0.0336748 ],\n",
    "                                                                                    [-0.08396187, -1.19765966]]))\n",
    "### END HIDDEN TESTS"
   ]
  },
  {
   "cell_type": "code",
   "execution_count": 11,
   "metadata": {
    "nbgrader": {
     "grade": false,
     "grade_id": "cell-d240145a9f7132cd",
     "locked": false,
     "schema_version": 3,
     "solution": true,
     "task": false
    }
   },
   "outputs": [],
   "source": [
    "## (c)\n",
    "\n",
    "def my_newton(q, cournot, cournot_J, c, eta, maxit = 1000):\n",
    "    \"\"\"\n",
    "    Implements Newton's method for a vector-valued function\n",
    "    \n",
    "    ((2,) np.array, fun, fun, (2,) np.array, float) -> (2,) np.array\n",
    "    \"\"\"    \n",
    "    ### BEGIN SOLUTION\n",
    "    tol = 1e-8\n",
    "    tol2 = 1e-6\n",
    "    \n",
    "    dist = 1\n",
    "    it = 0\n",
    "    while dist > tol and it < maxit:\n",
    "        it += 1\n",
    "        f, J = cournot(q, c, eta), cournot_J(q, c, eta)\n",
    "        q_new = q - np.linalg.inv(J) @ f\n",
    "        dist = np.linalg.norm(q - q_new) / (1 + np.linalg.norm(q))\n",
    "        q = q_new\n",
    "    \n",
    "#     print(\"Number of iterations = {}\".format(it) )\n",
    "    \n",
    "    if np.linalg.norm(cournot(q, c, eta)) < tol2: \n",
    "        return q\n",
    "    else:\n",
    "        print(\"No solution found!\")\n",
    "    \n",
    "    return q\n",
    "    ### END SOLUTION"
   ]
  },
  {
   "cell_type": "code",
   "execution_count": 15,
   "metadata": {
    "nbgrader": {
     "grade": true,
     "grade_id": "cell-62ac4fa62f5046d9",
     "locked": true,
     "points": 2,
     "schema_version": 3,
     "solution": false,
     "task": false
    }
   },
   "outputs": [],
   "source": [
    "# THIS IS A TEST CELL!\n",
    "### BEGIN HIDDEN TESTS\n",
    "assert np.allclose(my_newton([0.2,  0.2], cournot, cournot_J, [0.6, 0.8], 1.6), np.array([0.8395676,  0.68879643]) )\n",
    "### END HIDDEN TESTS"
   ]
  },
  {
   "cell_type": "code",
   "execution_count": 16,
   "metadata": {},
   "outputs": [
    {
     "data": {
      "text/plain": [
       "array([0.90064003, 0.90064003])"
      ]
     },
     "execution_count": 16,
     "metadata": {},
     "output_type": "execute_result"
    }
   ],
   "source": [
    "my_newton([2,  2], cournot, cournot_J, [0.5, 0.5], 1.5)"
   ]
  },
  {
   "cell_type": "markdown",
   "metadata": {
    "nbgrader": {
     "grade": false,
     "grade_id": "cell-406823d98de3815b",
     "locked": true,
     "schema_version": 3,
     "solution": false,
     "task": false
    }
   },
   "source": [
    "## Question 3 (N)"
   ]
  },
  {
   "cell_type": "markdown",
   "metadata": {
    "collapsed": true,
    "nbgrader": {
     "grade": false,
     "grade_id": "cell-f54162932408bdd1",
     "locked": true,
     "schema_version": 3,
     "solution": false,
     "task": false
    }
   },
   "source": [
    "Write a function **mysecant(f, x)** in Python that implements the pseudo-code for the secant method from the lecture. Again, test it on the function $f$ and compare the result to question 1. Make sure that your algorithm does not run indefinitely by including an upper bound for the number of iterations (**maxit**)."
   ]
  },
  {
   "cell_type": "code",
   "execution_count": 25,
   "metadata": {
    "nbgrader": {
     "grade": false,
     "grade_id": "cell-c4db5a1dddf53e91",
     "locked": false,
     "schema_version": 3,
     "solution": true,
     "task": false
    }
   },
   "outputs": [],
   "source": [
    "def my_secant(fun, x, maxit = 100):\n",
    "    \"\"\"\n",
    "    Implements the secant method for a univariate scalar function\n",
    "    \n",
    "    (fun, float) -> float\n",
    "    \"\"\"        \n",
    "    ### BEGIN SOLUTION\n",
    "    tol1 = 1e-8  \n",
    "    tol2 = 1e-8\n",
    "    \n",
    "    dist = 1\n",
    "    it = 0\n",
    "    \n",
    "    x_old = 0.9 * x\n",
    "    f_old = fun(x_old)\n",
    "\n",
    "    while dist > tol1 and it < maxit:\n",
    "        it += 1\n",
    "        x_new, f = g_secant(fun, f_old, x, x_old)\n",
    "        dist = abs(x - x_new) / (1 + abs(x))\n",
    "        \n",
    "        ## store \"old\" function and x value for next iteration\n",
    "        f_old = f\n",
    "        x_old = x\n",
    "        \n",
    "        x = x_new\n",
    "\n",
    "#     print(\"Number of iterations = {}\".format(it) )\n",
    "    \n",
    "    if abs(fun(x)) < tol2: \n",
    "        return x\n",
    "    else:\n",
    "        print(\"No solution found!\")\n",
    "        \n",
    "\n",
    "def g_secant(fun, f_old, x, x_old):\n",
    "    \"\"\"\n",
    "    Implements the update rule for the secant method\n",
    "    \"\"\"\n",
    "    f = fun(x)\n",
    "    fd = (f - f_old) / (x - x_old)\n",
    "\n",
    "    return x - f * fd**(-1), f        \n",
    "        \n",
    "        \n",
    "### END SOLUTION    \n",
    "        "
   ]
  },
  {
   "cell_type": "code",
   "execution_count": 26,
   "metadata": {
    "nbgrader": {
     "grade": true,
     "grade_id": "cell-a0bb83da71c0217e",
     "locked": true,
     "points": 2,
     "schema_version": 3,
     "solution": false,
     "task": false
    }
   },
   "outputs": [],
   "source": [
    "# test function\n",
    "def fun(x):\n",
    "    return np.sin(4 * (x - 0.25)) + x + x**20 - 1\n",
    "\n",
    "assert np.allclose(my_secant(fun, 0.01), 0.408293504267931)"
   ]
  },
  {
   "cell_type": "code",
   "execution_count": 27,
   "metadata": {
    "nbgrader": {
     "grade": true,
     "grade_id": "cell-e91987b7c4778bc9",
     "locked": true,
     "points": 2,
     "schema_version": 3,
     "solution": false,
     "task": false
    }
   },
   "outputs": [],
   "source": [
    "# THIS IS A TEST CELL!\n",
    "### BEGIN HIDDEN TESTS\n",
    "assert np.allclose( my_secant(lambda x: -x**2 + 4, 0.01), 2)\n",
    "assert np.allclose( my_secant(lambda x: -x**2 + 4, -0.01), -2)\n",
    "### END HIDDEN TESTS"
   ]
  },
  {
   "cell_type": "markdown",
   "metadata": {
    "nbgrader": {
     "grade": false,
     "grade_id": "cell-ffdecd19f528ea83",
     "locked": true,
     "schema_version": 3,
     "solution": false,
     "task": false
    }
   },
   "source": [
    "## Question 4\n",
    "\n",
    "Consider the neoclassical growth model from the lecture. In this question, we extend it so that the production function contains *energy* $m_t$ as a third production factor in addition to capital and labor. Hence, output is given by\n",
    "\n",
    "\\begin{equation}\n",
    "    y_t = f(k_t, h_{y,t}, m_t) = A k_t^\\alpha m_t^\\gamma h_{y,t}^{1-\\alpha-\\gamma}\n",
    "\\end{equation}\n",
    "\n",
    "Energy is itself produced by using a part of the labor supply:\n",
    "\n",
    "\\begin{equation}\n",
    "    m_t = \\rho h_{m,t}\n",
    "\\end{equation}\n",
    "\n",
    "which implies that one unit of labor supply creates $\\rho$ units of energy.\n",
    "\n",
    "Solve for the steady state of the planner problem numerically. Note that lifetime utility is still given by \n",
    "\n",
    "\\begin{equation}\n",
    "    u(c_t, h_t) = \\frac{c^{1-\\nu}}{1-\\nu} - B \\frac{h_t^{1+\\eta}}{1+\\eta}\n",
    "\\end{equation}\n",
    "\n",
    "with $h_t = h_{y,t} + h_{m,t}$. \n",
    "\n",
    "Proceed in the following steps:\n",
    "\n",
    "(a) Define a dictionary named **param** that contains the name of the parameters as keys and the parameter values as values. Include **alpha**, **beta**, **gamma** ($\\gamma$), **delta**, **nu**, **eta**, **rho** ($\\rho$), **A** and **B**. The parameter values are given below. \n",
    "\n",
    "(b) Define a function **cd** that takes as inputs a flat array with length 3 and a dictionary, and implements the Cobb-Douglas production function. Similarly, define a function **cd_diff** that takes the same inputs as **cd** and returns the derivatives of the Cobb-Douglas function with respect to each of the three production factors.\n",
    "\n",
    "(c) Define a function **steady** that takes as inputs a flat array with length 3, a dictionary, as well as two functions, corresponding to **cd** and **cd_diff** defined in question (b), and implements the steady-state conditions of the model as a system of linear equations. Make sure that the function considers only *non-negative* quantities of $k$, $h_y$ and $h_m$. \n",
    "\n",
    "(d) Define a function **solve_steady** that takes as inputs a function (corresponding to **steady** defined in question (c)) plus the inputs that **steady** takes, and returns an array with the steady state values of $k$, $h_y$ and $h_m$ (in this order!)."
   ]
  },
  {
   "cell_type": "code",
   "execution_count": 2,
   "metadata": {
    "nbgrader": {
     "grade": false,
     "grade_id": "cell-b278652bce2785da",
     "locked": true,
     "schema_version": 3,
     "solution": false,
     "task": false
    }
   },
   "outputs": [],
   "source": [
    "## utility\n",
    "beta = 0.9      # discount factor\n",
    "nu = 2       # risk-aversion coefficient for consumption\n",
    "eta = 1         # elasticity parameter for labor supply\n",
    "\n",
    "## production\n",
    "alpha = 0.25\n",
    "gamma = 0.05\n",
    "rho = 0.9\n",
    "delta = 0.1\n",
    "## derived\n",
    "A = 0.844444     # productivity\n",
    "B = 0.350991     # parameter for utility function"
   ]
  },
  {
   "cell_type": "code",
   "execution_count": 3,
   "metadata": {
    "nbgrader": {
     "grade": false,
     "grade_id": "cell-a494080df5d5451b",
     "locked": false,
     "schema_version": 3,
     "solution": true,
     "task": false
    }
   },
   "outputs": [],
   "source": [
    "## (a)\n",
    "\n",
    "### BEGIN SOLUTION\n",
    "param = {'beta': beta,\n",
    "         'nu': nu,\n",
    "         'eta': eta,\n",
    "         'delta': delta,\n",
    "         'B': B,\n",
    "         'alpha': alpha,\n",
    "         'gamma': gamma,\n",
    "         'rho': rho,\n",
    "         'A': A\n",
    "        }\n",
    "### END SOLUTION"
   ]
  },
  {
   "cell_type": "code",
   "execution_count": 4,
   "metadata": {
    "nbgrader": {
     "grade": true,
     "grade_id": "cell-5085d5b34f8670e2",
     "locked": true,
     "points": 2,
     "schema_version": 3,
     "solution": false,
     "task": false
    }
   },
   "outputs": [],
   "source": [
    "# THIS IS A TEST CELL!\n",
    "### BEGIN HIDDEN TESTS\n",
    "assert param['alpha'] == 0.25\n",
    "assert param['delta'] == 0.1\n",
    "assert param['gamma'] == 0.05\n",
    "### END HIDDEN TESTS"
   ]
  },
  {
   "cell_type": "code",
   "execution_count": 5,
   "metadata": {
    "nbgrader": {
     "grade": false,
     "grade_id": "cell-83431f12a3184874",
     "locked": false,
     "schema_version": 3,
     "solution": true,
     "task": false
    }
   },
   "outputs": [],
   "source": [
    "## (b)\n",
    "def cd(x, param):\n",
    "    \"\"\"\n",
    "    Evaluates the Cobb-Douglas function with coefficient alpha and shift parameter A, for two inputs (x)\n",
    "    \n",
    "    ((3,) np.array, dict) -> float   \n",
    "    \"\"\"\n",
    "    ### BEGIN SOLUTION\n",
    "    alpha, gamma, rho, A = param['alpha'], param['gamma'], param['rho'], param['A']\n",
    "    return A * x[0]**alpha * (rho * x[2])**(gamma) * x[1]**(1 - alpha - gamma)\n",
    "    ### END SOLUTION\n",
    "\n",
    "def cd_diff(x, param):\n",
    "    \"\"\"\n",
    "    Returns the first derivative of the cobb douglas wrt k, hy and hm\n",
    "    \n",
    "    ((3,) np.array, dict) -> (3,) np.array\n",
    "    \"\"\"\n",
    "    ### BEGIN SOLUTION\n",
    "    alpha, gamma, A = param['alpha'], param['gamma'], param['A']   \n",
    "    return (alpha * cd(x, param) / x[0], \n",
    "            (1 - alpha - gamma) * cd(x, param) / x[1],\n",
    "            gamma * cd(x, param) / x[2])\n",
    "    ### END SOLUTION"
   ]
  },
  {
   "cell_type": "code",
   "execution_count": 6,
   "metadata": {
    "nbgrader": {
     "grade": true,
     "grade_id": "cell-daee54686b599ccc",
     "locked": true,
     "points": 1,
     "schema_version": 3,
     "solution": false,
     "task": false
    }
   },
   "outputs": [],
   "source": [
    "## NOTE: running this test cell assumes that you have defined a dictionary named \"param\" that contains the parameter values\n",
    "x = np.array([2, 0.1, 0.8])\n",
    "cd(x, param)\n",
    "assert np.allclose(cd(x, param), 0.19710389502522407) "
   ]
  },
  {
   "cell_type": "code",
   "execution_count": 7,
   "metadata": {
    "nbgrader": {
     "grade": true,
     "grade_id": "cell-2d5d0c09e25d68db",
     "locked": true,
     "points": 2,
     "schema_version": 3,
     "solution": false,
     "task": false
    }
   },
   "outputs": [],
   "source": [
    "# THIS IS A TEST CELL!\n",
    "### BEGIN HIDDEN TESTS\n",
    "param = {'beta': 0.9,\n",
    " 'nu': 2,\n",
    " 'eta': 1,\n",
    " 'delta': 0.1,\n",
    " 'B': 0.3509917695473248,\n",
    " 'alpha': 0.25,\n",
    " 'gamma': 0.05,\n",
    " 'rho': 0.9,\n",
    " 'A': 0.8444444444444442}\n",
    "\n",
    "x = np.array([1, 0.5, 0.5])\n",
    "\n",
    "assert np.allclose(cd(x, param), 0.4994714991666903)\n",
    "assert np.allclose(cd_diff(x, param), np.array((0.12486787479167258, 0.6992600988333664, 0.049947149916669036)))\n",
    "### END HIDDEN TESTS"
   ]
  },
  {
   "cell_type": "code",
   "execution_count": 8,
   "metadata": {
    "nbgrader": {
     "grade": false,
     "grade_id": "cell-ec083ca409fb0de6",
     "locked": false,
     "schema_version": 3,
     "solution": true,
     "task": false
    }
   },
   "outputs": [],
   "source": [
    "## (c)\n",
    "\n",
    "def steady(x, param, cd, cd_diff):\n",
    "    \"\"\"\n",
    "    Returns the vector-valued function consisting of the steady-state conditions \n",
    "    \n",
    "    ((3,) np.array, dict, fun, fun) -> (3,) np.array\n",
    "    \"\"\"\n",
    "    ### BEGIN SOLUTION\n",
    "    y = np.zeros(3)\n",
    "    X = x\n",
    "    mp = cd_diff(X, param)\n",
    "    \n",
    "    beta, delta, nu, eta, B = param['beta'], param['delta'], param['nu'], param['eta'], param['B']\n",
    "    alpha, gamma, A = param['alpha'], param['gamma'], param['A']\n",
    "    \n",
    "    y[0] = beta * (mp[0] + 1 - delta) - 1\n",
    "    y[1] = (cd(X, param) - delta * X[0])**(-nu) * mp[1] - B * (X[2] + X[1])**eta\n",
    "    y[2] = mp[1] - mp[2]\n",
    "    \n",
    "    return y\n",
    "    ### END SOLUTION"
   ]
  },
  {
   "cell_type": "code",
   "execution_count": 10,
   "metadata": {
    "nbgrader": {
     "grade": true,
     "grade_id": "cell-01ef6fd294781eb2",
     "locked": true,
     "points": 3,
     "schema_version": 3,
     "solution": false,
     "task": false
    }
   },
   "outputs": [],
   "source": [
    "# THIS IS A TEST CELL!\n",
    "### BEGIN HIDDEN TESTS\n",
    "param = {'beta': 0.9,\n",
    " 'nu': 2,\n",
    " 'eta': 1,\n",
    " 'delta': 0.1,\n",
    " 'B': 0.3509917695473248,\n",
    " 'alpha': 0.25,\n",
    " 'gamma': 0.05,\n",
    " 'rho': 0.9,\n",
    " 'A': 0.8444444444444442}\n",
    "\n",
    "x = np.array((1.2529757484686115, 1.5045329392063747, 0.10746663851474107))\n",
    "\n",
    "assert np.allclose( steady(x, param, cd, cd_diff), np.zeros(3), atol = 1e-5 )\n",
    "\n",
    "### END HIDDEN TESTS"
   ]
  },
  {
   "cell_type": "code",
   "execution_count": 13,
   "metadata": {
    "nbgrader": {
     "grade": false,
     "grade_id": "cell-9f0a4d6e4d75e42b",
     "locked": false,
     "schema_version": 3,
     "solution": true,
     "task": false
    }
   },
   "outputs": [],
   "source": [
    "## (d)\n",
    "\n",
    "def solve_steady(steady, x0, param, cd, cd_diff):\n",
    "    '''\n",
    "    Solces for the steady state of the NGM\n",
    "    \n",
    "    ((3,)np.array, fun, dict, fun, fun) -> (3,)np.array\n",
    "    '''\n",
    "    ### BEGIN SOLUTION\n",
    "    res_ss = scipy.optimize.root(steady, x0, args = (param, cd, cd_diff), method = 'broyden1', options = {'line_search' : None, 'jac_options': {'alpha': 1}})\n",
    "\n",
    "    kss = res_ss.x[0]\n",
    "    hyss = res_ss.x[1]\n",
    "    hmss = res_ss.x[2]\n",
    "\n",
    "    return (kss, hyss, hmss)\n",
    "    ### END SOLUTION\n"
   ]
  },
  {
   "cell_type": "code",
   "execution_count": 15,
   "metadata": {
    "nbgrader": {
     "grade": true,
     "grade_id": "cell-ea5ec34d88b8671b",
     "locked": true,
     "points": 2,
     "schema_version": 3,
     "solution": false,
     "task": false
    }
   },
   "outputs": [],
   "source": [
    "# THIS IS A TEST CELL\n",
    "### BEGIN HIDDEN TESTS\n",
    "x0 = np.array([1.2, 1.5, 0.1])\n",
    "assert np.allclose( solve_steady(steady, x0, param, cd, cd_diff), np.array((1.2529757484686115, 1.5045329392063747, 0.10746663851474107)) )\n",
    "### END HIDDEN TESTS"
   ]
  },
  {
   "cell_type": "markdown",
   "metadata": {
    "nbgrader": {
     "grade": false,
     "grade_id": "cell-e57ed4d543433cdb",
     "locked": true,
     "schema_version": 3,
     "solution": false,
     "task": false
    }
   },
   "source": [
    "-------------------------------------------------------------------------------------------------------------------------------"
   ]
  },
  {
   "cell_type": "markdown",
   "metadata": {
    "nbgrader": {
     "grade": false,
     "grade_id": "cell-15c3345bd9a4a110",
     "locked": true,
     "schema_version": 3,
     "solution": false,
     "task": false
    }
   },
   "source": [
    "## Appendix"
   ]
  },
  {
   "cell_type": "markdown",
   "metadata": {
    "nbgrader": {
     "grade": false,
     "grade_id": "cell-43c3df3c8d23e811",
     "locked": true,
     "schema_version": 3,
     "solution": false,
     "task": false
    }
   },
   "source": [
    "### Question A.1\n",
    "\n",
    "(a) Show that the update rule for $A^{(k+1)}$ used in Broyden's method,\n",
    "\n",
    "\\begin{equation}\n",
    " A^{(k+1)} = A^{(k)} + \\frac{ \\left( \\mathbf{f}(\\mathbf{x}^{(k+1)}) - \\mathbf{f}(\\mathbf{x}^{(k)}) - A^{(k)} \\mathbf{p}^{(k)} \\right) (\\mathbf{p}^{(k)})^T}{(\\mathbf{p}^{(k)})^T \\mathbf{p}^{(k)}}\n",
    "\\end{equation}\n",
    "\n",
    "satisfies the secant condition,\n",
    "\n",
    "\\begin{equation}\n",
    " A^{(k+1)} \\mathbf{p}^{(k)} = \\mathbf{f}(\\mathbf{x}^{(k+1)}) - \\mathbf{f}(\\mathbf{x}^{(k)}).\n",
    "\\end{equation}\n",
    "\n",
    " and\n",
    "\n",
    "\\begin{equation}\n",
    " A^{(k+1)} \\mathbf{q} = A^{(k)} \\mathbf{q}\\ \\ \\text{for}\\ \\ \\mathbf{q}^{T} \\mathbf{p}^{(k)} = 0\n",
    "\\end{equation}.\n",
    "\n",
    "(b) To prepare question (c), Show that for any vector $\\mathbf{p} \\in \\mathbb{R}^n$, we have \n",
    "\n",
    "\\begin{equation}\n",
    "    \\left| \\left| \\frac{\\mathbf{p}\\ \\mathbf{p}^T}{\\mathbf{p}^T \\mathbf{p} } \\right| \\right| = 1\n",
    "\\end{equation}\n",
    "\n",
    "\n",
    "(c) Using the result from question (b), show that\n",
    "\n",
    "\\begin{equation}\n",
    " A^{(k+1)} \\in \\arg \\min_{A :\\ A \\mathbf{p}^{(k)} = \\mathbf{f}(\\mathbf{x}^{(k+1)}) - \\mathbf{f}(\\mathbf{x}^{(k)})} ||\\ A - A^{(k)} ||\n",
    "\\end{equation}\n",
    "\n",
    "Hint: Use the update rule in (a) to rewrite the distance $||\\ A^{(k+1)}  - A^{(k)} ||$."
   ]
  }
 ],
 "metadata": {
  "celltoolbar": "Create Assignment",
  "kernelspec": {
   "display_name": "Python 3",
   "language": "python",
   "name": "python3"
  },
  "language_info": {
   "codemirror_mode": {
    "name": "ipython",
    "version": 3
   },
   "file_extension": ".py",
   "mimetype": "text/x-python",
   "name": "python",
   "nbconvert_exporter": "python",
   "pygments_lexer": "ipython3",
   "version": "3.7.5"
  }
 },
 "nbformat": 4,
 "nbformat_minor": 1
}
