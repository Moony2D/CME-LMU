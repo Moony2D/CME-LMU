{
 "cells": [
  {
   "cell_type": "markdown",
   "metadata": {},
   "source": [
    "# Computational Methods in Economics\n",
    "\n",
    "## Application: Job Search"
   ]
  },
  {
   "cell_type": "code",
   "execution_count": 1,
   "metadata": {},
   "outputs": [
    {
     "name": "stdout",
     "output_type": "stream",
     "text": [
      "Last update: 2019-01-27 21:34:58.335701\n"
     ]
    }
   ],
   "source": [
    "# Author: Alex Schmitt (schmitt@ifo.de)\n",
    "\n",
    "import datetime\n",
    "print('Last update: ' + str(datetime.datetime.today()))"
   ]
  },
  {
   "cell_type": "markdown",
   "metadata": {},
   "source": [
    "### Preliminaries\n",
    "\n",
    "#### Import Modules"
   ]
  },
  {
   "cell_type": "code",
   "execution_count": 2,
   "metadata": {
    "collapsed": true
   },
   "outputs": [],
   "source": [
    "import numpy as np\n",
    "import scipy.optimize\n",
    "\n",
    "import matplotlib.pyplot as plt\n",
    "%matplotlib inline\n",
    "import seaborn\n",
    "\n",
    "import funapprox_cme as fa"
   ]
  },
  {
   "cell_type": "markdown",
   "metadata": {},
   "source": [
    "In this notebook, we look at a different application of dynamic programming: modeling job search. More specifically, we look at the famous *McCall job search model* (McCall 1970). The exposition follows the section on quantecon.org; for more information, see https://lectures.quantecon.org/py/mccall_model.html.\n",
    "\n",
    "In any period $t$, an infinitely-lived worker can be in one of two states, employed or unemployed. In the former case, she receives income $y_t = w$ (a wage), in the latter case she receives $y_t = b$, a fixed unemployment benefit. Her lifeftime utility is given by \n",
    "\n",
    "\\begin{equation}\n",
    "{\\mathbb E} \\sum_{t=0}^\\infty \\beta^t u(y_t)\n",
    "\\end{equation}\n",
    "\n",
    "where $\\beta$ is a discount factor.\n",
    "\n",
    "In any period $t$, when the worker is employed, she loses her job with a given probability $\\alpha$. In this case, she has no decision to take. In the other state, if the worker starts period $t$ being unemployed, she receives a job offer with probability $\\gamma$. Moreover, the wage corresponding to the offer is a random variable, drawn from a uniform distribution $p$, with the minimum and maximum level given by $\\underline{w}$ and $\\bar{w}$, respectively. The worker then decides whether or not to accept the offer. If she accepts, she starts the following period being employed, while if she rejects, she remains unemployed."
   ]
  },
  {
   "cell_type": "markdown",
   "metadata": {},
   "source": [
    "How can we write the Bellman equation for this model? As in question 1, we actually need two Bellman equations, one for each state. Let $V(w)$ denote the value of being employed with wage $w$, and let $U$ denote the value of being unemployed. Then, the Bellman equation when being employed reads:\n",
    "\n",
    "\\begin{equation}\n",
    "    V(w) = u(w) + \\beta\\left[(1 - \\alpha) V(w) + \\alpha U \\right] \n",
    "\\end{equation}\n",
    "\n",
    "Again, note that there is no maximization problem on the right-hand side, since the worker has no decision to take: if she doesn't lose her job, she receives the same wage in the following period. \n",
    "\n",
    "When being unemployed, the Bellman equation reads:\n",
    "\n",
    "\\begin{equation}\n",
    "    U = u(b) + \\beta \\left[ (1 - \\gamma) U + \\gamma \\int_{\\underline{w}}^{\\bar{w}} \\max\\left\\{V(w'), U\\right\\}    p(w') dw'\\right] \n",
    "\\end{equation}\n",
    "\n",
    "Consider the two possible cases when starting period $t$ unemployed:\n",
    "\n",
    "- With probability $(1 - \\gamma)$, the worker does not receive a job offer and remains unemployed at the start of period $t + 1$.\n",
    "\n",
    "- With probability $\\gamma$, she receives a job offer, with a wage drawn from distribution $p$. In order to find the expected continuation value, since the wage is a continuous variable, we have to integrate over the range of possible outcomes $[\\underline{w}, \\bar{w}]$. For each wage rate $w'$, the worker would then decide whether to accept the offer (in this case, her continuation  value is $V(w')$) or to reject it, in which case she remains unemployed and has continuation value $U$. The decision is based on what choice gives the higher continuation value.\n",
    "\n",
    "Note that the value $U$ does not depend on any wage rate, and hence is actually a constant, rather than a function."
   ]
  },
  {
   "cell_type": "markdown",
   "metadata": {},
   "source": [
    "Computationally, this problem is in some sense easier than the DP problem in the NGM that we have seen before, mainly because of the optimization problem. In the NGM, we have maximized the RHS of the Bellman equation over continuous variables (capital and labor). Here, the worker faces a discrete choice: accept or reject the job offer. Hence, we do not need to use derivative-based optimization algorithms like BFGS, instead maximization here means essentially comparing the outcomes under the two options.\n",
    "\n",
    "If we treat $w$ as a continuous variable, we would still approximate the value function using Chebyshev polynomials, and then use a numerical integration approach to evaluate the integral on the right-hand side of the second Bellman equation. However, since we have not talked about numerical integration in this class, we use a simpler approach. We assume that the wage can only take a finite number $N$ of values; hence, it is a discrete random variable. For a uniform distribution, the probability of a given value $w_i$ is $1/N$. We can then approximate the integral with a simple sum:\n",
    "\n",
    "\\begin{equation}\n",
    "    U = u(b) + \\beta \\left[ (1 - \\gamma) U + \\gamma \\frac{1}{N} \\sum_{i = 1}^N \\max\\left\\{V(w_i), U\\right\\}\\right] \n",
    "\\end{equation}"
   ]
  },
  {
   "cell_type": "markdown",
   "metadata": {},
   "source": [
    "Use dynamic programming to solve the model for $N = 60$ possible values for the wage, equally spaced in the interval $[10, 20]$ and the parameter values given below. Plot the value functions against the possible wage rates. At what wage level does the worker accept an offer (in other words, what is the so-called *reservation wage*)?"
   ]
  },
  {
   "cell_type": "code",
   "execution_count": 15,
   "metadata": {
    "collapsed": true
   },
   "outputs": [],
   "source": [
    "def u(c, nu):\n",
    "    return (c**(1 - nu) - 1) / (1 - nu)\n",
    "\n",
    "alpha = 0.2      # Job separation rate\n",
    "beta = 0.98        # Discount factor\n",
    "gamma = 0.7       # Job offer rate\n",
    "b = 6.0      # Unemployment compensation\n",
    "nu = 2.0       # Utility parameter"
   ]
  },
  {
   "cell_type": "markdown",
   "metadata": {},
   "source": [
    "### Answer"
   ]
  },
  {
   "cell_type": "markdown",
   "metadata": {},
   "source": [
    "#### Grid for wage rates"
   ]
  },
  {
   "cell_type": "code",
   "execution_count": 16,
   "metadata": {
    "collapsed": true
   },
   "outputs": [],
   "source": [
    "n = 60  # number of possible outcomes for wage\n",
    "w_vec = np.linspace(10, 20, n)     # wages between 10 and 20\n",
    "p_vec = np.ones(n) * 1/n"
   ]
  },
  {
   "cell_type": "markdown",
   "metadata": {},
   "source": [
    "#### Value function iteration\n",
    "\n",
    "In our iteration, we update the current guess for the value functions in the following way:\n",
    "\n",
    "\\begin{equation}\n",
    "    V^{(it + 1)} (w) = u(w) + \\beta \\left[(1-\\alpha)V^{(it)} (w) + \\alpha U^{(it)} \\right]\n",
    "\\end{equation}\n",
    "\n",
    "\n",
    "\\begin{equation}\n",
    "    U^{(it + 1)} = u(b) +\n",
    "    \\beta (1 - \\gamma) U^{(it)}\n",
    "     + \\beta \\gamma \\frac{1}{N} \\sum_{i = 1}^N \\max\\left\\{V^{(it)}(w_i), U^{(it)}\\right\\}\n",
    "\\end{equation}"
   ]
  },
  {
   "cell_type": "code",
   "execution_count": 17,
   "metadata": {},
   "outputs": [
    {
     "name": "stdout",
     "output_type": "stream",
     "text": [
      "9.9971160239e-09 907\n"
     ]
    }
   ],
   "source": [
    "V = np.ones(len(w_vec))  # Initial guess of V\n",
    "V_new = np.ones(len(w_vec))    # To store updates to V\n",
    "U = 1                        # Initial guess of U\n",
    "\n",
    "it = 0\n",
    "eps = 1\n",
    "max_it = 1000\n",
    "\n",
    "while eps > 1e-8 and it < max_it:\n",
    "    it += 1\n",
    "    ## loop over possible wage rates to find V(w)\n",
    "    for idx, w in enumerate(w_vec):\n",
    "        V_new[idx] = u(w, nu) + beta * ((1 - alpha) * V[idx] + alpha * U)\n",
    "    ## compute new guess for U\n",
    "    U_new = u(b, nu) + beta * (1 - gamma) * U + beta * gamma * np.sum(np.maximum(U, V) * p_vec)\n",
    "    \n",
    "    ## check for convergence\n",
    "    eps_1 = np.linalg.norm(V_new - V))\n",
    "    eps_2 = np.abs(U_new - U)\n",
    "    eps = max(eps_1, eps_2)\n",
    "    \n",
    "    ## update current guess for value functions\n",
    "    V[:] = V_new\n",
    "    U = U_new\n",
    "\n",
    "    \n",
    "print(eps, it)    "
   ]
  },
  {
   "cell_type": "markdown",
   "metadata": {},
   "source": [
    "#### Plot value functions"
   ]
  },
  {
   "cell_type": "code",
   "execution_count": 18,
   "metadata": {},
   "outputs": [
    {
     "data": {
      "text/plain": [
       "<matplotlib.legend.Legend at 0x687dab20f0>"
      ]
     },
     "execution_count": 18,
     "metadata": {},
     "output_type": "execute_result"
    },
    {
     "data": {
      "image/png": "[encoded data removed]",
      "text/plain": [
       "<matplotlib.figure.Figure at 0x687da1ac18>"
      ]
     },
     "metadata": {},
     "output_type": "display_data"
    }
   ],
   "source": [
    "fig, ax = plt.subplots()\n",
    "ax.plot(w_vec, V, 'b-', lw=2, label='$V$')\n",
    "ax.plot(w_vec, U * np.ones(len(w_vec)), 'g-', lw=2, label='$U$')\n",
    "ax.set_xlim(min(w_vec), max(w_vec))\n",
    "ax.legend(loc='upper left')"
   ]
  },
  {
   "cell_type": "markdown",
   "metadata": {
    "collapsed": true
   },
   "source": [
    "#### Find reservation wage\n",
    "\n",
    "The reservation wage is the smallest wage such $V(w) > U$: "
   ]
  },
  {
   "cell_type": "code",
   "execution_count": 19,
   "metadata": {},
   "outputs": [
    {
     "name": "stdout",
     "output_type": "stream",
     "text": [
      "The reservation wage is 10.85.\n"
     ]
    }
   ],
   "source": [
    "print(\"The reservation wage is {:.2f}.\".format(w_vec[V > U][0], ) )"
   ]
  }
 ],
 "metadata": {
  "kernelspec": {
   "display_name": "Python 3",
   "language": "python",
   "name": "python3"
  },
  "language_info": {
   "codemirror_mode": {
    "name": "ipython",
    "version": 3
   },
   "file_extension": ".py",
   "mimetype": "text/x-python",
   "name": "python",
   "nbconvert_exporter": "python",
   "pygments_lexer": "ipython3",
   "version": "3.7.5"
  }
 },
 "nbformat": 4,
 "nbformat_minor": 1
}
