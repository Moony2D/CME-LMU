{
 "cells": [
  {
   "cell_type": "markdown",
   "metadata": {},
   "source": [
    "Before you turn this problem in, make sure everything runs as expected. First, **restart the kernel** (in the menubar, select Kernel$\\rightarrow$Restart) and then **run all cells** (in the menubar, select Cell$\\rightarrow$Run All).\n",
    "\n",
    "Make sure you fill in any place that says `YOUR CODE HERE`, as well as your name below:"
   ]
  },
  {
   "cell_type": "code",
   "execution_count": null,
   "metadata": {},
   "outputs": [],
   "source": [
    "NAME = \"\""
   ]
  },
  {
   "cell_type": "markdown",
   "metadata": {},
   "source": [
    "Note: some of the cells below are locked, so you cannot change them, but you can evaluate them!"
   ]
  },
  {
   "cell_type": "markdown",
   "metadata": {},
   "source": [
    "---"
   ]
  },
  {
   "cell_type": "markdown",
   "metadata": {
    "deletable": false,
    "editable": false,
    "nbgrader": {
     "cell_type": "markdown",
     "checksum": "37b7815772746f5602ca3cddd780ce83",
     "grade": false,
     "grade_id": "cell-766265bdb7b1d061",
     "locked": true,
     "schema_version": 3,
     "solution": false,
     "task": false
    }
   },
   "source": [
    "# Computational Methods in Economics (winter term 2019/20)\n",
    "\n",
    "## Problem Set 6"
   ]
  },
  {
   "cell_type": "markdown",
   "metadata": {
    "deletable": false,
    "editable": false,
    "nbgrader": {
     "cell_type": "markdown",
     "checksum": "53067778f8ee19170321fbccd16626c0",
     "grade": false,
     "grade_id": "cell-aba41b2861a855b0",
     "locked": true,
     "schema_version": 3,
     "solution": false,
     "task": false
    }
   },
   "source": [
    "#### DEADLINE: Wednesday, February 5, 12 pm (Noon)"
   ]
  },
  {
   "cell_type": "markdown",
   "metadata": {
    "deletable": false,
    "editable": false,
    "nbgrader": {
     "cell_type": "markdown",
     "checksum": "15b51670fb9fb8293c442739967fe67b",
     "grade": false,
     "grade_id": "cell-2ca9aa5782909f87",
     "locked": true,
     "schema_version": 3,
     "solution": false,
     "task": false
    }
   },
   "source": [
    "### Preliminaries\n",
    "\n",
    "#### Import Modules"
   ]
  },
  {
   "cell_type": "code",
   "execution_count": null,
   "metadata": {
    "deletable": false,
    "editable": false,
    "nbgrader": {
     "cell_type": "code",
     "checksum": "dd8fdef2e29b44cc280d266c00c55ec8",
     "grade": false,
     "grade_id": "cell-8074bc2d1f52c6f1",
     "locked": true,
     "schema_version": 3,
     "solution": false,
     "task": false
    }
   },
   "outputs": [],
   "source": [
    "import numpy as np\n",
    "import scipy.optimize\n",
    "\n",
    "import matplotlib.pyplot as plt\n",
    "%matplotlib inline\n",
    "\n",
    "import funapprox_cme as fa"
   ]
  },
  {
   "cell_type": "markdown",
   "metadata": {
    "deletable": false,
    "editable": false,
    "nbgrader": {
     "cell_type": "markdown",
     "checksum": "26eb2163cb19e9e6bba47b77d6a0d8e7",
     "grade": false,
     "grade_id": "cell-e5318083ca87a69d",
     "locked": true,
     "schema_version": 3,
     "solution": false,
     "task": false
    }
   },
   "source": [
    "## Question 1\n",
    "\n",
    "In this question, we use Gaussian-Legendre quadrature to approximate the mean of the *beta distribution* (https://en.wikipedia.org/wiki/Beta_distribution). First, compute the analytical mean for parameter values **a = 3** and **b = 5** (in the Wikipedia article, the parameters are called $\\alpha$ and $\\beta$, respectively), either by hand or using a **Scipy** package (**Hint**: check the contents of **scipy.stats**). Store your result in a scalar variable named **mean_true**. \n",
    " \n",
    "Next, use Gauss-Legendre to compute the numerical approximation **mean_approx**. For the pdf, you can again make use of the appropriate **Scipy** package. Note that the pdf of the beta distribution is defined in the range $[0, 1]$.\n",
    "\n",
    "NB: Be careful not to mix up the parameters **a** and **b** of the beta distribution with our notation for the end points of the distribution's interval (here $[0, 1]$)."
   ]
  },
  {
   "cell_type": "code",
   "execution_count": null,
   "metadata": {
    "deletable": false,
    "nbgrader": {
     "cell_type": "code",
     "checksum": "9505b1c74d69e48d69f031b1d7f52b62",
     "grade": false,
     "grade_id": "cell-5d08b5416e95dee7",
     "locked": false,
     "schema_version": 3,
     "solution": true
    }
   },
   "outputs": [],
   "source": [
    "# YOUR CODE HERE"
   ]
  },
  {
   "cell_type": "code",
   "execution_count": null,
   "metadata": {
    "deletable": false,
    "editable": false,
    "nbgrader": {
     "cell_type": "code",
     "checksum": "389e3a5365c664a5f81ae46b48a7cc6a",
     "grade": true,
     "grade_id": "cell-d8b5b1270da7e274",
     "locked": true,
     "points": 1,
     "schema_version": 3,
     "solution": false
    }
   },
   "outputs": [],
   "source": [
    "# THIS IS A TEST CELL!"
   ]
  },
  {
   "cell_type": "code",
   "execution_count": null,
   "metadata": {
    "deletable": false,
    "editable": false,
    "nbgrader": {
     "cell_type": "code",
     "checksum": "e6061459a171f6bea2e3841afd6610f9",
     "grade": true,
     "grade_id": "cell-a74790823bef7115",
     "locked": true,
     "points": 2,
     "schema_version": 3,
     "solution": false
    }
   },
   "outputs": [],
   "source": [
    "# THIS IS A TEST CELL!"
   ]
  },
  {
   "cell_type": "markdown",
   "metadata": {
    "deletable": false,
    "editable": false,
    "nbgrader": {
     "cell_type": "markdown",
     "checksum": "001355d0f3ff24324507f1c059f97b48",
     "grade": false,
     "grade_id": "cell-30602a2fa258c061",
     "locked": true,
     "schema_version": 3,
     "solution": false
    }
   },
   "source": [
    "## Question 2\n",
    "\n",
    "In the stochastic NGM, let output be given by $y_t = z_t f(k_t)$. $z_t$ is a random variable (\"shock\") whose *logarithm* follows an AR(1) process: \n",
    "\n",
    "\\begin{equation}\n",
    "    \\ln(z_{t+1}) = \\rho \\ln(z_t) + \\epsilon_{t+1},\\ \\ \\epsilon_{t+1} \\sim N(0, \\sigma^2)\n",
    "\\end{equation}\n",
    "\n",
    "Moreover, in this version of the growth model, let $\\delta = 1$ (full depreciation). The production function (without the shock) is given by\n",
    "\n",
    "\n",
    "$$\n",
    "    f(k) = k^\\alpha\n",
    "$$\n",
    "\n",
    "(and hence labor supply is implicitly set constant to 1).\n",
    "\n",
    "\n",
    "The random variable $\\epsilon_{t+1}$ enters the Euler equation on the right hand side, and hence there is an expected value:\n",
    "\n",
    "\\begin{equation}\n",
    "\\begin{split}\n",
    "    c_t^{-1} &= \\beta E[c_{t+1}^{-\\nu} z_{t+1} f_k(k_{t+1})] \\\\\n",
    "               &= \\beta E[c_{t+1}^{-\\nu} \\exp(\\rho \\ln(z_t) + \\epsilon_{t+1}) \\alpha k_{t+1}^{\\alpha -1}] \\\\\n",
    "               &= \\beta E[c_{t+1}^{-\\nu}  z_t^\\rho \\exp(\\epsilon_{t+1}) \\alpha k_{t+1}^{\\alpha -1} ]\n",
    "\\end{split}    \n",
    "\\end{equation}\n",
    "\n",
    "If $\\epsilon_{t+1}$ is normally distributed with mean $\\mu$ and variance $\\sigma^2$, the expectation of $g(\\epsilon_{t+1})$ (for an arbitrary function $g$) can be approximated by\n",
    "\n",
    "\\begin{equation}\n",
    "    E[g(\\epsilon_{t+1})] = \\sum^n_{i = 1} \\frac{1}{\\sqrt{\\pi}} \\omega_i g(\\sqrt{2} \\sigma \\xi_i + \\mu)\n",
    "\\end{equation}\n",
    "\n",
    "Hence, the right hand side of the Euler equation can be approximated in the following way:\n",
    "\n",
    "\\begin{equation}\n",
    "\\begin{split}\n",
    "   c_t^{-1}  &= \\beta E[c_{t+1}^{-\\nu}  z_t^\\rho \\exp(\\epsilon_{t+1}) \\alpha k_{t+1}^{\\alpha -1} ] \\\\\n",
    "                  &= \\beta \\sum^n_{i = 1} \\frac{1}{\\sqrt{\\pi}} \\omega_i c_{t+1}^{-1}  z_t^\\rho \\exp(\\sqrt{2} \\sigma \\xi_i) \\alpha k_{t+1}^{\\alpha -1}  \n",
    "\\end{split}\n",
    "\\end{equation}\n",
    "\n",
    "Note that we could use this equation to solve the model using root finding and function approximation tools. Here, we will just employ this equation to show that a stochastic NGM cannot attain a steady state. \n",
    "\n",
    "If there were a steady state, we would have $c_t = c_{t+1}$. Hence,\n",
    "\n",
    "\\begin{equation}\n",
    "   1 = \\beta \\sum^n_{i = 1} \\frac{1}{\\sqrt{\\pi}} \\omega_i  z_t^\\rho   \\exp(\\sqrt{2} \\sigma \\xi_i) \\alpha k_{t+1}^{\\alpha -1}\n",
    "\\end{equation}\n",
    "\n",
    "and rearranging terms gives\n",
    "\n",
    "\\begin{equation}\n",
    "   k_{t+1} = \\big[ \\alpha\\beta z_t^\\rho \\sum^n_{i = 1} \\frac{1}{\\sqrt{\\pi}} \\omega_i    \\exp(\\sqrt{2} \\sigma \\xi_i) \\big]^{\\frac{1}{1-\\alpha}} \\tag{1}\n",
    "\\end{equation}\n",
    "\n"
   ]
  },
  {
   "cell_type": "markdown",
   "metadata": {
    "deletable": false,
    "editable": false,
    "nbgrader": {
     "cell_type": "markdown",
     "checksum": "eb2bba7d441fd264120a2530fb903418",
     "grade": false,
     "grade_id": "cell-f27e7d71211c3818",
     "locked": true,
     "schema_version": 3,
     "solution": false
    }
   },
   "source": [
    "(a) Evaluate the sum on the RHS of (1), i.e.\n",
    "\n",
    "$$\n",
    "    \\sum^n_{i = 1} \\frac{1}{\\sqrt{\\pi}} \\omega_i    \\exp(\\sqrt{2} \\sigma \\xi_i) \n",
    "$$    \n",
    "\n",
    "using Gaussian-Hermite nodes and weights, with $n = 8$ and $\\sigma = 0.0067$. Store the result in a scalar named **sum_ee**.\n"
   ]
  },
  {
   "cell_type": "code",
   "execution_count": null,
   "metadata": {
    "deletable": false,
    "nbgrader": {
     "cell_type": "code",
     "checksum": "59ee5c8ae938b0fbd974f6c49530ab28",
     "grade": false,
     "grade_id": "cell-292a41d9926b6051",
     "locked": false,
     "schema_version": 3,
     "solution": true
    }
   },
   "outputs": [],
   "source": [
    "# YOUR CODE HERE"
   ]
  },
  {
   "cell_type": "code",
   "execution_count": null,
   "metadata": {
    "deletable": false,
    "editable": false,
    "nbgrader": {
     "cell_type": "code",
     "checksum": "7acc82466bada6a3c0238d2a9be93c28",
     "grade": true,
     "grade_id": "cell-a1f2490a5337fe35",
     "locked": true,
     "points": 2,
     "schema_version": 3,
     "solution": false
    }
   },
   "outputs": [],
   "source": [
    "assert np.allclose(sum_ee, 1.00002)"
   ]
  },
  {
   "cell_type": "markdown",
   "metadata": {
    "deletable": false,
    "editable": false,
    "nbgrader": {
     "cell_type": "markdown",
     "checksum": "9c742aecb2b15fc991756207a2cb91e4",
     "grade": false,
     "grade_id": "cell-ca652e545d948503",
     "locked": true,
     "schema_version": 3,
     "solution": false
    }
   },
   "source": [
    "(b) The function **ar1** below implements an AR1 process of length T. Use it to create a T-by-1 array **z** in which each element $z_t$ comes from the AR1 process above,\n",
    "\n",
    "\\begin{equation}\n",
    "    \\ln(z_{t+1}) = \\rho \\ln(z_t) + \\epsilon_{t+1},\\ \\ \\epsilon_{t+1} \\sim N(0, \\sigma^2)\n",
    "\\end{equation}\n",
    "\n",
    "for $T = 100$, $\\rho = 0.8$ and $\\sigma = 0.0067$. You do not need to change the default settings in **ar1**.\n"
   ]
  },
  {
   "cell_type": "code",
   "execution_count": null,
   "metadata": {
    "deletable": false,
    "editable": false,
    "nbgrader": {
     "cell_type": "code",
     "checksum": "a98e2cbcd9d5cd800c5e5f3f675cc0c7",
     "grade": false,
     "grade_id": "cell-86ab8e3ccb52403a",
     "locked": true,
     "schema_version": 3,
     "solution": false,
     "task": false
    }
   },
   "outputs": [],
   "source": [
    "def ar1(T, rho, sigma, wbar = 0):\n",
    "    '''\n",
    "    Implements an AR1 process of length T with autocorrelation rho and standard deviation sigma\n",
    "    '''\n",
    "    w = np.zeros(T)\n",
    "    ## initialize at wbar\n",
    "    w[0] = wbar\n",
    "    \n",
    "    for t in range(1,T):        \n",
    "        w[t] = (1 - rho) * wbar + rho * w[t-1] + sigma * np.random.normal()\n",
    "        \n",
    "    return w"
   ]
  },
  {
   "cell_type": "code",
   "execution_count": null,
   "metadata": {
    "deletable": false,
    "nbgrader": {
     "cell_type": "code",
     "checksum": "f7c4c52a5d503003b8e227c34a3dc92e",
     "grade": false,
     "grade_id": "cell-5cb4f4f861f56cb2",
     "locked": false,
     "schema_version": 3,
     "solution": true,
     "task": false
    }
   },
   "outputs": [],
   "source": [
    "# YOUR CODE HERE"
   ]
  },
  {
   "cell_type": "code",
   "execution_count": null,
   "metadata": {
    "deletable": false,
    "editable": false,
    "nbgrader": {
     "cell_type": "code",
     "checksum": "7c7d7057c2155618a62c2416ea21e772",
     "grade": true,
     "grade_id": "cell-70afeffc9f59f767",
     "locked": true,
     "points": 1,
     "schema_version": 3,
     "solution": false,
     "task": false
    }
   },
   "outputs": [],
   "source": [
    "assert np.allclose(z.mean(), 1, atol = 1e-2)"
   ]
  },
  {
   "cell_type": "markdown",
   "metadata": {
    "deletable": false,
    "editable": false,
    "nbgrader": {
     "cell_type": "markdown",
     "checksum": "59736935d18be2faf55ca980eb80ea9e",
     "grade": false,
     "grade_id": "cell-0a52c0417fd9f7dc",
     "locked": true,
     "schema_version": 3,
     "solution": false,
     "task": false
    }
   },
   "source": [
    "(c) With the results and parameter values from (a) and (b), use equation (1) to simulate the time paths for output and consumption. That is, return two T-by-1 arrays **Y** and **C** for output and consumption, respectively, where the $t$-th element contains the correspoding variable value in period $t$. For initial output, set $y_0 = 0.7$. Moreover, let $\\alpha = 0.33$, $\\beta = 0.96$ and $T = 100$.\n",
    "\n",
    "**Hint**: For every period $t$, we have $c_t = y_t - k_{t+1}$ and $y_{t+1} = z_{t+1} k_{t+1}^\\alpha$.\n",
    "\n",
    "*Optional question (no submission required)*: Why do the resulting time paths imply that there is no steady state?"
   ]
  },
  {
   "cell_type": "code",
   "execution_count": null,
   "metadata": {
    "deletable": false,
    "nbgrader": {
     "cell_type": "code",
     "checksum": "0f4e6c7e0aeab2458ef16d08ca4d0167",
     "grade": false,
     "grade_id": "cell-bb4888b1cd503f65",
     "locked": false,
     "schema_version": 3,
     "solution": true,
     "task": false
    }
   },
   "outputs": [],
   "source": [
    "# YOUR CODE HERE"
   ]
  },
  {
   "cell_type": "code",
   "execution_count": null,
   "metadata": {
    "deletable": false,
    "editable": false,
    "nbgrader": {
     "cell_type": "code",
     "checksum": "1a7aad1f83c548d0a3697033bd5554f0",
     "grade": true,
     "grade_id": "cell-5896d2ec3f4fde34",
     "locked": true,
     "points": 3,
     "schema_version": 3,
     "solution": false
    }
   },
   "outputs": [],
   "source": [
    "assert np.allclose(C.std(), 0.037, atol = 1e-2)"
   ]
  },
  {
   "cell_type": "markdown",
   "metadata": {
    "deletable": false,
    "editable": false,
    "nbgrader": {
     "cell_type": "markdown",
     "checksum": "ca7a10970252fa7b590233909043d338",
     "grade": false,
     "grade_id": "cell-09b1f26ee7c9e3a6",
     "locked": true,
     "schema_version": 3,
     "solution": false
    }
   },
   "source": [
    "## Question 3 (N)\n",
    "\n",
    "*This was the exam question 2019*.\n",
    "\n",
    "Consider a growth model without capital. Instead, output is produced using labor and energy. Energy comes in two forms, a \"dirty\" and a \"clean\" variant. Using dirty energy $e_t$ causes emissions of a pollutant and hence a *pollution externality*: it contributes to a stock of the pollutant which negatively affects production. Apart from this negative productivity effect, there is no other cost of dirty energy use. In contrast, clean energy $r_t$ does not cause pollution, but has a constant marginal cost $\\rho$, paid in output units. \n",
    "\n",
    "Formally, per-period utility is given by:\n",
    "\n",
    "\\begin{equation}\n",
    "    u(c_t, h_t) = \\frac{c_t^{1-\\nu}}{1-\\nu} - B \\frac{h_t^{1+\\eta}}{1+\\eta}\n",
    "\\end{equation}\n",
    "\n",
    "Output is given by\n",
    "\n",
    "\\begin{equation}\n",
    "    y_t = D(s_t) f(e_{t}, r_t, h_t) = D(s_t) A e_t^\\alpha r_t^\\gamma h_{t}^{1-\\alpha - \\gamma}\n",
    "\\end{equation}\n",
    "\n",
    "where $s_t$ denotes the pollution stock. $D(s_t)$ is called a damage function: it reduces available output, to an extent which depends on the size of the pollution stock. We assume the following functional form:\n",
    "\n",
    "\\begin{equation}\n",
    "    D(s_{t}) = \\exp(- s_t)\n",
    "\\end{equation}\n",
    "\n",
    "$s_t$ evolves according to the following law of motion:\n",
    "\n",
    "\\begin{equation}\n",
    "    s_{t + 1} = \\phi s_t + e_t\n",
    "\\end{equation}\n",
    "\n",
    "In other words, a share $(1 - \\phi)$ of the current pollution stock depreciates every period. The remaining share, together with the current dirty energy use/emissions $e_t$, makes up the pollution stock in the subsequent period.\n",
    "\n",
    "The planner's problem reads\n",
    "\n",
    "\\begin{equation}\n",
    "    \\max_{\\left\\{c_t, h_t, e_t, r_t, s_{t+1}\\right\\}} \\sum^\\infty_{t = 0} \\beta^t \\left[\\frac{c_t^{1-\\nu}}{1-\\nu} - B \\frac{h_t^{1+\\eta}}{1+\\eta} \\right]\n",
    "\\end{equation}\n",
    "\n",
    "s.t. the resource constraint and the law of motion for $s_t$:\n",
    "\n",
    "\\begin{equation}\n",
    "    c_t = \\exp(-s_t) A e_t^\\alpha r_t^\\gamma h_{t}^{1-\\alpha - \\gamma} - \\rho r_t\n",
    "\\end{equation}\n",
    "\\begin{equation}\n",
    "    s_{t + 1} = \\phi s_t + e_t\n",
    "\\end{equation}\n",
    "\n",
    "(As a side note, this model is not well-suited for representing climate change, but rather a more short-term production externality, e.g. air pollution.)"
   ]
  },
  {
   "cell_type": "markdown",
   "metadata": {
    "deletable": false,
    "editable": false,
    "nbgrader": {
     "cell_type": "markdown",
     "checksum": "a97c702967379aa35fca7c017f5652ef",
     "grade": false,
     "grade_id": "cell-f3f25337f0a4e33c",
     "locked": true,
     "schema_version": 3,
     "solution": false
    }
   },
   "source": [
    "(a) Using the parameter values below, compute the steady state of the model. Report the steady state values $(e_s, r_s, h_s)$ (in this order!) in a Numpy array named **x_s**.\n",
    "\n",
    "*Hint*: For comparison, you get the following steady state value for $e_s$:\n",
    "\n",
    "\\begin{equation}\n",
    "    e_s = 0.1528\n",
    "\\end{equation}\n"
   ]
  },
  {
   "cell_type": "code",
   "execution_count": null,
   "metadata": {
    "deletable": false,
    "editable": false,
    "nbgrader": {
     "cell_type": "code",
     "checksum": "32f1f50656ce8013aaa5622ebf84350a",
     "grade": false,
     "grade_id": "cell-d9aa4bf92087c23e",
     "locked": true,
     "schema_version": 3,
     "solution": false
    }
   },
   "outputs": [],
   "source": [
    "## utility\n",
    "beta = 0.9      # discount factor\n",
    "nu = 2          # risk-aversion coefficient for consumption\n",
    "eta = 1         # elasticity parameter for labor supply\n",
    "B = 1\n",
    "\n",
    "## production\n",
    "alpha = 0.25\n",
    "gamma = 0.05\n",
    "A = 1\n",
    "\n",
    "rho = 0.1       # marginal cost of clean energy\n",
    "phi = 0.5       # share of pollutant that remains in the air between two periods\n",
    "\n",
    "## initial values\n",
    "s0 = 0.05\n",
    "\n",
    "params = {'beta': beta, 'nu': nu, 'eta': eta, 'alpha': alpha, 'gamma': gamma,\n",
    "          'phi': phi, 'rho': rho, 'A': A, 'B': B }"
   ]
  },
  {
   "cell_type": "code",
   "execution_count": null,
   "metadata": {
    "deletable": false,
    "nbgrader": {
     "cell_type": "code",
     "checksum": "30f4f99e8ce1a8fd3eeb90936d17978b",
     "grade": false,
     "grade_id": "cell-7b9d11132f916334",
     "locked": false,
     "schema_version": 3,
     "solution": true
    }
   },
   "outputs": [],
   "source": [
    "# YOUR CODE HERE"
   ]
  },
  {
   "cell_type": "code",
   "execution_count": null,
   "metadata": {
    "deletable": false,
    "editable": false,
    "nbgrader": {
     "cell_type": "code",
     "checksum": "fd9570ce88afdcbadd7ce3655549a003",
     "grade": true,
     "grade_id": "cell-4593f7304b05e854",
     "locked": true,
     "points": 5,
     "schema_version": 3,
     "solution": false,
     "task": false
    }
   },
   "outputs": [],
   "source": [
    "# THIS IS A TEST CELL!"
   ]
  },
  {
   "cell_type": "markdown",
   "metadata": {
    "deletable": false,
    "editable": false,
    "nbgrader": {
     "cell_type": "markdown",
     "checksum": "5d32898860fac4620965e9b70abdd239",
     "grade": false,
     "grade_id": "cell-1e1505fecd12d319",
     "locked": true,
     "schema_version": 3,
     "solution": false
    }
   },
   "source": [
    "(b) Use dynamic programming to solve the model, given the initial pollution stock $s_0 = 0.05$. Your main result should be an array of coefficient, **a_ch**, of dimension 10-by-1. In other words, when approximating functions, use a degree of approximation $n = 9$. \n",
    "\n",
    "*Hint 1*: For value function iteration, you can use $V^{(0)}(s) = - s^2$ as initial guess. \n",
    "\n",
    "*Hint 2*: For comparison, the first element of your **a_ch** vector should be **a_ch[0]** = -28.6624417.\n"
   ]
  },
  {
   "cell_type": "code",
   "execution_count": null,
   "metadata": {
    "deletable": false,
    "nbgrader": {
     "cell_type": "code",
     "checksum": "712d4b4c8f65aaa9d6a49dd4d7a753be",
     "grade": false,
     "grade_id": "cell-336fa8f4de872b21",
     "locked": false,
     "schema_version": 3,
     "solution": true,
     "task": false
    }
   },
   "outputs": [],
   "source": [
    "# YOUR CODE HERE\n"
   ]
  },
  {
   "cell_type": "code",
   "execution_count": null,
   "metadata": {
    "deletable": false,
    "editable": false,
    "nbgrader": {
     "cell_type": "code",
     "checksum": "b923ee69630494d0cb99c834f62c0131",
     "grade": true,
     "grade_id": "cell-8bf9b94b0da00df9",
     "locked": true,
     "points": 5,
     "schema_version": 3,
     "solution": false,
     "task": false
    }
   },
   "outputs": [],
   "source": [
    "# THIS IS A TEST CELL!"
   ]
  },
  {
   "cell_type": "markdown",
   "metadata": {
    "deletable": false,
    "editable": false,
    "nbgrader": {
     "cell_type": "markdown",
     "checksum": "6e087befc7ac8d24973f1a1585049aa4",
     "grade": false,
     "grade_id": "cell-04d6dcea14e63b81",
     "locked": true,
     "schema_version": 3,
     "solution": false,
     "task": false
    }
   },
   "source": [
    "(c) Derive approximations to the policy functions (i.e. compute approximation coefficients **a_e**, **a_r** and **a_h**) and simulate the economy for $T = 30$. Plot the time paths for $e$, $r$ and $h$ (named **et**, **rt** and **ht**, respectively), and include their corresponding steady state values."
   ]
  },
  {
   "cell_type": "code",
   "execution_count": null,
   "metadata": {
    "deletable": false,
    "nbgrader": {
     "cell_type": "code",
     "checksum": "9bbbd8a619e2ad0fee6221f5984268b4",
     "grade": false,
     "grade_id": "cell-cee288922d8bb8ec",
     "locked": false,
     "schema_version": 3,
     "solution": true,
     "task": false
    }
   },
   "outputs": [],
   "source": [
    "# YOUR CODE HERE"
   ]
  },
  {
   "cell_type": "code",
   "execution_count": null,
   "metadata": {
    "deletable": false,
    "editable": false,
    "nbgrader": {
     "cell_type": "code",
     "checksum": "6dfd52dc662e447d3c3165d95a9df9f3",
     "grade": true,
     "grade_id": "cell-f2203c738a806497",
     "locked": true,
     "points": 2,
     "schema_version": 3,
     "solution": false,
     "task": false
    }
   },
   "outputs": [],
   "source": [
    "assert np.allclose(a_e, np.array([ 1.51164831e-01,  1.37937099e-02,  2.69269608e-04,  2.22815220e-06,\n",
    "       -1.25248601e-07,  2.56957335e-07,  2.83333412e-07, -1.75284347e-07,\n",
    "       -1.92270845e-07, -3.10513586e-08]))"
   ]
  },
  {
   "cell_type": "code",
   "execution_count": null,
   "metadata": {
    "deletable": false,
    "editable": false,
    "nbgrader": {
     "cell_type": "code",
     "checksum": "c7dd5f78cd94d4007811ea30fb07f656",
     "grade": true,
     "grade_id": "cell-4e06be38be505956",
     "locked": true,
     "points": 4,
     "schema_version": 3,
     "solution": false,
     "task": false
    }
   },
   "outputs": [],
   "source": [
    "assert np.allclose(et.mean(), 0.15161157605)"
   ]
  },
  {
   "cell_type": "markdown",
   "metadata": {
    "deletable": false,
    "editable": false,
    "nbgrader": {
     "cell_type": "markdown",
     "checksum": "20e49987e88da8db060e265b48c64fe8",
     "grade": false,
     "grade_id": "cell-e57ed4d543433cdb",
     "locked": true,
     "schema_version": 3,
     "solution": false,
     "task": false
    }
   },
   "source": [
    "-------------------------------------------------------------------------------------------------------------------------------"
   ]
  }
 ],
 "metadata": {
  "kernelspec": {
   "display_name": "Python 3",
   "language": "python",
   "name": "python3"
  },
  "language_info": {
   "codemirror_mode": {
    "name": "ipython",
    "version": 3
   },
   "file_extension": ".py",
   "mimetype": "text/x-python",
   "name": "python",
   "nbconvert_exporter": "python",
   "pygments_lexer": "ipython3",
   "version": "3.7.5"
  }
 },
 "nbformat": 4,
 "nbformat_minor": 1
}
