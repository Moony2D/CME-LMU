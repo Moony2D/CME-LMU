{
 "cells": [
  {
   "cell_type": "markdown",
   "metadata": {
    "slideshow": {
     "slide_type": "slide"
    }
   },
   "source": [
    "# Computational Methods in Economics\n",
    "\n",
    "## Tutorial 2b - Python Basics II"
   ]
  },
  {
   "cell_type": "code",
   "execution_count": 1,
   "metadata": {
    "slideshow": {
     "slide_type": "skip"
    }
   },
   "outputs": [
    {
     "name": "stdout",
     "output_type": "stream",
     "text": [
      "Last update: 2019-11-06 08:17:31.627737\n"
     ]
    }
   ],
   "source": [
    "# Authors: Alex Schmitt (schmitt@ifo.de)\n",
    "\n",
    "import datetime\n",
    "print('Last update: ' + str(datetime.datetime.today()))"
   ]
  },
  {
   "cell_type": "markdown",
   "metadata": {
    "slideshow": {
     "slide_type": "slide"
    }
   },
   "source": [
    "## This Lecture\n",
    "\n",
    "- [Loops](#loop)\n",
    "- [Conditional Statements](#cond)\n",
    "- [Writing Functions](#fun)\n",
    "- [Importing Modules and Packages](#imp)\n",
    "- [Errors in Python](#errors)"
   ]
  },
  {
   "cell_type": "markdown",
   "metadata": {
    "slideshow": {
     "slide_type": "slide"
    }
   },
   "source": [
    "## Loops\n",
    "Iteration - applying the same task repetitively to a sequence of data - is an extremely important task in computation, as \"*repeating identical or similar tasks without making errors is something that computers do well and people do poorly*\". Therefore, *loops* are an essential feature of every programming language. "
   ]
  },
  {
   "cell_type": "markdown",
   "metadata": {
    "slideshow": {
     "slide_type": "subslide"
    }
   },
   "source": [
    "### For Loops\n",
    "\n",
    "In Python, there are two types of loops. If we have a sequence of things that we want to loop through, we use a **for** loop (also called a \"definite\" loop)."
   ]
  },
  {
   "cell_type": "code",
   "execution_count": 2,
   "metadata": {
    "slideshow": {
     "slide_type": "subslide"
    }
   },
   "outputs": [
    {
     "name": "stdout",
     "output_type": "stream",
     "text": [
      "Daenerys\n",
      "Tyrion\n",
      "Bran\n"
     ]
    }
   ],
   "source": [
    "# iterating over a list of strings\n",
    "text = ['Daenerys', 'Tyrion', 'Bran']\n",
    "for item in text:\n",
    "    print(item)  "
   ]
  },
  {
   "cell_type": "code",
   "execution_count": 3,
   "metadata": {
    "slideshow": {
     "slide_type": "subslide"
    }
   },
   "outputs": [
    {
     "name": "stdout",
     "output_type": "stream",
     "text": [
      "1\n",
      "4\n",
      "9\n",
      "16\n",
      "1\n",
      "4\n",
      "9\n",
      "16\n"
     ]
    }
   ],
   "source": [
    "# iterating over a list of integers\n",
    "values = list(range(1,5))\n",
    "for item in values:\n",
    "    print(item**2)\n",
    "\n",
    "# alternative: use range function (cp. above)  \n",
    "for index in range(1,5):\n",
    "    A = index**2\n",
    "    print(A)"
   ]
  },
  {
   "cell_type": "markdown",
   "metadata": {
    "slideshow": {
     "slide_type": "subslide"
    }
   },
   "source": [
    "Some comments about the syntax of a for-loop:\n",
    "\n",
    "1. A for-loop starts with the keyword **for**, followed by the name for the *iteration variable*. This is followed by **in** and a *sequence of data*. Often, this sequence is a list or another type of array. \n",
    "2. The first line ends with a colon (**:**). This is mandatory and will cause an error message if omitted. In case you are used to other programming languages like MATLAB which do not use semi-colons in analogous expressions, expect this to happen often in the beginning :)."
   ]
  },
  {
   "cell_type": "markdown",
   "metadata": {
    "slideshow": {
     "slide_type": "subslide"
    }
   },
   "source": [
    "3. The line(s) following the colon comprise the *code block* that we are executing in each iteration. As you can see above, these lines are *indented*. This is very important, since Python knows the extent of the code block only from indentation, unlike other languages like MATLAB, which mark the end of a code block by an \"end\" statement. \n",
    "    - If you do not indent the lines in a for-loop or if the number of lines you indent is not the same for all the lines in a code block, you will get an error message. "
   ]
  },
  {
   "cell_type": "markdown",
   "metadata": {
    "slideshow": {
     "slide_type": "subslide"
    }
   },
   "source": [
    "#### Indentation\n",
    "\n",
    "Note the following about indentation:\n",
    "- It is a convention among Python programmers to indent lines in a code block by 4 spaces. In fact, many programs used to write Python code (such as Jupyter or many text editors) will automatically indent the line by 4 spaces when you press Enter after a colon. Moreover, in Jupyter you can also use the *tab key* to indent by 4 spaces."
   ]
  },
  {
   "cell_type": "markdown",
   "metadata": {
    "slideshow": {
     "slide_type": "subslide"
    }
   },
   "source": [
    "- If you have a code block within a code block, you need to indent by 8 spaces etc (see example below). In other words, indent 4 spaces after every colon. \n",
    "- Indentation will show up again and again when using Python, not only in the context of loops, but also in conditional statements and functions (see below)."
   ]
  },
  {
   "cell_type": "markdown",
   "metadata": {
    "slideshow": {
     "slide_type": "subslide"
    }
   },
   "source": [
    "- Why using indentation? While it can take some time to get used to (in particular when you have experience in languages which do not use this concept), clean and consistent indentation improves readability and avoids clutter, such as the brackets or end statements used in other languages. "
   ]
  },
  {
   "cell_type": "markdown",
   "metadata": {
    "slideshow": {
     "slide_type": "skip"
    }
   },
   "source": [
    "A side note: in Python, \"readability\" of code is extremely important and a dominant principle that guides both the design of the language and the way Python programmers should write code. There are countless style guides and guidelines that I encourage you to read. Just as an illustration of the philosophy underlying Python, you can read the \"Zen of Python\":  "
   ]
  },
  {
   "cell_type": "code",
   "execution_count": 4,
   "metadata": {
    "slideshow": {
     "slide_type": "skip"
    }
   },
   "outputs": [
    {
     "name": "stdout",
     "output_type": "stream",
     "text": [
      "The Zen of Python, by Tim Peters\n",
      "\n",
      "Beautiful is better than ugly.\n",
      "Explicit is better than implicit.\n",
      "Simple is better than complex.\n",
      "Complex is better than complicated.\n",
      "Flat is better than nested.\n",
      "Sparse is better than dense.\n",
      "Readability counts.\n",
      "Special cases aren't special enough to break the rules.\n",
      "Although practicality beats purity.\n",
      "Errors should never pass silently.\n",
      "Unless explicitly silenced.\n",
      "In the face of ambiguity, refuse the temptation to guess.\n",
      "There should be one-- and preferably only one --obvious way to do it.\n",
      "Although that way may not be obvious at first unless you're Dutch.\n",
      "Now is better than never.\n",
      "Although never is often better than *right* now.\n",
      "If the implementation is hard to explain, it's a bad idea.\n",
      "If the implementation is easy to explain, it may be a good idea.\n",
      "Namespaces are one honking great idea -- let's do more of those!\n"
     ]
    }
   ],
   "source": [
    "import this"
   ]
  },
  {
   "cell_type": "markdown",
   "metadata": {
    "slideshow": {
     "slide_type": "subslide"
    }
   },
   "source": [
    "Two useful functions when iterating in Python are *enumerate()* and *zip()*. *enumerate()* loops through a list while returning an index for each element. *zip()* is useful when stepping through pairs from two sequences of equal length."
   ]
  },
  {
   "cell_type": "code",
   "execution_count": 5,
   "metadata": {
    "slideshow": {
     "slide_type": "subslide"
    }
   },
   "outputs": [
    {
     "name": "stdout",
     "output_type": "stream",
     "text": [
      "letter_list[0] = 'a'\n",
      "letter_list[1] = 'b'\n",
      "letter_list[2] = 'c'\n"
     ]
    }
   ],
   "source": [
    "## example for enumerate\n",
    "letter_list = ['a', 'b', 'c']\n",
    "for index, letter in enumerate(letter_list):\n",
    "    print(\"letter_list[{}] = '{}'\".format(index, letter))"
   ]
  },
  {
   "cell_type": "code",
   "execution_count": 6,
   "metadata": {
    "slideshow": {
     "slide_type": "subslide"
    }
   },
   "outputs": [
    {
     "name": "stdout",
     "output_type": "stream",
     "text": [
      "letter_list[0] = 'a'\n",
      "letter_list[1] = 'b'\n",
      "letter_list[2] = 'c'\n"
     ]
    }
   ],
   "source": [
    "## example for enumerate\n",
    "letter_list = ['a', 'b', 'c']\n",
    "index_list = [0, 1, 2]\n",
    "for index, letter in zip(index_list, letter_list):\n",
    "    print(\"letter_list[{}] = '{}'\".format(index, letter))"
   ]
  },
  {
   "cell_type": "markdown",
   "metadata": {
    "slideshow": {
     "slide_type": "subslide"
    }
   },
   "source": [
    "#### List Comprehensions\n",
    "\n",
    "Suppose you want to fill a list using a loop. Instead of using the syntax above, you can also write a *list comprehension*, which is essentially a concise one-line version of a loop.  "
   ]
  },
  {
   "cell_type": "code",
   "execution_count": 7,
   "metadata": {
    "slideshow": {
     "slide_type": "subslide"
    }
   },
   "outputs": [
    {
     "name": "stdout",
     "output_type": "stream",
     "text": [
      "285\n",
      "285\n"
     ]
    }
   ],
   "source": [
    "lst = []\n",
    "for num in range(10):\n",
    "    lst.append( num**2 )\n",
    "\n",
    "print( sum(lst) )\n",
    "\n",
    "## in one line\n",
    "print( sum( [x**2 for x in range(10)] ) )"
   ]
  },
  {
   "cell_type": "markdown",
   "metadata": {
    "slideshow": {
     "slide_type": "skip"
    }
   },
   "source": [
    "----------------------------------------------------------------------------------------------------------------------"
   ]
  },
  {
   "cell_type": "markdown",
   "metadata": {
    "slideshow": {
     "slide_type": "subslide"
    }
   },
   "source": [
    "### Exercise 1\n",
    "\n",
    "Given two numeric lists or tuples **x_vals** and **y_vals** of equal length, compute their inner product using **zip()**. (Source: lectures.quantecon.org, Python Essentials, Exercise 1)"
   ]
  },
  {
   "cell_type": "code",
   "execution_count": null,
   "metadata": {
    "slideshow": {
     "slide_type": "skip"
    }
   },
   "outputs": [],
   "source": []
  },
  {
   "cell_type": "markdown",
   "metadata": {
    "slideshow": {
     "slide_type": "skip"
    }
   },
   "source": [
    "----------------------------------------------------------------------------------------------------------------------"
   ]
  },
  {
   "cell_type": "markdown",
   "metadata": {
    "slideshow": {
     "slide_type": "subslide"
    }
   },
   "source": [
    "### While Loops\n",
    "\n",
    "The second type of loop in Python uses a **while** statement. It is also referred to as an \"indefinite\" loop, since it runs until a condition is no longer satisfied (i.e., a boolean evaluates to **False**) and hence we don't usually know how many iterations that takes. Consider the following example:"
   ]
  },
  {
   "cell_type": "code",
   "execution_count": 8,
   "metadata": {
    "slideshow": {
     "slide_type": "subslide"
    }
   },
   "outputs": [
    {
     "name": "stdout",
     "output_type": "stream",
     "text": [
      "10\n",
      "9\n",
      "8\n",
      "7\n",
      "6\n",
      "5\n",
      "4\n",
      "3\n",
      "2\n",
      "1\n",
      "Liftoff!\n"
     ]
    }
   ],
   "source": [
    "countdown = 10\n",
    "while countdown > 0:\n",
    "    print(countdown)\n",
    "    countdown = countdown - 1\n",
    "print(\"Liftoff!\")    "
   ]
  },
  {
   "cell_type": "markdown",
   "metadata": {
    "slideshow": {
     "slide_type": "subslide"
    }
   },
   "source": [
    "The condition after the **while** keyword is initially **True** (otherwise the **while** statement would just be ignored). After every iteration, Python checks whether this is still the case. If so, it executes the code block again. "
   ]
  },
  {
   "cell_type": "markdown",
   "metadata": {
    "slideshow": {
     "slide_type": "subslide"
    }
   },
   "source": [
    "It is easy to see how a **while** loop can turn into an *infinite* loop (usually as the result of a programming error or *bug*): if the condition never becomes **False**, the loop runs forever. \n",
    "\n",
    "Below, the iteration variable countdown is incremented in each iteration rather than reduced, and hence the condition will always be satisfied. In this case, you have to manually interrupt the computation by using the *Stop* button in Jupyter's taskbar. In other Python environments, you can interrupt by pressing the key combination *Strg + C*."
   ]
  },
  {
   "cell_type": "code",
   "execution_count": 9,
   "metadata": {
    "slideshow": {
     "slide_type": "subslide"
    }
   },
   "outputs": [],
   "source": [
    "## the code below will produce an infinite loop!\n",
    "# countdown = 10\n",
    "# while countdown > 0:\n",
    "#     countdown = countdown + 1\n",
    "# print(\"Liftoff!\")"
   ]
  },
  {
   "cell_type": "markdown",
   "metadata": {
    "slideshow": {
     "slide_type": "skip"
    }
   },
   "source": [
    "----------------------------------------------------------------------------------------------------------------------"
   ]
  },
  {
   "cell_type": "markdown",
   "metadata": {
    "slideshow": {
     "slide_type": "subslide"
    }
   },
   "source": [
    "### Exercise 2\n",
    "\n",
    "Given **pairs = ((2, 5), (4, 2), (9, 8), (12, 10))**, count the number of pairs (a, b) such that both a and b are even. \n",
    "\n",
    "Hint: For this question, we can use the *modulo* operation **%** for integers. In general, **x % y** divides x by y and returns the *remainder*. For example, **4 % 2** returns 0, since there is no remainder (this is true for any *even* number x when typing **x % 2**). In contrast, **7 % 2** returns 1 since 7 = 3 x 2 **+ 1**. In fact, for any *odd* integer x, **x % 2** returns 1.\n",
    "\n",
    "(Source: lectures.quantecon.org, Python Essentials, Exercise 1)"
   ]
  },
  {
   "cell_type": "code",
   "execution_count": null,
   "metadata": {
    "slideshow": {
     "slide_type": "skip"
    }
   },
   "outputs": [],
   "source": []
  },
  {
   "cell_type": "markdown",
   "metadata": {
    "slideshow": {
     "slide_type": "subslide"
    }
   },
   "source": [
    "### Exercise 3\n",
    "\n",
    "Write a program that takes an integer and returns the sum of its digits. For example, inputting **12345** should return 15 (as an integer or float).\n",
    "\n",
    "Hint: One way of computing the digit sum makes use of the *modulo* operation **\"%\"**, as seen above. What is useful to note for this question is that, for example, **12345 % 10** would return 5. In addition, what may be useful here is a **while** loop.   \n",
    "\n",
    "An alternative way would be to make use of the **str()** and **int()** functions. "
   ]
  },
  {
   "cell_type": "code",
   "execution_count": null,
   "metadata": {
    "slideshow": {
     "slide_type": "skip"
    }
   },
   "outputs": [],
   "source": []
  },
  {
   "cell_type": "markdown",
   "metadata": {
    "slideshow": {
     "slide_type": "skip"
    }
   },
   "source": [
    "----------------------------------------------------------------------------------------------------------------------\n",
    "<a id ='cond'></a>"
   ]
  },
  {
   "cell_type": "markdown",
   "metadata": {
    "slideshow": {
     "slide_type": "slide"
    }
   },
   "source": [
    "## Conditional Statements\n",
    "\n",
    "Comparisons and Booleans are frequently used for *conditional statements* aka *if-statements*. The idea is that a code block is executed only if a given statement is evaluated as **True**. \n",
    "\n",
    "This *condition* can consist of one or more comparisons or a Boolean - in other words, of anything that can be evaluated as **True** or **False**. If the condition is **False**, the code block is ignored."
   ]
  },
  {
   "cell_type": "code",
   "execution_count": 10,
   "metadata": {
    "slideshow": {
     "slide_type": "subslide"
    }
   },
   "outputs": [
    {
     "name": "stdout",
     "output_type": "stream",
     "text": [
      "x is positive\n"
     ]
    }
   ],
   "source": [
    "x = 3\n",
    "if x > 0:                   # condition using a comparison (here True)\n",
    "    print('x is positive')  # code block that is executed only if the condition is met  \n",
    "\n",
    "B = False    \n",
    "if B:                                # condition using a comparison (here False)\n",
    "    print('Programming is boring!')  # code block will not be executed if B is False"
   ]
  },
  {
   "cell_type": "markdown",
   "metadata": {
    "slideshow": {
     "slide_type": "subslide"
    }
   },
   "source": [
    "As it was the case for for-loops, the first line of an if-statement ends with a semi-colon and the code block must be indented. That being said, sometimes if-statements can also be expressed in one line.\n",
    "\n",
    "You can also specify code to be implemented if the condition does not hold, using **else** (\"alternative execution\"). If there more than two alternatives, you can distinguish the different cases with **elif** (\"chained execution\")."
   ]
  },
  {
   "cell_type": "code",
   "execution_count": 11,
   "metadata": {
    "slideshow": {
     "slide_type": "subslide"
    }
   },
   "outputs": [
    {
     "name": "stdout",
     "output_type": "stream",
     "text": [
      "x is negative\n"
     ]
    }
   ],
   "source": [
    "## two alternatives\n",
    "x = - 5\n",
    "if x > 0:                   # condition\n",
    "    print('x is positive')  # code block that is executed only if the condition is met\n",
    "else:\n",
    "    print('x is negative')  # code block that is executed only if the condition is not met"
   ]
  },
  {
   "cell_type": "code",
   "execution_count": 12,
   "metadata": {
    "slideshow": {
     "slide_type": "subslide"
    }
   },
   "outputs": [
    {
     "name": "stdout",
     "output_type": "stream",
     "text": [
      "s is not a (real) number\n"
     ]
    }
   ],
   "source": [
    "## three alternatives  \n",
    "s = 'Arya'\n",
    "if type(s) == int:\n",
    "    print('s is an integer')\n",
    "elif type(s) == float:\n",
    "    print('s is a float')\n",
    "else:\n",
    "    print('s is not a (real) number')"
   ]
  },
  {
   "cell_type": "markdown",
   "metadata": {
    "slideshow": {
     "slide_type": "subslide"
    }
   },
   "source": [
    "The last expression could have been written without the **elif** part, by combining the two conditions using **or**. Moreover, it could have been implemented using nested conditions, i.e. combining several if/else statements. Since this approach hampers readibility, it should usually be avoided."
   ]
  },
  {
   "cell_type": "code",
   "execution_count": 13,
   "metadata": {
    "slideshow": {
     "slide_type": "subslide"
    }
   },
   "outputs": [
    {
     "name": "stdout",
     "output_type": "stream",
     "text": [
      "s is an integer\n"
     ]
    }
   ],
   "source": [
    "s = 4\n",
    "if (type(s) == int) or (type(s) == float):\n",
    "    print('s is an integer')\n",
    "else:\n",
    "    print('s is not a (real) number')"
   ]
  },
  {
   "cell_type": "code",
   "execution_count": 14,
   "metadata": {
    "slideshow": {
     "slide_type": "subslide"
    }
   },
   "outputs": [
    {
     "name": "stdout",
     "output_type": "stream",
     "text": [
      "s is not a (real) number\n"
     ]
    }
   ],
   "source": [
    "## nested conditional statement\n",
    "s = 'Arya'\n",
    "if type(s) == int:\n",
    "    print('s is an integer')\n",
    "else: \n",
    "    if type(s) == float:\n",
    "        print('s is a float')\n",
    "    else:\n",
    "        print('s is not a (real) number')"
   ]
  },
  {
   "cell_type": "markdown",
   "metadata": {
    "slideshow": {
     "slide_type": "subslide"
    }
   },
   "source": [
    "#### break and continue in loops\n",
    "\n",
    "Conditional statements can be used to further refine loops, in particular in indefinite ones, with **continue** and **break** statements. **continue** interrupts the current iteration (and jumps to the beginning of the code block to execute the next iteration), while **break** exits the loop completely. "
   ]
  },
  {
   "cell_type": "markdown",
   "metadata": {
    "slideshow": {
     "slide_type": "subslide"
    }
   },
   "source": [
    "Consider the following example that prompts the user to enter some text and prints it out in upper cases, unless the user types '#' -- then the programs skips the rest of the code block -- or 'done', in which case the loop ends. "
   ]
  },
  {
   "cell_type": "code",
   "execution_count": 15,
   "metadata": {
    "slideshow": {
     "slide_type": "subslide"
    }
   },
   "outputs": [
    {
     "name": "stdout",
     "output_type": "stream",
     "text": [
      ">Alex\n",
      "ALEX\n",
      ">done\n",
      "Done!\n"
     ]
    }
   ],
   "source": [
    "while True:\n",
    "    line = input('>')\n",
    "    if line[0] == '#':\n",
    "        continue\n",
    "    if line == 'done':\n",
    "        break\n",
    "    print(line.upper())\n",
    "    \n",
    "print('Done!')    \n",
    "    "
   ]
  },
  {
   "cell_type": "markdown",
   "metadata": {
    "slideshow": {
     "slide_type": "skip"
    }
   },
   "source": [
    "----------------------------------------------------------------------------------------------------------------------"
   ]
  },
  {
   "cell_type": "markdown",
   "metadata": {
    "slideshow": {
     "slide_type": "subslide"
    }
   },
   "source": [
    "### Exercise 4\n",
    "\n",
    "Write a program to prompt the user for hours worked and rate per hour to compute gross pay. Pay the hourly rate for the hours up to 40 and 1.5 times the hourly rate for all hours worked *above 40 hours*. Use 45 hours and a rate of 10.50 per hour to test the program (the pay should be 498.75). You should use **input()** to read a string and **float()** to convert the string to a number. Do not worry about error checking the user input - assume the user types numbers properly. (Source: Coursera, Programming for Everybody, Week 5)"
   ]
  },
  {
   "cell_type": "code",
   "execution_count": null,
   "metadata": {
    "slideshow": {
     "slide_type": "skip"
    }
   },
   "outputs": [],
   "source": []
  },
  {
   "cell_type": "markdown",
   "metadata": {
    "slideshow": {
     "slide_type": "subslide"
    }
   },
   "source": [
    "### Exercise 5\n",
    "\n",
    "Write a program to prompt for a score between 0.0 and 1.0. If the score is out of range, print an error. If the score is between 0.0 and 1.0, print a grade using the following table:\n",
    "Score Grade\n",
    "- $>= 0.9 $: A\n",
    "- $>= 0.8 $: B\n",
    "- $>= 0.7 $: C\n",
    "- $>= 0.6 $: D\n",
    "- $< 0.6$ F\n",
    "\n",
    "If the user enters a value out of range, print a suitable error message and exit. For the test, enter a score of 0.85.\n",
    "(Source: Coursera, Programming for Everybody, Week 5)"
   ]
  },
  {
   "cell_type": "code",
   "execution_count": null,
   "metadata": {
    "slideshow": {
     "slide_type": "skip"
    }
   },
   "outputs": [],
   "source": []
  },
  {
   "cell_type": "markdown",
   "metadata": {
    "slideshow": {
     "slide_type": "skip"
    }
   },
   "source": [
    "----------------------------------------------------------------------------------------------------------------------"
   ]
  },
  {
   "cell_type": "markdown",
   "metadata": {
    "slideshow": {
     "slide_type": "subslide"
    }
   },
   "source": [
    "### try/except\n",
    "\n",
    "A particular type of conditional statement is **try/except**. It tells Python what to do conditional on an error being detected. For example, the following code would throw an error message, since you cannot use division on a string:"
   ]
  },
  {
   "cell_type": "code",
   "execution_count": 16,
   "metadata": {
    "slideshow": {
     "slide_type": "-"
    }
   },
   "outputs": [],
   "source": [
    "x = 'ifo'\n",
    "# print(x / 3)"
   ]
  },
  {
   "cell_type": "markdown",
   "metadata": {
    "slideshow": {
     "slide_type": "subslide"
    }
   },
   "source": [
    "A **try/except** statement checks if evaluating the code in the **try** part would throw an error. If not, it is executed. If an error is detected, instead of stopping the program, it executes the **except** part."
   ]
  },
  {
   "cell_type": "code",
   "execution_count": 17,
   "metadata": {
    "slideshow": {
     "slide_type": "-"
    }
   },
   "outputs": [
    {
     "name": "stdout",
     "output_type": "stream",
     "text": [
      "x is not a number!\n"
     ]
    }
   ],
   "source": [
    "try:\n",
    "    print(x / 3)\n",
    "except:\n",
    "    print('x is not a number!')"
   ]
  },
  {
   "cell_type": "markdown",
   "metadata": {
    "slideshow": {
     "slide_type": "subslide"
    }
   },
   "source": [
    "This is helpful for debugging, but also particularly useful if the programmer cannot guarantee which type of data is used when the program is run. \n",
    "\n",
    "For example, someone else could enter data using the **input()** statement. **try/except** are like an insurance against a wrong data type: in connection with a **while**-loop, it gives the user the chance to reenter the correct data type, instead of the program breaking down due to an error. "
   ]
  },
  {
   "cell_type": "code",
   "execution_count": 18,
   "metadata": {
    "slideshow": {
     "slide_type": "subslide"
    }
   },
   "outputs": [
    {
     "name": "stdout",
     "output_type": "stream",
     "text": [
      "Enter a number:32\n",
      "1024\n"
     ]
    }
   ],
   "source": [
    "x = input(\"Enter a number:\")\n",
    "\n",
    "while True:\n",
    "    try:\n",
    "        print( int(x)**2 )\n",
    "        break\n",
    "    except:\n",
    "        x = input(\"Please make sure to enter a NUMBER:\")"
   ]
  },
  {
   "cell_type": "markdown",
   "metadata": {
    "slideshow": {
     "slide_type": "skip"
    }
   },
   "source": [
    "----------------------------------------------------------------------------------------------------------------------"
   ]
  },
  {
   "cell_type": "markdown",
   "metadata": {
    "slideshow": {
     "slide_type": "subslide"
    }
   },
   "source": [
    "### Exercise 6\n",
    "\n",
    "Write a program that repeatedly prompts a user for integer numbers until the user enters 'done'. Once 'done' is entered, print out the largest and smallest of the numbers. If the user enters anything other than a valid number catch it with a **try/except** and put out an appropriate message and ignore the number. If no valid number has been entered, print out a corresponding statement. (Source: Coursera, Programming for Everybody, Week 7)"
   ]
  },
  {
   "cell_type": "code",
   "execution_count": null,
   "metadata": {
    "slideshow": {
     "slide_type": "skip"
    }
   },
   "outputs": [],
   "source": []
  },
  {
   "cell_type": "markdown",
   "metadata": {
    "slideshow": {
     "slide_type": "skip"
    }
   },
   "source": [
    "----------------------------------------------------------------------------------------------------------------------\n",
    "<a id ='fun'></a>"
   ]
  },
  {
   "cell_type": "markdown",
   "metadata": {
    "slideshow": {
     "slide_type": "slide"
    }
   },
   "source": [
    "## Writing Functions"
   ]
  },
  {
   "cell_type": "markdown",
   "metadata": {
    "collapsed": true,
    "slideshow": {
     "slide_type": "subslide"
    }
   },
   "source": [
    "In order to get an intuition behind the idea of a function in Python (or in any other programming language), recall what a function in Math does, for example:\n",
    "\n",
    "$y = f(x) = x^2$\n",
    "\n",
    "It is a mapping that takes a number $x$, performs some operation on it -- here multiplies it with itself -- and then returns the result as \"output\" $y$. "
   ]
  },
  {
   "cell_type": "markdown",
   "metadata": {
    "slideshow": {
     "slide_type": "subslide"
    }
   },
   "source": [
    "A function in programming does pretty much the same, with the difference that inputs and outputs can be anything, not just numbers. \n",
    "\n",
    "More formally, a function is a *named sequence of statements* that are executed *when the function is called*. We say that a function *takes* one or more arguments (of any type) and *returns* some kind of output. "
   ]
  },
  {
   "cell_type": "markdown",
   "metadata": {
    "collapsed": true,
    "slideshow": {
     "slide_type": "subslide"
    }
   },
   "source": [
    "Functions come in two varieties: built-in functions are contained in the Standard Library or some package, and be used right away (if they are part of a module, this has to be imported first, see below). \n",
    "\n",
    "We already encountered some functions, namely **print()**, **type()**, **len()** and **range()**. The full list of built-in functions can be found here: \n",
    "https://docs.python.org/3/library/functions.html"
   ]
  },
  {
   "cell_type": "markdown",
   "metadata": {
    "slideshow": {
     "slide_type": "subslide"
    }
   },
   "source": [
    "In addition, you can (and should) write your own functions. Here are three examples. The first one, called **sum_squared** translates the math function $ f(x,y) = x^2 + y^2$ into Python code: it takes two numbers (**int** or **float**) as inputs and returns the sum of its squares. \n",
    "\n",
    "The second function, **reverse_order**, takes a list and returns it in reverse order. \n",
    "\n",
    "The third example just prints a string, and hence does not return anything."
   ]
  },
  {
   "cell_type": "code",
   "execution_count": 19,
   "metadata": {
    "slideshow": {
     "slide_type": "subslide"
    }
   },
   "outputs": [
    {
     "name": "stdout",
     "output_type": "stream",
     "text": [
      "73\n"
     ]
    }
   ],
   "source": [
    "def sum_squared(x, y):\n",
    "    return x**2 + y**2\n",
    "\n",
    "print(sum_squared(8, 3))"
   ]
  },
  {
   "cell_type": "code",
   "execution_count": 20,
   "metadata": {
    "slideshow": {
     "slide_type": "subslide"
    }
   },
   "outputs": [
    {
     "name": "stdout",
     "output_type": "stream",
     "text": [
      "['Daenerys', 'Tyrion', 'Arya', 'Samwell']\n",
      "['Samwell', 'Arya', 'Tyrion', 'Daenerys']\n"
     ]
    }
   ],
   "source": [
    "def reverse_order(ls):\n",
    "    return ls[::-1]\n",
    "\n",
    "names = ['Daenerys', 'Tyrion', 'Arya', 'Samwell']\n",
    "names_reverse = reverse_order(names)\n",
    "print(names)\n",
    "print(names_reverse)"
   ]
  },
  {
   "cell_type": "code",
   "execution_count": 21,
   "metadata": {
    "slideshow": {
     "slide_type": "subslide"
    }
   },
   "outputs": [
    {
     "name": "stdout",
     "output_type": "stream",
     "text": [
      "Valar Morghulis!\n",
      "Valar Morghulis!\n",
      "None\n",
      "<class 'NoneType'>\n"
     ]
    }
   ],
   "source": [
    "def all_men_must_die():\n",
    "    print(\"Valar Morghulis!\")\n",
    "\n",
    "\n",
    "all_men_must_die()\n",
    "\n",
    "## Note: the return value of this function is None (a special type of object)\n",
    "x = all_men_must_die()\n",
    "print(x)\n",
    "print(type(x))"
   ]
  },
  {
   "cell_type": "markdown",
   "metadata": {
    "slideshow": {
     "slide_type": "subslide"
    }
   },
   "source": [
    "Note that functions are treated by Python another type of object, i.e. the name of a function refers to an object in memory:"
   ]
  },
  {
   "cell_type": "code",
   "execution_count": 22,
   "metadata": {},
   "outputs": [
    {
     "name": "stdout",
     "output_type": "stream",
     "text": [
      "<class 'function'>\n"
     ]
    }
   ],
   "source": [
    "print(type(all_men_must_die))"
   ]
  },
  {
   "cell_type": "markdown",
   "metadata": {
    "slideshow": {
     "slide_type": "subslide"
    }
   },
   "source": [
    "#### Function syntax\n",
    "\n",
    "Some comments about the syntax for writing functions. The *header* of a function consists of the following elements:\n",
    "- A function always starts with the keyword **def** (for define or definition). This is followed by the *function name*, which is the choice of the programmer and can be virtually anything - be careful though not to use names that are *already used for built-in functions*!"
   ]
  },
  {
   "cell_type": "markdown",
   "metadata": {
    "slideshow": {
     "slide_type": "subslide"
    }
   },
   "source": [
    "- The function name is followed by *parentheses* containing the names for the inputs into the function. Sometimes functions may not take inputs, in which cases the parentheses are left empty (as seen in the third example above).\n",
    "- As it is the case with loops and if-statement, the function definition is concluded with a colon (**:**)."
   ]
  },
  {
   "cell_type": "markdown",
   "metadata": {
    "slideshow": {
     "slide_type": "subslide"
    }
   },
   "source": [
    "- The *body* or code block of a function is a sequence of statements that the function should perform. The rules about *indentation* that we discussed in the context of loops above apply here as well. The code block can consist of a single return statement or many lines of code. \n",
    "\n",
    "- The output that a function gives is determined by the **return** statement. If there is no return statement, the function returns **None**. Note that a function can have arbitrarily many return statements; execution of the function terminates when the first return is hit:"
   ]
  },
  {
   "cell_type": "code",
   "execution_count": 23,
   "metadata": {
    "slideshow": {
     "slide_type": "subslide"
    }
   },
   "outputs": [
    {
     "name": "stdout",
     "output_type": "stream",
     "text": [
      "negative\n"
     ]
    }
   ],
   "source": [
    "def f(x):\n",
    "    if x < 0:\n",
    "        return 'negative'\n",
    "    return 'nonnegative'\n",
    "\n",
    "print(f(-3))"
   ]
  },
  {
   "cell_type": "markdown",
   "metadata": {
    "slideshow": {
     "slide_type": "subslide"
    }
   },
   "source": [
    "#### Why use functions?\n",
    "\n",
    "Functions are an extremely important tool in computing. User-defined functions help improving the clarity and readability of your code (and make it easier to debug!) by\n",
    "- separating different strands of logic\n",
    "- eliminating repetitive code, which makes the program smaller and if you have to make a change, you just have to make it in one place;\n",
    "- facilitating code reuse across several programs/scripts"
   ]
  },
  {
   "cell_type": "markdown",
   "metadata": {
    "slideshow": {
     "slide_type": "subslide"
    }
   },
   "source": [
    "In other words, very often a (large) computational problem is broken up into smaller subproblems, which are coded up as functions. The main program then coordinates these functions, calling them to do their job at the appropriate time."
   ]
  },
  {
   "cell_type": "markdown",
   "metadata": {
    "slideshow": {
     "slide_type": "skip"
    }
   },
   "source": [
    "----------------------------------------------------------------------------------------------------------------------"
   ]
  },
  {
   "cell_type": "markdown",
   "metadata": {
    "slideshow": {
     "slide_type": "subslide"
    }
   },
   "source": [
    "### Exercise 7\n",
    "\n",
    "Recall that $n!$ is read as *n factorial* and defined as\n",
    "\\begin{equation}\n",
    "    n!=n×(n−1)×⋯×2×1n!=n×(n−1)×⋯×2×1\n",
    "\\end{equation}\n",
    "There are functions to compute this in various packages, but let’s write our own version as an exercise. In particular, write a function **factorial** such that **factorial(n)** returns $n!$ for any positive integer n. \n",
    "\n",
    "(Source: quantecon.org, An Introductory Example, Exercise 1)"
   ]
  },
  {
   "cell_type": "code",
   "execution_count": null,
   "metadata": {
    "slideshow": {
     "slide_type": "skip"
    }
   },
   "outputs": [],
   "source": []
  },
  {
   "cell_type": "markdown",
   "metadata": {
    "slideshow": {
     "slide_type": "skip"
    }
   },
   "source": [
    "----------------------------------------------------------------------------------------------------------------------"
   ]
  },
  {
   "cell_type": "markdown",
   "metadata": {
    "slideshow": {
     "slide_type": "subslide"
    }
   },
   "source": [
    "#### docstrings\n",
    "\n",
    "In order to increase the clarity of your code, it is good practice to include a description about what the function does. Inserting regular comments using \"#\" would do the trick, but a better way is using *docstrings*, as in the following example.\n",
    "\n",
    "In contrast to regular code, they are written within three quotation marks (**\"\"\"**). The great advantage is that you can access the description without actually opening the function (this is very useful when your function is stored in a different file or in an imported package): "
   ]
  },
  {
   "cell_type": "code",
   "execution_count": 24,
   "metadata": {
    "slideshow": {
     "slide_type": "subslide"
    }
   },
   "outputs": [],
   "source": [
    "def reverse_order(ls):\n",
    "    \"\"\"\n",
    "    Takes a list and returns it in reverse order\n",
    "    \"\"\"\n",
    "    return ls[::-1]\n",
    "\n",
    "## get information about the function\n",
    "reverse_order?"
   ]
  },
  {
   "cell_type": "markdown",
   "metadata": {
    "slideshow": {
     "slide_type": "subslide"
    }
   },
   "source": [
    "As a side note, using the question mark in connection with a function name to access its docstring also works for in-built Python function. This is useful if you want to check on what a function does and what input arguments it requires."
   ]
  },
  {
   "cell_type": "code",
   "execution_count": 25,
   "metadata": {},
   "outputs": [],
   "source": [
    "?len"
   ]
  },
  {
   "cell_type": "markdown",
   "metadata": {
    "slideshow": {
     "slide_type": "subslide"
    }
   },
   "source": [
    "Note that for more complex functions, it is often considered good practice to include not only a description of the function, but also some information about the input(s) and output(s). For example:"
   ]
  },
  {
   "cell_type": "code",
   "execution_count": 26,
   "metadata": {},
   "outputs": [],
   "source": [
    "def sum_squared(x, y):\n",
    "    \"\"\"\n",
    "    (float, float) -> float\n",
    "    \n",
    "    Returns the sum of two squared numbers.\n",
    "    \"\"\"\n",
    "    \n",
    "    return x**2 + y**2"
   ]
  },
  {
   "cell_type": "markdown",
   "metadata": {
    "slideshow": {
     "slide_type": "subslide"
    }
   },
   "source": [
    "### Testing a function using doctest\n",
    "\n",
    "Suppose you write a function and want to check if it does what it is supposed to do, using some test input. An easy way to do this would be to include a few **print** statements after the function definition. A more elegant way is to include the test cases in the docstring and then run all the tests at once using the **doctest** module (more on what a module is and how to use it in the next section). Using **doctest** is a way to free your code of unnecessary clutter (such as print statements) and thus make it more readable.\n",
    "\n",
    "When writing the docstring, you need to include both the function call with the test data (using ***>>>***, as in a console) and the expected output."
   ]
  },
  {
   "cell_type": "code",
   "execution_count": 27,
   "metadata": {
    "slideshow": {
     "slide_type": "subslide"
    }
   },
   "outputs": [],
   "source": [
    "def reverse_order(ls):\n",
    "    \"\"\"\n",
    "    Takes a list and returns it in reverse order\n",
    "    \n",
    "    >>> reverse_order([-2, 0, 2])\n",
    "    [2, 0, -2]\n",
    "    \n",
    "    >>> reverse_order('Matthias')\n",
    "    'aihttaM'\n",
    "    \n",
    "    \"\"\"\n",
    "    return ls[::-1]"
   ]
  },
  {
   "cell_type": "markdown",
   "metadata": {
    "slideshow": {
     "slide_type": "subslide"
    }
   },
   "source": [
    "Next, we import the **doctest** module and run its **testmod()** function:"
   ]
  },
  {
   "cell_type": "code",
   "execution_count": 28,
   "metadata": {},
   "outputs": [
    {
     "name": "stdout",
     "output_type": "stream",
     "text": [
      "**********************************************************************\n",
      "File \"__main__\", line 8, in __main__.reverse_order\n",
      "Failed example:\n",
      "    reverse_order('Matthias')\n",
      "Expected:\n",
      "    'aihttaM'\n",
      "Got:\n",
      "    'saihttaM'\n",
      "**********************************************************************\n",
      "1 items had failures:\n",
      "   1 of   2 in __main__.reverse_order\n",
      "***Test Failed*** 1 failures.\n"
     ]
    },
    {
     "data": {
      "text/plain": [
       "TestResults(failed=1, attempted=2)"
      ]
     },
     "execution_count": 28,
     "metadata": {},
     "output_type": "execute_result"
    }
   ],
   "source": [
    "import doctest\n",
    "doctest.testmod()"
   ]
  },
  {
   "cell_type": "markdown",
   "metadata": {
    "slideshow": {
     "slide_type": "subslide"
    }
   },
   "source": [
    "If all tests delivered the expected results, you will get a one-line message. If one or more tests failed, you will get a report containing information on the expected and actual function output.\n",
    "\n",
    "One word of warning: when using **doctest** in the Jupyter environment, as above, running **testmod()** will check on the last function you have defined, which can create some confusion if you do the test in a different cell than the function definition. Typically, if you define functions in separate modules, you can include the call to **doctest** in there and then run them automatically (more on this below). "
   ]
  },
  {
   "cell_type": "markdown",
   "metadata": {
    "slideshow": {
     "slide_type": "skip"
    }
   },
   "source": [
    "----------------------------------------------------------------------------------------------------------------------\n",
    "<a id = \"imp\"></a>"
   ]
  },
  {
   "cell_type": "markdown",
   "metadata": {
    "slideshow": {
     "slide_type": "subslide"
    }
   },
   "source": [
    "## Importing Modules and Packages\n",
    "\n",
    "So far, we have used data types and functions which are part of the core language and which you can use without any additional code. In addition to this core functionalities, the Python standard library also contains *modules*. Modules are basically files that contain additional functions and definitions. "
   ]
  },
  {
   "cell_type": "markdown",
   "metadata": {
    "slideshow": {
     "slide_type": "subslide"
    }
   },
   "source": [
    "In order to use the functions provided by a module, you need to **import** it. We have done this already at the beginning of this tutorial when we imported the module **webbrowser** in order to open a webpage, and in the previous section when we used the **doctest** module. \n",
    "\n",
    "As another example, the following cell imports a module called *random*, which you can use, among other things, to draw a random number from a uniform distribution. Importing the whole module makes all functions available for use in your program. In this case, the name of the function - e.g. *uniform* - must be preceded by the name of the module, i.e. *module_name.function_name*."
   ]
  },
  {
   "cell_type": "code",
   "execution_count": 29,
   "metadata": {
    "slideshow": {
     "slide_type": "subslide"
    }
   },
   "outputs": [
    {
     "name": "stdout",
     "output_type": "stream",
     "text": [
      "0.34993601785615314\n",
      "0.18401715973205823\n",
      "2.9088871132575758\n",
      "7\n"
     ]
    }
   ],
   "source": [
    "import random   # import module\n",
    "\n",
    "print(random.random()) # draws a random number from a uniform distribution between 0 and 1\n",
    "print(random.uniform(0,1)) # draws a random number from a uniform distribution between 0 and 1\n",
    "print(random.uniform(-5,5)) # draws a random number from a uniform distribution between -5 and 5\n",
    "print(random.randrange(0, 11))  # draws a random integer from 0 to 10 (i.e. excluding the given endpoint)"
   ]
  },
  {
   "cell_type": "markdown",
   "metadata": {
    "slideshow": {
     "slide_type": "subslide"
    }
   },
   "source": [
    "Alternatively, you can import individual functions from a module. Then, calling the name of the function is sufficient. However, I would avoid this syntax for the most part since it may cause potential conflicts with respect to the variable or function names. "
   ]
  },
  {
   "cell_type": "code",
   "execution_count": 30,
   "metadata": {},
   "outputs": [
    {
     "name": "stdout",
     "output_type": "stream",
     "text": [
      "0.9821931493363956\n"
     ]
    }
   ],
   "source": [
    "from random import uniform   # import module\n",
    "\n",
    "print(uniform(0,1)) # draws a random number from a uniform distribution between 0 and 1"
   ]
  },
  {
   "cell_type": "markdown",
   "metadata": {
    "slideshow": {
     "slide_type": "subslide"
    }
   },
   "source": [
    "The problem set contains examples for other useful modules that are part of the standard library, such as **math** and **time**.\n",
    "\n",
    "In addition to the functions and modules contained in the standard library, there is a large number of *packages* or *external libraries*. Those are usually written and maintained by external developers and consist of one or more modules. "
   ]
  },
  {
   "cell_type": "markdown",
   "metadata": {
    "slideshow": {
     "slide_type": "subslide"
    }
   },
   "source": [
    "If you have installed the Anaconda distribution of Python, many packages are automatically included, which means you just need to import them. If you have only the core package installed or if you want to use a package that is not part of Anaconda, you will need to download and install it first. "
   ]
  },
  {
   "cell_type": "markdown",
   "metadata": {
    "collapsed": true,
    "slideshow": {
     "slide_type": "subslide"
    }
   },
   "source": [
    "### Writing and importing  your own modules\n",
    "\n",
    "Python allows you to define your own modules and import them in the same way as modules from the core language or from other developers. As a simple example, we put the functions that were defined above in an external file called \"firstmodule.py\". "
   ]
  },
  {
   "cell_type": "markdown",
   "metadata": {
    "slideshow": {
     "slide_type": "subslide"
    }
   },
   "source": [
    "The file can be written in each text editor (and even directly in the Jupyter environment) and has to be saved with the ending \".py\". Writing your own modules is another way of enhancing the readability of your code and makes sense in particular for functions that you use in several programs."
   ]
  },
  {
   "cell_type": "markdown",
   "metadata": {
    "slideshow": {
     "slide_type": "subslide"
    }
   },
   "source": [
    "You import the module without the \".py\" ending:"
   ]
  },
  {
   "cell_type": "code",
   "execution_count": 31,
   "metadata": {},
   "outputs": [
    {
     "data": {
      "text/plain": [
       "13"
      ]
     },
     "execution_count": 31,
     "metadata": {},
     "output_type": "execute_result"
    }
   ],
   "source": [
    "import firstmodule\n",
    "firstmodule.sum_squared(2,3)"
   ]
  },
  {
   "cell_type": "markdown",
   "metadata": {
    "slideshow": {
     "slide_type": "subslide"
    }
   },
   "source": [
    "As an aside, note that for modules with long names or that you use very often, you can import them using an abbreviation, as in the example below. We will see this on a regular basis for frequently used modules such as **numpy** or **pandas** later on."
   ]
  },
  {
   "cell_type": "code",
   "execution_count": 32,
   "metadata": {},
   "outputs": [
    {
     "name": "stdout",
     "output_type": "stream",
     "text": [
      "Valar Morghulis!\n"
     ]
    }
   ],
   "source": [
    "import firstmodule as fm\n",
    "fm.all_men_must_die()"
   ]
  },
  {
   "cell_type": "markdown",
   "metadata": {
    "slideshow": {
     "slide_type": "subslide"
    }
   },
   "source": [
    "#### Reloading modules\n",
    "\n",
    "As modules can change during their development, they must be updated in the current working environment. We can achieve this using the **reload** module: "
   ]
  },
  {
   "cell_type": "code",
   "execution_count": 33,
   "metadata": {},
   "outputs": [],
   "source": [
    "from importlib import reload"
   ]
  },
  {
   "cell_type": "code",
   "execution_count": 34,
   "metadata": {
    "slideshow": {
     "slide_type": "skip"
    }
   },
   "outputs": [],
   "source": [
    "# Alternatively there is a so-called magic function that enables automatic reloading/updating of modules:\n",
    "# %load_ext autoreload\n",
    "# %autoreload 2"
   ]
  },
  {
   "cell_type": "markdown",
   "metadata": {
    "slideshow": {
     "slide_type": "subslide"
    }
   },
   "source": [
    "After changing the module, we reload it in the following way, to make the changes active:"
   ]
  },
  {
   "cell_type": "code",
   "execution_count": 35,
   "metadata": {},
   "outputs": [
    {
     "data": {
      "text/plain": [
       "<module 'firstmodule' from 'C:\\\\Users\\\\Schmitt\\\\Dropbox\\\\TeachingCME\\\\Tutorial2_Python\\\\firstmodule.py'>"
      ]
     },
     "execution_count": 35,
     "metadata": {},
     "output_type": "execute_result"
    }
   ],
   "source": [
    "reload(fm)"
   ]
  },
  {
   "cell_type": "markdown",
   "metadata": {
    "slideshow": {
     "slide_type": "skip"
    }
   },
   "source": [
    "#### Running vs. importing a module\n",
    "\n",
    "There is a subtle, but important difference between importing a module as above, and running it as you would a normal Python script. Consider the module **secondmodule.py** containing the function **same_start_and_end** that checks whether an array starts and ends with the same value and returns a boolean. "
   ]
  },
  {
   "cell_type": "markdown",
   "metadata": {
    "slideshow": {
     "slide_type": "skip"
    }
   },
   "source": [
    "Running the file has the same effect as defining this function (and all others if they were more) in our Jupyter notebook, as we have done several times above. In more technical terms, it adds the function **same_start_and_end** to Python's *namespace* (which is essentially a directory of all modules, functions and variables that were either defined by us or are built-in).  "
   ]
  },
  {
   "cell_type": "code",
   "execution_count": 36,
   "metadata": {
    "slideshow": {
     "slide_type": "skip"
    }
   },
   "outputs": [
    {
     "name": "stdout",
     "output_type": "stream",
     "text": [
      "**********************************************************************\n",
      "File \"C:\\Users\\Schmitt\\Dropbox\\TeachingCME\\Tutorial2_Python\\secondmodule.py\", line 12, in __main__.same_start_and_end\n",
      "Failed example:\n",
      "    same_start_and_end(s)\n",
      "Expected:\n",
      "    True\n",
      "Got:\n",
      "    False\n",
      "**********************************************************************\n",
      "1 items had failures:\n",
      "   1 of   4 in __main__.same_start_and_end\n",
      "***Test Failed*** 1 failures.\n"
     ]
    }
   ],
   "source": [
    "%run secondmodule.py\n",
    "## ignore the output below for the moment!"
   ]
  },
  {
   "cell_type": "markdown",
   "metadata": {
    "slideshow": {
     "slide_type": "skip"
    }
   },
   "source": [
    "Importing the function adds only the name of the module to Python's namespace (here **sm**)."
   ]
  },
  {
   "cell_type": "code",
   "execution_count": 37,
   "metadata": {
    "slideshow": {
     "slide_type": "skip"
    }
   },
   "outputs": [],
   "source": [
    "import secondmodule as sm"
   ]
  },
  {
   "cell_type": "markdown",
   "metadata": {
    "slideshow": {
     "slide_type": "skip"
    }
   },
   "source": [
    "The difference between running and importing a module is also important in a related context. Suppose you have a module that does not only include functions, but also other content. \n",
    "\n",
    "A typical example would be some test calls to the functions in the module, for example using **doctest**. We don't want to see these calls every time we import the module. There is a neat way to achieve this, exploiting the way Python stores functions and variables. The file **secondmodule.py** contains the following lines at the end:"
   ]
  },
  {
   "cell_type": "code",
   "execution_count": 38,
   "metadata": {
    "slideshow": {
     "slide_type": "skip"
    }
   },
   "outputs": [],
   "source": [
    "# if __name__ == '__main__':\n",
    "#     import doctest\n",
    "#     doctest.testmod()"
   ]
  },
  {
   "cell_type": "markdown",
   "metadata": {
    "slideshow": {
     "slide_type": "skip"
    }
   },
   "source": [
    "The conditional statement **if __name__ == '__main__':** is a way to tell Python to execute the code block below *only if the module is run, but not if it is imported*. That's why above we get a test report when running **secondmodule.py** (note that one of the test cases is misspecified), but not when importing it.  \n",
    "\n",
    "Hence, running a module is useful in development, when writing the functions for the first time or when adding new test cases. Once we have ensured the functions work properly, we do not need to test them any more, and hence import the module.  "
   ]
  },
  {
   "cell_type": "markdown",
   "metadata": {
    "slideshow": {
     "slide_type": "skip"
    }
   },
   "source": [
    "----------------------------------------------------------------------------------------------------------------------"
   ]
  },
  {
   "cell_type": "markdown",
   "metadata": {
    "slideshow": {
     "slide_type": "subslide"
    }
   },
   "source": [
    "### Exercise 8\n",
    "\n",
    "As a hard-working PhD student or post doc, you should take a break from your work every now and then. Write a Python program that opens a web page (e.g. a YouTube video if you wanna spend your break listening to music or a news page if you wanna read up on current events) at regular intervals (say, every hour). \n",
    "\n",
    "Hint 1: The packages **time** and **webbrowser** have useful functions for implementing this program. Look them up in the Python documentation (google!) to find the functions you wanna use.\n",
    "\n",
    "Hint 2: You will probably want to use a **while** loop for this exercise. You can make the loop infinite (and interrupt it manually) if you're done for the day. You can also think about ways to stop the loop within the program, for example after a certain number of iterations."
   ]
  },
  {
   "cell_type": "code",
   "execution_count": null,
   "metadata": {
    "slideshow": {
     "slide_type": "skip"
    }
   },
   "outputs": [],
   "source": []
  },
  {
   "cell_type": "markdown",
   "metadata": {
    "slideshow": {
     "slide_type": "skip"
    }
   },
   "source": [
    "----------------------------------------------------------------------------------------------------------------------\n",
    "<a id = \"errors\"></a>"
   ]
  },
  {
   "cell_type": "markdown",
   "metadata": {
    "slideshow": {
     "slide_type": "slide"
    }
   },
   "source": [
    "## Errors in Python"
   ]
  },
  {
   "cell_type": "markdown",
   "metadata": {
    "slideshow": {
     "slide_type": "subslide"
    }
   },
   "source": [
    "We can distinguish three types of errors: \n",
    "\n",
    "- *Syntax errors*: prevent code from running\n",
    "    - Example: not closing a parenthesis\n",
    "- *Runtime errors*: occur during runtime (*exceptions*)\n",
    "    - Example: dividing by zero\n",
    "    - This gives a \"traceback\" error message, which can be used to find the problem\n",
    "    - There are different types of runtime errors (see examples below)\n",
    "- *Semantic errors*: code runs, but not the way it is supposed to (*bugs*"
   ]
  },
  {
   "cell_type": "code",
   "execution_count": 39,
   "metadata": {
    "slideshow": {
     "slide_type": "subslide"
    }
   },
   "outputs": [],
   "source": [
    "## syntax error\n",
    "# print(\"This will not work\""
   ]
  },
  {
   "cell_type": "code",
   "execution_count": 40,
   "metadata": {
    "slideshow": {
     "slide_type": "subslide"
    }
   },
   "outputs": [],
   "source": [
    "## runtime errors\n",
    "# print(1 / 0)"
   ]
  },
  {
   "cell_type": "markdown",
   "metadata": {},
   "source": [
    "The following cells produce other types of runtime errors. Try to determine what the problem is. "
   ]
  },
  {
   "cell_type": "code",
   "execution_count": 41,
   "metadata": {
    "slideshow": {
     "slide_type": "subslide"
    }
   },
   "outputs": [],
   "source": [
    "# A = 'Alex'\n",
    "# B = 7\n",
    "# print(A + B)"
   ]
  },
  {
   "cell_type": "code",
   "execution_count": 42,
   "metadata": {
    "slideshow": {
     "slide_type": "subslide"
    }
   },
   "outputs": [],
   "source": [
    "# institute = 'ifo'\n",
    "# print(institutes)"
   ]
  },
  {
   "cell_type": "code",
   "execution_count": 43,
   "metadata": {
    "slideshow": {
     "slide_type": "subslide"
    }
   },
   "outputs": [],
   "source": [
    "# int('LMU')"
   ]
  },
  {
   "cell_type": "code",
   "execution_count": 44,
   "metadata": {
    "slideshow": {
     "slide_type": "subslide"
    }
   },
   "outputs": [],
   "source": [
    "# lst = [1, 2, 3, 4]\n",
    "# print(lst[4])"
   ]
  },
  {
   "cell_type": "code",
   "execution_count": 45,
   "metadata": {},
   "outputs": [],
   "source": [
    "# Coaches = {'Favre': 'BVB', 'Flick': 'Bayern', 'Rose': 'Gladbach'}\n",
    "# print(Coaches['Kovac'])"
   ]
  },
  {
   "cell_type": "code",
   "execution_count": 46,
   "metadata": {
    "slideshow": {
     "slide_type": "subslide"
    }
   },
   "outputs": [],
   "source": [
    "# lst = [1, 2, 3, 4]\n",
    "# lst.add(5)"
   ]
  },
  {
   "cell_type": "markdown",
   "metadata": {
    "slideshow": {
     "slide_type": "subslide"
    }
   },
   "source": [
    "As outlined above, you can use **try/except** statements to catch errors. To review, Python checks if evaluating the code in the **try** part would throw an error. If not, it is executed. If an error is detected, instead of stopping the program, it executes the **except** part.\n",
    "\n",
    "You can also add multiple exception blocks, to condition what to do on the type of error. Catching specific errors is often recommended."
   ]
  },
  {
   "cell_type": "code",
   "execution_count": 47,
   "metadata": {
    "slideshow": {
     "slide_type": "subslide"
    }
   },
   "outputs": [
    {
     "name": "stdout",
     "output_type": "stream",
     "text": [
      "Hmm, try someone else.\n"
     ]
    }
   ],
   "source": [
    "Coaches = {'Favre': 'BVB', 'Flick': 'Bayern', 'Rose': 'Gladbach'}\n",
    "try:\n",
    "    print(Coaches['Kovac'])\n",
    "except KeyError:\n",
    "    print('Hmm, try someone else.')\n",
    "except:\n",
    "    print('Something else went wrong.')"
   ]
  },
  {
   "cell_type": "markdown",
   "metadata": {
    "slideshow": {
     "slide_type": "subslide"
    }
   },
   "source": [
    "*Warnings* do not interrupt the execution of your code. They are only messages, most commonly about \"deprecation\" of a function or module."
   ]
  },
  {
   "cell_type": "code",
   "execution_count": null,
   "metadata": {},
   "outputs": [],
   "source": []
  }
 ],
 "metadata": {
  "anaconda-cloud": {},
  "celltoolbar": "Slideshow",
  "kernelspec": {
   "display_name": "Python 3",
   "language": "python",
   "name": "python3"
  },
  "language_info": {
   "codemirror_mode": {
    "name": "ipython",
    "version": 3
   },
   "file_extension": ".py",
   "mimetype": "text/x-python",
   "name": "python",
   "nbconvert_exporter": "python",
   "pygments_lexer": "ipython3",
   "version": "3.7.5"
  }
 },
 "nbformat": 4,
 "nbformat_minor": 1
}
