{
 "cells": [
  {
   "cell_type": "markdown",
   "metadata": {
    "slideshow": {
     "slide_type": "slide"
    }
   },
   "source": [
    "# Computational Methods in Economics\n",
    "\n",
    "## Tutorial 2d - Pandas"
   ]
  },
  {
   "cell_type": "code",
   "execution_count": 1,
   "metadata": {
    "slideshow": {
     "slide_type": "skip"
    }
   },
   "outputs": [
    {
     "name": "stdout",
     "output_type": "stream",
     "text": [
      "Last update: 2019-12-11 13:06:56.078869\n"
     ]
    }
   ],
   "source": [
    "# Author: Alex Schmitt (schmitt@ifo.de)\n",
    "\n",
    "import datetime\n",
    "print('Last update: ' + str(datetime.datetime.today()))"
   ]
  },
  {
   "cell_type": "code",
   "execution_count": 2,
   "metadata": {
    "slideshow": {
     "slide_type": "skip"
    }
   },
   "outputs": [],
   "source": [
    "import numpy as np\n",
    "import matplotlib.pyplot as plt\n",
    "%matplotlib inline\n",
    "# import seaborn"
   ]
  },
  {
   "cell_type": "markdown",
   "metadata": {
    "slideshow": {
     "slide_type": "slide"
    }
   },
   "source": [
    "## This Lecture\n",
    "\n",
    "- [Introduction](#intro)\n",
    "- [Pandas Series](#ser)\n",
    "- [Pandas DataFrames](#df)\n",
    "- [Running Regressions: Statsmodel](#stats)"
   ]
  },
  {
   "cell_type": "markdown",
   "metadata": {
    "slideshow": {
     "slide_type": "skip"
    }
   },
   "source": [
    "--------------------------------------------------------------------------------------------------------------------------------"
   ]
  },
  {
   "cell_type": "markdown",
   "metadata": {
    "slideshow": {
     "slide_type": "slide"
    }
   },
   "source": [
    "## Introduction"
   ]
  },
  {
   "cell_type": "markdown",
   "metadata": {
    "slideshow": {
     "slide_type": "-"
    }
   },
   "source": [
    "Pandas is by far the most popular package when doing data analysis in Python. We import it in the following way:"
   ]
  },
  {
   "cell_type": "code",
   "execution_count": 3,
   "metadata": {
    "slideshow": {
     "slide_type": "-"
    }
   },
   "outputs": [],
   "source": [
    "import pandas as pd"
   ]
  },
  {
   "cell_type": "markdown",
   "metadata": {
    "slideshow": {
     "slide_type": "subslide"
    }
   },
   "source": [
    "Pandas' main object types are *series* and *dataframes*. They are based on one- and two-dimensional Numpy arrays, respectively. The main difference is that rows and (in the case of multidimensional dataframes) columns have key names that refer to the them, similar to dictionaries. To use an analogy from outside of Python, you can think of series and dataframes as spreadsheets, like used in Excel. "
   ]
  },
  {
   "cell_type": "markdown",
   "metadata": {
    "slideshow": {
     "slide_type": "skip"
    }
   },
   "source": [
    "----------------------------------------------------------------------------------------------------------------------\n",
    "<a id = \"ser\"></a>"
   ]
  },
  {
   "cell_type": "markdown",
   "metadata": {
    "slideshow": {
     "slide_type": "subslide"
    }
   },
   "source": [
    "## Pandas Series\n",
    "\n",
    "A Pandas series is an one-dimensional array containing data. You can think of it as a dictionary, put in an array, as the following example will show. Start with a dictionary that has integers (here years) as keys and strings (here the name of the Bundesliga champion in that year since 2007) as values."
   ]
  },
  {
   "cell_type": "code",
   "execution_count": 4,
   "metadata": {
    "slideshow": {
     "slide_type": "subslide"
    }
   },
   "outputs": [],
   "source": [
    "D = {2007: 'VfB Stuttgart', 2008: 'FC Bayern', 2009: 'VfL Wolfsburg', 2010: 'FC Bayern', \\\n",
    "     2011: 'Borussia Dortmund', 2012: 'Borussia Dortmund', 2013: 'FC Bayern', 2014: 'FC Bayern', \\\n",
    "     2015: 'FC Bayern', 2016: 'FC Bayern', 2017: 'FC Bayern', 2018: 'FC Bayern', 2019: 'FC Bayern'}"
   ]
  },
  {
   "cell_type": "markdown",
   "metadata": {
    "slideshow": {
     "slide_type": "subslide"
    }
   },
   "source": [
    "We can use the Pandas **Series** function to convert this dictionary into a Pandas series:"
   ]
  },
  {
   "cell_type": "code",
   "execution_count": 5,
   "metadata": {
    "slideshow": {
     "slide_type": "-"
    }
   },
   "outputs": [
    {
     "name": "stdout",
     "output_type": "stream",
     "text": [
      "<class 'pandas.core.series.Series'>\n"
     ]
    }
   ],
   "source": [
    "ts = pd.Series(D)\n",
    "print(type(ts))"
   ]
  },
  {
   "cell_type": "code",
   "execution_count": 6,
   "metadata": {
    "slideshow": {
     "slide_type": "subslide"
    }
   },
   "outputs": [
    {
     "name": "stdout",
     "output_type": "stream",
     "text": [
      "2007        VfB Stuttgart\n",
      "2008            FC Bayern\n",
      "2009        VfL Wolfsburg\n",
      "2010            FC Bayern\n",
      "2011    Borussia Dortmund\n",
      "2012    Borussia Dortmund\n",
      "2013            FC Bayern\n",
      "2014            FC Bayern\n",
      "2015            FC Bayern\n",
      "2016            FC Bayern\n",
      "2017            FC Bayern\n",
      "2018            FC Bayern\n",
      "2019            FC Bayern\n",
      "dtype: object\n"
     ]
    }
   ],
   "source": [
    "print(ts)"
   ]
  },
  {
   "cell_type": "markdown",
   "metadata": {
    "slideshow": {
     "slide_type": "subslide"
    }
   },
   "source": [
    "This *looks* like an array with two columns; however, we can use the **shape** method (that we have seen in the context of Numpy arrays) to verify that this is a one-dimensional array:"
   ]
  },
  {
   "cell_type": "code",
   "execution_count": 7,
   "metadata": {
    "slideshow": {
     "slide_type": "-"
    }
   },
   "outputs": [
    {
     "name": "stdout",
     "output_type": "stream",
     "text": [
      "(13,)\n"
     ]
    }
   ],
   "source": [
    "print(ts.shape)"
   ]
  },
  {
   "cell_type": "markdown",
   "metadata": {
    "slideshow": {
     "slide_type": "subslide"
    }
   },
   "source": [
    "In fact, only the second column that you see above is treated as data. The first column are the *indices*, i.e. the keys that refer to the rows. \n",
    "\n",
    "We can see this by applying the **index** attribute on our **ts** series. This will return the row indices as special type of array:"
   ]
  },
  {
   "cell_type": "code",
   "execution_count": 8,
   "metadata": {
    "slideshow": {
     "slide_type": "-"
    }
   },
   "outputs": [
    {
     "name": "stdout",
     "output_type": "stream",
     "text": [
      "Int64Index([2007, 2008, 2009, 2010, 2011, 2012, 2013, 2014, 2015, 2016, 2017,\n",
      "            2018, 2019],\n",
      "           dtype='int64')\n"
     ]
    }
   ],
   "source": [
    "print(ts.index)"
   ]
  },
  {
   "cell_type": "markdown",
   "metadata": {
    "slideshow": {
     "slide_type": "subslide"
    }
   },
   "source": [
    "Exactly as with dictionaries, we can use the indices in a bracket operator to access an element in the series:"
   ]
  },
  {
   "cell_type": "code",
   "execution_count": 9,
   "metadata": {
    "slideshow": {
     "slide_type": "-"
    }
   },
   "outputs": [
    {
     "name": "stdout",
     "output_type": "stream",
     "text": [
      "FC Bayern\n",
      "FC Bayern\n"
     ]
    }
   ],
   "source": [
    "print(ts[2010])\n",
    "## for comparison, the same notation works for a dictionary\n",
    "print(D[2010])"
   ]
  },
  {
   "cell_type": "markdown",
   "metadata": {
    "slideshow": {
     "slide_type": "subslide"
    }
   },
   "source": [
    "Alternatively, you can also use the **loc** method. This is particularly important in the context of dataframes (see below):"
   ]
  },
  {
   "cell_type": "code",
   "execution_count": 10,
   "metadata": {
    "slideshow": {
     "slide_type": "-"
    }
   },
   "outputs": [
    {
     "name": "stdout",
     "output_type": "stream",
     "text": [
      "FC Bayern\n"
     ]
    }
   ],
   "source": [
    "print(ts.loc[2010])"
   ]
  },
  {
   "cell_type": "markdown",
   "metadata": {
    "slideshow": {
     "slide_type": "subslide"
    }
   },
   "source": [
    "The important difference between a Pandas series and a dictionary is that the elements in a series are *ordered*, i.e. there is a first element, a second element etc. This is illustrated by the fact that you can also access elements *by its position* rather than by its (row) index. \n",
    "\n",
    "For example, we can check the first element of the series *without using the index of the first row*, using the **iloc** method:"
   ]
  },
  {
   "cell_type": "code",
   "execution_count": 11,
   "metadata": {},
   "outputs": [
    {
     "name": "stdout",
     "output_type": "stream",
     "text": [
      "VfB Stuttgart\n"
     ]
    }
   ],
   "source": [
    "print(ts.iloc[0])\n",
    "## the following would not work:\n",
    "# print(ts[0])"
   ]
  },
  {
   "cell_type": "markdown",
   "metadata": {
    "slideshow": {
     "slide_type": "subslide"
    }
   },
   "source": [
    "Moreover, the ordering of elements also implies that you can access multiple adjacent elements, using either **loc** or **iloc**: "
   ]
  },
  {
   "cell_type": "code",
   "execution_count": 12,
   "metadata": {},
   "outputs": [
    {
     "name": "stdout",
     "output_type": "stream",
     "text": [
      "2010            FC Bayern\n",
      "2011    Borussia Dortmund\n",
      "2012    Borussia Dortmund\n",
      "dtype: object\n"
     ]
    }
   ],
   "source": [
    "print(ts.loc[2010:2012])"
   ]
  },
  {
   "cell_type": "code",
   "execution_count": 13,
   "metadata": {
    "slideshow": {
     "slide_type": "subslide"
    }
   },
   "outputs": [
    {
     "name": "stdout",
     "output_type": "stream",
     "text": [
      "2007        VfB Stuttgart\n",
      "2009        VfL Wolfsburg\n",
      "2011    Borussia Dortmund\n",
      "2013            FC Bayern\n",
      "2015            FC Bayern\n",
      "2017            FC Bayern\n",
      "dtype: object\n"
     ]
    }
   ],
   "source": [
    "print(ts.iloc[:-1:2])"
   ]
  },
  {
   "cell_type": "markdown",
   "metadata": {
    "slideshow": {
     "slide_type": "subslide"
    }
   },
   "source": [
    "Above, we have used a dictionary to define a Pandas series. We can also use the **Series** function on a list (or tuple). Since in this case, we don't provide any row indices, Pandas automatically uses integers as indices, starting at 0."
   ]
  },
  {
   "cell_type": "code",
   "execution_count": 14,
   "metadata": {
    "slideshow": {
     "slide_type": "subslide"
    }
   },
   "outputs": [
    {
     "name": "stdout",
     "output_type": "stream",
     "text": [
      "[1, 4, 9, 16, 25, 36, 49, 64, 81, 100]\n",
      "\n",
      "0      1\n",
      "1      4\n",
      "2      9\n",
      "3     16\n",
      "4     25\n",
      "5     36\n",
      "6     49\n",
      "7     64\n",
      "8     81\n",
      "9    100\n",
      "dtype: int64\n"
     ]
    }
   ],
   "source": [
    "## define list\n",
    "lst = [x**2 for x in range(1, 11)]\n",
    "print(lst)\n",
    "print()\n",
    "## convert to series\n",
    "ts2 = pd.Series(lst)\n",
    "print(ts2)"
   ]
  },
  {
   "cell_type": "code",
   "execution_count": 15,
   "metadata": {
    "slideshow": {
     "slide_type": "subslide"
    }
   },
   "outputs": [
    {
     "name": "stdout",
     "output_type": "stream",
     "text": [
      "RangeIndex(start=0, stop=10, step=1)\n"
     ]
    }
   ],
   "source": [
    "print(ts2.index)"
   ]
  },
  {
   "cell_type": "markdown",
   "metadata": {
    "slideshow": {
     "slide_type": "subslide"
    }
   },
   "source": [
    "Note that in this special case, the indices and the positions of the elements in the series are identical, hence we could use **loc** and **iloc** (almost) in the same way. Note that while slicing with **iloc** works in the same way as with lists and arrays, slicing with **loc** (e.g. **series.loc[1:n]**) *includes* the end point (e.g. the **n**th element)."
   ]
  },
  {
   "cell_type": "code",
   "execution_count": 16,
   "metadata": {},
   "outputs": [
    {
     "name": "stdout",
     "output_type": "stream",
     "text": [
      "1     4\n",
      "2     9\n",
      "3    16\n",
      "dtype: int64\n",
      "\n",
      "1    4\n",
      "2    9\n",
      "dtype: int64\n"
     ]
    }
   ],
   "source": [
    "print( ts2.loc[1:3] )\n",
    "print( )\n",
    "print( ts2.iloc[1:3] )"
   ]
  },
  {
   "cell_type": "markdown",
   "metadata": {
    "slideshow": {
     "slide_type": "subslide"
    }
   },
   "source": [
    "If we'd like a different numbering (or any other set of indices), we can also use the **index** argument when defining the series."
   ]
  },
  {
   "cell_type": "code",
   "execution_count": 17,
   "metadata": {},
   "outputs": [
    {
     "name": "stdout",
     "output_type": "stream",
     "text": [
      "1       1\n",
      "2       4\n",
      "3       9\n",
      "4      16\n",
      "5      25\n",
      "6      36\n",
      "7      49\n",
      "8      64\n",
      "9      81\n",
      "10    100\n",
      "dtype: int64\n"
     ]
    }
   ],
   "source": [
    "ts2 = pd.Series(lst, index = range(1, 11))\n",
    "print(ts2)"
   ]
  },
  {
   "cell_type": "markdown",
   "metadata": {
    "slideshow": {
     "slide_type": "subslide"
    }
   },
   "source": [
    "Note that every series (or dataframe) has a data type (**dtype**), i.e. **int64** if it contains only integers, or **object**, if it contains non-numeric data. \n",
    "\n",
    "In contrast to Numpy arrays, Pandas arrays can contain elements of different types, e.g. integers and strings."
   ]
  },
  {
   "cell_type": "code",
   "execution_count": 18,
   "metadata": {
    "slideshow": {
     "slide_type": "subslide"
    }
   },
   "outputs": [
    {
     "data": {
      "text/plain": [
       "dtype('int64')"
      ]
     },
     "execution_count": 18,
     "metadata": {},
     "output_type": "execute_result"
    }
   ],
   "source": [
    "ts2.dtype"
   ]
  },
  {
   "cell_type": "code",
   "execution_count": 19,
   "metadata": {
    "slideshow": {
     "slide_type": "subslide"
    }
   },
   "outputs": [
    {
     "name": "stdout",
     "output_type": "stream",
     "text": [
      "1             1\n",
      "2             4\n",
      "3             9\n",
      "4            16\n",
      "5            25\n",
      "6            36\n",
      "7            49\n",
      "8     FC Bayern\n",
      "9            81\n",
      "10          100\n",
      "dtype: object\n"
     ]
    }
   ],
   "source": [
    "ts2[8] = 'FC Bayern'\n",
    "print(ts2)"
   ]
  },
  {
   "cell_type": "markdown",
   "metadata": {
    "slideshow": {
     "slide_type": "-"
    }
   },
   "source": [
    "This operation changes the **dtype** of **ts2** from **float** to the more general **object**."
   ]
  },
  {
   "cell_type": "markdown",
   "metadata": {
    "slideshow": {
     "slide_type": "subslide"
    }
   },
   "source": [
    "#### Useful Methods\n",
    "\n",
    "Pandas has a few methods that are very useful to get an overview over the data set. \n",
    "\n",
    "**describe** gives some basic information on how many elements exist, how many unique elements exist, and which element appears most often."
   ]
  },
  {
   "cell_type": "code",
   "execution_count": 20,
   "metadata": {
    "slideshow": {
     "slide_type": "subslide"
    }
   },
   "outputs": [
    {
     "data": {
      "text/plain": [
       "count            13\n",
       "unique            4\n",
       "top       FC Bayern\n",
       "freq              9\n",
       "dtype: object"
      ]
     },
     "execution_count": 20,
     "metadata": {},
     "output_type": "execute_result"
    }
   ],
   "source": [
    "ts.describe()"
   ]
  },
  {
   "cell_type": "markdown",
   "metadata": {
    "slideshow": {
     "slide_type": "subslide"
    }
   },
   "source": [
    "For purely numerical arrays (whose **dtype** is **int** or **float**), the **describe** method returns some descriptive statistics:"
   ]
  },
  {
   "cell_type": "code",
   "execution_count": 21,
   "metadata": {},
   "outputs": [
    {
     "name": "stdout",
     "output_type": "stream",
     "text": [
      "count     10.000000\n",
      "mean      38.500000\n",
      "std       34.173577\n",
      "min        1.000000\n",
      "25%       10.750000\n",
      "50%       30.500000\n",
      "75%       60.250000\n",
      "max      100.000000\n",
      "dtype: float64\n"
     ]
    }
   ],
   "source": [
    "ts2 = pd.Series(lst, index = range(1, 11))\n",
    "print(ts2.describe())"
   ]
  },
  {
   "cell_type": "markdown",
   "metadata": {
    "slideshow": {
     "slide_type": "subslide"
    }
   },
   "source": [
    "**head()** and **tail()** return a number of elements from the top and the bottom of the series, respectively. The default number is five, but you can also provide any integer to get more or less elements."
   ]
  },
  {
   "cell_type": "code",
   "execution_count": 22,
   "metadata": {
    "slideshow": {
     "slide_type": "subslide"
    }
   },
   "outputs": [
    {
     "data": {
      "text/plain": [
       "2007        VfB Stuttgart\n",
       "2008            FC Bayern\n",
       "2009        VfL Wolfsburg\n",
       "2010            FC Bayern\n",
       "2011    Borussia Dortmund\n",
       "dtype: object"
      ]
     },
     "execution_count": 22,
     "metadata": {},
     "output_type": "execute_result"
    }
   ],
   "source": [
    "ts.head()"
   ]
  },
  {
   "cell_type": "code",
   "execution_count": 23,
   "metadata": {
    "slideshow": {
     "slide_type": "subslide"
    }
   },
   "outputs": [
    {
     "data": {
      "text/plain": [
       "2017    FC Bayern\n",
       "2018    FC Bayern\n",
       "2019    FC Bayern\n",
       "dtype: object"
      ]
     },
     "execution_count": 23,
     "metadata": {},
     "output_type": "execute_result"
    }
   ],
   "source": [
    "ts.tail(3)"
   ]
  },
  {
   "cell_type": "markdown",
   "metadata": {
    "slideshow": {
     "slide_type": "subslide"
    }
   },
   "source": [
    "The length of a series can be accessed by the **count** method. As for all arrays, the **len** function works as well:"
   ]
  },
  {
   "cell_type": "code",
   "execution_count": 24,
   "metadata": {
    "slideshow": {
     "slide_type": "-"
    }
   },
   "outputs": [
    {
     "name": "stdout",
     "output_type": "stream",
     "text": [
      "13\n",
      "13\n"
     ]
    }
   ],
   "source": [
    "print( ts.count() )\n",
    "print( len(ts) )"
   ]
  },
  {
   "cell_type": "markdown",
   "metadata": {
    "slideshow": {
     "slide_type": "subslide"
    }
   },
   "source": [
    "Finally, there is a method called **value_counts** that returns a new series containing the number of times that the elements appear in the original series. Note that the data in the original series (here Bundesliga clubs) are used as indices for the new series."
   ]
  },
  {
   "cell_type": "code",
   "execution_count": 25,
   "metadata": {
    "slideshow": {
     "slide_type": "-"
    }
   },
   "outputs": [
    {
     "name": "stdout",
     "output_type": "stream",
     "text": [
      "FC Bayern            9\n",
      "Borussia Dortmund    2\n",
      "VfB Stuttgart        1\n",
      "VfL Wolfsburg        1\n",
      "dtype: int64\n"
     ]
    }
   ],
   "source": [
    "first = ts.value_counts()\n",
    "print(first)"
   ]
  },
  {
   "cell_type": "markdown",
   "metadata": {
    "slideshow": {
     "slide_type": "subslide"
    }
   },
   "source": [
    "#### Logical Arrays\n",
    "\n",
    "As with Numpy arrays, Pandas series can give rise to logical arrays, containing only **True** or **False** (note that the **dtype** of the resulting array is **bool**, for boolean)."
   ]
  },
  {
   "cell_type": "code",
   "execution_count": 26,
   "metadata": {
    "slideshow": {
     "slide_type": "subslide"
    }
   },
   "outputs": [
    {
     "name": "stdout",
     "output_type": "stream",
     "text": [
      "FC Bayern             True\n",
      "Borussia Dortmund    False\n",
      "VfB Stuttgart        False\n",
      "VfL Wolfsburg        False\n",
      "dtype: bool\n"
     ]
    }
   ],
   "source": [
    "print( first > 5 )"
   ]
  },
  {
   "cell_type": "markdown",
   "metadata": {
    "slideshow": {
     "slide_type": "subslide"
    }
   },
   "source": [
    "We can use logical arrays to access data; for example, let's print all clubs who were champion more than once since 2007:"
   ]
  },
  {
   "cell_type": "code",
   "execution_count": 27,
   "metadata": {},
   "outputs": [
    {
     "name": "stdout",
     "output_type": "stream",
     "text": [
      "FC Bayern            9\n",
      "Borussia Dortmund    2\n",
      "dtype: int64\n"
     ]
    }
   ],
   "source": [
    "print( first.loc[first >= 2] )"
   ]
  },
  {
   "cell_type": "markdown",
   "metadata": {
    "slideshow": {
     "slide_type": "subslide"
    }
   },
   "source": [
    "#### Arithmetic Operations\n",
    "\n",
    "We can add (multiply, subtract) two Pandas series along their row indices. \n",
    "\n",
    "For example, assume we want to have a table listing how often a club finished first or second in the Bundesliga since 2007. We already have a series **first** for finishes in first place. With information about second-place teams, we can define an analogous series **second**."
   ]
  },
  {
   "cell_type": "code",
   "execution_count": 28,
   "metadata": {
    "slideshow": {
     "slide_type": "subslide"
    }
   },
   "outputs": [
    {
     "name": "stdout",
     "output_type": "stream",
     "text": [
      "Borussia Dortmund      4\n",
      "FC Schalke 04          3\n",
      "FC Bayern              2\n",
      "Bayer 04 Leverkusen    1\n",
      "VfL Wolfsburg          1\n",
      "Werder Bremen          1\n",
      "RB Leipzig             1\n",
      "dtype: int64\n"
     ]
    }
   ],
   "source": [
    "L = ['FC Schalke 04', 'Werder Bremen', 'FC Bayern', 'FC Schalke 04', 'Bayer 04 Leverkusen', 'FC Bayern', 'Borussia Dortmund',\\\n",
    "      'Borussia Dortmund', 'VfL Wolfsburg', 'Borussia Dortmund', 'RB Leipzig', 'FC Schalke 04', 'Borussia Dortmund' ]\n",
    "\n",
    "ts3 = pd.Series(L, index = range(2007, 2020))\n",
    "second = ts3.value_counts()\n",
    "print(second)"
   ]
  },
  {
   "cell_type": "markdown",
   "metadata": {
    "slideshow": {
     "slide_type": "subslide"
    }
   },
   "source": [
    "Next, we can add the two series **first** and **second**:"
   ]
  },
  {
   "cell_type": "code",
   "execution_count": 29,
   "metadata": {},
   "outputs": [
    {
     "name": "stdout",
     "output_type": "stream",
     "text": [
      "Bayer 04 Leverkusen     NaN\n",
      "Borussia Dortmund       6.0\n",
      "FC Bayern              11.0\n",
      "FC Schalke 04           NaN\n",
      "RB Leipzig              NaN\n",
      "VfB Stuttgart           NaN\n",
      "VfL Wolfsburg           2.0\n",
      "Werder Bremen           NaN\n",
      "dtype: float64\n"
     ]
    }
   ],
   "source": [
    "print(first + second)"
   ]
  },
  {
   "cell_type": "markdown",
   "metadata": {
    "slideshow": {
     "slide_type": "subslide"
    }
   },
   "source": [
    "Unfortunately, this doesn't give the desired result. The problem is that some indices (e.g. **'RB Leipzig'**) exist only in one series, but not in the other. Hence, Pandas treats the value for 'RB Leipzig' in **first** as missing, and thus assigns it a 'NaN'. It then considers the value for 'RB Leipzig' in the series resulting from the addition of **first** and **second** as missing."
   ]
  },
  {
   "cell_type": "markdown",
   "metadata": {
    "slideshow": {
     "slide_type": "subslide"
    }
   },
   "source": [
    "Missing values is its own topic in the context of data analysis. In the example here, there is an easy workaround. Pandas series have a method **add** that allows you to add one series to the other. Moreover, this method has an optional argument **fill_value** that lets you choose what to do with missing values. \n",
    "\n",
    "Setting **fill_value = 0** replaces missing values with a 0, which gives us what we want in this example."
   ]
  },
  {
   "cell_type": "code",
   "execution_count": 30,
   "metadata": {
    "slideshow": {
     "slide_type": "subslide"
    }
   },
   "outputs": [
    {
     "name": "stdout",
     "output_type": "stream",
     "text": [
      "Bayer 04 Leverkusen     1.0\n",
      "Borussia Dortmund       6.0\n",
      "FC Bayern              11.0\n",
      "FC Schalke 04           3.0\n",
      "RB Leipzig              1.0\n",
      "VfB Stuttgart           1.0\n",
      "VfL Wolfsburg           2.0\n",
      "Werder Bremen           1.0\n",
      "dtype: float64\n"
     ]
    }
   ],
   "source": [
    "total = second.add(first, fill_value = 0)\n",
    "print(total)"
   ]
  },
  {
   "cell_type": "markdown",
   "metadata": {
    "slideshow": {
     "slide_type": "subslide"
    }
   },
   "source": [
    "Note that analogous methods exist for subtraction (**sub**), multiplication (**mul**) and division (**truediv**)."
   ]
  },
  {
   "cell_type": "markdown",
   "metadata": {
    "slideshow": {
     "slide_type": "subslide"
    }
   },
   "source": [
    "#### apply \n",
    "\n",
    "In the example above, the resulting series **total** contains the number of first and second places as floats. Suppose we would like to convert them into integers. Intuitively, you may want to use the **int** conversion functions on **total**:"
   ]
  },
  {
   "cell_type": "code",
   "execution_count": 31,
   "metadata": {},
   "outputs": [],
   "source": [
    "## the following would throw an error\n",
    "# int(total)"
   ]
  },
  {
   "cell_type": "markdown",
   "metadata": {
    "slideshow": {
     "slide_type": "subslide"
    }
   },
   "source": [
    "This doesn't work, since Python thinks that we want to convert the object of type series to an integer (which is not possible). \n",
    "\n",
    "What we actually want to do is to convert the *elements* of the series to integers. This can be done with the **apply** method: it takes a *function*, either built-in or written by you, and applies it to every element in the series.  "
   ]
  },
  {
   "cell_type": "code",
   "execution_count": 32,
   "metadata": {
    "slideshow": {
     "slide_type": "subslide"
    }
   },
   "outputs": [
    {
     "name": "stdout",
     "output_type": "stream",
     "text": [
      "Bayer 04 Leverkusen     1\n",
      "Borussia Dortmund       6\n",
      "FC Bayern              11\n",
      "FC Schalke 04           3\n",
      "RB Leipzig              1\n",
      "VfB Stuttgart           1\n",
      "VfL Wolfsburg           2\n",
      "Werder Bremen           1\n",
      "dtype: int64\n"
     ]
    }
   ],
   "source": [
    "total = total.apply(int)\n",
    "print( total )"
   ]
  },
  {
   "cell_type": "markdown",
   "metadata": {
    "slideshow": {
     "slide_type": "skip"
    }
   },
   "source": [
    "We'll see more examples of how to use **apply** on series and dataframes below."
   ]
  },
  {
   "cell_type": "markdown",
   "metadata": {
    "slideshow": {
     "slide_type": "subslide"
    }
   },
   "source": [
    "#### replace\n",
    "\n",
    "It sometimes may be necessary to replace data, for example to substitute string with numeric values. We can do this with the **replace** method: "
   ]
  },
  {
   "cell_type": "code",
   "execution_count": 33,
   "metadata": {},
   "outputs": [
    {
     "name": "stdout",
     "output_type": "stream",
     "text": [
      "2007        VfB Stuttgart\n",
      "2008            FC Bayern\n",
      "2009        VfL Wolfsburg\n",
      "2010            FC Bayern\n",
      "2011    Borussia Dortmund\n",
      "dtype: object\n"
     ]
    }
   ],
   "source": [
    "print(ts.head(5))"
   ]
  },
  {
   "cell_type": "code",
   "execution_count": 34,
   "metadata": {
    "slideshow": {
     "slide_type": "subslide"
    }
   },
   "outputs": [
    {
     "name": "stdout",
     "output_type": "stream",
     "text": [
      "2007    0\n",
      "2008    1\n",
      "2009    2\n",
      "2010    1\n",
      "2011    3\n",
      "dtype: int64\n"
     ]
    }
   ],
   "source": [
    "names = ['VfB Stuttgart', 'FC Bayern', 'VfL Wolfsburg', 'Borussia Dortmund']\n",
    "ts_num = ts.replace(names, range(0,len(names)))\n",
    "print(ts_num.head(5))"
   ]
  },
  {
   "cell_type": "markdown",
   "metadata": {
    "slideshow": {
     "slide_type": "subslide"
    }
   },
   "source": [
    "#### Descriptive statistics\n",
    "\n",
    "As with Numpy arrays, there are methods for mean, standard deviation, maximum, etc. for Pandas series. A very useful method is **idxmax** which returns the index of the row which contains the maximum value. More on methods for descriptive statistics in the context of dataframes below. "
   ]
  },
  {
   "cell_type": "code",
   "execution_count": 35,
   "metadata": {},
   "outputs": [
    {
     "data": {
      "text/plain": [
       "3.25"
      ]
     },
     "execution_count": 35,
     "metadata": {},
     "output_type": "execute_result"
    }
   ],
   "source": [
    "total.mean()"
   ]
  },
  {
   "cell_type": "code",
   "execution_count": 36,
   "metadata": {},
   "outputs": [
    {
     "data": {
      "text/plain": [
       "3.575711717366808"
      ]
     },
     "execution_count": 36,
     "metadata": {},
     "output_type": "execute_result"
    }
   ],
   "source": [
    "total.std()"
   ]
  },
  {
   "cell_type": "code",
   "execution_count": 37,
   "metadata": {
    "slideshow": {
     "slide_type": "subslide"
    }
   },
   "outputs": [
    {
     "data": {
      "text/plain": [
       "26"
      ]
     },
     "execution_count": 37,
     "metadata": {},
     "output_type": "execute_result"
    }
   ],
   "source": [
    "total.sum()"
   ]
  },
  {
   "cell_type": "code",
   "execution_count": 38,
   "metadata": {},
   "outputs": [
    {
     "data": {
      "text/plain": [
       "11"
      ]
     },
     "execution_count": 38,
     "metadata": {},
     "output_type": "execute_result"
    }
   ],
   "source": [
    "total.max()"
   ]
  },
  {
   "cell_type": "code",
   "execution_count": 39,
   "metadata": {},
   "outputs": [
    {
     "data": {
      "text/plain": [
       "'FC Bayern'"
      ]
     },
     "execution_count": 39,
     "metadata": {},
     "output_type": "execute_result"
    }
   ],
   "source": [
    "total.idxmax()"
   ]
  },
  {
   "cell_type": "markdown",
   "metadata": {
    "slideshow": {
     "slide_type": "subslide"
    }
   },
   "source": [
    "### Plotting \n",
    "\n",
    "It is straightforward to plot a Pandas series using Matplotlib and the notation that we have seen in the last lecture:"
   ]
  },
  {
   "cell_type": "code",
   "execution_count": 40,
   "metadata": {},
   "outputs": [],
   "source": [
    "## define ts2 again, since we have changed it \n",
    "lst = [x**2 for x in range(1, 11)]\n",
    "ts2 = pd.Series(lst)"
   ]
  },
  {
   "cell_type": "code",
   "execution_count": 41,
   "metadata": {},
   "outputs": [
    {
     "data": {
      "text/plain": [
       "[<matplotlib.lines.Line2D at 0x1878d069f88>]"
      ]
     },
     "execution_count": 41,
     "metadata": {},
     "output_type": "execute_result"
    },
    {
     "data": {
      "image/png": "[encoded data removed]",
      "text/plain": [
       "<Figure size 432x288 with 1 Axes>"
      ]
     },
     "metadata": {
      "needs_background": "light"
     },
     "output_type": "display_data"
    }
   ],
   "source": [
    "## plot ts2\n",
    "fig, ax = plt.subplots()\n",
    "ax.plot(ts2)"
   ]
  },
  {
   "cell_type": "markdown",
   "metadata": {
    "slideshow": {
     "slide_type": "subslide"
    }
   },
   "source": [
    "For Pandas object, there is an alternative way to do it. Series (and dataframes, as we will see below) have a method **plot** that does the same:"
   ]
  },
  {
   "cell_type": "code",
   "execution_count": 42,
   "metadata": {},
   "outputs": [
    {
     "data": {
      "text/plain": [
       "<matplotlib.axes._subplots.AxesSubplot at 0x1878d0d3d08>"
      ]
     },
     "execution_count": 42,
     "metadata": {},
     "output_type": "execute_result"
    },
    {
     "data": {
      "image/png": "[encoded data removed]",
      "text/plain": [
       "<Figure size 432x288 with 1 Axes>"
      ]
     },
     "metadata": {
      "needs_background": "light"
     },
     "output_type": "display_data"
    }
   ],
   "source": [
    "ts2.plot()"
   ]
  },
  {
   "cell_type": "markdown",
   "metadata": {
    "slideshow": {
     "slide_type": "subslide"
    }
   },
   "source": [
    "As a second example, suppose we want to draw a bar chart that shows the number of championships for the teams in our small data set. We have already defined a series that contains the relevant data, **first**:"
   ]
  },
  {
   "cell_type": "code",
   "execution_count": 43,
   "metadata": {},
   "outputs": [
    {
     "name": "stdout",
     "output_type": "stream",
     "text": [
      "FC Bayern            9\n",
      "Borussia Dortmund    2\n",
      "VfB Stuttgart        1\n",
      "VfL Wolfsburg        1\n",
      "dtype: int64\n"
     ]
    }
   ],
   "source": [
    "print(first)"
   ]
  },
  {
   "cell_type": "markdown",
   "metadata": {
    "slideshow": {
     "slide_type": "subslide"
    }
   },
   "source": [
    "Intuitively, you may want to try the following piece of code to create our bar chart:"
   ]
  },
  {
   "cell_type": "code",
   "execution_count": 44,
   "metadata": {},
   "outputs": [
    {
     "data": {
      "image/png": "[encoded data removed]",
      "text/plain": [
       "<Figure size 432x288 with 1 Axes>"
      ]
     },
     "metadata": {
      "needs_background": "light"
     },
     "output_type": "display_data"
    }
   ],
   "source": [
    "## throws an error!\n",
    "fig, ax = plt.subplots()\n",
    "ax.bar(first.index, first)\n",
    "ax.set_title('Number of Bundesliga Championships Since 2007');"
   ]
  },
  {
   "cell_type": "markdown",
   "metadata": {
    "slideshow": {
     "slide_type": "subslide"
    }
   },
   "source": [
    "We can do the same in a single line using Pandas **plot** method, getting a slightly nicer layout:"
   ]
  },
  {
   "cell_type": "code",
   "execution_count": 45,
   "metadata": {},
   "outputs": [
    {
     "data": {
      "text/plain": [
       "<matplotlib.axes._subplots.AxesSubplot at 0x1878d1dfb88>"
      ]
     },
     "execution_count": 45,
     "metadata": {},
     "output_type": "execute_result"
    },
    {
     "data": {
      "image/png": "[encoded data removed]",
      "text/plain": [
       "<Figure size 432x288 with 1 Axes>"
      ]
     },
     "metadata": {
      "needs_background": "light"
     },
     "output_type": "display_data"
    }
   ],
   "source": [
    "first.plot(kind = 'bar', title = 'Number of Bundesliga Championships Since 2007')"
   ]
  },
  {
   "cell_type": "markdown",
   "metadata": {
    "slideshow": {
     "slide_type": "subslide"
    }
   },
   "source": [
    "There are many optional arguments for Pandas' **plot** method to tinker around with the looks. Also, note that no matter the type of the graph, we always use the **plot** method, and then indicate what type of graph we want with the **kind** argument. We will see more examples on how to use Pandas' plot method in the context of dataframes below. "
   ]
  },
  {
   "cell_type": "markdown",
   "metadata": {
    "slideshow": {
     "slide_type": "subslide"
    }
   },
   "source": [
    "### Reading data from a file\n",
    "\n",
    "So far, we have created Pandas series by first defining a dictionary or list and then using the **Series** function. Typically, in particular with large data sets, you would load your data from a file (e.g. csv, txt, xls) directly into a Pandas series."
   ]
  },
  {
   "cell_type": "markdown",
   "metadata": {
    "slideshow": {
     "slide_type": "subslide"
    }
   },
   "source": [
    "With a csv file, we can do this with the **read_csv** function. Note that this creates a Pandas *DataFrame* rather than a series - the difference will be clear shortly. For now, just take the code below to define a  series **ts** that containes all the Bundesliga champions from the 1963/64 season onwards. We will use this series in the exercise below. "
   ]
  },
  {
   "cell_type": "code",
   "execution_count": 46,
   "metadata": {},
   "outputs": [
    {
     "name": "stdout",
     "output_type": "stream",
     "text": [
      "<class 'pandas.core.series.Series'>\n"
     ]
    }
   ],
   "source": [
    "Df = pd.read_csv('data/champions.csv')\n",
    "ts = Df['Club'] ## from DataFrame to Series\n",
    "print(type(ts))"
   ]
  },
  {
   "cell_type": "code",
   "execution_count": 47,
   "metadata": {
    "slideshow": {
     "slide_type": "subslide"
    }
   },
   "outputs": [
    {
     "name": "stdout",
     "output_type": "stream",
     "text": [
      "1964                1. FC Köln\n",
      "1965             Werder Bremen\n",
      "1966          TSV 1860 München\n",
      "1967    Eintracht Braunschweig\n",
      "1968            1. FC Nürnberg\n",
      "Name: Club, dtype: object\n"
     ]
    }
   ],
   "source": [
    "print( ts.head() )"
   ]
  },
  {
   "cell_type": "code",
   "execution_count": 48,
   "metadata": {
    "slideshow": {
     "slide_type": "subslide"
    }
   },
   "outputs": [
    {
     "name": "stdout",
     "output_type": "stream",
     "text": [
      "2015    FC Bayern München\n",
      "2016    FC Bayern München\n",
      "2017    FC Bayern München\n",
      "2018    FC Bayern München\n",
      "2019    FC Bayern München\n",
      "Name: Club, dtype: object\n"
     ]
    }
   ],
   "source": [
    "print( ts.tail() )"
   ]
  },
  {
   "cell_type": "markdown",
   "metadata": {
    "slideshow": {
     "slide_type": "skip"
    }
   },
   "source": [
    "----------------------------------------------------------------------------------------------------------------------\n",
    "<a id = \"ex1\"></a>"
   ]
  },
  {
   "cell_type": "markdown",
   "metadata": {
    "slideshow": {
     "slide_type": "skip"
    }
   },
   "source": [
    "## Exercise 1\n",
    "\n",
    "Use the series with all Bundesliga champions created above to answer the following questions.  \n",
    "\n",
    "(a) How many clubs became champion at least once? How often was Bayern Munich champion?\n",
    "\n",
    "(b) Use a Pandas command to see the first year in the data set. \n",
    "\n",
    "(c) Write a function that takes the data set and a year as arguments and prints the champion in this particular year. Which club won the championship in 1998? \n",
    "\n",
    "(d) Print out all clubs that were champions more than three times.\n",
    "\n",
    "(e) Write a function that takes a series and returns the club that has won the second-most championships since 1964. Hint: Useful for this question are the **value_counts** and **idxmax** methods, and logical arrays.\n",
    "\n",
    "(f) Generate a bar chart with all champions since 1963/64, analogous to the one above. "
   ]
  },
  {
   "cell_type": "code",
   "execution_count": null,
   "metadata": {
    "slideshow": {
     "slide_type": "skip"
    }
   },
   "outputs": [],
   "source": []
  },
  {
   "cell_type": "markdown",
   "metadata": {
    "slideshow": {
     "slide_type": "skip"
    }
   },
   "source": [
    "----------------------------------------------------------------------------------------------------------------------\n",
    "<a id = \"df\"></a>"
   ]
  },
  {
   "cell_type": "markdown",
   "metadata": {
    "slideshow": {
     "slide_type": "subslide"
    }
   },
   "source": [
    "## Pandas DataFrames\n",
    "\n",
    "A DataFrame is the two-dimensional version of a Pandas array. All of the methods and functions we have seen for series above work also on DataFrames. Let's start by applying **read_csv** to load the data set on Bundesliga players that we have already used in an earlier lecture."
   ]
  },
  {
   "cell_type": "code",
   "execution_count": 49,
   "metadata": {
    "slideshow": {
     "slide_type": "-"
    }
   },
   "outputs": [],
   "source": [
    "df = pd.read_csv('data/BundesligaData.csv', sep = ';')  ## the delimiter in the csv-file are semicolons!"
   ]
  },
  {
   "cell_type": "markdown",
   "metadata": {
    "slideshow": {
     "slide_type": "subslide"
    }
   },
   "source": [
    "As before, we can use the **head()** method to get a first feel for the data: "
   ]
  },
  {
   "cell_type": "code",
   "execution_count": 50,
   "metadata": {
    "slideshow": {
     "slide_type": "-"
    }
   },
   "outputs": [
    {
     "data": {
      "text/html": [
       "<div>\n",
       "<style scoped>\n",
       "    .dataframe tbody tr th:only-of-type {\n",
       "        vertical-align: middle;\n",
       "    }\n",
       "\n",
       "    .dataframe tbody tr th {\n",
       "        vertical-align: top;\n",
       "    }\n",
       "\n",
       "    .dataframe thead th {\n",
       "        text-align: right;\n",
       "    }\n",
       "</style>\n",
       "<table border=\"1\" class=\"dataframe\">\n",
       "  <thead>\n",
       "    <tr style=\"text-align: right;\">\n",
       "      <th></th>\n",
       "      <th>name</th>\n",
       "      <th>position</th>\n",
       "      <th>value</th>\n",
       "      <th>valuemax</th>\n",
       "      <th>age</th>\n",
       "      <th>goals</th>\n",
       "      <th>assists</th>\n",
       "      <th>yellow</th>\n",
       "      <th>red</th>\n",
       "      <th>shotspergame</th>\n",
       "      <th>passsuccess</th>\n",
       "      <th>aerialswon</th>\n",
       "      <th>rating</th>\n",
       "      <th>positioncode</th>\n",
       "    </tr>\n",
       "  </thead>\n",
       "  <tbody>\n",
       "    <tr>\n",
       "      <th>0</th>\n",
       "      <td>Robert Lewandowski</td>\n",
       "      <td>striker</td>\n",
       "      <td>80.0</td>\n",
       "      <td>80.0</td>\n",
       "      <td>28</td>\n",
       "      <td>30</td>\n",
       "      <td>4</td>\n",
       "      <td>5</td>\n",
       "      <td>0</td>\n",
       "      <td>4.2</td>\n",
       "      <td>75.0</td>\n",
       "      <td>1.8</td>\n",
       "      <td>7.71</td>\n",
       "      <td>3</td>\n",
       "    </tr>\n",
       "    <tr>\n",
       "      <th>1</th>\n",
       "      <td>Pierre-Emerick Aubameyang</td>\n",
       "      <td>striker</td>\n",
       "      <td>65.0</td>\n",
       "      <td>65.0</td>\n",
       "      <td>27</td>\n",
       "      <td>29</td>\n",
       "      <td>2</td>\n",
       "      <td>3</td>\n",
       "      <td>0</td>\n",
       "      <td>3.6</td>\n",
       "      <td>70.3</td>\n",
       "      <td>1.3</td>\n",
       "      <td>7.40</td>\n",
       "      <td>3</td>\n",
       "    </tr>\n",
       "    <tr>\n",
       "      <th>2</th>\n",
       "      <td>Thomas Mueller</td>\n",
       "      <td>striker</td>\n",
       "      <td>60.0</td>\n",
       "      <td>75.0</td>\n",
       "      <td>27</td>\n",
       "      <td>5</td>\n",
       "      <td>12</td>\n",
       "      <td>0</td>\n",
       "      <td>0</td>\n",
       "      <td>2.2</td>\n",
       "      <td>76.2</td>\n",
       "      <td>1.8</td>\n",
       "      <td>7.30</td>\n",
       "      <td>3</td>\n",
       "    </tr>\n",
       "    <tr>\n",
       "      <th>3</th>\n",
       "      <td>Marco Reus</td>\n",
       "      <td>striker</td>\n",
       "      <td>40.0</td>\n",
       "      <td>50.0</td>\n",
       "      <td>27</td>\n",
       "      <td>5</td>\n",
       "      <td>4</td>\n",
       "      <td>1</td>\n",
       "      <td>1</td>\n",
       "      <td>2.3</td>\n",
       "      <td>74.6</td>\n",
       "      <td>0.4</td>\n",
       "      <td>7.03</td>\n",
       "      <td>3</td>\n",
       "    </tr>\n",
       "    <tr>\n",
       "      <th>4</th>\n",
       "      <td>Douglas Costa</td>\n",
       "      <td>striker</td>\n",
       "      <td>30.0</td>\n",
       "      <td>35.0</td>\n",
       "      <td>26</td>\n",
       "      <td>4</td>\n",
       "      <td>3</td>\n",
       "      <td>2</td>\n",
       "      <td>0</td>\n",
       "      <td>1.9</td>\n",
       "      <td>80.2</td>\n",
       "      <td>0.1</td>\n",
       "      <td>7.17</td>\n",
       "      <td>3</td>\n",
       "    </tr>\n",
       "  </tbody>\n",
       "</table>\n",
       "</div>"
      ],
      "text/plain": [
       "                        name position  value  valuemax  age  goals  assists  \\\n",
       "0         Robert Lewandowski  striker   80.0      80.0   28     30        4   \n",
       "1  Pierre-Emerick Aubameyang  striker   65.0      65.0   27     29        2   \n",
       "2             Thomas Mueller  striker   60.0      75.0   27      5       12   \n",
       "3                 Marco Reus  striker   40.0      50.0   27      5        4   \n",
       "4              Douglas Costa  striker   30.0      35.0   26      4        3   \n",
       "\n",
       "   yellow  red  shotspergame  passsuccess  aerialswon  rating  positioncode  \n",
       "0       5    0           4.2         75.0         1.8    7.71             3  \n",
       "1       3    0           3.6         70.3         1.3    7.40             3  \n",
       "2       0    0           2.2         76.2         1.8    7.30             3  \n",
       "3       1    1           2.3         74.6         0.4    7.03             3  \n",
       "4       2    0           1.9         80.2         0.1    7.17             3  "
      ]
     },
     "execution_count": 50,
     "metadata": {},
     "output_type": "execute_result"
    }
   ],
   "source": [
    "df.head()\n",
    "# print( df.head() ) ## using print() with DataFrames does not always display the data in the most convenient way! "
   ]
  },
  {
   "cell_type": "markdown",
   "metadata": {
    "slideshow": {
     "slide_type": "subslide"
    }
   },
   "source": [
    "With DataFrames, there are not only row indices, but also keys for each colum, for example **name**, **position**, **value**, etc. in the Bundesliga data set. The **columns** attribute returns the column names as a list: "
   ]
  },
  {
   "cell_type": "code",
   "execution_count": 51,
   "metadata": {
    "slideshow": {
     "slide_type": "-"
    }
   },
   "outputs": [
    {
     "data": {
      "text/plain": [
       "Index(['name', 'position', 'value', 'valuemax', 'age', 'goals', 'assists',\n",
       "       'yellow', 'red', 'shotspergame', 'passsuccess', 'aerialswon', 'rating',\n",
       "       'positioncode'],\n",
       "      dtype='object')"
      ]
     },
     "execution_count": 51,
     "metadata": {},
     "output_type": "execute_result"
    }
   ],
   "source": [
    "df.columns"
   ]
  },
  {
   "cell_type": "markdown",
   "metadata": {
    "slideshow": {
     "slide_type": "subslide"
    }
   },
   "source": [
    "For DataFrames, there is an additional very useful method, **info()**, for getting an overview over the data set. It lists all the column names, plus the number of elements in each column, as well as their type."
   ]
  },
  {
   "cell_type": "code",
   "execution_count": 52,
   "metadata": {
    "slideshow": {
     "slide_type": "subslide"
    }
   },
   "outputs": [
    {
     "name": "stdout",
     "output_type": "stream",
     "text": [
      "<class 'pandas.core.frame.DataFrame'>\n",
      "RangeIndex: 288 entries, 0 to 287\n",
      "Data columns (total 14 columns):\n",
      "name            288 non-null object\n",
      "position        288 non-null object\n",
      "value           288 non-null float64\n",
      "valuemax        288 non-null float64\n",
      "age             288 non-null int64\n",
      "goals           288 non-null int64\n",
      "assists         288 non-null int64\n",
      "yellow          288 non-null int64\n",
      "red             288 non-null int64\n",
      "shotspergame    288 non-null float64\n",
      "passsuccess     288 non-null float64\n",
      "aerialswon      288 non-null float64\n",
      "rating          288 non-null float64\n",
      "positioncode    288 non-null int64\n",
      "dtypes: float64(6), int64(6), object(2)\n",
      "memory usage: 31.6+ KB\n"
     ]
    }
   ],
   "source": [
    "df.info()"
   ]
  },
  {
   "cell_type": "markdown",
   "metadata": {
    "slideshow": {
     "slide_type": "subslide"
    }
   },
   "source": [
    "As with series, the **describe** method gives you a DataFrame with some descriptive statistics about the data set, more precisely about each of the columns:"
   ]
  },
  {
   "cell_type": "code",
   "execution_count": 53,
   "metadata": {
    "slideshow": {
     "slide_type": "-"
    }
   },
   "outputs": [
    {
     "data": {
      "text/html": [
       "<div>\n",
       "<style scoped>\n",
       "    .dataframe tbody tr th:only-of-type {\n",
       "        vertical-align: middle;\n",
       "    }\n",
       "\n",
       "    .dataframe tbody tr th {\n",
       "        vertical-align: top;\n",
       "    }\n",
       "\n",
       "    .dataframe thead th {\n",
       "        text-align: right;\n",
       "    }\n",
       "</style>\n",
       "<table border=\"1\" class=\"dataframe\">\n",
       "  <thead>\n",
       "    <tr style=\"text-align: right;\">\n",
       "      <th></th>\n",
       "      <th>value</th>\n",
       "      <th>valuemax</th>\n",
       "      <th>age</th>\n",
       "      <th>goals</th>\n",
       "      <th>assists</th>\n",
       "      <th>yellow</th>\n",
       "      <th>red</th>\n",
       "      <th>shotspergame</th>\n",
       "      <th>passsuccess</th>\n",
       "      <th>aerialswon</th>\n",
       "      <th>rating</th>\n",
       "      <th>positioncode</th>\n",
       "    </tr>\n",
       "  </thead>\n",
       "  <tbody>\n",
       "    <tr>\n",
       "      <th>count</th>\n",
       "      <td>288.000000</td>\n",
       "      <td>288.000000</td>\n",
       "      <td>288.000000</td>\n",
       "      <td>288.000000</td>\n",
       "      <td>288.000000</td>\n",
       "      <td>288.000000</td>\n",
       "      <td>288.000000</td>\n",
       "      <td>288.000000</td>\n",
       "      <td>288.000000</td>\n",
       "      <td>288.000000</td>\n",
       "      <td>288.000000</td>\n",
       "      <td>288.000000</td>\n",
       "    </tr>\n",
       "    <tr>\n",
       "      <th>mean</th>\n",
       "      <td>8.148438</td>\n",
       "      <td>10.734201</td>\n",
       "      <td>25.555556</td>\n",
       "      <td>2.631944</td>\n",
       "      <td>1.875000</td>\n",
       "      <td>2.958333</td>\n",
       "      <td>0.135417</td>\n",
       "      <td>0.987153</td>\n",
       "      <td>75.010417</td>\n",
       "      <td>1.556250</td>\n",
       "      <td>6.816250</td>\n",
       "      <td>2.010417</td>\n",
       "    </tr>\n",
       "    <tr>\n",
       "      <th>std</th>\n",
       "      <td>9.820420</td>\n",
       "      <td>11.648733</td>\n",
       "      <td>3.589139</td>\n",
       "      <td>4.034255</td>\n",
       "      <td>2.279663</td>\n",
       "      <td>2.492847</td>\n",
       "      <td>0.381263</td>\n",
       "      <td>0.697538</td>\n",
       "      <td>8.806631</td>\n",
       "      <td>1.123876</td>\n",
       "      <td>0.337366</td>\n",
       "      <td>0.811436</td>\n",
       "    </tr>\n",
       "    <tr>\n",
       "      <th>min</th>\n",
       "      <td>1.000000</td>\n",
       "      <td>1.000000</td>\n",
       "      <td>17.000000</td>\n",
       "      <td>0.000000</td>\n",
       "      <td>0.000000</td>\n",
       "      <td>0.000000</td>\n",
       "      <td>0.000000</td>\n",
       "      <td>0.000000</td>\n",
       "      <td>33.300000</td>\n",
       "      <td>0.000000</td>\n",
       "      <td>5.950000</td>\n",
       "      <td>1.000000</td>\n",
       "    </tr>\n",
       "    <tr>\n",
       "      <th>25%</th>\n",
       "      <td>2.750000</td>\n",
       "      <td>3.500000</td>\n",
       "      <td>23.000000</td>\n",
       "      <td>0.000000</td>\n",
       "      <td>0.000000</td>\n",
       "      <td>1.000000</td>\n",
       "      <td>0.000000</td>\n",
       "      <td>0.500000</td>\n",
       "      <td>69.600000</td>\n",
       "      <td>0.675000</td>\n",
       "      <td>6.590000</td>\n",
       "      <td>1.000000</td>\n",
       "    </tr>\n",
       "    <tr>\n",
       "      <th>50%</th>\n",
       "      <td>4.500000</td>\n",
       "      <td>6.250000</td>\n",
       "      <td>26.000000</td>\n",
       "      <td>1.000000</td>\n",
       "      <td>1.000000</td>\n",
       "      <td>2.000000</td>\n",
       "      <td>0.000000</td>\n",
       "      <td>0.900000</td>\n",
       "      <td>75.050000</td>\n",
       "      <td>1.300000</td>\n",
       "      <td>6.820000</td>\n",
       "      <td>2.000000</td>\n",
       "    </tr>\n",
       "    <tr>\n",
       "      <th>75%</th>\n",
       "      <td>10.000000</td>\n",
       "      <td>12.625000</td>\n",
       "      <td>28.000000</td>\n",
       "      <td>4.000000</td>\n",
       "      <td>3.000000</td>\n",
       "      <td>4.000000</td>\n",
       "      <td>0.000000</td>\n",
       "      <td>1.400000</td>\n",
       "      <td>81.575000</td>\n",
       "      <td>2.300000</td>\n",
       "      <td>7.032500</td>\n",
       "      <td>3.000000</td>\n",
       "    </tr>\n",
       "    <tr>\n",
       "      <th>max</th>\n",
       "      <td>80.000000</td>\n",
       "      <td>80.000000</td>\n",
       "      <td>38.000000</td>\n",
       "      <td>30.000000</td>\n",
       "      <td>18.000000</td>\n",
       "      <td>13.000000</td>\n",
       "      <td>3.000000</td>\n",
       "      <td>4.200000</td>\n",
       "      <td>91.800000</td>\n",
       "      <td>6.000000</td>\n",
       "      <td>8.280000</td>\n",
       "      <td>3.000000</td>\n",
       "    </tr>\n",
       "  </tbody>\n",
       "</table>\n",
       "</div>"
      ],
      "text/plain": [
       "            value    valuemax         age       goals     assists      yellow  \\\n",
       "count  288.000000  288.000000  288.000000  288.000000  288.000000  288.000000   \n",
       "mean     8.148438   10.734201   25.555556    2.631944    1.875000    2.958333   \n",
       "std      9.820420   11.648733    3.589139    4.034255    2.279663    2.492847   \n",
       "min      1.000000    1.000000   17.000000    0.000000    0.000000    0.000000   \n",
       "25%      2.750000    3.500000   23.000000    0.000000    0.000000    1.000000   \n",
       "50%      4.500000    6.250000   26.000000    1.000000    1.000000    2.000000   \n",
       "75%     10.000000   12.625000   28.000000    4.000000    3.000000    4.000000   \n",
       "max     80.000000   80.000000   38.000000   30.000000   18.000000   13.000000   \n",
       "\n",
       "              red  shotspergame  passsuccess  aerialswon      rating  \\\n",
       "count  288.000000    288.000000   288.000000  288.000000  288.000000   \n",
       "mean     0.135417      0.987153    75.010417    1.556250    6.816250   \n",
       "std      0.381263      0.697538     8.806631    1.123876    0.337366   \n",
       "min      0.000000      0.000000    33.300000    0.000000    5.950000   \n",
       "25%      0.000000      0.500000    69.600000    0.675000    6.590000   \n",
       "50%      0.000000      0.900000    75.050000    1.300000    6.820000   \n",
       "75%      0.000000      1.400000    81.575000    2.300000    7.032500   \n",
       "max      3.000000      4.200000    91.800000    6.000000    8.280000   \n",
       "\n",
       "       positioncode  \n",
       "count    288.000000  \n",
       "mean       2.010417  \n",
       "std        0.811436  \n",
       "min        1.000000  \n",
       "25%        1.000000  \n",
       "50%        2.000000  \n",
       "75%        3.000000  \n",
       "max        3.000000  "
      ]
     },
     "execution_count": 53,
     "metadata": {},
     "output_type": "execute_result"
    }
   ],
   "source": [
    "df.describe()"
   ]
  },
  {
   "cell_type": "markdown",
   "metadata": {
    "slideshow": {
     "slide_type": "subslide"
    }
   },
   "source": [
    "#### Manipulating Columns\n",
    "\n",
    "Before learning how to access data in a DataFrame, let's first execute some steps that make the data easier to handle. First, note that the player names are given in the format *'firstname lastname'*, which is somewhat inconvenient if, for example, we'd like to sort the data alphabetically."
   ]
  },
  {
   "cell_type": "code",
   "execution_count": 54,
   "metadata": {
    "slideshow": {
     "slide_type": "subslide"
    }
   },
   "outputs": [
    {
     "data": {
      "text/html": [
       "<div>\n",
       "<style scoped>\n",
       "    .dataframe tbody tr th:only-of-type {\n",
       "        vertical-align: middle;\n",
       "    }\n",
       "\n",
       "    .dataframe tbody tr th {\n",
       "        vertical-align: top;\n",
       "    }\n",
       "\n",
       "    .dataframe thead th {\n",
       "        text-align: right;\n",
       "    }\n",
       "</style>\n",
       "<table border=\"1\" class=\"dataframe\">\n",
       "  <thead>\n",
       "    <tr style=\"text-align: right;\">\n",
       "      <th></th>\n",
       "      <th>name</th>\n",
       "      <th>position</th>\n",
       "      <th>value</th>\n",
       "      <th>valuemax</th>\n",
       "      <th>age</th>\n",
       "      <th>goals</th>\n",
       "      <th>assists</th>\n",
       "      <th>yellow</th>\n",
       "      <th>red</th>\n",
       "      <th>shotspergame</th>\n",
       "      <th>passsuccess</th>\n",
       "      <th>aerialswon</th>\n",
       "      <th>rating</th>\n",
       "      <th>positioncode</th>\n",
       "    </tr>\n",
       "  </thead>\n",
       "  <tbody>\n",
       "    <tr>\n",
       "      <th>0</th>\n",
       "      <td>Robert Lewandowski</td>\n",
       "      <td>striker</td>\n",
       "      <td>80.0</td>\n",
       "      <td>80.0</td>\n",
       "      <td>28</td>\n",
       "      <td>30</td>\n",
       "      <td>4</td>\n",
       "      <td>5</td>\n",
       "      <td>0</td>\n",
       "      <td>4.2</td>\n",
       "      <td>75.0</td>\n",
       "      <td>1.8</td>\n",
       "      <td>7.71</td>\n",
       "      <td>3</td>\n",
       "    </tr>\n",
       "    <tr>\n",
       "      <th>1</th>\n",
       "      <td>Pierre-Emerick Aubameyang</td>\n",
       "      <td>striker</td>\n",
       "      <td>65.0</td>\n",
       "      <td>65.0</td>\n",
       "      <td>27</td>\n",
       "      <td>29</td>\n",
       "      <td>2</td>\n",
       "      <td>3</td>\n",
       "      <td>0</td>\n",
       "      <td>3.6</td>\n",
       "      <td>70.3</td>\n",
       "      <td>1.3</td>\n",
       "      <td>7.40</td>\n",
       "      <td>3</td>\n",
       "    </tr>\n",
       "    <tr>\n",
       "      <th>2</th>\n",
       "      <td>Thomas Mueller</td>\n",
       "      <td>striker</td>\n",
       "      <td>60.0</td>\n",
       "      <td>75.0</td>\n",
       "      <td>27</td>\n",
       "      <td>5</td>\n",
       "      <td>12</td>\n",
       "      <td>0</td>\n",
       "      <td>0</td>\n",
       "      <td>2.2</td>\n",
       "      <td>76.2</td>\n",
       "      <td>1.8</td>\n",
       "      <td>7.30</td>\n",
       "      <td>3</td>\n",
       "    </tr>\n",
       "    <tr>\n",
       "      <th>3</th>\n",
       "      <td>Marco Reus</td>\n",
       "      <td>striker</td>\n",
       "      <td>40.0</td>\n",
       "      <td>50.0</td>\n",
       "      <td>27</td>\n",
       "      <td>5</td>\n",
       "      <td>4</td>\n",
       "      <td>1</td>\n",
       "      <td>1</td>\n",
       "      <td>2.3</td>\n",
       "      <td>74.6</td>\n",
       "      <td>0.4</td>\n",
       "      <td>7.03</td>\n",
       "      <td>3</td>\n",
       "    </tr>\n",
       "    <tr>\n",
       "      <th>4</th>\n",
       "      <td>Douglas Costa</td>\n",
       "      <td>striker</td>\n",
       "      <td>30.0</td>\n",
       "      <td>35.0</td>\n",
       "      <td>26</td>\n",
       "      <td>4</td>\n",
       "      <td>3</td>\n",
       "      <td>2</td>\n",
       "      <td>0</td>\n",
       "      <td>1.9</td>\n",
       "      <td>80.2</td>\n",
       "      <td>0.1</td>\n",
       "      <td>7.17</td>\n",
       "      <td>3</td>\n",
       "    </tr>\n",
       "  </tbody>\n",
       "</table>\n",
       "</div>"
      ],
      "text/plain": [
       "                        name position  value  valuemax  age  goals  assists  \\\n",
       "0         Robert Lewandowski  striker   80.0      80.0   28     30        4   \n",
       "1  Pierre-Emerick Aubameyang  striker   65.0      65.0   27     29        2   \n",
       "2             Thomas Mueller  striker   60.0      75.0   27      5       12   \n",
       "3                 Marco Reus  striker   40.0      50.0   27      5        4   \n",
       "4              Douglas Costa  striker   30.0      35.0   26      4        3   \n",
       "\n",
       "   yellow  red  shotspergame  passsuccess  aerialswon  rating  positioncode  \n",
       "0       5    0           4.2         75.0         1.8    7.71             3  \n",
       "1       3    0           3.6         70.3         1.3    7.40             3  \n",
       "2       0    0           2.2         76.2         1.8    7.30             3  \n",
       "3       1    1           2.3         74.6         0.4    7.03             3  \n",
       "4       2    0           1.9         80.2         0.1    7.17             3  "
      ]
     },
     "execution_count": 54,
     "metadata": {},
     "output_type": "execute_result"
    }
   ],
   "source": [
    "df.head()"
   ]
  },
  {
   "cell_type": "markdown",
   "metadata": {
    "slideshow": {
     "slide_type": "subslide"
    }
   },
   "source": [
    "For a given string, say 'Robert Lewandowski', we can easily write a function that returns a string with first and last name reversed, i.e. 'Lewandowski Robert'. With a **try/except** statement, we can take care of players for which only one name is given, e.g. 'Thiago'."
   ]
  },
  {
   "cell_type": "code",
   "execution_count": 55,
   "metadata": {
    "slideshow": {
     "slide_type": "subslide"
    }
   },
   "outputs": [
    {
     "name": "stdout",
     "output_type": "stream",
     "text": [
      "Lewandowski Robert\n",
      "Thiago\n"
     ]
    }
   ],
   "source": [
    "def reverse_name(name):\n",
    "    \"\"\"\n",
    "    Takes a string consisting of either one or two parts; \n",
    "    in the case of two parts, it splits them at the space and returns them in reverse order\n",
    "    \n",
    "    \"\"\"\n",
    "    L = name.split(\" \")\n",
    "    try:\n",
    "        S = L[1] + \" \" + L[0]\n",
    "    except:\n",
    "        S = L[0]\n",
    "    \n",
    "    return S\n",
    "\n",
    "print(reverse_name('Robert Lewandowski'))\n",
    "print(reverse_name('Thiago'))"
   ]
  },
  {
   "cell_type": "markdown",
   "metadata": {
    "slideshow": {
     "slide_type": "subslide"
    }
   },
   "source": [
    "How to apply this function on each element in the **name** column? In the previous section, we introduced the **apply** method that does precisely this, for both built-in and your own functions. We can use **apply** on a column in a data set, here to *overwrite* the existing **name** column. \n",
    "\n",
    "Individual columns in a DataFrame can be accessed using the familiar bracket operator (note the difference to a Pandas series!)."
   ]
  },
  {
   "cell_type": "code",
   "execution_count": 56,
   "metadata": {
    "slideshow": {
     "slide_type": "subslide"
    }
   },
   "outputs": [
    {
     "data": {
      "text/html": [
       "<div>\n",
       "<style scoped>\n",
       "    .dataframe tbody tr th:only-of-type {\n",
       "        vertical-align: middle;\n",
       "    }\n",
       "\n",
       "    .dataframe tbody tr th {\n",
       "        vertical-align: top;\n",
       "    }\n",
       "\n",
       "    .dataframe thead th {\n",
       "        text-align: right;\n",
       "    }\n",
       "</style>\n",
       "<table border=\"1\" class=\"dataframe\">\n",
       "  <thead>\n",
       "    <tr style=\"text-align: right;\">\n",
       "      <th></th>\n",
       "      <th>name</th>\n",
       "      <th>position</th>\n",
       "      <th>value</th>\n",
       "      <th>valuemax</th>\n",
       "      <th>age</th>\n",
       "      <th>goals</th>\n",
       "      <th>assists</th>\n",
       "      <th>yellow</th>\n",
       "      <th>red</th>\n",
       "      <th>shotspergame</th>\n",
       "      <th>passsuccess</th>\n",
       "      <th>aerialswon</th>\n",
       "      <th>rating</th>\n",
       "      <th>positioncode</th>\n",
       "    </tr>\n",
       "  </thead>\n",
       "  <tbody>\n",
       "    <tr>\n",
       "      <th>0</th>\n",
       "      <td>Lewandowski Robert</td>\n",
       "      <td>striker</td>\n",
       "      <td>80.0</td>\n",
       "      <td>80.0</td>\n",
       "      <td>28</td>\n",
       "      <td>30</td>\n",
       "      <td>4</td>\n",
       "      <td>5</td>\n",
       "      <td>0</td>\n",
       "      <td>4.2</td>\n",
       "      <td>75.0</td>\n",
       "      <td>1.8</td>\n",
       "      <td>7.71</td>\n",
       "      <td>3</td>\n",
       "    </tr>\n",
       "    <tr>\n",
       "      <th>1</th>\n",
       "      <td>Aubameyang Pierre-Emerick</td>\n",
       "      <td>striker</td>\n",
       "      <td>65.0</td>\n",
       "      <td>65.0</td>\n",
       "      <td>27</td>\n",
       "      <td>29</td>\n",
       "      <td>2</td>\n",
       "      <td>3</td>\n",
       "      <td>0</td>\n",
       "      <td>3.6</td>\n",
       "      <td>70.3</td>\n",
       "      <td>1.3</td>\n",
       "      <td>7.40</td>\n",
       "      <td>3</td>\n",
       "    </tr>\n",
       "    <tr>\n",
       "      <th>2</th>\n",
       "      <td>Mueller Thomas</td>\n",
       "      <td>striker</td>\n",
       "      <td>60.0</td>\n",
       "      <td>75.0</td>\n",
       "      <td>27</td>\n",
       "      <td>5</td>\n",
       "      <td>12</td>\n",
       "      <td>0</td>\n",
       "      <td>0</td>\n",
       "      <td>2.2</td>\n",
       "      <td>76.2</td>\n",
       "      <td>1.8</td>\n",
       "      <td>7.30</td>\n",
       "      <td>3</td>\n",
       "    </tr>\n",
       "    <tr>\n",
       "      <th>3</th>\n",
       "      <td>Reus Marco</td>\n",
       "      <td>striker</td>\n",
       "      <td>40.0</td>\n",
       "      <td>50.0</td>\n",
       "      <td>27</td>\n",
       "      <td>5</td>\n",
       "      <td>4</td>\n",
       "      <td>1</td>\n",
       "      <td>1</td>\n",
       "      <td>2.3</td>\n",
       "      <td>74.6</td>\n",
       "      <td>0.4</td>\n",
       "      <td>7.03</td>\n",
       "      <td>3</td>\n",
       "    </tr>\n",
       "    <tr>\n",
       "      <th>4</th>\n",
       "      <td>Costa Douglas</td>\n",
       "      <td>striker</td>\n",
       "      <td>30.0</td>\n",
       "      <td>35.0</td>\n",
       "      <td>26</td>\n",
       "      <td>4</td>\n",
       "      <td>3</td>\n",
       "      <td>2</td>\n",
       "      <td>0</td>\n",
       "      <td>1.9</td>\n",
       "      <td>80.2</td>\n",
       "      <td>0.1</td>\n",
       "      <td>7.17</td>\n",
       "      <td>3</td>\n",
       "    </tr>\n",
       "  </tbody>\n",
       "</table>\n",
       "</div>"
      ],
      "text/plain": [
       "                        name position  value  valuemax  age  goals  assists  \\\n",
       "0         Lewandowski Robert  striker   80.0      80.0   28     30        4   \n",
       "1  Aubameyang Pierre-Emerick  striker   65.0      65.0   27     29        2   \n",
       "2             Mueller Thomas  striker   60.0      75.0   27      5       12   \n",
       "3                 Reus Marco  striker   40.0      50.0   27      5        4   \n",
       "4              Costa Douglas  striker   30.0      35.0   26      4        3   \n",
       "\n",
       "   yellow  red  shotspergame  passsuccess  aerialswon  rating  positioncode  \n",
       "0       5    0           4.2         75.0         1.8    7.71             3  \n",
       "1       3    0           3.6         70.3         1.3    7.40             3  \n",
       "2       0    0           2.2         76.2         1.8    7.30             3  \n",
       "3       1    1           2.3         74.6         0.4    7.03             3  \n",
       "4       2    0           1.9         80.2         0.1    7.17             3  "
      ]
     },
     "execution_count": 56,
     "metadata": {},
     "output_type": "execute_result"
    }
   ],
   "source": [
    "## use apply method to overwrite name column\n",
    "df['name'] = df['name'].apply(reverse_name)\n",
    "df.head()"
   ]
  },
  {
   "cell_type": "markdown",
   "metadata": {
    "slideshow": {
     "slide_type": "subslide"
    }
   },
   "source": [
    "Note that **apply** used on individual columns of a dataframe does not change the array *in place*, i.e. we need to store the result of the operation as the new **name** column."
   ]
  },
  {
   "cell_type": "markdown",
   "metadata": {
    "slideshow": {
     "slide_type": "subslide"
    }
   },
   "source": [
    "Similarly easy as overwriting existing columns is adding new columns. As an example, suppose that instead of having one string with a player's last and first name, we'd like to have two separate columns, **name** (containing only the last name) and **first_name**. \n",
    "\n",
    "Hence, we first need to split the name strings into two strings. We could use **apply** again, in connection with the **split** method for strings. However, for series or dataframe columns that *contain only strings*, Pandas has a direct way of manipulating strings:"
   ]
  },
  {
   "cell_type": "code",
   "execution_count": 57,
   "metadata": {
    "slideshow": {
     "slide_type": "subslide"
    }
   },
   "outputs": [
    {
     "data": {
      "text/html": [
       "<div>\n",
       "<style scoped>\n",
       "    .dataframe tbody tr th:only-of-type {\n",
       "        vertical-align: middle;\n",
       "    }\n",
       "\n",
       "    .dataframe tbody tr th {\n",
       "        vertical-align: top;\n",
       "    }\n",
       "\n",
       "    .dataframe thead th {\n",
       "        text-align: right;\n",
       "    }\n",
       "</style>\n",
       "<table border=\"1\" class=\"dataframe\">\n",
       "  <thead>\n",
       "    <tr style=\"text-align: right;\">\n",
       "      <th></th>\n",
       "      <th>0</th>\n",
       "      <th>1</th>\n",
       "    </tr>\n",
       "  </thead>\n",
       "  <tbody>\n",
       "    <tr>\n",
       "      <th>0</th>\n",
       "      <td>Lewandowski</td>\n",
       "      <td>Robert</td>\n",
       "    </tr>\n",
       "    <tr>\n",
       "      <th>1</th>\n",
       "      <td>Aubameyang</td>\n",
       "      <td>Pierre-Emerick</td>\n",
       "    </tr>\n",
       "    <tr>\n",
       "      <th>2</th>\n",
       "      <td>Mueller</td>\n",
       "      <td>Thomas</td>\n",
       "    </tr>\n",
       "    <tr>\n",
       "      <th>3</th>\n",
       "      <td>Reus</td>\n",
       "      <td>Marco</td>\n",
       "    </tr>\n",
       "    <tr>\n",
       "      <th>4</th>\n",
       "      <td>Costa</td>\n",
       "      <td>Douglas</td>\n",
       "    </tr>\n",
       "  </tbody>\n",
       "</table>\n",
       "</div>"
      ],
      "text/plain": [
       "             0               1\n",
       "0  Lewandowski          Robert\n",
       "1   Aubameyang  Pierre-Emerick\n",
       "2      Mueller          Thomas\n",
       "3         Reus           Marco\n",
       "4        Costa         Douglas"
      ]
     },
     "execution_count": 57,
     "metadata": {},
     "output_type": "execute_result"
    }
   ],
   "source": [
    "names = df['name'].str.split(expand=True)\n",
    "names.head()"
   ]
  },
  {
   "cell_type": "markdown",
   "metadata": {
    "slideshow": {
     "slide_type": "subslide"
    }
   },
   "source": [
    "As we can see, applying **str.split** creates a new dataframe. Note that the **expand = True** statement is required for having the first and last names in different columns. We can use the first and second column of the **names** DataFrames to overwrite the **name** column in our Bundesliga dataframe, and to add a new **first_name** column, respectively. \n",
    "\n",
    "The latter can be done either by just appending the new column to the end of the dataframe, or by inserting it into a specific position, using the **insert** method."
   ]
  },
  {
   "cell_type": "code",
   "execution_count": 58,
   "metadata": {
    "slideshow": {
     "slide_type": "subslide"
    }
   },
   "outputs": [
    {
     "data": {
      "text/html": [
       "<div>\n",
       "<style scoped>\n",
       "    .dataframe tbody tr th:only-of-type {\n",
       "        vertical-align: middle;\n",
       "    }\n",
       "\n",
       "    .dataframe tbody tr th {\n",
       "        vertical-align: top;\n",
       "    }\n",
       "\n",
       "    .dataframe thead th {\n",
       "        text-align: right;\n",
       "    }\n",
       "</style>\n",
       "<table border=\"1\" class=\"dataframe\">\n",
       "  <thead>\n",
       "    <tr style=\"text-align: right;\">\n",
       "      <th></th>\n",
       "      <th>name</th>\n",
       "      <th>first_name</th>\n",
       "      <th>position</th>\n",
       "      <th>value</th>\n",
       "      <th>valuemax</th>\n",
       "      <th>age</th>\n",
       "      <th>goals</th>\n",
       "      <th>assists</th>\n",
       "      <th>yellow</th>\n",
       "      <th>red</th>\n",
       "      <th>shotspergame</th>\n",
       "      <th>passsuccess</th>\n",
       "      <th>aerialswon</th>\n",
       "      <th>rating</th>\n",
       "      <th>positioncode</th>\n",
       "    </tr>\n",
       "  </thead>\n",
       "  <tbody>\n",
       "    <tr>\n",
       "      <th>0</th>\n",
       "      <td>Lewandowski</td>\n",
       "      <td>Robert</td>\n",
       "      <td>striker</td>\n",
       "      <td>80.0</td>\n",
       "      <td>80.0</td>\n",
       "      <td>28</td>\n",
       "      <td>30</td>\n",
       "      <td>4</td>\n",
       "      <td>5</td>\n",
       "      <td>0</td>\n",
       "      <td>4.2</td>\n",
       "      <td>75.0</td>\n",
       "      <td>1.8</td>\n",
       "      <td>7.71</td>\n",
       "      <td>3</td>\n",
       "    </tr>\n",
       "    <tr>\n",
       "      <th>1</th>\n",
       "      <td>Aubameyang</td>\n",
       "      <td>Pierre-Emerick</td>\n",
       "      <td>striker</td>\n",
       "      <td>65.0</td>\n",
       "      <td>65.0</td>\n",
       "      <td>27</td>\n",
       "      <td>29</td>\n",
       "      <td>2</td>\n",
       "      <td>3</td>\n",
       "      <td>0</td>\n",
       "      <td>3.6</td>\n",
       "      <td>70.3</td>\n",
       "      <td>1.3</td>\n",
       "      <td>7.40</td>\n",
       "      <td>3</td>\n",
       "    </tr>\n",
       "    <tr>\n",
       "      <th>2</th>\n",
       "      <td>Mueller</td>\n",
       "      <td>Thomas</td>\n",
       "      <td>striker</td>\n",
       "      <td>60.0</td>\n",
       "      <td>75.0</td>\n",
       "      <td>27</td>\n",
       "      <td>5</td>\n",
       "      <td>12</td>\n",
       "      <td>0</td>\n",
       "      <td>0</td>\n",
       "      <td>2.2</td>\n",
       "      <td>76.2</td>\n",
       "      <td>1.8</td>\n",
       "      <td>7.30</td>\n",
       "      <td>3</td>\n",
       "    </tr>\n",
       "    <tr>\n",
       "      <th>3</th>\n",
       "      <td>Reus</td>\n",
       "      <td>Marco</td>\n",
       "      <td>striker</td>\n",
       "      <td>40.0</td>\n",
       "      <td>50.0</td>\n",
       "      <td>27</td>\n",
       "      <td>5</td>\n",
       "      <td>4</td>\n",
       "      <td>1</td>\n",
       "      <td>1</td>\n",
       "      <td>2.3</td>\n",
       "      <td>74.6</td>\n",
       "      <td>0.4</td>\n",
       "      <td>7.03</td>\n",
       "      <td>3</td>\n",
       "    </tr>\n",
       "    <tr>\n",
       "      <th>4</th>\n",
       "      <td>Costa</td>\n",
       "      <td>Douglas</td>\n",
       "      <td>striker</td>\n",
       "      <td>30.0</td>\n",
       "      <td>35.0</td>\n",
       "      <td>26</td>\n",
       "      <td>4</td>\n",
       "      <td>3</td>\n",
       "      <td>2</td>\n",
       "      <td>0</td>\n",
       "      <td>1.9</td>\n",
       "      <td>80.2</td>\n",
       "      <td>0.1</td>\n",
       "      <td>7.17</td>\n",
       "      <td>3</td>\n",
       "    </tr>\n",
       "  </tbody>\n",
       "</table>\n",
       "</div>"
      ],
      "text/plain": [
       "          name      first_name position  value  valuemax  age  goals  assists  \\\n",
       "0  Lewandowski          Robert  striker   80.0      80.0   28     30        4   \n",
       "1   Aubameyang  Pierre-Emerick  striker   65.0      65.0   27     29        2   \n",
       "2      Mueller          Thomas  striker   60.0      75.0   27      5       12   \n",
       "3         Reus           Marco  striker   40.0      50.0   27      5        4   \n",
       "4        Costa         Douglas  striker   30.0      35.0   26      4        3   \n",
       "\n",
       "   yellow  red  shotspergame  passsuccess  aerialswon  rating  positioncode  \n",
       "0       5    0           4.2         75.0         1.8    7.71             3  \n",
       "1       3    0           3.6         70.3         1.3    7.40             3  \n",
       "2       0    0           2.2         76.2         1.8    7.30             3  \n",
       "3       1    1           2.3         74.6         0.4    7.03             3  \n",
       "4       2    0           1.9         80.2         0.1    7.17             3  "
      ]
     },
     "execution_count": 58,
     "metadata": {},
     "output_type": "execute_result"
    }
   ],
   "source": [
    "## replace column 'name'\n",
    "df['name'] = names[0]\n",
    "## add column 'first name'\n",
    "## Option 1: just add it to the end of the df\n",
    "# df['first_name'] = names[1]\n",
    "## Option 2_ add it in a specific place, here as the second column\n",
    "df.insert(1, 'first_name', names[1])\n",
    "\n",
    "df.head()"
   ]
  },
  {
   "cell_type": "markdown",
   "metadata": {
    "slideshow": {
     "slide_type": "subslide"
    }
   },
   "source": [
    "As a side note, for players with only one name, this approach would leave the **first_name** field empty, which is indicated by a \"None\" when printing the data."
   ]
  },
  {
   "cell_type": "code",
   "execution_count": 59,
   "metadata": {
    "slideshow": {
     "slide_type": "subslide"
    }
   },
   "outputs": [
    {
     "data": {
      "text/plain": [
       "name                Thiago\n",
       "first_name            None\n",
       "position        midfielder\n",
       "value                   40\n",
       "valuemax                40\n",
       "age                     26\n",
       "goals                    6\n",
       "assists                  5\n",
       "yellow                   4\n",
       "red                      0\n",
       "shotspergame           1.3\n",
       "passsuccess           90.2\n",
       "aerialswon             1.7\n",
       "rating                8.28\n",
       "positioncode             2\n",
       "Name: 96, dtype: object"
      ]
     },
     "execution_count": 59,
     "metadata": {},
     "output_type": "execute_result"
    }
   ],
   "source": [
    "df.iloc[96]  ## Thiago is at index 96 in the data set"
   ]
  },
  {
   "cell_type": "markdown",
   "metadata": {
    "slideshow": {
     "slide_type": "subslide"
    }
   },
   "source": [
    "#### Setting new indices\n",
    "\n",
    "Note that the row indices in our Bundesliga dataframe were automatically created from 0 to 288. That can be useful for some applications, but here, assuming we know the player names that we want to get information on, it would be more convenient to have the names as indices. "
   ]
  },
  {
   "cell_type": "markdown",
   "metadata": {
    "slideshow": {
     "slide_type": "subslide"
    }
   },
   "source": [
    "This is easy to do by using the **set_index** method: the first argument refers to the column to be used as the new indices, here **'name'**. By setting the optional argument **drop** to **True**, this column is then dropped from the dataframe (which makes sense). Also, make sure to set the optional argument **inplace** to **True** for the change to become effective (this will be required for many Pandas methods)."
   ]
  },
  {
   "cell_type": "code",
   "execution_count": 60,
   "metadata": {
    "slideshow": {
     "slide_type": "subslide"
    }
   },
   "outputs": [
    {
     "data": {
      "text/html": [
       "<div>\n",
       "<style scoped>\n",
       "    .dataframe tbody tr th:only-of-type {\n",
       "        vertical-align: middle;\n",
       "    }\n",
       "\n",
       "    .dataframe tbody tr th {\n",
       "        vertical-align: top;\n",
       "    }\n",
       "\n",
       "    .dataframe thead th {\n",
       "        text-align: right;\n",
       "    }\n",
       "</style>\n",
       "<table border=\"1\" class=\"dataframe\">\n",
       "  <thead>\n",
       "    <tr style=\"text-align: right;\">\n",
       "      <th></th>\n",
       "      <th>first_name</th>\n",
       "      <th>position</th>\n",
       "      <th>value</th>\n",
       "      <th>valuemax</th>\n",
       "      <th>age</th>\n",
       "      <th>goals</th>\n",
       "      <th>assists</th>\n",
       "      <th>yellow</th>\n",
       "      <th>red</th>\n",
       "      <th>shotspergame</th>\n",
       "      <th>passsuccess</th>\n",
       "      <th>aerialswon</th>\n",
       "      <th>rating</th>\n",
       "      <th>positioncode</th>\n",
       "    </tr>\n",
       "    <tr>\n",
       "      <th>name</th>\n",
       "      <th></th>\n",
       "      <th></th>\n",
       "      <th></th>\n",
       "      <th></th>\n",
       "      <th></th>\n",
       "      <th></th>\n",
       "      <th></th>\n",
       "      <th></th>\n",
       "      <th></th>\n",
       "      <th></th>\n",
       "      <th></th>\n",
       "      <th></th>\n",
       "      <th></th>\n",
       "      <th></th>\n",
       "    </tr>\n",
       "  </thead>\n",
       "  <tbody>\n",
       "    <tr>\n",
       "      <th>Lewandowski</th>\n",
       "      <td>Robert</td>\n",
       "      <td>striker</td>\n",
       "      <td>80.0</td>\n",
       "      <td>80.0</td>\n",
       "      <td>28</td>\n",
       "      <td>30</td>\n",
       "      <td>4</td>\n",
       "      <td>5</td>\n",
       "      <td>0</td>\n",
       "      <td>4.2</td>\n",
       "      <td>75.0</td>\n",
       "      <td>1.8</td>\n",
       "      <td>7.71</td>\n",
       "      <td>3</td>\n",
       "    </tr>\n",
       "    <tr>\n",
       "      <th>Aubameyang</th>\n",
       "      <td>Pierre-Emerick</td>\n",
       "      <td>striker</td>\n",
       "      <td>65.0</td>\n",
       "      <td>65.0</td>\n",
       "      <td>27</td>\n",
       "      <td>29</td>\n",
       "      <td>2</td>\n",
       "      <td>3</td>\n",
       "      <td>0</td>\n",
       "      <td>3.6</td>\n",
       "      <td>70.3</td>\n",
       "      <td>1.3</td>\n",
       "      <td>7.40</td>\n",
       "      <td>3</td>\n",
       "    </tr>\n",
       "    <tr>\n",
       "      <th>Mueller</th>\n",
       "      <td>Thomas</td>\n",
       "      <td>striker</td>\n",
       "      <td>60.0</td>\n",
       "      <td>75.0</td>\n",
       "      <td>27</td>\n",
       "      <td>5</td>\n",
       "      <td>12</td>\n",
       "      <td>0</td>\n",
       "      <td>0</td>\n",
       "      <td>2.2</td>\n",
       "      <td>76.2</td>\n",
       "      <td>1.8</td>\n",
       "      <td>7.30</td>\n",
       "      <td>3</td>\n",
       "    </tr>\n",
       "    <tr>\n",
       "      <th>Reus</th>\n",
       "      <td>Marco</td>\n",
       "      <td>striker</td>\n",
       "      <td>40.0</td>\n",
       "      <td>50.0</td>\n",
       "      <td>27</td>\n",
       "      <td>5</td>\n",
       "      <td>4</td>\n",
       "      <td>1</td>\n",
       "      <td>1</td>\n",
       "      <td>2.3</td>\n",
       "      <td>74.6</td>\n",
       "      <td>0.4</td>\n",
       "      <td>7.03</td>\n",
       "      <td>3</td>\n",
       "    </tr>\n",
       "    <tr>\n",
       "      <th>Costa</th>\n",
       "      <td>Douglas</td>\n",
       "      <td>striker</td>\n",
       "      <td>30.0</td>\n",
       "      <td>35.0</td>\n",
       "      <td>26</td>\n",
       "      <td>4</td>\n",
       "      <td>3</td>\n",
       "      <td>2</td>\n",
       "      <td>0</td>\n",
       "      <td>1.9</td>\n",
       "      <td>80.2</td>\n",
       "      <td>0.1</td>\n",
       "      <td>7.17</td>\n",
       "      <td>3</td>\n",
       "    </tr>\n",
       "  </tbody>\n",
       "</table>\n",
       "</div>"
      ],
      "text/plain": [
       "                 first_name position  value  valuemax  age  goals  assists  \\\n",
       "name                                                                         \n",
       "Lewandowski          Robert  striker   80.0      80.0   28     30        4   \n",
       "Aubameyang   Pierre-Emerick  striker   65.0      65.0   27     29        2   \n",
       "Mueller              Thomas  striker   60.0      75.0   27      5       12   \n",
       "Reus                  Marco  striker   40.0      50.0   27      5        4   \n",
       "Costa               Douglas  striker   30.0      35.0   26      4        3   \n",
       "\n",
       "             yellow  red  shotspergame  passsuccess  aerialswon  rating  \\\n",
       "name                                                                      \n",
       "Lewandowski       5    0           4.2         75.0         1.8    7.71   \n",
       "Aubameyang        3    0           3.6         70.3         1.3    7.40   \n",
       "Mueller           0    0           2.2         76.2         1.8    7.30   \n",
       "Reus              1    1           2.3         74.6         0.4    7.03   \n",
       "Costa             2    0           1.9         80.2         0.1    7.17   \n",
       "\n",
       "             positioncode  \n",
       "name                       \n",
       "Lewandowski             3  \n",
       "Aubameyang              3  \n",
       "Mueller                 3  \n",
       "Reus                    3  \n",
       "Costa                   3  "
      ]
     },
     "execution_count": 60,
     "metadata": {},
     "output_type": "execute_result"
    }
   ],
   "source": [
    "df.set_index('name', drop = True, inplace = True)\n",
    "## check if change was successful\n",
    "df.head()"
   ]
  },
  {
   "cell_type": "markdown",
   "metadata": {
    "slideshow": {
     "slide_type": "subslide"
    }
   },
   "source": [
    "#### Accessing elements in dataframes\n",
    "\n",
    "In the previous sections, we have already seen that using the bracket operator with a dataframe accesses a column (rather than a row as with a Pandas series). If you provide an argument that does not refer to a column in the dataframe, you get an error."
   ]
  },
  {
   "cell_type": "code",
   "execution_count": 61,
   "metadata": {
    "slideshow": {
     "slide_type": "subslide"
    }
   },
   "outputs": [
    {
     "name": "stdout",
     "output_type": "stream",
     "text": [
      "name\n",
      "Lewandowski    80.00\n",
      "Aubameyang     65.00\n",
      "Mueller        60.00\n",
      "Reus           40.00\n",
      "Costa          30.00\n",
      "               ...  \n",
      "Bicakcic        2.25\n",
      "Gebre           2.25\n",
      "Garcia          2.25\n",
      "Olkowski        2.25\n",
      "Bussmann        2.25\n",
      "Name: value, Length: 288, dtype: float64\n"
     ]
    }
   ],
   "source": [
    "## print name column\n",
    "print( df['value'] )"
   ]
  },
  {
   "cell_type": "code",
   "execution_count": 62,
   "metadata": {
    "slideshow": {
     "slide_type": "subslide"
    }
   },
   "outputs": [],
   "source": [
    "## the following returns an error, since we have dropped the 'name' column above!!!\n",
    "# print( df['name'] )"
   ]
  },
  {
   "cell_type": "markdown",
   "metadata": {
    "slideshow": {
     "slide_type": "subslide"
    }
   },
   "source": [
    "The **loc** and **iloc** methods that we have seen for series also work with dataframes. As with a series, **loc** uses row indices and now also column keys. **iloc** uses the actual position of the row(s) and the column(s) that you'd like to access. "
   ]
  },
  {
   "cell_type": "markdown",
   "metadata": {
    "slideshow": {
     "slide_type": "subslide"
    }
   },
   "source": [
    "As an example, suppose we want to print the **'value'** (the column key) of the first player in the dataframe, which we know refers to **'Lewandowski'** (the row index). The following two statements are then equivalent:"
   ]
  },
  {
   "cell_type": "code",
   "execution_count": 63,
   "metadata": {
    "slideshow": {
     "slide_type": "-"
    }
   },
   "outputs": [
    {
     "name": "stdout",
     "output_type": "stream",
     "text": [
      "80.0\n",
      "80.0\n"
     ]
    }
   ],
   "source": [
    "## access an element in the dataframe using loc\n",
    "print( df.loc['Lewandowski', 'value'] )\n",
    "## access an element in the dataframe using iloc\n",
    "print( df.iloc[0, 2] )"
   ]
  },
  {
   "cell_type": "markdown",
   "metadata": {
    "slideshow": {
     "slide_type": "-"
    }
   },
   "source": [
    "For **iloc** to work here, of course we need to know the row and column position of the element we're interested in, here **0, 2**. "
   ]
  },
  {
   "cell_type": "markdown",
   "metadata": {
    "slideshow": {
     "slide_type": "subslide"
    }
   },
   "source": [
    "While this works fine, note that you can also use the bracket operator together with **loc** or **iloc**. As before, the argument given to the bracket operator will refer to the column key; the argument given to **loc** or **iloc** then refers to the row index or row position, respectively. Hence, the example above can also be implemented like this:"
   ]
  },
  {
   "cell_type": "code",
   "execution_count": 64,
   "metadata": {
    "slideshow": {
     "slide_type": "-"
    }
   },
   "outputs": [
    {
     "name": "stdout",
     "output_type": "stream",
     "text": [
      "80.0\n",
      "80.0\n"
     ]
    }
   ],
   "source": [
    "## access an element in the dataframe using the bracket operator and loc\n",
    "print( df['value'].loc['Lewandowski'] )\n",
    "## access an element in the dataframe using the bracket operator and iloc\n",
    "print( df['value'].iloc[0] )"
   ]
  },
  {
   "cell_type": "markdown",
   "metadata": {
    "slideshow": {
     "slide_type": "subslide"
    }
   },
   "source": [
    "As an aside, what will not work is giving the column key to both the bracket operator and **loc** or **iloc**:"
   ]
  },
  {
   "cell_type": "code",
   "execution_count": 65,
   "metadata": {},
   "outputs": [],
   "source": [
    "## the following would have too many indices, and hence return errors\n",
    "# print( df['value'].loc['Lewandowski', 'value'] )\n",
    "# print( df['value'].iloc[0, 1] )"
   ]
  },
  {
   "cell_type": "markdown",
   "metadata": {
    "slideshow": {
     "slide_type": "subslide"
    }
   },
   "source": [
    "When using **loc** or **iloc** with only one argument, it returns the whole row referring to this index or position (assuming that it exists):"
   ]
  },
  {
   "cell_type": "code",
   "execution_count": 66,
   "metadata": {},
   "outputs": [
    {
     "name": "stdout",
     "output_type": "stream",
     "text": [
      "first_name       Robert\n",
      "position        striker\n",
      "value                80\n",
      "valuemax             80\n",
      "age                  28\n",
      "goals                30\n",
      "assists               4\n",
      "yellow                5\n",
      "red                   0\n",
      "shotspergame        4.2\n",
      "passsuccess          75\n",
      "aerialswon          1.8\n",
      "rating             7.71\n",
      "positioncode          3\n",
      "Name: Lewandowski, dtype: object\n"
     ]
    }
   ],
   "source": [
    "print( df.loc['Lewandowski'] )"
   ]
  },
  {
   "cell_type": "markdown",
   "metadata": {
    "slideshow": {
     "slide_type": "subslide"
    }
   },
   "source": [
    "#### Accessing Multiple Elements\n",
    "\n",
    "As with Pandas series, the **loc** and **iloc** methods allow you to access multiple elements, with the usual slicing notation: "
   ]
  },
  {
   "cell_type": "code",
   "execution_count": 67,
   "metadata": {},
   "outputs": [
    {
     "name": "stdout",
     "output_type": "stream",
     "text": [
      "name\n",
      "Lewandowski    80.0\n",
      "Aubameyang     65.0\n",
      "Mueller        60.0\n",
      "Reus           40.0\n",
      "Costa          30.0\n",
      "Dembele        28.0\n",
      "Schuerrle      23.0\n",
      "Chicharito     22.0\n",
      "Embolo         20.0\n",
      "Coman          20.0\n",
      "Name: value, dtype: float64\n"
     ]
    }
   ],
   "source": [
    "## print the values for the first 10 players\n",
    "print( df['value'].iloc[:10] )"
   ]
  },
  {
   "cell_type": "code",
   "execution_count": 68,
   "metadata": {
    "slideshow": {
     "slide_type": "subslide"
    }
   },
   "outputs": [
    {
     "name": "stdout",
     "output_type": "stream",
     "text": [
      "name\n",
      "Lewandowski            Robert\n",
      "Aubameyang     Pierre-Emerick\n",
      "Mueller                Thomas\n",
      "Reus                    Marco\n",
      "Costa                 Douglas\n",
      "Name: first_name, dtype: object\n"
     ]
    }
   ],
   "source": [
    "## print the first names for Lewandowski to Costa\n",
    "print( df['first_name'].loc['Lewandowski' : 'Costa'] )"
   ]
  },
  {
   "cell_type": "code",
   "execution_count": 69,
   "metadata": {
    "slideshow": {
     "slide_type": "subslide"
    }
   },
   "outputs": [
    {
     "name": "stdout",
     "output_type": "stream",
     "text": [
      "             age  goals  assists\n",
      "name                            \n",
      "Lewandowski   28     30        4\n",
      "Aubameyang    27     29        2\n",
      "Mueller       27      5       12\n",
      "Reus          27      5        4\n",
      "Costa         26      4        3\n"
     ]
    }
   ],
   "source": [
    "## print the age, goals and assists for Lewandowski to Costa\n",
    "print( df.loc['Lewandowski' : 'Costa', 'age' : 'assists'] )"
   ]
  },
  {
   "cell_type": "markdown",
   "metadata": {
    "slideshow": {
     "slide_type": "subslide"
    }
   },
   "source": [
    "Note from the last two examples that slicing (that we have seen so far only with integers) works also for row indices and column keys using **loc**. However, what might be a bit confusing here: when slicing with **loc**, the last element given in your slice (**'Costa'** in the example above) is *included* in what is returned. Recall from lists, Numpy arrays etc. that slicing usually returns the elements *excluding the last one given*. In fact this is also true when using **iloc**:"
   ]
  },
  {
   "cell_type": "code",
   "execution_count": 70,
   "metadata": {},
   "outputs": [
    {
     "name": "stdout",
     "output_type": "stream",
     "text": [
      "             valuemax  age  goals\n",
      "name                             \n",
      "Lewandowski      80.0   28     30\n",
      "Aubameyang       65.0   27     29\n",
      "Mueller          75.0   27      5\n",
      "Reus             50.0   27      5\n",
      "Costa            35.0   26      4\n"
     ]
    }
   ],
   "source": [
    "print( df.iloc[0:5, 3:6] )"
   ]
  },
  {
   "cell_type": "markdown",
   "metadata": {
    "slideshow": {
     "slide_type": "subslide"
    }
   },
   "source": [
    "As second thing to keep in mind for slicing: when slicing over column keys, you need to give the keys to as an argument to **loc**; the bracket operator will not work:"
   ]
  },
  {
   "cell_type": "code",
   "execution_count": 71,
   "metadata": {},
   "outputs": [],
   "source": [
    "## the following will throw an error, as slicing in the bracket operator does not work\n",
    "# print( df['age' : 'assists'].loc['Lewandowski' : 'Costa'] )"
   ]
  },
  {
   "cell_type": "markdown",
   "metadata": {
    "slideshow": {
     "slide_type": "subslide"
    }
   },
   "source": [
    "When accessing multiple elements, they don't have to be adjacent: you can use arrays containing the indices or keys of the elements:"
   ]
  },
  {
   "cell_type": "code",
   "execution_count": 72,
   "metadata": {},
   "outputs": [
    {
     "name": "stdout",
     "output_type": "stream",
     "text": [
      "             age  assists\n",
      "name                     \n",
      "Lewandowski   28        4\n",
      "Thiago        26        5\n"
     ]
    }
   ],
   "source": [
    "print( df.loc[('Lewandowski', 'Thiago'), ('age','assists')] )"
   ]
  },
  {
   "cell_type": "code",
   "execution_count": 73,
   "metadata": {
    "slideshow": {
     "slide_type": "subslide"
    }
   },
   "outputs": [
    {
     "name": "stdout",
     "output_type": "stream",
     "text": [
      "          age first_name\n",
      "name                    \n",
      "Reus       27      Marco\n",
      "Thiago     26       None\n",
      "Forsberg   25       Emil\n",
      "Rudy       27  Sebastian\n"
     ]
    }
   ],
   "source": [
    "players = ['Reus', 'Thiago', 'Forsberg', 'Rudy']\n",
    "print( df.loc[players, ('age','first_name')] )"
   ]
  },
  {
   "cell_type": "markdown",
   "metadata": {
    "slideshow": {
     "slide_type": "subslide"
    }
   },
   "source": [
    "#### Logical Arrays\n",
    "\n",
    "As we saw for Pandas series, we can use logical arrays (containing only **True** and **False**) to access elements in a dataframe. For example, suppose we are interested in number of goals scored by defenders only (indicated by a '1' for **'positioncode'** in the data set). The following returns a Pandas series assigning **True** or **False** to each index."
   ]
  },
  {
   "cell_type": "code",
   "execution_count": 74,
   "metadata": {
    "slideshow": {
     "slide_type": "subslide"
    }
   },
   "outputs": [
    {
     "data": {
      "text/plain": [
       "name\n",
       "Lewandowski    False\n",
       "Aubameyang     False\n",
       "Mueller        False\n",
       "Reus           False\n",
       "Costa          False\n",
       "               ...  \n",
       "Bicakcic        True\n",
       "Gebre           True\n",
       "Garcia          True\n",
       "Olkowski        True\n",
       "Bussmann        True\n",
       "Name: positioncode, Length: 288, dtype: bool"
      ]
     },
     "execution_count": 74,
     "metadata": {},
     "output_type": "execute_result"
    }
   ],
   "source": [
    "df['positioncode'] == 1"
   ]
  },
  {
   "cell_type": "markdown",
   "metadata": {
    "slideshow": {
     "slide_type": "subslide"
    }
   },
   "source": [
    "We can use such an array directly as an argument in the **loc** method:"
   ]
  },
  {
   "cell_type": "code",
   "execution_count": 75,
   "metadata": {
    "slideshow": {
     "slide_type": "-"
    }
   },
   "outputs": [
    {
     "name": "stdout",
     "output_type": "stream",
     "text": [
      "name\n",
      "Boateng     0\n",
      "Alaba       4\n",
      "Hummels     1\n",
      "Sokratis    2\n",
      "Martinez    1\n",
      "           ..\n",
      "Bicakcic    1\n",
      "Gebre       5\n",
      "Garcia      1\n",
      "Olkowski    0\n",
      "Bussmann    0\n",
      "Name: goals, Length: 93, dtype: int64\n"
     ]
    }
   ],
   "source": [
    "print( df['goals'].loc[ df['positioncode'] == 1 ] )"
   ]
  },
  {
   "cell_type": "markdown",
   "metadata": {
    "slideshow": {
     "slide_type": "subslide"
    }
   },
   "source": [
    "If we are also interested in assists, we need to specify the column names inside **loc**, as before:"
   ]
  },
  {
   "cell_type": "code",
   "execution_count": 76,
   "metadata": {
    "slideshow": {
     "slide_type": "-"
    }
   },
   "outputs": [
    {
     "name": "stdout",
     "output_type": "stream",
     "text": [
      "          goals  assists\n",
      "name                    \n",
      "Boateng       0        1\n",
      "Alaba         4        4\n",
      "Hummels       1        1\n",
      "Sokratis      2        0\n",
      "Martinez      1        1\n"
     ]
    }
   ],
   "source": [
    "print( df.loc[ df['positioncode'] == 1, ('goals', 'assists')].head() )"
   ]
  },
  {
   "cell_type": "markdown",
   "metadata": {
    "slideshow": {
     "slide_type": "-"
    }
   },
   "source": [
    "We will see more examples on how to use logical arrays for indexing below."
   ]
  },
  {
   "cell_type": "markdown",
   "metadata": {
    "slideshow": {
     "slide_type": "subslide"
    }
   },
   "source": [
    "#### Descriptive Statistics\n",
    "\n",
    "For numerical data, the **describe** method gives an overview over the most common descriptive statistics. In addition, the same methods that we saw when learning about Numpy arrays work for Pandas as well. Consider the **mean** method:"
   ]
  },
  {
   "cell_type": "code",
   "execution_count": 77,
   "metadata": {
    "slideshow": {
     "slide_type": "subslide"
    }
   },
   "outputs": [
    {
     "name": "stdout",
     "output_type": "stream",
     "text": [
      "value            8.148438\n",
      "valuemax        10.734201\n",
      "age             25.555556\n",
      "goals            2.631944\n",
      "assists          1.875000\n",
      "yellow           2.958333\n",
      "red              0.135417\n",
      "shotspergame     0.987153\n",
      "passsuccess     75.010417\n",
      "aerialswon       1.556250\n",
      "rating           6.816250\n",
      "positioncode     2.010417\n",
      "dtype: float64\n",
      "\n",
      "<class 'pandas.core.series.Series'>\n"
     ]
    }
   ],
   "source": [
    "print( df.mean() )\n",
    "print('')\n",
    "print( type(df.mean()))"
   ]
  },
  {
   "cell_type": "markdown",
   "metadata": {
    "slideshow": {
     "slide_type": "subslide"
    }
   },
   "source": [
    "Note two things: first, the **mean** method (as well as the other methods for descriptive statistics) ignores columns that contain non-numerical values (i.e. whose **dtype** is \"object\"). In the Bundesliga data set, **'position'** and **'first_name'** are ignored, since they contain strings. "
   ]
  },
  {
   "cell_type": "markdown",
   "metadata": {
    "slideshow": {
     "slide_type": "subslide"
    }
   },
   "source": [
    "Second, calling **mean** without an argument returns the averages for each column, across all rows, as a Pandas series. \n",
    "\n",
    "If we want to get the average for all rows instead, we can use the **axis = 1** as an argument - 1 since we average *across all columns*. Of course, this does not make much sense in the Bundesliga example, but just for illustration:"
   ]
  },
  {
   "cell_type": "code",
   "execution_count": 78,
   "metadata": {
    "slideshow": {
     "slide_type": "subslide"
    }
   },
   "outputs": [
    {
     "name": "stdout",
     "output_type": "stream",
     "text": [
      "name\n",
      "Lewandowski    26.559167\n",
      "Aubameyang     23.050000\n",
      "Mueller        22.458333\n",
      "Reus           17.944167\n",
      "Costa          16.030833\n",
      "                 ...    \n",
      "Bicakcic       11.420000\n",
      "Gebre          11.190000\n",
      "Garcia         10.560833\n",
      "Olkowski        8.806667\n",
      "Bussmann        8.415833\n",
      "Length: 288, dtype: float64\n"
     ]
    }
   ],
   "source": [
    "print( df.mean(axis = 1) )"
   ]
  },
  {
   "cell_type": "markdown",
   "metadata": {
    "slideshow": {
     "slide_type": "subslide"
    }
   },
   "source": [
    "Methods for the computing the standard deviation (**std**), variance (**var**), median (**median**), maximum (**max**), minimum (**min**), as well as for taking the sum (**sum**) and counting the elements (**count**) work accordingly."
   ]
  },
  {
   "cell_type": "code",
   "execution_count": 79,
   "metadata": {
    "slideshow": {
     "slide_type": "subslide"
    }
   },
   "outputs": [
    {
     "name": "stdout",
     "output_type": "stream",
     "text": [
      "value            9.820420\n",
      "valuemax        11.648733\n",
      "age              3.589139\n",
      "goals            4.034255\n",
      "assists          2.279663\n",
      "yellow           2.492847\n",
      "red              0.381263\n",
      "shotspergame     0.697538\n",
      "passsuccess      8.806631\n",
      "aerialswon       1.123876\n",
      "rating           0.337366\n",
      "positioncode     0.811436\n",
      "dtype: float64\n"
     ]
    }
   ],
   "source": [
    "print( df.std() )"
   ]
  },
  {
   "cell_type": "code",
   "execution_count": 80,
   "metadata": {
    "slideshow": {
     "slide_type": "subslide"
    }
   },
   "outputs": [
    {
     "name": "stdout",
     "output_type": "stream",
     "text": [
      "value            4.50\n",
      "valuemax         6.25\n",
      "age             26.00\n",
      "goals            1.00\n",
      "assists          1.00\n",
      "yellow           2.00\n",
      "red              0.00\n",
      "shotspergame     0.90\n",
      "passsuccess     75.05\n",
      "aerialswon       1.30\n",
      "rating           6.82\n",
      "positioncode     2.00\n",
      "dtype: float64\n"
     ]
    }
   ],
   "source": [
    "print( df.median() )"
   ]
  },
  {
   "cell_type": "markdown",
   "metadata": {
    "slideshow": {
     "slide_type": "subslide"
    }
   },
   "source": [
    "Unsurprisingly, using these methods on a column or a row just returns a scalar:"
   ]
  },
  {
   "cell_type": "code",
   "execution_count": 81,
   "metadata": {},
   "outputs": [
    {
     "data": {
      "text/plain": [
       "80.0"
      ]
     },
     "execution_count": 81,
     "metadata": {},
     "output_type": "execute_result"
    }
   ],
   "source": [
    "df['value'].max()"
   ]
  },
  {
   "cell_type": "markdown",
   "metadata": {
    "slideshow": {
     "slide_type": "subslide"
    }
   },
   "source": [
    "We can combine these methods with logical arrays to compute statistics for subgroups in the data. For example, let's see if there are differences in the rating of different age groups. Below, we first count the number of players that below 25, over 30 or in between, and then compute their average rating. "
   ]
  },
  {
   "cell_type": "code",
   "execution_count": 82,
   "metadata": {
    "slideshow": {
     "slide_type": "subslide"
    }
   },
   "outputs": [
    {
     "name": "stdout",
     "output_type": "stream",
     "text": [
      "113\n",
      "6.776371681415927\n"
     ]
    }
   ],
   "source": [
    "print(df.loc[df['age'] < 25, 'rating'].count() )\n",
    "print(df.loc[df['age'] < 25, 'rating'].mean()  ) "
   ]
  },
  {
   "cell_type": "code",
   "execution_count": 83,
   "metadata": {
    "slideshow": {
     "slide_type": "subslide"
    }
   },
   "outputs": [
    {
     "name": "stdout",
     "output_type": "stream",
     "text": [
      "23\n",
      "6.894782608695651\n"
     ]
    }
   ],
   "source": [
    "print( df.loc[df['age'] > 30, 'rating'].count() )\n",
    "print( df.loc[df['age'] > 30, 'rating'].mean() )"
   ]
  },
  {
   "cell_type": "code",
   "execution_count": 84,
   "metadata": {
    "slideshow": {
     "slide_type": "subslide"
    }
   },
   "outputs": [
    {
     "name": "stdout",
     "output_type": "stream",
     "text": [
      "152\n",
      "6.834013157894733\n"
     ]
    }
   ],
   "source": [
    "A = (df['age'] >= 25) & (df['age'] <= 30)\n",
    "print(df.loc[A, 'rating'].count() )\n",
    "print(df.loc[A, 'rating'].mean()  )"
   ]
  },
  {
   "cell_type": "markdown",
   "metadata": {
    "slideshow": {
     "slide_type": "subslide"
    }
   },
   "source": [
    "Note that for the group between 25 and 30, we can use a **&** to link two logical expressions. Unsurprisingly, compared to the younger age groups, there are by far fewer players of age 31 and older in the data set. However, their average rating does not seem significantly different from younger players - in fact it is slightly higher. Of course, this is most likely driven by some outliers - and may look a bit different this season!"
   ]
  },
  {
   "cell_type": "markdown",
   "metadata": {
    "slideshow": {
     "slide_type": "subslide"
    }
   },
   "source": [
    "Another very useful method is **idxmax**, which returns the row index of the element that achieves the highest value in a column: "
   ]
  },
  {
   "cell_type": "code",
   "execution_count": 85,
   "metadata": {},
   "outputs": [
    {
     "name": "stdout",
     "output_type": "stream",
     "text": [
      "Lewandowski\n"
     ]
    }
   ],
   "source": [
    "print( df['goals'].idxmax() )"
   ]
  },
  {
   "cell_type": "markdown",
   "metadata": {
    "slideshow": {
     "slide_type": "subslide"
    }
   },
   "source": [
    "We can also use **idxmax** on the whole dataframe; however, this works only when the dataframe contains only numbers. Let's get back to this below."
   ]
  },
  {
   "cell_type": "markdown",
   "metadata": {
    "slideshow": {
     "slide_type": "subslide"
    }
   },
   "source": [
    "Using **loc**, we can also use the result from an **idxmax** call for accessing elements. For examples, let's see the position of the players with the most goals, most assists, best rating and highest market value, respectively:"
   ]
  },
  {
   "cell_type": "code",
   "execution_count": 86,
   "metadata": {
    "slideshow": {
     "slide_type": "-"
    }
   },
   "outputs": [
    {
     "name": "stdout",
     "output_type": "stream",
     "text": [
      "striker\n",
      "striker\n",
      "midfielder\n",
      "striker\n"
     ]
    }
   ],
   "source": [
    "print( df['position'].loc[df['goals'].idxmax()] )\n",
    "print( df['position'].loc[df['assists'].idxmax()] )\n",
    "print( df['position'].loc[df['rating'].idxmax() ] )\n",
    "print( df['position'].loc[df['value'].idxmax()] )"
   ]
  },
  {
   "cell_type": "markdown",
   "metadata": {
    "slideshow": {
     "slide_type": "subslide"
    }
   },
   "source": [
    "We can also combine **idxmax** with logical indexing, for example to find the best goal scorers for each position. The code below tells Python to print the index for the element that attains the highest value in the **'goals'** column, among all the elements with a **1** (or **2**, or **3**) in the column **'positioncode'**."
   ]
  },
  {
   "cell_type": "code",
   "execution_count": 87,
   "metadata": {
    "slideshow": {
     "slide_type": "subslide"
    }
   },
   "outputs": [
    {
     "name": "stdout",
     "output_type": "stream",
     "text": [
      "Guerreiro\n",
      "Gnabry\n",
      "Lewandowski\n"
     ]
    }
   ],
   "source": [
    "## most goals at their position\n",
    "print( df.loc[ df['positioncode'] == 1, 'goals' ].idxmax()  )\n",
    "print( df.loc[ df['positioncode'] == 2, 'goals' ].idxmax()  )\n",
    "print( df.loc[ df['positioncode'] == 3, 'goals' ].idxmax()  )"
   ]
  },
  {
   "cell_type": "markdown",
   "metadata": {
    "slideshow": {
     "slide_type": "subslide"
    }
   },
   "source": [
    "#### apply vs. applymap\n",
    "\n",
    "Two methods for Pandas dataframes that can be very useful are **apply** and **applymap**. For reasons that will become clear momentarily, start by creating a new dataframe **df_num** that contains all the columns from the original dataframe with only numerical data: "
   ]
  },
  {
   "cell_type": "code",
   "execution_count": 88,
   "metadata": {
    "slideshow": {
     "slide_type": "subslide"
    }
   },
   "outputs": [
    {
     "data": {
      "text/html": [
       "<div>\n",
       "<style scoped>\n",
       "    .dataframe tbody tr th:only-of-type {\n",
       "        vertical-align: middle;\n",
       "    }\n",
       "\n",
       "    .dataframe tbody tr th {\n",
       "        vertical-align: top;\n",
       "    }\n",
       "\n",
       "    .dataframe thead th {\n",
       "        text-align: right;\n",
       "    }\n",
       "</style>\n",
       "<table border=\"1\" class=\"dataframe\">\n",
       "  <thead>\n",
       "    <tr style=\"text-align: right;\">\n",
       "      <th></th>\n",
       "      <th>value</th>\n",
       "      <th>valuemax</th>\n",
       "      <th>age</th>\n",
       "      <th>goals</th>\n",
       "      <th>assists</th>\n",
       "      <th>yellow</th>\n",
       "      <th>red</th>\n",
       "      <th>shotspergame</th>\n",
       "      <th>passsuccess</th>\n",
       "      <th>aerialswon</th>\n",
       "      <th>rating</th>\n",
       "      <th>positioncode</th>\n",
       "    </tr>\n",
       "    <tr>\n",
       "      <th>name</th>\n",
       "      <th></th>\n",
       "      <th></th>\n",
       "      <th></th>\n",
       "      <th></th>\n",
       "      <th></th>\n",
       "      <th></th>\n",
       "      <th></th>\n",
       "      <th></th>\n",
       "      <th></th>\n",
       "      <th></th>\n",
       "      <th></th>\n",
       "      <th></th>\n",
       "    </tr>\n",
       "  </thead>\n",
       "  <tbody>\n",
       "    <tr>\n",
       "      <th>Lewandowski</th>\n",
       "      <td>80.0</td>\n",
       "      <td>80.0</td>\n",
       "      <td>28</td>\n",
       "      <td>30</td>\n",
       "      <td>4</td>\n",
       "      <td>5</td>\n",
       "      <td>0</td>\n",
       "      <td>4.2</td>\n",
       "      <td>75.0</td>\n",
       "      <td>1.8</td>\n",
       "      <td>7.71</td>\n",
       "      <td>3</td>\n",
       "    </tr>\n",
       "    <tr>\n",
       "      <th>Aubameyang</th>\n",
       "      <td>65.0</td>\n",
       "      <td>65.0</td>\n",
       "      <td>27</td>\n",
       "      <td>29</td>\n",
       "      <td>2</td>\n",
       "      <td>3</td>\n",
       "      <td>0</td>\n",
       "      <td>3.6</td>\n",
       "      <td>70.3</td>\n",
       "      <td>1.3</td>\n",
       "      <td>7.40</td>\n",
       "      <td>3</td>\n",
       "    </tr>\n",
       "    <tr>\n",
       "      <th>Mueller</th>\n",
       "      <td>60.0</td>\n",
       "      <td>75.0</td>\n",
       "      <td>27</td>\n",
       "      <td>5</td>\n",
       "      <td>12</td>\n",
       "      <td>0</td>\n",
       "      <td>0</td>\n",
       "      <td>2.2</td>\n",
       "      <td>76.2</td>\n",
       "      <td>1.8</td>\n",
       "      <td>7.30</td>\n",
       "      <td>3</td>\n",
       "    </tr>\n",
       "    <tr>\n",
       "      <th>Reus</th>\n",
       "      <td>40.0</td>\n",
       "      <td>50.0</td>\n",
       "      <td>27</td>\n",
       "      <td>5</td>\n",
       "      <td>4</td>\n",
       "      <td>1</td>\n",
       "      <td>1</td>\n",
       "      <td>2.3</td>\n",
       "      <td>74.6</td>\n",
       "      <td>0.4</td>\n",
       "      <td>7.03</td>\n",
       "      <td>3</td>\n",
       "    </tr>\n",
       "    <tr>\n",
       "      <th>Costa</th>\n",
       "      <td>30.0</td>\n",
       "      <td>35.0</td>\n",
       "      <td>26</td>\n",
       "      <td>4</td>\n",
       "      <td>3</td>\n",
       "      <td>2</td>\n",
       "      <td>0</td>\n",
       "      <td>1.9</td>\n",
       "      <td>80.2</td>\n",
       "      <td>0.1</td>\n",
       "      <td>7.17</td>\n",
       "      <td>3</td>\n",
       "    </tr>\n",
       "  </tbody>\n",
       "</table>\n",
       "</div>"
      ],
      "text/plain": [
       "             value  valuemax  age  goals  assists  yellow  red  shotspergame  \\\n",
       "name                                                                           \n",
       "Lewandowski   80.0      80.0   28     30        4       5    0           4.2   \n",
       "Aubameyang    65.0      65.0   27     29        2       3    0           3.6   \n",
       "Mueller       60.0      75.0   27      5       12       0    0           2.2   \n",
       "Reus          40.0      50.0   27      5        4       1    1           2.3   \n",
       "Costa         30.0      35.0   26      4        3       2    0           1.9   \n",
       "\n",
       "             passsuccess  aerialswon  rating  positioncode  \n",
       "name                                                        \n",
       "Lewandowski         75.0         1.8    7.71             3  \n",
       "Aubameyang          70.3         1.3    7.40             3  \n",
       "Mueller             76.2         1.8    7.30             3  \n",
       "Reus                74.6         0.4    7.03             3  \n",
       "Costa               80.2         0.1    7.17             3  "
      ]
     },
     "execution_count": 88,
     "metadata": {},
     "output_type": "execute_result"
    }
   ],
   "source": [
    "## preparation: define df with numbers only\n",
    "df_num = df.loc[:, 'value': 'positioncode']\n",
    "df_num.head()"
   ]
  },
  {
   "cell_type": "markdown",
   "metadata": {
    "slideshow": {
     "slide_type": "subslide"
    }
   },
   "source": [
    "**applymap** does for dataframes what **apply** did for series (as seen above): it takes a function (built-in or newly written) and applies it to each element in the dataframe. Let's use **int** again as an example, i.e. let's convert all numbers in **df_num** to integers: "
   ]
  },
  {
   "cell_type": "code",
   "execution_count": 89,
   "metadata": {},
   "outputs": [
    {
     "data": {
      "text/html": [
       "<div>\n",
       "<style scoped>\n",
       "    .dataframe tbody tr th:only-of-type {\n",
       "        vertical-align: middle;\n",
       "    }\n",
       "\n",
       "    .dataframe tbody tr th {\n",
       "        vertical-align: top;\n",
       "    }\n",
       "\n",
       "    .dataframe thead th {\n",
       "        text-align: right;\n",
       "    }\n",
       "</style>\n",
       "<table border=\"1\" class=\"dataframe\">\n",
       "  <thead>\n",
       "    <tr style=\"text-align: right;\">\n",
       "      <th></th>\n",
       "      <th>value</th>\n",
       "      <th>valuemax</th>\n",
       "      <th>age</th>\n",
       "      <th>goals</th>\n",
       "      <th>assists</th>\n",
       "      <th>yellow</th>\n",
       "      <th>red</th>\n",
       "      <th>shotspergame</th>\n",
       "      <th>passsuccess</th>\n",
       "      <th>aerialswon</th>\n",
       "      <th>rating</th>\n",
       "      <th>positioncode</th>\n",
       "    </tr>\n",
       "    <tr>\n",
       "      <th>name</th>\n",
       "      <th></th>\n",
       "      <th></th>\n",
       "      <th></th>\n",
       "      <th></th>\n",
       "      <th></th>\n",
       "      <th></th>\n",
       "      <th></th>\n",
       "      <th></th>\n",
       "      <th></th>\n",
       "      <th></th>\n",
       "      <th></th>\n",
       "      <th></th>\n",
       "    </tr>\n",
       "  </thead>\n",
       "  <tbody>\n",
       "    <tr>\n",
       "      <th>Lewandowski</th>\n",
       "      <td>80</td>\n",
       "      <td>80</td>\n",
       "      <td>28</td>\n",
       "      <td>30</td>\n",
       "      <td>4</td>\n",
       "      <td>5</td>\n",
       "      <td>0</td>\n",
       "      <td>4</td>\n",
       "      <td>75</td>\n",
       "      <td>1</td>\n",
       "      <td>7</td>\n",
       "      <td>3</td>\n",
       "    </tr>\n",
       "    <tr>\n",
       "      <th>Aubameyang</th>\n",
       "      <td>65</td>\n",
       "      <td>65</td>\n",
       "      <td>27</td>\n",
       "      <td>29</td>\n",
       "      <td>2</td>\n",
       "      <td>3</td>\n",
       "      <td>0</td>\n",
       "      <td>3</td>\n",
       "      <td>70</td>\n",
       "      <td>1</td>\n",
       "      <td>7</td>\n",
       "      <td>3</td>\n",
       "    </tr>\n",
       "    <tr>\n",
       "      <th>Mueller</th>\n",
       "      <td>60</td>\n",
       "      <td>75</td>\n",
       "      <td>27</td>\n",
       "      <td>5</td>\n",
       "      <td>12</td>\n",
       "      <td>0</td>\n",
       "      <td>0</td>\n",
       "      <td>2</td>\n",
       "      <td>76</td>\n",
       "      <td>1</td>\n",
       "      <td>7</td>\n",
       "      <td>3</td>\n",
       "    </tr>\n",
       "    <tr>\n",
       "      <th>Reus</th>\n",
       "      <td>40</td>\n",
       "      <td>50</td>\n",
       "      <td>27</td>\n",
       "      <td>5</td>\n",
       "      <td>4</td>\n",
       "      <td>1</td>\n",
       "      <td>1</td>\n",
       "      <td>2</td>\n",
       "      <td>74</td>\n",
       "      <td>0</td>\n",
       "      <td>7</td>\n",
       "      <td>3</td>\n",
       "    </tr>\n",
       "    <tr>\n",
       "      <th>Costa</th>\n",
       "      <td>30</td>\n",
       "      <td>35</td>\n",
       "      <td>26</td>\n",
       "      <td>4</td>\n",
       "      <td>3</td>\n",
       "      <td>2</td>\n",
       "      <td>0</td>\n",
       "      <td>1</td>\n",
       "      <td>80</td>\n",
       "      <td>0</td>\n",
       "      <td>7</td>\n",
       "      <td>3</td>\n",
       "    </tr>\n",
       "  </tbody>\n",
       "</table>\n",
       "</div>"
      ],
      "text/plain": [
       "             value  valuemax  age  goals  assists  yellow  red  shotspergame  \\\n",
       "name                                                                           \n",
       "Lewandowski     80        80   28     30        4       5    0             4   \n",
       "Aubameyang      65        65   27     29        2       3    0             3   \n",
       "Mueller         60        75   27      5       12       0    0             2   \n",
       "Reus            40        50   27      5        4       1    1             2   \n",
       "Costa           30        35   26      4        3       2    0             1   \n",
       "\n",
       "             passsuccess  aerialswon  rating  positioncode  \n",
       "name                                                        \n",
       "Lewandowski           75           1       7             3  \n",
       "Aubameyang            70           1       7             3  \n",
       "Mueller               76           1       7             3  \n",
       "Reus                  74           0       7             3  \n",
       "Costa                 80           0       7             3  "
      ]
     },
     "execution_count": 89,
     "metadata": {},
     "output_type": "execute_result"
    }
   ],
   "source": [
    "df_num.applymap(int).head()"
   ]
  },
  {
   "cell_type": "markdown",
   "metadata": {
    "slideshow": {
     "slide_type": "subslide"
    }
   },
   "source": [
    "At this point, it may become clear why we had to create a new dataframe with numerical data only: **applymap()** requires that it can use the function on all elements in the dataframe, otherwise it will throw an error. Since **int** cannot be applied on strings, the operation above would not have worked with the original dataframe."
   ]
  },
  {
   "cell_type": "markdown",
   "metadata": {
    "slideshow": {
     "slide_type": "subslide"
    }
   },
   "source": [
    "While **applymap()** applies a function on each element in the dataframe, **apply()** operates on *columns* in a dataframe. As an example, suppose we want to find the element that gets the second-highest value in a column or series. We can write a function **second_largest_series** to achieve this, using a combination of logical array and **idxmax()**. We can then use **apply** to apply this function on the dataframe."
   ]
  },
  {
   "cell_type": "code",
   "execution_count": 90,
   "metadata": {
    "slideshow": {
     "slide_type": "subslide"
    }
   },
   "outputs": [
    {
     "data": {
      "text/plain": [
       "value           Aubameyang\n",
       "valuemax           Mueller\n",
       "age                 Alonso\n",
       "goals           Aubameyang\n",
       "assists            Mueller\n",
       "yellow            Bentaleb\n",
       "red                 Leckie\n",
       "shotspergame    Aubameyang\n",
       "passsuccess       Martinez\n",
       "aerialswon      Wollscheid\n",
       "rating            Forsberg\n",
       "positioncode        Thiago\n",
       "dtype: object"
      ]
     },
     "execution_count": 90,
     "metadata": {},
     "output_type": "execute_result"
    }
   ],
   "source": [
    "def second_largest_series(series):\n",
    "    \"\"\"\n",
    "    Finds the second largest element in a series\n",
    "    \"\"\"\n",
    "    s_max = series.max()\n",
    "    return series[ series < s_max ].idxmax()\n",
    "\n",
    "df_num.apply(second_largest_series)"
   ]
  },
  {
   "cell_type": "markdown",
   "metadata": {
    "slideshow": {
     "slide_type": "subslide"
    }
   },
   "source": [
    "In these examples, **apply** takes all the elements in a column and returns a single value, e.g. the maximizing index. A second way to use **apply** is to return a value for each element in a column, but using all elements in a column to compute this value. "
   ]
  },
  {
   "cell_type": "markdown",
   "metadata": {
    "slideshow": {
     "slide_type": "subslide"
    }
   },
   "source": [
    "As an example, assume you want to see whether an element in the Bundesliga data set is above or below the relevant mean, i.e. the mean across all observations. \n",
    "\n",
    "Below we write a function **top_or_flop** that makes a copy of a series or a column, and replaces each element with **\"Top\"** if it is above the mean, and **\"Flop\"** if it is below the mean. We can apply this function to the dataframe. Note that **applymap** would not work here, since we need the function to operate on the whole column, in order to find the mean: "
   ]
  },
  {
   "cell_type": "code",
   "execution_count": 91,
   "metadata": {
    "slideshow": {
     "slide_type": "subslide"
    }
   },
   "outputs": [],
   "source": [
    "def top_or_flop(s):\n",
    "    \"\"\"\n",
    "    Determines whether an element in a series is above or below the mean of all elements in the series\n",
    "    \"\"\"\n",
    "    q = s.copy()\n",
    "    q.loc[ s >= s.mean()] = \"Top\"\n",
    "    q.loc[ s < s.mean()] = \"Flop\"\n",
    "    return q"
   ]
  },
  {
   "cell_type": "code",
   "execution_count": 92,
   "metadata": {
    "slideshow": {
     "slide_type": "subslide"
    }
   },
   "outputs": [
    {
     "data": {
      "text/html": [
       "<div>\n",
       "<style scoped>\n",
       "    .dataframe tbody tr th:only-of-type {\n",
       "        vertical-align: middle;\n",
       "    }\n",
       "\n",
       "    .dataframe tbody tr th {\n",
       "        vertical-align: top;\n",
       "    }\n",
       "\n",
       "    .dataframe thead th {\n",
       "        text-align: right;\n",
       "    }\n",
       "</style>\n",
       "<table border=\"1\" class=\"dataframe\">\n",
       "  <thead>\n",
       "    <tr style=\"text-align: right;\">\n",
       "      <th></th>\n",
       "      <th>value</th>\n",
       "      <th>valuemax</th>\n",
       "      <th>age</th>\n",
       "      <th>goals</th>\n",
       "      <th>assists</th>\n",
       "      <th>yellow</th>\n",
       "      <th>red</th>\n",
       "      <th>shotspergame</th>\n",
       "      <th>passsuccess</th>\n",
       "      <th>aerialswon</th>\n",
       "      <th>rating</th>\n",
       "      <th>positioncode</th>\n",
       "    </tr>\n",
       "    <tr>\n",
       "      <th>name</th>\n",
       "      <th></th>\n",
       "      <th></th>\n",
       "      <th></th>\n",
       "      <th></th>\n",
       "      <th></th>\n",
       "      <th></th>\n",
       "      <th></th>\n",
       "      <th></th>\n",
       "      <th></th>\n",
       "      <th></th>\n",
       "      <th></th>\n",
       "      <th></th>\n",
       "    </tr>\n",
       "  </thead>\n",
       "  <tbody>\n",
       "    <tr>\n",
       "      <th>Lewandowski</th>\n",
       "      <td>Top</td>\n",
       "      <td>Top</td>\n",
       "      <td>Top</td>\n",
       "      <td>Top</td>\n",
       "      <td>Top</td>\n",
       "      <td>Top</td>\n",
       "      <td>Flop</td>\n",
       "      <td>Top</td>\n",
       "      <td>Flop</td>\n",
       "      <td>Top</td>\n",
       "      <td>Top</td>\n",
       "      <td>Top</td>\n",
       "    </tr>\n",
       "    <tr>\n",
       "      <th>Aubameyang</th>\n",
       "      <td>Top</td>\n",
       "      <td>Top</td>\n",
       "      <td>Top</td>\n",
       "      <td>Top</td>\n",
       "      <td>Top</td>\n",
       "      <td>Top</td>\n",
       "      <td>Flop</td>\n",
       "      <td>Top</td>\n",
       "      <td>Flop</td>\n",
       "      <td>Flop</td>\n",
       "      <td>Top</td>\n",
       "      <td>Top</td>\n",
       "    </tr>\n",
       "    <tr>\n",
       "      <th>Mueller</th>\n",
       "      <td>Top</td>\n",
       "      <td>Top</td>\n",
       "      <td>Top</td>\n",
       "      <td>Top</td>\n",
       "      <td>Top</td>\n",
       "      <td>Flop</td>\n",
       "      <td>Flop</td>\n",
       "      <td>Top</td>\n",
       "      <td>Top</td>\n",
       "      <td>Top</td>\n",
       "      <td>Top</td>\n",
       "      <td>Top</td>\n",
       "    </tr>\n",
       "    <tr>\n",
       "      <th>Reus</th>\n",
       "      <td>Top</td>\n",
       "      <td>Top</td>\n",
       "      <td>Top</td>\n",
       "      <td>Top</td>\n",
       "      <td>Top</td>\n",
       "      <td>Flop</td>\n",
       "      <td>Top</td>\n",
       "      <td>Top</td>\n",
       "      <td>Flop</td>\n",
       "      <td>Flop</td>\n",
       "      <td>Top</td>\n",
       "      <td>Top</td>\n",
       "    </tr>\n",
       "    <tr>\n",
       "      <th>Costa</th>\n",
       "      <td>Top</td>\n",
       "      <td>Top</td>\n",
       "      <td>Top</td>\n",
       "      <td>Top</td>\n",
       "      <td>Top</td>\n",
       "      <td>Flop</td>\n",
       "      <td>Flop</td>\n",
       "      <td>Top</td>\n",
       "      <td>Top</td>\n",
       "      <td>Flop</td>\n",
       "      <td>Top</td>\n",
       "      <td>Top</td>\n",
       "    </tr>\n",
       "    <tr>\n",
       "      <th>...</th>\n",
       "      <td>...</td>\n",
       "      <td>...</td>\n",
       "      <td>...</td>\n",
       "      <td>...</td>\n",
       "      <td>...</td>\n",
       "      <td>...</td>\n",
       "      <td>...</td>\n",
       "      <td>...</td>\n",
       "      <td>...</td>\n",
       "      <td>...</td>\n",
       "      <td>...</td>\n",
       "      <td>...</td>\n",
       "    </tr>\n",
       "    <tr>\n",
       "      <th>Bicakcic</th>\n",
       "      <td>Flop</td>\n",
       "      <td>Flop</td>\n",
       "      <td>Top</td>\n",
       "      <td>Flop</td>\n",
       "      <td>Flop</td>\n",
       "      <td>Top</td>\n",
       "      <td>Flop</td>\n",
       "      <td>Flop</td>\n",
       "      <td>Top</td>\n",
       "      <td>Top</td>\n",
       "      <td>Flop</td>\n",
       "      <td>Flop</td>\n",
       "    </tr>\n",
       "    <tr>\n",
       "      <th>Gebre</th>\n",
       "      <td>Flop</td>\n",
       "      <td>Flop</td>\n",
       "      <td>Top</td>\n",
       "      <td>Top</td>\n",
       "      <td>Top</td>\n",
       "      <td>Top</td>\n",
       "      <td>Flop</td>\n",
       "      <td>Flop</td>\n",
       "      <td>Top</td>\n",
       "      <td>Top</td>\n",
       "      <td>Top</td>\n",
       "      <td>Flop</td>\n",
       "    </tr>\n",
       "    <tr>\n",
       "      <th>Garcia</th>\n",
       "      <td>Flop</td>\n",
       "      <td>Flop</td>\n",
       "      <td>Top</td>\n",
       "      <td>Flop</td>\n",
       "      <td>Top</td>\n",
       "      <td>Top</td>\n",
       "      <td>Flop</td>\n",
       "      <td>Flop</td>\n",
       "      <td>Flop</td>\n",
       "      <td>Top</td>\n",
       "      <td>Top</td>\n",
       "      <td>Flop</td>\n",
       "    </tr>\n",
       "    <tr>\n",
       "      <th>Olkowski</th>\n",
       "      <td>Flop</td>\n",
       "      <td>Flop</td>\n",
       "      <td>Top</td>\n",
       "      <td>Flop</td>\n",
       "      <td>Flop</td>\n",
       "      <td>Flop</td>\n",
       "      <td>Flop</td>\n",
       "      <td>Flop</td>\n",
       "      <td>Flop</td>\n",
       "      <td>Top</td>\n",
       "      <td>Top</td>\n",
       "      <td>Flop</td>\n",
       "    </tr>\n",
       "    <tr>\n",
       "      <th>Bussmann</th>\n",
       "      <td>Flop</td>\n",
       "      <td>Flop</td>\n",
       "      <td>Top</td>\n",
       "      <td>Flop</td>\n",
       "      <td>Flop</td>\n",
       "      <td>Flop</td>\n",
       "      <td>Top</td>\n",
       "      <td>Flop</td>\n",
       "      <td>Flop</td>\n",
       "      <td>Top</td>\n",
       "      <td>Top</td>\n",
       "      <td>Flop</td>\n",
       "    </tr>\n",
       "  </tbody>\n",
       "</table>\n",
       "<p>288 rows × 12 columns</p>\n",
       "</div>"
      ],
      "text/plain": [
       "            value valuemax  age goals assists yellow   red shotspergame  \\\n",
       "name                                                                      \n",
       "Lewandowski   Top      Top  Top   Top     Top    Top  Flop          Top   \n",
       "Aubameyang    Top      Top  Top   Top     Top    Top  Flop          Top   \n",
       "Mueller       Top      Top  Top   Top     Top   Flop  Flop          Top   \n",
       "Reus          Top      Top  Top   Top     Top   Flop   Top          Top   \n",
       "Costa         Top      Top  Top   Top     Top   Flop  Flop          Top   \n",
       "...           ...      ...  ...   ...     ...    ...   ...          ...   \n",
       "Bicakcic     Flop     Flop  Top  Flop    Flop    Top  Flop         Flop   \n",
       "Gebre        Flop     Flop  Top   Top     Top    Top  Flop         Flop   \n",
       "Garcia       Flop     Flop  Top  Flop     Top    Top  Flop         Flop   \n",
       "Olkowski     Flop     Flop  Top  Flop    Flop   Flop  Flop         Flop   \n",
       "Bussmann     Flop     Flop  Top  Flop    Flop   Flop   Top         Flop   \n",
       "\n",
       "            passsuccess aerialswon rating positioncode  \n",
       "name                                                    \n",
       "Lewandowski        Flop        Top    Top          Top  \n",
       "Aubameyang         Flop       Flop    Top          Top  \n",
       "Mueller             Top        Top    Top          Top  \n",
       "Reus               Flop       Flop    Top          Top  \n",
       "Costa               Top       Flop    Top          Top  \n",
       "...                 ...        ...    ...          ...  \n",
       "Bicakcic            Top        Top   Flop         Flop  \n",
       "Gebre               Top        Top    Top         Flop  \n",
       "Garcia             Flop        Top    Top         Flop  \n",
       "Olkowski           Flop        Top    Top         Flop  \n",
       "Bussmann           Flop        Top    Top         Flop  \n",
       "\n",
       "[288 rows x 12 columns]"
      ]
     },
     "execution_count": 92,
     "metadata": {},
     "output_type": "execute_result"
    }
   ],
   "source": [
    "df_num.apply(top_or_flop)"
   ]
  },
  {
   "cell_type": "markdown",
   "metadata": {
    "slideshow": {
     "slide_type": "subslide"
    }
   },
   "source": [
    "Importantly, changes to dataframes using **apply** or **applymap** are not implemented *in place*, i.e. you need to overwrite the dataframe or store the result of the operation in a new dataframe in order to make the changes effective."
   ]
  },
  {
   "cell_type": "markdown",
   "metadata": {
    "slideshow": {
     "slide_type": "subslide"
    }
   },
   "source": [
    "Finally, as mentioned above, we can use **idxmax()** on the whole dataframe **df_num**, since it contains only numbers:"
   ]
  },
  {
   "cell_type": "code",
   "execution_count": 93,
   "metadata": {},
   "outputs": [
    {
     "data": {
      "text/plain": [
       "value           Lewandowski\n",
       "valuemax        Lewandowski\n",
       "age                 Pizarro\n",
       "goals           Lewandowski\n",
       "assists            Forsberg\n",
       "yellow            Mascarell\n",
       "red                  Gbamin\n",
       "shotspergame    Lewandowski\n",
       "passsuccess            Vogt\n",
       "aerialswon           Caiuby\n",
       "rating               Thiago\n",
       "positioncode    Lewandowski\n",
       "dtype: object"
      ]
     },
     "execution_count": 93,
     "metadata": {},
     "output_type": "execute_result"
    }
   ],
   "source": [
    "df_num.idxmax()"
   ]
  },
  {
   "cell_type": "markdown",
   "metadata": {
    "slideshow": {
     "slide_type": "subslide"
    }
   },
   "source": [
    "#### The \"SettingwithCopyWarning\" warning\n",
    "\n",
    "In the function **top_or_flop** above, we have used the **copy** method to create a copy of a series. One reason for working with copies of Pandas Series and DataFrames is the same as in the case of other Python arrays: when giving a different name to the array (\"aliasing\"), it still refers to the same object, and hence changing one variable also changes the other."
   ]
  },
  {
   "cell_type": "code",
   "execution_count": 94,
   "metadata": {},
   "outputs": [
    {
     "data": {
      "text/html": [
       "<div>\n",
       "<style scoped>\n",
       "    .dataframe tbody tr th:only-of-type {\n",
       "        vertical-align: middle;\n",
       "    }\n",
       "\n",
       "    .dataframe tbody tr th {\n",
       "        vertical-align: top;\n",
       "    }\n",
       "\n",
       "    .dataframe thead th {\n",
       "        text-align: right;\n",
       "    }\n",
       "</style>\n",
       "<table border=\"1\" class=\"dataframe\">\n",
       "  <thead>\n",
       "    <tr style=\"text-align: right;\">\n",
       "      <th></th>\n",
       "      <th>first_name</th>\n",
       "      <th>position</th>\n",
       "      <th>value</th>\n",
       "      <th>valuemax</th>\n",
       "      <th>age</th>\n",
       "      <th>goals</th>\n",
       "      <th>assists</th>\n",
       "      <th>yellow</th>\n",
       "      <th>red</th>\n",
       "      <th>shotspergame</th>\n",
       "      <th>passsuccess</th>\n",
       "      <th>aerialswon</th>\n",
       "      <th>rating</th>\n",
       "      <th>positioncode</th>\n",
       "    </tr>\n",
       "    <tr>\n",
       "      <th>name</th>\n",
       "      <th></th>\n",
       "      <th></th>\n",
       "      <th></th>\n",
       "      <th></th>\n",
       "      <th></th>\n",
       "      <th></th>\n",
       "      <th></th>\n",
       "      <th></th>\n",
       "      <th></th>\n",
       "      <th></th>\n",
       "      <th></th>\n",
       "      <th></th>\n",
       "      <th></th>\n",
       "      <th></th>\n",
       "    </tr>\n",
       "  </thead>\n",
       "  <tbody>\n",
       "    <tr>\n",
       "      <th>Lewandowski</th>\n",
       "      <td>Robert</td>\n",
       "      <td>striker</td>\n",
       "      <td>80.0</td>\n",
       "      <td>80.0</td>\n",
       "      <td>28</td>\n",
       "      <td>30</td>\n",
       "      <td>4</td>\n",
       "      <td>5</td>\n",
       "      <td>0</td>\n",
       "      <td>4.2</td>\n",
       "      <td>75.0</td>\n",
       "      <td>1.8</td>\n",
       "      <td>7.71</td>\n",
       "      <td>3</td>\n",
       "    </tr>\n",
       "    <tr>\n",
       "      <th>Aubameyang</th>\n",
       "      <td>Pierre-Emerick</td>\n",
       "      <td>striker</td>\n",
       "      <td>100.0</td>\n",
       "      <td>65.0</td>\n",
       "      <td>27</td>\n",
       "      <td>29</td>\n",
       "      <td>2</td>\n",
       "      <td>3</td>\n",
       "      <td>0</td>\n",
       "      <td>3.6</td>\n",
       "      <td>70.3</td>\n",
       "      <td>1.3</td>\n",
       "      <td>7.40</td>\n",
       "      <td>3</td>\n",
       "    </tr>\n",
       "    <tr>\n",
       "      <th>Mueller</th>\n",
       "      <td>Thomas</td>\n",
       "      <td>striker</td>\n",
       "      <td>60.0</td>\n",
       "      <td>75.0</td>\n",
       "      <td>27</td>\n",
       "      <td>5</td>\n",
       "      <td>12</td>\n",
       "      <td>0</td>\n",
       "      <td>0</td>\n",
       "      <td>2.2</td>\n",
       "      <td>76.2</td>\n",
       "      <td>1.8</td>\n",
       "      <td>7.30</td>\n",
       "      <td>3</td>\n",
       "    </tr>\n",
       "    <tr>\n",
       "      <th>Reus</th>\n",
       "      <td>Marco</td>\n",
       "      <td>striker</td>\n",
       "      <td>40.0</td>\n",
       "      <td>50.0</td>\n",
       "      <td>27</td>\n",
       "      <td>5</td>\n",
       "      <td>4</td>\n",
       "      <td>1</td>\n",
       "      <td>1</td>\n",
       "      <td>2.3</td>\n",
       "      <td>74.6</td>\n",
       "      <td>0.4</td>\n",
       "      <td>7.03</td>\n",
       "      <td>3</td>\n",
       "    </tr>\n",
       "    <tr>\n",
       "      <th>Costa</th>\n",
       "      <td>Douglas</td>\n",
       "      <td>striker</td>\n",
       "      <td>30.0</td>\n",
       "      <td>35.0</td>\n",
       "      <td>26</td>\n",
       "      <td>4</td>\n",
       "      <td>3</td>\n",
       "      <td>2</td>\n",
       "      <td>0</td>\n",
       "      <td>1.9</td>\n",
       "      <td>80.2</td>\n",
       "      <td>0.1</td>\n",
       "      <td>7.17</td>\n",
       "      <td>3</td>\n",
       "    </tr>\n",
       "  </tbody>\n",
       "</table>\n",
       "</div>"
      ],
      "text/plain": [
       "                 first_name position  value  valuemax  age  goals  assists  \\\n",
       "name                                                                         \n",
       "Lewandowski          Robert  striker   80.0      80.0   28     30        4   \n",
       "Aubameyang   Pierre-Emerick  striker  100.0      65.0   27     29        2   \n",
       "Mueller              Thomas  striker   60.0      75.0   27      5       12   \n",
       "Reus                  Marco  striker   40.0      50.0   27      5        4   \n",
       "Costa               Douglas  striker   30.0      35.0   26      4        3   \n",
       "\n",
       "             yellow  red  shotspergame  passsuccess  aerialswon  rating  \\\n",
       "name                                                                      \n",
       "Lewandowski       5    0           4.2         75.0         1.8    7.71   \n",
       "Aubameyang        3    0           3.6         70.3         1.3    7.40   \n",
       "Mueller           0    0           2.2         76.2         1.8    7.30   \n",
       "Reus              1    1           2.3         74.6         0.4    7.03   \n",
       "Costa             2    0           1.9         80.2         0.1    7.17   \n",
       "\n",
       "             positioncode  \n",
       "name                       \n",
       "Lewandowski             3  \n",
       "Aubameyang              3  \n",
       "Mueller                 3  \n",
       "Reus                    3  \n",
       "Costa                   3  "
      ]
     },
     "execution_count": 94,
     "metadata": {},
     "output_type": "execute_result"
    }
   ],
   "source": [
    "df2 = df\n",
    "df2.loc['Aubameyang', 'value'] = 100\n",
    "df.head()"
   ]
  },
  {
   "cell_type": "markdown",
   "metadata": {
    "slideshow": {
     "slide_type": "subslide"
    }
   },
   "source": [
    "In the case of Pandas arrays, there is another issue, which occurs when working with subsets of a Series or DataFrame. As an example, define a new DataFrame **df_best** that contains only players with a rating of at least 7:"
   ]
  },
  {
   "cell_type": "code",
   "execution_count": 95,
   "metadata": {
    "slideshow": {
     "slide_type": "-"
    }
   },
   "outputs": [],
   "source": [
    "df_best = df.loc[df['rating'] >= 7]"
   ]
  },
  {
   "cell_type": "code",
   "execution_count": 96,
   "metadata": {
    "slideshow": {
     "slide_type": "subslide"
    }
   },
   "outputs": [
    {
     "data": {
      "text/html": [
       "<div>\n",
       "<style scoped>\n",
       "    .dataframe tbody tr th:only-of-type {\n",
       "        vertical-align: middle;\n",
       "    }\n",
       "\n",
       "    .dataframe tbody tr th {\n",
       "        vertical-align: top;\n",
       "    }\n",
       "\n",
       "    .dataframe thead th {\n",
       "        text-align: right;\n",
       "    }\n",
       "</style>\n",
       "<table border=\"1\" class=\"dataframe\">\n",
       "  <thead>\n",
       "    <tr style=\"text-align: right;\">\n",
       "      <th></th>\n",
       "      <th>first_name</th>\n",
       "      <th>position</th>\n",
       "      <th>value</th>\n",
       "      <th>valuemax</th>\n",
       "      <th>age</th>\n",
       "      <th>goals</th>\n",
       "      <th>assists</th>\n",
       "      <th>yellow</th>\n",
       "      <th>red</th>\n",
       "      <th>shotspergame</th>\n",
       "      <th>passsuccess</th>\n",
       "      <th>aerialswon</th>\n",
       "      <th>rating</th>\n",
       "      <th>positioncode</th>\n",
       "    </tr>\n",
       "    <tr>\n",
       "      <th>name</th>\n",
       "      <th></th>\n",
       "      <th></th>\n",
       "      <th></th>\n",
       "      <th></th>\n",
       "      <th></th>\n",
       "      <th></th>\n",
       "      <th></th>\n",
       "      <th></th>\n",
       "      <th></th>\n",
       "      <th></th>\n",
       "      <th></th>\n",
       "      <th></th>\n",
       "      <th></th>\n",
       "      <th></th>\n",
       "    </tr>\n",
       "  </thead>\n",
       "  <tbody>\n",
       "    <tr>\n",
       "      <th>Lewandowski</th>\n",
       "      <td>Robert</td>\n",
       "      <td>striker</td>\n",
       "      <td>80.0</td>\n",
       "      <td>80.0</td>\n",
       "      <td>28</td>\n",
       "      <td>30</td>\n",
       "      <td>4</td>\n",
       "      <td>5</td>\n",
       "      <td>0</td>\n",
       "      <td>4.2</td>\n",
       "      <td>75.0</td>\n",
       "      <td>1.8</td>\n",
       "      <td>7.71</td>\n",
       "      <td>3</td>\n",
       "    </tr>\n",
       "    <tr>\n",
       "      <th>Aubameyang</th>\n",
       "      <td>Pierre-Emerick</td>\n",
       "      <td>striker</td>\n",
       "      <td>100.0</td>\n",
       "      <td>65.0</td>\n",
       "      <td>27</td>\n",
       "      <td>29</td>\n",
       "      <td>2</td>\n",
       "      <td>3</td>\n",
       "      <td>0</td>\n",
       "      <td>3.6</td>\n",
       "      <td>70.3</td>\n",
       "      <td>1.3</td>\n",
       "      <td>7.40</td>\n",
       "      <td>3</td>\n",
       "    </tr>\n",
       "    <tr>\n",
       "      <th>Mueller</th>\n",
       "      <td>Thomas</td>\n",
       "      <td>striker</td>\n",
       "      <td>60.0</td>\n",
       "      <td>75.0</td>\n",
       "      <td>27</td>\n",
       "      <td>5</td>\n",
       "      <td>12</td>\n",
       "      <td>0</td>\n",
       "      <td>0</td>\n",
       "      <td>2.2</td>\n",
       "      <td>76.2</td>\n",
       "      <td>1.8</td>\n",
       "      <td>7.30</td>\n",
       "      <td>3</td>\n",
       "    </tr>\n",
       "    <tr>\n",
       "      <th>Reus</th>\n",
       "      <td>Marco</td>\n",
       "      <td>striker</td>\n",
       "      <td>40.0</td>\n",
       "      <td>50.0</td>\n",
       "      <td>27</td>\n",
       "      <td>5</td>\n",
       "      <td>4</td>\n",
       "      <td>1</td>\n",
       "      <td>1</td>\n",
       "      <td>2.3</td>\n",
       "      <td>74.6</td>\n",
       "      <td>0.4</td>\n",
       "      <td>7.03</td>\n",
       "      <td>3</td>\n",
       "    </tr>\n",
       "    <tr>\n",
       "      <th>Costa</th>\n",
       "      <td>Douglas</td>\n",
       "      <td>striker</td>\n",
       "      <td>30.0</td>\n",
       "      <td>35.0</td>\n",
       "      <td>26</td>\n",
       "      <td>4</td>\n",
       "      <td>3</td>\n",
       "      <td>2</td>\n",
       "      <td>0</td>\n",
       "      <td>1.9</td>\n",
       "      <td>80.2</td>\n",
       "      <td>0.1</td>\n",
       "      <td>7.17</td>\n",
       "      <td>3</td>\n",
       "    </tr>\n",
       "  </tbody>\n",
       "</table>\n",
       "</div>"
      ],
      "text/plain": [
       "                 first_name position  value  valuemax  age  goals  assists  \\\n",
       "name                                                                         \n",
       "Lewandowski          Robert  striker   80.0      80.0   28     30        4   \n",
       "Aubameyang   Pierre-Emerick  striker  100.0      65.0   27     29        2   \n",
       "Mueller              Thomas  striker   60.0      75.0   27      5       12   \n",
       "Reus                  Marco  striker   40.0      50.0   27      5        4   \n",
       "Costa               Douglas  striker   30.0      35.0   26      4        3   \n",
       "\n",
       "             yellow  red  shotspergame  passsuccess  aerialswon  rating  \\\n",
       "name                                                                      \n",
       "Lewandowski       5    0           4.2         75.0         1.8    7.71   \n",
       "Aubameyang        3    0           3.6         70.3         1.3    7.40   \n",
       "Mueller           0    0           2.2         76.2         1.8    7.30   \n",
       "Reus              1    1           2.3         74.6         0.4    7.03   \n",
       "Costa             2    0           1.9         80.2         0.1    7.17   \n",
       "\n",
       "             positioncode  \n",
       "name                       \n",
       "Lewandowski             3  \n",
       "Aubameyang              3  \n",
       "Mueller                 3  \n",
       "Reus                    3  \n",
       "Costa                   3  "
      ]
     },
     "execution_count": 96,
     "metadata": {},
     "output_type": "execute_result"
    }
   ],
   "source": [
    "df_best.head()"
   ]
  },
  {
   "cell_type": "markdown",
   "metadata": {
    "slideshow": {
     "slide_type": "subslide"
    }
   },
   "source": [
    "Arguably, Robert Lewandowski deserves an even higher rating, so let's assign him a higher rating:"
   ]
  },
  {
   "cell_type": "code",
   "execution_count": 97,
   "metadata": {
    "slideshow": {
     "slide_type": "-"
    }
   },
   "outputs": [
    {
     "name": "stderr",
     "output_type": "stream",
     "text": [
      "C:\\Users\\Schmitt\\Continuum\\anaconda3\\envs\\cme\\lib\\site-packages\\pandas\\core\\indexing.py:494: SettingWithCopyWarning: \n",
      "A value is trying to be set on a copy of a slice from a DataFrame.\n",
      "Try using .loc[row_indexer,col_indexer] = value instead\n",
      "\n",
      "See the caveats in the documentation: http://pandas.pydata.org/pandas-docs/stable/user_guide/indexing.html#returning-a-view-versus-a-copy\n",
      "  self.obj[item] = s\n"
     ]
    }
   ],
   "source": [
    "df_best.loc['Lewandowski', 'rating'] = 8.0"
   ]
  },
  {
   "cell_type": "markdown",
   "metadata": {
    "slideshow": {
     "slide_type": "subslide"
    }
   },
   "source": [
    "As a result, you get the quite common \"SettingWithCopyWarning\". Despite this, the operation actually works:"
   ]
  },
  {
   "cell_type": "code",
   "execution_count": 98,
   "metadata": {
    "slideshow": {
     "slide_type": "-"
    }
   },
   "outputs": [
    {
     "data": {
      "text/html": [
       "<div>\n",
       "<style scoped>\n",
       "    .dataframe tbody tr th:only-of-type {\n",
       "        vertical-align: middle;\n",
       "    }\n",
       "\n",
       "    .dataframe tbody tr th {\n",
       "        vertical-align: top;\n",
       "    }\n",
       "\n",
       "    .dataframe thead th {\n",
       "        text-align: right;\n",
       "    }\n",
       "</style>\n",
       "<table border=\"1\" class=\"dataframe\">\n",
       "  <thead>\n",
       "    <tr style=\"text-align: right;\">\n",
       "      <th></th>\n",
       "      <th>first_name</th>\n",
       "      <th>position</th>\n",
       "      <th>value</th>\n",
       "      <th>valuemax</th>\n",
       "      <th>age</th>\n",
       "      <th>goals</th>\n",
       "      <th>assists</th>\n",
       "      <th>yellow</th>\n",
       "      <th>red</th>\n",
       "      <th>shotspergame</th>\n",
       "      <th>passsuccess</th>\n",
       "      <th>aerialswon</th>\n",
       "      <th>rating</th>\n",
       "      <th>positioncode</th>\n",
       "    </tr>\n",
       "    <tr>\n",
       "      <th>name</th>\n",
       "      <th></th>\n",
       "      <th></th>\n",
       "      <th></th>\n",
       "      <th></th>\n",
       "      <th></th>\n",
       "      <th></th>\n",
       "      <th></th>\n",
       "      <th></th>\n",
       "      <th></th>\n",
       "      <th></th>\n",
       "      <th></th>\n",
       "      <th></th>\n",
       "      <th></th>\n",
       "      <th></th>\n",
       "    </tr>\n",
       "  </thead>\n",
       "  <tbody>\n",
       "    <tr>\n",
       "      <th>Lewandowski</th>\n",
       "      <td>Robert</td>\n",
       "      <td>striker</td>\n",
       "      <td>80.0</td>\n",
       "      <td>80.0</td>\n",
       "      <td>28</td>\n",
       "      <td>30</td>\n",
       "      <td>4</td>\n",
       "      <td>5</td>\n",
       "      <td>0</td>\n",
       "      <td>4.2</td>\n",
       "      <td>75.0</td>\n",
       "      <td>1.8</td>\n",
       "      <td>8.00</td>\n",
       "      <td>3</td>\n",
       "    </tr>\n",
       "    <tr>\n",
       "      <th>Aubameyang</th>\n",
       "      <td>Pierre-Emerick</td>\n",
       "      <td>striker</td>\n",
       "      <td>100.0</td>\n",
       "      <td>65.0</td>\n",
       "      <td>27</td>\n",
       "      <td>29</td>\n",
       "      <td>2</td>\n",
       "      <td>3</td>\n",
       "      <td>0</td>\n",
       "      <td>3.6</td>\n",
       "      <td>70.3</td>\n",
       "      <td>1.3</td>\n",
       "      <td>7.40</td>\n",
       "      <td>3</td>\n",
       "    </tr>\n",
       "    <tr>\n",
       "      <th>Mueller</th>\n",
       "      <td>Thomas</td>\n",
       "      <td>striker</td>\n",
       "      <td>60.0</td>\n",
       "      <td>75.0</td>\n",
       "      <td>27</td>\n",
       "      <td>5</td>\n",
       "      <td>12</td>\n",
       "      <td>0</td>\n",
       "      <td>0</td>\n",
       "      <td>2.2</td>\n",
       "      <td>76.2</td>\n",
       "      <td>1.8</td>\n",
       "      <td>7.30</td>\n",
       "      <td>3</td>\n",
       "    </tr>\n",
       "    <tr>\n",
       "      <th>Reus</th>\n",
       "      <td>Marco</td>\n",
       "      <td>striker</td>\n",
       "      <td>40.0</td>\n",
       "      <td>50.0</td>\n",
       "      <td>27</td>\n",
       "      <td>5</td>\n",
       "      <td>4</td>\n",
       "      <td>1</td>\n",
       "      <td>1</td>\n",
       "      <td>2.3</td>\n",
       "      <td>74.6</td>\n",
       "      <td>0.4</td>\n",
       "      <td>7.03</td>\n",
       "      <td>3</td>\n",
       "    </tr>\n",
       "    <tr>\n",
       "      <th>Costa</th>\n",
       "      <td>Douglas</td>\n",
       "      <td>striker</td>\n",
       "      <td>30.0</td>\n",
       "      <td>35.0</td>\n",
       "      <td>26</td>\n",
       "      <td>4</td>\n",
       "      <td>3</td>\n",
       "      <td>2</td>\n",
       "      <td>0</td>\n",
       "      <td>1.9</td>\n",
       "      <td>80.2</td>\n",
       "      <td>0.1</td>\n",
       "      <td>7.17</td>\n",
       "      <td>3</td>\n",
       "    </tr>\n",
       "  </tbody>\n",
       "</table>\n",
       "</div>"
      ],
      "text/plain": [
       "                 first_name position  value  valuemax  age  goals  assists  \\\n",
       "name                                                                         \n",
       "Lewandowski          Robert  striker   80.0      80.0   28     30        4   \n",
       "Aubameyang   Pierre-Emerick  striker  100.0      65.0   27     29        2   \n",
       "Mueller              Thomas  striker   60.0      75.0   27      5       12   \n",
       "Reus                  Marco  striker   40.0      50.0   27      5        4   \n",
       "Costa               Douglas  striker   30.0      35.0   26      4        3   \n",
       "\n",
       "             yellow  red  shotspergame  passsuccess  aerialswon  rating  \\\n",
       "name                                                                      \n",
       "Lewandowski       5    0           4.2         75.0         1.8    8.00   \n",
       "Aubameyang        3    0           3.6         70.3         1.3    7.40   \n",
       "Mueller           0    0           2.2         76.2         1.8    7.30   \n",
       "Reus              1    1           2.3         74.6         0.4    7.03   \n",
       "Costa             2    0           1.9         80.2         0.1    7.17   \n",
       "\n",
       "             positioncode  \n",
       "name                       \n",
       "Lewandowski             3  \n",
       "Aubameyang              3  \n",
       "Mueller                 3  \n",
       "Reus                    3  \n",
       "Costa                   3  "
      ]
     },
     "execution_count": 98,
     "metadata": {},
     "output_type": "execute_result"
    }
   ],
   "source": [
    "df_best.head()"
   ]
  },
  {
   "cell_type": "markdown",
   "metadata": {
    "slideshow": {
     "slide_type": "subslide"
    }
   },
   "source": [
    "What is the issue here? The problem is that when you define **df_best** above, there is the possibility that **df_best** could contain all of the data as **df** (it does not here though!). This means that if you make a change to **df_best**, you may also modify the original DataFrame **df**. That's why Pandas gives you a warning here.\n",
    "\n",
    "However, note that this warning just appears the first time you run the code. "
   ]
  },
  {
   "cell_type": "markdown",
   "metadata": {
    "slideshow": {
     "slide_type": "subslide"
    }
   },
   "source": [
    "If you are sure that your new variable (here **df_best**) does not refer to the original DataFrame, you can ignore the warning. If not, define **df_best** as a copy to prevent the warning in the first place: "
   ]
  },
  {
   "cell_type": "code",
   "execution_count": 99,
   "metadata": {
    "slideshow": {
     "slide_type": "-"
    }
   },
   "outputs": [],
   "source": [
    "df_best2 = df.loc[df['rating'] >= 7].copy()\n",
    "df_best2.loc['Lewandowski', 'rating'] = 8.0"
   ]
  },
  {
   "cell_type": "markdown",
   "metadata": {
    "slideshow": {
     "slide_type": "skip"
    }
   },
   "source": [
    "Compare https://www.dataquest.io/blog/settingwithcopywarning/ for more background."
   ]
  },
  {
   "cell_type": "markdown",
   "metadata": {
    "slideshow": {
     "slide_type": "subslide"
    }
   },
   "source": [
    "#### Other Useful Methods\n",
    "\n",
    "##### drop\n",
    "\n",
    "As the name indicates, you can use the **drop** method with a row index as to delete the corresponding row:"
   ]
  },
  {
   "cell_type": "code",
   "execution_count": 100,
   "metadata": {
    "slideshow": {
     "slide_type": "subslide"
    }
   },
   "outputs": [
    {
     "data": {
      "text/html": [
       "<div>\n",
       "<style scoped>\n",
       "    .dataframe tbody tr th:only-of-type {\n",
       "        vertical-align: middle;\n",
       "    }\n",
       "\n",
       "    .dataframe tbody tr th {\n",
       "        vertical-align: top;\n",
       "    }\n",
       "\n",
       "    .dataframe thead th {\n",
       "        text-align: right;\n",
       "    }\n",
       "</style>\n",
       "<table border=\"1\" class=\"dataframe\">\n",
       "  <thead>\n",
       "    <tr style=\"text-align: right;\">\n",
       "      <th></th>\n",
       "      <th>first_name</th>\n",
       "      <th>position</th>\n",
       "      <th>value</th>\n",
       "      <th>valuemax</th>\n",
       "      <th>age</th>\n",
       "      <th>goals</th>\n",
       "      <th>assists</th>\n",
       "      <th>yellow</th>\n",
       "      <th>red</th>\n",
       "      <th>shotspergame</th>\n",
       "      <th>passsuccess</th>\n",
       "      <th>aerialswon</th>\n",
       "      <th>rating</th>\n",
       "      <th>positioncode</th>\n",
       "    </tr>\n",
       "    <tr>\n",
       "      <th>name</th>\n",
       "      <th></th>\n",
       "      <th></th>\n",
       "      <th></th>\n",
       "      <th></th>\n",
       "      <th></th>\n",
       "      <th></th>\n",
       "      <th></th>\n",
       "      <th></th>\n",
       "      <th></th>\n",
       "      <th></th>\n",
       "      <th></th>\n",
       "      <th></th>\n",
       "      <th></th>\n",
       "      <th></th>\n",
       "    </tr>\n",
       "  </thead>\n",
       "  <tbody>\n",
       "    <tr>\n",
       "      <th>Aubameyang</th>\n",
       "      <td>Pierre-Emerick</td>\n",
       "      <td>striker</td>\n",
       "      <td>100.0</td>\n",
       "      <td>65.0</td>\n",
       "      <td>27</td>\n",
       "      <td>29</td>\n",
       "      <td>2</td>\n",
       "      <td>3</td>\n",
       "      <td>0</td>\n",
       "      <td>3.6</td>\n",
       "      <td>70.3</td>\n",
       "      <td>1.3</td>\n",
       "      <td>7.40</td>\n",
       "      <td>3</td>\n",
       "    </tr>\n",
       "    <tr>\n",
       "      <th>Mueller</th>\n",
       "      <td>Thomas</td>\n",
       "      <td>striker</td>\n",
       "      <td>60.0</td>\n",
       "      <td>75.0</td>\n",
       "      <td>27</td>\n",
       "      <td>5</td>\n",
       "      <td>12</td>\n",
       "      <td>0</td>\n",
       "      <td>0</td>\n",
       "      <td>2.2</td>\n",
       "      <td>76.2</td>\n",
       "      <td>1.8</td>\n",
       "      <td>7.30</td>\n",
       "      <td>3</td>\n",
       "    </tr>\n",
       "    <tr>\n",
       "      <th>Reus</th>\n",
       "      <td>Marco</td>\n",
       "      <td>striker</td>\n",
       "      <td>40.0</td>\n",
       "      <td>50.0</td>\n",
       "      <td>27</td>\n",
       "      <td>5</td>\n",
       "      <td>4</td>\n",
       "      <td>1</td>\n",
       "      <td>1</td>\n",
       "      <td>2.3</td>\n",
       "      <td>74.6</td>\n",
       "      <td>0.4</td>\n",
       "      <td>7.03</td>\n",
       "      <td>3</td>\n",
       "    </tr>\n",
       "    <tr>\n",
       "      <th>Costa</th>\n",
       "      <td>Douglas</td>\n",
       "      <td>striker</td>\n",
       "      <td>30.0</td>\n",
       "      <td>35.0</td>\n",
       "      <td>26</td>\n",
       "      <td>4</td>\n",
       "      <td>3</td>\n",
       "      <td>2</td>\n",
       "      <td>0</td>\n",
       "      <td>1.9</td>\n",
       "      <td>80.2</td>\n",
       "      <td>0.1</td>\n",
       "      <td>7.17</td>\n",
       "      <td>3</td>\n",
       "    </tr>\n",
       "    <tr>\n",
       "      <th>Dembele</th>\n",
       "      <td>Ousmane</td>\n",
       "      <td>striker</td>\n",
       "      <td>28.0</td>\n",
       "      <td>28.0</td>\n",
       "      <td>20</td>\n",
       "      <td>6</td>\n",
       "      <td>11</td>\n",
       "      <td>6</td>\n",
       "      <td>0</td>\n",
       "      <td>1.6</td>\n",
       "      <td>66.8</td>\n",
       "      <td>0.2</td>\n",
       "      <td>7.41</td>\n",
       "      <td>3</td>\n",
       "    </tr>\n",
       "  </tbody>\n",
       "</table>\n",
       "</div>"
      ],
      "text/plain": [
       "                first_name position  value  valuemax  age  goals  assists  \\\n",
       "name                                                                        \n",
       "Aubameyang  Pierre-Emerick  striker  100.0      65.0   27     29        2   \n",
       "Mueller             Thomas  striker   60.0      75.0   27      5       12   \n",
       "Reus                 Marco  striker   40.0      50.0   27      5        4   \n",
       "Costa              Douglas  striker   30.0      35.0   26      4        3   \n",
       "Dembele            Ousmane  striker   28.0      28.0   20      6       11   \n",
       "\n",
       "            yellow  red  shotspergame  passsuccess  aerialswon  rating  \\\n",
       "name                                                                     \n",
       "Aubameyang       3    0           3.6         70.3         1.3    7.40   \n",
       "Mueller          0    0           2.2         76.2         1.8    7.30   \n",
       "Reus             1    1           2.3         74.6         0.4    7.03   \n",
       "Costa            2    0           1.9         80.2         0.1    7.17   \n",
       "Dembele          6    0           1.6         66.8         0.2    7.41   \n",
       "\n",
       "            positioncode  \n",
       "name                      \n",
       "Aubameyang             3  \n",
       "Mueller                3  \n",
       "Reus                   3  \n",
       "Costa                  3  \n",
       "Dembele                3  "
      ]
     },
     "execution_count": 100,
     "metadata": {},
     "output_type": "execute_result"
    }
   ],
   "source": [
    "df.drop('Lewandowski').head()"
   ]
  },
  {
   "cell_type": "markdown",
   "metadata": {
    "slideshow": {
     "slide_type": "subslide"
    }
   },
   "source": [
    "You can also use **drop** to erase a column; in this case you need to set the axis argument to 1:"
   ]
  },
  {
   "cell_type": "code",
   "execution_count": 101,
   "metadata": {},
   "outputs": [
    {
     "data": {
      "text/html": [
       "<div>\n",
       "<style scoped>\n",
       "    .dataframe tbody tr th:only-of-type {\n",
       "        vertical-align: middle;\n",
       "    }\n",
       "\n",
       "    .dataframe tbody tr th {\n",
       "        vertical-align: top;\n",
       "    }\n",
       "\n",
       "    .dataframe thead th {\n",
       "        text-align: right;\n",
       "    }\n",
       "</style>\n",
       "<table border=\"1\" class=\"dataframe\">\n",
       "  <thead>\n",
       "    <tr style=\"text-align: right;\">\n",
       "      <th></th>\n",
       "      <th>first_name</th>\n",
       "      <th>position</th>\n",
       "      <th>value</th>\n",
       "      <th>valuemax</th>\n",
       "      <th>age</th>\n",
       "      <th>goals</th>\n",
       "      <th>assists</th>\n",
       "      <th>yellow</th>\n",
       "      <th>shotspergame</th>\n",
       "      <th>passsuccess</th>\n",
       "      <th>aerialswon</th>\n",
       "      <th>rating</th>\n",
       "      <th>positioncode</th>\n",
       "    </tr>\n",
       "    <tr>\n",
       "      <th>name</th>\n",
       "      <th></th>\n",
       "      <th></th>\n",
       "      <th></th>\n",
       "      <th></th>\n",
       "      <th></th>\n",
       "      <th></th>\n",
       "      <th></th>\n",
       "      <th></th>\n",
       "      <th></th>\n",
       "      <th></th>\n",
       "      <th></th>\n",
       "      <th></th>\n",
       "      <th></th>\n",
       "    </tr>\n",
       "  </thead>\n",
       "  <tbody>\n",
       "    <tr>\n",
       "      <th>Lewandowski</th>\n",
       "      <td>Robert</td>\n",
       "      <td>striker</td>\n",
       "      <td>80.0</td>\n",
       "      <td>80.0</td>\n",
       "      <td>28</td>\n",
       "      <td>30</td>\n",
       "      <td>4</td>\n",
       "      <td>5</td>\n",
       "      <td>4.2</td>\n",
       "      <td>75.0</td>\n",
       "      <td>1.8</td>\n",
       "      <td>7.71</td>\n",
       "      <td>3</td>\n",
       "    </tr>\n",
       "    <tr>\n",
       "      <th>Aubameyang</th>\n",
       "      <td>Pierre-Emerick</td>\n",
       "      <td>striker</td>\n",
       "      <td>100.0</td>\n",
       "      <td>65.0</td>\n",
       "      <td>27</td>\n",
       "      <td>29</td>\n",
       "      <td>2</td>\n",
       "      <td>3</td>\n",
       "      <td>3.6</td>\n",
       "      <td>70.3</td>\n",
       "      <td>1.3</td>\n",
       "      <td>7.40</td>\n",
       "      <td>3</td>\n",
       "    </tr>\n",
       "    <tr>\n",
       "      <th>Mueller</th>\n",
       "      <td>Thomas</td>\n",
       "      <td>striker</td>\n",
       "      <td>60.0</td>\n",
       "      <td>75.0</td>\n",
       "      <td>27</td>\n",
       "      <td>5</td>\n",
       "      <td>12</td>\n",
       "      <td>0</td>\n",
       "      <td>2.2</td>\n",
       "      <td>76.2</td>\n",
       "      <td>1.8</td>\n",
       "      <td>7.30</td>\n",
       "      <td>3</td>\n",
       "    </tr>\n",
       "    <tr>\n",
       "      <th>Reus</th>\n",
       "      <td>Marco</td>\n",
       "      <td>striker</td>\n",
       "      <td>40.0</td>\n",
       "      <td>50.0</td>\n",
       "      <td>27</td>\n",
       "      <td>5</td>\n",
       "      <td>4</td>\n",
       "      <td>1</td>\n",
       "      <td>2.3</td>\n",
       "      <td>74.6</td>\n",
       "      <td>0.4</td>\n",
       "      <td>7.03</td>\n",
       "      <td>3</td>\n",
       "    </tr>\n",
       "    <tr>\n",
       "      <th>Costa</th>\n",
       "      <td>Douglas</td>\n",
       "      <td>striker</td>\n",
       "      <td>30.0</td>\n",
       "      <td>35.0</td>\n",
       "      <td>26</td>\n",
       "      <td>4</td>\n",
       "      <td>3</td>\n",
       "      <td>2</td>\n",
       "      <td>1.9</td>\n",
       "      <td>80.2</td>\n",
       "      <td>0.1</td>\n",
       "      <td>7.17</td>\n",
       "      <td>3</td>\n",
       "    </tr>\n",
       "  </tbody>\n",
       "</table>\n",
       "</div>"
      ],
      "text/plain": [
       "                 first_name position  value  valuemax  age  goals  assists  \\\n",
       "name                                                                         \n",
       "Lewandowski          Robert  striker   80.0      80.0   28     30        4   \n",
       "Aubameyang   Pierre-Emerick  striker  100.0      65.0   27     29        2   \n",
       "Mueller              Thomas  striker   60.0      75.0   27      5       12   \n",
       "Reus                  Marco  striker   40.0      50.0   27      5        4   \n",
       "Costa               Douglas  striker   30.0      35.0   26      4        3   \n",
       "\n",
       "             yellow  shotspergame  passsuccess  aerialswon  rating  \\\n",
       "name                                                                 \n",
       "Lewandowski       5           4.2         75.0         1.8    7.71   \n",
       "Aubameyang        3           3.6         70.3         1.3    7.40   \n",
       "Mueller           0           2.2         76.2         1.8    7.30   \n",
       "Reus              1           2.3         74.6         0.4    7.03   \n",
       "Costa             2           1.9         80.2         0.1    7.17   \n",
       "\n",
       "             positioncode  \n",
       "name                       \n",
       "Lewandowski             3  \n",
       "Aubameyang              3  \n",
       "Mueller                 3  \n",
       "Reus                    3  \n",
       "Costa                   3  "
      ]
     },
     "execution_count": 101,
     "metadata": {},
     "output_type": "execute_result"
    }
   ],
   "source": [
    "df.drop('red', axis = 1).head()"
   ]
  },
  {
   "cell_type": "markdown",
   "metadata": {
    "slideshow": {
     "slide_type": "subslide"
    }
   },
   "source": [
    "Note from these examples that the changes to **df** are not saved. As before, you need to set **inplace = True** in order to make the effects of using **drop()** permanent:"
   ]
  },
  {
   "cell_type": "code",
   "execution_count": 102,
   "metadata": {},
   "outputs": [
    {
     "data": {
      "text/html": [
       "<div>\n",
       "<style scoped>\n",
       "    .dataframe tbody tr th:only-of-type {\n",
       "        vertical-align: middle;\n",
       "    }\n",
       "\n",
       "    .dataframe tbody tr th {\n",
       "        vertical-align: top;\n",
       "    }\n",
       "\n",
       "    .dataframe thead th {\n",
       "        text-align: right;\n",
       "    }\n",
       "</style>\n",
       "<table border=\"1\" class=\"dataframe\">\n",
       "  <thead>\n",
       "    <tr style=\"text-align: right;\">\n",
       "      <th></th>\n",
       "      <th>first_name</th>\n",
       "      <th>value</th>\n",
       "      <th>valuemax</th>\n",
       "      <th>age</th>\n",
       "      <th>goals</th>\n",
       "      <th>assists</th>\n",
       "      <th>yellow</th>\n",
       "      <th>red</th>\n",
       "      <th>shotspergame</th>\n",
       "      <th>passsuccess</th>\n",
       "      <th>aerialswon</th>\n",
       "      <th>rating</th>\n",
       "      <th>positioncode</th>\n",
       "    </tr>\n",
       "    <tr>\n",
       "      <th>name</th>\n",
       "      <th></th>\n",
       "      <th></th>\n",
       "      <th></th>\n",
       "      <th></th>\n",
       "      <th></th>\n",
       "      <th></th>\n",
       "      <th></th>\n",
       "      <th></th>\n",
       "      <th></th>\n",
       "      <th></th>\n",
       "      <th></th>\n",
       "      <th></th>\n",
       "      <th></th>\n",
       "    </tr>\n",
       "  </thead>\n",
       "  <tbody>\n",
       "    <tr>\n",
       "      <th>Lewandowski</th>\n",
       "      <td>Robert</td>\n",
       "      <td>80.0</td>\n",
       "      <td>80.0</td>\n",
       "      <td>28</td>\n",
       "      <td>30</td>\n",
       "      <td>4</td>\n",
       "      <td>5</td>\n",
       "      <td>0</td>\n",
       "      <td>4.2</td>\n",
       "      <td>75.0</td>\n",
       "      <td>1.8</td>\n",
       "      <td>7.71</td>\n",
       "      <td>3</td>\n",
       "    </tr>\n",
       "    <tr>\n",
       "      <th>Aubameyang</th>\n",
       "      <td>Pierre-Emerick</td>\n",
       "      <td>100.0</td>\n",
       "      <td>65.0</td>\n",
       "      <td>27</td>\n",
       "      <td>29</td>\n",
       "      <td>2</td>\n",
       "      <td>3</td>\n",
       "      <td>0</td>\n",
       "      <td>3.6</td>\n",
       "      <td>70.3</td>\n",
       "      <td>1.3</td>\n",
       "      <td>7.40</td>\n",
       "      <td>3</td>\n",
       "    </tr>\n",
       "    <tr>\n",
       "      <th>Mueller</th>\n",
       "      <td>Thomas</td>\n",
       "      <td>60.0</td>\n",
       "      <td>75.0</td>\n",
       "      <td>27</td>\n",
       "      <td>5</td>\n",
       "      <td>12</td>\n",
       "      <td>0</td>\n",
       "      <td>0</td>\n",
       "      <td>2.2</td>\n",
       "      <td>76.2</td>\n",
       "      <td>1.8</td>\n",
       "      <td>7.30</td>\n",
       "      <td>3</td>\n",
       "    </tr>\n",
       "    <tr>\n",
       "      <th>Reus</th>\n",
       "      <td>Marco</td>\n",
       "      <td>40.0</td>\n",
       "      <td>50.0</td>\n",
       "      <td>27</td>\n",
       "      <td>5</td>\n",
       "      <td>4</td>\n",
       "      <td>1</td>\n",
       "      <td>1</td>\n",
       "      <td>2.3</td>\n",
       "      <td>74.6</td>\n",
       "      <td>0.4</td>\n",
       "      <td>7.03</td>\n",
       "      <td>3</td>\n",
       "    </tr>\n",
       "    <tr>\n",
       "      <th>Costa</th>\n",
       "      <td>Douglas</td>\n",
       "      <td>30.0</td>\n",
       "      <td>35.0</td>\n",
       "      <td>26</td>\n",
       "      <td>4</td>\n",
       "      <td>3</td>\n",
       "      <td>2</td>\n",
       "      <td>0</td>\n",
       "      <td>1.9</td>\n",
       "      <td>80.2</td>\n",
       "      <td>0.1</td>\n",
       "      <td>7.17</td>\n",
       "      <td>3</td>\n",
       "    </tr>\n",
       "  </tbody>\n",
       "</table>\n",
       "</div>"
      ],
      "text/plain": [
       "                 first_name  value  valuemax  age  goals  assists  yellow  \\\n",
       "name                                                                        \n",
       "Lewandowski          Robert   80.0      80.0   28     30        4       5   \n",
       "Aubameyang   Pierre-Emerick  100.0      65.0   27     29        2       3   \n",
       "Mueller              Thomas   60.0      75.0   27      5       12       0   \n",
       "Reus                  Marco   40.0      50.0   27      5        4       1   \n",
       "Costa               Douglas   30.0      35.0   26      4        3       2   \n",
       "\n",
       "             red  shotspergame  passsuccess  aerialswon  rating  positioncode  \n",
       "name                                                                           \n",
       "Lewandowski    0           4.2         75.0         1.8    7.71             3  \n",
       "Aubameyang     0           3.6         70.3         1.3    7.40             3  \n",
       "Mueller        0           2.2         76.2         1.8    7.30             3  \n",
       "Reus           1           2.3         74.6         0.4    7.03             3  \n",
       "Costa          0           1.9         80.2         0.1    7.17             3  "
      ]
     },
     "execution_count": 102,
     "metadata": {},
     "output_type": "execute_result"
    }
   ],
   "source": [
    "df.drop('position', axis = 1, inplace = True)\n",
    "df.head()"
   ]
  },
  {
   "cell_type": "markdown",
   "metadata": {
    "slideshow": {
     "slide_type": "subslide"
    }
   },
   "source": [
    "##### Sorting\n",
    "\n",
    "**sort_index()** sorts the dataframes using its row indices; in our example, the row indices are strings, hence the rows are sorted alphabeticaly: "
   ]
  },
  {
   "cell_type": "code",
   "execution_count": 103,
   "metadata": {
    "slideshow": {
     "slide_type": "-"
    }
   },
   "outputs": [
    {
     "data": {
      "text/html": [
       "<div>\n",
       "<style scoped>\n",
       "    .dataframe tbody tr th:only-of-type {\n",
       "        vertical-align: middle;\n",
       "    }\n",
       "\n",
       "    .dataframe tbody tr th {\n",
       "        vertical-align: top;\n",
       "    }\n",
       "\n",
       "    .dataframe thead th {\n",
       "        text-align: right;\n",
       "    }\n",
       "</style>\n",
       "<table border=\"1\" class=\"dataframe\">\n",
       "  <thead>\n",
       "    <tr style=\"text-align: right;\">\n",
       "      <th></th>\n",
       "      <th>first_name</th>\n",
       "      <th>value</th>\n",
       "      <th>valuemax</th>\n",
       "      <th>age</th>\n",
       "      <th>goals</th>\n",
       "      <th>assists</th>\n",
       "      <th>yellow</th>\n",
       "      <th>red</th>\n",
       "      <th>shotspergame</th>\n",
       "      <th>passsuccess</th>\n",
       "      <th>aerialswon</th>\n",
       "      <th>rating</th>\n",
       "      <th>positioncode</th>\n",
       "    </tr>\n",
       "    <tr>\n",
       "      <th>name</th>\n",
       "      <th></th>\n",
       "      <th></th>\n",
       "      <th></th>\n",
       "      <th></th>\n",
       "      <th></th>\n",
       "      <th></th>\n",
       "      <th></th>\n",
       "      <th></th>\n",
       "      <th></th>\n",
       "      <th></th>\n",
       "      <th></th>\n",
       "      <th></th>\n",
       "      <th></th>\n",
       "    </tr>\n",
       "  </thead>\n",
       "  <tbody>\n",
       "    <tr>\n",
       "      <th>Abraham</th>\n",
       "      <td>David</td>\n",
       "      <td>4.0</td>\n",
       "      <td>4.0</td>\n",
       "      <td>30</td>\n",
       "      <td>1</td>\n",
       "      <td>2</td>\n",
       "      <td>5</td>\n",
       "      <td>1</td>\n",
       "      <td>0.5</td>\n",
       "      <td>83.0</td>\n",
       "      <td>2.9</td>\n",
       "      <td>7.07</td>\n",
       "      <td>1</td>\n",
       "    </tr>\n",
       "    <tr>\n",
       "      <th>Abrashi</th>\n",
       "      <td>Amir</td>\n",
       "      <td>2.5</td>\n",
       "      <td>2.5</td>\n",
       "      <td>27</td>\n",
       "      <td>1</td>\n",
       "      <td>0</td>\n",
       "      <td>3</td>\n",
       "      <td>0</td>\n",
       "      <td>0.5</td>\n",
       "      <td>77.0</td>\n",
       "      <td>1.6</td>\n",
       "      <td>6.60</td>\n",
       "      <td>2</td>\n",
       "    </tr>\n",
       "    <tr>\n",
       "      <th>Alaba</th>\n",
       "      <td>David</td>\n",
       "      <td>40.0</td>\n",
       "      <td>45.0</td>\n",
       "      <td>24</td>\n",
       "      <td>4</td>\n",
       "      <td>4</td>\n",
       "      <td>1</td>\n",
       "      <td>0</td>\n",
       "      <td>1.0</td>\n",
       "      <td>88.3</td>\n",
       "      <td>0.7</td>\n",
       "      <td>7.15</td>\n",
       "      <td>1</td>\n",
       "    </tr>\n",
       "    <tr>\n",
       "      <th>Alonso</th>\n",
       "      <td>Xabi</td>\n",
       "      <td>3.5</td>\n",
       "      <td>35.0</td>\n",
       "      <td>35</td>\n",
       "      <td>3</td>\n",
       "      <td>1</td>\n",
       "      <td>6</td>\n",
       "      <td>0</td>\n",
       "      <td>0.9</td>\n",
       "      <td>89.3</td>\n",
       "      <td>1.6</td>\n",
       "      <td>7.20</td>\n",
       "      <td>2</td>\n",
       "    </tr>\n",
       "    <tr>\n",
       "      <th>Amiri</th>\n",
       "      <td>Nadiem</td>\n",
       "      <td>7.0</td>\n",
       "      <td>7.0</td>\n",
       "      <td>20</td>\n",
       "      <td>2</td>\n",
       "      <td>4</td>\n",
       "      <td>2</td>\n",
       "      <td>0</td>\n",
       "      <td>1.4</td>\n",
       "      <td>83.6</td>\n",
       "      <td>0.3</td>\n",
       "      <td>6.74</td>\n",
       "      <td>2</td>\n",
       "    </tr>\n",
       "  </tbody>\n",
       "</table>\n",
       "</div>"
      ],
      "text/plain": [
       "        first_name  value  valuemax  age  goals  assists  yellow  red  \\\n",
       "name                                                                    \n",
       "Abraham      David    4.0       4.0   30      1        2       5    1   \n",
       "Abrashi       Amir    2.5       2.5   27      1        0       3    0   \n",
       "Alaba        David   40.0      45.0   24      4        4       1    0   \n",
       "Alonso        Xabi    3.5      35.0   35      3        1       6    0   \n",
       "Amiri       Nadiem    7.0       7.0   20      2        4       2    0   \n",
       "\n",
       "         shotspergame  passsuccess  aerialswon  rating  positioncode  \n",
       "name                                                                  \n",
       "Abraham           0.5         83.0         2.9    7.07             1  \n",
       "Abrashi           0.5         77.0         1.6    6.60             2  \n",
       "Alaba             1.0         88.3         0.7    7.15             1  \n",
       "Alonso            0.9         89.3         1.6    7.20             2  \n",
       "Amiri             1.4         83.6         0.3    6.74             2  "
      ]
     },
     "execution_count": 103,
     "metadata": {},
     "output_type": "execute_result"
    }
   ],
   "source": [
    "df.sort_index(inplace = True)\n",
    "df.head()"
   ]
  },
  {
   "cell_type": "markdown",
   "metadata": {
    "slideshow": {
     "slide_type": "subslide"
    }
   },
   "source": [
    "If you want to sort the dataframe according to the values in a column, use **sort_values()**, with the column key as the arguement. As before, set **inplace = True** to save the change:"
   ]
  },
  {
   "cell_type": "code",
   "execution_count": 104,
   "metadata": {
    "slideshow": {
     "slide_type": "-"
    }
   },
   "outputs": [
    {
     "data": {
      "text/html": [
       "<div>\n",
       "<style scoped>\n",
       "    .dataframe tbody tr th:only-of-type {\n",
       "        vertical-align: middle;\n",
       "    }\n",
       "\n",
       "    .dataframe tbody tr th {\n",
       "        vertical-align: top;\n",
       "    }\n",
       "\n",
       "    .dataframe thead th {\n",
       "        text-align: right;\n",
       "    }\n",
       "</style>\n",
       "<table border=\"1\" class=\"dataframe\">\n",
       "  <thead>\n",
       "    <tr style=\"text-align: right;\">\n",
       "      <th></th>\n",
       "      <th>first_name</th>\n",
       "      <th>value</th>\n",
       "      <th>valuemax</th>\n",
       "      <th>age</th>\n",
       "      <th>goals</th>\n",
       "      <th>assists</th>\n",
       "      <th>yellow</th>\n",
       "      <th>red</th>\n",
       "      <th>shotspergame</th>\n",
       "      <th>passsuccess</th>\n",
       "      <th>aerialswon</th>\n",
       "      <th>rating</th>\n",
       "      <th>positioncode</th>\n",
       "    </tr>\n",
       "    <tr>\n",
       "      <th>name</th>\n",
       "      <th></th>\n",
       "      <th></th>\n",
       "      <th></th>\n",
       "      <th></th>\n",
       "      <th></th>\n",
       "      <th></th>\n",
       "      <th></th>\n",
       "      <th></th>\n",
       "      <th></th>\n",
       "      <th></th>\n",
       "      <th></th>\n",
       "      <th></th>\n",
       "      <th></th>\n",
       "    </tr>\n",
       "  </thead>\n",
       "  <tbody>\n",
       "    <tr>\n",
       "      <th>Havertz</th>\n",
       "      <td>Kai</td>\n",
       "      <td>5.0</td>\n",
       "      <td>5.0</td>\n",
       "      <td>17</td>\n",
       "      <td>2</td>\n",
       "      <td>5</td>\n",
       "      <td>2</td>\n",
       "      <td>0</td>\n",
       "      <td>1.2</td>\n",
       "      <td>72.9</td>\n",
       "      <td>3.6</td>\n",
       "      <td>6.86</td>\n",
       "      <td>2</td>\n",
       "    </tr>\n",
       "    <tr>\n",
       "      <th>Osimhen</th>\n",
       "      <td>Victor</td>\n",
       "      <td>1.0</td>\n",
       "      <td>1.0</td>\n",
       "      <td>18</td>\n",
       "      <td>0</td>\n",
       "      <td>0</td>\n",
       "      <td>1</td>\n",
       "      <td>0</td>\n",
       "      <td>1.0</td>\n",
       "      <td>72.7</td>\n",
       "      <td>1.0</td>\n",
       "      <td>6.26</td>\n",
       "      <td>3</td>\n",
       "    </tr>\n",
       "    <tr>\n",
       "      <th>Passlack</th>\n",
       "      <td>Felix</td>\n",
       "      <td>3.0</td>\n",
       "      <td>3.0</td>\n",
       "      <td>18</td>\n",
       "      <td>0</td>\n",
       "      <td>0</td>\n",
       "      <td>1</td>\n",
       "      <td>0</td>\n",
       "      <td>0.3</td>\n",
       "      <td>89.6</td>\n",
       "      <td>0.4</td>\n",
       "      <td>6.62</td>\n",
       "      <td>1</td>\n",
       "    </tr>\n",
       "    <tr>\n",
       "      <th>Pulisic</th>\n",
       "      <td>Christian</td>\n",
       "      <td>12.0</td>\n",
       "      <td>12.0</td>\n",
       "      <td>18</td>\n",
       "      <td>3</td>\n",
       "      <td>6</td>\n",
       "      <td>1</td>\n",
       "      <td>0</td>\n",
       "      <td>1.0</td>\n",
       "      <td>73.1</td>\n",
       "      <td>0.7</td>\n",
       "      <td>6.84</td>\n",
       "      <td>3</td>\n",
       "    </tr>\n",
       "    <tr>\n",
       "      <th>Upamecano</th>\n",
       "      <td>Dayot</td>\n",
       "      <td>5.0</td>\n",
       "      <td>5.0</td>\n",
       "      <td>18</td>\n",
       "      <td>0</td>\n",
       "      <td>0</td>\n",
       "      <td>3</td>\n",
       "      <td>0</td>\n",
       "      <td>0.1</td>\n",
       "      <td>77.3</td>\n",
       "      <td>2.8</td>\n",
       "      <td>6.78</td>\n",
       "      <td>1</td>\n",
       "    </tr>\n",
       "  </tbody>\n",
       "</table>\n",
       "</div>"
      ],
      "text/plain": [
       "          first_name  value  valuemax  age  goals  assists  yellow  red  \\\n",
       "name                                                                      \n",
       "Havertz          Kai    5.0       5.0   17      2        5       2    0   \n",
       "Osimhen       Victor    1.0       1.0   18      0        0       1    0   \n",
       "Passlack       Felix    3.0       3.0   18      0        0       1    0   \n",
       "Pulisic    Christian   12.0      12.0   18      3        6       1    0   \n",
       "Upamecano      Dayot    5.0       5.0   18      0        0       3    0   \n",
       "\n",
       "           shotspergame  passsuccess  aerialswon  rating  positioncode  \n",
       "name                                                                    \n",
       "Havertz             1.2         72.9         3.6    6.86             2  \n",
       "Osimhen             1.0         72.7         1.0    6.26             3  \n",
       "Passlack            0.3         89.6         0.4    6.62             1  \n",
       "Pulisic             1.0         73.1         0.7    6.84             3  \n",
       "Upamecano           0.1         77.3         2.8    6.78             1  "
      ]
     },
     "execution_count": 104,
     "metadata": {},
     "output_type": "execute_result"
    }
   ],
   "source": [
    "df.sort_values('age', inplace = True)\n",
    "df.head()"
   ]
  },
  {
   "cell_type": "markdown",
   "metadata": {
    "slideshow": {
     "slide_type": "subslide"
    }
   },
   "source": [
    "The default way of sorting is in ascending order; you can set the **ascending** argument to **False** in order to sort the dataframe in descending order:"
   ]
  },
  {
   "cell_type": "code",
   "execution_count": 105,
   "metadata": {
    "slideshow": {
     "slide_type": "-"
    }
   },
   "outputs": [
    {
     "data": {
      "text/html": [
       "<div>\n",
       "<style scoped>\n",
       "    .dataframe tbody tr th:only-of-type {\n",
       "        vertical-align: middle;\n",
       "    }\n",
       "\n",
       "    .dataframe tbody tr th {\n",
       "        vertical-align: top;\n",
       "    }\n",
       "\n",
       "    .dataframe thead th {\n",
       "        text-align: right;\n",
       "    }\n",
       "</style>\n",
       "<table border=\"1\" class=\"dataframe\">\n",
       "  <thead>\n",
       "    <tr style=\"text-align: right;\">\n",
       "      <th></th>\n",
       "      <th>first_name</th>\n",
       "      <th>value</th>\n",
       "      <th>valuemax</th>\n",
       "      <th>age</th>\n",
       "      <th>goals</th>\n",
       "      <th>assists</th>\n",
       "      <th>yellow</th>\n",
       "      <th>red</th>\n",
       "      <th>shotspergame</th>\n",
       "      <th>passsuccess</th>\n",
       "      <th>aerialswon</th>\n",
       "      <th>rating</th>\n",
       "      <th>positioncode</th>\n",
       "    </tr>\n",
       "    <tr>\n",
       "      <th>name</th>\n",
       "      <th></th>\n",
       "      <th></th>\n",
       "      <th></th>\n",
       "      <th></th>\n",
       "      <th></th>\n",
       "      <th></th>\n",
       "      <th></th>\n",
       "      <th></th>\n",
       "      <th></th>\n",
       "      <th></th>\n",
       "      <th></th>\n",
       "      <th></th>\n",
       "      <th></th>\n",
       "    </tr>\n",
       "  </thead>\n",
       "  <tbody>\n",
       "    <tr>\n",
       "      <th>Pizarro</th>\n",
       "      <td>Claudio</td>\n",
       "      <td>1.0</td>\n",
       "      <td>12.5</td>\n",
       "      <td>38</td>\n",
       "      <td>1</td>\n",
       "      <td>1</td>\n",
       "      <td>1</td>\n",
       "      <td>0</td>\n",
       "      <td>1.1</td>\n",
       "      <td>65.6</td>\n",
       "      <td>1.6</td>\n",
       "      <td>6.51</td>\n",
       "      <td>3</td>\n",
       "    </tr>\n",
       "    <tr>\n",
       "      <th>Alonso</th>\n",
       "      <td>Xabi</td>\n",
       "      <td>3.5</td>\n",
       "      <td>35.0</td>\n",
       "      <td>35</td>\n",
       "      <td>3</td>\n",
       "      <td>1</td>\n",
       "      <td>6</td>\n",
       "      <td>0</td>\n",
       "      <td>0.9</td>\n",
       "      <td>89.3</td>\n",
       "      <td>1.6</td>\n",
       "      <td>7.20</td>\n",
       "      <td>2</td>\n",
       "    </tr>\n",
       "    <tr>\n",
       "      <th>Ribery</th>\n",
       "      <td>Franck</td>\n",
       "      <td>8.0</td>\n",
       "      <td>50.0</td>\n",
       "      <td>34</td>\n",
       "      <td>4</td>\n",
       "      <td>11</td>\n",
       "      <td>2</td>\n",
       "      <td>0</td>\n",
       "      <td>1.0</td>\n",
       "      <td>83.7</td>\n",
       "      <td>0.4</td>\n",
       "      <td>7.39</td>\n",
       "      <td>2</td>\n",
       "    </tr>\n",
       "    <tr>\n",
       "      <th>Meier</th>\n",
       "      <td>Alexander</td>\n",
       "      <td>2.0</td>\n",
       "      <td>4.5</td>\n",
       "      <td>34</td>\n",
       "      <td>5</td>\n",
       "      <td>2</td>\n",
       "      <td>1</td>\n",
       "      <td>0</td>\n",
       "      <td>2.1</td>\n",
       "      <td>65.0</td>\n",
       "      <td>3.4</td>\n",
       "      <td>6.78</td>\n",
       "      <td>3</td>\n",
       "    </tr>\n",
       "    <tr>\n",
       "      <th>Naldo</th>\n",
       "      <td>None</td>\n",
       "      <td>2.5</td>\n",
       "      <td>12.5</td>\n",
       "      <td>34</td>\n",
       "      <td>1</td>\n",
       "      <td>0</td>\n",
       "      <td>1</td>\n",
       "      <td>1</td>\n",
       "      <td>1.4</td>\n",
       "      <td>85.1</td>\n",
       "      <td>3.4</td>\n",
       "      <td>7.25</td>\n",
       "      <td>1</td>\n",
       "    </tr>\n",
       "  </tbody>\n",
       "</table>\n",
       "</div>"
      ],
      "text/plain": [
       "        first_name  value  valuemax  age  goals  assists  yellow  red  \\\n",
       "name                                                                    \n",
       "Pizarro    Claudio    1.0      12.5   38      1        1       1    0   \n",
       "Alonso        Xabi    3.5      35.0   35      3        1       6    0   \n",
       "Ribery      Franck    8.0      50.0   34      4       11       2    0   \n",
       "Meier    Alexander    2.0       4.5   34      5        2       1    0   \n",
       "Naldo         None    2.5      12.5   34      1        0       1    1   \n",
       "\n",
       "         shotspergame  passsuccess  aerialswon  rating  positioncode  \n",
       "name                                                                  \n",
       "Pizarro           1.1         65.6         1.6    6.51             3  \n",
       "Alonso            0.9         89.3         1.6    7.20             2  \n",
       "Ribery            1.0         83.7         0.4    7.39             2  \n",
       "Meier             2.1         65.0         3.4    6.78             3  \n",
       "Naldo             1.4         85.1         3.4    7.25             1  "
      ]
     },
     "execution_count": 105,
     "metadata": {},
     "output_type": "execute_result"
    }
   ],
   "source": [
    "df.sort_values('age', ascending = False, inplace = True)\n",
    "df.head()"
   ]
  },
  {
   "cell_type": "markdown",
   "metadata": {
    "slideshow": {
     "slide_type": "subslide"
    }
   },
   "source": [
    "##### groupby\n",
    "\n",
    "Above, we were using logical expressions to find the top goal scorers for each position. An alternative way to get statistics for a subset of the data is the **groupby()** method. Below, we group the Bundesliga data according to the column **'positioncode'**:"
   ]
  },
  {
   "cell_type": "code",
   "execution_count": 106,
   "metadata": {
    "slideshow": {
     "slide_type": "subslide"
    }
   },
   "outputs": [
    {
     "name": "stdout",
     "output_type": "stream",
     "text": [
      "<class 'pandas.core.groupby.generic.DataFrameGroupBy'>\n"
     ]
    }
   ],
   "source": [
    "grouped_pos = df.groupby('positioncode')\n",
    "print(type(grouped_pos))"
   ]
  },
  {
   "cell_type": "markdown",
   "metadata": {
    "slideshow": {
     "slide_type": "subslide"
    }
   },
   "source": [
    "The resulting object is a special Pandas object; we can apply the same methods on it as for regular dataframes, e.g. **mean()**:"
   ]
  },
  {
   "cell_type": "code",
   "execution_count": 107,
   "metadata": {},
   "outputs": [
    {
     "data": {
      "text/html": [
       "<div>\n",
       "<style scoped>\n",
       "    .dataframe tbody tr th:only-of-type {\n",
       "        vertical-align: middle;\n",
       "    }\n",
       "\n",
       "    .dataframe tbody tr th {\n",
       "        vertical-align: top;\n",
       "    }\n",
       "\n",
       "    .dataframe thead th {\n",
       "        text-align: right;\n",
       "    }\n",
       "</style>\n",
       "<table border=\"1\" class=\"dataframe\">\n",
       "  <thead>\n",
       "    <tr style=\"text-align: right;\">\n",
       "      <th></th>\n",
       "      <th>value</th>\n",
       "      <th>valuemax</th>\n",
       "      <th>age</th>\n",
       "      <th>goals</th>\n",
       "      <th>assists</th>\n",
       "      <th>yellow</th>\n",
       "      <th>red</th>\n",
       "      <th>shotspergame</th>\n",
       "      <th>passsuccess</th>\n",
       "      <th>aerialswon</th>\n",
       "      <th>rating</th>\n",
       "    </tr>\n",
       "    <tr>\n",
       "      <th>positioncode</th>\n",
       "      <th></th>\n",
       "      <th></th>\n",
       "      <th></th>\n",
       "      <th></th>\n",
       "      <th></th>\n",
       "      <th></th>\n",
       "      <th></th>\n",
       "      <th></th>\n",
       "      <th></th>\n",
       "      <th></th>\n",
       "      <th></th>\n",
       "    </tr>\n",
       "  </thead>\n",
       "  <tbody>\n",
       "    <tr>\n",
       "      <th>1</th>\n",
       "      <td>8.123656</td>\n",
       "      <td>10.419355</td>\n",
       "      <td>25.440860</td>\n",
       "      <td>0.978495</td>\n",
       "      <td>1.118280</td>\n",
       "      <td>3.430108</td>\n",
       "      <td>0.107527</td>\n",
       "      <td>0.560215</td>\n",
       "      <td>78.470968</td>\n",
       "      <td>2.019355</td>\n",
       "      <td>6.907419</td>\n",
       "    </tr>\n",
       "    <tr>\n",
       "      <th>2</th>\n",
       "      <td>7.911616</td>\n",
       "      <td>10.322727</td>\n",
       "      <td>25.606061</td>\n",
       "      <td>2.030303</td>\n",
       "      <td>2.141414</td>\n",
       "      <td>3.313131</td>\n",
       "      <td>0.151515</td>\n",
       "      <td>0.938384</td>\n",
       "      <td>77.601010</td>\n",
       "      <td>1.195960</td>\n",
       "      <td>6.839596</td>\n",
       "    </tr>\n",
       "    <tr>\n",
       "      <th>3</th>\n",
       "      <td>8.781250</td>\n",
       "      <td>11.463542</td>\n",
       "      <td>25.614583</td>\n",
       "      <td>4.854167</td>\n",
       "      <td>2.333333</td>\n",
       "      <td>2.135417</td>\n",
       "      <td>0.145833</td>\n",
       "      <td>1.451042</td>\n",
       "      <td>68.986458</td>\n",
       "      <td>1.479167</td>\n",
       "      <td>6.703854</td>\n",
       "    </tr>\n",
       "  </tbody>\n",
       "</table>\n",
       "</div>"
      ],
      "text/plain": [
       "                 value   valuemax        age     goals   assists    yellow  \\\n",
       "positioncode                                                                 \n",
       "1             8.123656  10.419355  25.440860  0.978495  1.118280  3.430108   \n",
       "2             7.911616  10.322727  25.606061  2.030303  2.141414  3.313131   \n",
       "3             8.781250  11.463542  25.614583  4.854167  2.333333  2.135417   \n",
       "\n",
       "                   red  shotspergame  passsuccess  aerialswon    rating  \n",
       "positioncode                                                             \n",
       "1             0.107527      0.560215    78.470968    2.019355  6.907419  \n",
       "2             0.151515      0.938384    77.601010    1.195960  6.839596  \n",
       "3             0.145833      1.451042    68.986458    1.479167  6.703854  "
      ]
     },
     "execution_count": 107,
     "metadata": {},
     "output_type": "execute_result"
    }
   ],
   "source": [
    "grouped_pos.mean()"
   ]
  },
  {
   "cell_type": "markdown",
   "metadata": {
    "slideshow": {
     "slide_type": "subslide"
    }
   },
   "source": [
    "Hence, the method is applied on each of the (here three) subgroups, rather than on the whole data set. Similarly, we can use the **idxmax()** method on the groupby object to get the top goal scorers for each position:"
   ]
  },
  {
   "cell_type": "code",
   "execution_count": 108,
   "metadata": {},
   "outputs": [
    {
     "data": {
      "text/plain": [
       "positioncode\n",
       "1      Guerreiro\n",
       "2         Gnabry\n",
       "3    Lewandowski\n",
       "Name: goals, dtype: object"
      ]
     },
     "execution_count": 108,
     "metadata": {},
     "output_type": "execute_result"
    }
   ],
   "source": [
    "grouped_pos['goals'].idxmax()"
   ]
  },
  {
   "cell_type": "markdown",
   "metadata": {
    "slideshow": {
     "slide_type": "subslide"
    }
   },
   "source": [
    "##### isnull, any, all\n",
    "\n",
    "Recall that above we added a column **first_name** to the data set. Since some players only use one name, this field was left empty for those players. Printing such a field would give **None**:"
   ]
  },
  {
   "cell_type": "code",
   "execution_count": 109,
   "metadata": {},
   "outputs": [
    {
     "name": "stdout",
     "output_type": "stream",
     "text": [
      "None\n"
     ]
    }
   ],
   "source": [
    "print( df.loc['Naldo', 'first_name'] ) "
   ]
  },
  {
   "cell_type": "markdown",
   "metadata": {
    "slideshow": {
     "slide_type": "subslide"
    }
   },
   "source": [
    "This is an example of missing values in a Pandas series or dataframe. In this case, the missing values are intended, but often they are not. Pandas objects have a method called **isnull** that lets you check for missing data, returning a **True** whenever it detects a **None**. For example, applying **isnull** on the **first_name** column gives:"
   ]
  },
  {
   "cell_type": "code",
   "execution_count": 110,
   "metadata": {
    "slideshow": {
     "slide_type": "subslide"
    }
   },
   "outputs": [
    {
     "data": {
      "text/plain": [
       "name\n",
       "Pizarro      False\n",
       "Alonso       False\n",
       "Ribery       False\n",
       "Meier        False\n",
       "Naldo         True\n",
       "             ...  \n",
       "Pulisic      False\n",
       "Passlack     False\n",
       "Osimhen      False\n",
       "Upamecano    False\n",
       "Havertz      False\n",
       "Name: first_name, Length: 288, dtype: bool"
      ]
     },
     "execution_count": 110,
     "metadata": {},
     "output_type": "execute_result"
    }
   ],
   "source": [
    "df['first_name'].isnull()"
   ]
  },
  {
   "cell_type": "markdown",
   "metadata": {
    "slideshow": {
     "slide_type": "subslide"
    }
   },
   "source": [
    "**isnull** detects **None**, as well as the Python implementation of 'NaN' (\"not a number\"):"
   ]
  },
  {
   "cell_type": "code",
   "execution_count": 111,
   "metadata": {},
   "outputs": [
    {
     "name": "stdout",
     "output_type": "stream",
     "text": [
      "nan\n"
     ]
    },
    {
     "data": {
      "text/plain": [
       "first_name       True\n",
       "value           False\n",
       "valuemax        False\n",
       "age             False\n",
       "goals           False\n",
       "assists         False\n",
       "yellow          False\n",
       "red             False\n",
       "shotspergame    False\n",
       "passsuccess     False\n",
       "aerialswon      False\n",
       "rating          False\n",
       "positioncode    False\n",
       "Name: Naldo, dtype: bool"
      ]
     },
     "execution_count": 111,
     "metadata": {},
     "output_type": "execute_result"
    }
   ],
   "source": [
    "df.loc['Naldo', 'first_name'] = float('NaN')\n",
    "print( df.loc['Naldo', 'first_name'] )\n",
    "df.loc['Naldo'].isnull() "
   ]
  },
  {
   "cell_type": "markdown",
   "metadata": {
    "slideshow": {
     "slide_type": "subslide"
    }
   },
   "source": [
    "Note however that (somewhat obviously) 0 does not count as a missing value:"
   ]
  },
  {
   "cell_type": "code",
   "execution_count": 112,
   "metadata": {},
   "outputs": [
    {
     "name": "stdout",
     "output_type": "stream",
     "text": [
      "0\n"
     ]
    },
    {
     "data": {
      "text/plain": [
       "first_name      False\n",
       "value           False\n",
       "valuemax        False\n",
       "age             False\n",
       "goals           False\n",
       "assists         False\n",
       "yellow          False\n",
       "red             False\n",
       "shotspergame    False\n",
       "passsuccess     False\n",
       "aerialswon      False\n",
       "rating          False\n",
       "positioncode    False\n",
       "Name: Naldo, dtype: bool"
      ]
     },
     "execution_count": 112,
     "metadata": {},
     "output_type": "execute_result"
    }
   ],
   "source": [
    "df.loc['Naldo', 'first_name'] = 0\n",
    "print( df.loc['Naldo', 'first_name'] )\n",
    "df.loc['Naldo'].isnull() "
   ]
  },
  {
   "cell_type": "markdown",
   "metadata": {
    "slideshow": {
     "slide_type": "subslide"
    }
   },
   "source": [
    "As these examples show, **isnull** works element-wise, i.e. returns a series or dataframes (filled with booleans) of the same dimension as the series or dataframe you apply it on. You can combine **isnull** with the **any** method to check whether there are missing values in a Pandas object, without going through every element. \n",
    "\n",
    "**any()** used on a dataframe checks for each column whether it contains *any* booleans that evaluate to **True**, and assigns a **True** to this column if that is the case (and **False** otherwise). Below, we see that there are missing values only in the **first_name** column."
   ]
  },
  {
   "cell_type": "code",
   "execution_count": 113,
   "metadata": {
    "slideshow": {
     "slide_type": "subslide"
    }
   },
   "outputs": [
    {
     "data": {
      "text/plain": [
       "first_name       True\n",
       "value           False\n",
       "valuemax        False\n",
       "age             False\n",
       "goals           False\n",
       "assists         False\n",
       "yellow          False\n",
       "red             False\n",
       "shotspergame    False\n",
       "passsuccess     False\n",
       "aerialswon      False\n",
       "rating          False\n",
       "positioncode    False\n",
       "dtype: bool"
      ]
     },
     "execution_count": 113,
     "metadata": {},
     "output_type": "execute_result"
    }
   ],
   "source": [
    "df.isnull().any()"
   ]
  },
  {
   "cell_type": "markdown",
   "metadata": {
    "slideshow": {
     "slide_type": "subslide"
    }
   },
   "source": [
    "As with **mean()** and similar methods, you can apply **any** on rows, using the **axis = 1** argument:"
   ]
  },
  {
   "cell_type": "code",
   "execution_count": 114,
   "metadata": {
    "slideshow": {
     "slide_type": "-"
    }
   },
   "outputs": [
    {
     "data": {
      "text/plain": [
       "name\n",
       "Pizarro      False\n",
       "Alonso       False\n",
       "Ribery       False\n",
       "Meier        False\n",
       "Naldo        False\n",
       "             ...  \n",
       "Pulisic      False\n",
       "Passlack     False\n",
       "Osimhen      False\n",
       "Upamecano    False\n",
       "Havertz      False\n",
       "Length: 288, dtype: bool"
      ]
     },
     "execution_count": 114,
     "metadata": {},
     "output_type": "execute_result"
    }
   ],
   "source": [
    "df.isnull().any(axis = 1)"
   ]
  },
  {
   "cell_type": "markdown",
   "metadata": {
    "slideshow": {
     "slide_type": "subslide"
    }
   },
   "source": [
    "Since applying **any()** on a series returns a scalar **True** or **False**, applying **any()** twice on a dataframe indicates whether there is any missing data:"
   ]
  },
  {
   "cell_type": "code",
   "execution_count": 115,
   "metadata": {
    "slideshow": {
     "slide_type": "-"
    }
   },
   "outputs": [
    {
     "data": {
      "text/plain": [
       "True"
      ]
     },
     "execution_count": 115,
     "metadata": {},
     "output_type": "execute_result"
    }
   ],
   "source": [
    "df.isnull().any().any()"
   ]
  },
  {
   "cell_type": "markdown",
   "metadata": {
    "slideshow": {
     "slide_type": "subslide"
    }
   },
   "source": [
    "Finally, **all()** works similar to **any()**, but returns **True** if only *all* elements in a series or dataframe column evaluate to **True**:"
   ]
  },
  {
   "cell_type": "code",
   "execution_count": 116,
   "metadata": {
    "slideshow": {
     "slide_type": "-"
    }
   },
   "outputs": [
    {
     "data": {
      "text/plain": [
       "first_name      False\n",
       "value           False\n",
       "valuemax        False\n",
       "age             False\n",
       "goals           False\n",
       "assists         False\n",
       "yellow          False\n",
       "red             False\n",
       "shotspergame    False\n",
       "passsuccess     False\n",
       "aerialswon      False\n",
       "rating          False\n",
       "positioncode    False\n",
       "dtype: bool"
      ]
     },
     "execution_count": 116,
     "metadata": {},
     "output_type": "execute_result"
    }
   ],
   "source": [
    "df.isnull().all()"
   ]
  },
  {
   "cell_type": "markdown",
   "metadata": {
    "slideshow": {
     "slide_type": "subslide"
    }
   },
   "source": [
    "##### dropna\n",
    "\n",
    "Once we have discovered missing data in a Pandas array with **isnull**, the next question is how to deal with it.\n",
    "\n",
    "In the example here, missing values only show up in the **first_name** column, which is not relevant for any analysis. Hence, we can safely ignore the missing data."
   ]
  },
  {
   "cell_type": "markdown",
   "metadata": {
    "slideshow": {
     "slide_type": "subslide"
    }
   },
   "source": [
    "In other cases, the columns with missing data may contain important information. One way to proceed is to eliminate observations with missing values from the DataFrame by using the **dropna** method. "
   ]
  },
  {
   "cell_type": "code",
   "execution_count": 117,
   "metadata": {
    "slideshow": {
     "slide_type": "subslide"
    }
   },
   "outputs": [
    {
     "name": "stdout",
     "output_type": "stream",
     "text": [
      "None\n",
      "<class 'pandas.core.frame.DataFrame'>\n",
      "Index: 288 entries, Pizarro to Havertz\n",
      "Data columns (total 13 columns):\n",
      "first_name      276 non-null object\n",
      "value           288 non-null float64\n",
      "valuemax        288 non-null float64\n",
      "age             288 non-null int64\n",
      "goals           288 non-null int64\n",
      "assists         288 non-null int64\n",
      "yellow          288 non-null int64\n",
      "red             288 non-null int64\n",
      "shotspergame    288 non-null float64\n",
      "passsuccess     288 non-null float64\n",
      "aerialswon      288 non-null float64\n",
      "rating          288 non-null float64\n",
      "positioncode    288 non-null int64\n",
      "dtypes: float64(6), int64(6), object(1)\n",
      "memory usage: 41.5+ KB\n"
     ]
    }
   ],
   "source": [
    "df.loc['Naldo', 'first_name'] = None\n",
    "print( df.loc['Naldo', 'first_name'] )\n",
    "## there are 13 observations with missing first names\n",
    "df.info()"
   ]
  },
  {
   "cell_type": "code",
   "execution_count": 118,
   "metadata": {
    "slideshow": {
     "slide_type": "subslide"
    }
   },
   "outputs": [
    {
     "name": "stdout",
     "output_type": "stream",
     "text": [
      "<class 'pandas.core.frame.DataFrame'>\n",
      "Index: 276 entries, Pizarro to Havertz\n",
      "Data columns (total 13 columns):\n",
      "first_name      276 non-null object\n",
      "value           276 non-null float64\n",
      "valuemax        276 non-null float64\n",
      "age             276 non-null int64\n",
      "goals           276 non-null int64\n",
      "assists         276 non-null int64\n",
      "yellow          276 non-null int64\n",
      "red             276 non-null int64\n",
      "shotspergame    276 non-null float64\n",
      "passsuccess     276 non-null float64\n",
      "aerialswon      276 non-null float64\n",
      "rating          276 non-null float64\n",
      "positioncode    276 non-null int64\n",
      "dtypes: float64(6), int64(6), object(1)\n",
      "memory usage: 30.2+ KB\n"
     ]
    }
   ],
   "source": [
    "df_clean = df.dropna()\n",
    "df_clean.info()"
   ]
  },
  {
   "cell_type": "markdown",
   "metadata": {
    "slideshow": {
     "slide_type": "subslide"
    }
   },
   "source": [
    "Here, we define a new DataFrame **df_clean** from which all players with only a last name have been erased. Alternatively, we could have also modified the original DataFrame **df**, by using the **inplace** keyword:"
   ]
  },
  {
   "cell_type": "code",
   "execution_count": 119,
   "metadata": {
    "slideshow": {
     "slide_type": "-"
    }
   },
   "outputs": [],
   "source": [
    "# df.dropna(inplace == True)"
   ]
  },
  {
   "cell_type": "markdown",
   "metadata": {
    "slideshow": {
     "slide_type": "subslide"
    }
   },
   "source": [
    "An alternative to dropping observations with missing data is to assign a value to any missing data point, using the **fillna** method. For example, we can assign the value 0 to all players without a first name. "
   ]
  },
  {
   "cell_type": "code",
   "execution_count": 120,
   "metadata": {
    "slideshow": {
     "slide_type": "-"
    }
   },
   "outputs": [
    {
     "name": "stdout",
     "output_type": "stream",
     "text": [
      "first_name         0\n",
      "value             40\n",
      "valuemax          40\n",
      "age               26\n",
      "goals              6\n",
      "assists            5\n",
      "yellow             4\n",
      "red                0\n",
      "shotspergame     1.3\n",
      "passsuccess     90.2\n",
      "aerialswon       1.7\n",
      "rating          8.28\n",
      "positioncode       2\n",
      "Name: Thiago, dtype: object\n"
     ]
    }
   ],
   "source": [
    "df.fillna(0, inplace = True)\n",
    "print( df.loc['Thiago'] )"
   ]
  },
  {
   "cell_type": "markdown",
   "metadata": {
    "slideshow": {
     "slide_type": "subslide"
    }
   },
   "source": [
    "#### Plotting\n",
    "\n",
    "As with series, creating graphs is facilitated by Pandas' **plot** method. Let's plot the player's market value first; note that above, we have sorted the data set according to age, and hence the x-axis in the figure below starts with the oldest player ('Pizarro'):"
   ]
  },
  {
   "cell_type": "code",
   "execution_count": 121,
   "metadata": {
    "slideshow": {
     "slide_type": "subslide"
    }
   },
   "outputs": [
    {
     "data": {
      "text/plain": [
       "<matplotlib.axes._subplots.AxesSubplot at 0x1878d32a508>"
      ]
     },
     "execution_count": 121,
     "metadata": {},
     "output_type": "execute_result"
    },
    {
     "data": {
      "image/png": "[encoded data removed]",
      "text/plain": [
       "<Figure size 432x288 with 1 Axes>"
      ]
     },
     "metadata": {
      "needs_background": "light"
     },
     "output_type": "display_data"
    }
   ],
   "source": [
    "df.plot(y ='value')"
   ]
  },
  {
   "cell_type": "markdown",
   "metadata": {
    "slideshow": {
     "slide_type": "subslide"
    }
   },
   "source": [
    "Also note that only certain player indices are used for ticks on the x-axis; again, there are many ways to tweak the layout of these graphs. \n",
    "\n",
    "We can also plot two columns of the data set in one picture; for this, we first define **fig** and **ax** objects (like seen in the last lecture) and then add the two plots to the **ax** canvas:"
   ]
  },
  {
   "cell_type": "code",
   "execution_count": 122,
   "metadata": {
    "slideshow": {
     "slide_type": "-"
    }
   },
   "outputs": [
    {
     "data": {
      "text/plain": [
       "<matplotlib.axes._subplots.AxesSubplot at 0x1878d354a48>"
      ]
     },
     "execution_count": 122,
     "metadata": {},
     "output_type": "execute_result"
    },
    {
     "data": {
      "image/png": "[encoded data removed]",
      "text/plain": [
       "<Figure size 432x288 with 1 Axes>"
      ]
     },
     "metadata": {
      "needs_background": "light"
     },
     "output_type": "display_data"
    }
   ],
   "source": [
    "fig, ax = plt.subplots()\n",
    "df.plot(y ='value', ax = ax)\n",
    "df.plot(y ='goals', ax = ax)"
   ]
  },
  {
   "cell_type": "markdown",
   "metadata": {
    "slideshow": {
     "slide_type": "subslide"
    }
   },
   "source": [
    "If we want to create separate plots for subgroups, we can use **plot** directly on a **groupby** object:"
   ]
  },
  {
   "cell_type": "code",
   "execution_count": 123,
   "metadata": {},
   "outputs": [
    {
     "data": {
      "image/png": "[encoded data removed]",
      "text/plain": [
       "<Figure size 432x288 with 1 Axes>"
      ]
     },
     "metadata": {
      "needs_background": "light"
     },
     "output_type": "display_data"
    },
    {
     "data": {
      "image/png": "[encoded data removed]",
      "text/plain": [
       "<Figure size 432x288 with 1 Axes>"
      ]
     },
     "metadata": {
      "needs_background": "light"
     },
     "output_type": "display_data"
    },
    {
     "data": {
      "image/png": "[encoded data removed]",
      "text/plain": [
       "<Figure size 432x288 with 1 Axes>"
      ]
     },
     "metadata": {
      "needs_background": "light"
     },
     "output_type": "display_data"
    }
   ],
   "source": [
    "df.groupby('positioncode').plot(y ='value');"
   ]
  },
  {
   "cell_type": "markdown",
   "metadata": {
    "slideshow": {
     "slide_type": "subslide"
    }
   },
   "source": [
    "We can also create other types of plots. Say we are interested how age and number of goals affect a player's market value. As seen in the last lecture, a scatter plot is a nice way to visualize this:"
   ]
  },
  {
   "cell_type": "code",
   "execution_count": 124,
   "metadata": {
    "slideshow": {
     "slide_type": "subslide"
    }
   },
   "outputs": [
    {
     "data": {
      "text/plain": [
       "<matplotlib.axes._subplots.AxesSubplot at 0x1878e5188c8>"
      ]
     },
     "execution_count": 124,
     "metadata": {},
     "output_type": "execute_result"
    },
    {
     "data": {
      "image/png": "[encoded data removed]",
      "text/plain": [
       "<Figure size 432x288 with 2 Axes>"
      ]
     },
     "metadata": {
      "needs_background": "light"
     },
     "output_type": "display_data"
    }
   ],
   "source": [
    "df.plot('age', 'goals', kind='scatter', c = 'value', colormap = 'viridis')"
   ]
  },
  {
   "cell_type": "markdown",
   "metadata": {
    "slideshow": {
     "slide_type": "skip"
    }
   },
   "source": [
    "----------------------------------------------------------------------------------------------------------------------\n",
    "<a id = \"stats\"></a>"
   ]
  },
  {
   "cell_type": "markdown",
   "metadata": {
    "slideshow": {
     "slide_type": "subslide"
    }
   },
   "source": [
    "## Running Regressions: Statsmodels\n",
    "\n",
    "Pandas by itself does allow data analysis to the extent of descriptive statistics. For regressions analysis, you can combine it with another model, *statsmodel*. We use the following import statement: "
   ]
  },
  {
   "cell_type": "code",
   "execution_count": 125,
   "metadata": {
    "scrolled": true,
    "slideshow": {
     "slide_type": "-"
    }
   },
   "outputs": [],
   "source": [
    "import statsmodels.api as sm"
   ]
  },
  {
   "cell_type": "markdown",
   "metadata": {
    "slideshow": {
     "slide_type": "subslide"
    }
   },
   "source": [
    "This package has a class, **OLS**, which takes data on dependent and explanatory variables and then uses its **fit()** method to perform ordinary least squares regression. "
   ]
  },
  {
   "cell_type": "code",
   "execution_count": 126,
   "metadata": {
    "slideshow": {
     "slide_type": "subslide"
    }
   },
   "outputs": [
    {
     "name": "stdout",
     "output_type": "stream",
     "text": [
      "                            OLS Regression Results                            \n",
      "==============================================================================\n",
      "Dep. Variable:                  value   R-squared:                       0.218\n",
      "Model:                            OLS   Adj. R-squared:                  0.215\n",
      "Method:                 Least Squares   F-statistic:                     79.67\n",
      "Date:                Wed, 11 Dec 2019   Prob (F-statistic):           5.46e-17\n",
      "Time:                        13:07:03   Log-Likelihood:                -1055.5\n",
      "No. Observations:                 288   AIC:                             2115.\n",
      "Df Residuals:                     286   BIC:                             2122.\n",
      "Df Model:                           1                                         \n",
      "Covariance Type:            nonrobust                                         \n",
      "==============================================================================\n",
      "                 coef    std err          t      P>|t|      [0.025      0.975]\n",
      "------------------------------------------------------------------------------\n",
      "const          5.0105      0.667      7.507      0.000       3.697       6.324\n",
      "goals          1.2384      0.139      8.926      0.000       0.965       1.511\n",
      "==============================================================================\n",
      "Omnibus:                      169.342   Durbin-Watson:                   1.813\n",
      "Prob(Omnibus):                  0.000   Jarque-Bera (JB):             1231.776\n",
      "Skew:                           2.357   Prob(JB):                    3.34e-268\n",
      "Kurtosis:                      11.968   Cond. No.                         5.82\n",
      "==============================================================================\n",
      "\n",
      "Warnings:\n",
      "[1] Standard Errors assume that the covariance matrix of the errors is correctly specified.\n"
     ]
    },
    {
     "name": "stderr",
     "output_type": "stream",
     "text": [
      "C:\\Users\\Schmitt\\Continuum\\anaconda3\\envs\\cme\\lib\\site-packages\\numpy\\core\\fromnumeric.py:2495: FutureWarning: Method .ptp is deprecated and will be removed in a future version. Use numpy.ptp instead.\n",
      "  return ptp(axis=axis, out=out, **kwargs)\n"
     ]
    }
   ],
   "source": [
    "## define regression matrix\n",
    "X = df['goals']\n",
    "y = df['value']\n",
    "\n",
    "## add constant\n",
    "X = sm.add_constant(X)\n",
    "## OLS \n",
    "res = sm.OLS(y, X).fit()\n",
    "print(res.summary())"
   ]
  },
  {
   "cell_type": "markdown",
   "metadata": {
    "slideshow": {
     "slide_type": "subslide"
    }
   },
   "source": [
    "There is a second way of using the statsmodel module for running regressions, which is faster and more elegant, and works great with Pandas dataframes:"
   ]
  },
  {
   "cell_type": "code",
   "execution_count": 127,
   "metadata": {
    "slideshow": {
     "slide_type": "subslide"
    }
   },
   "outputs": [
    {
     "name": "stdout",
     "output_type": "stream",
     "text": [
      "                            OLS Regression Results                            \n",
      "==============================================================================\n",
      "Dep. Variable:                  value   R-squared:                       0.218\n",
      "Model:                            OLS   Adj. R-squared:                  0.215\n",
      "Method:                 Least Squares   F-statistic:                     79.67\n",
      "Date:                Wed, 11 Dec 2019   Prob (F-statistic):           5.46e-17\n",
      "Time:                        13:07:03   Log-Likelihood:                -1055.5\n",
      "No. Observations:                 288   AIC:                             2115.\n",
      "Df Residuals:                     286   BIC:                             2122.\n",
      "Df Model:                           1                                         \n",
      "Covariance Type:            nonrobust                                         \n",
      "==============================================================================\n",
      "                 coef    std err          t      P>|t|      [0.025      0.975]\n",
      "------------------------------------------------------------------------------\n",
      "Intercept      5.0105      0.667      7.507      0.000       3.697       6.324\n",
      "goals          1.2384      0.139      8.926      0.000       0.965       1.511\n",
      "==============================================================================\n",
      "Omnibus:                      169.342   Durbin-Watson:                   1.813\n",
      "Prob(Omnibus):                  0.000   Jarque-Bera (JB):             1231.776\n",
      "Skew:                           2.357   Prob(JB):                    3.34e-268\n",
      "Kurtosis:                      11.968   Cond. No.                         5.82\n",
      "==============================================================================\n",
      "\n",
      "Warnings:\n",
      "[1] Standard Errors assume that the covariance matrix of the errors is correctly specified.\n"
     ]
    }
   ],
   "source": [
    "import statsmodels.formula.api as sm2\n",
    "res = sm2.ols(formula = \"value ~ goals\", data = df).fit()\n",
    "print(res.summary())"
   ]
  },
  {
   "cell_type": "markdown",
   "metadata": {
    "collapsed": true,
    "slideshow": {
     "slide_type": "subslide"
    }
   },
   "source": [
    "Consider a more elaborate model: "
   ]
  },
  {
   "cell_type": "code",
   "execution_count": 128,
   "metadata": {},
   "outputs": [
    {
     "name": "stdout",
     "output_type": "stream",
     "text": [
      "                            OLS Regression Results                            \n",
      "==============================================================================\n",
      "Dep. Variable:                  value   R-squared:                       0.358\n",
      "Model:                            OLS   Adj. R-squared:                  0.349\n",
      "Method:                 Least Squares   F-statistic:                     39.44\n",
      "Date:                Wed, 11 Dec 2019   Prob (F-statistic):           3.06e-26\n",
      "Time:                        13:07:03   Log-Likelihood:                -1027.1\n",
      "No. Observations:                 288   AIC:                             2064.\n",
      "Df Residuals:                     283   BIC:                             2082.\n",
      "Df Model:                           4                                         \n",
      "Covariance Type:            nonrobust                                         \n",
      "===============================================================================\n",
      "                  coef    std err          t      P>|t|      [0.025      0.975]\n",
      "-------------------------------------------------------------------------------\n",
      "Intercept     -15.9865      5.610     -2.850      0.005     -27.030      -4.943\n",
      "goals           1.4371      0.129     11.136      0.000       1.183       1.691\n",
      "age            -0.4704      0.145     -3.240      0.001      -0.756      -0.185\n",
      "passsuccess     0.4338      0.059      7.295      0.000       0.317       0.551\n",
      "aerialswon     -0.0269      0.463     -0.058      0.954      -0.939       0.885\n",
      "==============================================================================\n",
      "Omnibus:                      178.694   Durbin-Watson:                   1.808\n",
      "Prob(Omnibus):                  0.000   Jarque-Bera (JB):             1717.212\n",
      "Skew:                           2.400   Prob(JB):                         0.00\n",
      "Kurtosis:                      13.957   Cond. No.                         879.\n",
      "==============================================================================\n",
      "\n",
      "Warnings:\n",
      "[1] Standard Errors assume that the covariance matrix of the errors is correctly specified.\n"
     ]
    }
   ],
   "source": [
    "import statsmodels.formula.api as sm2\n",
    "res = sm2.ols(formula = \"value ~ goals + age + passsuccess + aerialswon\", data = df).fit()\n",
    "print(res.summary())"
   ]
  },
  {
   "cell_type": "markdown",
   "metadata": {
    "slideshow": {
     "slide_type": "skip"
    }
   },
   "source": [
    "----------------------------------------------------------------------------------------------------------------------\n",
    "<a id = \"ser\"></a>"
   ]
  },
  {
   "cell_type": "markdown",
   "metadata": {
    "collapsed": true,
    "slideshow": {
     "slide_type": "subslide"
    }
   },
   "source": [
    "## Other Topics in Data Analysis\n",
    "\n",
    "Due to time constraints, there are a lot of topics and useful packages in the context of data analysis that we did not cover in this lecture. Among them:\n",
    "- three-dimensional Pandas dataframes (Multiindex)\n",
    "- Scipy stats package\n"
   ]
  },
  {
   "cell_type": "markdown",
   "metadata": {
    "slideshow": {
     "slide_type": "skip"
    }
   },
   "source": [
    "----------------------------------------------------------------------------------------------------------------------\n",
    "<a id = \"ser\"></a>"
   ]
  },
  {
   "cell_type": "markdown",
   "metadata": {},
   "source": [
    "## Exercise 2\n",
    "\n",
    "The dataset used in this question comes from baseball, which may be a less-than exciting sport, but also one that generates a lot of data and is therefore very popular among (North American) data scientists. The file 'baseball_stats.csv' contains information on more than 18,000 players that have played in the US baseball league MLB at some point. The data includes the name, height and weight of a player, moreover its \"handedness\" (whether he bats with his left or right hand or both), his batting average (the percentage of at-bats in which he recorded a hit) and the number of home runs.\n",
    "\n",
    "(a) Import the Pandas package and read the data in a Pandas dataframe. Use the **info** or the **head** method to make sure the data has been read in properly. \n",
    "\n",
    "(b) Find the player with the most homeruns in the history of the MLB. \n",
    "\n",
    "(c) How many players were recorded to be \"switch hitters\", i.e. to bat both left-handed or right-handed? Who has scored the most homeruns among this group?\n",
    "\n",
    "(d) How often does an MLB player hit the ball on average? Using the **describe** method, you can see that the mean batting average is about 0.17. However, this includes a lot of players with an average of 0. Compute the mean batting average among those players who have actually hit something, i.e. with an average *greater than zero*.\n",
    "\n",
    "(e) A popular question among baseball fans and analysts is whether there is a inherent difference in the batting performance between left- or right-handed batters. We can use a t-test to check the hypothesis that both groups come from the same population, i.e. that there is no systematic difference and all observed difference is due to sampling. Use the **ttest_ind** function in Scipy's **scipy.stats**  module (look it up to check the syntax!)to compute a t-statistic under the null hypothesis\n",
    "\n",
    "\\begin{equation}\n",
    "    \\text{avg}_{LH} - \\text{avg}_{RH} = 0.\n",
    "\\end{equation}\n",
    "\n",
    "What can you conclude?"
   ]
  },
  {
   "cell_type": "code",
   "execution_count": null,
   "metadata": {},
   "outputs": [],
   "source": []
  }
 ],
 "metadata": {
  "anaconda-cloud": {},
  "celltoolbar": "Slideshow",
  "kernelspec": {
   "display_name": "Python 3",
   "language": "python",
   "name": "python3"
  },
  "language_info": {
   "codemirror_mode": {
    "name": "ipython",
    "version": 3
   },
   "file_extension": ".py",
   "mimetype": "text/x-python",
   "name": "python",
   "nbconvert_exporter": "python",
   "pygments_lexer": "ipython3",
   "version": "3.7.5"
  }
 },
 "nbformat": 4,
 "nbformat_minor": 1
}
