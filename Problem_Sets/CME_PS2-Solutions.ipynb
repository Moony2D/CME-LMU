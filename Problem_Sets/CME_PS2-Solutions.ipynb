{
 "cells": [
  {
   "cell_type": "markdown",
   "metadata": {
    "nbgrader": {
     "grade": false,
     "grade_id": "cell-4d4dba112619ab1a",
     "locked": true,
     "schema_version": 3,
     "solution": false
    }
   },
   "source": [
    "# Computational Methods in Economics (winter term 2019/20)\n",
    "\n",
    "## Problem Set 2"
   ]
  },
  {
   "cell_type": "markdown",
   "metadata": {
    "nbgrader": {
     "grade": false,
     "grade_id": "cell-8850660ac36f0dce",
     "locked": true,
     "schema_version": 3,
     "solution": false
    }
   },
   "source": [
    "#### DEADLINE: Wednesday, November 27, 12 pm"
   ]
  },
  {
   "cell_type": "code",
   "execution_count": 1,
   "metadata": {
    "nbgrader": {
     "grade": false,
     "grade_id": "cell-5a4d302a56efc5da",
     "locked": true,
     "schema_version": 3,
     "solution": false,
     "task": false
    }
   },
   "outputs": [],
   "source": [
    "import numpy as np"
   ]
  },
  {
   "cell_type": "markdown",
   "metadata": {
    "nbgrader": {
     "grade": false,
     "grade_id": "cell-e378a9b81c8cd481",
     "locked": true,
     "schema_version": 3,
     "solution": false
    }
   },
   "source": [
    "## Question 1\n",
    "\n",
    "Consider the polynomial expression\n",
    "\\begin{equation*}\n",
    "\tp(x) = a_0 + a_1 x + a_2 x^2 + \\cdots + a_N x^N = \\sum_{n=0}^N a_n x^n,\n",
    "\\end{equation*}\n",
    "where $x$ is a scalar number.\n",
    "\n",
    "(a) Write a Python function **poly(xx, coeff)** that implements $p(x)$ (i.e. evaluates the polynomial) given a point (i.e. a scalar) **xx** and a list of coefficients **coeff** ($= a_0,...,a_N$). Use a loop with **enumerate()**.\n",
    "\n",
    "(b) Write a new function **poly_np(xx, coeff)** that does the same job, but uses NumPy arrays and vectorized operations, rather than any form of Python loop. \n",
    "\n",
    "*Hint*: You can use **np.cumprod()** here. Using **np.cumprod()** on a sequence gives an array where at each position, you have the product of all elements that come before or at that position in the original array. For example, **np.cumprod([2,3,4,5])** would return **[2,6,24,120]** as a NP array. \n",
    "\n",
    "(c) Using **%time**, check how long it takes for both functions to run when **len(coeff)** = 50000 (you can use random draws from a uniform distribution for the elements in **coeff**).\n"
   ]
  },
  {
   "cell_type": "code",
   "execution_count": 2,
   "metadata": {
    "nbgrader": {
     "grade": false,
     "grade_id": "cell-da69ea1594af0027",
     "locked": false,
     "schema_version": 3,
     "solution": true
    }
   },
   "outputs": [],
   "source": [
    "## (a)\n",
    "def poly(x, coeff):\n",
    "    '''\n",
    "    Evaluates a polynomial p(x) = a_0 + a_1 x + a_2 x^2 + ... + a_N x^N using a loop\n",
    "    '''\n",
    "    ### BEGIN SOLUTION\n",
    "    # initialize s as 0\n",
    "    s = 0\n",
    "    for (i, a) in enumerate(coeff):\n",
    "        # for each iteration, add the corresponding term to s\n",
    "        s = s + a * x**i    \n",
    "    return s\n",
    "\n",
    "    ## Note that we can implement the exact same algorithm in one line:    \n",
    "#     def poly(x, coeff):\n",
    "#         return sum(a * x**i for i, a in enumerate(coeff))\n",
    "\n",
    "    ### END SOLUTION"
   ]
  },
  {
   "cell_type": "code",
   "execution_count": 3,
   "metadata": {
    "nbgrader": {
     "grade": true,
     "grade_id": "cell-25000faaff4dbb7f",
     "locked": true,
     "points": 2,
     "schema_version": 3,
     "solution": false
    }
   },
   "outputs": [],
   "source": [
    "assert poly(1, [1,1,1]) == 3\n",
    "assert poly(2, [1,2,4]) == 21"
   ]
  },
  {
   "cell_type": "code",
   "execution_count": 4,
   "metadata": {
    "nbgrader": {
     "grade": false,
     "grade_id": "cell-60d27094a816a9a1",
     "locked": false,
     "schema_version": 3,
     "solution": true
    }
   },
   "outputs": [],
   "source": [
    "import numpy as np\n",
    "\n",
    "## (b)\n",
    "def poly_np(x, coeff):\n",
    "    '''\n",
    "    Evaluates a polynomial p(x) = a_0 + a_1 x + a_2 x^2 + ... + a_N x^N using NP arrays and cumprod\n",
    "    '''\n",
    "    ### BEGIN SOLUTION\n",
    "    # For the function here, we need to apply **np.cumprod()** on an array **[1, x, x, x, ..]**, \n",
    "    # which would return **[1, x, x^2, x^3,...]**. We can use the inner product of this array and **coeff**.\n",
    "    \n",
    "    # define X = [1, x, x, ...]\n",
    "    X = np.zeros(len(coeff))\n",
    "    X[0] = 1\n",
    "    X[1:] = x\n",
    "    # using cumprod on X gives [1 x x^2 x^3 ...]\n",
    "    y = np.cumprod(X)\n",
    "    # compute and return inner product\n",
    "    return coeff @ y\n",
    "\n",
    "    ## As an alternative, note that a vectorized operations also works if the array is in the exponent. \n",
    "    ## In other words, implementing something like $x^np.array([0,1,2])$ in Python, where $x$ is a scalar, would give $[x^0, x^1, x^2]$. \n",
    "    ## Again, this works only if the sequence $[0,1,2]$ is a NumPy array. \n",
    "\n",
    "# def poly_np2(x, coeff):\n",
    "#     return coeff @ x**np.linspace(0,len(coeff)-1,len(coeff))\n",
    "    \n",
    "    ### END SOLUTION"
   ]
  },
  {
   "cell_type": "code",
   "execution_count": 5,
   "metadata": {
    "nbgrader": {
     "grade": true,
     "grade_id": "cell-ec39e398e1d2bd36",
     "locked": true,
     "points": 2,
     "schema_version": 3,
     "solution": false
    }
   },
   "outputs": [],
   "source": [
    "# THIS IS A TEST CELL!\n",
    "### BEGIN HIDDEN TESTS\n",
    "assert poly_np(1, [1,1,1]) == 3.0\n",
    "assert poly_np(2, [1,2,4]) == 21.0\n",
    "### END HIDDEN TESTS"
   ]
  },
  {
   "cell_type": "code",
   "execution_count": 6,
   "metadata": {
    "nbgrader": {
     "grade": false,
     "grade_id": "cell-4b59e5b2c9f1e964",
     "locked": false,
     "schema_version": 3,
     "solution": true
    }
   },
   "outputs": [
    {
     "name": "stdout",
     "output_type": "stream",
     "text": [
      "0.04445244713769487\n",
      "Wall time: 79.8 ms\n",
      "0.04445244713769487\n",
      "Wall time: 16.5 ms\n"
     ]
    }
   ],
   "source": [
    "## (c)\n",
    "\n",
    "### BEGIN SOLUTION\n",
    "# use random module to assign arbitrary values to coeff\n",
    "N = 50000\n",
    "coeff = np.random.uniform(0, 1, N)\n",
    "x = 0.1\n",
    "\n",
    "%time print(poly(x, coeff))\n",
    "%time print(poly_np(x, coeff))\n",
    "\n",
    "### END SOLUTION"
   ]
  },
  {
   "cell_type": "code",
   "execution_count": 7,
   "metadata": {
    "nbgrader": {
     "grade": true,
     "grade_id": "cell-1ef0506d589f36d4",
     "locked": true,
     "points": 1,
     "schema_version": 3,
     "solution": false
    }
   },
   "outputs": [
    {
     "name": "stdout",
     "output_type": "stream",
     "text": [
      "107 ms ± 0 ns per loop (mean ± std. dev. of 1 run, 1 loop each)\n",
      "695 µs ± 0 ns per loop (mean ± std. dev. of 1 run, 1 loop each)\n"
     ]
    }
   ],
   "source": [
    "# THIS IS A TEST CELL!\n",
    "### BEGIN HIDDEN TESTS\n",
    "y = %timeit -r1 -n1 -o poly(x, coeff)\n",
    "z = %timeit -r1 -n1 -o poly_np(x, coeff)\n",
    "\n",
    "assert z.best < y.best\n",
    "### END HIDDEN TESTS"
   ]
  },
  {
   "cell_type": "markdown",
   "metadata": {
    "nbgrader": {
     "grade": false,
     "grade_id": "cell-f2e9830a97f60bf5",
     "locked": true,
     "schema_version": 3,
     "solution": false
    }
   },
   "source": [
    "## Question 2\n",
    "\n",
    "Write a function **compute_pi** that computes an approximation to the number $\\pi$ with the Monte Carlo method. The following is adapted from http://mathfaculty.fullerton.edu/mathews/n2003/montecarlopimod.html (check the link for more information and illustrations):\n",
    "\n",
    "\"Monte Carlo methods can be thought of as statistical simulation methods that utilize a sequences of random numbers to perform the simulation. The name \"Monte Carlo\" was coined by Nicholas Constantine Metropolis (1915-1999) and inspired by Stanslaw Ulam (1909-1986), because of the similarity of statistical simulation to games of chance, and because Monte Carlo is a center for gambling and games of chance. In a typical process one computes the number of points in a set B that lies inside box A. The ratio of the number of points that fall inside A to the total number of points tried is equal to the ratio of the two areas.  The accuracy of the ratio $\\rho$ depends on the number of points used, with more points leading to a more accurate value.\"\n",
    "\n",
    "A simple Monte Carlo simulation to approximate the value of $\\pi$ involves randomly selecting points $\\{(x_i, y_i)\\}_{i =1}^n$ in the unit square and determining the ratio $\\rho = m/n$, where $m$ is the number of points that is within a circle with radius 0.5, i.e. that satisfy \n",
    "$$\n",
    "\\sqrt{(x_i-0.5)^2 + (y_i-0.5)^2} \\le 0.5\n",
    "$$\n",
    "\n",
    "In other words: \n",
    "- If $U$ is a bivariate uniform random variable on the unit square $ A = (0,1)^2$, then the probability that a realization of $U$ (i.e. a random draw from two uniform distributions between 0 and 1) lies in a subset $B$ *is equal to the area of* $B$.\n",
    "- If $U_1,...,U_n$ are independently distributed realizations of $U$, then, as $n$ gets large, the fraction of random draws that fall in $B$ converges to the probability of landing in $B$.\n",
    "- In this case, $B$ is a circle in the unit square with radius $r = 0.5$. Recall that for a circle, $area = \\pi \\cdot r^2$.\n",
    "\n",
    "Try to implement this function without using loops (but feel free to use a loop if you do not manage otherwise!)."
   ]
  },
  {
   "cell_type": "code",
   "execution_count": 8,
   "metadata": {
    "nbgrader": {
     "grade": false,
     "grade_id": "cell-30dd53b241c49077",
     "locked": false,
     "schema_version": 3,
     "solution": true
    }
   },
   "outputs": [],
   "source": [
    "# function throws gives \n",
    "def compute_pi(n):\n",
    "    '''\n",
    "    Approximates pi as the fraction of random draws (\"throws\") that land in the unit cycle = area of unit cycle \n",
    "    '''\n",
    "    ### BEGIN SOLUTION\n",
    "\n",
    "#     ## Alternative 1: loop    \n",
    "#     count = 0\n",
    "#     for i in range(n):\n",
    "#         x, y = np.random.uniform(0,1), np.random.uniform(0,1) # x-coordinate, y-coordinate\n",
    "#         if np.sqrt((x - 0.5)**2 + (y - 0.5)**2) <= 0.5:\n",
    "#             count += 1\n",
    "#     return (count/n) / 0.5**2\n",
    "\n",
    "    ## Alternative 2: vectorized operation\n",
    "    x = np.random.uniform(0,1,n)\n",
    "    y = np.random.uniform(0,1,n)\n",
    "    \n",
    "    area = np.sum(np.sqrt((x - 0.5)**2 + (y - 0.5)**2) <= 0.5) / n\n",
    "    \n",
    "    return area / 0.5**2\n",
    "    \n",
    "    ### END SOLUTION"
   ]
  },
  {
   "cell_type": "code",
   "execution_count": 9,
   "metadata": {
    "nbgrader": {
     "grade": false,
     "grade_id": "cell-c6ccd6860a91db1b",
     "locked": true,
     "schema_version": 3,
     "solution": false
    }
   },
   "outputs": [
    {
     "name": "stdout",
     "output_type": "stream",
     "text": [
      "3.13796\n",
      "3.141592653589793\n"
     ]
    }
   ],
   "source": [
    "## The following two numbers should be close too each other\n",
    "print(compute_pi(100000))\n",
    "print(np.pi)"
   ]
  },
  {
   "cell_type": "code",
   "execution_count": 10,
   "metadata": {
    "nbgrader": {
     "grade": true,
     "grade_id": "cell-0d3856540f26a7d4",
     "locked": true,
     "points": 4,
     "schema_version": 3,
     "solution": false
    }
   },
   "outputs": [],
   "source": [
    "# THIS IS A TEST CELL!\n",
    "### BEGIN HIDDEN TESTS\n",
    "assert abs(compute_pi(int(1e+6)) - np.pi) < 1e-2\n",
    "### END HIDDEN TESTS"
   ]
  },
  {
   "cell_type": "markdown",
   "metadata": {
    "nbgrader": {
     "grade": false,
     "grade_id": "cell-c44513fa922661b3",
     "locked": true,
     "schema_version": 3,
     "solution": false
    }
   },
   "source": [
    "## Question 3\n",
    "\n",
    "Consider the utility function $U(B,C)=B^{\\alpha} C^{(1-\\alpha)}$ of a Oktoberfest visitor consuming beer (B) and chicken (C).\n",
    "\n",
    "(a) Write a function **utility** that returns the utilily depending on the amount of consumed chicken and beers\n",
    "\n",
    "(b) Plot the utility as a function of the amount of beer with $\\alpha=0.7$ and $C=2$. The range of beers should be from 0 to 10. Add a title, axis labels and a legend. \n",
    "\n",
    "(C) Plot the isoquants of the same utility for all combination of C and B in the range from 0 to 10. In addition, consider the prices of $p_B=10 €$ and $p_C=10€$ and a budget of 55€. Draw the budgetline in the graph with the isoquants and guess what the optimal consumption might be. Add a title and axis labels.\n",
    "\n",
    "Hints: Make sure to display the graph only for reasonable values. You can set the limits of the x and the y axis by **ax.set_xlim([xlim,xmax])** and **ax.set_ylim([ylim,ymax])**."
   ]
  },
  {
   "cell_type": "code",
   "execution_count": 11,
   "metadata": {
    "nbgrader": {
     "grade": false,
     "grade_id": "cell-533187078f516503",
     "locked": false,
     "schema_version": 3,
     "solution": true
    }
   },
   "outputs": [],
   "source": [
    "## (a)\n",
    "import numpy as np\n",
    "\n",
    "### BEGIN SOLUTION\n",
    "def utility(B,C,alpha):\n",
    "    '''\n",
    "    Implements the utility function \n",
    "    '''\n",
    "    return (B**alpha)*(C**(1-alpha))\n",
    "### END SOLUTION"
   ]
  },
  {
   "cell_type": "code",
   "execution_count": 12,
   "metadata": {
    "nbgrader": {
     "grade": true,
     "grade_id": "cell-ec0447ce516d82cf",
     "locked": true,
     "points": 1,
     "schema_version": 3,
     "solution": false
    }
   },
   "outputs": [],
   "source": [
    "assert float(utility(1,4,0.5)) == 2.0\n",
    "assert float(utility(4,0,1)) == 4.0"
   ]
  },
  {
   "cell_type": "code",
   "execution_count": 13,
   "metadata": {
    "nbgrader": {
     "grade": true,
     "grade_id": "cell-e1bf8dc82f712994",
     "locked": false,
     "points": 2,
     "schema_version": 3,
     "solution": true
    }
   },
   "outputs": [
    {
     "data": {
      "text/plain": [
       "<matplotlib.legend.Legend at 0x121a86e3dc8>"
      ]
     },
     "execution_count": 13,
     "metadata": {},
     "output_type": "execute_result"
    },
    {
     "data": {
      "image/png": "[encoded data removed]",
      "text/plain": [
       "<Figure size 432x288 with 1 Axes>"
      ]
     },
     "metadata": {
      "needs_background": "light"
     },
     "output_type": "display_data"
    }
   ],
   "source": [
    "## (b)\n",
    "\n",
    "import matplotlib.pyplot as plt\n",
    "%matplotlib inline\n",
    "\n",
    "fig, ax = plt.subplots()\n",
    "### BEGIN SOLUTION\n",
    "B = np.linspace(0,10,10)\n",
    "u = utility(B, 2, 0.7)\n",
    "ax.plot(B, u, 'r-', linewidth=2, label = 'utility')\n",
    "ax.set_title('Plotting the utility function')\n",
    "ax.set_xlabel('Beers')\n",
    "ax.set_ylabel('$U(C,B)$')\n",
    "ax.legend(loc = 'upper center')\n",
    "### END SOLUTION"
   ]
  },
  {
   "cell_type": "code",
   "execution_count": 14,
   "metadata": {
    "nbgrader": {
     "grade": true,
     "grade_id": "cell-10973f87d5301c7f",
     "locked": false,
     "points": 3,
     "schema_version": 3,
     "solution": true
    }
   },
   "outputs": [
    {
     "data": {
      "text/plain": [
       "(0, 10)"
      ]
     },
     "execution_count": 14,
     "metadata": {},
     "output_type": "execute_result"
    },
    {
     "data": {
      "image/png": "[encoded data removed]",
      "text/plain": [
       "<Figure size 432x288 with 1 Axes>"
      ]
     },
     "metadata": {
      "needs_background": "light"
     },
     "output_type": "display_data"
    }
   ],
   "source": [
    "## (c)\n",
    "\n",
    "### BEGIN SOLUTION\n",
    "N = 11\n",
    "## interpolate both production factors over equidistant grid\n",
    "C = np.linspace(0, 10, N)\n",
    "B = np.linspace(0, 10, N)\n",
    "## use meshgrid function \n",
    "X, Y = np.meshgrid(C, B)\n",
    "U = utility(X, Y, 0.7)\n",
    "\n",
    "## plot contour\n",
    "fig, ax = plt.subplots()\n",
    "ax.contour(C, B, U, cmap = 'viridis')\n",
    "ax.set_xlabel('Beers')\n",
    "ax.set_ylabel('Chicken')\n",
    "\n",
    "## Budget constraint\n",
    "def chicken(B):\n",
    "    return (5.5-B)\n",
    "\n",
    "ax.plot(B,chicken(B),'r')\n",
    "ax.set_xlim([0,10])\n",
    "ax.set_ylim([0,10])\n",
    "\n",
    "### END SOLUTION"
   ]
  },
  {
   "cell_type": "code",
   "execution_count": 15,
   "metadata": {
    "scrolled": true
   },
   "outputs": [
    {
     "data": {
      "image/png": "[encoded data removed]",
      "text/plain": [
       "<Figure size 432x288 with 2 Axes>"
      ]
     },
     "metadata": {
      "needs_background": "light"
     },
     "output_type": "display_data"
    }
   ],
   "source": [
    "## More fancy solutions\n",
    "\n",
    "N = 100\n",
    "## interpolate both production factors over equidistant grid\n",
    "B = np.linspace(0, 10, N)\n",
    "C = np.linspace(0, 10, N)\n",
    "## use meshgrid function \n",
    "X, Y = np.meshgrid(B, C)\n",
    "Z = utility(X ,Y ,0.7)\n",
    "\n",
    "## budget constraint\n",
    "xx = np.linspace(0,10,100)\n",
    "yy = 5.5 - xx\n",
    "\n",
    "## plot contour\n",
    "fig, ax = plt.subplots()\n",
    "contour = ax.contour(B, C, Z, cmap='viridis')\n",
    "contour_filled = plt.contourf(X, Y, Z, alpha = 0.8)\n",
    "\n",
    "# Labeling\n",
    "ax.set_title('Plotting the Indifference Curves \\n Optimal consumption: B*=3.5, C*=2')\n",
    "ax.set_ylabel('$Chicken~(C)$')\n",
    "ax.set_xlabel('$Beer~(B)$')\n",
    "plt.colorbar(ticks = [0.5, 10], label='Utility Scale')\n",
    "\n",
    "# Budget constraint and guess of the optimal tuple\n",
    "plt.plot(xx, yy, 'r-', linewidth = 2)\n",
    "plt.plot([0, 3.5], [2, 2], 'r:', lw = 2,) # Chicken = 2\n",
    "plt.plot([3.5, 3.5], [0, 2], 'r:', lw = 2) # Beer = 3.5\n",
    "\n",
    "major_ticks = np.arange(0, 10.5, 1)\n",
    "minor_ticks = np.arange(0, 10.5, 0.5)\n",
    "\n",
    "ax.set_xticks(major_ticks)\n",
    "ax.set_xticks(minor_ticks, minor = True)\n",
    "ax.set_yticks(major_ticks)\n",
    "ax.set_yticks(minor_ticks, minor = True)\n",
    "\n",
    "ax.grid(which='both')\n",
    "\n",
    "ax.grid(which='minor', alpha = 0.2, linestyle='--')\n",
    "ax.grid(which='major', alpha = 0.5, linestyle='--')\n",
    "\n",
    "ax.set_xlim([0,10])\n",
    "ax.set_ylim([0,10]);"
   ]
  },
  {
   "cell_type": "code",
   "execution_count": 16,
   "metadata": {},
   "outputs": [
    {
     "data": {
      "image/png": "[encoded data removed]",
      "text/plain": [
       "<Figure size 432x288 with 1 Axes>"
      ]
     },
     "metadata": {
      "needs_background": "light"
     },
     "output_type": "display_data"
    }
   ],
   "source": [
    "import matplotlib.pyplot as plt\n",
    "%matplotlib inline\n",
    "\n",
    "fig, ax = plt.subplots()\n",
    "def isoquant(utility,chicken,alpha):\n",
    "    import math\n",
    "    beer = pow((utility/pow(chicken,(1-alpha))),1/alpha)\n",
    "    return beer\n",
    "cc = np.linspace(0.00001,10,100)\n",
    "b = np.linspace(0.00001,10,100)\n",
    "bb = 5.5 - cc\n",
    "c0 = np.zeros(100)\n",
    "b0 = np.zeros(100)\n",
    "ax.plot(c0,b,'orange',label='$u=0$')\n",
    "ax.plot(b0,cc,'orange')\n",
    "ax.plot(cc,bb,'black',linewidth=2,label='$budget line$')\n",
    "ax.plot(cc,isoquant(1,cc,0.5),'r-',linewidth=2,label='$u=1$')\n",
    "ax.plot(cc,isoquant(2,cc,0.5),'b-',linewidth=2,label='$u=2$')\n",
    "ax.plot(cc,isoquant(2.77,cc,0.5),'y-',linewidth=2,label='$u=2.77$')\n",
    "ax.plot(cc,isoquant(3,cc,0.5),'g-',linewidth=2,label='$u=3$')\n",
    "ax.set_xlim(0,10)\n",
    "ax.set_ylim(0,10)\n",
    "ax.set_title('the budgetline and the isoquants')\n",
    "ax.set_xlabel('chicken')\n",
    "ax.set_ylabel('beer')\n",
    "ax.legend(loc='upper center');"
   ]
  },
  {
   "cell_type": "markdown",
   "metadata": {
    "nbgrader": {
     "grade": false,
     "grade_id": "cell-4168546af1f002ab",
     "locked": true,
     "schema_version": 3,
     "solution": false,
     "task": false
    }
   },
   "source": [
    "## Question 4 \n",
    "\n",
    "(a) Write a function **backward_sub** that implements the backward-substitution algorithm to solve an upper triangular system of equations in Python. Its inputs are a square matrix (2D array) and a flat 1D array. \n",
    "\n",
    "As a first step, derive an expression for $x_i$, analogous to the case of forward-substitution in the lecture.\n",
    "\n",
    "(b) Write a function **my_solve** that solves a linear system of equations, using LU factorization, backward and forward substitution. For backward substitution, use your code from question (a). For forward substitution, you can use the function defined in the lecture (see below). For LU factorization, use the **scipy.linalg.lu** function.\n",
    "\n",
    "*Do not use **np.linalg.solve** or **scipy.linalg.solve** in your function!* "
   ]
  },
  {
   "cell_type": "code",
   "execution_count": 17,
   "metadata": {
    "nbgrader": {
     "grade": false,
     "grade_id": "cell-1d89efd8b6c02984",
     "locked": true,
     "schema_version": 3,
     "solution": false,
     "task": false
    }
   },
   "outputs": [],
   "source": [
    "import scipy.linalg\n",
    "\n",
    "def forward_sub(A, b):\n",
    "    \"\"\"\n",
    "    Implements the forward-substitution algorithm to solve a lower triangular system of equations\n",
    "    \n",
    "    (2D np array, 1D np array) -> (1D np array)\n",
    "    \"\"\"\n",
    "    n, m = A.shape\n",
    "    \n",
    "    assert n == m, \"A must be a square matrix\"\n",
    "    \n",
    "    x = np.zeros(n)\n",
    "    \n",
    "    for i in range(n):\n",
    "        \n",
    "        summ = 0\n",
    "        for j in range(i):\n",
    "            summ += A[i, j] * x[j]\n",
    "        \n",
    "        x[i] = (b[i] - summ) / A[i, i]   \n",
    "    \n",
    "    return x"
   ]
  },
  {
   "cell_type": "code",
   "execution_count": 18,
   "metadata": {
    "nbgrader": {
     "grade": false,
     "grade_id": "cell-edd4a56a8d2bd710",
     "locked": false,
     "schema_version": 3,
     "solution": true,
     "task": false
    }
   },
   "outputs": [],
   "source": [
    "## (a)\n",
    "\n",
    "def backward_sub(A, b):\n",
    "    \"\"\"\n",
    "    Implements the backward-substitution algorithm to solve an upper triangular system of equations \n",
    "    \n",
    "    (2D np array, 1D np array) -> (1D np array)\n",
    "    \n",
    "    \"\"\"\n",
    "    ### BEGIN SOLUTION\n",
    "    ## check input: is A a square matrix?\n",
    "    n, m = A.shape\n",
    "    assert n == m, \"A must be a square matrix\"\n",
    "    \n",
    "    ## initialize solution vector\n",
    "    x = np.zeros(n)\n",
    "    \n",
    "    ## fill solution vector using a for loop\n",
    "    for i in range(n):\n",
    "        \n",
    "        ## compute sum on numerator of recursive rule\n",
    "        summ = 0\n",
    "        for j in range(i):\n",
    "            summ += A[(n-1)-i, (n-1)-j] * x[(n-1)-j]\n",
    "        \n",
    "        ## alternative: use vector multiplication for sum (instead of inner loop)\n",
    "        # summ = A[(n-1)-i, (n-1) - (i-1):] @ x[(n-1) - (i-1):]        \n",
    "        \n",
    "        ## use rule; NB: start at the last element in x!\n",
    "        x[(n-1)-i] = (b[(n-1)-i] - summ) / A[(n-1)-i, (n-1)-i]\n",
    "        \n",
    "    return x  \n",
    "    ### END SOLUTION"
   ]
  },
  {
   "cell_type": "code",
   "execution_count": 19,
   "metadata": {
    "nbgrader": {
     "grade": true,
     "grade_id": "cell-6331c77468c66640",
     "locked": true,
     "points": 1,
     "schema_version": 3,
     "solution": false,
     "task": false
    }
   },
   "outputs": [],
   "source": [
    "assert np.allclose( backward_sub( np.array([[1, 1], [0, 1]]), np.array([2, 1])  ), np.array([ 1.,  1.]) )"
   ]
  },
  {
   "cell_type": "code",
   "execution_count": 20,
   "metadata": {
    "nbgrader": {
     "grade": true,
     "grade_id": "cell-45dda4998d771208",
     "locked": true,
     "points": 2,
     "schema_version": 3,
     "solution": false,
     "task": false
    }
   },
   "outputs": [],
   "source": [
    "A = np.array([[1, 2, 3],\n",
    "              [0, 5, 7],\n",
    "              [0, 0, 9]])\n",
    "\n",
    "b = np.array([1, 2, 3])\n",
    "\n",
    "assert np.allclose( backward_sub(A, b), np.array([ 0.13333333, -0.06666667,  0.33333333]) )"
   ]
  },
  {
   "cell_type": "code",
   "execution_count": 21,
   "metadata": {
    "nbgrader": {
     "grade": false,
     "grade_id": "cell-717553585651c459",
     "locked": false,
     "schema_version": 3,
     "solution": true,
     "task": false
    }
   },
   "outputs": [],
   "source": [
    "## (b)\n",
    "\n",
    "def my_solve(A, b):\n",
    "    \"\"\"\n",
    "    Solves a linear system of equations using LU factorization, backward and forward distribution\n",
    "    \n",
    "    (2D np array, 1D np array) -> (1D np array)\n",
    "    \n",
    "    \"\"\"\n",
    "    ### BEGIN SOLUTION\n",
    "    P, L, U = scipy.linalg.lu(A)\n",
    "    y = forward_sub(L, b)\n",
    "    return backward_sub(U, y)\n",
    "    ### END SOLUTION"
   ]
  },
  {
   "cell_type": "code",
   "execution_count": 22,
   "metadata": {
    "nbgrader": {
     "grade": true,
     "grade_id": "cell-923e6a65158f2df2",
     "locked": true,
     "points": 1,
     "schema_version": 3,
     "solution": false,
     "task": false
    }
   },
   "outputs": [],
   "source": [
    "A = np.array([[1, 2, 3],\n",
    "              [0, 5, 7],\n",
    "              [0, 0, 9]])\n",
    "\n",
    "b = np.array([1, 2, 3])\n",
    "\n",
    "assert np.allclose( my_solve(A, b), np.array([ 0.13333333, -0.06666667,  0.33333333]) )"
   ]
  },
  {
   "cell_type": "code",
   "execution_count": 23,
   "metadata": {
    "nbgrader": {
     "grade": true,
     "grade_id": "cell-817e96d1d7fb2dcd",
     "locked": true,
     "points": 1,
     "schema_version": 3,
     "solution": false,
     "task": false
    }
   },
   "outputs": [],
   "source": [
    "# THIS IS A TEST CELL!\n",
    "### BEGIN HIDDEN TESTS\n",
    "A = np.array([[54, 14, -11, 2], \n",
    "              [14, 50, -4, 29],\n",
    "              [-11, -4, 55, 22],\n",
    "              [2, 29, 22, 95]]\n",
    "            )\n",
    "b = np.array([1, 1, 1, 1])\n",
    "\n",
    "assert np.allclose( my_solve(A, b), np.array([ 0.01893441,  0.01680508,  0.02335523, -0.00041085]))\n",
    "### END HIDDEN TESTS"
   ]
  },
  {
   "cell_type": "markdown",
   "metadata": {
    "nbgrader": {
     "grade": false,
     "grade_id": "cell-7c62bff0583b2025",
     "locked": true,
     "schema_version": 3,
     "solution": false,
     "task": false
    }
   },
   "source": [
    "## Question 5\n",
    "\n",
    "From Judd (1998), chapter 3. Suppose that demand for good $i$ is \n",
    "\n",
    "\\begin{equation}\n",
    "    d_i(p) = a_i \\sum_{j \\neq i} p_j - b_ip_i + c_i,\\ \\ i = 1, ..., n\n",
    "\\end{equation}\n",
    "\n",
    "where $a_i > b_i > 0$, and that supply is \n",
    "\n",
    "\\begin{equation}\n",
    "    s_i(p) = A_i + B_i p_i, \\ \\ i = 1, ..., n \n",
    "\\end{equation}\n",
    "\n",
    "where $B_i > 0$. Write a function **find_eq** that solves for an equilibrium with 5 goods, for the values of $a_i$, $b_i$, $c_i$, $A_i$ and $B_i$ found in the next cell. In other words, your function should take the 5 arrays below as arguments, and return a *tuple of two arrays*, **(p, q)**, containing the equilibrium prices and quantities. \n",
    "\n",
    "Note that you are not given any test cases for comparison. However, your code should work for any number $n \\ge 1$ (not only $n = 5$). Hence, in order to check the validity of your code, you can construct simple examples, e.g. with $n = 2$, and compare the pen-and-paper result with the output of your function. \n",
    "\n",
    "*Optional*: While this is not mandatory to answer this question, think about what ranges of values for $a_i$, $b_i$, $c_i$, $A_i$ and $B_i$ are reasonable from an economic point of view, and how you could have your function check on whether these \"constraints\" are satisfied for a specific input."
   ]
  },
  {
   "cell_type": "code",
   "execution_count": 24,
   "metadata": {
    "nbgrader": {
     "grade": false,
     "grade_id": "cell-3f11fb1ca8d25214",
     "locked": true,
     "schema_version": 3,
     "solution": false,
     "task": false
    }
   },
   "outputs": [],
   "source": [
    "a = np.array([.3,.4,.4,1,.8])\n",
    "b = np.array([.2,.2,.3,.4,.5])\n",
    "c = np.array([1,1,1,1,1])\n",
    "A = np.array([-5,-4,-5,6,7])\n",
    "B = np.array([5,6,1,8,7])"
   ]
  },
  {
   "cell_type": "code",
   "execution_count": 25,
   "metadata": {
    "nbgrader": {
     "grade": false,
     "grade_id": "cell-145c1f1348983f0f",
     "locked": false,
     "schema_version": 3,
     "solution": true,
     "task": false
    }
   },
   "outputs": [],
   "source": [
    "def find_eq(a,b,c,A,B):\n",
    "    \"\"\" \n",
    "    Takes in the parameters for a, b, c, A, B as flat numpy arrays. Solves for equilibrium\n",
    "    price and quantity vectors given a_i, b_i, A_i, B_i.\n",
    "    \n",
    "    Returns the price and quantity vectors as two flat numpy arrays.\n",
    "    \"\"\"\n",
    "    ### BEGIN SOLUTION\n",
    "    # get length of the array\n",
    "    m, = b.shape\n",
    "    \n",
    "    # check that b > 0 and a > b\n",
    "    assert b.min() > 0,    'All values in b must be greater than 0'\n",
    "        \n",
    "    for i in range(m):    \n",
    "        if a[i] < b[i]:\n",
    "            print('At position {} the a !> b'.format(i))\n",
    "        else: continue\n",
    "            \n",
    "    # check that B > 0 \n",
    "    assert B.min() > 0,    'All values in B must be greater than 0'\n",
    "    \n",
    "    # create matrix M populated with values from (-b_i - B_i) and a\n",
    "    M = np.zeros((m,m))\n",
    "    for i in range(m):\n",
    "        for j in range(m):\n",
    "            if i == j:\n",
    "                M[i,j] = -b[i] - B[i]\n",
    "            else:\n",
    "                M[i,j] = a[i]\n",
    "          \n",
    "    # create array x with values A_i - c_i\n",
    "    x = A - c\n",
    " \n",
    "    # use gaussian to compute p vector\n",
    "#     p0 = np.zeros(m)\n",
    "#     p, it = gauss_jacobi(M, x, p0)\n",
    "    p = scipy.linalg.solve(M, x)\n",
    "    \n",
    "    # compute q vector with A + B*p\n",
    "    q = A + (B * p)\n",
    "    \n",
    "    return p, q\n",
    "    ### END SOLUTION"
   ]
  },
  {
   "cell_type": "code",
   "execution_count": 26,
   "metadata": {
    "nbgrader": {
     "grade": true,
     "grade_id": "cell-ce303d97dd115234",
     "locked": true,
     "points": 5,
     "schema_version": 3,
     "solution": false,
     "task": false
    }
   },
   "outputs": [],
   "source": [
    "# THIS IS A TEST CELL!\n",
    "### BEGIN HIDDEN TESTS\n",
    "p_eq, q_eq = find_eq(a,b,c,A,B)\n",
    "assert np.allclose(p_eq, np.array([1.5942729 , 1.31686888, 5.70078507, 0.44982304, 0.16658665]))\n",
    "assert np.allclose(q_eq, np.array([2.97136451, 3.90121329, 0.70078507, 9.59858429, 8.16610658]))\n",
    "### END HIDDEN TESTS"
   ]
  },
  {
   "cell_type": "markdown",
   "metadata": {
    "nbgrader": {
     "grade": false,
     "grade_id": "cell-c7fdc1fcf8b738ed",
     "locked": true,
     "schema_version": 3,
     "solution": false,
     "task": false
    }
   },
   "source": [
    "---------------------------------------------------------------------------------------------------------------------\n",
    "## Appendix"
   ]
  },
  {
   "cell_type": "markdown",
   "metadata": {
    "nbgrader": {
     "grade": false,
     "grade_id": "cell-d95c94e65334f345",
     "locked": true,
     "schema_version": 3,
     "solution": false,
     "task": false
    }
   },
   "source": [
    "## Question A.1 (OPTIONAL; do not submit!)\n",
    "\n",
    "(a) Find the largest positive integer $n$ such that $2^n - 1$ is a DP number.\n",
    "\n",
    "(b) Show that the distance between two adjacent DP numbers $y_1$ and $y_2$ with $y_1 < y_2$ that, \n",
    "\n",
    "\\begin{equation}\n",
    "   | y_2 - y_1 | = \\epsilon_{DP} 2^{e(y_1) - 1023}. \n",
    "\\end{equation}\n",
    "\n",
    "Hint: Consider two cases for $e$ and $f$ that make two DP numbers adjacent.\n",
    "\n",
    "(c) Show that the relativ absolute difference between a real number $z$ and the DP number closest to it, $z_{DP}$, is bounded above by half machine epsilon, i.e.\n",
    "\n",
    "\\begin{equation}\n",
    "   \\left| \\frac{z_{DP} - z}{z} \\right| \\le \\frac{1}{2} \\epsilon_{DP}.\n",
    "\\end{equation}\n",
    "\n",
    "Hint: Use the result from (b)."
   ]
  }
 ],
 "metadata": {
  "anaconda-cloud": {},
  "celltoolbar": "Create Assignment",
  "kernelspec": {
   "display_name": "Python 3",
   "language": "python",
   "name": "python3"
  },
  "language_info": {
   "codemirror_mode": {
    "name": "ipython",
    "version": 3
   },
   "file_extension": ".py",
   "mimetype": "text/x-python",
   "name": "python",
   "nbconvert_exporter": "python",
   "pygments_lexer": "ipython3",
   "version": "3.7.5"
  }
 },
 "nbformat": 4,
 "nbformat_minor": 1
}
