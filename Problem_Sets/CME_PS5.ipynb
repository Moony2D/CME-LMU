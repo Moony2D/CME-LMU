{
 "cells": [
  {
   "cell_type": "markdown",
   "metadata": {},
   "source": [
    "Before you turn this problem in, make sure everything runs as expected. First, **restart the kernel** (in the menubar, select Kernel$\\rightarrow$Restart) and then **run all cells** (in the menubar, select Cell$\\rightarrow$Run All).\n",
    "\n",
    "Make sure you fill in any place that says `YOUR CODE HERE`, as well as your name below:"
   ]
  },
  {
   "cell_type": "code",
   "execution_count": null,
   "metadata": {},
   "outputs": [],
   "source": [
    "NAME = \"\""
   ]
  },
  {
   "cell_type": "markdown",
   "metadata": {},
   "source": [
    "Please save this notebook in a folder of the same name (`CME_PS` plus the corresponding number) and push it to your LRZ-Gitlab repository. Do not change the name of the notebook!"
   ]
  },
  {
   "cell_type": "markdown",
   "metadata": {},
   "source": [
    "Note: some of the cells below are locked, so you cannot change them, but you can evaluate them!"
   ]
  },
  {
   "cell_type": "markdown",
   "metadata": {},
   "source": [
    "---"
   ]
  },
  {
   "cell_type": "markdown",
   "metadata": {
    "deletable": false,
    "editable": false,
    "nbgrader": {
     "cell_type": "markdown",
     "checksum": "4ad61d2510a9a9a4943c71c368882fac",
     "grade": false,
     "grade_id": "cell-ff41bfd971742b5f",
     "locked": true,
     "schema_version": 3,
     "solution": false,
     "task": false
    }
   },
   "source": [
    "# Computational Methods in Economics\n",
    "\n",
    "## Problem Set 5 - Data Analysis and Function Approximation"
   ]
  },
  {
   "cell_type": "markdown",
   "metadata": {
    "deletable": false,
    "editable": false,
    "nbgrader": {
     "cell_type": "markdown",
     "checksum": "3f35a6f34f448e80cc05bc001b6e38a1",
     "grade": false,
     "grade_id": "cell-a69909ea9ea572e8",
     "locked": true,
     "schema_version": 3,
     "solution": false,
     "task": false
    }
   },
   "source": [
    "#### DEADLINE: Friday, January 24, 6 pm"
   ]
  },
  {
   "cell_type": "markdown",
   "metadata": {
    "deletable": false,
    "editable": false,
    "nbgrader": {
     "cell_type": "markdown",
     "checksum": "0b2dae658af3d77ed32e441ecd56d9d8",
     "grade": false,
     "grade_id": "cell-3990712381996b5b",
     "locked": true,
     "schema_version": 3,
     "solution": false,
     "task": false
    }
   },
   "source": [
    "### Preliminaries\n",
    "\n",
    "#### Import Modules"
   ]
  },
  {
   "cell_type": "code",
   "execution_count": null,
   "metadata": {
    "deletable": false,
    "editable": false,
    "nbgrader": {
     "cell_type": "code",
     "checksum": "be307ea2c7812e4ab5e2a4ad0e7a8675",
     "grade": false,
     "grade_id": "cell-b2465406307b475e",
     "locked": true,
     "schema_version": 3,
     "solution": false,
     "task": false
    }
   },
   "outputs": [],
   "source": [
    "import numpy as np\n",
    "import pandas as pd\n",
    "import scipy.optimize\n",
    "\n",
    "import matplotlib.pyplot as plt\n",
    "%matplotlib inline\n",
    "\n",
    "from sklearn import preprocessing\n",
    "from sklearn.linear_model import LinearRegression\n",
    "from sklearn.linear_model import SGDRegressor \n",
    "\n",
    "import funapprox_cme as fa"
   ]
  },
  {
   "cell_type": "markdown",
   "metadata": {
    "deletable": false,
    "editable": false,
    "nbgrader": {
     "cell_type": "markdown",
     "checksum": "92c123df4b1de2a4ff093861043265dc",
     "grade": false,
     "grade_id": "cell-957bfdc7c012f582",
     "locked": true,
     "schema_version": 3,
     "solution": false,
     "task": false
    }
   },
   "source": [
    "## Question 1\n",
    "\n",
    "In this question, we are going to apply different algorithms, among them the gradient descent minimization algorithm, on a linear least-squares regression problem. Consider the Bundesliga data set (**BundesligaData.csv**) used in the previous problem set. Let's assume we would like to regress a player's market value on his age, his number of goals and assists. "
   ]
  },
  {
   "cell_type": "markdown",
   "metadata": {
    "deletable": false,
    "editable": false,
    "nbgrader": {
     "cell_type": "markdown",
     "checksum": "ef0a988e7de062cbd0f7bb1dd5da1849",
     "grade": false,
     "grade_id": "cell-9c1c43c6632dd0aa",
     "locked": true,
     "schema_version": 3,
     "solution": false,
     "task": false
    }
   },
   "source": [
    "(a) Read in the relevant parts of the data set using your preferred method. You should create a Numpy array **X** with the three explanatory variables (\"age\", \"goals\", \"assists\") and a flat Numpy array **y** with the dependent variable (\"value\"), for all 288 players."
   ]
  },
  {
   "cell_type": "code",
   "execution_count": null,
   "metadata": {
    "deletable": false,
    "nbgrader": {
     "cell_type": "code",
     "checksum": "92bf61cc1f8aeeb5920bff11315a9ae6",
     "grade": false,
     "grade_id": "cell-dd786e363f969368",
     "locked": false,
     "schema_version": 3,
     "solution": true,
     "task": false
    }
   },
   "outputs": [],
   "source": [
    "# YOUR CODE HERE"
   ]
  },
  {
   "cell_type": "code",
   "execution_count": null,
   "metadata": {
    "deletable": false,
    "editable": false,
    "nbgrader": {
     "cell_type": "code",
     "checksum": "0311456fd1abcca18097d5914909923c",
     "grade": true,
     "grade_id": "cell-afe0942b1e66271a",
     "locked": true,
     "points": 1,
     "schema_version": 3,
     "solution": false,
     "task": false
    }
   },
   "outputs": [],
   "source": [
    "assert np.allclose( X.mean(axis = 0), np.array([25.55555556,  2.63194444,  1.875]) )"
   ]
  },
  {
   "cell_type": "markdown",
   "metadata": {
    "deletable": false,
    "editable": false,
    "nbgrader": {
     "cell_type": "markdown",
     "checksum": "6f36da3aed1538c57d82f7f6bf1dbd01",
     "grade": false,
     "grade_id": "cell-95aa0cc1592f1d7f",
     "locked": true,
     "schema_version": 3,
     "solution": false,
     "task": false
    }
   },
   "source": [
    "(b) Standardize **X**, either by applying the formula in the lecture notes or a scikit-learn function. Next, account for the intercept by adding a column of 1's to **X**. "
   ]
  },
  {
   "cell_type": "code",
   "execution_count": null,
   "metadata": {
    "deletable": false,
    "nbgrader": {
     "cell_type": "code",
     "checksum": "770b474efdafd736fe2f07e8f6342591",
     "grade": false,
     "grade_id": "cell-307b8f3b22180e65",
     "locked": false,
     "schema_version": 3,
     "solution": true,
     "task": false
    }
   },
   "outputs": [],
   "source": [
    "# YOUR CODE HERE"
   ]
  },
  {
   "cell_type": "code",
   "execution_count": null,
   "metadata": {
    "deletable": false,
    "editable": false,
    "nbgrader": {
     "cell_type": "code",
     "checksum": "0c68f77eccc45c56cc9cdeef3cea6d33",
     "grade": true,
     "grade_id": "cell-3b7e3fb7149ae8ae",
     "locked": true,
     "points": 1,
     "schema_version": 3,
     "solution": false,
     "task": false
    }
   },
   "outputs": [],
   "source": [
    "assert np.allclose( X.mean(axis = 0), np.array([1, 0, 0, 0]) )"
   ]
  },
  {
   "cell_type": "markdown",
   "metadata": {
    "deletable": false,
    "editable": false,
    "nbgrader": {
     "cell_type": "markdown",
     "checksum": "2087eb8d313ea746baf9d6036e5b1530",
     "grade": false,
     "grade_id": "cell-7d5eecde13e1b195",
     "locked": true,
     "schema_version": 3,
     "solution": false,
     "task": false
    }
   },
   "source": [
    "(c) Solve the linear LS problem manually, by using the normal equation. That is, compute a flat array **b** with length 4 that contains the coefficients."
   ]
  },
  {
   "cell_type": "code",
   "execution_count": null,
   "metadata": {
    "deletable": false,
    "nbgrader": {
     "cell_type": "code",
     "checksum": "1d4f4ca8a2a9e620cf64c9f89d9958dc",
     "grade": false,
     "grade_id": "cell-b0eff87d5a150e33",
     "locked": false,
     "schema_version": 3,
     "solution": true,
     "task": false
    }
   },
   "outputs": [],
   "source": [
    "# YOUR CODE HERE"
   ]
  },
  {
   "cell_type": "code",
   "execution_count": null,
   "metadata": {
    "deletable": false,
    "editable": false,
    "nbgrader": {
     "cell_type": "code",
     "checksum": "be65892fbbfc82ea2f29843674f52d07",
     "grade": true,
     "grade_id": "cell-3499c4b7bd9f50c4",
     "locked": true,
     "points": 1,
     "schema_version": 3,
     "solution": false,
     "task": false
    }
   },
   "outputs": [],
   "source": [
    "## THIS IS A TEST CELL!"
   ]
  },
  {
   "cell_type": "markdown",
   "metadata": {
    "deletable": false,
    "editable": false,
    "nbgrader": {
     "cell_type": "markdown",
     "checksum": "31194581b2414aff5c2a43c07870dd03",
     "grade": false,
     "grade_id": "cell-0db6072489f30c9b",
     "locked": true,
     "schema_version": 3,
     "solution": false,
     "task": false
    }
   },
   "source": [
    "(d) Next, solve the linear LS problem with the help of scikit-learn. You should create an object named **lr** that contains the coefficients in its **coef_** attribute. "
   ]
  },
  {
   "cell_type": "code",
   "execution_count": null,
   "metadata": {
    "deletable": false,
    "nbgrader": {
     "cell_type": "code",
     "checksum": "4c95719057081ab8c484d20695bb536e",
     "grade": false,
     "grade_id": "cell-78377fcb5b99484a",
     "locked": false,
     "schema_version": 3,
     "solution": true,
     "task": false
    }
   },
   "outputs": [],
   "source": [
    "# YOUR CODE HERE"
   ]
  },
  {
   "cell_type": "code",
   "execution_count": null,
   "metadata": {
    "deletable": false,
    "editable": false,
    "nbgrader": {
     "cell_type": "code",
     "checksum": "03f971e8d6744f58ed53c783772ff0a3",
     "grade": true,
     "grade_id": "cell-29e90acd00ce235b",
     "locked": true,
     "points": 2,
     "schema_version": 3,
     "solution": false,
     "task": false
    }
   },
   "outputs": [],
   "source": [
    "## THIS IS A TEST CELL!"
   ]
  },
  {
   "cell_type": "markdown",
   "metadata": {
    "deletable": false,
    "editable": false,
    "nbgrader": {
     "cell_type": "markdown",
     "checksum": "61d7057fcc282dc9667f8edef7ac3c7e",
     "grade": false,
     "grade_id": "cell-f2b2a53f6e2461a8",
     "locked": true,
     "schema_version": 3,
     "solution": false,
     "task": false
    }
   },
   "source": [
    "(e) We now apply (batch) gradient descent to compute the coefficients of the regression problem. You can use the code from the lecture with a learning rate of 0.001 and an initial guess of (0, -0.1, 0.3, 0.1). Report your results in a flat array **b_gd**."
   ]
  },
  {
   "cell_type": "code",
   "execution_count": null,
   "metadata": {
    "deletable": false,
    "nbgrader": {
     "cell_type": "code",
     "checksum": "723ee57ee9d75dd501b127db1ab87898",
     "grade": false,
     "grade_id": "cell-86665920bfd5efb2",
     "locked": false,
     "schema_version": 3,
     "solution": true,
     "task": false
    }
   },
   "outputs": [],
   "source": [
    "def gd_linear(b, X, y, alpha = 0.001, maxit = 50000, eps = 1e-8):\n",
    "    \"\"\"\n",
    "    Implements the iterative procedure for gradient descent in the context of linear regression. Inputs are \n",
    "    -> b: initial guess for the minimizing coefficient vector\n",
    "    -> X: the m-by-n regression matrix, with each row containing the n features for one observation\n",
    "    -> y: the m-by-1 vector of target values \n",
    "    -> alpha: a scalar indicating the step size from b(k) to b(k+1)\n",
    "    \"\"\"\n",
    "    # YOUR CODE HERE"
   ]
  },
  {
   "cell_type": "code",
   "execution_count": null,
   "metadata": {
    "deletable": false,
    "editable": false,
    "nbgrader": {
     "cell_type": "code",
     "checksum": "fcedb126c19a7a853597af59d0cd34a7",
     "grade": true,
     "grade_id": "cell-16e7a200e746d1c3",
     "locked": true,
     "points": 2,
     "schema_version": 3,
     "solution": false,
     "task": false
    }
   },
   "outputs": [],
   "source": [
    "## THIS IS A TEST CELL!"
   ]
  },
  {
   "cell_type": "markdown",
   "metadata": {},
   "source": [
    "(f) Finally, we compute the coefficients using stochastic gradient descent, with the help of scikit-learn's **SGDRegressor** class. Since it is stochastic, every run will yield slightly different values. To facilitate comparison with the other methods, we run it a large number of times, store the results and then compute the average.  \n",
    "\n",
    "Set **N = 5000** and define an empty NumPy array **B** of dimension **(N, 4)**. Create an instance of **SGDRegressor** and run its **fit** method **N** times. Store the coefficients of an individual run as a row of **B**. Finally, define an array **b_sgd** as the column mean of **B**."
   ]
  },
  {
   "cell_type": "code",
   "execution_count": null,
   "metadata": {
    "deletable": false,
    "nbgrader": {
     "cell_type": "code",
     "checksum": "ede6a219d78b33c2690b98771a3ed914",
     "grade": false,
     "grade_id": "cell-fcaf8ed293d4cc31",
     "locked": false,
     "schema_version": 3,
     "solution": true,
     "task": false
    }
   },
   "outputs": [],
   "source": [
    "# YOUR CODE HERE"
   ]
  },
  {
   "cell_type": "code",
   "execution_count": null,
   "metadata": {
    "deletable": false,
    "editable": false,
    "nbgrader": {
     "cell_type": "code",
     "checksum": "11883cc408897a531652ac4e55cf1600",
     "grade": true,
     "grade_id": "cell-2bc75e601942e979",
     "locked": true,
     "points": 2,
     "schema_version": 3,
     "solution": false,
     "task": false
    }
   },
   "outputs": [],
   "source": [
    "assert np.allclose(b_sgd, np.array([ 8.15, -1.3133,  3.835,  1.41]), rtol=1e-02, atol=1e-02)"
   ]
  },
  {
   "cell_type": "markdown",
   "metadata": {
    "deletable": false,
    "editable": false,
    "nbgrader": {
     "cell_type": "markdown",
     "checksum": "8d2e1c28b21c1682283558d78e354ad8",
     "grade": false,
     "grade_id": "cell-504c2815c6ca76c3",
     "locked": true,
     "schema_version": 3,
     "solution": false,
     "task": false
    }
   },
   "source": [
    "## Question 2\n",
    "\n",
    "The simplest approach to approximating a univariate function $f$ is (piecewise) linear interpolation. As usually, define a grid $x_1, ..., x_m$ and compute the function values $f(x_1), ... , f(x_m)$. Then, to approximate $f(x)$, find the two grid points $x_i$ and $x_{i+1}$ that bracket $x$, i.e. $x_l \\equiv x_i \\le x \\le x_{i + 1} \\equiv x_r $. The interpolant is then given by:\n",
    "\n",
    "\\begin{equation}\n",
    "    \\hat{f}(x)=f(x_{l})+{\\frac {f(x_{r})-f(x_{l})}{x_{r}-x_{l}}}(x-x_{l})\n",
    "\\end{equation}\n",
    "\n",
    "Do not use Numpy's **interp** function throughout this question (but feel free to get accustomed to its syntax and to use it for comparing your results)! "
   ]
  },
  {
   "cell_type": "markdown",
   "metadata": {
    "deletable": false,
    "editable": false,
    "nbgrader": {
     "cell_type": "markdown",
     "checksum": "baeca8ed376ca1d551e9f2eee82e78e6",
     "grade": false,
     "grade_id": "cell-b2d4012a7647423b",
     "locked": true,
     "schema_version": 3,
     "solution": false,
     "task": false
    }
   },
   "source": [
    "(a) Write a function **lin_int** that takes three arguments - a scalar **x** at which to approximate the function, a Numpy array **x_grid** consisting of $m$ grid points and a Numpy array **y_grid** containing the function values corresponding to the grid - and that implements this interpolation scheme. \n",
    "\n",
    "**Hint**: The slightly tricky part here is to find $x_l$ and $x_r$ for a given $x$. There are different ways to achieve this; one possibility is Numpy's **argwhere** function. You may want to combine this with a **try/except** statement."
   ]
  },
  {
   "cell_type": "code",
   "execution_count": null,
   "metadata": {
    "deletable": false,
    "nbgrader": {
     "cell_type": "code",
     "checksum": "310a1cb3a9accdc2bb09e77eb7ef2f6b",
     "grade": false,
     "grade_id": "cell-11ff09e6b1d54d44",
     "locked": false,
     "schema_version": 3,
     "solution": true,
     "task": false
    }
   },
   "outputs": [],
   "source": [
    "# YOUR CODE HERE"
   ]
  },
  {
   "cell_type": "code",
   "execution_count": null,
   "metadata": {
    "deletable": false,
    "editable": false,
    "nbgrader": {
     "cell_type": "code",
     "checksum": "5e88a5bd7efb293aa1e7ad6222f07e22",
     "grade": true,
     "grade_id": "cell-046344f8a78d62b0",
     "locked": true,
     "points": 2,
     "schema_version": 3,
     "solution": false,
     "task": false
    }
   },
   "outputs": [],
   "source": [
    "x_grid = np.linspace(0, 5, 6)\n",
    "y_grid = x_grid**2\n",
    "\n",
    "assert lin_int(3.5, x_grid, y_grid) == 12.5"
   ]
  },
  {
   "cell_type": "markdown",
   "metadata": {
    "deletable": false,
    "editable": false,
    "nbgrader": {
     "cell_type": "markdown",
     "checksum": "799dccd88796ff9c431450ad63f59ee4",
     "grade": false,
     "grade_id": "cell-d036673e8481c23f",
     "locked": true,
     "schema_version": 3,
     "solution": false,
     "task": false
    }
   },
   "source": [
    "(b) Use this function to approximate the sine function $f(x) = \\sin(x)$ between 0 and $2\\pi$. Use $m = 10$ points for the  approximation grid and approximate the function for $N = 50$ equally-spaced points between 0 and $2\\pi$. Your answer should be a Numpy array named **y_approx** of length $N$ that contains the approximated function values.\n",
    "\n",
    "Plot both the approximated and the true function values.\n",
    "\n"
   ]
  },
  {
   "cell_type": "code",
   "execution_count": null,
   "metadata": {
    "deletable": false,
    "nbgrader": {
     "cell_type": "code",
     "checksum": "fd6c092477c475358db059d6606fc251",
     "grade": false,
     "grade_id": "cell-2e77a9157fa6d254",
     "locked": false,
     "schema_version": 3,
     "solution": true,
     "task": false
    }
   },
   "outputs": [],
   "source": [
    "# YOUR CODE HERE"
   ]
  },
  {
   "cell_type": "code",
   "execution_count": null,
   "metadata": {
    "deletable": false,
    "editable": false,
    "nbgrader": {
     "cell_type": "code",
     "checksum": "0104bdd0526213c6fe3c281778522cee",
     "grade": true,
     "grade_id": "cell-98d0846f5ebe36e9",
     "locked": true,
     "points": 1,
     "schema_version": 3,
     "solution": false,
     "task": false
    }
   },
   "outputs": [],
   "source": [
    "assert np.allclose(y_approx.mean(), 0)"
   ]
  },
  {
   "cell_type": "code",
   "execution_count": null,
   "metadata": {
    "deletable": false,
    "editable": false,
    "nbgrader": {
     "cell_type": "code",
     "checksum": "d78d26773d3292f32c7d13549043bfb0",
     "grade": true,
     "grade_id": "cell-558cc05be5ceddf1",
     "locked": true,
     "points": 2,
     "schema_version": 3,
     "solution": false,
     "task": false
    }
   },
   "outputs": [],
   "source": [
    "assert np.allclose(y_approx.std(), 0.6721265191518054)"
   ]
  },
  {
   "cell_type": "markdown",
   "metadata": {
    "deletable": false,
    "editable": false,
    "nbgrader": {
     "cell_type": "markdown",
     "checksum": "0c581b1598af8e0796703ccfb8ecaa92",
     "grade": false,
     "grade_id": "cell-694087d1cdda9497",
     "locked": true,
     "schema_version": 3,
     "solution": false,
     "task": false
    }
   },
   "source": [
    "## Question 3\n",
    "\n",
    "This question illustrates why we should use Chebyshev nodes instead of equally spaced (equidistant) nodes. We use *Runge's function* as an example:\n",
    "\n",
    "\\begin{equation}\n",
    "    f(x) = \\frac{1}{1 + \\alpha x^2}\n",
    "\\end{equation}\n",
    "\n",
    "We will approximate this function on the interval $[-5, 5]$ using all possible combinations of equally spaced/Chebyshev nodes for the interpolation grid and monomials/Chebyshev polynomials for the basis functions. \n",
    "\n",
    "Note that you can use any built-in function, as well as any function defined in the lecture, to answer this question. The functions from the lecture are collected in the module **funapprox_cme**. "
   ]
  },
  {
   "cell_type": "markdown",
   "metadata": {
    "deletable": false,
    "editable": false,
    "nbgrader": {
     "cell_type": "markdown",
     "checksum": "063e960c280ba8dcf22f9c744d95d72c",
     "grade": false,
     "grade_id": "cell-37e9f7c8adaa523d",
     "locked": true,
     "schema_version": 3,
     "solution": false,
     "task": false
    }
   },
   "source": [
    "(a) Start by writing a Python function that implements Runge's function. Then, define a dense grid **x_long** (a Numpy array) with $N = 500$ equally spaced points between $[-5, 5]$. Compute the function values of Runge's function on this grid for $\\alpha = 1$ and store them in a flat Numpy array **y_long**. Plot the function values. "
   ]
  },
  {
   "cell_type": "code",
   "execution_count": null,
   "metadata": {
    "deletable": false,
    "nbgrader": {
     "cell_type": "code",
     "checksum": "289b32ba9bc9722619d0b3b502861c61",
     "grade": false,
     "grade_id": "cell-2eeaf788bbac9bf0",
     "locked": false,
     "schema_version": 3,
     "solution": true,
     "task": false
    }
   },
   "outputs": [],
   "source": [
    "# YOUR CODE HERE"
   ]
  },
  {
   "cell_type": "code",
   "execution_count": null,
   "metadata": {
    "deletable": false,
    "editable": false,
    "nbgrader": {
     "cell_type": "code",
     "checksum": "8de6d227872b700b35781b888436607c",
     "grade": true,
     "grade_id": "cell-9cd10d52106ed863",
     "locked": true,
     "points": 2,
     "schema_version": 3,
     "solution": false,
     "task": false
    }
   },
   "outputs": [],
   "source": [
    "assert y_long.shape == (500,)\n",
    "assert np.allclose(y_long.mean(), 0.2742076173424)"
   ]
  },
  {
   "cell_type": "markdown",
   "metadata": {
    "deletable": false,
    "editable": false,
    "nbgrader": {
     "cell_type": "markdown",
     "checksum": "1c43b8167e739fe298110f8834f63843",
     "grade": false,
     "grade_id": "cell-0766e78bd3950bb9",
     "locked": true,
     "schema_version": 3,
     "solution": false,
     "task": false
    }
   },
   "source": [
    "(b) Define two grids, one with equally spaced points named **x_eq**, and a Chebyshev grid named **x_cn** between $[-5, 5]$, for $m = 11$ grid points. Compute the function values corresponding to these grids, as **y_eq** and **y_cn**, respectively."
   ]
  },
  {
   "cell_type": "code",
   "execution_count": null,
   "metadata": {
    "deletable": false,
    "nbgrader": {
     "cell_type": "code",
     "checksum": "d5e9163dd77d4195cd728ef66f4ee1c7",
     "grade": false,
     "grade_id": "cell-179c973fa7505846",
     "locked": false,
     "schema_version": 3,
     "solution": true,
     "task": false
    }
   },
   "outputs": [],
   "source": [
    "# YOUR CODE HERE"
   ]
  },
  {
   "cell_type": "code",
   "execution_count": null,
   "metadata": {
    "deletable": false,
    "editable": false,
    "nbgrader": {
     "cell_type": "code",
     "checksum": "56ebc8e1e43353ff698934a03dcc0e28",
     "grade": true,
     "grade_id": "cell-e3bcb8ac1f1b8547",
     "locked": true,
     "points": 2,
     "schema_version": 3,
     "solution": false,
     "task": false
    }
   },
   "outputs": [],
   "source": [
    "assert np.allclose(y_eq.sum(), 2.7945701357466)\n",
    "assert np.allclose(x_cn.std(), 3.5355339059327)"
   ]
  },
  {
   "cell_type": "markdown",
   "metadata": {
    "deletable": false,
    "editable": false,
    "nbgrader": {
     "cell_type": "markdown",
     "checksum": "63a2f5c04cbfdb762c0df830f98a0c0a",
     "grade": false,
     "grade_id": "cell-63e2520c0846251e",
     "locked": true,
     "schema_version": 3,
     "solution": false,
     "task": false
    }
   },
   "source": [
    "(c) Define a dictionary **coef**. Fill it with the approximation coefficients for each combination of monomials/Chebyshev polynomials for the basis functions and equally spaced/Chebyshev nodes for the interpolation grid. In other words, **coef** should have four key-value pairs, with the keys **\"mo_eq\"**, **\"mo_cn\"**, **\"ch_eq\"** and **\"ch_cn\"**.  "
   ]
  },
  {
   "cell_type": "code",
   "execution_count": null,
   "metadata": {
    "deletable": false,
    "nbgrader": {
     "cell_type": "code",
     "checksum": "3ccad77a78ee5020efe846bdc03ad949",
     "grade": false,
     "grade_id": "cell-02db908467f18e46",
     "locked": false,
     "schema_version": 3,
     "solution": true,
     "task": false
    }
   },
   "outputs": [],
   "source": [
    "# YOUR CODE HERE"
   ]
  },
  {
   "cell_type": "code",
   "execution_count": null,
   "metadata": {
    "deletable": false,
    "editable": false,
    "nbgrader": {
     "cell_type": "code",
     "checksum": "72f6e6918dd233ef5eaf46e6295873a8",
     "grade": true,
     "grade_id": "cell-722bb794dcfc00ed",
     "locked": true,
     "points": 1,
     "schema_version": 3,
     "solution": false,
     "task": false
    }
   },
   "outputs": [],
   "source": [
    "assert set(coef.keys()) == {'ch_cn', 'ch_eq', 'mo_cn', 'mo_eq'}"
   ]
  },
  {
   "cell_type": "code",
   "execution_count": null,
   "metadata": {
    "deletable": false,
    "editable": false,
    "nbgrader": {
     "cell_type": "code",
     "checksum": "649b64cf19a4ee8dd2adb9b3536e0030",
     "grade": true,
     "grade_id": "cell-1717ddbfa548c4de",
     "locked": true,
     "points": 1,
     "schema_version": 3,
     "solution": false,
     "task": false
    }
   },
   "outputs": [],
   "source": [
    "assert np.allclose(coef['mo_eq'], np.array([ 1.00000000e+00,  2.16792293e-14, -6.74208145e-01, -1.00001580e-14,\n",
    "         1.97375566e-01,  1.54145549e-15, -2.44117647e-02, -8.41873206e-17,\n",
    "         1.26696833e-03,  1.49905290e-18, -2.26244344e-05]))"
   ]
  },
  {
   "cell_type": "code",
   "execution_count": null,
   "metadata": {
    "deletable": false,
    "editable": false,
    "nbgrader": {
     "cell_type": "code",
     "checksum": "9f3d1191dbd95748b4033a4097b84a4c",
     "grade": true,
     "grade_id": "cell-3cf35ab82f465c13",
     "locked": true,
     "points": 1,
     "schema_version": 3,
     "solution": false,
     "task": false
    }
   },
   "outputs": [],
   "source": [
    "assert np.allclose(coef['ch_cn'], np.array([ 2.01135927e-01,  9.44128236e-17, -2.74453603e-01, -1.34367132e-16,\n",
    "         1.90547928e-01,  3.32789899e-17, -1.37129922e-01,  6.64995782e-17,\n",
    "         1.05652703e-01, -1.39384165e-16, -9.10799162e-02]))"
   ]
  },
  {
   "cell_type": "code",
   "execution_count": null,
   "metadata": {
    "deletable": false,
    "editable": false,
    "nbgrader": {
     "cell_type": "code",
     "checksum": "3e878d1f465bd87a4b48b731bb2af3e4",
     "grade": true,
     "grade_id": "cell-064ca6187e85bdb9",
     "locked": true,
     "points": 2,
     "schema_version": 3,
     "solution": false,
     "task": false
    }
   },
   "outputs": [],
   "source": [
    "## THIS IS A TEST CELL!"
   ]
  },
  {
   "cell_type": "markdown",
   "metadata": {
    "deletable": false,
    "editable": false,
    "nbgrader": {
     "cell_type": "markdown",
     "checksum": "854015ae72e00c5678b2f1bf89a1d70b",
     "grade": false,
     "grade_id": "cell-a6ccdc9ed6da7ee0",
     "locked": true,
     "schema_version": 3,
     "solution": false,
     "task": false
    }
   },
   "source": [
    "(d) Across all four approaches to approximate the function, what is the largest approximation error? Report it as a variable named **max_error**. Plot the approximation errors for all four cases in one graph. \n",
    "\n",
    "*Optional*: Based on your result, what choice (interpolation grid vs. basis functions) has a bigger impact on the approximation error?"
   ]
  },
  {
   "cell_type": "code",
   "execution_count": null,
   "metadata": {
    "deletable": false,
    "nbgrader": {
     "cell_type": "code",
     "checksum": "e3d0c51e68d8f2405fae563cc0eb9959",
     "grade": false,
     "grade_id": "cell-33993095062f5c4a",
     "locked": false,
     "schema_version": 3,
     "solution": true,
     "task": false
    }
   },
   "outputs": [],
   "source": [
    "# YOUR CODE HERE"
   ]
  },
  {
   "cell_type": "code",
   "execution_count": null,
   "metadata": {
    "deletable": false,
    "editable": false,
    "nbgrader": {
     "cell_type": "code",
     "checksum": "227ca3da5a822cec7dfd211b1e7725b8",
     "grade": true,
     "grade_id": "cell-09ec6ba10d880484",
     "locked": true,
     "points": 2,
     "schema_version": 3,
     "solution": false,
     "task": false
    }
   },
   "outputs": [],
   "source": []
  }
 ],
 "metadata": {
  "kernelspec": {
   "display_name": "Python 3",
   "language": "python",
   "name": "python3"
  },
  "language_info": {
   "codemirror_mode": {
    "name": "ipython",
    "version": 3
   },
   "file_extension": ".py",
   "mimetype": "text/x-python",
   "name": "python",
   "nbconvert_exporter": "python",
   "pygments_lexer": "ipython3",
   "version": "3.7.5"
  }
 },
 "nbformat": 4,
 "nbformat_minor": 1
}
