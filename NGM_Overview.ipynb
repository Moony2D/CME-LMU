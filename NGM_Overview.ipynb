{
 "cells": [
  {
   "cell_type": "markdown",
   "metadata": {},
   "source": [
    "## The Neoclassical Growth Model: Overview"
   ]
  },
  {
   "cell_type": "markdown",
   "metadata": {},
   "source": [
    "### Deterministic Model\n",
    "\n",
    "- Utility function:\n",
    "\n",
    "\\begin{equation}\n",
    "    u(c, h) = \\frac{c^{1-\\nu}}{1-\\nu} - B \\frac{h^{1+\\eta}}{1+\\eta}\n",
    "\\end{equation}\n",
    "\n",
    "with $c$ denoting consumption and $h$ labor supply.\n",
    "\n",
    "- Production function:\n",
    "\n",
    "\\begin{equation}\n",
    "    f(k, h) = A k^\\alpha h^{1-\\alpha}\n",
    "\\end{equation}\n",
    "\n",
    "with $k$ denoting the capital stock.\n",
    "\n",
    "- Resource Constraint:\n",
    "\n",
    "\\begin{equation}\n",
    "    k_{t+1} + c_t = f(k_t, h_t) + (1 - \\delta) k_t = k_t^\\alpha h_t^{1-\\alpha} + (1 - \\delta) k_t\n",
    "\\end{equation}\n",
    "\n",
    "- Planner's Problem:\n",
    "\n",
    "\\begin{equation}\n",
    "    \\max_{\\left\\{c_t, k_{t+1}, h_t\\right\\}} \\sum^\\infty_{t = 0} \\beta^t u(c_t, h_t) \n",
    "\\end{equation}\n",
    "\n",
    "s.t. the resource constraint."
   ]
  },
  {
   "cell_type": "markdown",
   "metadata": {},
   "source": [
    "------------------------------------------------------------------------------------------"
   ]
  },
  {
   "cell_type": "markdown",
   "metadata": {},
   "source": [
    "#### Getting the first-order conditions\n",
    "\n",
    "To solve the model, we start with the Lagrangian. There are two possible approaches: (a) We can solve the problem as stated above, with the three choice variables $c_t, k_{t+1}, h_t$. This results in a *constrained optimization* problem (b) We can substitute the resource constraint for $c_t$ and solve the model choosing $k_{t+1}$ and $h_t$.\n",
    "\n",
    "With approach (a), note that we have one resource constraint per period. Hence, the Lagrangian reads\n",
    "\n",
    "\\begin{equation}\n",
    "\\begin{split}\n",
    "    \\mathcal{L} = \\sum^\\infty_{t = 0}\\left[ \\beta^t u(c_t, h_t) \\right] &+ \\lambda_0 \\left[ f(k_0, h_0) + (1 - \\delta) k_0 - c_0 - k_1 \\right]\\\\\n",
    "    &+ \\lambda_1 \\left[f(k_1, h_1) + (1 - \\delta) k_1 - c_1 - k_2 \\right] \\\\\n",
    "    &+ \\lambda_2 \\left[f(k_2, h_2) + (1 - \\delta) k_2 - c_2 - k_3 \\right] \\\\\n",
    "    &\\vdots\n",
    "\\end{split} \\tag{1}\n",
    "\\end{equation}\n",
    "Hence, we can pull the constraints into the summation sign:  \n",
    "\\begin{equation}\n",
    "\\begin{split}\n",
    "    \\mathcal{L} &= \\sum^\\infty_{t = 0} \\left\\{ \\beta^t u(c_t, h_t) + \\lambda_t \\left[ f(k_t, h_t) + (1 - \\delta) k_t - c_t - k_{t+1}\\right] \\right\\} \\\\\n",
    "    &= \\sum^\\infty_{t = 0} \\left\\{ \\beta^t \\left[\\frac{c_t^{1-\\nu}}{1-\\nu} - B \\frac{h_t^{1+\\eta}}{1+\\eta}\\right] + \\lambda_t \\left[ A k_t^\\alpha h_t^{1-\\alpha} + (1 - \\delta) k_t - c_t - k_{t+1}\\right] \\right\\} \n",
    "\\end{split}   \\tag{2}  \n",
    "\\end{equation}\n",
    "\n",
    "Taking f.o.c.'s with respect to $c_t$ and $h_t$ gives\n",
    "\n",
    "\\begin{align}\n",
    "    &c_t:\\quad \\frac{\\partial \\mathcal{L}}{\\partial c_t} = \\beta^t c_t^{-\\nu} - \\lambda_t = 0 \\\\\n",
    "    &h_t:\\quad \\frac{\\partial \\mathcal{L}}{\\partial h_t} = -\\beta^t Bh_t^{\\eta} + \\lambda_t (1 - \\alpha) A k_t^\\alpha h_t^{-\\alpha} = 0\n",
    "\\end{align}\n",
    "\n",
    "Substituting $\\lambda_t =  \\beta^t c_t^{-\\nu}$ in the second equation gives the *intratemporal optimality condition* for labor supply:\n",
    "<a id = 'intra'></a>\n",
    "\\begin{equation}\n",
    "    B h_t^{\\eta} = c_t^{-\\nu} (1 - \\alpha) A k_t^\\alpha h_t^{-\\alpha}  \\tag{INTRA}\n",
    "\\end{equation}\n",
    "\n",
    "When taking the f.o.c. with respect to $k_{t+1}$, note from (1) and (2) that $k_{t+1}$ appears in the Lagrangian both in the constraint for period $t$ as well as in constraint of period $t+1$, i.e. in the terms\n",
    "\n",
    "\\begin{equation}\n",
    "\\begin{split}\n",
    "    ... & + \\lambda_{t} \\left[ A k_t^\\alpha h_t^{1-\\alpha} + (1 - \\delta) k_t - c_t - k_{t+1}\\right] \\\\\n",
    "        & + \\lambda_{t+1} \\left[ A k_{t+1}^\\alpha h_{t+1}^{1-\\alpha} + (1 - \\delta) k_{t+1} - c_{t+1} - k_{t+2}\\right] + ...\n",
    "\\end{split}    \n",
    "\\end{equation}\n",
    "\n",
    "Hence, the f.o.c. reads\n",
    "\n",
    "$$\n",
    "    k_{t+1}:\\quad \\frac{\\partial \\mathcal{L}}{\\partial k_{t+1}}= -\\lambda_t + \\lambda_{t+1} \\left[\\alpha A k_{t+1}^{\\alpha-1} h_{t+1}^{1-\\alpha} + 1 -\\delta \\right] = 0.\n",
    "$$\n",
    "\n",
    "Substituting $\\lambda_t =  \\beta^t c_t^{-\\nu}$ and $\\lambda_{t+1} = \\beta^{t+1} c_{t+1}^{-\\nu}$ gives the Euler equation\n",
    "<a id = 'ee'></a>\n",
    "\\begin{equation}\n",
    "    -c_t^{-\\nu} + \\beta (c_{t+1})^{-\\nu} \\left[\\alpha A k_{t+1}^{\\alpha-1} h_{t+1}^{1-\\alpha} + 1 -\\delta \\right] = 0 \\tag{EE}  \n",
    "\\end{equation}\n",
    "\n"
   ]
  },
  {
   "cell_type": "markdown",
   "metadata": {},
   "source": [
    "------------------------------------------------------------------------------------------"
   ]
  },
  {
   "cell_type": "markdown",
   "metadata": {},
   "source": [
    "With approach (b), from the resource constraint \n",
    "\n",
    "$$\n",
    "    c_t = A k_t^\\alpha h_t^{1-\\alpha} + (1 - \\delta) k_t - k_{t+1},\n",
    "$$\n",
    "\n",
    "and hence the objective function reads\n",
    "\n",
    "\\begin{equation}\n",
    "    \\max_{\\left\\{k_{t+1}, h_t\\right\\}} \\sum^\\infty_{t = 0} \\beta^t \\left[\\frac{(A k_t^\\alpha h_t^{1-\\alpha} + (1 - \\delta) k_t - k_{t+1})^{1-\\nu}}{1-\\nu} - B \\frac{h_t^{1+\\eta}}{1+\\eta}\\right]\n",
    "\\end{equation}\n",
    "\n",
    "Since there are no other constraints, the Lagrangian can be written as\n",
    "\n",
    "$$\n",
    "    \\mathcal{L} = \\sum^\\infty_{t = 0} \\beta^t \\left[\\frac{(A k_t^\\alpha h_t^{1-\\alpha} + (1 - \\delta) k_t - k_{t+1})^{1-\\nu}}{1-\\nu} - B \\frac{h_t^{1+\\eta}}{1+\\eta}\\right]\n",
    "$$\n",
    "\n",
    "Taking f.o.c.'s, we have\n",
    "\n",
    "$$\n",
    "    h_t:\\quad \\frac{\\partial \\mathcal{L}}{\\partial h_t} = \\beta^t \\left[ -Bh_t^{\\eta} + \\left(A k_t^\\alpha h_t^{1-\\alpha} + (1 - \\delta) k_t - k_{t+1}\\right)^{-\\nu} (1 - \\alpha) A k_t^\\alpha h_t^{-\\alpha} \\right] = 0\n",
    "$$    \n",
    "\n",
    "which can be simplified to the same intratemporal optimality condition as [(INTRA)](#intra) above. Taking f.o.c.'s with respect to $k_{t+1}$, note that it again appears in period $t$ and $t+1$. Hence,\n",
    "\n",
    "$$\n",
    "    k_{t+1}:\\quad \\frac{\\partial \\mathcal{L}}{\\partial k_{t+1}} = \\beta^t c_t^{-\\nu}\\cdot (-1) + \\beta^{t+1} \\left(c_{t+1}\\right)^{-\\nu} \\left[ \\alpha A k_{t+1}^{\\alpha-1} h_{t+1}^{1-\\alpha} + 1 -\\delta\\right] = 0\n",
    "$$\n",
    "\n",
    "where I have used $c_t = A k_t^\\alpha h_t^{1-\\alpha} + (1 - \\delta) k_t - k_{t+1}$ and $c_{t+1} = A k_{t+1}^\\alpha h_t^{1-\\alpha} + (1 - \\delta) k_t - k_{t+1}$ to save on notation. Again, this can be simplified to the Euler equation [(EE)](#ee) above.\n",
    "\n"
   ]
  },
  {
   "cell_type": "markdown",
   "metadata": {},
   "source": [
    "------------------------------------------------------------------------------------------"
   ]
  },
  {
   "cell_type": "markdown",
   "metadata": {},
   "source": [
    "As a final note, if we have additional choice variables (e.g. an additional production factor $x_t$), we have additional f.o.c.'s, e.g. $\\frac{\\partial \\mathcal{L}}{\\partial x_t}$, which we can simplify to *additional optimality conditions*, alongside [(EE)](#ee) and [(INTRA)](#intra). "
   ]
  },
  {
   "cell_type": "code",
   "execution_count": null,
   "metadata": {},
   "outputs": [],
   "source": []
  }
 ],
 "metadata": {
  "kernelspec": {
   "display_name": "Python 3",
   "language": "python",
   "name": "python3"
  },
  "language_info": {
   "codemirror_mode": {
    "name": "ipython",
    "version": 3
   },
   "file_extension": ".py",
   "mimetype": "text/x-python",
   "name": "python",
   "nbconvert_exporter": "python",
   "pygments_lexer": "ipython3",
   "version": "3.7.5"
  }
 },
 "nbformat": 4,
 "nbformat_minor": 2
}
