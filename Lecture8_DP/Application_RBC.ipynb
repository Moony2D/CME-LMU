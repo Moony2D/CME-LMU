{
 "cells": [
  {
   "cell_type": "markdown",
   "metadata": {
    "slideshow": {
     "slide_type": "slide"
    }
   },
   "source": [
    "# Computational Methods in Economics\n",
    "\n",
    "## Application: The RBC Model"
   ]
  },
  {
   "cell_type": "code",
   "execution_count": 1,
   "metadata": {
    "slideshow": {
     "slide_type": "skip"
    }
   },
   "outputs": [
    {
     "name": "stdout",
     "output_type": "stream",
     "text": [
      "Last update: 2019-03-11 12:57:18.402999\n"
     ]
    }
   ],
   "source": [
    "# Author: Alex Schmitt (schmitt@ifo.de)\n",
    "\n",
    "import datetime\n",
    "print('Last update: ' + str(datetime.datetime.today()))"
   ]
  },
  {
   "cell_type": "markdown",
   "metadata": {
    "slideshow": {
     "slide_type": "skip"
    }
   },
   "source": [
    "### Preliminaries\n",
    "\n",
    "#### Import Modules"
   ]
  },
  {
   "cell_type": "code",
   "execution_count": 2,
   "metadata": {
    "slideshow": {
     "slide_type": "skip"
    }
   },
   "outputs": [],
   "source": [
    "import numpy as np\n",
    "import scipy.optimize\n",
    "\n",
    "import matplotlib.pyplot as plt\n",
    "%matplotlib inline\n",
    "import seaborn\n",
    "\n",
    "import funapprox_cme as fa"
   ]
  },
  {
   "cell_type": "markdown",
   "metadata": {
    "slideshow": {
     "slide_type": "subslide"
    }
   },
   "source": [
    "## This Lecture\n",
    "\n",
    "- [Introduction](#introduction)\n",
    "- [Simple Approach: Discrete Random Variable](#discrete)\n",
    "- [Continuous Random Variable](#cont)"
   ]
  },
  {
   "cell_type": "markdown",
   "metadata": {
    "slideshow": {
     "slide_type": "skip"
    }
   },
   "source": [
    "The material in this lecture is partly based on DeJong and Dave (2011), *Structural Macroeconometrics* (second edition), chapters 3 and 11."
   ]
  },
  {
   "cell_type": "markdown",
   "metadata": {
    "slideshow": {
     "slide_type": "skip"
    }
   },
   "source": [
    "--------------------------------------------------------------------------------------------------------------------------------\n",
    "<a id = \"introduction\"></a>"
   ]
  },
  {
   "cell_type": "markdown",
   "metadata": {
    "slideshow": {
     "slide_type": "slide"
    }
   },
   "source": [
    "### Introduction\n",
    "\n",
    "The *Real Business Cycle* (RBC) model has been a staple of modern macroeconomics since it was introduced in the seminal paper by Kydland and Prescott (1982). "
   ]
  },
  {
   "cell_type": "markdown",
   "metadata": {
    "slideshow": {
     "slide_type": "subslide"
    }
   },
   "source": [
    "The question Kydland and Prescott addressed was whether if the RBC model, which does not feature any market imperfections but fully flexible prices, could account for observed patterns of business-cycle activities under the constraint that it would also capture important characteristics of (long-run) economic growth. "
   ]
  },
  {
   "cell_type": "markdown",
   "metadata": {
    "slideshow": {
     "slide_type": "subslide"
    }
   },
   "source": [
    "The key features of economic growth that the model should account for are:\n",
    "- balanced growth: constant growth rates for output, consumption and investment in the long run;\n",
    "- constant marginal productivities of capital and labor;\n",
    "- and no long-term growth in the labor supply.\n"
   ]
  },
  {
   "cell_type": "markdown",
   "metadata": {
    "slideshow": {
     "slide_type": "subslide"
    }
   },
   "source": [
    "The RBC model is essentially a *stochastic* version of the NGM, which we have seen at multiple occasions in this course. Compared to this *deterministic* model, it contains uncertainty with respect to the evolution of technological progress. \n",
    "\n",
    "Formally, this uncertainty is captured by a *random variable* $z_t$ that represents a \"productivity\" or \"technology shock\" and affects output multiplicatively. "
   ]
  },
  {
   "cell_type": "markdown",
   "metadata": {
    "slideshow": {
     "slide_type": "subslide"
    }
   },
   "source": [
    "The RBC encapsulates the following problem:\n",
    "\n",
    "\\begin{equation}\n",
    "    \\max_{\\left\\{c_t, k_{t+1}, h_{t} \\right\\}_{t = 0}^\\infty} \\mathbb{E} \\sum^\\infty_{t = 0} \\beta^t u(c_t, h_t)\n",
    "\\end{equation}\n",
    "\n",
    "s.t.\n",
    "\n",
    "\\begin{equation}\n",
    "    c_t + k_{t + 1} =  z_t f(k_t, h_t) + (1 - \\delta) k_t\n",
    "\\end{equation}"
   ]
  },
  {
   "cell_type": "markdown",
   "metadata": {
    "slideshow": {
     "slide_type": "subslide"
    }
   },
   "source": [
    "Note that the key features of long-term economic growth outlined above constrain the modeler in the choice of the per-period utility function $u$ and the production function $f$, as well as in how to model stochastic process of $z_t$.\n",
    "\n",
    "For production, we assume a constant-returns-to-scale function (e.g. Cobb-Douglas), while for utility, we consider two different alternatives below."
   ]
  },
  {
   "cell_type": "markdown",
   "metadata": {
    "slideshow": {
     "slide_type": "subslide"
    }
   },
   "source": [
    "Regarding $z_t$, we will see two approaches to solving the problem, depending on whether we model $z_t$ as a discrete or continuous random variable. The former choice simplifies the solution of the model, while the second one is more realistic."
   ]
  },
  {
   "cell_type": "markdown",
   "metadata": {
    "slideshow": {
     "slide_type": "subslide"
    }
   },
   "source": [
    "Before moving on, that should be noted that the RBC model is by no means the best way of explaining business-cycle fluctuations. In fact, the very idea of exogenous technology shocks has been widely critisized, and there is a large literature suggesting alternative models featuring market imperfections, price adjustment and other frictions.\n",
    "\n",
    "The RBC model is basically a first \"simple\" step in analyzing short-run economic activity."
   ]
  },
  {
   "cell_type": "markdown",
   "metadata": {
    "slideshow": {
     "slide_type": "skip"
    }
   },
   "source": [
    "--------------------------------------------------------------------------------------------------------------------------------\n",
    "<a id = \"discrete\"></a>"
   ]
  },
  {
   "cell_type": "markdown",
   "metadata": {
    "slideshow": {
     "slide_type": "slide"
    }
   },
   "source": [
    "### \"Simple\" Approach: Discrete Random Variable\n",
    "\n",
    "Consider the problem above, assuming the by now well-known functional forms for utility and production:\n",
    "\n",
    "\\begin{equation}\n",
    "    \\max_{\\left\\{c_t, k_{t+1}, h_{t} \\right\\}_{t = 0}^\\infty} \\mathbb{E} \\sum^\\infty_{t = 0} \\beta^t \\left[\\frac{c_t^{1 - \\nu}}{1 - \\nu} - B \\frac{h_t^{1+\\eta}}{1+\\eta}\\right]\n",
    "\\end{equation}\n",
    "\n",
    "s.t.\n",
    "\n",
    "\\begin{equation}\n",
    "    c_t + k_{t + 1} =  z_t A k_t^\\alpha h_{t}^{1-\\alpha} + (1 - \\delta) k_t\n",
    "\\end{equation}\n",
    "\n",
    "and assume that $z_t \\in \\{0.98, 1.02\\}$. "
   ]
  },
  {
   "cell_type": "markdown",
   "metadata": {
    "slideshow": {
     "slide_type": "subslide"
    }
   },
   "source": [
    "In other words, $z_t$ is a discrete random variable whose \"support\" consists of two values, a low state $z_0 = 0.98$ and a high state $z_1 = 1.02$.\n",
    "\n",
    "We assume that these states are \"persistent\" in the sense that if the economy is in one state in period $t$, it is more likely to be in the same state in period $t+1$, rather than to moving to a different state. "
   ]
  },
  {
   "cell_type": "markdown",
   "metadata": {
    "slideshow": {
     "slide_type": "subslide"
    }
   },
   "source": [
    "We can formalize this with a *probability transition matrix*:\n",
    "\n",
    "\\begin{equation}\n",
    "    P =  \\left[\\begin{array}{cc}\n",
    "    p_{00} & p_{01} \\\\\n",
    "    p_{10} & p_{11} \\\\\n",
    "    \\end{array}\\right]\n",
    "\\end{equation}\n",
    "\n",
    "The element $p_{ij}$ denotes the constant probability to move from state $i$ to state $j$ between two periods. Hence, it has to hold that $p_{00} + p_{01} = 1$ and $p_{10} + p_{11} = 1$."
   ]
  },
  {
   "cell_type": "markdown",
   "metadata": {
    "slideshow": {
     "slide_type": "subslide"
    }
   },
   "source": [
    "Before discussing dynamic programming, think about solving this model using a sequential approach. \n",
    "\n",
    "Why is this much more computationally intensive than for the deterministic model we have seen before? In other words, how many variables would the algorithm have to find when solving the model for a finite number of periods $T$?"
   ]
  },
  {
   "cell_type": "markdown",
   "metadata": {
    "slideshow": {
     "slide_type": "subslide"
    }
   },
   "source": [
    "Note that this model has two states, $k$ and $z$. However, in contrast to the approach below, $z$ is not a continuous variable, but can only take a *discrete* number of values (here 2). \n",
    "\n",
    "Hence, one approach to dynamic programming in this setting is to approximate the value function as a univariate function, but have two \"instances\" of $V$, one when the economy is in state 0 and one in state 1. "
   ]
  },
  {
   "cell_type": "markdown",
   "metadata": {
    "slideshow": {
     "slide_type": "subslide"
    }
   },
   "source": [
    "In other words, we have approximations $\\hat{V}^{(it)}_0(k) = \\hat{V}(k; a^{(it)}_0)$ and $\\hat{V}^{(it)}_1(k) = \\hat{V}(k; a^{(it)}_1)$. \n",
    "\n",
    "This implies that the fitting step in every iteration of our value function iteration algorithm includes finding *two* vectors of basis coefficients."
   ]
  },
  {
   "cell_type": "markdown",
   "metadata": {
    "slideshow": {
     "slide_type": "subslide"
    }
   },
   "source": [
    "Moreover, note that the continuation value on the right hand side of the Bellman equation is given by the expectation over the possible states. In other words, when we are in state 0, we remain in state 0 with probability $p_{00}$ and move to state 1 with probability $p_{01}$. Hence, the expected continuation value is \n",
    "\n",
    "\\begin{equation}\n",
    "    p_{00} \\hat{V}(k'; a^{(it)}_0) + p_{01} \\hat{V}(k'; a^{(it)}_1)\n",
    "\\end{equation}\n",
    "\n",
    "and analogous if the economy is in state 1. "
   ]
  },
  {
   "cell_type": "markdown",
   "metadata": {
    "slideshow": {
     "slide_type": "subslide"
    }
   },
   "source": [
    "Hence, the full Bellman equation to be used for the VFI algorithm when being in state $j \\in \\{0, 1\\}$ reads \n",
    "\n",
    "\\begin{equation}\n",
    "    \\hat{V}^{(it + 1)}_j(k) \\leftarrow \\max_{k', h} u(z_j f(k, h) + (1 - \\delta) k - k') + \\beta\\left[p_{j0} \\hat{V}^{(it)}_0(k') + p_{j1} \\hat{V}^{(it)}_1(k')\\right]\n",
    "\\end{equation}\n",
    "\n",
    "In other words, we essentially have *two Bellman equations*, one for each state. "
   ]
  },
  {
   "cell_type": "markdown",
   "metadata": {
    "slideshow": {
     "slide_type": "subslide"
    }
   },
   "source": [
    "In the following, we solve the problem and derive the approximate policy functions. Apart from having to deal with two value functions, the steps are the same as in the deterministic model.\n",
    "\n",
    "We start by defining the parameter values and the auxilitary functions."
   ]
  },
  {
   "cell_type": "code",
   "execution_count": 3,
   "metadata": {
    "slideshow": {
     "slide_type": "subslide"
    }
   },
   "outputs": [],
   "source": [
    "## utility\n",
    "beta = 0.8      # discount factor\n",
    "nu = 2       # risk-aversion coefficient for consumption\n",
    "eta = 1         # elasticity parameter for labor supply\n",
    "\n",
    "## production\n",
    "alpha = 0.25\n",
    "delta = 0.1\n",
    "## derived\n",
    "A = (1 - beta * (1 - delta))/(alpha*beta) # normalization parameter for production function => steady state k = 1\n",
    "B = (1 - alpha) * A * (A - delta)**(-nu)      # parameter for utility function => steady state h = 1\n",
    "## initial capital stock\n",
    "k0 = 1\n",
    "\n",
    "params = {'beta': beta, 'nu': nu, 'eta': eta, \n",
    "          'alpha': alpha, 'delta': delta, 'A': A, 'B': B }"
   ]
  },
  {
   "cell_type": "code",
   "execution_count": 4,
   "metadata": {
    "slideshow": {
     "slide_type": "subslide"
    }
   },
   "outputs": [],
   "source": [
    "def u(c, h, pm):\n",
    "    \"\"\"\n",
    "    Evaluates an additive-separable utility function with consumption and labor as arguments\n",
    "    \"\"\"\n",
    "    return c**(1 - pm['nu'])/(1 - pm['nu']) - pm['B'] * h**(1 + pm['eta'])/(1 + pm['eta'])\n",
    "\n",
    "\n",
    "def f(k, h, pm):\n",
    "    \"\"\"\n",
    "    Evaluates a Cobb-Douglas production function with coefficient alpha and shift parameter A, for two inputs k and h\n",
    "    \"\"\"\n",
    "    return pm['A'] * k**pm['alpha'] * h**(1 - pm['alpha'])"
   ]
  },
  {
   "cell_type": "raw",
   "metadata": {
    "slideshow": {
     "slide_type": "subslide"
    }
   },
   "source": [
    "For the random variable and its transition matrix, we use the following values:"
   ]
  },
  {
   "cell_type": "code",
   "execution_count": 5,
   "metadata": {
    "slideshow": {
     "slide_type": "-"
    }
   },
   "outputs": [],
   "source": [
    "## stochastic states and transition matrix\n",
    "z = [0.98 , 1.02]\n",
    "P = np.array([[0.8, 0.2],\n",
    "              [0.2, 0.8]])"
   ]
  },
  {
   "cell_type": "markdown",
   "metadata": {
    "slideshow": {
     "slide_type": "subslide"
    }
   },
   "source": [
    "Next, we choose a grid around the steady state value for capital and compute an initial guess for the value function\n",
    "\n",
    "Note that we skip computing the steady state here; from the parameterization of **'A'** and **'B'** above, we know that the steady state is given by $(k_s, h_s) = (1, 1)$."
   ]
  },
  {
   "cell_type": "code",
   "execution_count": 6,
   "metadata": {},
   "outputs": [],
   "source": [
    "m = 10\n",
    "k_min = 0.7\n",
    "k_max = 1.3\n",
    "\n",
    "k_grid = fa.chebgrid(k_min, k_max, m)"
   ]
  },
  {
   "cell_type": "code",
   "execution_count": 7,
   "metadata": {
    "slideshow": {
     "slide_type": "subslide"
    }
   },
   "outputs": [],
   "source": [
    "## set the degree of approximation\n",
    "n = m - 1\n",
    "\n",
    "## initial guess for VF\n",
    "V0 = (alpha / (1 - alpha * beta)) * np.log(k_grid )\n",
    "## compute implied basis coefficients\n",
    "a_init = fa.chebapprox(V0, n)"
   ]
  },
  {
   "cell_type": "markdown",
   "metadata": {
    "slideshow": {
     "slide_type": "subslide"
    }
   },
   "source": [
    "We then define the objective function for the optimization step, which is given by the RHS of Bellman equation. As outlined above, we computed the *expected* continuation value."
   ]
  },
  {
   "cell_type": "code",
   "execution_count": 8,
   "metadata": {
    "slideshow": {
     "slide_type": "subslide"
    }
   },
   "outputs": [],
   "source": [
    "def vf_rhs(x, k, z, z_ind, a_0, a_1, k_min, k_max, P, pm):\n",
    "    \"\"\"\n",
    "    RHS of the Bellman equation\n",
    "    \"\"\"\n",
    "    kp = np.exp(x[0])\n",
    "    h = np.exp(x[1])\n",
    "\n",
    "    ## continuation value if in state 0 in period t+1\n",
    "    cv0 = np.polynomial.chebyshev.chebval(fa.chebconvert(kp, k_min, k_max), a_0)\n",
    "    ## continuation value if in state 1 in period t+1\n",
    "    cv1 = np.polynomial.chebyshev.chebval(fa.chebconvert(kp, k_min, k_max), a_1)\n",
    "    \n",
    "    return - ( u(z[z_ind] * f(k, h, pm) + (1 - pm['delta']) * k - kp, h, pm) \\\n",
    "                + pm['beta'] * ( P[z_ind, 0] * cv0 + P[z_ind, 1] * cv1  ) )"
   ]
  },
  {
   "cell_type": "markdown",
   "metadata": {
    "slideshow": {
     "slide_type": "subslide"
    }
   },
   "source": [
    "When implementing the optimization step, we loop not only over all the values in **k_grid**, but also over the two states:"
   ]
  },
  {
   "cell_type": "code",
   "execution_count": 9,
   "metadata": {},
   "outputs": [],
   "source": [
    "def opt_step(k_grid, obj_fun, x0, z, a_0, a_1, k_min, k_max, P, pm):     \n",
    "    \"\"\"\n",
    "    Function that loops over all states (= elements in k_grid) and solves the respective optimization problem (obj_fun, initial guess x0)\n",
    "    for a given vector of Chebyshev basis coefficients a_ch\n",
    "    -> uses Scipy's optimize module\n",
    "    \"\"\"\n",
    "    ## initialize policy and value functions\n",
    "    V = np.zeros((m, len(z)))\n",
    "    K = np.zeros((m, len(z)))\n",
    "    H = np.zeros((m, len(z)))\n",
    "    \n",
    "    ## loop\n",
    "    for z_ind in range(len(z)):\n",
    "        for (ind, k) in enumerate(k_grid):\n",
    "        ## optimization step\n",
    "            res = scipy.optimize.minimize(obj_fun, x0, args = (k, z, z_ind, a_0, a_1, k_min, k_max, P, pm), method ='BFGS') \n",
    "            V[ind, z_ind] = - res.fun\n",
    "            K[ind, z_ind], H[ind, z_ind] = np.exp( res.x )\n",
    "\n",
    "    return V, K, H"
   ]
  },
  {
   "cell_type": "markdown",
   "metadata": {
    "slideshow": {
     "slide_type": "subslide"
    }
   },
   "source": [
    "We can now solve model using value function iteration. Note that in the fitting step (and when evaluating the stopping rule and updating coefficients), we need to perform the operations for both value functions."
   ]
  },
  {
   "cell_type": "code",
   "execution_count": 10,
   "metadata": {},
   "outputs": [],
   "source": [
    "## initialize initial guess for basis coefficients and optimization\n",
    "a_0 = a_init.copy()\n",
    "a_1 = a_init.copy()\n",
    "x0 = (0, 0)\n",
    "\n",
    "eps = 1\n",
    "it = 0\n",
    "maxit = 100"
   ]
  },
  {
   "cell_type": "code",
   "execution_count": 11,
   "metadata": {
    "slideshow": {
     "slide_type": "subslide"
    }
   },
   "outputs": [
    {
     "name": "stdout",
     "output_type": "stream",
     "text": [
      "85 8.020605519866135e-09\n"
     ]
    }
   ],
   "source": [
    "while eps > 1e-8 and it < maxit:\n",
    "    it += 1\n",
    "    ## optimization step\n",
    "    V, K, H = opt_step(k_grid, vf_rhs, x0, z, a_0, a_1, k_min, k_max, P, params)\n",
    "    ## fitting step\n",
    "    a_0_new = fa.chebapprox(V[:, 0], n)\n",
    "    a_1_new = fa.chebapprox(V[:, 1], n)\n",
    "    ## compute convergence criterion\n",
    "    eps0 = np.linalg.norm(a_0_new - a_0)\n",
    "    eps1 = np.linalg.norm(a_1_new - a_1) \n",
    "    eps = max(eps0, eps1)\n",
    "    ## update coefficients\n",
    "    a_0 = a_0_new.copy()\n",
    "    a_1 = a_1_new.copy()\n",
    "\n",
    "print(it, eps)"
   ]
  },
  {
   "cell_type": "markdown",
   "metadata": {
    "slideshow": {
     "slide_type": "subslide"
    }
   },
   "source": [
    "Finally, we can approximate policy functions. Note we have four policy functions, one per variable (labor and capital) per state. We use dictionaries to store them:"
   ]
  },
  {
   "cell_type": "code",
   "execution_count": 12,
   "metadata": {},
   "outputs": [],
   "source": [
    "a_k, a_h = {}, {}\n",
    "for j in range(len(z)):    \n",
    "    a_k[j] = fa.chebapprox(K[:, j], n)\n",
    "    a_h[j] = fa.chebapprox(H[:, j], n)"
   ]
  },
  {
   "cell_type": "code",
   "execution_count": 13,
   "metadata": {
    "slideshow": {
     "slide_type": "subslide"
    }
   },
   "outputs": [
    {
     "data": {
      "text/plain": [
       "{0: array([ 9.84641696e-01,  2.00892012e-01, -1.01443410e-03,  1.90267009e-04,\n",
       "        -2.07885325e-05,  2.47395143e-06, -9.41970729e-07,  8.01481658e-07,\n",
       "        -1.15083401e-06,  8.27874254e-07]),\n",
       " 1: array([ 1.01360768e+00,  2.04090992e-01, -1.21578011e-03,  2.06801650e-04,\n",
       "        -2.09826045e-05,  1.29781557e-06,  9.08415059e-07,  3.73529372e-07,\n",
       "         2.74483840e-06, -1.48683625e-06])}"
      ]
     },
     "execution_count": 13,
     "metadata": {},
     "output_type": "execute_result"
    }
   ],
   "source": [
    "a_k"
   ]
  },
  {
   "cell_type": "markdown",
   "metadata": {
    "slideshow": {
     "slide_type": "subslide"
    }
   },
   "source": [
    "With the policy functions, we can simulate the economy, here over $T = 80$ periods. "
   ]
  },
  {
   "cell_type": "code",
   "execution_count": 14,
   "metadata": {},
   "outputs": [],
   "source": [
    "## number of periods\n",
    "T = 80\n",
    "\n",
    "## initialize arrays to keep track of time series\n",
    "kt = np.zeros(T+1)\n",
    "ht = np.zeros(T)\n",
    "zt = np.zeros(T+1, dtype=np.int)\n",
    "\n",
    "## initial capital stock is given\n",
    "kt[0] = k0\n",
    "## initial shock \n",
    "zt[0] = 0"
   ]
  },
  {
   "cell_type": "markdown",
   "metadata": {
    "slideshow": {
     "slide_type": "subslide"
    }
   },
   "source": [
    "To simulate a sequence of shocks, $z_t$, we use NumPy's **np.random.uniform** function, which draws from a uniform distribution. To keep results the same over different runs, we fix the \"seed\" of NumPy's random number generator: "
   ]
  },
  {
   "cell_type": "code",
   "execution_count": 15,
   "metadata": {},
   "outputs": [],
   "source": [
    "np.random.seed(1)"
   ]
  },
  {
   "cell_type": "code",
   "execution_count": 16,
   "metadata": {
    "slideshow": {
     "slide_type": "subslide"
    }
   },
   "outputs": [],
   "source": [
    "## loop over time and use policy function approximations to fill kt and ht\n",
    "for t in range(T):\n",
    "    kt[t+1] = np.polynomial.chebyshev.chebval( fa.chebconvert(kt[t], k_min, k_max), a_k[zt[t]] )\n",
    "    ht[t] = np.polynomial.chebyshev.chebval( fa.chebconvert(kt[t], k_min, k_max), a_h[zt[t]] )\n",
    "    \n",
    "    ## draw shocks\n",
    "    draw = np.random.uniform()       \n",
    "    if draw < P[zt[t], 0]:\n",
    "        zt[t+1] = 0\n",
    "    else:\n",
    "        zt[t+1] = 1      "
   ]
  },
  {
   "cell_type": "markdown",
   "metadata": {
    "slideshow": {
     "slide_type": "subslide"
    }
   },
   "source": [
    "Plotting the evolution of capital and labor over time, we see a lot of rather steep jumps in both directions. This is a typical feature when having only two states: whenever the economy jumps, say, from the low to the high state, investment in capital increases (with a one-period delay) while labor supply falls, and vice versa. "
   ]
  },
  {
   "cell_type": "code",
   "execution_count": 17,
   "metadata": {
    "slideshow": {
     "slide_type": "subslide"
    }
   },
   "outputs": [
    {
     "data": {
      "text/plain": [
       "<matplotlib.collections.LineCollection at 0x1a1a44ca90>"
      ]
     },
     "execution_count": 17,
     "metadata": {},
     "output_type": "execute_result"
    },
    {
     "data": {
      "image/png": "[encoded data removed]",
      "text/plain": [
       "<Figure size 432x288 with 3 Axes>"
      ]
     },
     "metadata": {
      "needs_background": "light"
     },
     "output_type": "display_data"
    }
   ],
   "source": [
    "## plot optimal plans and check for convergence to steady state\n",
    "fig, ax = plt.subplots(3,1)\n",
    "ax[0].plot(range(T), zt[:-1])\n",
    "ax[1].plot(range(T), kt[:-1])\n",
    "ax[1].hlines(1, 0, T)\n",
    "ax[2].plot(range(T), ht)\n",
    "ax[2].hlines(1, 0, T)   "
   ]
  },
  {
   "cell_type": "markdown",
   "metadata": {
    "slideshow": {
     "slide_type": "skip"
    }
   },
   "source": [
    "--------------------------------------------------------------------------------------------------------------------------------\n",
    "<a id = \"cont\"></a>"
   ]
  },
  {
   "cell_type": "markdown",
   "metadata": {
    "slideshow": {
     "slide_type": "slide"
    }
   },
   "source": [
    "### Continuous Random Variable\n",
    "\n",
    "In \"reality\" (assuming we believe in the existence of technology shocks), $z_t$ can take more than two (or any discrete number of) values. In other words, $z_t$ should be modeled as a *continuous* random variable."
   ]
  },
  {
   "cell_type": "markdown",
   "metadata": {
    "slideshow": {
     "slide_type": "subslide"
    }
   },
   "source": [
    "The usual assumption is that the log of the technology shock follows a first order autoregressive - AR(1) - process:\n",
    "\n",
    "\\begin{equation}\n",
    "    \\ln z_{t+1} = (1 - \\rho) \\ln \\bar{z} + \\rho \\ln z_{t} + \\epsilon_{t+1},\\quad \\epsilon_{t+1} \\sim NID(0, \\sigma^2)\n",
    "\\end{equation}"
   ]
  },
  {
   "cell_type": "markdown",
   "metadata": {
    "slideshow": {
     "slide_type": "subslide"
    }
   },
   "source": [
    "Hence, the source of the uncertainty is actually $\\epsilon_{t+1}$ (which is not observed in period $t$). $\\epsilon_t$ follows a a \"white noise\" process with zero mean and constant variance $\\sigma^2$. Note that the expected value of $\\ln z_t$ is\n",
    "\n",
    "\\begin{equation}\n",
    "     \\mu = (1 - \\rho) \\ln \\bar{z}/ (1 - \\rho) = \\ln \\bar{z}\n",
    "\\end{equation}    \n",
    "\n",
    "The following function implements an AR(1) process; that is, it creates an array containing the evolution of $w_t = \\ln z_t$ over time. "
   ]
  },
  {
   "cell_type": "code",
   "execution_count": 18,
   "metadata": {
    "slideshow": {
     "slide_type": "subslide"
    }
   },
   "outputs": [],
   "source": [
    "## implement AR(1)\n",
    "\n",
    "def ar1(T, rho, sigma, wbar = 0):\n",
    "    w = np.zeros(T)\n",
    "    ## initialize at wbar\n",
    "    w[0] = wbar\n",
    "    \n",
    "    for t in range(1,T):        \n",
    "        w[t] = (1 - rho) * wbar + rho * w[t-1] + sigma * np.random.normal()\n",
    "        \n",
    "    return w"
   ]
  },
  {
   "cell_type": "code",
   "execution_count": 19,
   "metadata": {
    "slideshow": {
     "slide_type": "subslide"
    }
   },
   "outputs": [
    {
     "data": {
      "text/plain": [
       "[<matplotlib.lines.Line2D at 0x1a1a52ac18>]"
      ]
     },
     "execution_count": 19,
     "metadata": {},
     "output_type": "execute_result"
    },
    {
     "data": {
      "image/png": "[encoded data removed]",
      "text/plain": [
       "<Figure size 432x288 with 1 Axes>"
      ]
     },
     "metadata": {
      "needs_background": "light"
     },
     "output_type": "display_data"
    }
   ],
   "source": [
    "plt.plot(np.exp( ar1(50, 0.78, 0.0067) ) )"
   ]
  },
  {
   "cell_type": "markdown",
   "metadata": {
    "slideshow": {
     "slide_type": "subslide"
    }
   },
   "source": [
    "In the following, we use the same calibration - i.e., parameter values and functional forms - as above. The only information we need to add are values for the AR(1) parameter and the standard deviation of the white noise:"
   ]
  },
  {
   "cell_type": "code",
   "execution_count": 20,
   "metadata": {},
   "outputs": [],
   "source": [
    "rho = 0.78\n",
    "sigma = 0.0067\n",
    "\n",
    "params['rho'] = rho\n",
    "params['sigma'] = sigma"
   ]
  },
  {
   "cell_type": "markdown",
   "metadata": {
    "slideshow": {
     "slide_type": "subslide"
    }
   },
   "source": [
    "Before moving to solving the model, as a side note, there are essentially two steps in a \"proper\" RBC analysis that we omit here in the interest of time: \n",
    "- First, we have started with a stationary - or *detrended* - model (the same model that we have used throughout the course). A complete analysis would start with a more general, non-stationary model, and then transform it into a stationary one, along the lines of question 1 in the last problem set."
   ]
  },
  {
   "cell_type": "markdown",
   "metadata": {
    "slideshow": {
     "slide_type": "subslide"
    }
   },
   "source": [
    "- Second, we have not really \"calibrated\" the model, but instead assumed (somewhat reasonable) parameter values and functional forms. A standard analysis would include a more careful calibration step. Compare DeJong and Dave (2011), chapter 11, for more information. With respect tp the functional forms, note that they should be chosen in a way that the long-term characteristics of economic growth outlined above are satisfied."
   ]
  },
  {
   "cell_type": "markdown",
   "metadata": {
    "slideshow": {
     "slide_type": "subslide"
    }
   },
   "source": [
    "For solving the model using dynamic programming, note that we have two state variables, one endogenous ($k_t$) and one exogenous ($z_t$). Hence, we will have to deal with function approximation in two dimensions. \n",
    "\n",
    "For capital, we can define the Chebyshev nodes in the usual way."
   ]
  },
  {
   "cell_type": "code",
   "execution_count": 21,
   "metadata": {
    "slideshow": {
     "slide_type": "subslide"
    }
   },
   "outputs": [],
   "source": [
    "m = 10\n",
    "k_min = 0.7\n",
    "k_max = 1.3\n",
    "\n",
    "k_grid = fa.chebgrid(k_min, k_max, m)"
   ]
  },
  {
   "cell_type": "markdown",
   "metadata": {
    "slideshow": {
     "slide_type": "subslide"
    }
   },
   "source": [
    "In addition, we also need to define a Cheyshev grid for the productivity shock. Recall that we aim for end points that bracket all realizations of $z_t$. \n",
    "\n",
    "Since $z_t$ follows a random process, of course we cannot guarantee that it will never move outside the grid. That said, the following code provides a good \"rule of thumb\" for constructing the Chebyshev grid.  "
   ]
  },
  {
   "cell_type": "code",
   "execution_count": 22,
   "metadata": {
    "slideshow": {
     "slide_type": "subslide"
    }
   },
   "outputs": [
    {
     "name": "stdout",
     "output_type": "stream",
     "text": [
      "[0.88681282 0.89861957 0.92107735 0.95198783 0.98832529 1.02653274\n",
      " 1.0628702  1.09378068 1.11623846 1.12804521]\n"
     ]
    }
   ],
   "source": [
    "epsmax = 4 * sigma\n",
    "z_max = np.exp(epsmax/(1-rho))\n",
    "z_min = 1/z_max\n",
    "\n",
    "z_grid = fa.chebgrid(z_min, z_max, 10)\n",
    "print(z_grid)"
   ]
  },
  {
   "cell_type": "markdown",
   "metadata": {
    "slideshow": {
     "slide_type": "subslide"
    }
   },
   "source": [
    "We then use **meshgrid** to construct a grid in two dimensions. Next, we get an initial guess for the basis coefficients in the usual way."
   ]
  },
  {
   "cell_type": "code",
   "execution_count": 23,
   "metadata": {
    "slideshow": {
     "slide_type": "-"
    }
   },
   "outputs": [],
   "source": [
    "Z_grid, K_grid = np.meshgrid(z_grid, k_grid)"
   ]
  },
  {
   "cell_type": "code",
   "execution_count": 24,
   "metadata": {
    "slideshow": {
     "slide_type": "-"
    }
   },
   "outputs": [],
   "source": [
    "## set the degree of approximation\n",
    "n = m - 1\n",
    "## initial guess for VF\n",
    "V0 = (alpha / (1 - alpha * beta)) * np.log(K_grid )\n",
    "## compute implied basis coefficients\n",
    "a0 = fa.chebapprox_2d(V0, [n, n])"
   ]
  },
  {
   "cell_type": "markdown",
   "metadata": {
    "slideshow": {
     "slide_type": "subslide"
    }
   },
   "source": [
    "For using numerical integration below, we also need $N$ Gauss-Hermite quadrature nodes and weights:"
   ]
  },
  {
   "cell_type": "code",
   "execution_count": 25,
   "metadata": {
    "slideshow": {
     "slide_type": "-"
    }
   },
   "outputs": [
    {
     "name": "stdout",
     "output_type": "stream",
     "text": [
      "[-2.93063742 -1.98165676 -1.15719371 -0.38118699  0.38118699  1.15719371\n",
      "  1.98165676  2.93063742]\n"
     ]
    }
   ],
   "source": [
    "N = 8\n",
    "nodes, weights = np.polynomial.hermite.hermgauss(N)\n",
    "print(nodes)"
   ]
  },
  {
   "cell_type": "markdown",
   "metadata": {
    "slideshow": {
     "slide_type": "subslide"
    }
   },
   "source": [
    "Next, we define the objective for the optimization problem on the right hand side of the Bellman equation. The continuation value depends on next period's productivity shock, $z_{t + 1}$, which is unknown in the current period $t$.\n",
    "\n",
    "Hence, we have the expected value over $V(k_{t+1}, z_{t +1})$:\n",
    "\n",
    "\\begin{equation}\n",
    "    V(k_t, z_t) = \\max_{k_{t + 1}, h_t} u(c_t, h_t) + \\beta \\mathbb{E}_{z_{t + 1}} V(k_{t + 1}, z_{t + 1})\n",
    "\\end{equation}"
   ]
  },
  {
   "cell_type": "markdown",
   "metadata": {
    "slideshow": {
     "slide_type": "subslide"
    }
   },
   "source": [
    "We will use numerical integration to compute this expected value. First note that from the AR(1) process defined above, with $\\bar{z} = 1$, we have\n",
    "\n",
    "\\begin{equation}\n",
    "    \\ln z_{t+1} = \\rho \\ln z_{t} + \\epsilon_{t+1}\\quad \\Rightarrow\\quad z_{t+1} = z_t^\\rho \\exp(\\epsilon_{t+1})\n",
    "\\end{equation}\n",
    "\n",
    "and hence \n",
    "\n",
    "\\begin{equation}\n",
    "    \\mathbb{E}_{z_{t + 1}} V(k_{t + 1}, z_{t + 1}) = \\mathbb{E}_{\\epsilon_{t + 1}} V(k_{t + 1}, z_t^\\rho \\exp(\\epsilon_{t+1}))\n",
    "\\end{equation}\n",
    "\n",
    "Recall that both $k_{t+1}$ and $z_{t}$ are known in period $t$."
   ]
  },
  {
   "cell_type": "markdown",
   "metadata": {
    "slideshow": {
     "slide_type": "subslide"
    }
   },
   "source": [
    "Recall from the last lecture that if $\\epsilon_{t+1}$ is normally distributed with mean 0 and variance $\\sigma^2$, the expectation of $g(\\epsilon_{t+1})$ can be approximated by\n",
    "\n",
    "\\begin{equation}\n",
    "    \\mathbb{E}_{\\epsilon_{t + 1}}[g(\\epsilon_{t+1})] \\approx \\frac{1}{\\sqrt{\\pi}} \\sum^N_{i = 1}  \\omega_i g(\\sqrt{2} \\sigma \\xi_i )\n",
    "\\end{equation}\n",
    "\n",
    "where $\\xi_i$ and $\\omega_i$ are the quadrature nodes and weights, respectively."
   ]
  },
  {
   "cell_type": "markdown",
   "metadata": {
    "slideshow": {
     "slide_type": "subslide"
    }
   },
   "source": [
    "Applied to the problem at hand, we can approximate the expected continuation value in the following way:\n",
    "\n",
    "\\begin{equation}\n",
    "    \\mathbb{E}_{\\epsilon_{t + 1}} V(k_{t + 1}, z_t^\\rho \\exp(\\epsilon_{t+1})) \\approx \\frac{1}{\\sqrt{\\pi}} \\sum^N_{i = 1}  \\omega_i V\\left(k_{t+1}, z_t^\\rho \\exp( \\sqrt{2} \\sigma \\xi_i) \\right)\n",
    "\\end{equation}"
   ]
  },
  {
   "cell_type": "markdown",
   "metadata": {
    "slideshow": {
     "slide_type": "subslide"
    }
   },
   "source": [
    "How do we implement this? Note that we have to evaluate this sum in every optimization step, i.e. given a grid point $z_i$. \n",
    "\n",
    "Hence, in every optimization operation, we first evaluate $V\\left(k_{t+1}, z_t^\\rho \\exp( \\sqrt{2} \\sigma \\xi_i) \\right)$ for a given quadrature node $\\xi_i$, using our standard approximation with Chebyshev polynomials. As a second step, we sum up theses terms over all $N$ quadrature nodes."
   ]
  },
  {
   "cell_type": "code",
   "execution_count": 26,
   "metadata": {
    "slideshow": {
     "slide_type": "subslide"
    }
   },
   "outputs": [],
   "source": [
    "def vf_rhs(x, k, z, coef, k_min, k_max, z_min, z_max, nodes, weights, pm):\n",
    "    \"\"\"\n",
    "    RHS of the Bellman equation\n",
    "    \"\"\"\n",
    "    kp = np.exp(x[0])   # a scalar!\n",
    "    h = np.exp(x[1])    # a scalar!\n",
    "    \n",
    "    zp = z**pm['rho'] * np.exp(np.sqrt(2) * pm['sigma'] * nodes)  # an array\n",
    "    \n",
    "    cv = np.zeros(N)\n",
    "    for ind in range(N):\n",
    "        cv[ind] = np.polynomial.chebyshev.chebval2d(fa.chebconvert(kp, k_min, k_max),\n",
    "                                                    fa.chebconvert(zp[ind], z_min, z_max), coef)\n",
    "    \n",
    "    return (- u(z * f(k, h, pm) + (1 - pm['delta']) * k - kp, h, pm) \n",
    "            - beta * (np.pi)**(-0.5) * weights @ cv) "
   ]
  },
  {
   "cell_type": "markdown",
   "metadata": {
    "slideshow": {
     "slide_type": "subslide"
    }
   },
   "source": [
    "The remainder of the code follows the usual steps. We define our **opt_step** function (with the inner loop over both dimensions) and then solve the model using value function iteration."
   ]
  },
  {
   "cell_type": "code",
   "execution_count": 27,
   "metadata": {
    "slideshow": {
     "slide_type": "subslide"
    }
   },
   "outputs": [],
   "source": [
    "def opt_step(k_grid, z_grid, x0, a_ch, k_min, k_max, z_min, z_max, nodes, weights, pm):     \n",
    "    \"\"\"\n",
    "    Function that loops over all states (= elements in k_grid and q_grid) and solves the respective optimization problem (obj_fun, initial guess x0)\n",
    "    for a given vector of Chebyshev basis coefficients a_ch\n",
    "    -> uses Scipy's optimize module\n",
    "    \"\"\"\n",
    "    ## initialize policy and value functions\n",
    "    V = np.zeros((m, m))\n",
    "    K = np.zeros((m, m))\n",
    "    H = np.zeros((m, m))\n",
    "    \n",
    "    ## loop\n",
    "    for (ind1, k) in enumerate(k_grid):\n",
    "        for (ind2, z) in enumerate(z_grid):\n",
    "        ## optimization step\n",
    "            res = scipy.optimize.minimize(vf_rhs, x0, args = (k, z, a_ch, k_min, k_max, z_min, z_max, nodes, weights, pm), method ='BFGS') \n",
    "            V[ind1, ind2] = - res.fun\n",
    "            K[ind1, ind2], H[ind1, ind2]  = np.exp( res.x )\n",
    "            if res.success is not True:\n",
    "                print(k, z, res.message)\n",
    "        \n",
    "    return V, K, H"
   ]
  },
  {
   "cell_type": "code",
   "execution_count": 28,
   "metadata": {
    "slideshow": {
     "slide_type": "subslide"
    }
   },
   "outputs": [
    {
     "name": "stdout",
     "output_type": "stream",
     "text": [
      "10 0.14867644441921413\n",
      "20 0.015968342342394002\n",
      "30 0.0017146637126655318\n",
      "40 0.000184111310416797\n",
      "50 1.9768807525197526e-05\n",
      "60 2.122659501502375e-06\n",
      "70 2.2791887399756352e-07\n",
      "80 2.4472573312425472e-08\n",
      "85 8.01918801873946e-09\n"
     ]
    }
   ],
   "source": [
    "## initialize initial guess for basis coefficients and optimization\n",
    "a_ch = a0.copy()\n",
    "x0 = np.log([1, 1])\n",
    "\n",
    "eps = 1\n",
    "it = 0\n",
    "maxit = 300\n",
    "\n",
    "while eps > 1e-8 and it < maxit:\n",
    "    it += 1\n",
    "    ## optimization step\n",
    "    V, K, H = opt_step(k_grid, z_grid, x0, a_ch, k_min, k_max, z_min, z_max, nodes, weights, params)\n",
    "    ## fitting step\n",
    "    a_new = fa.chebapprox_2d(V, [n, n])\n",
    "    ## compute convergence criterion\n",
    "    eps = np.linalg.norm(a_new - a_ch)\n",
    "    ## update coefficients\n",
    "    a_ch = a_new.copy()\n",
    "    \n",
    "    if it % 10 == 0:\n",
    "        print(it, eps)\n",
    "\n",
    "print(it, eps)"
   ]
  },
  {
   "cell_type": "code",
   "execution_count": 29,
   "metadata": {
    "slideshow": {
     "slide_type": "subslide"
    }
   },
   "outputs": [],
   "source": [
    "## approximate the policy functions\n",
    "a_k = fa.chebapprox_2d(K, [n, n])\n",
    "a_h = fa.chebapprox_2d(H, [n, n])"
   ]
  },
  {
   "cell_type": "code",
   "execution_count": 30,
   "metadata": {
    "slideshow": {
     "slide_type": "subslide"
    }
   },
   "outputs": [],
   "source": [
    "## simulate the economy\n",
    "T = 30\n",
    "k0 = 1\n",
    "\n",
    "np.random.seed(1)\n",
    "\n",
    "## initialize arrays to keep track of time series\n",
    "kt = np.zeros(T+1)\n",
    "ht = np.zeros(T)\n",
    "yt = np.zeros(T)\n",
    "invt = np.zeros(T)\n",
    "ct = np.zeros(T)\n",
    "\n",
    "## initial capital stock is given\n",
    "kt[0] = k0"
   ]
  },
  {
   "cell_type": "code",
   "execution_count": 31,
   "metadata": {
    "slideshow": {
     "slide_type": "subslide"
    }
   },
   "outputs": [],
   "source": [
    "zt = np.exp( ar1(T+1, params['rho'], params['sigma']) )\n",
    "\n",
    "## loop over time and use policy function approximations to fill kt and ht\n",
    "for t in range(T):\n",
    "    kt[t+1] = np.polynomial.chebyshev.chebval2d( fa.chebconvert(kt[t], k_min, k_max), \n",
    "                                                 fa.chebconvert(zt[t], z_min, z_max), a_k )\n",
    "    ht[t] = np.polynomial.chebyshev.chebval2d( fa.chebconvert(kt[t], k_min, k_max), fa.chebconvert(zt[t], z_min, z_max), a_h )\n",
    "    \n",
    "    yt[t] = zt[t] * f(kt[t], ht[t], params)\n",
    "    invt[t] = kt[t + 1] - (1 - params['delta']) * kt[t]\n",
    "    ct[t] = yt[t] - invt[t]"
   ]
  },
  {
   "cell_type": "code",
   "execution_count": 32,
   "metadata": {
    "slideshow": {
     "slide_type": "subslide"
    }
   },
   "outputs": [],
   "source": [
    "## for plotting: define steady states\n",
    "ks, hs = 1, 1\n",
    "ys = A\n",
    "invs = params['delta'] \n",
    "cs = ys - invs"
   ]
  },
  {
   "cell_type": "code",
   "execution_count": 33,
   "metadata": {
    "slideshow": {
     "slide_type": "subslide"
    }
   },
   "outputs": [
    {
     "data": {
      "text/plain": [
       "<matplotlib.collections.LineCollection at 0x1a1a724dd8>"
      ]
     },
     "execution_count": 33,
     "metadata": {},
     "output_type": "execute_result"
    },
    {
     "data": {
      "image/png": "[encoded data removed]",
      "text/plain": [
       "<Figure size 432x288 with 5 Axes>"
      ]
     },
     "metadata": {
      "needs_background": "light"
     },
     "output_type": "display_data"
    }
   ],
   "source": [
    "## plot optimal plans and check for convergence to steady state\n",
    "fig, ax = plt.subplots(5,1)\n",
    "ax[1].plot(range(T), kt[:-1])\n",
    "ax[1].hlines(ks, 0, T)\n",
    "ax[0].plot(range(T), zt[:-1])\n",
    "ax[2].plot(range(T), ht)\n",
    "ax[2].hlines(hs, 0, T) \n",
    "ax[3].plot(range(T), yt)\n",
    "ax[3].hlines(ys, 0, T) \n",
    "ax[4].plot(range(T), ct)\n",
    "ax[4].hlines(cs, 0, T) "
   ]
  },
  {
   "cell_type": "markdown",
   "metadata": {
    "slideshow": {
     "slide_type": "subslide"
    }
   },
   "source": [
    "#### Computing Moments\n",
    "\n",
    "Recall the question asked in the beginning: can the RBC model account for observed patterns of business-cycle activities? To answer this question, we simulate the model for a large number of periods and then compute the standard deviations for each variable (relative to their mean). "
   ]
  },
  {
   "cell_type": "code",
   "execution_count": 34,
   "metadata": {
    "slideshow": {
     "slide_type": "subslide"
    }
   },
   "outputs": [],
   "source": [
    "T = 10000  ## total number of periods\n",
    "\n",
    "np.random.seed(1)\n",
    "zt = np.exp( ar1(T+1, params['rho'], params['sigma']) )\n",
    "\n",
    "## initialize arrays to keep track of time series\n",
    "kt = np.zeros(T+1)\n",
    "ht = np.zeros(T)\n",
    "invt = np.zeros(T)\n",
    "ct = np.zeros(T)\n",
    "yt = np.zeros(T)\n",
    "\n",
    "## initial capital stock is given\n",
    "kt[0] = 1"
   ]
  },
  {
   "cell_type": "code",
   "execution_count": 35,
   "metadata": {
    "slideshow": {
     "slide_type": "subslide"
    }
   },
   "outputs": [],
   "source": [
    "zt = np.exp( ar1(T+1, params['rho'], params['sigma']) )\n",
    "\n",
    "## loop over time and use policy function approximations to fill kt and ht\n",
    "for t in range(T):\n",
    "    kt[t+1] = np.polynomial.chebyshev.chebval2d( fa.chebconvert(kt[t], k_min, k_max), fa.chebconvert(zt[t], z_min, z_max), a_k )\n",
    "    ht[t] = np.polynomial.chebyshev.chebval2d( fa.chebconvert(kt[t], k_min, k_max), fa.chebconvert(zt[t], z_min, z_max), a_h )\n",
    "\n",
    "    yt[t] = zt[t] * f(kt[t], ht[t], params)\n",
    "    invt[t] = kt[t + 1] - (1 - params['delta']) * kt[t]\n",
    "    ct[t] = yt[t] - invt[t]\n",
    "\n",
    "moments = [np.std(np.log(yt) - np.log(ys)), \\\n",
    "           np.std(np.log(ct) - np.log(cs)), \\\n",
    "            np.std(np.log(invt) - np.log(invs)), \\\n",
    "            np.std(np.log(ht) - np.log(hs)), \\\n",
    "            np.std(np.log(kt) - np.log(ks))]"
   ]
  },
  {
   "cell_type": "code",
   "execution_count": 36,
   "metadata": {
    "slideshow": {
     "slide_type": "subslide"
    }
   },
   "outputs": [
    {
     "name": "stdout",
     "output_type": "stream",
     "text": [
      "Relative volatility of output: 1.0\n",
      "Relative volatility of consumption: 0.8430423888131227\n",
      "Relative volatility of investment: 4.236216186501986\n",
      "Relative volatility of labor: 0.37602543823619333\n",
      "Relative volatility of capital: 1.3722461610088412\n"
     ]
    }
   ],
   "source": [
    "M = moments / moments[0]\n",
    "for (ind, item) in enumerate(['output', 'consumption', 'investment', 'labor', 'capital']):\n",
    "    print('Relative volatility of {}: {}'.format(item, M[ind]))"
   ]
  },
  {
   "cell_type": "markdown",
   "metadata": {
    "slideshow": {
     "slide_type": "subslide"
    }
   },
   "source": [
    "How does the model compare with observed de-trended data? For the US in the period between 1950 and 2010, DeJong and Dave (2011) show that labor supply has been about as volatile as output, and hence much more volatile than the model predicts (0.37)."
   ]
  },
  {
   "cell_type": "markdown",
   "metadata": {
    "slideshow": {
     "slide_type": "subslide"
    }
   },
   "source": [
    "As a side note, our model overpredicts the relative volatility of consumption (0.84 rather than 0.44 in the data). However, this is due to the fact that we chose a additive-separable functional form for utility and did not worry much calibrating the model. With a different utility function and a more careful calibration,  DeJong and Dave (2011) get a relative volatility of 0.46 for consumption."
   ]
  },
  {
   "cell_type": "markdown",
   "metadata": {
    "slideshow": {
     "slide_type": "subslide"
    }
   },
   "source": [
    "However, the lack of volatility in hours worked in the model is not remedied by a different utility function. In fact, this is a well-known shortcoming of the standard RBC model, and has prompted many extensions aiming to improve its performance in this direction.\n",
    "\n",
    "In other words, the motivating question of Kydland and Prescott (1982) has to be answered in the following way: while the standard RBC model is able to capture *some* patterns of business-cycle activity, it fails to capture *all* of the patterns. "
   ]
  }
 ],
 "metadata": {
  "celltoolbar": "Slideshow",
  "kernelspec": {
   "display_name": "Python 3",
   "language": "python",
   "name": "python3"
  },
  "language_info": {
   "codemirror_mode": {
    "name": "ipython",
    "version": 3
   },
   "file_extension": ".py",
   "mimetype": "text/x-python",
   "name": "python",
   "nbconvert_exporter": "python",
   "pygments_lexer": "ipython3",
   "version": "3.7.3"
  }
 },
 "nbformat": 4,
 "nbformat_minor": 1
}
