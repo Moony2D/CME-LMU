{
 "cells": [
  {
   "cell_type": "markdown",
   "metadata": {},
   "source": [
    "# Computational Methods in Economics\n",
    "\n",
    "## Lecture 3 - SLE - Solution to Classroom Exercises"
   ]
  },
  {
   "cell_type": "code",
   "execution_count": 1,
   "metadata": {},
   "outputs": [
    {
     "name": "stdout",
     "output_type": "stream",
     "text": [
      "Last update: 2019-12-04 13:15:58.430940\n"
     ]
    }
   ],
   "source": [
    "# Author: Alex Schmitt (schmitt@ifo.de)\n",
    "\n",
    "import datetime\n",
    "print('Last update: ' + str(datetime.datetime.today()))"
   ]
  },
  {
   "cell_type": "markdown",
   "metadata": {},
   "source": [
    "### Preliminaries\n",
    "\n",
    "#### Import Modules"
   ]
  },
  {
   "cell_type": "code",
   "execution_count": 2,
   "metadata": {},
   "outputs": [],
   "source": [
    "import numpy as np\n",
    "import scipy.linalg"
   ]
  },
  {
   "cell_type": "markdown",
   "metadata": {},
   "source": [
    "### Exercise 1\n",
    "\n",
    "This question follows the example for the use of pivoting in Miranda and Fackler, section 2.3.\n",
    "\n",
    "(a) Start with matrix \n",
    "\n",
    "\\begin{equation}\n",
    "    A = \\left[\\begin{array}{cc}\n",
    "     -1\\text{e-17} & 1 \\\\\n",
    "     1 & 1\n",
    "     \\end{array}\n",
    "     \\right]\n",
    "\\end{equation}\n",
    " and vector \n",
    "\\begin{equation}\n",
    "    b = \\left[\\begin{array}{c}\n",
    "     1 \\\\\n",
    "     2 \n",
    "     \\end{array}\n",
    "     \\right]\n",
    "\\end{equation} \n",
    "\n",
    "Decompose $A$ analytically in matrices $L$ and $U$ using Gaussian elimination and confirm numerically that $A = L U$.\n",
    "\n",
    "(b) Solve the system $Ax = b$ analytically using forward and backward substitution on $L$ and $U$ found in (a), and show that\n",
    "\n",
    "\\begin{equation}\n",
    "    x_1 = \\frac{1\\text{e+17}}{1\\text{e+17} + 1} \\approx 1,\\quad x_2 = \\frac{1\\text{e+17} + 2}{1\\text{e+17} + 1} \\approx 1\n",
    "\\end{equation} \n",
    "\n",
    "(c) Solve $Ax = b$ numerically using forward and backward substitution and compare the results. Note that you will need an implementation of backward substitution, for example from this week's problem set.\n",
    "\n",
    "(d) Perform *pivoting* on the system: move greater elements to the diagonal by interchanging rows. In the system above, that gives matrix $\\hat{A}$ and vector $\\hat{b}$:\n",
    "\n",
    "\\begin{equation}\n",
    "    \\hat{A} = \\left[\\begin{array}{cc}\n",
    "     1 & 1 \\\\\n",
    "     -1\\text{e-17} & 1\n",
    "     \\end{array}\n",
    "     \\right]\n",
    "\\end{equation}\n",
    " and vector \n",
    "\\begin{equation}\n",
    "    \\hat{b} = \\left[\\begin{array}{c}\n",
    "     2 \\\\\n",
    "     1 \n",
    "     \\end{array}\n",
    "     \\right]\n",
    "\\end{equation} \n",
    "\n",
    "Verify that the system $\\hat{A}x = \\hat{b}$ has the same solution as the original system.\n",
    "\n",
    "(e) As before, decompose $\\hat{A}$ analytically in matrices $\\hat{L}$ and $\\hat{U}$ using Gaussian elimination and confirm numerically that $\\hat{A} = \\hat{L} \\hat{U}$.\n",
    "\n",
    "(f) Solve $\\hat{A}x = \\hat{b}$ numerically and verify that the result is close to the analytical solution found in (b)."
   ]
  },
  {
   "cell_type": "code",
   "execution_count": 3,
   "metadata": {},
   "outputs": [],
   "source": [
    "def backward_sub(A, b):\n",
    "    \"\"\"\n",
    "    Implements the backward-substitution algorithm to solve an upper triangular system of equations\n",
    "    \n",
    "    For doctest:\n",
    "    \n",
    "    >>> backward_sub( np.array([[1, 1], [0, 1]]), np.array([2, 1])  )\n",
    "    array([ 1.,  1.])\n",
    "    \n",
    "    >>> backward_sub( np.array([[1, 2, 3], [0, 5, 7], [0, 0, 9]]), np.array([1, 2, 3])  )\n",
    "    array([ 0.13333333, -0.06666667,  0.33333333])\n",
    "    \n",
    "     \n",
    "    \"\"\"\n",
    "    ## check input: is A a square matrix?\n",
    "    n, m = A.shape\n",
    "    assert n == m, \"A must be a square matrix\"\n",
    "    \n",
    "    ## initialize solution vector\n",
    "    x = np.zeros(n)\n",
    "    \n",
    "    ## fill solution vector using a for loop\n",
    "    for i in range(n):\n",
    "        \n",
    "        ## compute sum on numerator of recursive rule\n",
    "        summ = 0\n",
    "        for j in range(i):\n",
    "            summ += A[(n-1)-i, (n-1)-j] * x[(n-1)-j]\n",
    "        \n",
    "        ## use rule; NB: start at the last element in x!\n",
    "        x[(n-1)-i] = (b[(n-1)-i] - summ) / A[(n-1)-i, (n-1)-i]\n",
    "        \n",
    "    return x     \n",
    "\n",
    "\n",
    "def forward_sub(A, b):\n",
    "    \"\"\"\n",
    "    Implements the forward-substitution algorithm to solve a lower triangular system of equations\n",
    "    \"\"\"\n",
    "    n, m = A.shape   \n",
    "    assert n == m, \"A must be a square matrix\"\n",
    "    \n",
    "    x = np.zeros(n)\n",
    "    for i in range(n):\n",
    "        \n",
    "        summ = 0\n",
    "        for j in range(i):\n",
    "            summ += A[i, j] * x[j]\n",
    "        \n",
    "        x[i] = (b[i] - summ) / A[i, i]   \n",
    "    \n",
    "    return x"
   ]
  },
  {
   "cell_type": "code",
   "execution_count": 4,
   "metadata": {},
   "outputs": [
    {
     "name": "stdout",
     "output_type": "stream",
     "text": [
      "[[-1.e-17  1.e+00]\n",
      " [ 1.e+00  1.e+00]]\n",
      "[[-1.e-17  1.e+00]\n",
      " [ 1.e+00  0.e+00]]\n"
     ]
    }
   ],
   "source": [
    "##### (a)\n",
    "\n",
    "M = 1e+17\n",
    "A = np.array([[-M**(-1), 1],\n",
    "            [1, 1]])\n",
    "b = np.array([1, 2])\n",
    "\n",
    "print(A)\n",
    "\n",
    "## results from analytical decomposition\n",
    "L = np.array([[1, 0],\n",
    "            [-M, 1]])\n",
    "U = np.array([[-M**(-1), 1],\n",
    "            [0, M + 1]])\n",
    "\n",
    "print( L @ U )"
   ]
  },
  {
   "cell_type": "code",
   "execution_count": 5,
   "metadata": {},
   "outputs": [
    {
     "name": "stdout",
     "output_type": "stream",
     "text": [
      "[-0.  1.]\n"
     ]
    }
   ],
   "source": [
    "##### (c)\n",
    "\n",
    "## solve system numerically using backward and forward substitution\n",
    "print( backward_sub(U, forward_sub(L, b)) )"
   ]
  },
  {
   "cell_type": "code",
   "execution_count": 6,
   "metadata": {},
   "outputs": [
    {
     "name": "stdout",
     "output_type": "stream",
     "text": [
      "[[ 1.e+00  1.e+00]\n",
      " [-1.e-17  1.e+00]]\n",
      "[[ 1.e+00  1.e+00]\n",
      " [-1.e-17  1.e+00]]\n"
     ]
    }
   ],
   "source": [
    "##### (e) \n",
    "\n",
    "## system with pivoting\n",
    "A_hat = np.array([[1, 1],\n",
    "            [-M**(-1), 1]])\n",
    "b_hat = np.array([2, 1])\n",
    "\n",
    "print(A_hat)\n",
    "\n",
    "L_hat = np.array([[1, 0],\n",
    "            [-M**(-1), 1]])\n",
    "U_hat = np.array([[1, 1],\n",
    "            [0, M**(-1) + 1]])\n",
    "print( L_hat @ U_hat )"
   ]
  },
  {
   "cell_type": "code",
   "execution_count": 7,
   "metadata": {},
   "outputs": [
    {
     "data": {
      "text/plain": [
       "array([1., 1.])"
      ]
     },
     "execution_count": 7,
     "metadata": {},
     "output_type": "execute_result"
    }
   ],
   "source": [
    "##### (f)\n",
    "\n",
    "## solve system numerically using backward and forward substitution\n",
    "backward_sub(U_hat, forward_sub(L_hat, b_hat))"
   ]
  },
  {
   "cell_type": "markdown",
   "metadata": {},
   "source": [
    "We can show that pivoting is used by Scipy's **linalg.solve** algorithm. First note that **linalg.solve** gives the correct solution when using the *original* system **Ax = b**:  "
   ]
  },
  {
   "cell_type": "code",
   "execution_count": 8,
   "metadata": {
    "scrolled": true
   },
   "outputs": [
    {
     "data": {
      "text/plain": [
       "array([1., 1.])"
      ]
     },
     "execution_count": 8,
     "metadata": {},
     "output_type": "execute_result"
    }
   ],
   "source": [
    "scipy.linalg.solve(A, b)"
   ]
  },
  {
   "cell_type": "markdown",
   "metadata": {},
   "source": [
    "In the background, the algorithm applies pivoting before decomposing the matrix **A**. We can see this by using **linalg.lu** that implements LU factorization. It returns three outputs **P**, **L_lu** and **U_lu**. The product **P @ L_lu** gives a permutable lower triangular matrix. \n",
    "\n",
    "The resulting matrices **L_lu** und **U_lu** are the same as our analytically obtained matrices **L_hat** and **U_hat**: "
   ]
  },
  {
   "cell_type": "code",
   "execution_count": 9,
   "metadata": {},
   "outputs": [
    {
     "name": "stdout",
     "output_type": "stream",
     "text": [
      "[[ True  True]\n",
      " [ True  True]]\n"
     ]
    }
   ],
   "source": [
    "P, L_lu, U_lu = scipy.linalg.lu(A)\n",
    "print(L_lu == L_hat)"
   ]
  },
  {
   "cell_type": "code",
   "execution_count": 10,
   "metadata": {},
   "outputs": [
    {
     "name": "stdout",
     "output_type": "stream",
     "text": [
      "[[ True  True]\n",
      " [ True  True]]\n"
     ]
    }
   ],
   "source": [
    "print(U_lu == U_hat)"
   ]
  },
  {
   "cell_type": "markdown",
   "metadata": {},
   "source": [
    "Note that multiplying **L_lu @ U_lu** gives **A_hat**, while multiplying **P @ L_hat @ U_hat** gives the original matrix **A**:"
   ]
  },
  {
   "cell_type": "code",
   "execution_count": 11,
   "metadata": {},
   "outputs": [
    {
     "name": "stdout",
     "output_type": "stream",
     "text": [
      "[[ True  True]\n",
      " [ True  True]]\n"
     ]
    }
   ],
   "source": [
    "print( L_hat @ U_hat == A_hat)"
   ]
  },
  {
   "cell_type": "code",
   "execution_count": 12,
   "metadata": {},
   "outputs": [
    {
     "name": "stdout",
     "output_type": "stream",
     "text": [
      "[[ True  True]\n",
      " [ True  True]]\n"
     ]
    }
   ],
   "source": [
    "print( P @ L_hat @ U_hat == A)"
   ]
  },
  {
   "cell_type": "markdown",
   "metadata": {},
   "source": [
    "### Exercise 2\n",
    "\n",
    "Find the solution to the following SLE using a) Gauss-Jacobi and b) Gauss-Seidel. Which one is faster, i.e. needs less iterations? "
   ]
  },
  {
   "cell_type": "code",
   "execution_count": 13,
   "metadata": {},
   "outputs": [],
   "source": [
    "A = np.array([[54, 14, -11, 2], \n",
    "              [14, 50, -4, 29],\n",
    "              [-11, -4, 55, 22],\n",
    "              [2, 29, 22, 95]]\n",
    "            )\n",
    "b = np.array([1, 1, 1, 1])"
   ]
  },
  {
   "cell_type": "code",
   "execution_count": 14,
   "metadata": {},
   "outputs": [],
   "source": [
    "#### (a) Gauss-Jacobi\n",
    "\n",
    "def gauss_jacobi(A, b, x0):\n",
    "    \"\"\" \n",
    "    Implements the Gauss-Seidel method with a over-relaxation parameter\n",
    "    \"\"\"\n",
    "    eps = 1\n",
    "    tol = 1e-8\n",
    "    it = 0\n",
    "    maxit = 100\n",
    "\n",
    "    x = x0\n",
    "    Q = np.diag(np.diag(A))\n",
    "    Q_inv = np.linalg.inv(Q)\n",
    "    \n",
    "    while eps > tol and it < maxit:\n",
    "        it += 1 \n",
    "        x_new = Q_inv @ b + ( np.eye(len(b)) - Q_inv @ A) @ x\n",
    "        eps = np.linalg.norm(x_new - x)\n",
    "        x = x_new\n",
    "        \n",
    "        \n",
    "    return x, it "
   ]
  },
  {
   "cell_type": "code",
   "execution_count": 15,
   "metadata": {},
   "outputs": [
    {
     "name": "stdout",
     "output_type": "stream",
     "text": [
      "Number of iterations = 25\n",
      "[ 0.01893441  0.01680507  0.02335523 -0.00041085]\n",
      "8.91 ms ± 0 ns per loop (mean ± std. dev. of 1 run, 1 loop each)\n"
     ]
    }
   ],
   "source": [
    "%%timeit -n1 -r1\n",
    "x0 = np.zeros(4)\n",
    "gauss_jacobi(A, b, x0)\n",
    "x, it = gauss_jacobi(A, b, x0)\n",
    "print('Number of iterations = {}'.format(it))\n",
    "print(x)"
   ]
  },
  {
   "cell_type": "code",
   "execution_count": 16,
   "metadata": {},
   "outputs": [],
   "source": [
    "#### (b) Gauss-Seidel \n",
    "\n",
    "def gauss_seidel(A, b, x0):\n",
    "    \"\"\" \n",
    "    Implements the Gauss-Seidel method with a over-relaxation parameter\n",
    "    \"\"\"\n",
    "    eps = 1\n",
    "    tol = 1e-8\n",
    "    it = 0\n",
    "    maxit = 100\n",
    "\n",
    "    x = x0\n",
    "    Q = np.triu(A)\n",
    "    Q_inv = np.linalg.inv(Q)\n",
    "    \n",
    "    while eps > tol and it < maxit:\n",
    "        it += 1 \n",
    "        x_new = Q_inv @ b + ( np.eye(len(b)) - Q_inv @ A) @ x\n",
    "        eps = np.linalg.norm(x_new - x)\n",
    "        x = x_new\n",
    "        \n",
    "    return x, it  "
   ]
  },
  {
   "cell_type": "code",
   "execution_count": 17,
   "metadata": {},
   "outputs": [
    {
     "name": "stdout",
     "output_type": "stream",
     "text": [
      "Number of iterations = 14\n",
      "[ 0.01893441  0.01680508  0.02335523 -0.00041085]\n",
      "4.03 ms ± 0 ns per loop (mean ± std. dev. of 1 run, 1 loop each)\n"
     ]
    }
   ],
   "source": [
    "%%timeit -n1 -r1\n",
    "x0 = np.zeros(4)\n",
    "gauss_seidel(A, b, x0) \n",
    "x, it = gauss_seidel(A, b, x0)\n",
    "print('Number of iterations = {}'.format(it))\n",
    "print(x)"
   ]
  },
  {
   "cell_type": "code",
   "execution_count": null,
   "metadata": {},
   "outputs": [],
   "source": []
  }
 ],
 "metadata": {
  "anaconda-cloud": {},
  "kernelspec": {
   "display_name": "Python 3",
   "language": "python",
   "name": "python3"
  },
  "language_info": {
   "codemirror_mode": {
    "name": "ipython",
    "version": 3
   },
   "file_extension": ".py",
   "mimetype": "text/x-python",
   "name": "python",
   "nbconvert_exporter": "python",
   "pygments_lexer": "ipython3",
   "version": "3.7.5"
  }
 },
 "nbformat": 4,
 "nbformat_minor": 1
}
