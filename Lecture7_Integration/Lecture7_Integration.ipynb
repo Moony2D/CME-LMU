{
 "cells": [
  {
   "cell_type": "markdown",
   "metadata": {
    "slideshow": {
     "slide_type": "slide"
    }
   },
   "source": [
    "# Computational Methods in Economics\n",
    "\n",
    "## Lecture 7 - Numerical Integration"
   ]
  },
  {
   "cell_type": "code",
   "execution_count": 1,
   "metadata": {
    "slideshow": {
     "slide_type": "skip"
    }
   },
   "outputs": [
    {
     "name": "stdout",
     "output_type": "stream",
     "text": [
      "Last update: 2019-02-01 13:27:51.779743\n"
     ]
    }
   ],
   "source": [
    "# Author: Alex Schmitt (schmitt@ifo.de)\n",
    "\n",
    "import datetime\n",
    "print('Last update: ' + str(datetime.datetime.today()))"
   ]
  },
  {
   "cell_type": "markdown",
   "metadata": {
    "slideshow": {
     "slide_type": "skip"
    }
   },
   "source": [
    "### Preliminaries\n",
    "\n",
    "#### Import Modules"
   ]
  },
  {
   "cell_type": "code",
   "execution_count": 2,
   "metadata": {
    "slideshow": {
     "slide_type": "skip"
    }
   },
   "outputs": [],
   "source": [
    "import numpy as np\n",
    "\n",
    "import matplotlib.pyplot as plt\n",
    "%matplotlib inline\n",
    "import seaborn\n",
    "\n",
    "import scipy.integrate"
   ]
  },
  {
   "cell_type": "markdown",
   "metadata": {
    "slideshow": {
     "slide_type": "subslide"
    }
   },
   "source": [
    "## This Lecture\n",
    "\n",
    "- [Introduction](#introduction)\n",
    "- [Newton-Coates Methods](#newton)\n",
    "- [Gaussian Quadrature](#gauss)"
   ]
  },
  {
   "cell_type": "markdown",
   "metadata": {
    "slideshow": {
     "slide_type": "skip"
    }
   },
   "source": [
    "--------------------------------------------------------------------------------------------------------------------------------\n",
    "<a id = \"introduction\"></a>"
   ]
  },
  {
   "cell_type": "markdown",
   "metadata": {
    "slideshow": {
     "slide_type": "slide"
    }
   },
   "source": [
    "### Introduction\n",
    "\n",
    "Suppose you need to evaluate the integral \n",
    "\n",
    "\\begin{equation}\n",
    "    \\int_I f(\\mathbf{x}) w(\\mathbf{x}) d\\mathbf{x},\\quad \\mathbf{x} \\in I \\subset \\mathbb{R}^n\n",
    "\\end{equation}\n",
    "\n",
    "For simplicity, we will focus on univariate functions:\n",
    "\n",
    "\\begin{equation}\n",
    "    \\int_a^b f(x) w(x) dx, \\quad x \\in [a, b] \\subset \\mathbb{R}\n",
    "\\end{equation}"
   ]
  },
  {
   "cell_type": "markdown",
   "metadata": {
    "slideshow": {
     "slide_type": "subslide"
    }
   },
   "source": [
    "The goal of numerical integration is to *approximate* the integral of a real-valued function $f$ over an interval $[a, b]$ with respect to a *weighting function* $w$.\n",
    "\n",
    "In many applications, the weighting function is just the identity, $w(x) = 1$. "
   ]
  },
  {
   "cell_type": "markdown",
   "metadata": {
    "slideshow": {
     "slide_type": "subslide"
    }
   },
   "source": [
    "In other cases, we can interpret the integral as the *expected value* of a continuous random variable, with $w(x)$ being interpreted as the probability density function:\n",
    "\n",
    "\\begin{equation}\n",
    "    E[f(x)] = \\int f(x)\\ pdf(x) dx\n",
    "\\end{equation}\n",
    "\n"
   ]
  },
  {
   "cell_type": "markdown",
   "metadata": {
    "slideshow": {
     "slide_type": "subslide"
    }
   },
   "source": [
    "In all methods considered below, the integral is approximated by a weighted sum of function values:\n",
    "\n",
    "\\begin{equation}\n",
    "    \\int_a^b f(x) w(x) dx \\approx \\sum_{i = 1}^n \\omega_i f(x_i)\n",
    "\\end{equation}\n",
    "\n",
    "where $\\omega_i$ are the *(quadrature) weights* and $x_i$ are the *(quadrature) nodes*."
   ]
  },
  {
   "cell_type": "markdown",
   "metadata": {
    "slideshow": {
     "slide_type": "subslide"
    }
   },
   "source": [
    "We consider two types of methods, which are distinguished by the way they determine these weights and nodes:\n",
    "\n",
    "1. Newton-Coates methods: the trapezoid rule and Simpson's rule;\n",
    "2. Gaussian quadrature: Gauss-Legendre and Gauss-Hermite.\n",
    "\n",
    "A third common method of conducting numerical integration is *Monte-Carlo integration*, which we will skip in the interest of time (but compare Miranda & Fackler, section 5.3)."
   ]
  },
  {
   "cell_type": "markdown",
   "metadata": {
    "slideshow": {
     "slide_type": "skip"
    }
   },
   "source": [
    "--------------------------------------------------------------------------------------------------------------------------------\n",
    "<a id = \"newton\"></a>"
   ]
  },
  {
   "cell_type": "markdown",
   "metadata": {
    "slideshow": {
     "slide_type": "slide"
    }
   },
   "source": [
    "### Newton-Coates Methods\n",
    "\n",
    "In the terminology introduced above, Newton-Coates methods have in common that the nodes $x_i$ are chosen arbitrarily in the interval $[a, b]$ (usually equally spaced). \n",
    "\n",
    "Moreover, the weights $\\omega_i$ are chosen so that if $f$ is locally a low-degree polynomial, the numerical integration formula above is \"correct\" in the sense that it computes the exact integral."
   ]
  },
  {
   "cell_type": "markdown",
   "metadata": {
    "slideshow": {
     "slide_type": "subslide"
    }
   },
   "source": [
    "In the following, we assume that we approximate the interval over $n + 1$ equally spaced nodes. Hence, we divide the interval $[a, b]$ in $n$ \"sub-interval\" of equal length $h$, i.e.\n",
    "\n",
    "\\begin{equation}\n",
    "    h = x_{i + 1} - x_i,\\quad \\forall i = 1, ..., n\n",
    "\\end{equation}"
   ]
  },
  {
   "cell_type": "markdown",
   "metadata": {
    "slideshow": {
     "slide_type": "subslide"
    }
   },
   "source": [
    "What does that mean in practice? Start with the *trapezoid rule*. It approximates the function $f$ between two points $x_i$ and $x_{i+1}$ by a linear function. Hence, the resulting integral is a trapezoid.  \n",
    "\n",
    "\\begin{equation}\n",
    "\\begin{split}\n",
    "    \\int_{x_{i}}^{x_{i+1}} f(x) dx &\\approx f(x_i) (x_{i+1} - x_{i}) + \\frac{1}{2} (x_{i+1} - x_{i}) (f(x_{i+1}) - f(x_i))  \\\\\n",
    "    &= \\frac{h}{2}[f(x_{i}) + f(x_{i+1})]\n",
    "\\end{split}\n",
    "\\end{equation}"
   ]
  },
  {
   "cell_type": "markdown",
   "metadata": {
    "slideshow": {
     "slide_type": "subslide"
    }
   },
   "source": [
    "To approximate the integral over the whole interval $[a, b]$, we can use the *composite rule* and add up the approximations over the $n$ sub-intervals $[x_i, x_{i+1}]$:\n",
    "\n",
    "\\begin{equation}\n",
    "    \\int_{a}^{b} f(x) dx \\approx \\frac{h}{2} \\sum_{i = 1}^n   [f(x_{i}) + f(x_{i+1})] = \\sum_{i = 1}^{n + 1} \\omega_i  f(x_{i}) \n",
    "\\end{equation}\n",
    "\n",
    "where \n",
    "\n",
    "\\begin{equation}\n",
    "    \\omega_i  = \\left\\{ \\begin{array}{l}\n",
    "    \\frac{h}{2}\\quad \\text{for}\\ i = 1, n + 1 \\\\\n",
    "    h\\quad \\text{otherwise}\n",
    "    \\end{array}\\right.\n",
    "\\end{equation}"
   ]
  },
  {
   "cell_type": "markdown",
   "metadata": {
    "slideshow": {
     "slide_type": "subslide"
    }
   },
   "source": [
    "It is easy to see that the trapezoid rule gives the precise integral when $f$ is a first-degree polynomial, i.e. a linear function.\n",
    "\n",
    "Analogous, *Simpson's rule* uses (piecewise) quadratic approximations to the integrand $f$. It is correct if $f$ is a third-degree (cubic) polynomial (or less)."
   ]
  },
  {
   "cell_type": "markdown",
   "metadata": {
    "slideshow": {
     "slide_type": "subslide"
    }
   },
   "source": [
    "Simpson's rule approximates $f$ between two points $x_i$ and $x_{i+1}$ in the following way:\n",
    "\n",
    "\\begin{equation}\n",
    "    \\int_{x_{i}}^{x_{i+1}} f(x) dx \\approx  \\frac{x_{i+1} - x_{i}}{6} \\left[f(x_{i+1}) + 4f\\left(\\frac{x_{i+1} + x_{i}}{2}\\right) + f(x_i)\\right] =  \\frac{h}{6} \\left[f(x_{i+1}) + 4f\\left(\\frac{x_{i+1} + x_{i}}{2}\\right) + f(x_i)\\right] \n",
    "\\end{equation}\n",
    "\n",
    "We will skip the derivation of this expression, but just take it as given."
   ]
  },
  {
   "cell_type": "markdown",
   "metadata": {
    "slideshow": {
     "slide_type": "subslide"
    }
   },
   "source": [
    "It is more convenient to consider three grid points, $x_i, x_{i + 1}, x_{i + 2}$. Then, \n",
    "\n",
    "\\begin{equation}\n",
    "    \\int_{x_{i}}^{x_{i+2}} f(x) dx \\approx  \\frac{x_{i+2} - x_{i}}{6} \\left[f(x_{i+2}) + 4f\\left(x_{i + 1}\\right) + f(x_i)\\right] =  \\frac{h}{3} \\left[f(x_{i+1}) + 4f\\left(x_{i + 1}\\right) + f(x_i)\\right] \n",
    "\\end{equation}"
   ]
  },
  {
   "cell_type": "markdown",
   "metadata": {
    "slideshow": {
     "slide_type": "subslide"
    }
   },
   "source": [
    "For the integral over the whole interval $[a, b]$, we would again add up the approximations over the sub-intervals $[x_i, x_{i + 2}]$:\n",
    "\n",
    "\\begin{equation}\n",
    "    \\int_{a}^{b} f(x) dx \\approx \\frac{h}{3} \\left[f(x_1) + 4f(x_2) + 2f(x_3) + ... + 2f(x_{n}) + f(x_{n +1}) \\right] = \\sum_{i = 0}^{n +1} \\omega_i  f(x_{i}) \n",
    "\\end{equation}\n",
    "\n",
    "where \n",
    "\n",
    "\\begin{equation}\n",
    "    \\omega_i  = \\left\\{ \\begin{array}{l}\n",
    "    \\frac{h}{3}\\quad \\text{for}\\ i = 1, n+1 \\\\\n",
    "    \\frac{4h}{3}\\quad \\text{otherwise for}\\ i\\ \\text{odd}\\\\\n",
    "    \\frac{2h}{3}\\quad \\text{otherwise for}\\ i\\ \\text{even}\n",
    "    \\end{array} \\right.\n",
    "\\end{equation}\n",
    "\n",
    "Note that we have implicitly assumed that the number of intervals, $n$, is even. "
   ]
  },
  {
   "cell_type": "markdown",
   "metadata": {
    "slideshow": {
     "slide_type": "subslide"
    }
   },
   "source": [
    "A side note: above, it was stated that Simpson's rule computes the integral correctly if $f$ is a cubic polynomial, even though it uses only piecewise-quadratic approximations. \n",
    "\n",
    "To see this, note that we can also compute the approximation error for the general Simpson's rule:\n",
    "\n",
    "\\begin{equation}\n",
    "    \\int_{a}^{b} f(x) dx = \\frac{h}{3} \\left[f(x_1) + 4f(x_2) + 2f(x_3) + ... + 2f(x_{n}) + f(x_{n +1}) \\right] - \\frac{h^4(b -a)}{180} f^{(4)}(\\zeta) \n",
    "\\end{equation}\n",
    "\n",
    "where $\\zeta\\in [a, b]$."
   ]
  },
  {
   "cell_type": "markdown",
   "metadata": {
    "slideshow": {
     "slide_type": "subslide"
    }
   },
   "source": [
    "Hence, the error is given by  $ - \\frac{h^4(b -a)}{180} f^{(4)}(\\zeta) $, where $f^{(4)}$ denotes the fourth derivative. \n",
    "\n",
    "Now, for any polynomial of degree 3 (or less), we have $f^{(4)} = 0$, and hence there is no approximation error. In other words, Simpson's rule computes the precise integral."
   ]
  },
  {
   "cell_type": "markdown",
   "metadata": {
    "slideshow": {
     "slide_type": "subslide"
    }
   },
   "source": [
    "In general, Simpson's rule should be used over the trapezoid rule (and is used most commonly in practice), since it will yield more accurate approximations for smooth functions, without being more computationally complex."
   ]
  },
  {
   "cell_type": "markdown",
   "metadata": {
    "slideshow": {
     "slide_type": "subslide"
    }
   },
   "source": [
    "In Python, we can use the **scipy.integrate** package, containing functions **trapz** for the trapezoid rule and **simps** for Simpson's rule. \n",
    "\n",
    "By default, these functions assume evenly spaced nodes, and hence the only mandatory inputs is an array of function values (rather than the function itself!). You can change the spacing (by default 1) by using the **dx** keyword. "
   ]
  },
  {
   "cell_type": "markdown",
   "metadata": {
    "slideshow": {
     "slide_type": "subslide"
    }
   },
   "source": [
    "For example, integrate the function $x^2$ over the interval $[0, 3]$, using four nodes. The true value for the interval is 9 (verify this!). As expected, Simpson's rule gets closer to the true value than the trapezoid rule "
   ]
  },
  {
   "cell_type": "code",
   "execution_count": 3,
   "metadata": {},
   "outputs": [
    {
     "name": "stdout",
     "output_type": "stream",
     "text": [
      "9.5\n"
     ]
    }
   ],
   "source": [
    "print( scipy.integrate.trapz([0, 1, 4, 9]) )"
   ]
  },
  {
   "cell_type": "markdown",
   "metadata": {
    "slideshow": {
     "slide_type": "subslide"
    }
   },
   "source": [
    "Note that in order use Simpson's rule, we should use an even number of intervals, and hence an odd (e.g. five) number of nodes. When running **scipy.integrate.simps**, we may have to adjust the spacing of the points:"
   ]
  },
  {
   "cell_type": "code",
   "execution_count": 4,
   "metadata": {},
   "outputs": [
    {
     "name": "stdout",
     "output_type": "stream",
     "text": [
      "[0.   0.75 1.5  2.25 3.  ]\n"
     ]
    },
    {
     "data": {
      "text/plain": [
       "9.0"
      ]
     },
     "execution_count": 4,
     "metadata": {},
     "output_type": "execute_result"
    }
   ],
   "source": [
    "x = np.linspace(0, 3, 5)\n",
    "print(x)\n",
    "scipy.integrate.simps(x**2, dx = 0.75)"
   ]
  },
  {
   "cell_type": "markdown",
   "metadata": {
    "slideshow": {
     "slide_type": "skip"
    }
   },
   "source": [
    "--------------------------------------------------------------------------------------------------------------------------------\n",
    "<a id = \"gauss\"></a>"
   ]
  },
  {
   "cell_type": "markdown",
   "metadata": {
    "slideshow": {
     "slide_type": "slide"
    }
   },
   "source": [
    "### Gaussian Quadrature\n",
    "\n",
    "Newton-Coates methods work for arbitrary nodes $x_i$. In contrast, Gaussian quadrature are constructed by efficient choices of *both* the nodes and the weights. "
   ]
  },
  {
   "cell_type": "markdown",
   "metadata": {
    "slideshow": {
     "slide_type": "subslide"
    }
   },
   "source": [
    "The general idea of Gaussian quadrature is to find $n$ nodes $\\xi_i$ and $n$ weights $\\omega_i$, $ i = 1, ..., n$, such that\n",
    "\n",
    "\\begin{equation}\n",
    "    \\int_a^b w(x) p_{2n-1}(x) dx \\stackrel{!}{=} \\sum_{i = 1}^n \\omega_i f(\\xi_i)\n",
    "\\end{equation}\n",
    "\n",
    "where $p$ belongs to a family of polynomials of degree $2n -1 $, and $w(x)$ is a nonnegative weighting function. Note that we have an equality here, rather than an approximation."
   ]
  },
  {
   "cell_type": "markdown",
   "metadata": {
    "slideshow": {
     "slide_type": "subslide"
    }
   },
   "source": [
    "Once the nodes and weights have been obtained, we can approximate the function $f(x)$ in the usual way:\n",
    "\n",
    "\\begin{equation}\n",
    "    \\int_a^b w(x) f(x) dx \\approx \\sum_{i = 0}^n \\omega_i f(\\xi_i)\n",
    "\\end{equation}"
   ]
  },
  {
   "cell_type": "markdown",
   "metadata": {
    "slideshow": {
     "slide_type": "subslide"
    }
   },
   "source": [
    "#### Gauss-Legendre Quadrature\n",
    "\n",
    "For concreteness, start with *Gauss-Legendre quadrature*. As Newton-Coates methods, they also work for integrals where $w(x) = 1$.\n",
    "\n",
    "We can find the weights $w_i$ and nodes $\\xi_i$ as the solutions to following system of non-linear equations:\n",
    "\n",
    "\\begin{equation}\n",
    "\\int_{-1}^{1} x^j dx = \\sum_{i = 1}^{n} \\omega_i \\xi_i^j,\\ j = 0,...,2n - 1\n",
    "\\end{equation}"
   ]
  },
  {
   "cell_type": "markdown",
   "metadata": {
    "slideshow": {
     "slide_type": "subslide"
    }
   },
   "source": [
    "Note that we have $2n$ unknowns - $n$ nodes and $n$ weights - and hence we need $2n$ equations:\n",
    "    \n",
    "\\begin{align}\n",
    "\\int_{-1}^{1} x^0 dx &= \\sum_{i = 1}^{n} \\omega_i \\xi_i^0 \\\\\n",
    "\\int_{-1}^{1} x^1 dx &= \\sum_{i = 1}^{n} \\omega_i \\xi_i^1 \\\\\n",
    "\\vdots \\\\\n",
    "\\int_{-1}^{1} x^{2n - 1} dx &= \\sum_{i = 1}^{n} \\omega_i \\xi_i^{2n - 1}\n",
    "\\end{align}    "
   ]
  },
  {
   "cell_type": "markdown",
   "metadata": {
    "collapsed": true,
    "slideshow": {
     "slide_type": "subslide"
    }
   },
   "source": [
    "The integrals on the left hand side can be evaluated precisely, i.e. yield scalars. \n",
    "\n",
    "As you would expect, NumPy has a routine that yields the nodes and weights directly: **np.polynomial.legendre.leggauss**. It takes the number of nodes as input."
   ]
  },
  {
   "cell_type": "code",
   "execution_count": 5,
   "metadata": {
    "slideshow": {
     "slide_type": "subslide"
    }
   },
   "outputs": [
    {
     "name": "stdout",
     "output_type": "stream",
     "text": [
      "[-0.96028986 -0.79666648 -0.52553241 -0.18343464  0.18343464  0.52553241\n",
      "  0.79666648  0.96028986]\n",
      "[0.10122854 0.22238103 0.31370665 0.36268378 0.36268378 0.31370665\n",
      " 0.22238103 0.10122854]\n"
     ]
    }
   ],
   "source": [
    "[nodes_l, weights_l] = np.polynomial.legendre.leggauss(8)\n",
    "print( nodes_l )\n",
    "print( weights_l )"
   ]
  },
  {
   "cell_type": "markdown",
   "metadata": {
    "slideshow": {
     "slide_type": "subslide"
    }
   },
   "source": [
    "Note that these nodes and weights apply to integrals between -1 and 1. As with function approximation, we can make a change of variables to apply Gaussian-Legendre quadrature to general integrals:\n",
    "\n",
    "\\begin{equation}\n",
    "    \\int_a^b w(x) f(x) dx = \\frac{b - a}{2} \\sum_{i = 0}^n \\omega_i f\\left(a + \\frac{(\\xi_i + 1)(b - a)}{2} \\right)\n",
    "\\end{equation}"
   ]
  },
  {
   "cell_type": "markdown",
   "metadata": {
    "slideshow": {
     "slide_type": "subslide"
    }
   },
   "source": [
    "Why should we use Gauss-Legendre quadrature over the Simpson's rule? First note that by construction, the Gaussian quadrature rule computes the exact integral when the function $f$ is a polynomial of degree $2n - 1$ (or less). \n",
    "\n",
    "In contrast, Simpson's rule is correct \"only\" for cubic polynomials."
   ]
  },
  {
   "cell_type": "markdown",
   "metadata": {
    "slideshow": {
     "slide_type": "subslide"
    }
   },
   "source": [
    "Related to this, it can be shown that the approximation error when using Gaussian-Legendre decreases exponentially when increasing the number of nodes, and hence faster than for Newton-Coates methods (at least for smooth functions).\n",
    "\n",
    "However, note that if $f$ has kinks (i.e., noncontinuous derivatives), Newton-Coates methods may be more efficient (cp. Miranda and Fackler, section 5.2)."
   ]
  },
  {
   "cell_type": "markdown",
   "metadata": {
    "slideshow": {
     "slide_type": "subslide"
    }
   },
   "source": [
    "##### Example: Expectation of a log-logistically distributed variable\n",
    "\n",
    "In climate science (and climate economics), an important variable is the *climate sensitivity*. Essentially, it yields the (long-run) increase in atmospheric temperature if the carbon concentration in the atmosphere is doubled.\n",
    "\n",
    "In a paper by Dietz and Stern (2015), the climate sensitivity $S$ is assumed to follow a log-logistic distribution, with pdf given by:\n",
    "\n",
    "\\begin{equation}\n",
    "    f(S) = \\frac{(a/b) (S/b)^{a-1}}{(1 + (S/b)^a)^2}\n",
    "\\end{equation}"
   ]
  },
  {
   "cell_type": "markdown",
   "metadata": {
    "slideshow": {
     "slide_type": "subslide"
    }
   },
   "source": [
    "Say we want to compute the expectation of $S$. It is given by:\n",
    "\n",
    "\\begin{equation}\n",
    "    E(S) = \\int_0^\\infty S \\frac{(a/b) (S/b)^{a-1}}{(1 + (S/b)^a)^2} dS = \\frac{b \\pi / a}{\\sin(\\pi/a)}\n",
    "\\end{equation}\n"
   ]
  },
  {
   "cell_type": "markdown",
   "metadata": {
    "slideshow": {
     "slide_type": "subslide"
    }
   },
   "source": [
    "Numerically, this expectation can be approximated in the following way. Setting $\\bar{S}$ sufficently high, let\n",
    "\n",
    "\\begin{equation}\n",
    "\\begin{split}\n",
    "    E(S) &\\approx  \\int_0^{\\bar{S}} S \\frac{(a/b) (S/b)^{a-1}}{(1 + (S/b)^a)^2} dS = \\int_0^{\\bar{S}} \\phi(S) dS \\\\\n",
    "         &= \\frac{\\bar{S}}{2} \\sum_{i = 0}^n \\omega_i \\phi\\left( \\frac{(\\xi_i + 1)\\bar{S}}{2} \\right)\n",
    "\\end{split}\n",
    "\\end{equation}"
   ]
  },
  {
   "cell_type": "code",
   "execution_count": 6,
   "metadata": {
    "slideshow": {
     "slide_type": "subslide"
    }
   },
   "outputs": [],
   "source": [
    "def pdf_loglog(x, a, b):\n",
    "    \"\"\"\n",
    "    Gives the pdf of a log-logistically distributed random variable with shape parameter a and scale parameter b MULTIPLIED with the RV\n",
    "    \"\"\"\n",
    "    return (a / b**(a-1)) * x**(a-1) * (b * (1 + (x/b)**a)**2)**(-1) * x"
   ]
  },
  {
   "cell_type": "code",
   "execution_count": 7,
   "metadata": {
    "slideshow": {
     "slide_type": "subslide"
    }
   },
   "outputs": [
    {
     "name": "stdout",
     "output_type": "stream",
     "text": [
      "2.8592669835544857\n",
      "2.854197005267417\n"
     ]
    }
   ],
   "source": [
    "# Parameters\n",
    "a = 4.2\n",
    "b = 2.6\n",
    "\n",
    "# True mean\n",
    "m = b * np.pi / a * (np.sin(np.pi/a))**(-1)\n",
    "print(m)\n",
    "\n",
    "# approximate mean\n",
    "[nodes_l, weights_l] = np.polynomial.legendre.leggauss(22)\n",
    "sbar = 20\n",
    "X = pdf_loglog( (nodes_l + 1) * sbar * 0.5 , a, b)\n",
    "print(sbar/2 * weights_l @ X)"
   ]
  },
  {
   "cell_type": "code",
   "execution_count": 8,
   "metadata": {
    "slideshow": {
     "slide_type": "skip"
    }
   },
   "outputs": [
    {
     "data": {
      "text/plain": [
       "[<matplotlib.lines.Line2D at 0x1a25a08128>]"
      ]
     },
     "execution_count": 8,
     "metadata": {},
     "output_type": "execute_result"
    },
    {
     "data": {
      "image/png": "[encoded data removed]",
      "text/plain": [
       "<Figure size 432x288 with 1 Axes>"
      ]
     },
     "metadata": {
      "needs_background": "light"
     },
     "output_type": "display_data"
    }
   ],
   "source": [
    "Sbar = np.linspace(5, 20 , 50)\n",
    "M = np.zeros(50)\n",
    "for (i, item) in enumerate(Sbar):\n",
    "    X = pdf_loglog( (nodes_l + 1) * item * 0.5 , a, b)\n",
    "    M[i] = item/2 * weights_l @ X\n",
    "    \n",
    "fig, ax = plt.subplots()\n",
    "ax.plot(Sbar, M)"
   ]
  },
  {
   "cell_type": "markdown",
   "metadata": {
    "slideshow": {
     "slide_type": "subslide"
    }
   },
   "source": [
    "#### Gauss-Hermite Quadrature\n",
    "\n",
    "Gauss-Hermite quadrature is very useful because *normally distributed* random variables are frequently used in economic problems. "
   ]
  },
  {
   "cell_type": "markdown",
   "metadata": {
    "slideshow": {
     "slide_type": "subslide"
    }
   },
   "source": [
    "Gauss-Hermite quadrature is used to evaluate \n",
    "\n",
    "\\begin{equation}\n",
    "    \\int_{-\\infty}^{\\infty} f(x) e^{-x^2} dx \\approx \\sum_{i = 1}^n \\omega_i f(\\xi_i)\n",
    "\\end{equation}\n",
    "\n",
    "What is the connection to the normal distribution? Recall that the pdf of a normally distributed variable is \n",
    "\n",
    "\\begin{equation}\n",
    "    pdf(x) = \\frac{1}{\\sqrt{2\\pi \\sigma^2}} e^{-\\frac{ \\left(x - \\mu\\right)^2}{2\\sigma^2}}\n",
    "\\end{equation}\n"
   ]
  },
  {
   "cell_type": "markdown",
   "metadata": {
    "slideshow": {
     "slide_type": "subslide"
    }
   },
   "source": [
    "Hence, if $X$ is a random variable with $X \\sim N(\\mu, \\sigma^2)$, the expected value of $f(X)$ is given by\n",
    "\n",
    "\n",
    "\\begin{equation}\n",
    "    E[f(X)] = \\int_{-\\infty}^{\\infty} f(x)\\ pdf(x) dx = \\frac{1}{\\sqrt{2\\pi \\sigma^2}} \\int_{-\\infty}^{\\infty} f(x) \\exp\\left(-\\frac{ \\left(x - \\mu\\right)^2}{2\\sigma^2}\\right) dx\n",
    "\\end{equation}\n"
   ]
  },
  {
   "cell_type": "markdown",
   "metadata": {
    "slideshow": {
     "slide_type": "subslide"
    }
   },
   "source": [
    "This almost looks like an integral that can be approximated using Gauss-Hermite quadrature. As a last step, we need to use a linear change of variables. Define $y \\equiv (x - \\mu) / (\\sqrt{2} \\sigma)$, and hence\n",
    "\n",
    "\\begin{equation}\n",
    "    \\int_{-\\infty}^{\\infty} f(x) \\exp\\left(-\\frac{ \\left(x - \\mu\\right)^2}{2\\sigma^2}\\right) dx = \\int_{-\\infty}^{\\infty} f\\left(\\sqrt{2} \\sigma y + \\mu\\right) \\exp\\left(-y^2\\right) \\sqrt{2}\\sigma\\ dy\n",
    "\\end{equation}\n",
    "\n"
   ]
  },
  {
   "cell_type": "markdown",
   "metadata": {
    "slideshow": {
     "slide_type": "subslide"
    }
   },
   "source": [
    "Putting all this together, we get that\n",
    "\n",
    "\\begin{equation}\n",
    "    E[f(X)] = \\frac{1}{\\sqrt{2\\pi \\sigma^2}} \\int_{-\\infty}^{\\infty} f(x) \\exp\\left(-\\frac{ \\left(x - \\mu\\right)^2}{2\\sigma^2}\\right)\\ dx \\approx \\frac{1}{\\sqrt{\\pi}} \\sum_{i = 1}^n \\omega_i f(\\sqrt{2}\\sigma \\xi_i + \\mu)\n",
    "\\end{equation}\n",
    "\n",
    "where $\\xi_i$ and $\\omega_i$ are the Gauss-Hermite nodes and weights over $[-\\infty, \\infty]$."
   ]
  },
  {
   "cell_type": "markdown",
   "metadata": {
    "slideshow": {
     "slide_type": "subslide"
    }
   },
   "source": [
    "In NumPy, the function **np.polynomial.hermite.hermgauss** yields these nodes and weights:"
   ]
  },
  {
   "cell_type": "code",
   "execution_count": 9,
   "metadata": {},
   "outputs": [
    {
     "name": "stdout",
     "output_type": "stream",
     "text": [
      "[-2.93063742 -1.98165676 -1.15719371 -0.38118699  0.38118699  1.15719371\n",
      "  1.98165676  2.93063742]\n",
      "[1.99604072e-04 1.70779830e-02 2.07802326e-01 6.61147013e-01\n",
      " 6.61147013e-01 2.07802326e-01 1.70779830e-02 1.99604072e-04]\n"
     ]
    }
   ],
   "source": [
    "[nodes_h, weights_h] = np.polynomial.hermite.hermgauss(8)\n",
    "print( nodes_h )\n",
    "print( weights_h )"
   ]
  },
  {
   "cell_type": "markdown",
   "metadata": {
    "slideshow": {
     "slide_type": "subslide"
    }
   },
   "source": [
    "##### Example 1: Approximate the expected value of a random variable $X \\sim N(2, 0.5)$"
   ]
  },
  {
   "cell_type": "code",
   "execution_count": 10,
   "metadata": {},
   "outputs": [
    {
     "name": "stdout",
     "output_type": "stream",
     "text": [
      "2.0000000000000004\n"
     ]
    }
   ],
   "source": [
    "mu = 2\n",
    "sig2 = 0.05\n",
    "n = 8\n",
    "[nodes, weights] = np.polynomial.hermite.hermgauss(n)\n",
    "print( np.pi**(-0.5) * (np.sqrt(2 * sig2) * nodes + mu) @ weights)"
   ]
  },
  {
   "cell_type": "markdown",
   "metadata": {
    "slideshow": {
     "slide_type": "subslide"
    }
   },
   "source": [
    "##### Example 2: Gauss-Hermite quadrature in the NGM\n",
    "\n",
    "In the stochastic NGM, let output be given by $y_t = z_t f(k_t)$. $z_t$ is a random variable whose log follows an AR(1) process: \n",
    "\n",
    "\\begin{equation}\n",
    "    \\ln(z_{t+1}) = \\rho \\ln(z_t) + \\epsilon_{t+1},\\ \\ \\epsilon_{t+1} \\sim N(0, \\sigma^2)\n",
    "\\end{equation}"
   ]
  },
  {
   "cell_type": "markdown",
   "metadata": {
    "slideshow": {
     "slide_type": "subslide"
    }
   },
   "source": [
    "Recall that in the deterministic NGM (where $z_t = 1$ in every period $t$) the Euler equation is given by \n",
    "\n",
    "\\begin{equation}\n",
    "    c_t^{-\\nu} = c_{t+1}^{-\\nu} (f_k(k_{t+1}, h_{t+1}) + 1 - \\delta)\n",
    "\\end{equation}\n",
    "\n",
    "(Compare for example lecture 4 and problem set 8). "
   ]
  },
  {
   "cell_type": "markdown",
   "metadata": {
    "slideshow": {
     "slide_type": "subslide"
    }
   },
   "source": [
    "In the stochastic NGM, the random variable $\\epsilon_{t+1}$ enters the on the right hand side, and hence there is an expected value:\n",
    "\n",
    "\\begin{equation}\n",
    "\\begin{split}\n",
    "    c_t^{-\\nu} &= E[c_{t+1}^{-\\nu} (z_{t+1} f_k(k_{t+1}, h_{t+1}) + 1 - \\delta)] \\\\\n",
    "               &= E[c_{t+1}^{-\\nu} \\left(\\exp(\\rho \\ln(z_t) + \\epsilon_{t+1}) f_k(k_{t+1}, h_{t+1}) + 1 - \\delta\\right)]\n",
    "\\end{split}    \n",
    "\\end{equation}\n",
    "\n",
    "In other words, current consumption depends on the expected value of the RHS of the Euler equation, which needs to be evaluated numerically."
   ]
  },
  {
   "cell_type": "markdown",
   "metadata": {
    "slideshow": {
     "slide_type": "subslide"
    }
   },
   "source": [
    "Recall from above that if $\\epsilon_{t+1}$ is normally distributed with mean $\\mu$ and variance $\\sigma^2$, the expectation of $g(\\epsilon_{t+1})$ can be approximated by\n",
    "\n",
    "\\begin{equation}\n",
    "    E[g(\\epsilon_{t+1})] = \\sum^n_{i = 1} \\frac{1}{\\sqrt{\\pi}} \\omega_i g(\\sqrt{2} \\sigma \\xi_i + \\mu)\n",
    "\\end{equation}"
   ]
  },
  {
   "cell_type": "markdown",
   "metadata": {
    "slideshow": {
     "slide_type": "subslide"
    }
   },
   "source": [
    "Hence, the right hand side of the Euler equation can be approximated in the following way:\n",
    "\n",
    "\\begin{equation}\n",
    "\\begin{split}\n",
    "    E[g(\\epsilon_{t+1})] &= E[c_{t+1}^{-\\nu} ( \\exp(\\rho \\ln(z_t) + \\epsilon_{t+1}) f_k(k_{t+1}) + 1 - \\delta)]  \\\\\n",
    "                  &= E[c_{t+1}^{-\\nu} (  z_t^\\rho \\exp(\\epsilon_{t+1}) f_k(k_{t+1}) + 1 - \\delta)] \\\\\n",
    "                  &= \\sum^n_{i = 1} \\frac{1}{\\sqrt{\\pi}} \\omega_i \\big( c_{t+1}^{-\\nu} (  z_t^\\rho \\exp(\\sqrt{2} \\sigma \\xi_i) f_k(k_{t+1}) + 1 - \\delta) \\big)\n",
    "\\end{split}\n",
    "\\end{equation}\n",
    "\n",
    "\n"
   ]
  },
  {
   "cell_type": "markdown",
   "metadata": {
    "slideshow": {
     "slide_type": "subslide"
    }
   },
   "source": [
    "We will see in the next lecture why Gauss-Hermite quadrature is useful for solving the NGM."
   ]
  }
 ],
 "metadata": {
  "celltoolbar": "Slideshow",
  "kernelspec": {
   "display_name": "Python 3",
   "language": "python",
   "name": "python3"
  },
  "language_info": {
   "codemirror_mode": {
    "name": "ipython",
    "version": 3
   },
   "file_extension": ".py",
   "mimetype": "text/x-python",
   "name": "python",
   "nbconvert_exporter": "python",
   "pygments_lexer": "ipython3",
   "version": "3.7.0"
  }
 },
 "nbformat": 4,
 "nbformat_minor": 1
}
