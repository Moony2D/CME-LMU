{
 "cells": [
  {
   "cell_type": "markdown",
   "metadata": {
    "slideshow": {
     "slide_type": "slide"
    }
   },
   "source": [
    "# Computational Methods in Economics\n",
    "\n",
    "## Lecture 6a - Function Approximation"
   ]
  },
  {
   "cell_type": "code",
   "execution_count": 1,
   "metadata": {
    "slideshow": {
     "slide_type": "skip"
    }
   },
   "outputs": [
    {
     "name": "stdout",
     "output_type": "stream",
     "text": [
      "Last update: 2020-01-15 11:50:41.014429\n"
     ]
    }
   ],
   "source": [
    "# Author: Alex Schmitt (schmitt@ifo.de)\n",
    "\n",
    "import datetime\n",
    "print('Last update: ' + str(datetime.datetime.today()))"
   ]
  },
  {
   "cell_type": "markdown",
   "metadata": {
    "slideshow": {
     "slide_type": "skip"
    }
   },
   "source": [
    "### Preliminaries\n",
    "\n",
    "#### Import Modules"
   ]
  },
  {
   "cell_type": "code",
   "execution_count": 2,
   "metadata": {
    "slideshow": {
     "slide_type": "skip"
    }
   },
   "outputs": [],
   "source": [
    "import numpy as np\n",
    "import scipy.optimize\n",
    "\n",
    "import matplotlib.pyplot as plt\n",
    "%matplotlib inline\n",
    "import seaborn\n",
    "\n",
    "import IPython.display as display\n",
    "\n",
    "# import sys\n",
    "from importlib import reload"
   ]
  },
  {
   "cell_type": "markdown",
   "metadata": {
    "slideshow": {
     "slide_type": "slide"
    }
   },
   "source": [
    "## This Lecture\n",
    "\n",
    "- [Introduction](#introduction)\n",
    "- [Interpolation vs. Regression](#interp)\n",
    "- [Choice of Basis Functions: Polynomials](#basis)\n",
    "- [Chebyshev Basis Functions](#cheb)\n",
    "- [Constructing a Grid](#grid)\n",
    "- [Combining Chebyshev Nodes with a Chebyshev Basis](#algo)\n",
    "- [Examples: Univariate Function Approximation in Python](#funapprox1)"
   ]
  },
  {
   "cell_type": "markdown",
   "metadata": {
    "slideshow": {
     "slide_type": "skip"
    }
   },
   "source": [
    "--------------------------------------------------------------------------------------------------------------------------------\n",
    "<a id = 'introduction'></a>"
   ]
  },
  {
   "cell_type": "markdown",
   "metadata": {
    "slideshow": {
     "slide_type": "slide"
    }
   },
   "source": [
    "### Introduction\n",
    "\n",
    "Suppose you are interested in a function $f$, but only have \"limited information\" about it. That is, you only know its function values at a finite number $m$ points $x_1, x_2,..., x_m$:  \n",
    "\n",
    "\\begin{equation}\n",
    "    y_1 = f(x_1), y_2 = f(x_2), ..., y_m = f(x_m)\n",
    "\\end{equation}"
   ]
  },
  {
   "cell_type": "markdown",
   "metadata": {
    "slideshow": {
     "slide_type": "subslide"
    }
   },
   "source": [
    "The goal of function approximation or \"curve fitting\" is to use this limited information to find a function $\\hat{f}$ such that\n",
    "\n",
    "\\begin{equation}\n",
    "    f(x) \\approx \\hat{f}(x)\n",
    "\\end{equation}"
   ]
  },
  {
   "cell_type": "markdown",
   "metadata": {
    "slideshow": {
     "slide_type": "subslide"
    }
   },
   "source": [
    "The function $\\hat{f}$ (also called *approximant*) should be computationally tractable and easy to evaluate. In this course, we will confine ourselves to functions $\\hat{f}$ that are linear combinations of a set of $n + 1$ linearly independent *basis functions* $B_0, ..., B_n$:\n",
    "\n",
    "\\begin{equation}\n",
    "    \\hat{f}(x; \\mathbf{a}) = \\sum_{j = 0}^{n} a_j B_j(x)\n",
    "\\end{equation}"
   ]
  },
  {
   "cell_type": "markdown",
   "metadata": {
    "slideshow": {
     "slide_type": "subslide"
    }
   },
   "source": [
    "The number $n$ is referred to as the *degree of approximation*. Approximating a function then means to find appropriate values for the $n + 1$ *basis coefficients* $\\mathbf{a} = a_0, ..., a_n$ given the \"data\" $\\{y_i, x_i\\}_{i = 1}^m$. "
   ]
  },
  {
   "cell_type": "markdown",
   "metadata": {
    "slideshow": {
     "slide_type": "subslide"
    }
   },
   "source": [
    "### Some comments\n",
    "\n",
    "- With respect to terminology, I use \"curve fitting\" and \"function approximation\" as synonyms: any problem where we impose a *parametric, functional relationship* $\\hat{f}$ between a *dependent* variable on the left hand side and a (vector of) *explanatory* variables on the right hand side. These variables are \"data\" (not necessarily from the real world!) in the sense that given those, we want to find the parameters of the function that give a \"good fit\"."
   ]
  },
  {
   "cell_type": "markdown",
   "metadata": {
    "slideshow": {
     "slide_type": "subslide"
    }
   },
   "source": [
    "- The first distinction is whether we assume the functional relationship is *linear or nonlinear in the parameters*. Most methods used in empirical or numerical work rely on linear methods, in particular when using polynomials as basis functions. "
   ]
  },
  {
   "cell_type": "markdown",
   "metadata": {
    "slideshow": {
     "slide_type": "subslide"
    }
   },
   "source": [
    "To simplify the exposition, I will first introduce the most important concepts for univariate functions. \n",
    "\n",
    "What follows below also holds for multivariate functions, in which case each of the \"points\" $x_1, x_2,..., x_m$ is actally a vector. For clarity, I will use bold notation in this case: $\\mathbf{x}_1, \\mathbf{x}_2,..., \\mathbf{x}_m$, where \n",
    "\n",
    "\\begin{equation}\n",
    "    \\mathbf{x}_i = (x_{1i}, x_{2i}, ..., x_{ki}).\n",
    "\\end{equation}"
   ]
  },
  {
   "cell_type": "markdown",
   "metadata": {
    "slideshow": {
     "slide_type": "subslide"
    }
   },
   "source": [
    "Then, we approximate a function $f(\\mathbf{x})$ by:\n",
    "\n",
    "\\begin{equation}\n",
    "    f(\\mathbf{x}) \\approx \\hat{f}(\\mathbf{x})\n",
    "\\end{equation}\n",
    "\n",
    "using again information on the function values at a finite number of points:\n",
    "\n",
    "\\begin{equation}\n",
    "    y_i = f(\\mathbf{x}_i),\\ i = 1,..., m.\n",
    "\\end{equation}\n",
    "\n"
   ]
  },
  {
   "cell_type": "markdown",
   "metadata": {
    "slideshow": {
     "slide_type": "skip"
    }
   },
   "source": [
    "#### Example: Linear LS regression (OLS)\n",
    "\n",
    "An application of curve fitting (usually in a multivariate setting) that you all know is linear regression.\n",
    "Let $y$ denote a dependent variable and $\\mathbf{x} = (x_1, ... , x_k)$ a vector of $k$ regressors. Hence, $(y_i, \\mathbf{x}_i) = (y_i, x_{1i}, ..., x_{ki})$ corresponds to observation $i$. \n",
    "\n",
    "Then, for\n",
    "\n",
    "\\begin{equation}\n",
    "    B_j(\\mathbf{x}) = x_j,\\ j = 1,..., k,\n",
    "\\end{equation}\n",
    "\n",
    "and adding an error term, the problem above becomes\n",
    "\n",
    "\\begin{equation}\n",
    "    y_i = a_0 + \\sum_{j = 1}^k a_j B_j(\\mathbf{x}_i) + \\epsilon_i = a_0 + a_1 x_{1i} + ... + a_k x_{ki} + \\epsilon_i,\\ i = 1,..., m\n",
    "\\end{equation}\n",
    "\n",
    "This is the simplest case of the well-known linear regression model. In this case with $k$ regressors, we need to find $k+1$ coefficients. See below for details on how to implement a regression algorithm. Note that this model can be easily extended to specifications which are nonlinear in the regressors (e.g. $x_{1i}^2$ or $x_{1i} x_{2i}$), but still linear *in the parameters*.\n",
    "\n",
    "\n",
    "\n",
    "\n"
   ]
  },
  {
   "cell_type": "markdown",
   "metadata": {
    "slideshow": {
     "slide_type": "subslide"
    }
   },
   "source": [
    "#### Preview\n",
    "\n",
    "Broadly speaking, approximating a function requires the modeller to make three decisions:\n",
    "1. **choose number and spacing of grid points**; for example, equally spaced points, Chebyshev nodes \n",
    "2. **choose basis functions**; for example, monomials, orthogonal polynomials, splines \n",
    "3. **choose whether to find the basis coefficients through interpolation or regression (least squares)** \n",
    "\n"
   ]
  },
  {
   "cell_type": "markdown",
   "metadata": {
    "slideshow": {
     "slide_type": "subslide"
    }
   },
   "source": [
    "For ease of exposition, we will go through this list in reverse order, starting with the third point."
   ]
  },
  {
   "cell_type": "markdown",
   "metadata": {
    "slideshow": {
     "slide_type": "skip"
    }
   },
   "source": [
    "--------------------------------------------------------------------------------------------------------------------------------\n",
    "<a id = 'interp'></a>"
   ]
  },
  {
   "cell_type": "markdown",
   "metadata": {
    "slideshow": {
     "slide_type": "slide"
    }
   },
   "source": [
    "### Interpolation vs. Regression\n",
    "\n",
    "#### Interpolation\n",
    "\n",
    "A function $\\hat{f}(x)$ *interpolates* to the data $\\{x_i, y_i\\}_{i = 1}^{m}$ if\n",
    "\n",
    "\\begin{equation}\n",
    "    \\hat{f}(x_i) = y_i = f(x_i),\\ \\ i = 1, ..., m\n",
    "\\end{equation}\n",
    "\n",
    "where $x_1, x_2, ... , x_m$ are called *interpolation nodes* or *interpolation grid*. "
   ]
  },
  {
   "cell_type": "markdown",
   "metadata": {
    "slideshow": {
     "slide_type": "subslide"
    }
   },
   "source": [
    "In other words, the functions $f$ and $\\hat{f}$ have the same function values at the $m$ data points. Note that this results in a system of $m$ equations, the *interpolating/interpolation conditions*. With\n",
    "\n",
    "\\begin{equation}\n",
    "    \\hat{f}(x; \\mathbf{a}) = \\sum_{j = 0}^{n} a_j B_j(x), \n",
    "\\end{equation}\n",
    "the conditions read\n",
    "\\begin{align}\n",
    "    y_1 &\\overset{!}{=} \\sum_{j = 0}^{n} a_j B_j(x_1) \\\\\n",
    "    \\vdots \\\\\n",
    "\\end{align}\n"
   ]
  },
  {
   "cell_type": "markdown",
   "metadata": {
    "slideshow": {
     "slide_type": "subslide"
    }
   },
   "source": [
    "\\begin{align}\n",
    "    \\vdots \\\\\n",
    "    y_2 &\\overset{!}{=} \\sum_{j = 0}^{n} a_j B_j(x_2) \\\\\n",
    "    \\vdots \\\\\n",
    "    y_m &\\overset{!}{=} \\sum_{j = 0}^{n} a_j B_j(x_m) \\\\\n",
    "\\end{align}"
   ]
  },
  {
   "cell_type": "markdown",
   "metadata": {
    "slideshow": {
     "slide_type": "subslide"
    }
   },
   "source": [
    "Hence, we have $n + 1$ unknowns - the coefficients $a_0, ..., a_n$ - in $m$ equations. In order to get a unique solutions, approximating a function via interpolation requires that\n",
    "\n",
    "\\begin{equation}\n",
    "    m = n + 1.\n",
    "\\end{equation}\n",
    "\n",
    "In other words, we need as many data points as coefficients."
   ]
  },
  {
   "cell_type": "markdown",
   "metadata": {
    "slideshow": {
     "slide_type": "subslide"
    }
   },
   "source": [
    "We can also write this system of linear equations using matrices:\n",
    "\n",
    "\\begin{equation}\n",
    "\\begin{split}\n",
    "\\left[\n",
    "\\begin{array}{c}\n",
    "    y_{1}  \\\\\n",
    "    \\vdots  \\\\\n",
    "    y_{m}\n",
    "\\end{array}\n",
    "\\right] =\n",
    "\\left[\n",
    "\\begin{array}{cccc}\n",
    "    B_0(x_1) & B_1(x_1) & \\cdots & B_n(x_1)  \\\\\n",
    "    \\vdots & \\vdots  & \\vdots \\\\\n",
    "    B_0(x_m) & B_1(x_m) & \\cdots & B_n(x_m) &\n",
    "\\end{array}\n",
    "\\right]\n",
    "\\left[\n",
    "\\begin{array}{c}\n",
    "    a_{0}  \\\\\n",
    "    \\vdots  \\\\\n",
    "    a_{n}\n",
    "\\end{array}\n",
    "\\right] \n",
    "= \\Phi\n",
    "\\left[\n",
    "\\begin{array}{c}\n",
    "    a_{0}  \\\\\n",
    "    \\vdots  \\\\\n",
    "    a_{n}\n",
    "\\end{array}\n",
    "\\right] \n",
    "\\end{split}\n",
    "\\end{equation}"
   ]
  },
  {
   "cell_type": "markdown",
   "metadata": {
    "slideshow": {
     "slide_type": "subslide"
    }
   },
   "source": [
    "$\\Phi$ is called the *interpolation matrix*, with $\\Phi_{ij} = B_j(x_i)$. It is a square matrix, since $m = n+1$. \n",
    "\n",
    "An interpolation \"scheme\" is well-defined if the interpolation nodes and basis functions are chosen such that $\\Phi$ is nonsingular. As outlined below, we should also make sure that it is not ill-conditioned. "
   ]
  },
  {
   "cell_type": "markdown",
   "metadata": {
    "slideshow": {
     "slide_type": "subslide"
    }
   },
   "source": [
    "#### Least Squares Regression\n",
    "\n",
    "The idea of approximating a function $f$ via regression is that instead of requiring the approximant $\\hat{f}$ to have the same function values at a given set of points, we minimize the *approximation error*, i.e. the sum of the squares of the differences between $f$ and $\\hat{f}$ (*residuals*) at these points:\n",
    "\n",
    "\\begin{equation}\n",
    "    \\min L(\\mathbf{a}) = \\sum_{i = 1}^m \\left[\\ \\hat{f}(x_i; \\mathbf{a}) - y_i \\right]^2\n",
    "\\end{equation}"
   ]
  },
  {
   "cell_type": "markdown",
   "metadata": {
    "slideshow": {
     "slide_type": "subslide"
    }
   },
   "source": [
    "Intuitively, the smaller $L$, the closer the approximant $\\hat{f}(x)$ fits the data. For a linear approximant,\n",
    "\n",
    "\\begin{equation}\n",
    "    \\hat{f}(x) = \\sum_{j = 0}^{n} a_j B_j(x), \n",
    "\\end{equation}\n",
    "\n",
    "we can write the minimization problem as a linear LS problem."
   ]
  },
  {
   "cell_type": "markdown",
   "metadata": {
    "slideshow": {
     "slide_type": "subslide"
    }
   },
   "source": [
    "Linear LS problem:\n",
    "\n",
    "\\begin{equation}\n",
    "    \\min_{a_0, ..., a_n} \\sum_{i = 1}^m \\left[ \\sum_{j = 0}^{n} a_j B_j(x_i) - y_i \\right]^2.\n",
    "\\end{equation}\n",
    "\n",
    "Be careful not to get confused by the two sums: the outer sum is over all points, the inner sum over all basis functions evaluated at a given point!"
   ]
  },
  {
   "cell_type": "markdown",
   "metadata": {
    "slideshow": {
     "slide_type": "subslide"
    }
   },
   "source": [
    "Note that in the special case that $m = n + 1$, the LS fit given by the minimizing coefficients $a_0, ..., a_n$ is the same as the coefficients given by interpolation: the approximation error $L$ is zero, its smallest possible value. \n",
    "\n",
    "Least squares regression works also with fewer coefficients: \n",
    "\n",
    "\\begin{equation}\n",
    "    m \\ge n + 1.\n",
    "\\end{equation}\n",
    "\n",
    "In other words, we need at least as many data points as degrees of approximation. "
   ]
  },
  {
   "cell_type": "markdown",
   "metadata": {
    "slideshow": {
     "slide_type": "skip"
    }
   },
   "source": [
    "--------------------------------------------------------------------------------------------------------------------------------\n",
    "<a id = 'basis'></a>"
   ]
  },
  {
   "cell_type": "markdown",
   "metadata": {
    "slideshow": {
     "slide_type": "slide"
    }
   },
   "source": [
    "### Choice of Basis Functions: Polynomials \n",
    "\n",
    "One of the most frequently used families for basis functions are *polynomials*. Recall that a polynomial $p(x)$ of degree (order) $n$ is defined as\n",
    "\n",
    "\\begin{equation}\n",
    "    p(x) = a_0 + a_1 x + a_2 x^2 + ... + a_n x^n,\n",
    "\\end{equation}\n",
    "\n",
    "where $a_0, ..., a_n$ are constants. "
   ]
  },
  {
   "cell_type": "markdown",
   "metadata": {
    "slideshow": {
     "slide_type": "subslide"
    }
   },
   "source": [
    "Approximating a function with a polynomial is an example of a \"spectral method\", which uses basis functions that are nonzero over the entire domain of the function that is approximated (except at a *finite* number of points). "
   ]
  },
  {
   "cell_type": "markdown",
   "metadata": {
    "slideshow": {
     "slide_type": "subslide"
    }
   },
   "source": [
    "Note that this particular way of writing a polynomial is called its *power series form*. As we will see later, there are other ways of writing a polynomial. The power functions $1, x, x^2, ...$ are also referred to as *monomials*. We can use them as a basis for polynomial interpolation, with $B_j(x) = x^j$, which is also called a *monomial basis*. "
   ]
  },
  {
   "cell_type": "markdown",
   "metadata": {
    "slideshow": {
     "slide_type": "subslide"
    }
   },
   "source": [
    "The interpolation matrix defined above then reads:\n",
    "\n",
    "\\begin{equation}\n",
    "\\begin{split}\n",
    "\\Phi =\n",
    "\\left[\\begin{array}{cccc}\n",
    "    1 & x_1 & \\cdots & x_1^n \\\\\n",
    "    \\vdots & \\vdots  & \\vdots & \\vdots\\\\\n",
    "    1 & x_m & \\cdots & x^n_m \n",
    "\\end{array}\n",
    "\\right]\n",
    "\\end{split}\n",
    "\\end{equation}\n",
    "\n",
    "Recall from a previous lecture that this is also referred to as the *Vandermonde* matrix. "
   ]
  },
  {
   "cell_type": "markdown",
   "metadata": {
    "slideshow": {
     "slide_type": "subslide"
    }
   },
   "source": [
    "As an aside, why are polynomials a common choice as a basis? The answer is the *Weierstrass theorem*: If $f \\in C[g_{min}, g_{max}]$, then for all $\\epsilon > 0$, there exists a polynomial $p(x)$ such that \n",
    "\n",
    "\\begin{equation}\n",
    "    \\forall x \\in [g_{min}, g_{max}], \\left|\\ f(x) - p(x)\\ \\right| \\le \\epsilon\n",
    "\\end{equation}"
   ]
  },
  {
   "cell_type": "markdown",
   "metadata": {
    "slideshow": {
     "slide_type": "subslide"
    }
   },
   "source": [
    "In other words, we can approximate any continuous function with a desired approximation error $\\epsilon$ over the interval $[g_{min}, g_{max}]$ with a polynomial of a high enough degree. \n",
    "\n",
    "Of course, the Weierstrass theorem is not of that much practical use since it doesn't tell us what the necessary degree of the approximating polynomial is.  "
   ]
  },
  {
   "cell_type": "markdown",
   "metadata": {
    "slideshow": {
     "slide_type": "subslide"
    }
   },
   "source": [
    "#### Example: Polynomial Interpolation\n",
    "\n",
    "The following example will illustrate *polynomial interpolation* using monomials as basis functions. Assume we want to approximate the function $f(x) = \\exp(x)$ using a polynomial of degree 2. Hence, in the case of interpolation, we need $m = 3$ interpolation nodes."
   ]
  },
  {
   "cell_type": "markdown",
   "metadata": {
    "collapsed": true,
    "slideshow": {
     "slide_type": "subslide"
    }
   },
   "source": [
    "First, evaluate the function values at the nodes, here $x_i = 0, 1, 2$:\n",
    "\n",
    "\\begin{align}\n",
    "    x_1 &= 0\\quad \\rightarrow\\quad f(x_1) = y_1 = \\exp(0) = 1 \\\\\n",
    "    x_2 &= 1\\quad \\rightarrow\\quad f(x_2) = y_2 = \\exp(1) = e \\\\\n",
    "    x_3 &= 2\\quad \\rightarrow\\quad f(x_3) = y_3 = \\exp(2) = e^2 \\\\    \n",
    "\\end{align}    \n"
   ]
  },
  {
   "cell_type": "markdown",
   "metadata": {
    "slideshow": {
     "slide_type": "subslide"
    }
   },
   "source": [
    "Next, we write down the interpolation conditions, for $n = 2$. Recall that\n",
    "\n",
    "\\begin{equation}\n",
    "    y_1 = 1 \\overset{!}{=} \\sum_{j = 0}^{n} a_j B_j(x_1) = \\sum_{j = 0}^{2} a_j x_1^j = a_0 \\cdot 0^0 + a_1 \\cdot 0^1 + a_2 \\cdot 0^2\n",
    "\\end{equation}\n",
    "\n",
    "Hence, $y_1 = 1 = a_0$."
   ]
  },
  {
   "cell_type": "markdown",
   "metadata": {
    "slideshow": {
     "slide_type": "subslide"
    }
   },
   "source": [
    "Similarly,\n",
    "\n",
    "\\begin{align}\n",
    "    y_2 &= e \\overset{!}{=} \\sum_{j = 0}^{2} a_j x_2^j = a_0 + a_1 \\cdot 1 + a_2 \\cdot 1^2 \\\\\n",
    "    y_3 &= e^2 \\overset{!}{=} \\sum_{j = 0}^{2} a_j x_3^j = a_0 + a_1 \\cdot 2 + a_2 \\cdot 2^2\n",
    "\\end{align}\n"
   ]
  },
  {
   "cell_type": "markdown",
   "metadata": {
    "slideshow": {
     "slide_type": "subslide"
    }
   },
   "source": [
    "From the first and second condition, we have\n",
    "\n",
    "\\begin{align}\n",
    "    e = 1 + a_1 + a_2\\quad \\rightarrow\\quad a_1 = e - 1 -a_2\n",
    "\\end{align}\n",
    "\n",
    "Using this in the third condition, we get\n",
    "\n",
    "\\begin{align}\n",
    "    e^2 &= 1 + 2a_1 + 4a_2 = 1 + 2(e - 1 -a_2) + 4a_2 \\\\\n",
    "    &\\rightarrow\\quad a_2 = \\frac{e^2 - 2e + 1}{2} \\approx 1.47625\n",
    "\\end{align}\n",
    "\n"
   ]
  },
  {
   "cell_type": "markdown",
   "metadata": {
    "slideshow": {
     "slide_type": "subslide"
    }
   },
   "source": [
    "Finally,\n",
    "\n",
    "\\begin{align}\n",
    "    a_1 = e - 1 - a_2 = e - 1 - \\frac{e^2 - 2e + 1}{2} \\approx 0.24204\n",
    "\\end{align}\n",
    "\n",
    "Hence, the interpolation scheme is given by $(a_0, a_1, a_2) = (1, 0.24204, 1.47625)$."
   ]
  },
  {
   "cell_type": "markdown",
   "metadata": {
    "slideshow": {
     "slide_type": "subslide"
    }
   },
   "source": [
    "We can verify this result numerically. Start by defining the function:"
   ]
  },
  {
   "cell_type": "code",
   "execution_count": 3,
   "metadata": {
    "slideshow": {
     "slide_type": "-"
    }
   },
   "outputs": [],
   "source": [
    "def fun(x, alpha = 1):\n",
    "    \"\"\"\n",
    "    Exponential function\n",
    "    \"\"\"\n",
    "    y = np.exp(alpha * x)\n",
    "\n",
    "    return y"
   ]
  },
  {
   "cell_type": "markdown",
   "metadata": {
    "slideshow": {
     "slide_type": "subslide"
    }
   },
   "source": [
    "We can use Numpy's **linspace** function to construct the grid:"
   ]
  },
  {
   "cell_type": "code",
   "execution_count": 4,
   "metadata": {
    "slideshow": {
     "slide_type": "-"
    }
   },
   "outputs": [],
   "source": [
    "g_min, g_max = 0, 2\n",
    "\n",
    "x_grid = np.linspace(g_min, g_max, 3)\n",
    "y_grid = fun(x_grid) "
   ]
  },
  {
   "cell_type": "markdown",
   "metadata": {
    "slideshow": {
     "slide_type": "subslide"
    }
   },
   "source": [
    "In order to interpolate the function, we can use the Numpy function **polynomial.polynomial.polyvander** which constructs the interpolation matrix for a monomial basis.\n",
    "\n",
    "To save some typing, I import this subpackage as **np_poly**."
   ]
  },
  {
   "cell_type": "code",
   "execution_count": 5,
   "metadata": {
    "slideshow": {
     "slide_type": "-"
    }
   },
   "outputs": [
    {
     "name": "stdout",
     "output_type": "stream",
     "text": [
      "[[1. 0. 0.]\n",
      " [1. 1. 1.]\n",
      " [1. 2. 4.]]\n"
     ]
    }
   ],
   "source": [
    "import numpy.polynomial.polynomial as np_poly\n",
    "A = np_poly.polyvander(x_grid, 2)\n",
    "print(A)"
   ]
  },
  {
   "cell_type": "markdown",
   "metadata": {
    "slideshow": {
     "slide_type": "subslide"
    }
   },
   "source": [
    "Then, we solve a system of linear equations to obtain the interpolation coefficients:"
   ]
  },
  {
   "cell_type": "code",
   "execution_count": 6,
   "metadata": {
    "slideshow": {
     "slide_type": "-"
    }
   },
   "outputs": [
    {
     "name": "stdout",
     "output_type": "stream",
     "text": [
      "[1.         0.24203561 1.47624622]\n"
     ]
    }
   ],
   "source": [
    "print( np.linalg.solve(A, y_grid) )"
   ]
  },
  {
   "cell_type": "markdown",
   "metadata": {
    "slideshow": {
     "slide_type": "subslide"
    }
   },
   "source": [
    "Unsurprisingly, there is a function in Numpy which combines these steps: **polynomial.polynomial.polyfit**. Its inputs are the array of grid points, the function values evaluated at these points and the degree of approximation:"
   ]
  },
  {
   "cell_type": "code",
   "execution_count": 7,
   "metadata": {
    "slideshow": {
     "slide_type": "-"
    }
   },
   "outputs": [
    {
     "name": "stdout",
     "output_type": "stream",
     "text": [
      "[1.         0.24203561 1.47624622]\n"
     ]
    }
   ],
   "source": [
    "a_mono = np_poly.polyfit(x_grid, y_grid, 2)\n",
    "print(a_mono)"
   ]
  },
  {
   "cell_type": "markdown",
   "metadata": {
    "slideshow": {
     "slide_type": "subslide"
    }
   },
   "source": [
    "We can illustrate this approximation. First, we define a dense array **xx** consisting of equally spaced points in the interval. We then approximate the function values using the **polyval** function, with **xx** and **a_mono** as the arguments. \n",
    "\n",
    "Finally, we plot the approximated values, alongside the true function values."
   ]
  },
  {
   "cell_type": "code",
   "execution_count": 8,
   "metadata": {},
   "outputs": [],
   "source": [
    "xx = np.linspace(g_min, g_max, 1001)\n",
    "yy = fun(xx)\n",
    "yy_mono = np_poly.polyval(xx, a_mono)"
   ]
  },
  {
   "cell_type": "code",
   "execution_count": 9,
   "metadata": {
    "slideshow": {
     "slide_type": "subslide"
    }
   },
   "outputs": [
    {
     "data": {
      "text/plain": [
       "<matplotlib.legend.Legend at 0x2742d245688>"
      ]
     },
     "execution_count": 9,
     "metadata": {},
     "output_type": "execute_result"
    },
    {
     "data": {
      "image/png": "[encoded data removed]",
      "text/plain": [
       "<Figure size 432x288 with 1 Axes>"
      ]
     },
     "metadata": {
      "needs_background": "light"
     },
     "output_type": "display_data"
    }
   ],
   "source": [
    "fig, ax = plt.subplots()\n",
    "ax.plot(xx, yy, label = 'True function')\n",
    "ax.plot(xx, yy_mono, label = 'Approximation')\n",
    "ax.legend()"
   ]
  },
  {
   "cell_type": "markdown",
   "metadata": {
    "slideshow": {
     "slide_type": "subslide"
    }
   },
   "source": [
    "Before moving on, it should be noted when the interpolation nodes $\\{x_i\\}_{i = 1}^m$ are distinct, there is a *unique* polynomial $p_n(x)$ of degree $n$ that interpolates to the data $\\{y_i, x_i\\}_{i = 1}^m$. \n",
    "\n",
    "This is intuitive, given that we solve a system of linear equations with a matrix - the Vandermonde matrix - whose column vectors are linearly independent. "
   ]
  },
  {
   "cell_type": "markdown",
   "metadata": {
    "slideshow": {
     "slide_type": "subslide"
    }
   },
   "source": [
    "This property also implies that if $f$ is itself a polynomial of degree $n$, approximating it with a polynomial of degree $n$ will result in the approximant being the function itself, at every point in the domain: $\\hat{f}(x) = f(x)$."
   ]
  },
  {
   "cell_type": "markdown",
   "metadata": {
    "slideshow": {
     "slide_type": "skip"
    }
   },
   "source": [
    "--------------------------------------------------------------------------------------------------------------------------------\n",
    "<a id = 'cheb'></a>"
   ]
  },
  {
   "cell_type": "markdown",
   "metadata": {
    "slideshow": {
     "slide_type": "slide"
    }
   },
   "source": [
    "### Chebyshev Basis Functions\n",
    "\n",
    "Recall that in the context of solving systems of linear equations, we saw that the Vandermonde matrix is ill-conditioned for higher orders of $n$. Compare the example from lecture 3."
   ]
  },
  {
   "cell_type": "code",
   "execution_count": 10,
   "metadata": {
    "slideshow": {
     "slide_type": "subslide"
    }
   },
   "outputs": [],
   "source": [
    "def vm(m):\n",
    "    ## define matrix\n",
    "    x = np.linspace(1,5,m)\n",
    "    A = np_poly.polyvander(x, m-1)\n",
    "    ## determine the solution vector\n",
    "    b = A @ np.ones(m)\n",
    "    ## solve SLE\n",
    "    x = np.linalg.solve(A, b)\n",
    "    \n",
    "    return x, A"
   ]
  },
  {
   "cell_type": "code",
   "execution_count": 11,
   "metadata": {
    "slideshow": {
     "slide_type": "subslide"
    }
   },
   "outputs": [
    {
     "name": "stdout",
     "output_type": "stream",
     "text": [
      "For m = 5, x = [1. 1. 1. 1. 1.]\n",
      "For m = 5, the condition number is 26169.68797063433\n"
     ]
    }
   ],
   "source": [
    "m = 5\n",
    "x, A = vm(m)\n",
    "print(\"For m = {}, x = {}\".format(m, x) )\n",
    "print(\"For m = {}, the condition number is {}\".format(m, np.linalg.cond(A)))"
   ]
  },
  {
   "cell_type": "code",
   "execution_count": 12,
   "metadata": {
    "slideshow": {
     "slide_type": "subslide"
    }
   },
   "outputs": [
    {
     "name": "stdout",
     "output_type": "stream",
     "text": [
      "For m = 15, x = [0.94442222 1.25794398 0.51237487 1.43634172 0.92681916 0.73381653\n",
      " 1.34080974 0.77274174 1.0993391  0.96979552 1.00646588 0.99904084\n",
      " 1.00009405 0.99999451 1.00000014]\n",
      "For m = 15, the condition number is 1.9392318794936404e+18\n"
     ]
    }
   ],
   "source": [
    "m = 15\n",
    "x, A = vm(m)\n",
    "print(\"For m = {}, x = {}\".format(m, x) )\n",
    "print(\"For m = {}, the condition number is {}\".format(m, np.linalg.cond(A)))"
   ]
  },
  {
   "cell_type": "markdown",
   "metadata": {
    "slideshow": {
     "slide_type": "subslide"
    }
   },
   "source": [
    "This implies that computing basis coefficients can be hampered by serious rounding errors, in particular for a large number of interpolation nodes and hence a high degree of approximation. \n",
    "\n",
    "Therefore, it is not recommended to use monomials as basis functions for function approximation. Instead, we usually rely on basis functions that are constructed using *orthogonal* polynomials, in particular Chebyshev polynomials."
   ]
  },
  {
   "cell_type": "markdown",
   "metadata": {
    "slideshow": {
     "slide_type": "subslide"
    }
   },
   "source": [
    "Let $n$ be the degree of approximation. Then for $j = 0, ..., n$, the *Chebyshev polynomials* $T_j(x)$ are defined as  \n",
    "\n",
    "\\begin{equation*}\n",
    "  T_j(x) = \\cos(j \\cos^{-1}(x)),\n",
    "\\end{equation*} \n",
    "\n",
    "for $x \\in [-1,1]$. Note that this definition only works for the interval $[-1,1]$ because this is the domain of the function $\\cos^{-1} = \\arccos$ (the \"arccosine\")."
   ]
  },
  {
   "cell_type": "markdown",
   "metadata": {
    "slideshow": {
     "slide_type": "subslide"
    }
   },
   "source": [
    "Their first derivatives are given by:\n",
    "\n",
    "\\begin{equation*}\n",
    "  T'_j(x) = -\\sin(j \\cos^{-1}(x)) \\frac{-j}{\\sqrt{1-x^2}} = \\sin(j \\cos^{-1}(x)) \\frac{j}{\\sqrt{1-x^2}}. \n",
    "\\end{equation*} "
   ]
  },
  {
   "cell_type": "markdown",
   "metadata": {
    "slideshow": {
     "slide_type": "subslide"
    }
   },
   "source": [
    "An alternative way to define the Chebyshev polynomials is the following *recurrence relationship*: \n",
    "\n",
    "\\begin{equation}\n",
    "\tT_{j+1}(x) = 2x T_j(x) - T_{j-1},\n",
    "\\end{equation}\n",
    "\n",
    "for $j \\ge 1$, with $T_0(x) = 1$ and $T_1(x) = x$. \n",
    "\n",
    "Writing down the first few Chebyshev polynomials, we can see that the polynomial $T_n(x)$ has degree $n$ and if $n$ is even (odd) then $T_n(x)$ involves only even (odd) powers of $x$. "
   ]
  },
  {
   "cell_type": "markdown",
   "metadata": {
    "slideshow": {
     "slide_type": "subslide"
    }
   },
   "source": [
    "For example,\n",
    "\n",
    "\\begin{align}\n",
    "T_2(x) &= 2x^2 - 1 \\\\\n",
    "T_3(x) &= 4x^3 - 3x \\\\\n",
    "T_4(x) &= 8x^4 - 8x^2 + 1 \\\\\n",
    "T_5(x) &= 16x^5 - 20x^3 + 5x \n",
    "\\end{align}"
   ]
  },
  {
   "cell_type": "markdown",
   "metadata": {
    "slideshow": {
     "slide_type": "subslide"
    }
   },
   "source": [
    "Note that when working with the Chebyshev polynomials numerically, we use the recursive formula, which is computationally more efficient than the direct definition, in particular for higher values of $n$ and $m$. \n",
    "\n",
    "We will see an implementation in Python below."
   ]
  },
  {
   "cell_type": "markdown",
   "metadata": {
    "slideshow": {
     "slide_type": "subslide"
    }
   },
   "source": [
    "A (univariate) polynomial $p_n(x)$ that is *represented by a Chebyshev polynomial basis* rather than a power series (monomial) basis is also referred to as a *Chebyshev series*:\n",
    "\n",
    "\\begin{equation}\n",
    "    p_n(x) = \\sum_{j = 0}^n a_j T_j(x)\n",
    "\\end{equation}"
   ]
  },
  {
   "cell_type": "markdown",
   "metadata": {
    "slideshow": {
     "slide_type": "subslide"
    }
   },
   "source": [
    "This is a polynomial of degree $n$. For example, for $n = 2$, we can write it as a power series:\n",
    "\n",
    "\\begin{equation}\n",
    "\\begin{split}\n",
    "    p_2(x) &= a_0 T_0(x) + a_1 T_1(x) + a_2 T_2(x) = a_0 + a_1 x + a_2 (2x^2 - 1) \\\\\n",
    "           &= (a_0 - a_2) + a_1 x + (2a_2) x^2\n",
    "\\end{split}\n",
    "\\end{equation}"
   ]
  },
  {
   "cell_type": "markdown",
   "metadata": {
    "slideshow": {
     "slide_type": "subslide"
    }
   },
   "source": [
    "The family of Chebyshev polynomials $\\{ T_j(x) \\}$ is (mutually) *orthogonal*, which implies that\n",
    "\n",
    "\\begin{equation}\n",
    "    \\int_{-1}^{1} w(x) T_i(x) T_j(x) = 0 \\quad \\text{for}\\ i \\neq j \n",
    "\\end{equation}\n",
    "\n",
    "with the *weighting function* $w$ given by $w(x) = (1 - x^2)^{-1/2}$."
   ]
  },
  {
   "cell_type": "markdown",
   "metadata": {
    "slideshow": {
     "slide_type": "subslide"
    }
   },
   "source": [
    "Why is this a useful property in the context of function approximation? Without going into too much technical detail, we can get some intuition by plotting the Chebyshev polynomials and comparing them to the monomials, here between 0 and 1 (see below). "
   ]
  },
  {
   "cell_type": "code",
   "execution_count": 13,
   "metadata": {
    "slideshow": {
     "slide_type": "subslide"
    }
   },
   "outputs": [
    {
     "data": {
      "image/png": "[encoded data removed]",
      "text/plain": [
       "<IPython.core.display.Image object>"
      ]
     },
     "execution_count": 13,
     "metadata": {},
     "output_type": "execute_result"
    }
   ],
   "source": [
    "display.Image('cheb.png')"
   ]
  },
  {
   "cell_type": "code",
   "execution_count": 14,
   "metadata": {
    "slideshow": {
     "slide_type": "subslide"
    }
   },
   "outputs": [
    {
     "data": {
      "image/png": "[encoded data removed]",
      "text/plain": [
       "<IPython.core.display.Image object>"
      ]
     },
     "execution_count": 14,
     "metadata": {},
     "output_type": "execute_result"
    }
   ],
   "source": [
    "display.Image('mono.png')"
   ]
  },
  {
   "cell_type": "markdown",
   "metadata": {
    "slideshow": {
     "slide_type": "subslide"
    }
   },
   "source": [
    "Note that the graphs for the Chebyshev polynomials are somewhat distinct, while the ones for the monomials are very similar to each other. \n",
    "\n",
    "Intuitively, when we can barely see a difference between two functions graphically, it is likely that the computer will have difficulty discerning the difference numerically, which contributes to the Vandermonde matrix being ill-conditioned. "
   ]
  },
  {
   "cell_type": "markdown",
   "metadata": {
    "slideshow": {
     "slide_type": "subslide"
    }
   },
   "source": [
    "In contrast, the family of Chebyshev polynomials provides a good \"coverage\" of functions defined on $[-1, 1]$. \n",
    "\n",
    "Hence, the shape of a polynomial is usually better characterized by the coefficients when it is written in a Chebyshev series than by the corresponding coefficients when written as a power series. "
   ]
  },
  {
   "cell_type": "markdown",
   "metadata": {
    "slideshow": {
     "slide_type": "subslide"
    }
   },
   "source": [
    "We can also illustrate this by comparing the conditioning numbers for the Vandermonde and the Chebyshev interpolation matrix for a grid between -1 and 1. \n",
    "\n",
    "The latter can be computed by the Numpy function **polynomial.chebyshev.chebvander**. Note that this matrix is sometimes called a *Pseudo-Vandermonde* matrix.\n",
    "\n",
    "Again, we import the subpackage **polynomial.chebyshev** using an alias (**np_cheb**)."
   ]
  },
  {
   "cell_type": "code",
   "execution_count": 15,
   "metadata": {
    "slideshow": {
     "slide_type": "subslide"
    }
   },
   "outputs": [
    {
     "name": "stdout",
     "output_type": "stream",
     "text": [
      "1104808.5293600995\n"
     ]
    }
   ],
   "source": [
    "m = 15\n",
    "x = np.linspace(-1,1,m)\n",
    "V = np_poly.polyvander(x, m-1)\n",
    "print( np.linalg.cond(V) )"
   ]
  },
  {
   "cell_type": "code",
   "execution_count": 16,
   "metadata": {
    "slideshow": {
     "slide_type": "subslide"
    }
   },
   "outputs": [
    {
     "name": "stdout",
     "output_type": "stream",
     "text": [
      "225.73172355048413\n"
     ]
    }
   ],
   "source": [
    "import numpy.polynomial.chebyshev as np_cheb \n",
    "\n",
    "x = np.linspace(-1,1,m)\n",
    "V = np_cheb.chebvander(x, m-1)\n",
    "print( np.linalg.cond(V) )"
   ]
  },
  {
   "cell_type": "markdown",
   "metadata": {
    "slideshow": {
     "slide_type": "subslide"
    }
   },
   "source": [
    "We can see that the Vandermonde matrix has a distinctly higher conditioning number than the Pseudo-Vandermonde matrix. As we will discuss in the next section, however, we can still decrease this number considerably. "
   ]
  },
  {
   "cell_type": "markdown",
   "metadata": {
    "slideshow": {
     "slide_type": "subslide"
    }
   },
   "source": [
    "Finally, we can run our simple example above, this time using a Chebyshev rather than a monomial basis. In this case, for a low degree of approximation, both choices give equivalent results.  "
   ]
  },
  {
   "cell_type": "code",
   "execution_count": 17,
   "metadata": {
    "slideshow": {
     "slide_type": "subslide"
    }
   },
   "outputs": [],
   "source": [
    "m = 3\n",
    "## construct grid\n",
    "g_min, g_max = 0, 2\n",
    "xx = np.linspace(g_min, g_max, 100)\n",
    "yy = fun(xx)\n",
    "## fit and approximate\n",
    "a_cheb = np_cheb.chebfit(x_grid, y_grid, m-1)\n",
    "yy_cheb = np_cheb.chebval(xx, a_cheb)"
   ]
  },
  {
   "cell_type": "code",
   "execution_count": 18,
   "metadata": {
    "slideshow": {
     "slide_type": "subslide"
    }
   },
   "outputs": [
    {
     "data": {
      "text/plain": [
       "[<matplotlib.lines.Line2D at 0x2742e33c988>]"
      ]
     },
     "execution_count": 18,
     "metadata": {},
     "output_type": "execute_result"
    },
    {
     "data": {
      "image/png": "[encoded data removed]",
      "text/plain": [
       "<Figure size 432x288 with 2 Axes>"
      ]
     },
     "metadata": {
      "needs_background": "light"
     },
     "output_type": "display_data"
    }
   ],
   "source": [
    "fig, ax = plt.subplots(2, 1)\n",
    "# ax[0].plot(xx, yy_mono, label = 'Monomial')\n",
    "ax[0].plot(xx, yy_cheb, label = 'Chebyshev')\n",
    "ax[0].plot(xx, yy, label = 'True function')\n",
    "ax[0].legend()\n",
    "# ax[1].plot(xx, yy - yy_mono)\n",
    "ax[1].plot(xx, yy - yy_cheb)"
   ]
  },
  {
   "cell_type": "markdown",
   "metadata": {
    "slideshow": {
     "slide_type": "skip"
    }
   },
   "source": [
    "--------------------------------------------------------------------------------------------------------------------------------\n",
    "<a id = 'grid'></a>"
   ]
  },
  {
   "cell_type": "markdown",
   "metadata": {
    "slideshow": {
     "slide_type": "slide"
    }
   },
   "source": [
    "### Constructing a Grid\n",
    "\n",
    "Many approximation problems outside of data analysis (where the data points/observations are given by the \"real world\") allow the modeler to choose the interpolation grid $x_1, x_2,..., x_m$. In the simple example above, we used three equally spaced points between 0 and 2 (i.e. 0,1,2). "
   ]
  },
  {
   "cell_type": "markdown",
   "metadata": {
    "slideshow": {
     "slide_type": "subslide"
    }
   },
   "source": [
    "The two features that characterize such a grid are the number of grid points and their spacing. Both have an impact on the quality of the approximation. \n",
    "\n",
    "For the number of grid points, this is intuitive: the more data you have, the more information about the function is available. "
   ]
  },
  {
   "cell_type": "markdown",
   "metadata": {
    "slideshow": {
     "slide_type": "subslide"
    }
   },
   "source": [
    "However, note that at least in the case of interpolation, the number of basis functions and coefficients increases with the number of grid points, and hence more points mean a larger system of linear equations to solve. \n",
    "\n",
    "Why the spacing of grid points matters is less obvious.  "
   ]
  },
  {
   "cell_type": "markdown",
   "metadata": {
    "slideshow": {
     "slide_type": "subslide"
    }
   },
   "source": [
    "#### Error in Polynomial Interpolation\n",
    "\n",
    "Let $p_n(x)$ be a polynomial of degree $n$ interpolating to the data $\\{x_i, y_i\\}_{i = 1}^{m}$, with $m = n + 1$. \n",
    "\n",
    "Define $\\omega_{n+1}(x) = (x - x_1) (x - x_2) \\cdot ... \\cdot (x - x_{n+1}) $ and suppose that $x, x_i \\in [g_{min}, g_{max}]$.\n"
   ]
  },
  {
   "cell_type": "markdown",
   "metadata": {
    "slideshow": {
     "slide_type": "subslide"
    }
   },
   "source": [
    "It can be shown that\n",
    "\\begin{equation}\n",
    "    \\max_{x \\in [g_{min}, g_{max}]} \\left|\\ f(x) - p_n(x)\\ \\right| \\le \\max_{x \\in [g_{min}, g_{max}]} \\left|\\ \\omega_{n+1}(x)\\right| \\frac{\\max_{z \\in [g_{min}, g_{max}]} \\left|\\ f^{(n + 1)} (z)\\ \\right|}{(n + 1)!}  \n",
    "\\end{equation}\n",
    "\n",
    "where $f^{(n + 1)}$ is the $(n + 1)$st derivative of $f$. "
   ]
  },
  {
   "cell_type": "markdown",
   "metadata": {
    "slideshow": {
     "slide_type": "subslide"
    }
   },
   "source": [
    "The left-hand side of this expression is the *interpolation error* when approximating $f$ with a polynomial. Hence, the right-hand side provides an *upper bound* on this error. \n",
    "\n",
    "Note that if $x = x_i$, we have $\\omega_{n+1}(x) = 0$ and hence the interpolation error is zero, which is intuitive. The same is true when the function $f$ is a polynomial of degree $n$, since then $f^{(n + 1)} = 0$. "
   ]
  },
  {
   "cell_type": "markdown",
   "metadata": {
    "slideshow": {
     "slide_type": "subslide"
    }
   },
   "source": [
    "We are interested in keeping the interpolation error as small as possible. Note that among the two terms on the right hand side, the term\n",
    "\n",
    "\\begin{equation}\n",
    "     \\frac{\\max_{z \\in [g_{min}, g_{max}]} \\left|\\ f^{(n + 1)} (z)\\ \\right|}{(n + 1)!}  \n",
    "\\end{equation}\n",
    "\n",
    "is determined by the function to approximate, and hence we cannot do anything to minimize it."
   ]
  },
  {
   "cell_type": "markdown",
   "metadata": {
    "slideshow": {
     "slide_type": "subslide"
    }
   },
   "source": [
    "However, the term\n",
    "\n",
    "\\begin{equation}\n",
    "    \\max_{x \\in [g_{min}, g_{max}]} \\left|\\ \\omega_{n+1}(x)\\ \\right|  = \\max_{x \\in [g_{min}, g_{max}]} \\left|\\ (x - x_1) (x - x_2) \\cdot ... \\cdot (x - x_{n+1})\\ \\right| \n",
    "\\end{equation}\n",
    "\n",
    "does not depend on the function, but instead depends on our choice of the grid points $x_1, x_2, ..., x_n$. It turns out that the so-called *Chebyshev nodes* are a good choice to keep this term small.  "
   ]
  },
  {
   "cell_type": "markdown",
   "metadata": {
    "slideshow": {
     "slide_type": "subslide"
    }
   },
   "source": [
    "#### Chebyshev Nodes\n",
    "\n",
    "Let $m$ be the number of grid points, indexed by $i$. The Chebyshev nodes between $-1$ and $1$ are given by\n",
    "\n",
    "\\begin{equation}\n",
    "\tz_i = \\cos\\left(- \\frac{(2i - 1)\\pi}{2m}\\right), \\quad i = 1, ..., m\n",
    "\\end{equation}\n",
    "\n",
    "The following function implements this expression in Python."
   ]
  },
  {
   "cell_type": "code",
   "execution_count": 19,
   "metadata": {
    "slideshow": {
     "slide_type": "subslide"
    }
   },
   "outputs": [],
   "source": [
    "def chebnodes(m):\n",
    "    \"\"\" \n",
    "    Computes m Chebyshev nodes between -1 and 1.\n",
    "    \"\"\"\n",
    "    i = np.array( range(1, m+1) )\n",
    "    return -np.cos(0.5 * np.pi * (2 * i - 1) / m)"
   ]
  },
  {
   "cell_type": "markdown",
   "metadata": {
    "slideshow": {
     "slide_type": "subslide"
    }
   },
   "source": [
    "It can be shown that the Chebyshev nodes are the roots of the Chebyshev polynomial $T_m(x)$. For example, let $m = 2$. Recall that $T_2(x) = 2x^2 - 1$, which has roots at $\\sqrt{0.5}$ and $-\\sqrt{0.5}$. Computing the Chebyshev notes for $ m = 2$ gives:"
   ]
  },
  {
   "cell_type": "code",
   "execution_count": 20,
   "metadata": {
    "slideshow": {
     "slide_type": "-"
    }
   },
   "outputs": [
    {
     "data": {
      "text/plain": [
       "array([-0.70710678,  0.70710678])"
      ]
     },
     "execution_count": 20,
     "metadata": {},
     "output_type": "execute_result"
    }
   ],
   "source": [
    "chebnodes(2)"
   ]
  },
  {
   "cell_type": "markdown",
   "metadata": {
    "slideshow": {
     "slide_type": "subslide"
    }
   },
   "source": [
    "Plotting the Chebyshev nodes between -1 and 1 shows that they are not equally spaced, but more \"bunched up\" towards the end points of this interval. \n",
    "\n",
    "Note also that these end points are *not* included in the Chebyshev nodes.  "
   ]
  },
  {
   "cell_type": "code",
   "execution_count": 21,
   "metadata": {
    "slideshow": {
     "slide_type": "subslide"
    }
   },
   "outputs": [
    {
     "data": {
      "text/plain": [
       "[<matplotlib.lines.Line2D at 0x2742e3d7908>]"
      ]
     },
     "execution_count": 21,
     "metadata": {},
     "output_type": "execute_result"
    },
    {
     "data": {
      "image/png": "[encoded data removed]",
      "text/plain": [
       "<Figure size 432x288 with 1 Axes>"
      ]
     },
     "metadata": {
      "needs_background": "light"
     },
     "output_type": "display_data"
    }
   ],
   "source": [
    "fig, ax = plt.subplots()\n",
    "ax.plot(chebnodes(9), np.zeros(9), '*')"
   ]
  },
  {
   "cell_type": "markdown",
   "metadata": {
    "slideshow": {
     "slide_type": "subslide"
    }
   },
   "source": [
    "The following piece of code illustrates the difference between Chebyshev nodes and equally spaced grid points when evaluating the function $ \\omega_{n+1}(x) $. \n",
    "\n",
    "For five grid points, the maximum value of $\\left|\\ \\omega_{n+1}(x)\\ \\right|$  (which is what matters for the error bound) is cut by more than half when using Chebyshev nodes. It is easy to check that this difference is even higher when increasing the number of grid points."
   ]
  },
  {
   "cell_type": "code",
   "execution_count": 22,
   "metadata": {
    "slideshow": {
     "slide_type": "subslide"
    }
   },
   "outputs": [],
   "source": [
    "def eval_omega(x, nodes):\n",
    "    '''\n",
    "    Evaluates the function omega for a given x \n",
    "    '''\n",
    "    return np.prod([(x - node) for node in nodes], axis = 0)"
   ]
  },
  {
   "cell_type": "code",
   "execution_count": 23,
   "metadata": {
    "scrolled": true,
    "slideshow": {
     "slide_type": "-"
    }
   },
   "outputs": [],
   "source": [
    "## evaluate omega at equally spaced grid points and plot\n",
    "n = 5\n",
    "nodes_es = np.linspace(-1, 1, n+1)\n",
    "\n",
    "## evaluate omega at Chebyshev nodes and plot\n",
    "nodes_cheb = chebnodes(n+1)"
   ]
  },
  {
   "cell_type": "code",
   "execution_count": 24,
   "metadata": {
    "scrolled": false,
    "slideshow": {
     "slide_type": "subslide"
    }
   },
   "outputs": [
    {
     "data": {
      "text/plain": [
       "<matplotlib.legend.Legend at 0x2742e44e8c8>"
      ]
     },
     "execution_count": 24,
     "metadata": {},
     "output_type": "execute_result"
    },
    {
     "data": {
      "image/png": "[encoded data removed]",
      "text/plain": [
       "<Figure size 432x288 with 1 Axes>"
      ]
     },
     "metadata": {
      "needs_background": "light"
     },
     "output_type": "display_data"
    }
   ],
   "source": [
    "x = np.linspace(-1, 1, 100)\n",
    "\n",
    "fig, ax = plt.subplots()\n",
    "ax.plot(x, eval_omega(x, nodes_es), label = 'Equally spaced')\n",
    "ax.plot(x, eval_omega(x, nodes_cheb), label = 'Chebyshev')\n",
    "ax.legend()"
   ]
  },
  {
   "cell_type": "markdown",
   "metadata": {
    "slideshow": {
     "slide_type": "subslide"
    }
   },
   "source": [
    "This result can also be formalized: for a continuously differentiable function $f$, the interpolation error when approximating it with a polynomial of order $n$ on $n + 1$ Chebyshev nodes on the interval $[g_{min}, g_{max}]$ is bounded by:\n",
    "\n",
    "\\begin{equation}\n",
    "    \\max_{x \\in [g_{min}, g_{max}]} \\left|\\ f(x) - p_n(x)\\ \\right| \\le \\frac{6}{n} (g_{max} - g_{min}) [\\log(n) / \\pi + 1] \\max_{z \\in [g_{min}, g_{max}]} \\left|\\ f' (z)\\ \\right| \n",
    "\\end{equation}"
   ]
  },
  {
   "cell_type": "markdown",
   "metadata": {
    "slideshow": {
     "slide_type": "subslide"
    }
   },
   "source": [
    "Importantly, this error approaches zero as $n$ rises. Hence, we can achieve a desired degree of accuracy (i.e., make the interpolation error arbitrarily small) by increasing the degree of approximation and hence the number of Chebyshev nodes. \n",
    "\n",
    "Note that while we have stated this property in terms of interpolation, using Chebyshev nodes also puts a bound on the approximation error when using least-squares regression."
   ]
  },
  {
   "cell_type": "markdown",
   "metadata": {
    "slideshow": {
     "slide_type": "subslide"
    }
   },
   "source": [
    "One could suspect that a crucial disadvantage of using Chebyshev nodes is that they are only defined between -1 and 1. However, with $\\{z_i\\}$ denoting the $m$ Chebyshev nodes on $[-1,1]$, we can easily define the corresponding Chebyshev nodes on $[g_{min}, g_{max}]$ as:\n",
    "\n",
    "\\begin{equation}\n",
    "    \\tilde{z}_i = g_{min} + \\frac{(z_i + 1) ( g_{max} - g_{min})}{2} \\quad \\text{for}\\ i = 1,...,m\n",
    "\\end{equation}"
   ]
  },
  {
   "cell_type": "markdown",
   "metadata": {
    "slideshow": {
     "slide_type": "subslide"
    }
   },
   "source": [
    "This is implemented in the function **chebgrid** below. The reverse operation is executed by the function **chebconvert**, which is going to be useful below."
   ]
  },
  {
   "cell_type": "code",
   "execution_count": 25,
   "metadata": {
    "slideshow": {
     "slide_type": "-"
    }
   },
   "outputs": [],
   "source": [
    "def chebgrid(g_min, g_max, m):\n",
    "    \"\"\" \n",
    "    Computes num Chebyshev nodes on the interval [g_min, g_max].\n",
    "    \"\"\"\n",
    "    z = chebnodes(m)\n",
    "    return g_min + (g_max - g_min) * 0.5 * (z + 1) \n",
    "\n",
    "def chebconvert(x, g_min, g_max):\n",
    "    \"\"\"\n",
    "    Transforms nodes between [g_min, g_max] to the interval [-1,1].\n",
    "    \"\"\"\n",
    "    return 2. * (x - g_min) / (g_max - g_min) - 1\n"
   ]
  },
  {
   "cell_type": "markdown",
   "metadata": {
    "slideshow": {
     "slide_type": "subslide"
    }
   },
   "source": [
    "Two more remarks on Chebyshev nodes:\n",
    "\n",
    "- It may not only be possible to evaluate the function $f$ at the Chebyshev nodes and hence obtain the data $y_i = f(z_i)$; if this is the case, one should still choose the grid points such that they are denser close to the end points of the interpolation interval."
   ]
  },
  {
   "cell_type": "markdown",
   "metadata": {
    "slideshow": {
     "slide_type": "subslide"
    }
   },
   "source": [
    "- *Extrapolation*, i.e. approximating a function *outside* of $[g_{min}, g_{max}]$ using the approximant $\\hat{f}$ found by interpolation at the Chebyshev nodes can be disastrous (even more so than when using equally spaced points). In general, extrapolation is never a good idea in the context of function approximation."
   ]
  },
  {
   "cell_type": "markdown",
   "metadata": {
    "slideshow": {
     "slide_type": "skip"
    }
   },
   "source": [
    "--------------------------------------------------------------------------------------------------------------------------------\n",
    "<a id = 'algo'></a>"
   ]
  },
  {
   "cell_type": "markdown",
   "metadata": {
    "slideshow": {
     "slide_type": "slide"
    }
   },
   "source": [
    "### Combining Chebyshev Nodes with a Chebyshev Basis\n",
    "\n",
    "We can summarize the main takeaways from the last two sections:\n",
    "\n",
    "- Choose Chebyshev nodes (when possible) as the approximation grid, in order to minimize the approximation error\n",
    "\n",
    "- Use a Chebyshev basis (i.e., Chebyshev polynomials as the basis functions) in order to make the interpolation matrix well-conditioned "
   ]
  },
  {
   "cell_type": "markdown",
   "metadata": {
    "slideshow": {
     "slide_type": "subslide"
    }
   },
   "source": [
    "With respect to the last point, it turns out that we can do even better when evaluating *a Chebyshev basis at the Chebyshev nodes*. Formally, we look at\n",
    "\n",
    "\\begin{equation}\n",
    "\\Phi_c =\n",
    "\\left[\n",
    "\\begin{array}{cccc}\n",
    "    T_0(z_1) & T_1(z_1) & \\cdots & T_n(z_1)  \\\\\n",
    "    \\vdots & \\vdots  & \\vdots \\\\\n",
    "    T_0(z_m) & T_1(z_m) & \\cdots & T_n(z_m) &\n",
    "\\end{array}\n",
    "\\right]\n",
    "\\end{equation}\n",
    "\n",
    "where $m = n + 1$ and $z_i$ are the Chebyshev nodes defined above. "
   ]
  },
  {
   "cell_type": "markdown",
   "metadata": {
    "slideshow": {
     "slide_type": "subslide"
    }
   },
   "source": [
    "Also recall that for $j = 0, ..., n$, the Chebyshev polynomials $T_j(x)$ are defined as: \n",
    "\n",
    "\\begin{equation}\n",
    "\tT_{j+1}(x) = 2x T_j(x) - T_{j-1},\n",
    "\\end{equation}\n",
    "\n",
    "for $j \\ge 1$, with $T_0(x) = 1$ and $T_1(x) = x$. In the following, I will refer to $\\Phi_c$ as the \"Chebyshev matrix\"."
   ]
  },
  {
   "cell_type": "markdown",
   "metadata": {
    "slideshow": {
     "slide_type": "subslide"
    }
   },
   "source": [
    "The Python function **chebmatrix** implements the Chebyshev matrix, i.e. evaluates the Chebyshev polynomials up to degree $n$ at $m$ Chebyshev nodes, with $m \\ge n + 1$. For this, the user needs to provide the arguments **deg** (the degree of approximation) and **'m'**. The function returns an **m-by-deg+1** Numpy array.\n",
    "\n",
    "In addition, **chebmatrix** also evaluates the Chebyshev polynomials at a scalar or array **'x'**. In this case, the function still returns an **m-by-deg+1**, where **'m'** is the length of the input **x**. "
   ]
  },
  {
   "cell_type": "code",
   "execution_count": 26,
   "metadata": {
    "slideshow": {
     "slide_type": "subslide"
    }
   },
   "outputs": [],
   "source": [
    "def chebmatrix(deg, m = None, x = None):\n",
    "    \"\"\"\n",
    "    Computes the m-by-(deg+1) matrix with Chebyshev basis functions of degree deg for m Chebyshev nodes.\n",
    "    \"\"\"\n",
    "    ## check if a second argument is provided\n",
    "    assert (m != None or np.sum(x) != None), \"Please provide the number of grid points or an input vector/scalar x!\"\n",
    "    \n",
    "    ## check if x values are provided\n",
    "    if x is None: # default: Chebyshev nodes between -1 and 1 (for interpolation/regression) \n",
    "        z = chebnodes(m)\n",
    "    elif isinstance(x, (list, tuple, np.ndarray)):    # arbitrary vector (for approximation)\n",
    "        z, m  = x, len(x) \n",
    "    else:    # arbitrary scalar (for approximation)\n",
    "        z, m = x, 1 \n",
    "\n",
    "    ## define numpy array and fill second column     \n",
    "    T = np.ones((m, deg + 1))\n",
    "    T[:,1] = z\n",
    "    \n",
    "    ## loop over columns in T; each column corresponds to the Chebyshev basis functions for deg col_idx\n",
    "    for col_idx in range(1, deg):\n",
    "        T[:,col_idx+1] = 2 * z * T[:,col_idx] - T[:,col_idx - 1]\n",
    "    return T"
   ]
  },
  {
   "cell_type": "code",
   "execution_count": 27,
   "metadata": {
    "slideshow": {
     "slide_type": "subslide"
    }
   },
   "outputs": [
    {
     "name": "stdout",
     "output_type": "stream",
     "text": [
      "[[ 1.00000000e+00 -7.07106781e-01  2.22044605e-16  7.07106781e-01\n",
      "  -1.00000000e+00]\n",
      " [ 1.00000000e+00  7.07106781e-01 -2.22044605e-16 -7.07106781e-01\n",
      "  -1.00000000e+00]]\n",
      "[[ 1.      0.1    -0.98   -0.296   0.9208]]\n",
      "[[ 1.      0.1    -0.98   -0.296   0.9208]\n",
      " [ 1.      0.2    -0.92   -0.568   0.6928]]\n"
     ]
    }
   ],
   "source": [
    "## Examples for different ways to use chebmatrix function\n",
    "print(chebmatrix(4, 2))\n",
    "print(chebmatrix(4, x = 0.1))\n",
    "print(chebmatrix(4, x = np.array([0.1, 0.2])))\n",
    "# print(chebmatrix(4)) -> only one argument, throws an error!"
   ]
  },
  {
   "cell_type": "markdown",
   "metadata": {
    "slideshow": {
     "slide_type": "subslide"
    }
   },
   "source": [
    "As seen above, NumPy has a function **polynomial.chebyshev.chebvander**, which gives the same matrices. Using **chebmatrix** provides a short-cut, in particular for the default Chebyshev matrix case."
   ]
  },
  {
   "cell_type": "code",
   "execution_count": 28,
   "metadata": {
    "slideshow": {
     "slide_type": "-"
    }
   },
   "outputs": [
    {
     "name": "stdout",
     "output_type": "stream",
     "text": [
      "[[ 1.00000000e+00 -7.07106781e-01  2.22044605e-16  7.07106781e-01\n",
      "  -1.00000000e+00]\n",
      " [ 1.00000000e+00  7.07106781e-01 -2.22044605e-16 -7.07106781e-01\n",
      "  -1.00000000e+00]]\n",
      "[[ 1.      0.1    -0.98   -0.296   0.9208]\n",
      " [ 1.      0.2    -0.92   -0.568   0.6928]]\n"
     ]
    }
   ],
   "source": [
    "## Use Numpy's polynomial.chebyshev package\n",
    "print( np_cheb.chebvander(chebnodes(2), 4) )\n",
    "print( np_cheb.chebvander(np.array([0.1, 0.2]), 4) )"
   ]
  },
  {
   "cell_type": "markdown",
   "metadata": {
    "slideshow": {
     "slide_type": "subslide"
    }
   },
   "source": [
    "To see the advantage of using the Chebyshev matrix, compare its condition number to a matrix with a Chebyshev basis evaluated at an equally spaced grid (as above)."
   ]
  },
  {
   "cell_type": "code",
   "execution_count": 29,
   "metadata": {
    "slideshow": {
     "slide_type": "-"
    }
   },
   "outputs": [
    {
     "name": "stdout",
     "output_type": "stream",
     "text": [
      "225.73172355048413\n"
     ]
    }
   ],
   "source": [
    "m = 15\n",
    "x = np.linspace(-1,1,m)\n",
    "Phi = np_cheb.chebvander(x, m-1)\n",
    "print( np.linalg.cond(Phi) )"
   ]
  },
  {
   "cell_type": "code",
   "execution_count": 30,
   "metadata": {
    "slideshow": {
     "slide_type": "-"
    }
   },
   "outputs": [
    {
     "name": "stdout",
     "output_type": "stream",
     "text": [
      "1.4142135623730974\n"
     ]
    }
   ],
   "source": [
    "Phi_c = chebmatrix(m-1, m)\n",
    "print( np.linalg.cond(Phi_c) )"
   ]
  },
  {
   "cell_type": "markdown",
   "metadata": {
    "slideshow": {
     "slide_type": "subslide"
    }
   },
   "source": [
    "In the latter case, we get a condition number of $\\sqrt{2}$. Importantly, this condition number is not only very near the minimum of 1, but it is also *independent from the degree of approximation and number of Chebyshev nodes*. \n",
    "\n",
    "This implies that combining a Chebyshev basis with Chebyshev nodes gives a very well-conditioned interpolation matrix, and hence the interpolation equation $\\Phi_c a = y$ can be solved accurately and efficiently. "
   ]
  },
  {
   "cell_type": "markdown",
   "metadata": {
    "slideshow": {
     "slide_type": "subslide"
    }
   },
   "source": [
    "More generally, note that the Chebyshev matrix with $m \\ge n + 1$ is *orthogonal*: if the Chebyshev polynomials are evaluated at $m$ Chebyshev nodes, the following holds: \n",
    "\n",
    "\\begin{equation}\n",
    "\\sum _{i=1}^{m}{T_{j}(z_{i})T_{k}(z_{i})}={\\begin{cases}0\\ \\text{if}\\ j\\neq k\\\\m\\ \\text{if}\\ j=k=0\\\\{\\frac {m}{2}}\\ \\text{if}\\ j=k\\neq 0\\end{cases}}\n",
    "\\end{equation}"
   ]
  },
  {
   "cell_type": "markdown",
   "metadata": {
    "slideshow": {
     "slide_type": "subslide"
    }
   },
   "source": [
    "We can confirm this numerically:"
   ]
  },
  {
   "cell_type": "code",
   "execution_count": 31,
   "metadata": {
    "slideshow": {
     "slide_type": "-"
    }
   },
   "outputs": [
    {
     "name": "stdout",
     "output_type": "stream",
     "text": [
      "-9.992007221626409e-16 2.942091015256665e-15 -8.881784197001252e-16\n",
      "12.0 5.999999999999998 5.999999999999998\n"
     ]
    }
   ],
   "source": [
    "m = 9\n",
    "T = chebmatrix(5, m)\n",
    "print(np.sum(T[:,2] * T[:,3]), np.sum(T[:,5] * T[:,4]), np.sum(T[:,0] * T[:,2]))\n",
    "m = 12\n",
    "T = chebmatrix(5, m)\n",
    "print(np.sum(T[:,0] * T[:,0]), np.sum(T[:,5] * T[:,5]), np.sum(T[:,4] * T[:,4]))"
   ]
  },
  {
   "cell_type": "markdown",
   "metadata": {
    "slideshow": {
     "slide_type": "subslide"
    }
   },
   "source": [
    "This implies that the $(n+1)\\times (n+1)$ matrix $\\Phi_c^T \\Phi_c$ is a diagonal matrix, with the diagonal elements being equal to either $m/2$ or $m$. Again, we can verify this numerically: "
   ]
  },
  {
   "cell_type": "code",
   "execution_count": 32,
   "metadata": {
    "slideshow": {
     "slide_type": "-"
    }
   },
   "outputs": [
    {
     "name": "stdout",
     "output_type": "stream",
     "text": [
      "[[ 6.00000000e+00 -4.44089210e-16 -3.33066907e-16]\n",
      " [-4.44089210e-16  3.00000000e+00 -7.07007168e-16]\n",
      " [-3.33066907e-16 -7.07007168e-16  3.00000000e+00]]\n"
     ]
    }
   ],
   "source": [
    "m = 6\n",
    "n = 2\n",
    "Phi_c = chebmatrix(n, m)\n",
    "print( Phi_c.T @ Phi_c)"
   ]
  },
  {
   "cell_type": "markdown",
   "metadata": {
    "slideshow": {
     "slide_type": "subslide"
    }
   },
   "source": [
    "Why is this useful? Recall that when approximating a function $f$ using LS regression, we face the problem:\n",
    "\n",
    "\\begin{equation}\n",
    "    \\min_{a_0, ..., a_n} \\sum_{i = 1}^m \\left[ \\sum_{j = 0}^{n} a_j B_j(x_i) - y_i \\right]^2.\n",
    "\\end{equation} "
   ]
  },
  {
   "cell_type": "markdown",
   "metadata": {
    "slideshow": {
     "slide_type": "subslide"
    }
   },
   "source": [
    "For ease of exposition, denote \n",
    "\\begin{equation}\n",
    "    \\hat{y}_i = \\sum_{j = 0}^{n} a_j B_j(x_i). \n",
    "\\end{equation}\n",
    "\n",
    "Taking first-order conditions gives the elements of the gradient:\n",
    "\n",
    "\\begin{equation}\n",
    "    2 \\sum_{i = 1}^m [\\hat{y}_i - y_i] B_j(x_i) = 0,\\ j=0,..,n\n",
    "\\end{equation}"
   ]
  },
  {
   "cell_type": "markdown",
   "metadata": {
    "slideshow": {
     "slide_type": "subslide"
    }
   },
   "source": [
    "Rearranging this expression, we get the following system of equation for $j = 0, ..., n$:\n",
    "\n",
    "\\begin{equation}\n",
    "\\begin{split}\n",
    "    \\sum_{i = 1}^m y_i B_j(x_i) &= \\sum_{i = 1}^m B_j(x_i) \\left[ \\sum_{k = 0}^{n} a_k B_k(x_i)  \\right] =  \\sum_{i = 1}^m \\sum_{k = 0}^{n} a_k B_j(x_i)  B_k(x_i)\\\\\n",
    "    &= \\sum_{k = 0}^{n} a_k \\sum_{i = 1}^m  B_j(x_i)  B_k(x_i) \n",
    "\\end{split}\n",
    "\\end{equation}\n"
   ]
  },
  {
   "cell_type": "markdown",
   "metadata": {
    "slideshow": {
     "slide_type": "subslide"
    }
   },
   "source": [
    "Now, suppose we use Chebyshev basis functions, evaluated at the Chebyshev nodes:\n",
    "\n",
    "\\begin{equation}\n",
    "    \\sum_{i = 1}^m y_i T_j(z_i) = \\sum_{k = 0}^{n} a_k \\sum_{i = 1}^m  T_j(z_i)  T_k(z_i) \n",
    "\\end{equation}\n",
    "\n",
    "Recall from above that\n",
    "\n",
    "\\begin{equation}\n",
    "\\sum _{i=1}^{m}{T_{j}(z_{i})T_{k}(z_{i})}={\\begin{cases}0\\quad \\text{if}\\ j\\neq k\\\\m\\quad \\text{if}\\ j=k=0\\\\{\\frac {m}{2}}\\quad \\text{if}\\ j=k\\neq 0\\end{cases}}\n",
    "\\end{equation}"
   ]
  },
  {
   "cell_type": "markdown",
   "metadata": {
    "slideshow": {
     "slide_type": "subslide"
    }
   },
   "source": [
    "Hence, in the sum over $k$ on the right hand side, all elements are zero except for $k = j$:\n",
    "\n",
    "\\begin{equation}\n",
    "    \\sum_{i = 1}^m y_i T_j(z_i) = a_j \\sum_{i = 1}^m  T_j(z_i)  T_j(z_i) \n",
    "\\end{equation}"
   ]
  },
  {
   "cell_type": "markdown",
   "metadata": {
    "slideshow": {
     "slide_type": "subslide"
    }
   },
   "source": [
    "This easy to solve for $a_j$:\n",
    "\n",
    "\\begin{equation}\n",
    "    a_j = \\frac{\\sum_{i = 1}^m y_i T_j(z_i)}{\\sum_{i = 1}^m  T_j(z_i)  T_j(z_i)} = {\\begin{cases}\\frac{\\sum_{i = 1}^m y_i T_j(z_i)}{m} \\quad \\text{if}\\ j=0\\\\  2\\frac{\\sum_{i = 1}^m y_i T_j(z_i)}{m}  \\quad \\text{if}\\ j\\neq 0\\end{cases}}, \\quad j = 0, ..., n\n",
    "\\end{equation}\n",
    "\n",
    "In other words, when using a Chebyshev basis evaluated at the Chebyshev nodes, we can solve the minimization problem underlying least-squares regression in a straightforward fashion."
   ]
  },
  {
   "cell_type": "markdown",
   "metadata": {
    "slideshow": {
     "slide_type": "subslide"
    }
   },
   "source": [
    "We can express the same idea using matrix notation. In this case, the regression problem can be written as (verify this!):\n",
    "\n",
    "\\begin{equation}\n",
    "    \\min_{a} \\left| \\left| \\ \\Phi a - y\\ \\right| \\right|^2 = (\\Phi a - y)^T (\\Phi a - y)\n",
    "\\end{equation} \n",
    "\n",
    "\n",
    "and recall that the general $\\Phi$ has been defined as:\n",
    "\n",
    "\\begin{equation}\n",
    "\\Phi =\n",
    "\\left[\n",
    "\\begin{array}{cccc}\n",
    "    B_0(x_1) & B_1(x_1) & \\cdots & B_n(x_1)  \\\\\n",
    "    \\vdots & \\vdots  & \\vdots \\\\\n",
    "    B_0(x_m) & B_1(x_m) & \\cdots & B_n(x_m) &\n",
    "\\end{array}\n",
    "\\right]\n",
    "\\end{equation}"
   ]
  },
  {
   "cell_type": "markdown",
   "metadata": {
    "slideshow": {
     "slide_type": "subslide"
    }
   },
   "source": [
    "Solving the minimization problem gives the following system of linear equations:\n",
    "\n",
    "\\begin{equation}\n",
    "     (\\Phi^T \\Phi) a = \\Phi^T y  \n",
    "\\end{equation}\n",
    "\n",
    "When using the Chebyshev matrix $\\Phi^T$,  $\\Phi^T \\Phi$ is diagonal, and hence we know that we can solve this system very easily. This last expression is equivalent to the expression for $a_j$ above."
   ]
  },
  {
   "cell_type": "markdown",
   "metadata": {
    "slideshow": {
     "slide_type": "subslide"
    }
   },
   "source": [
    "#### Summary: A Chebyshev Approximation Algorithm\n",
    "\n",
    "Based on the insights above, we can state the following algorithm for approximating a function $f$ for $x \\in [g_{min}, g_{max}]$ using a polynomial of degree $n$ and $m \\ge n + 1$ grid points:\n",
    "\n",
    "(i) Compute the $m \\ge n + 1$ Chebyshev nodes on $[-1, 1]$: \n",
    "\n",
    "\\begin{equation}\n",
    "\tz_i = \\cos\\left(- \\frac{(2i - 1)\\pi}{2m}\\right), \\quad i = 1, ..., m\n",
    "\\end{equation}"
   ]
  },
  {
   "cell_type": "markdown",
   "metadata": {
    "slideshow": {
     "slide_type": "subslide"
    }
   },
   "source": [
    "(ii) Translate the nodes to the $[g_{min}, g_{max}]$ interval:\n",
    "\n",
    "\\begin{equation}\n",
    "    x_i = g_{min} + \\frac{(z_i + 1) (g_{max} - g_{min})}{2}, \\quad\\ i = 1,...,m\n",
    "\\end{equation}\n",
    "\n",
    "(iii) Evaluate $f$ at the (translated) nodes:\n",
    "\n",
    "\\begin{equation}\n",
    "    y_i = f(x_i), \\quad\\ i = 1,...,m\n",
    "\\end{equation}"
   ]
  },
  {
   "cell_type": "markdown",
   "metadata": {
    "slideshow": {
     "slide_type": "subslide"
    }
   },
   "source": [
    "(iv) Compute the Chebyshev coefficients $a_i$, $ i = 0, ..., n $:\n",
    "- when $m = n + 1$, solve the system of linear equations \n",
    "\n",
    "\\begin{equation}\n",
    "\\begin{split}\n",
    "\\left[\n",
    "\\begin{array}{c}\n",
    "    y_{1}  \\\\\n",
    "    \\vdots  \\\\\n",
    "    y_{m}\n",
    "\\end{array}\n",
    "\\right] =\n",
    "\\left[\n",
    "\\begin{array}{cccc}\n",
    "    T_0(z_1) & T_1(z_1) & \\cdots & T_n(z_1)  \\\\\n",
    "    \\vdots & \\vdots  & \\vdots \\\\\n",
    "    T_0(z_m) & T_1(z_m) & \\cdots & T_n(z_m) &\n",
    "\\end{array}\n",
    "\\right]\n",
    "\\left[\n",
    "\\begin{array}{c}\n",
    "    a_{0}  \\\\\n",
    "    \\vdots  \\\\\n",
    "    a_{n}\n",
    "\\end{array}\n",
    "\\right] \n",
    "= \\Phi\n",
    "\\left[\n",
    "\\begin{array}{c}\n",
    "    a_{0}  \\\\\n",
    "    \\vdots  \\\\\n",
    "    a_{n}\n",
    "\\end{array}\n",
    "\\right] \n",
    "\\end{split}\n",
    "\\end{equation}"
   ]
  },
  {
   "cell_type": "markdown",
   "metadata": {
    "slideshow": {
     "slide_type": "subslide"
    }
   },
   "source": [
    "- more generally, when $m \\ge n + 1$, solve the system of linear equations\n",
    "\n",
    "\\begin{equation}\n",
    "     (\\Phi^T \\Phi) a = \\Phi^T y  \n",
    "\\end{equation}\n",
    "\n",
    "or, equivalently, compute \n",
    "\n",
    "\\begin{equation}\n",
    "    a_j = \\frac{\\sum_{i = 1}^m y_i T_j(z_i)}{\\sum_{i = 1}^m  T_j(z_i)  T_j(z_i)} = {\\begin{cases}\\frac{\\sum_{i = 1}^m y_i T_j(z_i)}{m} \\quad \\text{if}\\ j=k=0\\\\  2\\frac{\\sum_{i = 1}^m y_i T_j(z_i)}{m}  \\quad \\text{if}\\ j=k\\neq 0\\end{cases}}, \\quad j = 0, ..., n\n",
    "\\end{equation}"
   ]
  },
  {
   "cell_type": "markdown",
   "metadata": {
    "slideshow": {
     "slide_type": "subslide"
    }
   },
   "source": [
    "(v) Find the approximant $\\hat{f}(x)$ by evaluating\n",
    "\n",
    "\n",
    "\\begin{equation}\n",
    "    \\hat{f}(x) = \\sum_{j = 0}^{n} a_j T_j\\left( 2 \\frac{x - g_{min}}{g_{max} - g_{min}} - 1 \\right)\n",
    "\\end{equation}\n",
    "\n",
    "\n",
    "Note that in the last expression, the term in the parenthesis comes from translating a value $x$ in the interval $[g_{min}, g_{max}]$ to a value in the interval $[-1, 1]$, as done by the function **chebconvert** defined above. \n"
   ]
  },
  {
   "cell_type": "markdown",
   "metadata": {
    "slideshow": {
     "slide_type": "subslide"
    }
   },
   "source": [
    "The following function **chebapprox** implements this algorithm: it uses **chebmatrix** to compute the Chebyshev basis functions (by default at the Chebyshev nodes) and then solves the resulting system of linear equations using either interpolation (if the approximation degree corresponds to the length of the data vector **y**) or regression."
   ]
  },
  {
   "cell_type": "code",
   "execution_count": 33,
   "metadata": {
    "slideshow": {
     "slide_type": "subslide"
    }
   },
   "outputs": [],
   "source": [
    "def chebapprox(y, deg):\n",
    "    \"\"\"\n",
    "    Function to compute the Chebyshev coefficients using interpolation or regression\n",
    "    \"\"\"\n",
    "    m = len(y)\n",
    "    T = chebmatrix(deg, m)\n",
    "\n",
    "    if deg == m-1: # interpolation (default)\n",
    "        coef = np.linalg.solve(T,y)\n",
    "    else:\n",
    "        coef = np.ones(deg + 1)\n",
    "        for idx_deg in range(deg + 1):\n",
    "            coef[idx_deg] = sum(y * T[:,idx_deg]) / sum(T[:,idx_deg]**2)\n",
    "            \n",
    "    return coef        \n",
    "            \n"
   ]
  },
  {
   "cell_type": "markdown",
   "metadata": {
    "slideshow": {
     "slide_type": "subslide"
    }
   },
   "source": [
    "Again, there is a Numpy function, **np.polynomial.chebyshev.chebfit**, that does the same (but not with the default Chebyshev nodes). We will see its use below. "
   ]
  },
  {
   "cell_type": "markdown",
   "metadata": {
    "slideshow": {
     "slide_type": "skip"
    }
   },
   "source": [
    "--------------------------------------------------------------------------------------------------------------------------------\n",
    "<a id = 'funapprox1'></a>"
   ]
  },
  {
   "cell_type": "markdown",
   "metadata": {
    "slideshow": {
     "slide_type": "slide"
    }
   },
   "source": [
    "### Examples: Univariate Function Approximation in Python\n",
    "\n",
    "#### Example 1: Function Approximation for known functions\n",
    "\n",
    "Below I approximate the function $y = \\exp(-\\alpha x)$ between 0 and 2 (compare the Matlab example by Miranda and Fackler for a different interval)."
   ]
  },
  {
   "cell_type": "code",
   "execution_count": 44,
   "metadata": {
    "slideshow": {
     "slide_type": "subslide"
    }
   },
   "outputs": [],
   "source": [
    "def fun(x, alpha = 2):\n",
    "    \"\"\"\n",
    "    Exponential function\n",
    "    \"\"\"\n",
    "    return np.exp(-alpha * x)"
   ]
  },
  {
   "cell_type": "code",
   "execution_count": 45,
   "metadata": {
    "slideshow": {
     "slide_type": "-"
    }
   },
   "outputs": [],
   "source": [
    "## min and max for approximation grid\n",
    "g_min, g_max = 0, 2\n",
    "## number of grid points\n",
    "m = 9\n",
    "## Chebyshev grid and function values\n",
    "p_nodes = chebgrid(g_min, g_max, m)\n",
    "y = fun(p_nodes) "
   ]
  },
  {
   "cell_type": "code",
   "execution_count": 46,
   "metadata": {
    "slideshow": {
     "slide_type": "subslide"
    }
   },
   "outputs": [
    {
     "name": "stdout",
     "output_type": "stream",
     "text": [
      "[ 3.08508323e-01 -4.30538578e-01  1.86478067e-01 -5.75824453e-02\n",
      "  1.37307308e-02 -2.65952214e-03  4.33119221e-04 -6.07958356e-05\n",
      "  7.41574370e-06]\n",
      "[ 3.08508323e-01 -4.30538578e-01  1.86478067e-01 -5.75824453e-02\n",
      "  1.37307308e-02 -2.65952214e-03  4.33119221e-04 -6.07958356e-05\n",
      "  7.41574370e-06]\n"
     ]
    }
   ],
   "source": [
    "a1 = chebapprox(y, m-1)            \n",
    "a2 = np_cheb.chebfit(chebconvert(p_nodes, g_min, g_max), y, m-1)    \n",
    "\n",
    "print(a1)\n",
    "print(a2) "
   ]
  },
  {
   "cell_type": "code",
   "execution_count": 47,
   "metadata": {
    "slideshow": {
     "slide_type": "subslide"
    }
   },
   "outputs": [],
   "source": [
    "## interpolate over dense grid and plot\n",
    "x = np.linspace(g_min, g_max, 1001)\n",
    "y_approx1 = chebmatrix(m-1, x = chebconvert(x, g_min, g_max)) @ a1\n",
    "y_approx2 = np_cheb.chebval(chebconvert(x, g_min, g_max), a2) "
   ]
  },
  {
   "cell_type": "code",
   "execution_count": 48,
   "metadata": {
    "slideshow": {
     "slide_type": "subslide"
    }
   },
   "outputs": [
    {
     "data": {
      "text/plain": [
       "[<matplotlib.lines.Line2D at 0x2742e9d6e48>]"
      ]
     },
     "execution_count": 48,
     "metadata": {},
     "output_type": "execute_result"
    },
    {
     "data": {
      "image/png": "[encoded data removed]",
      "text/plain": [
       "<Figure size 432x288 with 1 Axes>"
      ]
     },
     "metadata": {
      "needs_background": "light"
     },
     "output_type": "display_data"
    }
   ],
   "source": [
    "## plot approximation errors\n",
    "fig, ax = plt.subplots()\n",
    "ax.plot(x, fun(x) - y_approx1)\n",
    "ax.plot(x, fun(x) - y_approx2)"
   ]
  },
  {
   "cell_type": "markdown",
   "metadata": {
    "collapsed": true,
    "slideshow": {
     "slide_type": "subslide"
    }
   },
   "source": [
    "#### Example 2: Approximating the Derivative\n",
    "\n",
    "Suppose you have a function $f$ approximated by a Chebyshev series:\n",
    "\n",
    "\\begin{equation}\n",
    "   f(x) \\approx p_n(x) = \\sum_{j = 0}^n a_j T_j(x)\n",
    "\\end{equation}"
   ]
  },
  {
   "cell_type": "markdown",
   "metadata": {
    "collapsed": true,
    "slideshow": {
     "slide_type": "subslide"
    }
   },
   "source": [
    "Then, the derivative of $f$ can be approximated by the derivative of $p_n$, which makes use of the derivatives of the Chebyshev basis functions:\n",
    "\n",
    "\\begin{equation}\n",
    "   f'(x) \\approx p'_n(x) = \\sum_{j = 0}^n a_j T'_j(x)\n",
    "\\end{equation}\n"
   ]
  },
  {
   "cell_type": "markdown",
   "metadata": {
    "slideshow": {
     "slide_type": "subslide"
    }
   },
   "source": [
    "As an example, consider $n = 3$ and recall the Chebyshev basis functions from above:\n",
    "\n",
    "\\begin{equation}\n",
    "   p_3(x) = \\sum_{j = 0}^3 a_j T_j(x) = a_0 + a_1 x + a_2 (2x^2 - 1) + a_3 (4x^3 - 3x)\n",
    "\\end{equation}\n",
    "\n",
    "Taking the first derivative w.r.t. $x$ gives:\n",
    "\n",
    "\\begin{equation}\n",
    "\\begin{split}\n",
    "   \\frac{\\partial p_3(x)}{\\partial x} &= a_1 + 4a_2x + 12a_3 x^2 - 3a_3 \\\\\n",
    "   &= (a_1 + 3a_3) + (4 a_2) x + (6a_3) (2x^2 - 1)\n",
    "\\end{split}   \n",
    "\\end{equation}\n"
   ]
  },
  {
   "cell_type": "markdown",
   "metadata": {
    "slideshow": {
     "slide_type": "subslide"
    }
   },
   "source": [
    "Using the last rearrangement, we can see that this can be expressed as a Chebyshev series with $n = 2$: \n",
    "\n",
    "\\begin{equation}\n",
    "   \\frac{\\partial p_3(x)}{\\partial x} = (a_1 + 3a_3) T_0(x) + (4 a_2) T_1(x) + (6a_3) T_2(x)\n",
    "\\end{equation}"
   ]
  },
  {
   "cell_type": "markdown",
   "metadata": {
    "slideshow": {
     "slide_type": "subslide"
    }
   },
   "source": [
    "In other words, for a Chebyshev series with parameters $(a_0, a_1, a_2, a_3)$, the first derivative is a Chebyshev series with coefficients $(a_1 + 3a_3, 4 a_2, 6a_3)$. \n",
    "\n",
    "An analogous argument can be made for any Chebyshev series of degree $n$: its first derivative is a Chebyshev series of degree $n -1$. "
   ]
  },
  {
   "cell_type": "markdown",
   "metadata": {
    "slideshow": {
     "slide_type": "subslide"
    }
   },
   "source": [
    "The Numpy function **chebder** takes the $n+1$ coefficients $(a_0, ..., a_n)$ as an input and computes the $n$ coefficients to be used for the approximation of the first derivative:"
   ]
  },
  {
   "cell_type": "code",
   "execution_count": 49,
   "metadata": {
    "slideshow": {
     "slide_type": "-"
    }
   },
   "outputs": [
    {
     "name": "stdout",
     "output_type": "stream",
     "text": [
      "[14. 12. 24.]\n"
     ]
    }
   ],
   "source": [
    "print(np_cheb.chebder([1,2,3,4]))"
   ]
  },
  {
   "cell_type": "code",
   "execution_count": 50,
   "metadata": {
    "slideshow": {
     "slide_type": "subslide"
    }
   },
   "outputs": [],
   "source": [
    "def fun(x, alpha = 2):\n",
    "    \"\"\"\n",
    "    Exponential function\n",
    "    \"\"\"\n",
    "    y = np.exp(-alpha * x)\n",
    "\n",
    "    return y\n",
    "\n",
    "def fun_d(x, alpha = 2):\n",
    "    \"\"\"\n",
    "    Derivative of the exponential function\n",
    "    \"\"\"\n",
    "    y = -alpha * np.exp(-alpha * x)\n",
    "\n",
    "    return y"
   ]
  },
  {
   "cell_type": "code",
   "execution_count": 51,
   "metadata": {
    "slideshow": {
     "slide_type": "subslide"
    }
   },
   "outputs": [],
   "source": [
    "## min and max for approximation grid\n",
    "g_min, g_max = 0, 2\n",
    "\n",
    "## number of grid points\n",
    "m = 9\n",
    "\n",
    "## Chebyshev grid and function values\n",
    "x_nodes = chebgrid(g_min, g_max, m)\n",
    "y = fun(x_nodes) "
   ]
  },
  {
   "cell_type": "code",
   "execution_count": 42,
   "metadata": {
    "scrolled": false,
    "slideshow": {
     "slide_type": "subslide"
    }
   },
   "outputs": [],
   "source": [
    "## interpolation step\n",
    "a = chebapprox(y, m - 1)\n",
    "\n",
    "## Coefficients to approximate derivative\n",
    "ad = np_cheb.chebder(a)\n",
    "\n",
    "## interpolate over wide grid\n",
    "x = np.linspace(g_min, g_max, 1001)\n",
    "yd_approx = np_cheb.chebval(chebconvert(x, g_min, g_max), ad) "
   ]
  },
  {
   "cell_type": "code",
   "execution_count": 43,
   "metadata": {
    "slideshow": {
     "slide_type": "subslide"
    }
   },
   "outputs": [
    {
     "data": {
      "text/plain": [
       "<matplotlib.legend.Legend at 0x2742e906fc8>"
      ]
     },
     "execution_count": 43,
     "metadata": {},
     "output_type": "execute_result"
    },
    {
     "data": {
      "image/png": "[encoded data removed]",
      "text/plain": [
       "<Figure size 432x288 with 1 Axes>"
      ]
     },
     "metadata": {
      "needs_background": "light"
     },
     "output_type": "display_data"
    }
   ],
   "source": [
    "## plot approximation errors\n",
    "fig, ax = plt.subplots()\n",
    "ax.plot(x, fun_d(x), label = 'Analytical derivative')\n",
    "ax.plot(x, yd_approx, label = 'Approximated derivative')\n",
    "ax.legend()"
   ]
  },
  {
   "cell_type": "markdown",
   "metadata": {
    "slideshow": {
     "slide_type": "skip"
    }
   },
   "source": [
    "--------------------------------------------------------------------------------------------------------------------------------"
   ]
  }
 ],
 "metadata": {
  "celltoolbar": "Slideshow",
  "kernelspec": {
   "display_name": "Python 3",
   "language": "python",
   "name": "python3"
  },
  "language_info": {
   "codemirror_mode": {
    "name": "ipython",
    "version": 3
   },
   "file_extension": ".py",
   "mimetype": "text/x-python",
   "name": "python",
   "nbconvert_exporter": "python",
   "pygments_lexer": "ipython3",
   "version": "3.7.5"
  }
 },
 "nbformat": 4,
 "nbformat_minor": 1
}
