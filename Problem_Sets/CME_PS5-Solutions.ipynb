{
 "cells": [
  {
   "cell_type": "markdown",
   "metadata": {
    "nbgrader": {
     "grade": false,
     "grade_id": "cell-ff41bfd971742b5f",
     "locked": true,
     "schema_version": 3,
     "solution": false,
     "task": false
    }
   },
   "source": [
    "# Computational Methods in Economics\n",
    "\n",
    "## Problem Set 5 - Data Analysis and Function Approximation"
   ]
  },
  {
   "cell_type": "markdown",
   "metadata": {
    "nbgrader": {
     "grade": false,
     "grade_id": "cell-a69909ea9ea572e8",
     "locked": true,
     "schema_version": 3,
     "solution": false,
     "task": false
    }
   },
   "source": [
    "#### DEADLINE: Friday, January 24, 6 pm"
   ]
  },
  {
   "cell_type": "markdown",
   "metadata": {
    "nbgrader": {
     "grade": false,
     "grade_id": "cell-3990712381996b5b",
     "locked": true,
     "schema_version": 3,
     "solution": false,
     "task": false
    }
   },
   "source": [
    "### Preliminaries\n",
    "\n",
    "#### Import Modules"
   ]
  },
  {
   "cell_type": "code",
   "execution_count": 1,
   "metadata": {
    "nbgrader": {
     "grade": false,
     "grade_id": "cell-b2465406307b475e",
     "locked": true,
     "schema_version": 3,
     "solution": false,
     "task": false
    }
   },
   "outputs": [],
   "source": [
    "import numpy as np\n",
    "import pandas as pd\n",
    "import scipy.optimize\n",
    "\n",
    "import matplotlib.pyplot as plt\n",
    "%matplotlib inline\n",
    "\n",
    "from sklearn import preprocessing\n",
    "from sklearn.linear_model import LinearRegression\n",
    "from sklearn.linear_model import SGDRegressor \n",
    "\n",
    "import funapprox_cme as fa"
   ]
  },
  {
   "cell_type": "markdown",
   "metadata": {
    "nbgrader": {
     "grade": false,
     "grade_id": "cell-957bfdc7c012f582",
     "locked": true,
     "schema_version": 3,
     "solution": false,
     "task": false
    }
   },
   "source": [
    "## Question 1\n",
    "\n",
    "In this question, we are going to apply different algorithms, among them the gradient descent minimization algorithm, on a linear least-squares regression problem. Consider the Bundesliga data set (**BundesligaData.csv**) used in the previous problem set. Let's assume we would like to regress a player's market value on his age, his number of goals and assists. "
   ]
  },
  {
   "cell_type": "markdown",
   "metadata": {
    "nbgrader": {
     "grade": false,
     "grade_id": "cell-9c1c43c6632dd0aa",
     "locked": true,
     "schema_version": 3,
     "solution": false,
     "task": false
    }
   },
   "source": [
    "(a) Read in the relevant parts of the data set using your preferred method. You should create a Numpy array **X** with the three explanatory variables (\"age\", \"goals\", \"assists\") and a flat Numpy array **y** with the dependent variable (\"value\"), for all 288 players."
   ]
  },
  {
   "cell_type": "code",
   "execution_count": 2,
   "metadata": {
    "nbgrader": {
     "grade": false,
     "grade_id": "cell-dd786e363f969368",
     "locked": false,
     "schema_version": 3,
     "solution": true,
     "task": false
    }
   },
   "outputs": [],
   "source": [
    "### BEGIN SOLUTION\n",
    "df = pd.read_csv('BundesligaData.csv', sep = ';')\n",
    "y = df['value'].values\n",
    "X = df.loc[:, ('age', 'goals', 'assists')].values\n",
    "### END SOLUTION"
   ]
  },
  {
   "cell_type": "code",
   "execution_count": 3,
   "metadata": {
    "nbgrader": {
     "grade": true,
     "grade_id": "cell-afe0942b1e66271a",
     "locked": true,
     "points": 1,
     "schema_version": 3,
     "solution": false,
     "task": false
    }
   },
   "outputs": [],
   "source": [
    "assert np.allclose( X.mean(axis = 0), np.array([25.55555556,  2.63194444,  1.875]) )"
   ]
  },
  {
   "cell_type": "markdown",
   "metadata": {
    "nbgrader": {
     "grade": false,
     "grade_id": "cell-95aa0cc1592f1d7f",
     "locked": true,
     "schema_version": 3,
     "solution": false,
     "task": false
    }
   },
   "source": [
    "(b) Standardize **X**, either by applying the formula in the lecture notes or a scikit-learn function. Next, account for the intercept by adding a column of 1's to **X**. "
   ]
  },
  {
   "cell_type": "code",
   "execution_count": 4,
   "metadata": {
    "nbgrader": {
     "grade": false,
     "grade_id": "cell-307b8f3b22180e65",
     "locked": false,
     "schema_version": 3,
     "solution": true,
     "task": false
    }
   },
   "outputs": [],
   "source": [
    "### BEGIN SOLUTION\n",
    "## use scikit-learn for feature scaling\n",
    "X = preprocessing.scale(X)    \n",
    "## add column of ones to X    \n",
    "X = np.column_stack((np.ones( X.shape[0] ), X ))\n",
    "### END SOLUTION"
   ]
  },
  {
   "cell_type": "code",
   "execution_count": 5,
   "metadata": {
    "nbgrader": {
     "grade": true,
     "grade_id": "cell-3b7e3fb7149ae8ae",
     "locked": true,
     "points": 1,
     "schema_version": 3,
     "solution": false,
     "task": false
    }
   },
   "outputs": [],
   "source": [
    "assert np.allclose( X.mean(axis = 0), np.array([1, 0, 0, 0]) )"
   ]
  },
  {
   "cell_type": "markdown",
   "metadata": {
    "nbgrader": {
     "grade": false,
     "grade_id": "cell-7d5eecde13e1b195",
     "locked": true,
     "schema_version": 3,
     "solution": false,
     "task": false
    }
   },
   "source": [
    "(c) Solve the linear LS problem manually, by using the normal equation. That is, compute a flat array **b** with length 4 that contains the coefficients."
   ]
  },
  {
   "cell_type": "code",
   "execution_count": 6,
   "metadata": {
    "nbgrader": {
     "grade": false,
     "grade_id": "cell-b0eff87d5a150e33",
     "locked": false,
     "schema_version": 3,
     "solution": true,
     "task": false
    }
   },
   "outputs": [],
   "source": [
    "### BEGIN SOLUTION\n",
    "## run OLS manually\n",
    "b = np.linalg.inv((X.T @ X)) @ X.T @ y\n",
    "### END SOLUTION"
   ]
  },
  {
   "cell_type": "code",
   "execution_count": 7,
   "metadata": {
    "nbgrader": {
     "grade": true,
     "grade_id": "cell-3499c4b7bd9f50c4",
     "locked": true,
     "points": 1,
     "schema_version": 3,
     "solution": false,
     "task": false
    }
   },
   "outputs": [],
   "source": [
    "## THIS IS A TEST CELL!\n",
    "### BEGIN HIDDEN TESTS\n",
    "b.shape = (4,)\n",
    "assert np.allclose(b, np.array([ 8.1484375,  -1.31409175,  3.80023302,  1.41791076]))\n",
    "### END HIDDEN TESTS"
   ]
  },
  {
   "cell_type": "markdown",
   "metadata": {
    "nbgrader": {
     "grade": false,
     "grade_id": "cell-0db6072489f30c9b",
     "locked": true,
     "schema_version": 3,
     "solution": false,
     "task": false
    }
   },
   "source": [
    "(d) Next, solve the linear LS problem with the help of scikit-learn. You should create an object named **lr** that contains the coefficients in its **coef_** attribute. "
   ]
  },
  {
   "cell_type": "code",
   "execution_count": 8,
   "metadata": {
    "nbgrader": {
     "grade": false,
     "grade_id": "cell-78377fcb5b99484a",
     "locked": false,
     "schema_version": 3,
     "solution": true,
     "task": false
    }
   },
   "outputs": [
    {
     "data": {
      "text/plain": [
       "LinearRegression(copy_X=True, fit_intercept=False, n_jobs=None, normalize=False)"
      ]
     },
     "execution_count": 8,
     "metadata": {},
     "output_type": "execute_result"
    }
   ],
   "source": [
    "### BEGIN SOLUTION\n",
    "lr = LinearRegression(fit_intercept = False) # we've already added the intercept term in X\n",
    "lr.fit(X, y)\n",
    "### END SOLUTION"
   ]
  },
  {
   "cell_type": "code",
   "execution_count": 9,
   "metadata": {
    "nbgrader": {
     "grade": true,
     "grade_id": "cell-29e90acd00ce235b",
     "locked": true,
     "points": 2,
     "schema_version": 3,
     "solution": false,
     "task": false
    }
   },
   "outputs": [],
   "source": [
    "## THIS IS A TEST CELL!\n",
    "### BEGIN HIDDEN TESTS\n",
    "assert np.allclose(lr.coef_, np.array([ 8.1484375,  -1.31409175,  3.80023302,  1.41791076]))\n",
    "### END HIDDEN TESTS"
   ]
  },
  {
   "cell_type": "markdown",
   "metadata": {
    "nbgrader": {
     "grade": false,
     "grade_id": "cell-f2b2a53f6e2461a8",
     "locked": true,
     "schema_version": 3,
     "solution": false,
     "task": false
    }
   },
   "source": [
    "(e) We now apply (batch) gradient descent to compute the coefficients of the regression problem. You can use the code from the lecture with a learning rate of 0.001 and an initial guess of (0, -0.1, 0.3, 0.1). Report your results in a flat array **b_gd**."
   ]
  },
  {
   "cell_type": "code",
   "execution_count": 10,
   "metadata": {
    "nbgrader": {
     "grade": false,
     "grade_id": "cell-86665920bfd5efb2",
     "locked": false,
     "schema_version": 3,
     "solution": true,
     "task": false
    }
   },
   "outputs": [
    {
     "name": "stdout",
     "output_type": "stream",
     "text": [
      "Gradient descent has converged in 15293 iterations\n"
     ]
    }
   ],
   "source": [
    "def gd_linear(b, X, y, alpha = 0.001, maxit = 50000, eps = 1e-8):\n",
    "    \"\"\"\n",
    "    Implements the iterative procedure for gradient descent in the context of linear regression. Inputs are \n",
    "    -> b: initial guess for the minimizing coefficient vector\n",
    "    -> X: the m-by-n regression matrix, with each row containing the n features for one observation\n",
    "    -> y: the m-by-1 vector of target values \n",
    "    -> alpha: a scalar indicating the step size from b(k) to b(k+1)\n",
    "    \"\"\"\n",
    "    ### BEGIN SOLUTION\n",
    "    dist = 1\n",
    "    it = 0\n",
    "    m = len(y)  \n",
    "    while dist > eps and it < maxit:\n",
    "        it += 1\n",
    "        s = -alpha * m**(-1) * X.T @ ( X @ b - y )\n",
    "        dist = np.linalg.norm(s) / (1 + np.linalg.norm(b))\n",
    "        b = b + s\n",
    "    \n",
    "    print(\"Gradient descent has converged in {} iterations\".format(it))\n",
    "    \n",
    "    return b\n",
    "\n",
    "b0 = np.array([0, -0.1, 0.3, 0.1])\n",
    "b_gd = gd_linear(b0, X, y, show_it = True)\n",
    "\n",
    "### END SOLUTION"
   ]
  },
  {
   "cell_type": "code",
   "execution_count": 11,
   "metadata": {
    "nbgrader": {
     "grade": true,
     "grade_id": "cell-16e7a200e746d1c3",
     "locked": true,
     "points": 2,
     "schema_version": 3,
     "solution": false,
     "task": false
    }
   },
   "outputs": [],
   "source": [
    "## THIS IS A TEST CELL!\n",
    "### BEGIN HIDDEN TESTS\n",
    "assert np.allclose(b_gd, np.array([ 8.14843565, -1.31406499,  3.80011313,  1.41802544]))\n",
    "### END HIDDEN TESTS"
   ]
  },
  {
   "cell_type": "markdown",
   "metadata": {},
   "source": [
    "(f) Finally, we compute the coefficients using stochastic gradient descent, with the help of scikit-learn's **SGDRegressor** class. Since it is stochastic, every run will yield slightly different values. To facilitate comparison with the other methods, we run it a large number of times, store the results and then compute the average.  \n",
    "\n",
    "Set **N = 5000** and define an empty NumPy array **B** of dimension **(N, 4)**. Create an instance of **SGDRegressor** and run its **fit** method **N** times. Store the coefficients of an individual run as a row of **B**. Finally, define an array **b_sgd** as the column mean of **B**."
   ]
  },
  {
   "cell_type": "code",
   "execution_count": 12,
   "metadata": {
    "nbgrader": {
     "grade": false,
     "grade_id": "cell-fcaf8ed293d4cc31",
     "locked": false,
     "schema_version": 3,
     "solution": true,
     "task": false
    }
   },
   "outputs": [],
   "source": [
    "### BEGIN SOLUTION\n",
    "\n",
    "N = 5000\n",
    "B = np.zeros((N, 4))    \n",
    "sgd = SGDRegressor(fit_intercept = False, tol = 1e-8)\n",
    "for i in range(N):\n",
    "    sgd.fit(X, y)\n",
    "    B[i, :] = sgd.coef_\n",
    "b_sgd = B.mean(axis = 0)\n",
    "\n",
    "### END SOLUTION"
   ]
  },
  {
   "cell_type": "code",
   "execution_count": 13,
   "metadata": {
    "nbgrader": {
     "grade": true,
     "grade_id": "cell-2bc75e601942e979",
     "locked": true,
     "points": 2,
     "schema_version": 3,
     "solution": false,
     "task": false
    }
   },
   "outputs": [],
   "source": [
    "assert np.allclose(b_sgd, np.array([ 8.15, -1.3133,  3.835,  1.41]), rtol=1e-02, atol=1e-02)"
   ]
  },
  {
   "cell_type": "markdown",
   "metadata": {
    "nbgrader": {
     "grade": false,
     "grade_id": "cell-504c2815c6ca76c3",
     "locked": true,
     "schema_version": 3,
     "solution": false,
     "task": false
    }
   },
   "source": [
    "## Question 2\n",
    "\n",
    "The simplest approach to approximating a univariate function $f$ is (piecewise) linear interpolation. As usually, define a grid $x_1, ..., x_m$ and compute the function values $f(x_1), ... , f(x_m)$. Then, to approximate $f(x)$, find the two grid points $x_i$ and $x_{i+1}$ that bracket $x$, i.e. $x_l \\equiv x_i \\le x \\le x_{i + 1} \\equiv x_r $. The interpolant is then given by:\n",
    "\n",
    "\\begin{equation}\n",
    "    \\hat{f}(x)=f(x_{l})+{\\frac {f(x_{r})-f(x_{l})}{x_{r}-x_{l}}}(x-x_{l})\n",
    "\\end{equation}\n",
    "\n",
    "Do not use Numpy's **interp** function throughout this question (but feel free to get accustomed to its syntax and to use it for comparing your results)! "
   ]
  },
  {
   "cell_type": "markdown",
   "metadata": {
    "nbgrader": {
     "grade": false,
     "grade_id": "cell-b2d4012a7647423b",
     "locked": true,
     "schema_version": 3,
     "solution": false,
     "task": false
    }
   },
   "source": [
    "(a) Write a function **lin_int** that takes three arguments - a scalar **x** at which to approximate the function, a Numpy array **x_grid** consisting of $m$ grid points and a Numpy array **y_grid** containing the function values corresponding to the grid - and that implements this interpolation scheme. \n",
    "\n",
    "**Hint**: The slightly tricky part here is to find $x_l$ and $x_r$ for a given $x$. There are different ways to achieve this; one possibility is Numpy's **argwhere** function. You may want to combine this with a **try/except** statement."
   ]
  },
  {
   "cell_type": "code",
   "execution_count": 14,
   "metadata": {
    "nbgrader": {
     "grade": false,
     "grade_id": "cell-11ff09e6b1d54d44",
     "locked": false,
     "schema_version": 3,
     "solution": true,
     "task": false
    }
   },
   "outputs": [],
   "source": [
    "### BEGIN SOLUTION\n",
    "def lin_int(x, x_grid, y_grid):\n",
    "    \"\"\"\n",
    "    Implements one-dimensional piecewise linear interpolation given a grid X and corresponding function values Y, on a point x\n",
    "    \"\"\"  \n",
    "    try:\n",
    "        pos = np.argwhere(x > x_grid)[-1]\n",
    "    except:\n",
    "        pos = 0\n",
    "            \n",
    "    return y_grid[pos] + ((y_grid[pos + 1] - y_grid[pos]) / (x_grid[pos + 1] - x_grid[pos])) * (x - x_grid[pos])   \n",
    "### END SOLUTION"
   ]
  },
  {
   "cell_type": "code",
   "execution_count": 15,
   "metadata": {
    "nbgrader": {
     "grade": true,
     "grade_id": "cell-046344f8a78d62b0",
     "locked": true,
     "points": 2,
     "schema_version": 3,
     "solution": false,
     "task": false
    }
   },
   "outputs": [],
   "source": [
    "x_grid = np.linspace(0, 5, 6)\n",
    "y_grid = x_grid**2\n",
    "\n",
    "assert lin_int(3.5, x_grid, y_grid) == 12.5"
   ]
  },
  {
   "cell_type": "markdown",
   "metadata": {
    "nbgrader": {
     "grade": false,
     "grade_id": "cell-d036673e8481c23f",
     "locked": true,
     "schema_version": 3,
     "solution": false,
     "task": false
    }
   },
   "source": [
    "(b) Use this function to approximate the sine function $f(x) = \\sin(x)$ between 0 and $2\\pi$. Use $m = 10$ points for the  approximation grid and approximate the function for $N = 50$ equally-spaced points between 0 and $2\\pi$. Your answer should be a Numpy array named **y_approx** of length $N$ that contains the approximated function values.\n",
    "\n",
    "Plot both the approximated and the true function values.\n",
    "\n"
   ]
  },
  {
   "cell_type": "code",
   "execution_count": 18,
   "metadata": {
    "nbgrader": {
     "grade": false,
     "grade_id": "cell-2e77a9157fa6d254",
     "locked": false,
     "schema_version": 3,
     "solution": true,
     "task": false
    }
   },
   "outputs": [
    {
     "data": {
      "text/plain": [
       "<matplotlib.legend.Legend at 0x1792e47cdc8>"
      ]
     },
     "execution_count": 18,
     "metadata": {},
     "output_type": "execute_result"
    },
    {
     "data": {
      "image/png": "[encoded data removed]",
      "text/plain": [
       "<Figure size 432x288 with 1 Axes>"
      ]
     },
     "metadata": {
      "needs_background": "light"
     },
     "output_type": "display_data"
    }
   ],
   "source": [
    "### BEGIN SOLUTION\n",
    "## define grid and compute function values\n",
    "m = 10\n",
    "x_grid = np.linspace(0, 2*np.pi, m)\n",
    "y_grid = np.sin(x_grid)\n",
    "\n",
    "## define a dense grid and compute function values\n",
    "xvals = np.linspace(0, 2*np.pi, 50)\n",
    "yvals = np.sin(xvals) \n",
    "\n",
    "## use lin_int to interpolate function along the dense grid\n",
    "y_approx = np.zeros(50)\n",
    "for ind in range(50):\n",
    "    y_approx[ind] = lin_int(xvals[ind], x_grid, y_grid)\n",
    "\n",
    "## plot true and approximated function values     \n",
    "fig, ax = plt.subplots()   \n",
    "ax.plot(x_grid, y_grid, 'o')\n",
    "ax.plot(xvals, yvals, label = 'True function')\n",
    "ax.plot(xvals, y_approx, label = 'Linear approximation')\n",
    "ax.legend()\n",
    "\n",
    "### END SOLUTION"
   ]
  },
  {
   "cell_type": "code",
   "execution_count": 19,
   "metadata": {
    "nbgrader": {
     "grade": true,
     "grade_id": "cell-98d0846f5ebe36e9",
     "locked": true,
     "points": 1,
     "schema_version": 3,
     "solution": false,
     "task": false
    }
   },
   "outputs": [],
   "source": [
    "assert np.allclose(y_approx.mean(), 0)"
   ]
  },
  {
   "cell_type": "code",
   "execution_count": 20,
   "metadata": {
    "nbgrader": {
     "grade": true,
     "grade_id": "cell-558cc05be5ceddf1",
     "locked": true,
     "points": 2,
     "schema_version": 3,
     "solution": false,
     "task": false
    }
   },
   "outputs": [],
   "source": [
    "assert np.allclose(y_approx.std(), 0.6721265191518054)"
   ]
  },
  {
   "cell_type": "markdown",
   "metadata": {
    "nbgrader": {
     "grade": false,
     "grade_id": "cell-694087d1cdda9497",
     "locked": true,
     "schema_version": 3,
     "solution": false,
     "task": false
    }
   },
   "source": [
    "## Question 3\n",
    "\n",
    "This question illustrates why we should use Chebyshev nodes instead of equally spaced (equidistant) nodes. We use *Runge's function* as an example:\n",
    "\n",
    "\\begin{equation}\n",
    "    f(x) = \\frac{1}{1 + \\alpha x^2}\n",
    "\\end{equation}\n",
    "\n",
    "We will approximate this function on the interval $[-5, 5]$ using all possible combinations of equally spaced/Chebyshev nodes for the interpolation grid and monomials/Chebyshev polynomials for the basis functions. \n",
    "\n",
    "Note that you can use any built-in function, as well as any function defined in the lecture, to answer this question. The functions from the lecture are collected in the module **funapprox_cme**. "
   ]
  },
  {
   "cell_type": "markdown",
   "metadata": {
    "nbgrader": {
     "grade": false,
     "grade_id": "cell-37e9f7c8adaa523d",
     "locked": true,
     "schema_version": 3,
     "solution": false,
     "task": false
    }
   },
   "source": [
    "(a) Start by writing a Python function that implements Runge's function. Then, define a dense grid **x_long** (a Numpy array) with $N = 500$ equally spaced points between $[-5, 5]$. Compute the function values of Runge's function on this grid for $\\alpha = 1$ and store them in a flat Numpy array **y_long**. Plot the function values. "
   ]
  },
  {
   "cell_type": "code",
   "execution_count": 21,
   "metadata": {
    "nbgrader": {
     "grade": false,
     "grade_id": "cell-2eeaf788bbac9bf0",
     "locked": false,
     "schema_version": 3,
     "solution": true,
     "task": false
    }
   },
   "outputs": [
    {
     "data": {
      "text/plain": [
       "[<matplotlib.lines.Line2D at 0x1792e4ce848>]"
      ]
     },
     "execution_count": 21,
     "metadata": {},
     "output_type": "execute_result"
    },
    {
     "data": {
      "image/png": "[encoded data removed]",
      "text/plain": [
       "<Figure size 432x288 with 1 Axes>"
      ]
     },
     "metadata": {
      "needs_background": "light"
     },
     "output_type": "display_data"
    }
   ],
   "source": [
    "### BEGIN SOLUTION\n",
    "\n",
    "def fun(x, alpha = 1):\n",
    "    \"\"\"\n",
    "    Runge's Function\n",
    "    \"\"\"\n",
    "    return (1 + alpha * x**2)**(-1)\n",
    "\n",
    "## dense grid\n",
    "N = 500\n",
    "g_min, g_max = -5, 5\n",
    "x_long = np.linspace(g_min, g_max, N)\n",
    "y_long = fun(x_long)\n",
    "\n",
    "fig, ax = plt.subplots()\n",
    "ax.plot(x_long, y_long)\n",
    "\n",
    "### END SOLUTION"
   ]
  },
  {
   "cell_type": "code",
   "execution_count": 22,
   "metadata": {
    "nbgrader": {
     "grade": true,
     "grade_id": "cell-9cd10d52106ed863",
     "locked": true,
     "points": 2,
     "schema_version": 3,
     "solution": false,
     "task": false
    }
   },
   "outputs": [],
   "source": [
    "assert y_long.shape == (500,)\n",
    "assert np.allclose(y_long.mean(), 0.2742076173424)"
   ]
  },
  {
   "cell_type": "markdown",
   "metadata": {
    "nbgrader": {
     "grade": false,
     "grade_id": "cell-0766e78bd3950bb9",
     "locked": true,
     "schema_version": 3,
     "solution": false,
     "task": false
    }
   },
   "source": [
    "(b) Define two grids, one with equally spaced points named **x_eq**, and a Chebyshev grid named **x_cn** between $[-5, 5]$, for $m = 11$ grid points. Compute the function values corresponding to these grids, as **y_eq** and **y_cn**, respectively."
   ]
  },
  {
   "cell_type": "code",
   "execution_count": 23,
   "metadata": {
    "nbgrader": {
     "grade": false,
     "grade_id": "cell-179c973fa7505846",
     "locked": false,
     "schema_version": 3,
     "solution": true,
     "task": false
    }
   },
   "outputs": [],
   "source": [
    "### BEGIN SOLUTION\n",
    "\n",
    "## min and max for approximation grid\n",
    "x_min, x_max = -5, 5\n",
    "## number of grid points\n",
    "m = 11\n",
    "\n",
    "## equally spaced nodes\n",
    "x_eq = np.linspace(x_min, x_max, m)\n",
    "y_eq = fun(x_eq)\n",
    "## Chebyshev grid\n",
    "x_cn = fa.chebgrid(x_min, x_max, m)\n",
    "y_cn = fun(x_cn)\n",
    "\n",
    "### END SOLUTION"
   ]
  },
  {
   "cell_type": "code",
   "execution_count": 24,
   "metadata": {
    "nbgrader": {
     "grade": true,
     "grade_id": "cell-e3bcb8ac1f1b8547",
     "locked": true,
     "points": 2,
     "schema_version": 3,
     "solution": false,
     "task": false
    }
   },
   "outputs": [],
   "source": [
    "assert np.allclose(y_eq.sum(), 2.7945701357466)\n",
    "assert np.allclose(x_cn.std(), 3.5355339059327)"
   ]
  },
  {
   "cell_type": "markdown",
   "metadata": {
    "nbgrader": {
     "grade": false,
     "grade_id": "cell-63e2520c0846251e",
     "locked": true,
     "schema_version": 3,
     "solution": false,
     "task": false
    }
   },
   "source": [
    "(c) Define a dictionary **coef**. Fill it with the approximation coefficients for each combination of monomials/Chebyshev polynomials for the basis functions and equally spaced/Chebyshev nodes for the interpolation grid. In other words, **coef** should have four key-value pairs, with the keys **\"mo_eq\"**, **\"mo_cn\"**, **\"ch_eq\"** and **\"ch_cn\"**.  "
   ]
  },
  {
   "cell_type": "code",
   "execution_count": 25,
   "metadata": {
    "nbgrader": {
     "grade": false,
     "grade_id": "cell-02db908467f18e46",
     "locked": false,
     "schema_version": 3,
     "solution": true,
     "task": false
    }
   },
   "outputs": [],
   "source": [
    "### BEGIN SOLUTION\n",
    "## store basis coefficients in dictionary for results\n",
    "coef = {}\n",
    "\n",
    "## interpolation step\n",
    "## monomial basis\n",
    "coef['mo_eq'] = np.polynomial.polynomial.polyfit(x_eq, y_eq, m - 1) \n",
    "coef['mo_cn'] = np.polynomial.polynomial.polyfit(x_cn, y_cn, m - 1) \n",
    "\n",
    "## Chebyshev basis\n",
    "coef['ch_eq'] = np.polynomial.chebyshev.chebfit(fa.chebconvert(x_eq, x_min, x_max), y_eq, m - 1) \n",
    "coef['ch_cn'] = fa.chebapprox(y_cn, m - 1) \n",
    "### END SOLUTION"
   ]
  },
  {
   "cell_type": "code",
   "execution_count": 26,
   "metadata": {
    "nbgrader": {
     "grade": true,
     "grade_id": "cell-722bb794dcfc00ed",
     "locked": true,
     "points": 1,
     "schema_version": 3,
     "solution": false,
     "task": false
    }
   },
   "outputs": [],
   "source": [
    "assert set(coef.keys()) == {'ch_cn', 'ch_eq', 'mo_cn', 'mo_eq'}"
   ]
  },
  {
   "cell_type": "code",
   "execution_count": 27,
   "metadata": {
    "nbgrader": {
     "grade": true,
     "grade_id": "cell-1717ddbfa548c4de",
     "locked": true,
     "points": 1,
     "schema_version": 3,
     "solution": false,
     "task": false
    }
   },
   "outputs": [],
   "source": [
    "assert np.allclose(coef['mo_eq'], np.array([ 1.00000000e+00,  2.16792293e-14, -6.74208145e-01, -1.00001580e-14,\n",
    "         1.97375566e-01,  1.54145549e-15, -2.44117647e-02, -8.41873206e-17,\n",
    "         1.26696833e-03,  1.49905290e-18, -2.26244344e-05]))"
   ]
  },
  {
   "cell_type": "code",
   "execution_count": 28,
   "metadata": {
    "nbgrader": {
     "grade": true,
     "grade_id": "cell-3cf35ab82f465c13",
     "locked": true,
     "points": 1,
     "schema_version": 3,
     "solution": false,
     "task": false
    }
   },
   "outputs": [],
   "source": [
    "assert np.allclose(coef['ch_cn'], np.array([ 2.01135927e-01,  9.44128236e-17, -2.74453603e-01, -1.34367132e-16,\n",
    "         1.90547928e-01,  3.32789899e-17, -1.37129922e-01,  6.64995782e-17,\n",
    "         1.05652703e-01, -1.39384165e-16, -9.10799162e-02]))"
   ]
  },
  {
   "cell_type": "code",
   "execution_count": 29,
   "metadata": {
    "nbgrader": {
     "grade": true,
     "grade_id": "cell-064ca6187e85bdb9",
     "locked": true,
     "points": 2,
     "schema_version": 3,
     "solution": false,
     "task": false
    }
   },
   "outputs": [],
   "source": [
    "## THIS IS A TEST CELL!\n",
    "### BEGIN HIDDEN TESTS\n",
    "assert np.allclose(coef['mo_cn'], np.array([ 1.00000000e+00,  1.21190576e-15, -4.99060461e-01,  1.57189302e-15,\n",
    "         9.83088297e-02, -3.24918769e-16, -8.54046435e-03,  1.97974264e-17,\n",
    "         3.33070947e-04, -4.00170267e-19, -4.77521071e-06])  )\n",
    "\n",
    "assert np.allclose(coef['ch_eq'], np.array([ 5.88661712e-01,  0.00000000e+00,  3.57428503e-01, -1.90766678e-17,\n",
    "         3.79356971e-01, -9.92145947e-18, -4.06670894e-01,  8.67437481e-17,\n",
    "        -4.48787914e-01, -1.38592365e-17, -4.31526840e-01]))\n",
    "### END HIDDEN TESTS"
   ]
  },
  {
   "cell_type": "markdown",
   "metadata": {
    "nbgrader": {
     "grade": false,
     "grade_id": "cell-a6ccdc9ed6da7ee0",
     "locked": true,
     "schema_version": 3,
     "solution": false,
     "task": false
    }
   },
   "source": [
    "(d) Across all four approaches to approximate the function, what is the largest approximation error? Report it as a variable named **max_error**. Plot the approximation errors for all four cases in one graph. \n",
    "\n",
    "*Optional*: Based on your result, what choice (interpolation grid vs. basis functions) has a bigger impact on the approximation error?"
   ]
  },
  {
   "cell_type": "code",
   "execution_count": 30,
   "metadata": {
    "nbgrader": {
     "grade": false,
     "grade_id": "cell-33993095062f5c4a",
     "locked": false,
     "schema_version": 3,
     "solution": true,
     "task": false
    }
   },
   "outputs": [
    {
     "data": {
      "text/plain": [
       "[<matplotlib.lines.Line2D at 0x1792e570fc8>]"
      ]
     },
     "execution_count": 30,
     "metadata": {},
     "output_type": "execute_result"
    },
    {
     "data": {
      "image/png": "[encoded data removed]",
      "text/plain": [
       "<Figure size 432x288 with 1 Axes>"
      ]
     },
     "metadata": {
      "needs_background": "light"
     },
     "output_type": "display_data"
    }
   ],
   "source": [
    "### BEGIN SOLUTION\n",
    "\n",
    "errors = np.zeros(4)\n",
    "\n",
    "errors[0] = np.max( abs( y_long - np.polynomial.polynomial.polyval(x_long, coef['mo_eq']))) \n",
    "errors[1] = np.max( abs( y_long - np.polynomial.polynomial.polyval(x_long, coef['mo_cn']))) \n",
    "errors[2] = np.max( abs( y_long - np.polynomial.chebyshev.chebval(fa.chebconvert(x_long, x_min, x_max), coef['ch_eq']))) \n",
    "errors[3] = np.max( abs( y_long - np.polynomial.chebyshev.chebval(fa.chebconvert(x_long, x_min, x_max), coef['ch_cn'])))\n",
    "\n",
    "max_error = errors.max()\n",
    "\n",
    "## plot approximation errors\n",
    "fig, ax = plt.subplots()\n",
    "ax.plot(x_long, y_long - np.polynomial.polynomial.polyval(x_long, coef['mo_eq']), 'b', linestyle = '--')\n",
    "ax.plot(x_long, y_long - np.polynomial.polynomial.polyval(x_long, coef['mo_cn']), 'b' )\n",
    "ax.plot(x_long, y_long - np.polynomial.chebyshev.chebval(fa.chebconvert(x_long, x_min, x_max), coef['ch_eq']), 'g', linestyle = '--' )\n",
    "ax.plot(x_long, y_long - np.polynomial.chebyshev.chebval(fa.chebconvert(x_long, x_min, x_max), coef['ch_cn']), 'g' )\n",
    "\n",
    "### END SOLUTION"
   ]
  },
  {
   "cell_type": "code",
   "execution_count": 31,
   "metadata": {
    "nbgrader": {
     "grade": true,
     "grade_id": "cell-09ec6ba10d880484",
     "locked": true,
     "points": 2,
     "schema_version": 3,
     "solution": false,
     "task": false
    }
   },
   "outputs": [],
   "source": [
    "### BEGIN HIDDEN TESTS\n",
    "assert np.allclose(max_error, 1.91562084)\n",
    "### END HIDDEN TESTS"
   ]
  }
 ],
 "metadata": {
  "celltoolbar": "Create Assignment",
  "kernelspec": {
   "display_name": "Python 3",
   "language": "python",
   "name": "python3"
  },
  "language_info": {
   "codemirror_mode": {
    "name": "ipython",
    "version": 3
   },
   "file_extension": ".py",
   "mimetype": "text/x-python",
   "name": "python",
   "nbconvert_exporter": "python",
   "pygments_lexer": "ipython3",
   "version": "3.7.5"
  }
 },
 "nbformat": 4,
 "nbformat_minor": 1
}
