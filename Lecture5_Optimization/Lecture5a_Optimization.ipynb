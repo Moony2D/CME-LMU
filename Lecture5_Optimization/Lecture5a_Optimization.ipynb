{
 "cells": [
  {
   "cell_type": "markdown",
   "metadata": {
    "slideshow": {
     "slide_type": "slide"
    }
   },
   "source": [
    "# Computational Methods in Economics\n",
    "\n",
    "## Lecture 5a - Numerical Optimization"
   ]
  },
  {
   "cell_type": "code",
   "execution_count": 1,
   "metadata": {
    "slideshow": {
     "slide_type": "skip"
    }
   },
   "outputs": [
    {
     "name": "stdout",
     "output_type": "stream",
     "text": [
      "Last update: 2019-12-06 17:06:57.501811\n"
     ]
    }
   ],
   "source": [
    "# Author: Alex Schmitt (schmitt@ifo.de)\n",
    "\n",
    "import datetime\n",
    "print('Last update: ' + str(datetime.datetime.today()))"
   ]
  },
  {
   "cell_type": "markdown",
   "metadata": {
    "slideshow": {
     "slide_type": "skip"
    }
   },
   "source": [
    "### Preliminaries\n",
    "\n",
    "#### Import Modules"
   ]
  },
  {
   "cell_type": "code",
   "execution_count": 2,
   "metadata": {
    "slideshow": {
     "slide_type": "skip"
    }
   },
   "outputs": [],
   "source": [
    "import numpy as np\n",
    "\n",
    "import matplotlib.pyplot as plt\n",
    "%matplotlib inline\n",
    "import seaborn\n",
    "\n",
    "import scipy.optimize\n",
    "\n",
    "import statsmodels.api as sm\n",
    "\n",
    "import IPython.display as display"
   ]
  },
  {
   "cell_type": "markdown",
   "metadata": {
    "slideshow": {
     "slide_type": "slide"
    }
   },
   "source": [
    "## This Lecture\n",
    "\n",
    "- [Introduction](#introduction)\n",
    "- [Golden Search](#golden)\n",
    "- [Overview: Line Search](#overview)\n",
    "- [The Newton-Raphson Method](#newton)\n",
    "- [Quasi-Newton Methods: BFGS](#quasi)\n",
    "- [Example: Solving the NGM](#NGM)\n",
    "- [Constrained Optimization](#constr)\n",
    "- [Appendix](#Nelder-Mead)"
   ]
  },
  {
   "cell_type": "markdown",
   "metadata": {
    "slideshow": {
     "slide_type": "skip"
    }
   },
   "source": [
    "--------------------------------------------------------------------------------------------------------------------------------\n",
    "<a id = 'introduction'></a>"
   ]
  },
  {
   "cell_type": "markdown",
   "metadata": {
    "slideshow": {
     "slide_type": "slide"
    }
   },
   "source": [
    "## Introduction\n",
    "\n",
    "Optimization (minimization or maximization) is at the heart of almost all economic models, which makes numerical algorithms for optimization an essential part of an economist's computational toolbox. \n",
    "\n",
    "Before talking about these algorithms in detail, we start with a short refresher on the theory behind optimization."
   ]
  },
  {
   "cell_type": "markdown",
   "metadata": {
    "slideshow": {
     "slide_type": "subslide"
    }
   },
   "source": [
    "#### Review: Unconstrained Optimization\n",
    "\n",
    "Unconstrained optimization entails *minimizing* an (scalar) *objective function* $f: \\mathbb{R}^n \\rightarrow \\mathbb{R}$:\n",
    "\n",
    "\\begin{equation}\n",
    "    \\min_{\\mathbf{x}} f(\\mathbf{x})\n",
    "\\end{equation}\n",
    "\n",
    "with\n",
    "\\begin{equation}\n",
    "    \\mathbf{x} \\in \\mathbb{R}^n\n",
    "\\end{equation}\n",
    "and $f$ being a smooth function."
   ]
  },
  {
   "cell_type": "markdown",
   "metadata": {
    "slideshow": {
     "slide_type": "subslide"
    }
   },
   "source": [
    "Note that we frame the problem here in terms of minimization, mainly because that's how the Scipy implementations that we will see do it. *Maximizing* a function is equivalent to minimizing its negative."
   ]
  },
  {
   "cell_type": "markdown",
   "metadata": {
    "slideshow": {
     "slide_type": "subslide"
    }
   },
   "source": [
    "Usually, we want to find a *global* minimum and hence a *global minimizer* of $f$. Formally, a global minimizer for the problem above is a point $\\mathbf{x}^*$ if $f(\\mathbf{x}^*) \\le f(\\mathbf{x})$ for all $\\mathbf{x}$ in the relevant domain. "
   ]
  },
  {
   "cell_type": "markdown",
   "metadata": {
    "slideshow": {
     "slide_type": "subslide"
    }
   },
   "source": [
    "However, most algorithms developed for numerical optimization (and in fact all algorithms discussed in this class) aim to find a local optimum, and hence a *local minimizer*. A local minimizer is a point $\\mathbf{x}^*$ if there is a neighborhood $\\mathcal{N}$ of $\\mathbf{x}^*$ such that $f(\\mathbf{x}^*) \\le f(\\mathbf{x})$ for all $\\mathbf{x}$ in $\\mathcal{N}$. \n",
    "\n",
    "For a *strict* or *strong* local minimizer, the inequality is strict. If $\\mathbf{x}^*$ is the only local minimizer in $\\mathcal{N}$, it is also called an *isolated* minimizer. All isolated local minimizers are strict, however strict minimizers are not always isolated."
   ]
  },
  {
   "cell_type": "markdown",
   "metadata": {
    "slideshow": {
     "slide_type": "subslide"
    }
   },
   "source": [
    "Why do the methods below focus on local minimizers? The more points an algorithm has to \"visit\" (i.e. evaluate the function), the more computer time and/or storage it needs, which we aim to keep as small as possible. To find a global minimizer, we would need to sample points over the whole relevant domain of $f$. \n",
    "\n",
    "However, note if we know that a function is *convex*, a local minimizer is also a global minimizer. "
   ]
  },
  {
   "cell_type": "markdown",
   "metadata": {
    "slideshow": {
     "slide_type": "subslide"
    }
   },
   "source": [
    "How do we recognize a local minimum? We rely on the following necessary and sufficient conditions (that you have probably used in almost every economics class you've ever taken):\n",
    "- If $\\mathbf{x}^*$ is a local minimizer of $f$ and $f$ is continuously differentiable in an open neighborhood around $\\mathbf{x}^*$, then the *gradient* $\\nabla f(\\mathbf{x}^*)$ is zero. For a univariate function, $f'(x^*) = 0$."
   ]
  },
  {
   "cell_type": "markdown",
   "metadata": {
    "slideshow": {
     "slide_type": "subslide"
    }
   },
   "source": [
    "- If $\\mathbf{x}^*$ is a local minimizer and $\\nabla^2 f$ exists and is continuous in an open neighborhood around $\\mathbf{x}^*$, then $\\nabla f(\\mathbf{x}^*) = 0$ and $\\nabla^2 f(\\mathbf{x}^*)$ is positive semidefinite.\n",
    "- Suppose that $\\nabla^2 f$ is continuous in an open neighborhood around $\\mathbf{x}^*$ and that $\\nabla f(\\mathbf{x}^*) = 0$ and $\\nabla^2 f(\\mathbf{x}^*)$ is positive semidefinite. Then $\\mathbf{x}^*$ is a strict local minimizer of $f$."
   ]
  },
  {
   "cell_type": "markdown",
   "metadata": {
    "slideshow": {
     "slide_type": "subslide"
    }
   },
   "source": [
    "Recall that a square matrix $A$ of order $n$ is *positive definite* if there is a positive scalar such that\n",
    "\n",
    "\\begin{equation}\n",
    "    \\mathbf{x}^T A \\mathbf{x} \\ge \\alpha \\mathbf{x}^T \\mathbf{x} \\quad \\text{for all} \\quad \\mathbf{x} \\in \\mathbb{R}^n\n",
    "\\end{equation}\n",
    "\n",
    "It is *positive semidefinite* if \n",
    "\n",
    "\\begin{equation}\n",
    "    \\mathbf{x}^T A \\mathbf{x} \\ge 0 \\quad\\text{for all} \\quad \\mathbf{x} \\in \\mathbb{R}^n\n",
    "\\end{equation}\n",
    "\n",
    "Any positive definite matrix is also positive semidefinite (but not vice versa). For a univariate function, a positive semidefinite Hessian just means that the second derivative of the function is positive. "
   ]
  },
  {
   "cell_type": "markdown",
   "metadata": {
    "slideshow": {
     "slide_type": "skip"
    }
   },
   "source": [
    "--------------------------------------------------------------------------------------------------------------------------------\n",
    "<a id = 'golden'></a>"
   ]
  },
  {
   "cell_type": "markdown",
   "metadata": {
    "slideshow": {
     "slide_type": "slide"
    }
   },
   "source": [
    "### Golden Search\n",
    "\n",
    "Similar to root finding, for performing numerical optimization we have both derivative-free methods as well as algorithms that either rely on analytical derivatives provided by the user or approximate the derivatives numerically. \n",
    "\n",
    "First, we look at an important method for maximizing a *univariate* function without using derivates, namely *golden (section) search*."
   ]
  },
  {
   "cell_type": "markdown",
   "metadata": {
    "slideshow": {
     "slide_type": "subslide"
    }
   },
   "source": [
    "Conceptually, golden search is similar to bisection: we bracket the minimum $x^*$ by the interval $[a, b]$ and then sequentially reduce the length of the interval. \n",
    "\n",
    "One important difference to bisection is that we need to evaluate the function at *two* points inside the bracket, rather than one as in the case of bisection.  "
   ]
  },
  {
   "cell_type": "code",
   "execution_count": 3,
   "metadata": {
    "slideshow": {
     "slide_type": "subslide"
    }
   },
   "outputs": [
    {
     "data": {
      "image/png": "[encoded data removed]",
      "text/plain": [
       "<IPython.core.display.Image object>"
      ]
     },
     "execution_count": 3,
     "metadata": {},
     "output_type": "execute_result"
    }
   ],
   "source": [
    "display.Image('gs.png')"
   ]
  },
  {
   "cell_type": "markdown",
   "metadata": {
    "slideshow": {
     "slide_type": "subslide"
    }
   },
   "source": [
    "The obvious question is then how to choose the *search points* $c$ and $d$ inside the bracket. Golden search prescribes the following rule:\n",
    "\n",
    "\\begin{align}\n",
    "    c &= a + r (b - a) \\\\\n",
    "    d &= b - r (b - a)\n",
    "\\end{align}\n",
    "\n",
    "where\n",
    "\n",
    "\\begin{equation}\n",
    "    r = \\frac{3 - \\sqrt{5}}{2} \\approx 0.382...\n",
    "\\end{equation}    "
   ]
  },
  {
   "cell_type": "markdown",
   "metadata": {
    "slideshow": {
     "slide_type": "subslide"
    }
   },
   "source": [
    "This satisfies two criteria:\n",
    "\n",
    "- The new interval always has the same length, independent on whether the upper or lower bound is replaced:\n",
    "\n",
    "\\begin{equation}\n",
    "       b - c = d - a = (1 - r)(b - a) \n",
    "\\end{equation}   "
   ]
  },
  {
   "cell_type": "markdown",
   "metadata": {
    "slideshow": {
     "slide_type": "subslide"
    }
   },
   "source": [
    "- For every refinement after the first, one of the search points equals the search point from the previous refinement that was not used as a new bound; in other words,\n",
    "\n",
    "    1. if $f(c) < f(d)$, the new interval is $[a, d]$; for the next refinement, $d' = c$\n",
    "    2. if $f(c) > f(d)$, the new interval is $[c, b]$; for the next refinement, $c' = d$\n",
    "\n",
    "This has the advantage that only one function evaluation is performed per iteration; e.g. in the first case, we need to evaluate $f(c')$, but we already have evaluated $f(d') = f(c)$ for the previous refinement. "
   ]
  },
  {
   "cell_type": "markdown",
   "metadata": {
    "slideshow": {
     "slide_type": "subslide"
    }
   },
   "source": [
    "In Python, golden section search for minimizing a univariate function is implemented in **scipy.optimize.golden**. It takes the function and a bracket as inputs. Below, we apply it on the function $f(x) = - \\exp(-x) \\sin(x)$."
   ]
  },
  {
   "cell_type": "code",
   "execution_count": 4,
   "metadata": {
    "slideshow": {
     "slide_type": "subslide"
    }
   },
   "outputs": [
    {
     "data": {
      "text/plain": [
       "[<matplotlib.lines.Line2D at 0x27362e45448>]"
      ]
     },
     "execution_count": 4,
     "metadata": {},
     "output_type": "execute_result"
    },
    {
     "data": {
      "image/png": "[encoded data removed]",
      "text/plain": [
       "<Figure size 432x288 with 1 Axes>"
      ]
     },
     "metadata": {
      "needs_background": "light"
     },
     "output_type": "display_data"
    }
   ],
   "source": [
    "f = lambda x: -np.exp(-x) * np.sin(x)\n",
    "x = np.linspace(0, 6, 100)\n",
    "plt.plot(x, f(x))"
   ]
  },
  {
   "cell_type": "code",
   "execution_count": 5,
   "metadata": {
    "slideshow": {
     "slide_type": "subslide"
    }
   },
   "outputs": [
    {
     "data": {
      "text/plain": [
       "0.7853981651501754"
      ]
     },
     "execution_count": 5,
     "metadata": {},
     "output_type": "execute_result"
    }
   ],
   "source": [
    "scipy.optimize.golden(f, brack = (0, 2))"
   ]
  },
  {
   "cell_type": "markdown",
   "metadata": {
    "slideshow": {
     "slide_type": "subslide"
    }
   },
   "source": [
    "We will not use golden search very often, for the simple reason that we usually optimize over functions with more than one variable. However, golden search is useful in the case of univariate functions with derivatives that are irregular or computationally costly to evaluate."
   ]
  },
  {
   "cell_type": "markdown",
   "metadata": {
    "slideshow": {
     "slide_type": "skip"
    }
   },
   "source": [
    "--------------------------------------------------------------------------------------------------------------------------------\n",
    "<a id = 'overview'></a>"
   ]
  },
  {
   "cell_type": "markdown",
   "metadata": {
    "slideshow": {
     "slide_type": "slide"
    }
   },
   "source": [
    "### Overview: Line Search\n",
    "\n",
    "*Line search methods* are one of the two fundamental approaches to (unconstrained) optimization (*trust region methods* being the other), and the one which we focus on in this course. "
   ]
  },
  {
   "cell_type": "markdown",
   "metadata": {
    "slideshow": {
     "slide_type": "subslide"
    }
   },
   "source": [
    "Line search is an iterative procedure, generating a sequence of iterates $\\{ \\mathbf{x}^{(k)} \\}$ that are aimed to converge towards the minimum $\\mathbf{x}^*$. \n",
    "\n",
    "When moving from one iterate to the next, two variables are essential: the *search direction*, denoted by $\\mathbf{d}^{(k)}$, i.e. the direction in which to move from $\\mathbf{x}^{(k)}$, and the *distance* $\\alpha^{(k)}$, i.e. the length of the *step* $\\mathbf{s}^{(k)}$ from $\\mathbf{x}^{(k)}$ to $\\mathbf{x}^{(k+1)}$ along $\\mathbf{d}^{(k)}$."
   ]
  },
  {
   "cell_type": "markdown",
   "metadata": {
    "slideshow": {
     "slide_type": "subslide"
    }
   },
   "source": [
    "On a general level, line search algorithms take the direction $\\mathbf{d}^{(k)}$ as given and then solve the following problem:\n",
    "\n",
    "\\begin{equation}\n",
    "    \\min_{\\alpha > 0} f(\\mathbf{x}^{(k)} + \\alpha \\mathbf{d}^{(k)})\n",
    "\\end{equation}\n",
    "\n",
    "and then set \n",
    "\n",
    "\\begin{equation}\n",
    "    \\mathbf{x}^{(k+1)} = \\mathbf{x}^{(k)} + \\mathbf{s}^{(k)} = \\mathbf{x}^{(k)} + \\alpha^{(k)} \\mathbf{d}^{(k)}\n",
    "\\end{equation}"
   ]
  },
  {
   "cell_type": "markdown",
   "metadata": {
    "slideshow": {
     "slide_type": "subslide"
    }
   },
   "source": [
    "Different variants of line search methods differ in their choice of the search direction $\\mathbf{d}^{(k)}$ (and some also fix $\\alpha$), as we will see below. Before, we consider a simple economic application that will serve as a workhorse example for the rest of this lecture. "
   ]
  },
  {
   "cell_type": "markdown",
   "metadata": {
    "slideshow": {
     "slide_type": "subslide"
    }
   },
   "source": [
    "#### Example: Monopoly \n",
    "\n",
    "This example is taken from Judd (1998), p. 105 f. Suppose a firm produces two products, $Y$ and $Z$. The demand for them can be derived from the household's utility function\n",
    "\n",
    "\\begin{equation}\n",
    "U(Y, Z) = u(Y, Z) + M = (Y^\\alpha + Z^\\alpha)^{\\frac{\\eta}{\\alpha}} + M,\n",
    "\\end{equation}\n",
    "\n",
    "where $M$ denotes expenditures on other goods. Solving the household problem, we get $p_j = u_j(Y, Z)$ (verify this!). "
   ]
  },
  {
   "cell_type": "markdown",
   "metadata": {
    "slideshow": {
     "slide_type": "subslide"
    }
   },
   "source": [
    "If the firm acts a monopolist, it takes into account how prices depend on the supply of $Y$ and $Z$. Hence, its profit maximization problem can be written as:\n",
    "\n",
    "\\begin{equation}\n",
    "    \\max_{Y, Z} \\Pi(Y, Z) = u_Y(Y, Z) Y + u_Z(Y, Z) Z - c_Y Y - c_Z Z,\n",
    "\\end{equation}\n",
    "\n",
    "where we assume that the marginal cost of producing $Y$ and $Z$ are constant and given by $c_Y$ and $c_Z$, respectively."
   ]
  },
  {
   "cell_type": "markdown",
   "metadata": {
    "slideshow": {
     "slide_type": "subslide"
    }
   },
   "source": [
    "The following piece of code determines the parameter values and defines the cost and utility functions, including a function computing the derivatives of $u$."
   ]
  },
  {
   "cell_type": "code",
   "execution_count": 6,
   "metadata": {
    "slideshow": {
     "slide_type": "subslide"
    }
   },
   "outputs": [],
   "source": [
    "### functions and parameters\n",
    "alpha = 0.98\n",
    "eta = 0.85\n",
    "\n",
    "cy = 0.62\n",
    "cz = 0.6\n",
    "\n",
    "Cy = lambda x : cy * x\n",
    "Cz = lambda x : cz * x"
   ]
  },
  {
   "cell_type": "code",
   "execution_count": 7,
   "metadata": {
    "slideshow": {
     "slide_type": "subslide"
    }
   },
   "outputs": [],
   "source": [
    "def u(Y, Z):\n",
    "    \"\"\"\n",
    "    Returns the u function.\n",
    "    \"\"\"\n",
    "    return (Y**alpha + Z**alpha)**(eta/alpha)\n",
    "\n",
    "def ud(Y, Z):\n",
    "    \"\"\"\n",
    "    Returns the derivative of the u function.\n",
    "    \"\"\"\n",
    "    return eta * (Y**alpha + Z**alpha)**(eta/alpha - 1) * Y**(alpha - 1)"
   ]
  },
  {
   "cell_type": "markdown",
   "metadata": {
    "slideshow": {
     "slide_type": "subslide"
    }
   },
   "source": [
    "One issue when using unconstrained optimization for economic problems is that many variables are bound to be nonnegative. In the example here, $Y$ and $Z$ represent quantities of goods, and hence, by definition, cannot be negative. \n",
    "\n",
    "However, the algorithms presented below may \"visit\" negative values for these decision variables. A common \"trick\" to deal with this is to restate the problem in terms of $\\ln(Y) \\equiv y$ and $\\ln(Z) \\equiv z$. In this way, while $y$ and $z$ can take any values, $Y = \\exp(y)$ and $Z = \\exp(z)$ are guaranteed to be positive."
   ]
  },
  {
   "cell_type": "markdown",
   "metadata": {
    "slideshow": {
     "slide_type": "subslide"
    }
   },
   "source": [
    "Hence, the objective function can be coded up in the following way:"
   ]
  },
  {
   "cell_type": "code",
   "execution_count": 8,
   "metadata": {
    "slideshow": {
     "slide_type": "-"
    }
   },
   "outputs": [],
   "source": [
    "def obj(x):\n",
    "    \"\"\"\n",
    "    Implements the objective function (here profit) for the monopoly example: Y * ud(Y, Z) + Z * ud(Z, Y) - Cy(Y) - Cz(Z)\n",
    "    \"\"\"\n",
    "    Y = np.exp(x[0])\n",
    "    Z = np.exp(x[1])\n",
    "    \n",
    "    return - (Y * ud(Y, Z) + Z * ud(Z, Y) - Cy(Y) - Cz(Z))"
   ]
  },
  {
   "cell_type": "markdown",
   "metadata": {
    "slideshow": {
     "slide_type": "subslide"
    }
   },
   "source": [
    "As mentioned above, different variants of the line search method differ among each other with respect to their choice of the step size and direction, and hence with respect to how to determine $\\mathbf{s}^{(k)} = \\alpha^{(k)} \\mathbf{d}^{(k)}$. Other than this, they all follow the same (by now well-known) iterative procedure that is implemented in the function **my_opt**."
   ]
  },
  {
   "cell_type": "code",
   "execution_count": 9,
   "metadata": {
    "slideshow": {
     "slide_type": "subslide"
    }
   },
   "outputs": [],
   "source": [
    "def my_opt(x, obj, step, maxit = 100, tol = 1e-8):\n",
    "    \"\"\"\n",
    "    Implements the iterative procedure for all of the optimization algorithms considered below. \n",
    "    Mandatory inputs are \n",
    "    -> x: initial guess for the minimizing vector\n",
    "    -> obj: objective, defined a function of x\n",
    "    -> step: a function implementing how the step from x(k) to x(k+1) is determined\n",
    "    \"\"\"\n",
    "    dist = 1\n",
    "    it = 0\n",
    "    \n",
    "    lx = []\n",
    "    while dist > tol and it < maxit:\n",
    "        lx.append(x)\n",
    "        it += 1\n",
    "    \n",
    "        s, alpha = step(x, obj)\n",
    "    \n",
    "        dist = np.linalg.norm(s) / (1 + np.linalg.norm(x))\n",
    "        print(it, dist, alpha)\n",
    "        x = x + s\n",
    "    \n",
    "    return x, lx           "
   ]
  },
  {
   "cell_type": "markdown",
   "metadata": {
    "slideshow": {
     "slide_type": "subslide"
    }
   },
   "source": [
    "Note the following:\n",
    "\n",
    "- **my_opt** takes an \"update rule\" (a function) **step** as an argument, which returns $\\mathbf{s}^{(k)}$, as well as $\\alpha^{(k)}$. The implementation of **step** depends on the specific algorithm, as outlined below.\n",
    "\n",
    "- For illustration, we print the iteration counter, the distance and the value for $\\alpha^{(k)}$ in every iteration. We also store the values for $\\mathbf{x}^{(k)}$ in a list **lx**. "
   ]
  },
  {
   "cell_type": "markdown",
   "metadata": {
    "slideshow": {
     "slide_type": "subslide"
    }
   },
   "source": [
    "- As with rootfinding, our stopping rule checks for convergence, i.e. the update step $\\mathbf{s}^{(k)} $ should be sufficiently small. More precisely, We use the relative distance between the current and the updated $\\mathbf{x}$  as a stopping criterion, which can be written as\n",
    "\n",
    "\\begin{equation}\n",
    "    \\frac{ || \\mathbf{s}^{(k)} || }{1 + || \\mathbf{x}^{(k)} ||} \\le tol\n",
    "\\end{equation}\n",
    "\n",
    "As before, a good rule of thumb for the value of $tol$ is the square root of machine epsilon.  "
   ]
  },
  {
   "cell_type": "markdown",
   "metadata": {
    "slideshow": {
     "slide_type": "skip"
    }
   },
   "source": [
    "--------------------------------------------------------------------------------------------------------------------------------\n",
    "<a id = 'newton'></a>"
   ]
  },
  {
   "cell_type": "markdown",
   "metadata": {
    "slideshow": {
     "slide_type": "slide"
    }
   },
   "source": [
    "### Newton-Raphson\n",
    "\n",
    "Recall that in the context of root finding in the previous lecture, Newton's method used an iteration rule based on taking a first-order Taylor approximation of the function of interest and setting it to zero. \n",
    "\n",
    "Similarly, Newton's method in the context of optimization, also called the *Newton-Raphson method*, requires a second-order Taylor approximation to $f$, which is then minimized. "
   ]
  },
  {
   "cell_type": "markdown",
   "metadata": {
    "slideshow": {
     "slide_type": "subslide"
    }
   },
   "source": [
    "For a multivariate function $f: \\mathbb{R}^n\\ \\rightarrow \\mathbb{R}$, a second-order Taylor approximation of $f(\\mathbf{x})$ around $x_0$ is given by:\n",
    "\n",
    "\\begin{equation}\n",
    "    f(\\mathbf{x}) \\approx f(\\mathbf{x}_0) + \\nabla f(\\mathbf{x}_0)^{T} (\\mathbf{x} - \\mathbf{x}_0) + \\frac{1}{2} (\\mathbf{x} - \\mathbf{x}_0)^T \\nabla^2 f(\\mathbf{x}_0) (\\mathbf{x} - \\mathbf{x}_0)\n",
    "\\end{equation}\n",
    "\n",
    "Minimizing $f$ implies taking the derivative with respect to $\\mathbf{x}$ and setting it equal to zero:\n",
    "\n",
    "\\begin{equation}\n",
    "    \\nabla f(\\mathbf{x}) \\approx \\nabla f(\\mathbf{x}_0) + \\nabla^2 f(\\mathbf{x}_0) (\\mathbf{x} - \\mathbf{x}_0) = 0\n",
    "\\end{equation}"
   ]
  },
  {
   "cell_type": "markdown",
   "metadata": {
    "collapsed": true,
    "slideshow": {
     "slide_type": "subslide"
    }
   },
   "source": [
    "As in the case of root finding, we can derive an iteration rule by rearranging:\n",
    "\n",
    "\\begin{equation}\n",
    " \\mathbf{x} = \\mathbf{x}_0 - [\\nabla^2 f(\\mathbf{x}_0)]^{-1} \\nabla f(\\mathbf{x}_0)\n",
    "\\end{equation}\n",
    "\n",
    "For notational convenience, I define $H(\\mathbf{x}_0) = \\nabla^2 f(\\mathbf{x}_0)$ for the Hessian. For the following,  we implicitly assume here that $H(\\cdot)$ is positive semidefinite (recall the necessary conditions for a minimum above). We will get back to this later. "
   ]
  },
  {
   "cell_type": "markdown",
   "metadata": {
    "collapsed": true,
    "slideshow": {
     "slide_type": "subslide"
    }
   },
   "source": [
    "Hence, the key idea is to use this relation iteratively, i.e. generate a sequence $\\mathbf{x}^{(1)}, \\mathbf{x}^{(2)}, ..., \\mathbf{x}^{(m)}$ where\n",
    "\n",
    "\\begin{equation}\n",
    " \\mathbf{x}^{(k+1)} = \\mathbf{x}^{(k)} - H(\\mathbf{x}^{(k)}) ^{-1}\\nabla  f(\\mathbf{x}^{(k)}) = \\mathbf{x}^{(k)} + \\mathbf{s}^{(k)}\n",
    "\\end{equation}"
   ]
  },
  {
   "cell_type": "markdown",
   "metadata": {
    "slideshow": {
     "slide_type": "subslide"
    }
   },
   "source": [
    "Recall that in the context of root finding, Newton's method relies on successive linearization, i.e. generates a sequence of points, each of which is a root to a linear local approximation to the function of interest. \n",
    "\n",
    "Similarly, at each iteration Newton-Raphson replaces the function $f$ with a *quadratic* local approximation based on $\\mathbf{x}^{(k)}$ and chooses the minimum of this approximation as the next point $\\mathbf{x}^{(k+1)}$."
   ]
  },
  {
   "cell_type": "markdown",
   "metadata": {
    "slideshow": {
     "slide_type": "subslide"
    }
   },
   "source": [
    "The Newton-Raphson method implements the following pseudo-code:\n",
    "\n",
    "(i) Choose an initial guess $\\mathbf{x}^{(0)}$ and tolerance levels/stopping criteria $\\epsilon$ and $\\delta$. \n",
    "\n",
    "(ii) Compute the gradient $\\nabla  f(\\mathbf{x}^{(k)})$ and the Hessian $H(\\mathbf{x}^{(k)})$ at $\\mathbf{x}^{(k)}$ (using either analytical derivatives or numerical differentiation)."
   ]
  },
  {
   "cell_type": "markdown",
   "metadata": {
    "slideshow": {
     "slide_type": "subslide"
    }
   },
   "source": [
    "(iii) Solve $H(\\mathbf{x}^{(k)})s^{(k)} = - \\nabla f(\\mathbf{x}^{(k)})$, and set $ \\mathbf{x}^{(k+1)} = \\mathbf{x}^{(k)} + \\mathbf{s}^{(k)} $.\n",
    "\n",
    "(iv) Check the stopping rule: if $\\left| \\left |\\ \\mathbf{x}^{(k+1)}- \\mathbf{x}^{(k)} \\right| \\right| < \\epsilon\\left(1 + \\left| \\left |\\ \\mathbf{x}^{(k)} \\right| \\right|\\right)$, stop. If not, go back to (ii).\n",
    "\n",
    "(v) Check for optimality: if $\\left| \\left| \\nabla f( \\mathbf{x}^{(k)}) \\right| \\right| < \\delta \\left(1 + \\left|\\ f(\\mathbf{x}^{(k)}) \\right| \\right)$, report $\\mathbf{x}^{(k)}$ as the solution. Otherwise, report failure."
   ]
  },
  {
   "cell_type": "markdown",
   "metadata": {
    "slideshow": {
     "slide_type": "subslide"
    }
   },
   "source": [
    "In the context of root finding, we stated that Newton's method converges *quadratically*. The same is true for the Newton-Raphson method, as long as we are sufficiently close to the solution. This is summarized in the following theorem: \n",
    "\n",
    "Suppose that $f(\\mathbf{x})$ is thrice continuously differentiable, minimized at $\\mathbf{x}^*$ and that $H(\\mathbf{x}^*)$ is non-singular. Then there is some $\\xi > 0$ such that if $\\left| \\left|\\ \\mathbf{x}^{(0)} - \\mathbf{x}^* \\right| \\right| < \\xi$, then the sequence $\\{ \\mathbf{x}^{(k)} \\}$ converges quadratically to $\\mathbf{x}^*$."
   ]
  },
  {
   "cell_type": "markdown",
   "metadata": {
    "slideshow": {
     "slide_type": "subslide"
    }
   },
   "source": [
    "#### Example 1: Rosenbrock Function\n",
    "\n",
    "As a first example, we apply the Newton-Raphson to the Rosenbrock function described in the appendix. The Rosenbrock function is often used to test the performance of optimization algorithms.\n",
    "\n",
    "What makes it very convenient for us is that Scipy has an implementation of the Rosenbrock function, as well as of its (analytical) gradient and Hessian, as **scipy.optimize.rosen**, **scipy.optimize.rosen_der** and **scipy.optimize.rosen_hess**, respectively. Hence, we do not need to code the gradient and the Hessian ourselves."
   ]
  },
  {
   "cell_type": "markdown",
   "metadata": {
    "slideshow": {
     "slide_type": "subslide"
    }
   },
   "source": [
    "Recall that in order to run Newton-Raphson using our **my_opt** function defined above, we just have to provide a rule on how the step $\\mathbf{s}^{(k)}$ from $\\mathbf{x}^{(k)}$ to  $\\mathbf{x}^{(k+1)}$ is computed. This is implemented by the function **newton_rb**. "
   ]
  },
  {
   "cell_type": "code",
   "execution_count": 10,
   "metadata": {
    "slideshow": {
     "slide_type": "subslide"
    }
   },
   "outputs": [],
   "source": [
    "def newton_rb(x, obj):\n",
    "    \"\"\"\n",
    "    Implements the Newton-Raphson update rule for the Rosenbrock function\n",
    "    \"\"\"\n",
    "    gr = scipy.optimize.rosen_der(x)\n",
    "    H = scipy.optimize.rosen_hess(x)\n",
    "    \n",
    "    return ( scipy.linalg.solve(H, -gr), 1)"
   ]
  },
  {
   "cell_type": "markdown",
   "metadata": {
    "slideshow": {
     "slide_type": "subslide"
    }
   },
   "source": [
    "We then use this update rule as an input into **my_opt** to solve for the minimum, together with a starting value for $\\mathbf{x}$ and the objective function (**scipy.optimize.rosen**). \n",
    "\n",
    "As you can see in the appendix, for $N = 5$, the derivative-free Nelder-Mead simplex algorithm required about 400 iterations to get to a solution. As demonstrated here, unsurprisingly, Newton-Raphson is consideraby faster."
   ]
  },
  {
   "cell_type": "code",
   "execution_count": 11,
   "metadata": {
    "slideshow": {
     "slide_type": "subslide"
    }
   },
   "outputs": [
    {
     "name": "stdout",
     "output_type": "stream",
     "text": [
      "1 0.48215462558968025 1\n",
      "2 0.3529605284563699 1\n",
      "3 0.01673833448865884 1\n",
      "4 0.8642662420786184 1\n",
      "5 0.5963570709514205 1\n",
      "6 0.09377391130156572 1\n",
      "7 0.012188351825798683 1\n",
      "8 0.04001688973515537 1\n",
      "9 0.0012258577284614402 1\n",
      "10 0.0009498483479981958 1\n",
      "11 5.465093809902131e-07 1\n",
      "12 2.612421187504453e-10 1\n",
      "Solution: [1. 1. 1. 1. 1.]\n"
     ]
    }
   ],
   "source": [
    "x0 = np.array([1.5, 2, 2, 2, 2])\n",
    "x, lx = my_opt(x0, scipy.optimize.rosen, newton_rb)\n",
    "print(\"Solution: {}\".format(x))"
   ]
  },
  {
   "cell_type": "markdown",
   "metadata": {
    "slideshow": {
     "slide_type": "subslide"
    }
   },
   "source": [
    "To illustrate quadratic convergence, compare the distance from $\\mathbf{x}^{(k)}$ to $\\mathbf{x}^*$:"
   ]
  },
  {
   "cell_type": "code",
   "execution_count": 12,
   "metadata": {
    "slideshow": {
     "slide_type": "-"
    }
   },
   "outputs": [
    {
     "name": "stdout",
     "output_type": "stream",
     "text": [
      "[[-0.5        -1.         -1.         -1.         -1.        ]\n",
      " [-0.27262541 -0.53088921 -0.6465265  -1.11499121 -3.45996486]\n",
      " [-0.16156446 -0.32979267 -0.63509542 -1.64301221 -5.70670738]\n",
      " [-0.12938432 -0.27449176 -0.61676858 -1.61377184 -5.83094825]\n",
      " [-0.05204137 -0.10096984 -0.18145453 -0.20667585  1.52385252]\n",
      " [-0.02691766 -0.05391759 -0.10745702 -0.20913927 -0.46201171]\n",
      " [-0.01080689 -0.02151356 -0.04246116 -0.08168551 -0.15379908]\n",
      " [-0.00726082 -0.01459695 -0.02944082 -0.05969631 -0.12247275]\n",
      " [-0.00064894 -0.00125795 -0.00234786 -0.00398128 -0.00487425]\n",
      " [-0.00016622 -0.00033305 -0.00066728 -0.00133525 -0.00266528]\n",
      " [-0.00000025 -0.00000048 -0.00000085 -0.00000126 -0.00000073]\n",
      " [-0.         -0.         -0.         -0.         -0.        ]]\n"
     ]
    }
   ],
   "source": [
    "np.set_printoptions(suppress=True)\n",
    "print(x - lx)"
   ]
  },
  {
   "cell_type": "markdown",
   "metadata": {
    "slideshow": {
     "slide_type": "subslide"
    }
   },
   "source": [
    "In this example, we have used implementations of the analytical gradient and Hessian of the Rosenbrock function which are provided by Scipy. For other examples, we would have to compute these manually, which can be time-consuming. \n",
    " \n",
    "As an alternative, we could use approximations to gradient and Hessian by using numerical differentiation, as seen in the last lecture. The **statsmodel** package has an implementation of the numerical Hessian (**sm.tools.numdiff.approx_hess3**)."
   ]
  },
  {
   "cell_type": "markdown",
   "metadata": {
    "slideshow": {
     "slide_type": "subslide"
    }
   },
   "source": [
    "The function **newton** implements the Newton-Raphson update rule using these numerical derivatives. Note that we can use **newton** for any objective function (unlike **newton_rb**, which applies only to the Rosenbrock function). "
   ]
  },
  {
   "cell_type": "code",
   "execution_count": 13,
   "metadata": {
    "slideshow": {
     "slide_type": "subslide"
    }
   },
   "outputs": [],
   "source": [
    "def newton(x, obj):\n",
    "    \"\"\"\n",
    "    Implements the Newton-Raphson update rule, using numerical differentiation\n",
    "    \"\"\"\n",
    "    gr = sm.tools.numdiff.approx_fprime(x, obj)\n",
    "    H = sm.tools.numdiff.approx_hess3(x, obj)\n",
    "    \n",
    "    return ( scipy.linalg.solve(H, -gr), 1 )"
   ]
  },
  {
   "cell_type": "markdown",
   "metadata": {
    "slideshow": {
     "slide_type": "subslide"
    }
   },
   "source": [
    "We can then use **newton** to solve again for the minimum of the Rosenbrock function, and compare the results to the implementation above with the analytical gradient and Hessian. \n",
    "\n",
    "As we can see when printing the norm of the update steps, it takes the same number of iterations and there only very small deviations between the two approaches."
   ]
  },
  {
   "cell_type": "code",
   "execution_count": 14,
   "metadata": {
    "slideshow": {
     "slide_type": "subslide"
    }
   },
   "outputs": [
    {
     "name": "stdout",
     "output_type": "stream",
     "text": [
      "1 0.4821545594562625 1\n",
      "2 0.35295778184895965 1\n",
      "3 0.01673703857131998 1\n",
      "4 0.8642556870441718 1\n",
      "5 0.5963426612270167 1\n",
      "6 0.09378734792919464 1\n",
      "7 0.012184475364110117 1\n",
      "8 0.04002163405477126 1\n",
      "9 0.0012249595287598752 1\n",
      "10 0.0009496185377171005 1\n",
      "11 5.410677220220418e-07 1\n",
      "12 2.538059793831859e-10 1\n",
      "Solution: [0.9999992  0.99999841 0.99999684 0.99999368 0.99998736]\n"
     ]
    }
   ],
   "source": [
    "x0 = np.array([1.5, 2, 2, 2, 2])\n",
    "x, lx = my_opt(x0, scipy.optimize.rosen, newton)\n",
    "print(\"Solution: {}\".format(x))"
   ]
  },
  {
   "cell_type": "markdown",
   "metadata": {
    "slideshow": {
     "slide_type": "subslide"
    }
   },
   "source": [
    "#### Example 2: Monopoly\n",
    "\n",
    "Next, we use the Newton-Raphson method to solve the monopoly example outlined above. To save on coding effort, we again use the numerical approximations to the gradient and Hessian provided by statsmodels' **tools.numdiff** package, implicitly hoping that the approximation error is small.\n",
    "\n",
    "Hence, we can use the **newton** function above as update rule in **my_opt**. The objective function is given by **obj** defined above. "
   ]
  },
  {
   "cell_type": "code",
   "execution_count": 15,
   "metadata": {
    "slideshow": {
     "slide_type": "subslide"
    }
   },
   "outputs": [
    {
     "name": "stdout",
     "output_type": "stream",
     "text": [
      "1 0.2355333601218139 1\n",
      "2 0.22377718040760183 1\n",
      "3 0.17710060685084983 1\n",
      "4 0.17469787396275177 1\n",
      "5 0.09928293978403069 1\n",
      "6 0.03172929214226067 1\n",
      "7 0.0030980276679803713 1\n",
      "8 3.0283750218728924e-05 1\n",
      "9 0.0 1\n",
      "Equilibrium quantities: [0.56975348 2.93569797]\n"
     ]
    }
   ],
   "source": [
    "x0 = np.array([1.5, 2])\n",
    "x, lx = my_opt(x0, obj, newton)\n",
    "## print equilibrium -> recall that the model is solved for log quantities!\n",
    "print(\"Equilibrium quantities: {}\".format(np.exp(x)))"
   ]
  },
  {
   "cell_type": "markdown",
   "metadata": {
    "slideshow": {
     "slide_type": "subslide"
    }
   },
   "source": [
    "#### Second convergence test\n",
    "\n",
    "Consider a modification of **my_opt**. As with rootfinding, we can use a \"twofold\" convergence test: first we determine if the sequence has converged, and then we check whether we have achieved optimality (i.e. whether $\\nabla f( \\mathbf{x}^{(k)})$ is close to zero). "
   ]
  },
  {
   "cell_type": "markdown",
   "metadata": {
    "slideshow": {
     "slide_type": "subslide"
    }
   },
   "source": [
    "More precisely, the optimality test checks whether $\\left| \\left |\\ \\nabla f( \\mathbf{x}^{(k)}) \\right| \\right| < \\delta\\left(1 + \\left|\\ f(\\mathbf{x}^{(k)}) \\right|\\right)$. This test is typically passed for most objective functions that we encounter and hence \"optional\". Below, we again use a numerical approximation to the gradient. In this case, $\\delta$ should not be set too low."
   ]
  },
  {
   "cell_type": "code",
   "execution_count": 16,
   "metadata": {
    "slideshow": {
     "slide_type": "subslide"
    }
   },
   "outputs": [],
   "source": [
    "def my_opt(x, obj, step, maxit = 100, tol = 1e-8, delta = 1e-4):\n",
    "    \"\"\"\n",
    "    Implements the iterative procedure for all of the optimization algorithms considered below. \n",
    "    Mandatory inputs are \n",
    "    -> x: initial guess for the minimizing vector\n",
    "    -> obj: objective, defined a function of x\n",
    "    -> step: a function implementing how the step from x(k) to x(k+1) is determined\n",
    "    \"\"\"\n",
    "    dist = 1\n",
    "    it = 0\n",
    "    \n",
    "    lx = []\n",
    "    while dist > tol and it < maxit:\n",
    "        lx.append(x)\n",
    "        it += 1\n",
    "    \n",
    "        s, alpha = step(x, obj)\n",
    "    \n",
    "        dist = np.linalg.norm(s) / (1 + np.linalg.norm(x))\n",
    "        print(it, dist, alpha)\n",
    "        x = x + s\n",
    "    \n",
    "    ## check for optimality\n",
    "    gr = sm.tools.numdiff.approx_fprime(x, obj)\n",
    "    if np.linalg.norm(gr) > delta * (1 + abs(obj(x))):\n",
    "        print('Solution does not appear an optimum!')\n",
    "    \n",
    "    return x, lx           "
   ]
  },
  {
   "cell_type": "markdown",
   "metadata": {
    "slideshow": {
     "slide_type": "subslide"
    }
   },
   "source": [
    "#### Newton-Raphson with Line Search\n",
    "\n",
    "Note that the Newton-Raphson algorithm is a special case of line search methods, where the step size $\\alpha$ is fixed at 1, and the search direction is given by \n",
    "\n",
    "\\begin{equation}\n",
    "  \\mathbf{d}^{(k)} = \\mathbf{s}^{(k)} = - H(\\mathbf{x}^{(k)}) ^{-1}\\nabla  f(\\mathbf{x}^{(k)})\n",
    "\\end{equation}\n"
   ]
  },
  {
   "cell_type": "markdown",
   "metadata": {
    "slideshow": {
     "slide_type": "subslide"
    }
   },
   "source": [
    "A variant of the Newton-Raphson method adjusts $\\alpha$ (Newton-Raphson with line search). Recall from above that the idea of line search methods was to find $\\alpha^*$ that minimizes the function value for a given search direction $\\mathbf{d}^{(k)}$:\n",
    "\n",
    "\\begin{equation}\n",
    "    \\min_{\\alpha > 0} \\phi(\\alpha) = f(\\mathbf{x}^{(k)} + \\alpha \\mathbf{d}^{(k)})\n",
    "\\end{equation}\n",
    "\n",
    "and then set \n",
    "\n",
    "\\begin{equation}\n",
    "    \\mathbf{x}^{(k+1)} = \\mathbf{x}^{(k)} + \\mathbf{s}^{(k)} = \\mathbf{x}^{(k)} + \\alpha^* \\mathbf{d}^{(k)}\n",
    "\\end{equation}"
   ]
  },
  {
   "cell_type": "markdown",
   "metadata": {
    "slideshow": {
     "slide_type": "subslide"
    }
   },
   "source": [
    "This is a minimization problem in one dimension: $\\phi$ is a univariate function in $\\alpha$. Hence, we could use an algorithm to minimize a univariate function, e.g. golden search. "
   ]
  },
  {
   "cell_type": "markdown",
   "metadata": {
    "slideshow": {
     "slide_type": "subslide"
    }
   },
   "source": [
    "The following piece of code modifies the **newton** function above by adding golden search to the implementation of the Newton-Raphson update rule: after computing the search direction $p^{(k)}$, it uses golden search to minimize $\\phi$; it then returns the step as $\\alpha^* \\mathbf{d}^{(k)}$."
   ]
  },
  {
   "cell_type": "code",
   "execution_count": 17,
   "metadata": {
    "slideshow": {
     "slide_type": "subslide"
    }
   },
   "outputs": [],
   "source": [
    "def newton_gs(x, obj):\n",
    "    \"\"\"\n",
    "    Implements the Newton-Raphson update rule with golden search\n",
    "    \"\"\"\n",
    "    ## determine d\n",
    "    gr = sm.tools.numdiff.approx_fprime(x, obj)\n",
    "    H = sm.tools.numdiff.approx_hess3(x, obj)\n",
    "    \n",
    "    d = scipy.linalg.solve(H, -gr)\n",
    "    \n",
    "    ## determine alpha\n",
    "    #bracket = (0.5, 1, 3)\n",
    "    phi = lambda alpha : obj(x + alpha * d)\n",
    "    alpha = scipy.optimize.golden(phi)\n",
    "\n",
    "    return ( alpha * d, alpha ) "
   ]
  },
  {
   "cell_type": "code",
   "execution_count": 18,
   "metadata": {
    "slideshow": {
     "slide_type": "subslide"
    }
   },
   "outputs": [
    {
     "name": "stdout",
     "output_type": "stream",
     "text": [
      "1 0.5078330704005951 2.156098270486832\n",
      "2 0.26153619744778084 0.7909094183811063\n",
      "3 0.14673183826309916 1.3739201270685646\n",
      "4 0.02278950492095391 0.9658500533512775\n",
      "5 0.0003832030911071253 0.9897710984411763\n",
      "6 6.322800502097398e-07 0.8835344277523718\n",
      "7 1.961860586963478e-06 -0.7001394230093124\n",
      "8 1.4173739591405401e-08 -0.03444185353721777\n",
      "9 2.531423982481282e-17 4.86592324376771e-12\n",
      "Equilibrium quantities: [0.5697563  2.93569584]\n"
     ]
    }
   ],
   "source": [
    "x0 = np.array([1.5, 2])\n",
    "x, lx = my_opt(x0, obj, newton_gs)\n",
    "print(\"Equilibrium quantities: {}\".format(np.exp(x)))"
   ]
  },
  {
   "cell_type": "code",
   "execution_count": 19,
   "metadata": {
    "slideshow": {
     "slide_type": "subslide"
    }
   },
   "outputs": [
    {
     "name": "stdout",
     "output_type": "stream",
     "text": [
      "1 0.5078330704005951 2.156098270486832\n",
      "2 0.26153619744778084 0.7909094183811063\n",
      "3 0.14673183826309916 1.3739201270685646\n",
      "4 0.02278950492095391 0.9658500533512775\n",
      "5 0.0003832030911071253 0.9897710984411763\n",
      "6 6.322800502097398e-07 0.8835344277523718\n",
      "7 1.961860586963478e-06 -0.7001394230093124\n",
      "8 1.4173739591405401e-08 -0.03444185353721777\n",
      "9 2.531423982481282e-17 4.86592324376771e-12\n",
      "27 ms ± 0 ns per loop (mean ± std. dev. of 1 run, 1 loop each)\n"
     ]
    }
   ],
   "source": [
    "%%timeit -n1 -r1\n",
    "my_opt(x0, obj, newton_gs)"
   ]
  },
  {
   "cell_type": "markdown",
   "metadata": {
    "slideshow": {
     "slide_type": "subslide"
    }
   },
   "source": [
    "As we can see, this takes the same number of iterations as the original Newton-Raphson method. One issue with adjusting $\\alpha$ is that convergence can be slower: recall that Newton-Raphson guaranteed quadratic convergence once $\\mathbf{x}^{(k)}$ is sufficiently close the solution $\\mathbf{x}^*$. \n",
    "\n",
    "This is not true for Newton-Raphson with line search. One way around is to use line search initially, but then go to Newton-Raphson once $\\alpha^{(k)}$ is close to unity. You can see an implementation of this in the [appendix](#app_newton_ls). "
   ]
  },
  {
   "cell_type": "markdown",
   "metadata": {
    "slideshow": {
     "slide_type": "subslide"
    }
   },
   "source": [
    "Importantly, many algorithms used in practice use some variant of line search; however, this is usually not done with an algorithm like golden search, which is computationally costly and slow. \n",
    "\n",
    "Instead, there are other methods to find the optimal $\\alpha$, e.g. Armijo search with backtracking (cp. M&F p. 70). In the interest of time, we will not go into further detail at this point. The important takeaway here is the general idea of line search method rather than their precise implementation. "
   ]
  },
  {
   "cell_type": "markdown",
   "metadata": {
    "slideshow": {
     "slide_type": "skip"
    }
   },
   "source": [
    "--------------------------------------------------------------------------------------------------------------------------------\n",
    "<a id = 'quasi'></a>"
   ]
  },
  {
   "cell_type": "markdown",
   "metadata": {
    "slideshow": {
     "slide_type": "slide"
    }
   },
   "source": [
    "### Quasi-Newton Methods: BGFS\n",
    "\n",
    "Using the Newton-Raphson method requires computing the gradient and the Hessian of the function $f$ in every iteration in order to pin down the search direction. While we can save on the \"developmental effort\" of deriving those analytically and coding them up by using numerical approximations, obtaining the Hessian requires computing and storing $n^2$ elements either way. "
   ]
  },
  {
   "cell_type": "markdown",
   "metadata": {
    "slideshow": {
     "slide_type": "subslide"
    }
   },
   "source": [
    "As with the Jacobian in the context of root finding, there are computationally less costly ways to approximate the Hessian when performing numerical optimization.\n",
    "\n",
    "Moreover, using an approximate Hessian fixes another issue mentioned above: when using the Newton-Raphson method, there is no guarantee that the successive Hessians are positive definite; hence it could generate sequences along which $f$ is *increasing*. Quasi-Newton methods require that an approximate to the Hessian is positive semidefinite. "
   ]
  },
  {
   "cell_type": "markdown",
   "metadata": {
    "slideshow": {
     "slide_type": "subslide"
    }
   },
   "source": [
    "Here, we focus on the *BFGS (Broyden-Fletcher-Goldfarb-Shano) method*, which is considered one of the most effective Quasi-Newton updating rules. \n",
    "\n",
    "Similar to Broyden's method in the context of root finding, it has a superlinear rate of convergence, and hence converges slower than Newton-Raphson. However, it is often faster than Newton-Raphson, since it does not need to evaluate the Hessian."
   ]
  },
  {
   "cell_type": "markdown",
   "metadata": {
    "slideshow": {
     "slide_type": "subslide"
    }
   },
   "source": [
    "We saw above that the Newton-Raphson method has the following iteration rule:\n",
    "\n",
    "\\begin{equation}\n",
    " \\mathbf{x}^{(k+1)} = \\mathbf{x}^{(k)} - H(\\mathbf{x}^{(k)})^{-1}\\nabla  f(\\mathbf{x}^{(k)}) = \\mathbf{x}^{(k)} + \\mathbf{s}^{(k)}\n",
    "\\end{equation}\n",
    "\n",
    "Recall in the context of root finding, Broyden's method approximates the Jacobian with a matrix $A^{(k+1)}$ that is required to satisfy the secant condition:\n",
    "\n",
    "\\begin{equation}\n",
    " A^{(k+1)} \\mathbf{s}^{(k)} = f(\\mathbf{x}^{(k+1)}) - f(\\mathbf{x}^{(k)}).\n",
    "\\end{equation}"
   ]
  },
  {
   "cell_type": "markdown",
   "metadata": {
    "slideshow": {
     "slide_type": "subslide"
    }
   },
   "source": [
    "Similarly, in numerical optimization, Quasi-Newton methods approximate the Hessian with a matrix $\\tilde{B}^{(k+1)}$ that satisfies the *Quasi-Newton condition*:\n",
    "\n",
    "\\begin{equation}\n",
    "    \\tilde{B}^{(k+1)} \\mathbf{s}^{(k)} = \\nabla f(\\mathbf{x}^{(k+1)}) - \\nabla f(\\mathbf{x}^{(k)})\n",
    "\\end{equation}\n",
    "\n",
    "Since the Newton-Raphson iteration rule uses the *inverse* of the Hessian, the BFGS method approximates $H^{-1}$ rather than $H$, with matrix $B^{(k+1)}$ that satisfies\n",
    "\n",
    "\\begin{equation}\n",
    "     \\mathbf{s}^{(k)} = B^{(k+1)} \\left[\\ \\nabla f(\\mathbf{x}^{(k+1)}) - \\nabla f(\\mathbf{x}^{(k)}) \\right]\n",
    "\\end{equation}"
   ]
  },
  {
   "cell_type": "markdown",
   "metadata": {
    "slideshow": {
     "slide_type": "subslide"
    }
   },
   "source": [
    "As in the case of root finding, this condition by itself does not determine a unique $B^{(k+1)}$. Instead, the BFGS method chooses a matrix that solves the following problem:\n",
    "\n",
    "\\begin{equation}\n",
    " B^{(k+1)} \\in \\arg \\min_{B :\\ B \\left[\\ \\nabla f(\\mathbf{x}^{(k+1)}) - \\nabla f(\\mathbf{x}^{(k)}) \\right] = \\mathbf{s}^{(k)}} || B - B^{(k)} ||\n",
    "\\end{equation}\n",
    "\n",
    "subject to $B = B^T$. "
   ]
  },
  {
   "cell_type": "markdown",
   "metadata": {
    "slideshow": {
     "slide_type": "subslide"
    }
   },
   "source": [
    "In other words, the BFGS update rule chooses a matrix $B^{(k+1)}$ that minimizes the distance to $B^{(k)}$ among all *symmetric* matrices that satisfy the Quasi-Newton condition. Note that this minimization problem does not explicitly require the updated Hessian approximation to be positive definite. However, it can be shown that $B^{(k+1)}$ is positive definite whenever $B^{(k)}$ is positive definite. \n",
    "\n",
    "The solution to this problem is given by the BFGS update rule used in the following."
   ]
  },
  {
   "cell_type": "markdown",
   "metadata": {
    "slideshow": {
     "slide_type": "subslide"
    }
   },
   "source": [
    "The BFGS method implements the following pseudo-code:\n",
    "\n",
    "(i) Choose an initial guess $\\mathbf{x}^{(0)}$, an initial guess for the approximate inverse Hessian $B^{(0)}$, and tolerance levels/stopping criteria $\\epsilon$ and $\\delta$. \n",
    "\n",
    "(ii) Compute the search direction as $\\mathbf{d}^{(k)} = - B^{(k)} \\nabla  f(\\mathbf{x}^{(k)})$.\n",
    "\n",
    "(iii) Solve $ \\alpha^{(k)} = \\arg \\min_{\\alpha} f(\\mathbf{x}^{(k)} + \\alpha \\mathbf{d}^{(k)}) $."
   ]
  },
  {
   "cell_type": "markdown",
   "metadata": {
    "slideshow": {
     "slide_type": "subslide"
    }
   },
   "source": [
    "(iv) Set $ \\mathbf{x}^{(k+1)} = \\mathbf{x}^{(k)} + \\alpha^{(k)} \\mathbf{d}^{(k)}$.\n",
    "\n",
    "(v) Update $B^{(k)}$: with  $\\mathbf{s}^{(k)} = \\mathbf{x}^{(k+ 1)} - \\mathbf{x}^{(k)}$ and $\\mathbf{y}^{(k)} = \\nabla f(\\mathbf{x}^{(k+ 1)}) - \\nabla f(\\mathbf{x}^{(k)})$,\n",
    "\n",
    "\n",
    "\\begin{equation}\n",
    " B^{(k+1)} = \\left(I - \\frac{ \\mathbf{s}^{(k)} ( \\mathbf{y}^{(k)} )^T  }{ (\\mathbf{y}^{(k)} )^T  \\mathbf{s}^{(k)} } \\right) B^{(k)} \\left(I - \\frac{ \\mathbf{y}^{(k)} ( \\mathbf{s}^{(k)} )^T  }{ (\\mathbf{y}^{(k)} )^T  \\mathbf{s}^{(k)} } \\right)+  \\frac{ \\mathbf{s}^{(k)} ( \\mathbf{s}^{(k)} )^T  }{ ( \\mathbf{y}^{(k)} )^T  \\mathbf{s}^{(k)} }\n",
    "\\end{equation}"
   ]
  },
  {
   "cell_type": "markdown",
   "metadata": {
    "slideshow": {
     "slide_type": "subslide"
    }
   },
   "source": [
    "(vi) Check the stopping rule: if $\\left| \\left |\\ \\mathbf{x}^{(k+1)}- \\mathbf{x}^{(k)} \\right| \\right| < \\epsilon\\left(1 + \\left| \\left |\\ \\mathbf{x}^{(k)} \\right| \\right|\\right)$, stop. If not, go back to (ii).\n",
    "\n",
    "(vii) Optionally, check for optimality: if $\\left| \\left |\\ \\nabla f( \\mathbf{x}^{(k)}) \\right| \\right| < \\delta(1 + \\left|\\ f(\\mathbf{x}^{(k)}) \\right|$, report $\\mathbf{x}^{(k)}$ as the solution. Otherwise, report failure.\n"
   ]
  },
  {
   "cell_type": "markdown",
   "metadata": {
    "slideshow": {
     "slide_type": "subslide"
    }
   },
   "source": [
    "Note that for the initial approximation $B^{(0)}$, it is common to either approximate the Hessian using finite differences (e.g. via **sm.tools.numdiff.approx_hess3** in Scipy) or simply use the identity matrix. \n",
    "\n",
    "In this case, the initial guess for the Hessian is the same as the constant guess in the Gradient Descent algorithm (see next lecture). "
   ]
  },
  {
   "cell_type": "markdown",
   "metadata": {
    "slideshow": {
     "slide_type": "subslide"
    }
   },
   "source": [
    "In Scipy, BFGS can be called using the **minimize** wrapper function seen above, with **'BFGS'** as the method argument. As before, we need to provide the objective function as well as an initial guess **x0**. \n"
   ]
  },
  {
   "cell_type": "code",
   "execution_count": 20,
   "metadata": {
    "slideshow": {
     "slide_type": "subslide"
    }
   },
   "outputs": [
    {
     "name": "stdout",
     "output_type": "stream",
     "text": [
      "      fun: -0.3731764299865199\n",
      " hess_inv: array([[105.38207513, -18.63413558],\n",
      "       [-18.63413558,   7.66430881]])\n",
      "      jac: array([-0.00000069, -0.00000082])\n",
      "  message: 'Optimization terminated successfully.'\n",
      "     nfev: 72\n",
      "      nit: 17\n",
      "     njev: 18\n",
      "   status: 0\n",
      "  success: True\n",
      "        x: array([-0.56261299,  1.07695231])\n",
      "Equilibrium quantities: [0.56971845 2.93571873]\n"
     ]
    }
   ],
   "source": [
    "x0 = np.array([1.5, 2])\n",
    "res = scipy.optimize.minimize(obj, x0, method = 'BFGS')\n",
    "print(res)\n",
    "print(\"Equilibrium quantities: {}\".format( np.exp(res.x) ))"
   ]
  },
  {
   "cell_type": "markdown",
   "metadata": {
    "slideshow": {
     "slide_type": "subslide"
    }
   },
   "source": [
    "Using **minimize** with BFGS also gives access to some additional settings in the dictionary **options**, given to the function as an argument. The general usage of **scipy.optimize.minimize** with BFGS looks like the following:\n",
    "\n",
    "***scipy.optimize.minimize(fun, x0, args=(), method='BFGS', jac=None, tol=None, options={'disp': False, 'gtol': 1e-05, 'eps': 1.4901161193847656e-08, 'maxiter': None})***\n",
    "\n",
    "If we set **disp** to **True**, we have a nicer print out compared to above. **gtol** allows us to specify the stopping criteria."
   ]
  },
  {
   "cell_type": "code",
   "execution_count": 21,
   "metadata": {
    "slideshow": {
     "slide_type": "subslide"
    }
   },
   "outputs": [
    {
     "name": "stdout",
     "output_type": "stream",
     "text": [
      "Optimization terminated successfully.\n",
      "         Current function value: -0.373176\n",
      "         Iterations: 17\n",
      "         Function evaluations: 72\n",
      "         Gradient evaluations: 18\n",
      "Equilibrium quantities: [0.56971845 2.93571873]\n"
     ]
    }
   ],
   "source": [
    "x0 = np.array([1.5, 2])\n",
    "res = scipy.optimize.minimize(obj, x0, method = 'BFGS', options={'gtol': 1e-6, 'disp': True})\n",
    "print(\"Equilibrium quantities: {}\".format( np.exp(res.x) ))"
   ]
  },
  {
   "cell_type": "markdown",
   "metadata": {
    "slideshow": {
     "slide_type": "subslide"
    }
   },
   "source": [
    "Recall that while BFGS approximates the Hessian, it is assumed to use the precise gradient of the objective function $f$. Above, we did not provide the gradient; hence, the Scipy implementation of BFGS approximates the gradient via numerical differentiation, using **eps** above for the step size. \n",
    "\n",
    "With the optional argument **jac**, we can also give the algorithm a function that returns the analytical gradient. Consider Rosenbrock's function, where Scipy provides a function for the gradient."
   ]
  },
  {
   "cell_type": "code",
   "execution_count": 22,
   "metadata": {
    "slideshow": {
     "slide_type": "subslide"
    }
   },
   "outputs": [
    {
     "name": "stdout",
     "output_type": "stream",
     "text": [
      "Optimization terminated successfully.\n",
      "         Current function value: 0.000000\n",
      "         Iterations: 26\n",
      "         Function evaluations: 31\n",
      "         Gradient evaluations: 31\n",
      "Solution: [1. 1. 1. 1. 1.]\n"
     ]
    }
   ],
   "source": [
    "x0 = [1.3, 0.7, 0.8, 1.9, 1.2]\n",
    "res = scipy.optimize.minimize(scipy.optimize.rosen, x0, method = 'BFGS', \\\n",
    "                              jac = scipy.optimize.rosen_der, options={'gtol': 1e-6, 'disp': True})\n",
    "print(\"Solution: {}\".format(res.x))"
   ]
  },
  {
   "cell_type": "markdown",
   "metadata": {
    "slideshow": {
     "slide_type": "skip"
    }
   },
   "source": [
    "--------------------------------------------------------------------------------------------------------------------------------\n",
    "<a id = 'NGM'></a>"
   ]
  },
  {
   "cell_type": "markdown",
   "metadata": {
    "slideshow": {
     "slide_type": "slide"
    }
   },
   "source": [
    "### Example: Solving the Neoclassical Growth Model \n",
    "\n",
    "As an application of unconstrained optimization over many variables, let's go back the neoclassical growth model. As a reminder, here a concise description of the model: \n",
    "\n",
    "- Utility function:\n",
    "\n",
    "\\begin{equation}\n",
    "    u(c, h) = \\frac{c^{1-\\nu}}{1-\\nu} - B \\frac{h^{1+\\eta}}{1+\\eta}\n",
    "\\end{equation}\n",
    "\n",
    "with $c$ denoting consumption and $h$ labor supply."
   ]
  },
  {
   "cell_type": "markdown",
   "metadata": {
    "slideshow": {
     "slide_type": "subslide"
    }
   },
   "source": [
    "- Production function:\n",
    "\n",
    "\\begin{equation}\n",
    "    f(k, h) = A k^\\alpha h^{1-\\alpha}\n",
    "\\end{equation}\n",
    "\n",
    "with $k$ denoting the capital stock, and $A$ the productivity level.\n",
    "\n",
    "- Resource Constraint:\n",
    "\n",
    "\\begin{equation}\n",
    "    k_{t+1} + c_t = f(k_t, h_t) + (1 - \\delta) k_t = A k_t^\\alpha h_t^{1-\\alpha} + (1 - \\delta) k_t\n",
    "\\end{equation}"
   ]
  },
  {
   "cell_type": "markdown",
   "metadata": {
    "slideshow": {
     "slide_type": "subslide"
    }
   },
   "source": [
    "- Planner's Problem:\n",
    "\n",
    "\\begin{equation}\n",
    "    \\max_{\\left\\{c_t, k_{t+1}, h_t\\right\\}} \\sum^\\infty_{t = 0} \\beta^t u(c_t, h_t) \n",
    "\\end{equation}\n",
    "s.t. the resource constraint."
   ]
  },
  {
   "cell_type": "markdown",
   "metadata": {
    "slideshow": {
     "slide_type": "subslide"
    }
   },
   "source": [
    "One obvious issue when trying to solve this model using finite-dimensional optimization is that the version of the model above has an infinite time horizon, and hence infinitely many variables (three per period). \n",
    "\n",
    "There are usually two workarounds: either you solve the model with a finite time horizon $T$ - that is, the economy ends after $T$ periods - but make $T$ large. In this case, we would hope that the economy reaches its steady long before $T$ and hence we can disregard the last few periods. "
   ]
  },
  {
   "cell_type": "markdown",
   "metadata": {
    "slideshow": {
     "slide_type": "subslide"
    }
   },
   "source": [
    "Alternatively, we can include a \"continuation value\", i.e. impose some conditions on what happens after period $T$. We look at this option below. \n",
    "\n",
    "In any case, in the simple deterministic NGM with time horizon $T$, we have $3T$ choice variables: in each period, the solution needs to specify a $c_t$, $k_{t+1}$ and a $h_t$.  "
   ]
  },
  {
   "cell_type": "markdown",
   "metadata": {
    "slideshow": {
     "slide_type": "subslide"
    }
   },
   "source": [
    "##### Parameters\n",
    "\n",
    "As in the last lecture, we will store the parameters in a dictionary."
   ]
  },
  {
   "cell_type": "code",
   "execution_count": 23,
   "metadata": {
    "slideshow": {
     "slide_type": "-"
    }
   },
   "outputs": [],
   "source": [
    "## utility\n",
    "beta = 0.9     # discount factor\n",
    "nu = 2         # risk-aversion coefficient for consumption\n",
    "eta = 1        # elasticity parameter for labor supply\n",
    "\n",
    "## production\n",
    "alpha = 0.25   # income share capital\n",
    "delta = 0.1    # depreciation rate\n",
    "\n",
    "## derived\n",
    "A = (1 - beta * (1 - delta))/(alpha*beta)  # normalization parameter for production function => steady state k = 1\n",
    "B = (1 - alpha) * A * (A - delta)**(-nu)   # normalization parameter for utility function => steady state h = 1\n",
    "\n",
    "## initial capital stock\n",
    "k0 = 0.8"
   ]
  },
  {
   "cell_type": "code",
   "execution_count": 24,
   "metadata": {
    "slideshow": {
     "slide_type": "subslide"
    }
   },
   "outputs": [],
   "source": [
    "prm = {'beta': beta,\n",
    "         'nu': nu,\n",
    "         'eta': eta,         \n",
    "         'B': B,\n",
    "         'delta': delta,\n",
    "         'alpha': alpha,\n",
    "         'A': A,\n",
    "         'k0': k0\n",
    "        }"
   ]
  },
  {
   "cell_type": "markdown",
   "metadata": {
    "slideshow": {
     "slide_type": "subslide"
    }
   },
   "source": [
    "##### Define Production and Utility Functions"
   ]
  },
  {
   "cell_type": "code",
   "execution_count": 35,
   "metadata": {
    "slideshow": {
     "slide_type": "subslide"
    }
   },
   "outputs": [],
   "source": [
    "def cobb_douglas(k, h, prm):\n",
    "    \"\"\"\n",
    "    Evaluates the Cobb-Douglas function with coefficient alpha and shift parameter A, for two inputs (x)\n",
    "    \"\"\"\n",
    "    return prm['A'] * k**prm['alpha'] * h**(1 - prm['alpha'])\n",
    "\n",
    "\n",
    "def cd_diff(k, h, prm):\n",
    "    \"\"\"\n",
    "    Evaluates the first derivatives (returned as a tuple) of the Cobb-Douglas function with coefficient alpha and shift parameter A, for two inputs (x)\n",
    "    \"\"\"\n",
    "    return (prm['alpha'] * cobb_douglas(k, h, prm) / k, \n",
    "            (1 - prm['alpha']) * cobb_douglas(k, h, prm) / h)\n",
    "\n",
    "def u(c, h, prm):\n",
    "    \"\"\"\n",
    "    Utility function\n",
    "    \"\"\"\n",
    "    return c**(1 - prm['nu'])/(1 - prm['nu']) - prm['B'] * h**(1 + prm['eta'])/(1 + prm['eta'])"
   ]
  },
  {
   "cell_type": "markdown",
   "metadata": {
    "slideshow": {
     "slide_type": "subslide"
    }
   },
   "source": [
    "##### Compute steady state (from last lecture)"
   ]
  },
  {
   "cell_type": "code",
   "execution_count": 36,
   "metadata": {},
   "outputs": [],
   "source": [
    "def steady(x, prm):\n",
    "    \"\"\"\n",
    "    Returns the vector-valued function consisting of the steady-state conditions \n",
    "    \"\"\"\n",
    "    y = np.zeros(2)\n",
    "    \n",
    "    k, h = x[0], x[1]\n",
    "    mp = cd_diff(k, h, prm)\n",
    "    \n",
    "    y[0] = prm['beta'] * (mp[0] + 1 - prm['delta']) - 1\n",
    "    y[1] = (cobb_douglas(k, h, prm) - prm['delta'] * x[0])**(-prm['nu']) * mp[1] - prm['B'] * x[1]**prm['eta']\n",
    "    \n",
    "    return y"
   ]
  },
  {
   "cell_type": "code",
   "execution_count": 37,
   "metadata": {
    "slideshow": {
     "slide_type": "subslide"
    }
   },
   "outputs": [
    {
     "name": "stdout",
     "output_type": "stream",
     "text": [
      "True\n",
      "1.000000000000464 0.999999999999972\n"
     ]
    }
   ],
   "source": [
    "## solve for steady state\n",
    "x0 = np.array([0.5, 0.5])\n",
    "res = scipy.optimize.root(steady, x0, args = (prm), tol = 1e-8, method = \"broyden1\")\n",
    "kss, hss = res.x \n",
    "\n",
    "print(res.success)\n",
    "print(kss, hss)"
   ]
  },
  {
   "cell_type": "markdown",
   "metadata": {
    "slideshow": {
     "slide_type": "subslide"
    }
   },
   "source": [
    "##### Solving the model"
   ]
  },
  {
   "cell_type": "markdown",
   "metadata": {
    "slideshow": {
     "slide_type": "subslide"
    }
   },
   "source": [
    "When implementing the objective function, note the following:\n",
    "\n",
    "- Since we do not want to use constraints here, we eliminate the variable $c$ from the problem by substituting the resource constraint. In other words, the objective function now reads:\n",
    "\n",
    "\\begin{equation}\n",
    "    \\max_{\\left\\{k_{t+1}, h_t\\right\\}} \\sum^\\infty_{t = 0} \\beta^t u(A k_t^\\alpha h_t^{1-\\alpha} + (1 - \\delta) k_t -k_{t+1}, h_t) \n",
    "\\end{equation}\n",
    "\n",
    "Note that this reduces the number of decision variables to $2T$."
   ]
  },
  {
   "cell_type": "markdown",
   "metadata": {
    "slideshow": {
     "slide_type": "subslide"
    }
   },
   "source": [
    "- Note that we maximize by choosing a sequence of next-period capital stocks, $\\{k_{t+1}\\}$ (denoted by **kp** in the code below). Of course, this determines also the sequence of *current* capital stocks, $\\{k_{t}\\}$ (denoted by k in the code below). The only additional information we need to get to this latter sequence is $k_0$. In the code, we use the **np.insert** function to insert **k0** at the beginning of the **kp** array."
   ]
  },
  {
   "cell_type": "markdown",
   "metadata": {
    "slideshow": {
     "slide_type": "subslide"
    }
   },
   "source": [
    "- There are two ways to deal with the sum and the discount factor $\\beta$. We can use the **np.sum** function, or we can apply a vectorized operation, where we multiply the vector of per period utilities with a vector of $\\beta$s, raised to increasing powers:\n",
    "\n",
    "\n",
    "\\begin{equation}\n",
    "   [\\beta^0\\ \\beta^1\\ ... \\ \\beta^T] \\cdot \\left[\n",
    "   \\begin{array}{c}\n",
    "   u(A k_0^\\alpha h_0^{1-\\alpha} + (1 - \\delta) k_0, h_0) \\\\\n",
    "   u(A k_1^\\alpha h_1^{1-\\alpha} + (1 - \\delta) k_1, h_1) \\\\\n",
    "   \\vdots \\\\\n",
    "   u(A k_T^\\alpha h_T^{1-\\alpha} + (1 - \\delta) k_T, h_T) \\\\\n",
    "   \\end{array}\n",
    "   \\right]\n",
    "\\end{equation}"
   ]
  },
  {
   "cell_type": "markdown",
   "metadata": {
    "slideshow": {
     "slide_type": "subslide"
    }
   },
   "source": [
    "- Finally, we use a continuation value to capture the infinite sum in the objective. The assumption is that after $T$ periods (at the latest), the economy has reached a steady state, and hence $h_{ss} = h_{T-1}$ etc. Hence, starting in period $T$, the decision variables always take their steady state values. Thus, \n",
    "\n",
    "\\begin{equation}\n",
    "    \\sum^\\infty_{t = T} \\beta^t u(A k_{ss}^\\alpha h_{ss}^{1-\\alpha} + (1 - \\delta) k_{ss} - k_{ss}, h_{ss}) = \\frac{\\beta^T}{1 - \\beta} u(A k_{ss}^\\alpha h_{ss}^{1-\\alpha} - \\delta k_{ss}, h_{ss})\n",
    "\\end{equation}"
   ]
  },
  {
   "cell_type": "markdown",
   "metadata": {
    "slideshow": {
     "slide_type": "subslide"
    }
   },
   "source": [
    "In other words, the infinite sum above is approximated in the following way:\n",
    "\n",
    "\\begin{equation}\n",
    "    \\sum^\\infty_{t = 0} \\beta^t u(c_t, h_t) = \\sum^{T-1}_{t = 0} \\beta^t u(A k_t^\\alpha h_t^{1-\\alpha} + (1 - \\delta) k_t -k_{t+1}, h_t) + \\frac{\\beta^T}{1 - \\beta} u(A k_{T-1}^\\alpha h_{T-1}^{1-\\alpha}  - \\delta k_{T-1}, h_{T-1})\n",
    "\\end{equation}"
   ]
  },
  {
   "cell_type": "code",
   "execution_count": 38,
   "metadata": {
    "slideshow": {
     "slide_type": "subslide"
    }
   },
   "outputs": [],
   "source": [
    "def objective(x, prm):\n",
    "    \"\"\"\n",
    "    Objective function: lifetime utility\n",
    "    \"\"\"\n",
    "    kp = np.exp( x[:int(len(x)/2)] )\n",
    "    h = np.exp( x[int(len(x)/2):] )\n",
    "\n",
    "    k = np.insert(kp[:T-1], 0, k0)\n",
    "    \n",
    "    ## continuation value\n",
    "    CV = (prm['beta']**T/(1 - prm['beta'])) *  u( cobb_douglas(kp[-1], h[-1], prm) - prm['delta'] * kp[-1], h[-1], prm)\n",
    "    \n",
    "    return - ( prm['beta']**(np.array(range(T))) @ u( cobb_douglas(k, h, prm) + (1 - prm['delta']) * k - kp, h, prm) + CV)"
   ]
  },
  {
   "cell_type": "markdown",
   "metadata": {
    "slideshow": {
     "slide_type": "subslide"
    }
   },
   "source": [
    "#### Solve model and plot decision variables over time"
   ]
  },
  {
   "cell_type": "code",
   "execution_count": 39,
   "metadata": {
    "slideshow": {
     "slide_type": "-"
    }
   },
   "outputs": [],
   "source": [
    "T = 30\n",
    "\n",
    "## set initial guess    \n",
    "x0 = np.concatenate([np.log( kss ) * np.ones(T), np.log( hss ) * np.ones(T)])"
   ]
  },
  {
   "cell_type": "code",
   "execution_count": 40,
   "metadata": {
    "slideshow": {
     "slide_type": "subslide"
    }
   },
   "outputs": [
    {
     "name": "stdout",
     "output_type": "stream",
     "text": [
      "Optimization terminated successfully.\n",
      "True\n"
     ]
    }
   ],
   "source": [
    "## solve model\n",
    "res = scipy.optimize.minimize(objective, x0, args = (prm), method = 'BFGS', tol = 1e-6)\n",
    "print(res.message)\n",
    "print(res.success)"
   ]
  },
  {
   "cell_type": "code",
   "execution_count": 41,
   "metadata": {
    "slideshow": {
     "slide_type": "subslide"
    }
   },
   "outputs": [
    {
     "name": "stdout",
     "output_type": "stream",
     "text": [
      "[0.84822175 0.8849354  0.91282758 0.93398892 0.95002906 0.96217985\n",
      " 0.97138079 0.97834579 0.98361717 0.9876058 ]\n"
     ]
    }
   ],
   "source": [
    "x = res.x\n",
    "kp = np.exp( x[:int(len(x)/2)] )\n",
    "h =  np.exp( x[int(len(x)/2):] )\n",
    "\n",
    "print( kp[:10] )"
   ]
  },
  {
   "cell_type": "code",
   "execution_count": 42,
   "metadata": {
    "slideshow": {
     "slide_type": "subslide"
    }
   },
   "outputs": [
    {
     "data": {
      "text/plain": [
       "<matplotlib.collections.LineCollection at 0x273630b7f88>"
      ]
     },
     "execution_count": 42,
     "metadata": {},
     "output_type": "execute_result"
    },
    {
     "data": {
      "image/png": "[encoded data removed]",
      "text/plain": [
       "<Figure size 432x288 with 2 Axes>"
      ]
     },
     "metadata": {
      "needs_background": "light"
     },
     "output_type": "display_data"
    }
   ],
   "source": [
    "fig, ax = plt.subplots(2,1)\n",
    "ax[0].plot(kp)\n",
    "ax[1].plot(h)\n",
    "ax[0].hlines(kss, 0, T)\n",
    "ax[1].hlines(hss, 0, T)"
   ]
  },
  {
   "cell_type": "markdown",
   "metadata": {
    "slideshow": {
     "slide_type": "skip"
    }
   },
   "source": [
    "--------------------------------------------------------------------------------------------------------------------------------\n",
    "<a id = 'constr'></a>"
   ]
  },
  {
   "cell_type": "markdown",
   "metadata": {
    "slideshow": {
     "slide_type": "slide"
    }
   },
   "source": [
    "### Constrained Optimization\n",
    "\n",
    "Solving constrained optimization problems numerically is a highly complex topic and could very well fill a whole course by itself. Since we cannot do this here, at this point, we are going to focus on how to execute constrained optimization in SciPy rather than going in the underlying math. "
   ]
  },
  {
   "cell_type": "markdown",
   "metadata": {
    "slideshow": {
     "slide_type": "subslide"
    }
   },
   "source": [
    "Let's start with a generic example: \n",
    "\n",
    "\\begin{equation}\n",
    "    \\max_{x_1, x_2}  5 \\log(x_1) - x_2^2\n",
    "\\end{equation}\n",
    "\n",
    "s.t.\n",
    "\n",
    "\\begin{equation}\n",
    "    x_1 = 2x_2\n",
    "\\end{equation}\n",
    "and $x_2 \\ge 1$."
   ]
  },
  {
   "cell_type": "markdown",
   "metadata": {
    "slideshow": {
     "slide_type": "subslide"
    }
   },
   "source": [
    "That is, we have a maximization problem over two variables, one of which is bounded below, subject to a constraint. \n",
    "\n",
    "The basic syntax used above in the **minimize** function will be the same; however, we have two more arguments to provide, one for the **bounds** and one for **constraints**:\n",
    "\n",
    "**scipy.optimize.minimize(fun, x0, args=(), method='SLSQP', bounds = bnds, constraints = constr, ...)**"
   ]
  },
  {
   "cell_type": "markdown",
   "metadata": {
    "slideshow": {
     "slide_type": "subslide"
    }
   },
   "source": [
    "Bounds have to be specified as a list of tuples, where each tuple corresponds on one variable, e.g. here **(1, None)** for $x_2$. If a variables is not bounded below or above, we can use **None** (or alternatively, large numbers in absolute value). "
   ]
  },
  {
   "cell_type": "code",
   "execution_count": 41,
   "metadata": {},
   "outputs": [],
   "source": [
    "## set bounds\n",
    "# bnds = [(None, None), (1, None)]\n",
    "bnds = [(-1e+8, 1e+8), (1, 1e+8)]"
   ]
  },
  {
   "cell_type": "markdown",
   "metadata": {
    "slideshow": {
     "slide_type": "subslide"
    }
   },
   "source": [
    "Constraints are defined as lists of dictionaries, that is, one dictionary per \"group\" of constraints. Each dictionary contains the **'type'** of the dictionary, which can be **'eq'** for equality or **'ineq'** for inequality constraints.\n",
    "\n",
    "Moreover, they contain a function that captures the constraint, i.e. takes the decision vector x as input and returns the residual that must be zero if the constraint holds with equality. Here, I use a **lambda** function."
   ]
  },
  {
   "cell_type": "code",
   "execution_count": 42,
   "metadata": {
    "slideshow": {
     "slide_type": "subslide"
    }
   },
   "outputs": [],
   "source": [
    "## define equality constraint\n",
    "constr = [{'type': 'eq', 'fun': lambda x: x[0] - 2 * x[1]}]"
   ]
  },
  {
   "cell_type": "markdown",
   "metadata": {
    "slideshow": {
     "slide_type": "subslide"
    }
   },
   "source": [
    "Finally, we define the objective function, again using the **lambda** notation. Again, note that while we are maximizing the objective, SciPy's routine is for minimization, and hence we put a negative sign in front of the objective."
   ]
  },
  {
   "cell_type": "code",
   "execution_count": 43,
   "metadata": {},
   "outputs": [],
   "source": [
    "## define objective function\n",
    "obj = lambda x: - ( 5 * np.log(x[0]) - x[1]**2 )"
   ]
  },
  {
   "cell_type": "markdown",
   "metadata": {
    "slideshow": {
     "slide_type": "subslide"
    }
   },
   "source": [
    "We can then run the minimization algorithm. With respect to the method, we choose \"Sequential Least Squares Programming\" (**SLSQP**). Again, we will not go into the math behind it. For most problems whose scale is not too large, it works well, given that you use a reasonable initial guess."
   ]
  },
  {
   "cell_type": "code",
   "execution_count": 44,
   "metadata": {},
   "outputs": [
    {
     "data": {
      "text/plain": [
       "     fun: -3.256462732478156\n",
       "     jac: array([-1.58054602,  3.16346362])\n",
       " message: 'Optimization terminated successfully.'\n",
       "    nfev: 17\n",
       "     nit: 4\n",
       "    njev: 4\n",
       "  status: 0\n",
       " success: True\n",
       "       x: array([3.16227393, 1.58113696])"
      ]
     },
     "execution_count": 44,
     "metadata": {},
     "output_type": "execute_result"
    }
   ],
   "source": [
    "scipy.optimize.minimize(obj, (2,2),  method ='SLSQP', constraints = constr, bounds = bnds)"
   ]
  },
  {
   "cell_type": "markdown",
   "metadata": {
    "slideshow": {
     "slide_type": "subslide"
    }
   },
   "source": [
    "As a second example, let's again use the neoclassical growth model. However, compared to the previous section, we slightly modify the way to set it up, in order to include bounds on variables and constraints. \n",
    "\n",
    "Start by again defining the objective function. Note two changes to above: we include consumption **(c)** as part of the decision vector x, which shows up directly in the utility function. Moreover, we do not employ the trick used above where variables are in logs in order to exclude negative values."
   ]
  },
  {
   "cell_type": "code",
   "execution_count": 45,
   "metadata": {
    "slideshow": {
     "slide_type": "subslide"
    }
   },
   "outputs": [],
   "source": [
    "def objective_alt(x):\n",
    "    \"\"\"\n",
    "    Objective function: lifetime utility\n",
    "    \"\"\"\n",
    "    kp = x[:int(len(x)/3)] \n",
    "    h = x[int(len(x)/3): 2 * int(len(x)/3)] \n",
    "    c = x[2 * int(len(x)/3): 3 * int(len(x)/3)] \n",
    "\n",
    "    k = np.insert(kp[:T-1], 0, k0)\n",
    "    \n",
    "    return - ( beta**(np.array(range(T))) @ u(c , h) \n",
    "              + (beta**T/(1 - beta)) *  u( cd(kp[-1], h[-1]) - delta * kp[-1], h[-1]) )"
   ]
  },
  {
   "cell_type": "markdown",
   "metadata": {
    "slideshow": {
     "slide_type": "subslide"
    }
   },
   "source": [
    "Next, define a function **resource_con** that captures the resource constraint: it also takes **x** an argument, and returns the difference between the endowment of the economy (production plus undepreciated capital) and what it is used for (consumption and new capital)."
   ]
  },
  {
   "cell_type": "code",
   "execution_count": 46,
   "metadata": {
    "slideshow": {
     "slide_type": "subslide"
    }
   },
   "outputs": [],
   "source": [
    "def resource_con(x):\n",
    "    \n",
    "    kp = x[:int(len(x)/3)] \n",
    "    h = x[int(len(x)/3): 2 * int(len(x)/3)] \n",
    "    c = x[2 * int(len(x)/3): 3 * int(len(x)/3)] \n",
    "\n",
    "    k = np.insert(kp[:T-1], 0, k0)\n",
    "    \n",
    "    return cd(k, h) + (1 - delta) * k - kp - c"
   ]
  },
  {
   "cell_type": "markdown",
   "metadata": {
    "slideshow": {
     "slide_type": "subslide"
    }
   },
   "source": [
    "As before, we use the steady state values as initial guesses (**x0**). In addition, we have to specify the bounds on the variables and the constraints. "
   ]
  },
  {
   "cell_type": "code",
   "execution_count": 47,
   "metadata": {
    "slideshow": {
     "slide_type": "-"
    }
   },
   "outputs": [],
   "source": [
    "## number of periods\n",
    "T = 30\n",
    "## set initial guess    \n",
    "x0 = np.concatenate([kss  * np.ones(T), hss  * np.ones(T), 1.3 * np.ones(T)])"
   ]
  },
  {
   "cell_type": "markdown",
   "metadata": {
    "slideshow": {
     "slide_type": "subslide"
    }
   },
   "source": [
    "All variables here have zero as the lower bound, while they are not bounded above. Hence, we will use a small number (**1e-8**) for the lower bound, and a large number (**1e+8**) for the upper bound. \n",
    "\n",
    "Recall that bounds have to be specified as a list of tuples, where each tuple corresponds on one variable, e.g. here **(1e-8, 1e+8)**. Since we have $3T$ variables, the easiest is to start with a list of one element and then repeat $3T$ (or **len(x0)**) time. "
   ]
  },
  {
   "cell_type": "code",
   "execution_count": 48,
   "metadata": {
    "slideshow": {
     "slide_type": "-"
    }
   },
   "outputs": [],
   "source": [
    "## set bounds\n",
    "bnds = [(1e-8, 1e+8)] * len(x0)"
   ]
  },
  {
   "cell_type": "markdown",
   "metadata": {
    "slideshow": {
     "slide_type": "subslide"
    }
   },
   "source": [
    "Regarding the constraints, recall that we have one constraints per period, so T constraints in total. However, they all belong to the same \"group\", so one dictionary is enough. For the function, it contains the **resource_con** function defined above: "
   ]
  },
  {
   "cell_type": "code",
   "execution_count": 49,
   "metadata": {
    "slideshow": {
     "slide_type": "-"
    }
   },
   "outputs": [],
   "source": [
    "## set constraints\n",
    "constr = [{'type': 'eq', 'fun': resource_con}]"
   ]
  },
  {
   "cell_type": "markdown",
   "metadata": {
    "slideshow": {
     "slide_type": "subslide"
    }
   },
   "source": [
    "We then solve the model using the **SLSQP** method, with the additional keywords **constraints** and **bounds**, which take the objects defined on the previous slide."
   ]
  },
  {
   "cell_type": "code",
   "execution_count": 50,
   "metadata": {
    "slideshow": {
     "slide_type": "-"
    }
   },
   "outputs": [
    {
     "name": "stdout",
     "output_type": "stream",
     "text": [
      "Optimization terminated successfully.    (Exit mode 0)\n",
      "            Current function value: 5.560590690235752\n",
      "            Iterations: 48\n",
      "            Function evaluations: 4417\n",
      "            Gradient evaluations: 48\n"
     ]
    }
   ],
   "source": [
    "## solve model\n",
    "res = scipy.optimize.minimize(objective_alt, x0, method = 'SLSQP', tol = 1e-10, \\\n",
    "                              bounds = bnds, constraints = constr, options={'disp': True})"
   ]
  },
  {
   "cell_type": "markdown",
   "metadata": {
    "slideshow": {
     "slide_type": "subslide"
    }
   },
   "source": [
    "As before, we can check if the algorithm converged and compare the first ten values of **x** to the result of our unconstrained optimization above. "
   ]
  },
  {
   "cell_type": "code",
   "execution_count": 51,
   "metadata": {
    "slideshow": {
     "slide_type": "-"
    }
   },
   "outputs": [
    {
     "name": "stdout",
     "output_type": "stream",
     "text": [
      "Optimization terminated successfully.\n",
      "True\n",
      "[0.86424941 0.90815382 0.93798101 0.95817141 0.97181095 0.98101185\n",
      " 0.98721444 0.99139199 0.99421106 0.996093  ]\n"
     ]
    }
   ],
   "source": [
    "print(res.message)\n",
    "print(res.success)\n",
    "x = res.x\n",
    "print( x[:10] )"
   ]
  },
  {
   "cell_type": "code",
   "execution_count": 52,
   "metadata": {
    "slideshow": {
     "slide_type": "subslide"
    }
   },
   "outputs": [
    {
     "name": "stdout",
     "output_type": "stream",
     "text": [
      "[0.86424818 0.90815543 0.93798093 0.9581715  0.97181055 0.98101158\n",
      " 0.98721371 0.99139089 0.99420611 0.99609989]\n",
      "[0.86424941 0.90815382 0.93798101 0.95817141 0.97181095 0.98101185\n",
      " 0.98721444 0.99139199 0.99421106 0.996093  ]\n"
     ]
    }
   ],
   "source": [
    "kp_alt = x[:int(len(x)/3)] \n",
    "h_alt = x[int(len(x)/3): 2 * int(len(x)/3)] \n",
    "c_alt = x[2 * int(len(x)/3): 3 * int(len(x)/3)] \n",
    "## compare with result from unconstrained optimization\n",
    "print(kp[:10])\n",
    "print(kp_alt[:10])"
   ]
  },
  {
   "cell_type": "code",
   "execution_count": null,
   "metadata": {},
   "outputs": [],
   "source": []
  },
  {
   "cell_type": "markdown",
   "metadata": {
    "slideshow": {
     "slide_type": "skip"
    }
   },
   "source": [
    "--------------------------------------------------------------------------------------------------------------------------------\n",
    "<a id = 'Nelder-Mead'></a>"
   ]
  },
  {
   "cell_type": "markdown",
   "metadata": {
    "slideshow": {
     "slide_type": "skip"
    }
   },
   "source": [
    "## Appendix"
   ]
  },
  {
   "cell_type": "markdown",
   "metadata": {
    "slideshow": {
     "slide_type": "skip"
    }
   },
   "source": [
    "### Nelder-Mead (Simplex)\n",
    "\n",
    "Compare http://www.benfrederickson.com/numerical-optimization/ for a visualization."
   ]
  },
  {
   "cell_type": "markdown",
   "metadata": {
    "slideshow": {
     "slide_type": "skip"
    }
   },
   "source": [
    "Similar to golden search in the univariate case, use the Nelder-Mead algorithm only in cases where a single optimization is performed and evaluating the function and its derivatives is costly. Nelder-Mead is slow and unreliable, in particular for problems with more than two dimensions. In those cases, we are better off with using a variant of line search."
   ]
  },
  {
   "cell_type": "markdown",
   "metadata": {
    "slideshow": {
     "slide_type": "skip"
    }
   },
   "source": [
    "### Rosenbrock function\n",
    "\n",
    "The *Rosenbrock function* (also called *Rosenbrock's banana function*) is often used to test the performance of optimization algorithms. In its simplest form with two variables, it looks like the following:\n",
    "\n",
    "\\begin{equation}\n",
    "    f(x, y) = (a - x)^2 + b (y - x^2)^2\n",
    "\\end{equation}\n",
    "\n",
    "Its global minimum is at $(a, a^2)$. Below, we set $a = 1$ and $b = 100$."
   ]
  },
  {
   "cell_type": "code",
   "execution_count": 6,
   "metadata": {
    "slideshow": {
     "slide_type": "skip"
    }
   },
   "outputs": [],
   "source": [
    "def banana(x, y):\n",
    "    return (1 - x)**2 + 100 * (y - x**2)**2"
   ]
  },
  {
   "cell_type": "markdown",
   "metadata": {
    "slideshow": {
     "slide_type": "skip"
    }
   },
   "source": [
    "Plotting the banana function with a contour plot shows the \"Rosenbrock valley\" that contains the smallest function values, including the minimum:"
   ]
  },
  {
   "cell_type": "code",
   "execution_count": 7,
   "metadata": {
    "slideshow": {
     "slide_type": "skip"
    }
   },
   "outputs": [],
   "source": [
    "x = np.linspace(-0.5, 1.5, 50)\n",
    "y = np.linspace(-0.5, 1.5, 50)\n",
    "xx, yy = np.meshgrid(x, y)\n",
    "z = banana(xx, yy)"
   ]
  },
  {
   "cell_type": "code",
   "execution_count": 8,
   "metadata": {
    "slideshow": {
     "slide_type": "skip"
    }
   },
   "outputs": [
    {
     "data": {
      "text/plain": [
       "<matplotlib.colorbar.Colorbar at 0x1c1825f550>"
      ]
     },
     "execution_count": 8,
     "metadata": {},
     "output_type": "execute_result"
    },
    {
     "data": {
      "image/png": "[encoded data removed]",
      "text/plain": [
       "<Figure size 432x288 with 2 Axes>"
      ]
     },
     "metadata": {
      "needs_background": "light"
     },
     "output_type": "display_data"
    }
   ],
   "source": [
    "## plot contour\n",
    "fig, ax = plt.subplots()\n",
    "CP = ax.contour(x, y, z, 300,  linewidths=2, cmap='cool')\n",
    "fig.colorbar(CP)"
   ]
  },
  {
   "cell_type": "code",
   "execution_count": 9,
   "metadata": {
    "slideshow": {
     "slide_type": "skip"
    }
   },
   "outputs": [
    {
     "data": {
      "image/png": "[encoded data removed]",
      "text/plain": [
       "<Figure size 432x288 with 1 Axes>"
      ]
     },
     "metadata": {
      "needs_background": "light"
     },
     "output_type": "display_data"
    }
   ],
   "source": [
    "## 3-D plot\n",
    "import matplotlib.pyplot as plt\n",
    "from mpl_toolkits.mplot3d import Axes3D\n",
    "fig = plt.figure()\n",
    "ax = fig.add_subplot(111, projection='3d')\n",
    "ax.plot_surface(xx, yy, z, cmap = 'prism')\n",
    "ax.view_init(30, 60)"
   ]
  },
  {
   "cell_type": "markdown",
   "metadata": {
    "slideshow": {
     "slide_type": "skip"
    }
   },
   "source": [
    "Scipy has an implementation of the Rosenbrock function, including its gradient and Hessian, as **scipy.optimize.rosen**, **scipy.optimize.rosen_der** and **scipy.optimize.rosen_hess**, respectively. \n",
    "\n",
    "In order to solve it with Nelder-Mead, we can use Scipy's **minimize** function, which is a \"wrapper\" around several different methods (some of them also for constrained optimization). Compare the documentation here: https://docs.scipy.org/doc/scipy/reference/generated/scipy.optimize.minimize.html."
   ]
  },
  {
   "cell_type": "markdown",
   "metadata": {
    "slideshow": {
     "slide_type": "skip"
    }
   },
   "source": [
    "The default arguments to be given to **minimize** are the name of the function, an initial guess and the name of the method."
   ]
  },
  {
   "cell_type": "code",
   "execution_count": 10,
   "metadata": {
    "slideshow": {
     "slide_type": "skip"
    }
   },
   "outputs": [
    {
     "data": {
      "text/plain": [
       " final_simplex: (array([[0.99998287, 0.99996782],\n",
       "       [1.00002868, 1.00005929],\n",
       "       [0.99996631, 0.99992986]]), array([7.23522566e-10, 1.19247963e-09, 1.89213626e-09]))\n",
       "           fun: 7.235225658704654e-10\n",
       "       message: 'Optimization terminated successfully.'\n",
       "          nfev: 94\n",
       "           nit: 49\n",
       "        status: 0\n",
       "       success: True\n",
       "             x: array([0.99998287, 0.99996782])"
      ]
     },
     "execution_count": 10,
     "metadata": {},
     "output_type": "execute_result"
    }
   ],
   "source": [
    "scipy.optimize.minimize(scipy.optimize.rosen, [1.5, 2], method = 'Nelder-Mead')"
   ]
  },
  {
   "cell_type": "markdown",
   "metadata": {
    "slideshow": {
     "slide_type": "skip"
    }
   },
   "source": [
    "More generally, Rosenbrock's function can be defined for $N \\ge 2$ variables:\n",
    "\n",
    "\\begin{equation}\n",
    "f(\\mathbf{x}) = \\sum_{i=1}^{N-1} 100 (x_{i+1} - x_i^2 )^2 + (1-x_i)^2 \\quad \\mbox{where} \\quad \\mathbf{x} = [x_1, \\ldots, x_N] \\in \\mathbb{R}^N\n",
    "\\end{equation}\n",
    "\n",
    "When minimizing the function, we can indicate the dimension of $\\mathbf{x}$ by the length of the array serving as the initial guess: "
   ]
  },
  {
   "cell_type": "code",
   "execution_count": 11,
   "metadata": {
    "slideshow": {
     "slide_type": "skip"
    }
   },
   "outputs": [
    {
     "data": {
      "text/plain": [
       " final_simplex: (array([[1.00000342, 1.00000518, 1.00001268, 1.0000237 , 1.00004644],\n",
       "       [1.00000518, 1.00001424, 1.00002928, 1.00005383, 1.00010782],\n",
       "       [0.99999397, 0.99999598, 0.9999898 , 0.9999779 , 0.99995271],\n",
       "       [1.00000253, 1.00001166, 1.00002235, 1.0000485 , 1.00010125],\n",
       "       [1.00000527, 1.00000843, 1.00001001, 1.00001619, 1.00003999],\n",
       "       [1.00000403, 1.000006  , 1.00000274, 1.00000851, 1.00001169]]), array([1.93938932e-09, 7.79562146e-09, 8.82573360e-09, 1.06950989e-08,\n",
       "       1.28607339e-08, 1.29121498e-08]))\n",
       "           fun: 1.939389319501672e-09\n",
       "       message: 'Optimization terminated successfully.'\n",
       "          nfev: 653\n",
       "           nit: 407\n",
       "        status: 0\n",
       "       success: True\n",
       "             x: array([1.00000342, 1.00000518, 1.00001268, 1.0000237 , 1.00004644])"
      ]
     },
     "execution_count": 11,
     "metadata": {},
     "output_type": "execute_result"
    }
   ],
   "source": [
    "scipy.optimize.minimize(scipy.optimize.rosen, [1.5, 2, 2, 2, 2], method = 'Nelder-Mead')"
   ]
  },
  {
   "cell_type": "markdown",
   "metadata": {
    "slideshow": {
     "slide_type": "skip"
    }
   },
   "source": [
    "### Newton-Raphson with Two Update Rules\n",
    "<a id = 'app_newton_ls'></a>"
   ]
  },
  {
   "cell_type": "markdown",
   "metadata": {
    "slideshow": {
     "slide_type": "skip"
    }
   },
   "source": [
    "Below, we modify **my_opt** in order to allow it to use two different update rules **step1** and **step2**, which are Newton-Raphson with and without line search, respectively. It switches once **alpha** is in the interval $(0.95, 1.05)$. "
   ]
  },
  {
   "cell_type": "code",
   "execution_count": 26,
   "metadata": {
    "slideshow": {
     "slide_type": "skip"
    }
   },
   "outputs": [],
   "source": [
    "def my_opt_ls(x, obj, step1, step2, kappa = 0.05, maxit = 100,  tol = 1e-8, delta = 1e-4):\n",
    "    \"\"\"\n",
    "    Implements the iterative procedure for an optimization algorithm with line search considered below . Inputs are \n",
    "    -> x: initial guess for the minimizing vector\n",
    "    -> obj: objective, defined a function of x\n",
    "    -> step: a function implementing how the step from x(k) to x(k+1) is determined\n",
    "    \"\"\"\n",
    "    dist = 1\n",
    "    it = 0\n",
    "    \n",
    "    close = False\n",
    "    while dist > tol and it < maxit:\n",
    "        it += 1\n",
    "        \n",
    "        if not close:\n",
    "            s, alpha = step1(x, obj)\n",
    "            if abs(alpha - 1) < kappa:\n",
    "                close = True\n",
    "        else:\n",
    "            s, alpha = step2(x, obj)\n",
    "    \n",
    "        dist = np.linalg.norm(s) / (1 + np.linalg.norm(x))\n",
    "        print(it, dist, alpha)\n",
    "        x = x + s\n",
    "    \n",
    "    ## check for optimality\n",
    "    gr = sm.tools.numdiff.approx_fprime(x, obj)\n",
    "    if np.linalg.norm(gr) > delta * (1 + abs(obj(x))):\n",
    "        print('Solution does not appear an optimum!')\n",
    "    \n",
    "    return x           "
   ]
  },
  {
   "cell_type": "code",
   "execution_count": 27,
   "metadata": {
    "slideshow": {
     "slide_type": "skip"
    }
   },
   "outputs": [
    {
     "name": "stdout",
     "output_type": "stream",
     "text": [
      "1 0.5078330704005951 2.156098270486832\n",
      "2 0.26153619744778084 0.7909094183811063\n",
      "3 0.14673183826309916 1.3739201270685646\n",
      "4 0.02278950492095391 0.9658500533512775\n",
      "5 0.0003871633468694375 1\n",
      "6 0.0 1\n",
      "Equilibrium quantities: [0.56974868 2.93570232]\n"
     ]
    }
   ],
   "source": [
    "x0 = np.array([1.5, 2])\n",
    "x = my_opt_ls(x0, obj, newton_gs, newton)\n",
    "print(\"Equilibrium quantities: {}\".format(np.exp(x)))"
   ]
  },
  {
   "cell_type": "markdown",
   "metadata": {
    "slideshow": {
     "slide_type": "skip"
    }
   },
   "source": [
    "As we can see, combining the two methods reduces the number of iterations. However, it should be noted that this not always the case; compare for example Rosenbrock's function."
   ]
  },
  {
   "cell_type": "code",
   "execution_count": 28,
   "metadata": {
    "slideshow": {
     "slide_type": "skip"
    }
   },
   "outputs": [
    {
     "name": "stdout",
     "output_type": "stream",
     "text": [
      "1 0.5909550630434172 1.2256548267631269\n",
      "2 0.09654720711727843 1.1175674258660662\n",
      "3 0.06384469819367368 1\n",
      "4 0.24392523432624152 1\n",
      "5 0.009653664785840413 1\n",
      "6 0.41357109501535233 1\n",
      "7 0.10028691799695104 1\n",
      "8 0.03798947567439169 1\n",
      "9 0.0008305940985397821 1\n",
      "10 0.0006248830903869588 1\n",
      "11 1.7148837578572872e-07 1\n",
      "12 3.555012649912429e-11 1\n",
      "Solution: [0.9999992  0.99999841 0.99999684 0.99999368 0.99998736]\n"
     ]
    }
   ],
   "source": [
    "x0 = np.array([1.5, 2, 2, 2, 2])\n",
    "x = my_opt_ls(x0, scipy.optimize.rosen, newton_gs, newton, kappa = 0.15)\n",
    "print(\"Solution: {}\".format(x))"
   ]
  },
  {
   "cell_type": "code",
   "execution_count": null,
   "metadata": {},
   "outputs": [],
   "source": []
  }
 ],
 "metadata": {
  "celltoolbar": "Slideshow",
  "kernelspec": {
   "display_name": "Python 3",
   "language": "python",
   "name": "python3"
  },
  "language_info": {
   "codemirror_mode": {
    "name": "ipython",
    "version": 3
   },
   "file_extension": ".py",
   "mimetype": "text/x-python",
   "name": "python",
   "nbconvert_exporter": "python",
   "pygments_lexer": "ipython3",
   "version": "3.7.5"
  }
 },
 "nbformat": 4,
 "nbformat_minor": 1
}
