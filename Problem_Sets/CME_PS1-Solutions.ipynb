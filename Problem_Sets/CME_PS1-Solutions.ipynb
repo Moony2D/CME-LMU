{
 "cells": [
  {
   "cell_type": "markdown",
   "metadata": {
    "nbgrader": {
     "grade": false,
     "grade_id": "cell-c08c82a72b5a25d3",
     "locked": true,
     "schema_version": 3,
     "solution": false
    }
   },
   "source": [
    "# Computational Methods in Economics (winter term 2019/20)\n",
    "\n",
    "## Problem Set 1"
   ]
  },
  {
   "cell_type": "markdown",
   "metadata": {
    "nbgrader": {
     "grade": false,
     "grade_id": "cell-65c7557a3e7c5cf3",
     "locked": true,
     "schema_version": 3,
     "solution": false
    }
   },
   "source": [
    "#### DEADLINE: Wednesday, November 6, 12 pm"
   ]
  },
  {
   "cell_type": "markdown",
   "metadata": {
    "nbgrader": {
     "grade": false,
     "grade_id": "cell-9148611e8b70efba",
     "locked": true,
     "schema_version": 3,
     "solution": false
    }
   },
   "source": [
    "## Question 1\n",
    "\n",
    "Write a function that computes the median value in a list of integers or floats. If the list has an even number of elements, let the median value be the average value of the two median elements. For example, **lst = [7,1,3]** has a median value of 3, while **lst = [7,1,3,2]** has a median value of 2.5.\n",
    "\n",
    "Hint 1: The built-in function **sorted** used on lists may prove useful here.\n",
    "\n",
    "Hint 2: Note that using the built-in function **int()** on a floating point number *rounds down*:"
   ]
  },
  {
   "cell_type": "code",
   "execution_count": 1,
   "metadata": {
    "nbgrader": {
     "grade": false,
     "grade_id": "cell-d1c0055f45eace36",
     "locked": true,
     "schema_version": 3,
     "solution": false
    }
   },
   "outputs": [
    {
     "name": "stdout",
     "output_type": "stream",
     "text": [
      "1\n",
      "3\n"
     ]
    }
   ],
   "source": [
    "print(int(1.5))\n",
    "print(int(3.99))"
   ]
  },
  {
   "cell_type": "markdown",
   "metadata": {
    "nbgrader": {
     "grade": false,
     "grade_id": "cell-ddb1390af9e3ef9e",
     "locked": true,
     "schema_version": 3,
     "solution": false
    }
   },
   "source": [
    "#### Answer"
   ]
  },
  {
   "cell_type": "code",
   "execution_count": 2,
   "metadata": {
    "nbgrader": {
     "grade": false,
     "grade_id": "cell-9eb2e1e12cdb9fcd",
     "locked": false,
     "schema_version": 3,
     "solution": true
    }
   },
   "outputs": [],
   "source": [
    "def compute_median(lst):\n",
    "    \"\"\"\n",
    "    Computes the median of a list\n",
    "    \"\"\"\n",
    "### BEGIN SOLUTION\n",
    "    lst = sorted(lst)\n",
    "    # case 1: even -> compute average of two median elements\n",
    "    if len(lst) % 2 == 0:\n",
    "        # find index of the larger of the two median elements\n",
    "        index = int(0.5 * len(lst))\n",
    "        med = 0.5 * (lst[index-1] + lst[index])\n",
    "    # case 2: odd -> find index of the median element\n",
    "    else:\n",
    "        index = int(0.5 * len(lst))\n",
    "        med = lst[index]\n",
    "        \n",
    "    return med    \n",
    "### END SOLUTION"
   ]
  },
  {
   "cell_type": "code",
   "execution_count": 3,
   "metadata": {
    "nbgrader": {
     "grade": true,
     "grade_id": "cell-0e57d5266005a2c0",
     "locked": true,
     "points": 1,
     "schema_version": 3,
     "solution": false
    }
   },
   "outputs": [],
   "source": [
    "assert compute_median([7,1,3]) == 3\n",
    "assert compute_median([7,1,3,2]) == 2.5"
   ]
  },
  {
   "cell_type": "code",
   "execution_count": 4,
   "metadata": {
    "nbgrader": {
     "grade": true,
     "grade_id": "cell-c8e870471237fa99",
     "locked": true,
     "points": 1,
     "schema_version": 3,
     "solution": false
    }
   },
   "outputs": [],
   "source": [
    "# THIS IS A TEST CELL!\n",
    "### BEGIN HIDDEN TESTS\n",
    "assert compute_median([1]) == 1\n",
    "assert compute_median([1,2]) == 1.5\n",
    "assert compute_median([1,1,1]) == 1\n",
    "### END HIDDEN TESTS"
   ]
  },
  {
   "cell_type": "markdown",
   "metadata": {
    "nbgrader": {
     "grade": false,
     "grade_id": "cell-8ecd1b714f4a4399",
     "locked": true,
     "schema_version": 3,
     "solution": false
    }
   },
   "source": [
    "## Question 2\n",
    "\n",
    "Write a function **removes_duplicates** that takes a list (with elements of any type) and removes all duplicates, i.e. returns a list in which each element appears only once. For example, inputting **[1,1,2,2]** should return **([1,2])**. Try to solve this problem in *two different ways*.\n",
    "\n",
    "Hint: For this question, useful functions and methods are **.append()** (for lists) and the functions **set()** and **list()**."
   ]
  },
  {
   "cell_type": "markdown",
   "metadata": {
    "nbgrader": {
     "grade": false,
     "grade_id": "cell-9427add825e5b601",
     "locked": true,
     "schema_version": 3,
     "solution": false
    }
   },
   "source": [
    "#### Answer"
   ]
  },
  {
   "cell_type": "code",
   "execution_count": 5,
   "metadata": {
    "nbgrader": {
     "grade": false,
     "grade_id": "cell-e83475ff0a8dcc6e",
     "locked": false,
     "schema_version": 3,
     "solution": true
    }
   },
   "outputs": [],
   "source": [
    "def remove_duplicates(lst):\n",
    "    '''\n",
    "    Removes duplicates in a list by using a loop\n",
    "    '''\n",
    "### BEGIN SOLUTION    \n",
    "    # initialize empty list\n",
    "    new = []\n",
    "    # loop through lst and check if element x already in new; if not, add it\n",
    "    for item in lst:\n",
    "        if item not in new:\n",
    "            new.append(item)\n",
    "        \n",
    "    return new \n",
    "### END SOLUTION\n",
    "\n",
    "def remove_duplicates2(lst): \n",
    "    '''\n",
    "    Removes duplicates in a list by using the set() function\n",
    "    '''\n",
    "### BEGIN SOLUTION     \n",
    "    # convert lst to set and recall that sets cannot have duplicates!\n",
    "    # in other words, when converting a list to a set, duplicates are eliminated automatically\n",
    "    S = set(lst)\n",
    "    return list(S)\n",
    "### END SOLUTION "
   ]
  },
  {
   "cell_type": "code",
   "execution_count": 6,
   "metadata": {
    "nbgrader": {
     "grade": true,
     "grade_id": "cell-56970eae1dca19d8",
     "locked": true,
     "points": 1,
     "schema_version": 3,
     "solution": false
    }
   },
   "outputs": [],
   "source": [
    "assert remove_duplicates([1,1,2,2]) == [1,2]  \n",
    "assert remove_duplicates2([1,1,2,2]) == [1,2]  "
   ]
  },
  {
   "cell_type": "code",
   "execution_count": 7,
   "metadata": {
    "nbgrader": {
     "grade": true,
     "grade_id": "cell-8571a3945a107a2f",
     "locked": true,
     "points": 1,
     "schema_version": 3,
     "solution": false
    }
   },
   "outputs": [],
   "source": [
    "# THIS IS A TEST CELL!\n",
    "### BEGIN HIDDEN TESTS\n",
    "assert remove_duplicates([1,2,3,4]) == [1,2,3,4]\n",
    "assert remove_duplicates([3,3,3]) == [3]\n",
    "### END HIDDEN TESTS"
   ]
  },
  {
   "cell_type": "markdown",
   "metadata": {
    "nbgrader": {
     "grade": false,
     "grade_id": "cell-19a1e19f5399d52e",
     "locked": true,
     "schema_version": 3,
     "solution": false
    }
   },
   "source": [
    "## Question 3\n",
    "\n",
    "Write a function **is_subarray** that takes two sequences **seq_a** and **seq_b** as arguments and returns **True** if every element in seq_a is also an element of seq_b, else False. By “sequence” we mean a list, a tuple or a string. (Source: quantecon.org, Python Essentials, Exercise 4)\n",
    "\n",
    "NB: An array can also contain only one element; the function should allow for this case as well!"
   ]
  },
  {
   "cell_type": "markdown",
   "metadata": {
    "nbgrader": {
     "grade": false,
     "grade_id": "cell-b1d58307dfd3e209",
     "locked": true,
     "schema_version": 3,
     "solution": false
    }
   },
   "source": [
    "#### Answer"
   ]
  },
  {
   "cell_type": "code",
   "execution_count": 37,
   "metadata": {
    "nbgrader": {
     "grade": false,
     "grade_id": "cell-945b627e5f995128",
     "locked": false,
     "schema_version": 3,
     "solution": true
    }
   },
   "outputs": [],
   "source": [
    "def is_subarray(seq_a, seq_b):\n",
    "    '''\n",
    "    Checks if every element in seq_a is also an element of seq_b\n",
    "    '''\n",
    "### BEGIN SOLUTION    \n",
    "    return set(seq_a).issubset(set(seq_b))\n",
    "\n",
    "# ## alternative: this would not work for arrays with one element!   \n",
    "def is_subarray(seq_a, seq_b):    \n",
    "    ## loop through the first array\n",
    "    for a in seq_a:\n",
    "        ## check if the element is in the second array -> if not, the function must return False\n",
    "        if a not in seq_b:\n",
    "            return False\n",
    "    return True\n",
    "\n",
    "### END SOLUTION"
   ]
  },
  {
   "cell_type": "code",
   "execution_count": 38,
   "metadata": {
    "nbgrader": {
     "grade": true,
     "grade_id": "cell-fe9fc055d8f4b5c0",
     "locked": true,
     "points": 1,
     "schema_version": 3,
     "solution": false
    }
   },
   "outputs": [],
   "source": [
    "assert is_subarray( [1,2,3], [1,2,3,4,5] ) == True\n",
    "assert is_subarray( (1,2,3), (1,3,5,7,9) ) == False"
   ]
  },
  {
   "cell_type": "code",
   "execution_count": 39,
   "metadata": {
    "nbgrader": {
     "grade": true,
     "grade_id": "cell-b807a05bd5c95ce2",
     "locked": true,
     "points": 1,
     "schema_version": 3,
     "solution": false
    }
   },
   "outputs": [],
   "source": [
    "# THIS IS A TEST CELL!\n",
    "### BEGIN HIDDEN TESTS\n",
    "assert is_subarray( (1,3), (1,3,5,7,9) ) == True\n",
    "assert is_subarray( [1], [3,4,5] ) == False\n",
    "assert is_subarray( [7,8,9,10], [3,4,5] ) == False\n",
    "### END HIDDEN TESTS"
   ]
  },
  {
   "cell_type": "markdown",
   "metadata": {
    "nbgrader": {
     "grade": false,
     "grade_id": "cell-a0132cb8c3ffa4eb",
     "locked": true,
     "schema_version": 3,
     "solution": false
    }
   },
   "source": [
    "## Question 4\n",
    "\n",
    "Consider the polynomial\n",
    "\n",
    "\\begin{equation}\n",
    "p(x)\n",
    "= a_0 + a_1 x + a_2 x^2 + \\cdots a_n x^n\n",
    "= \\sum_{i=0}^n a_i x^i\n",
    "\\end{equation}\n",
    "\n",
    "Write a function **poly** such that **p(x, coeff)** that computes the value above given a point **x** and a list of coefficients **coeff**. Try to use **enumerate()** in your loop. (Source: quantecon.org, Python Essentials, Exercise 2)"
   ]
  },
  {
   "cell_type": "markdown",
   "metadata": {
    "nbgrader": {
     "grade": false,
     "grade_id": "cell-199c8513455640ae",
     "locked": true,
     "schema_version": 3,
     "solution": false
    }
   },
   "source": [
    "#### Answer"
   ]
  },
  {
   "cell_type": "code",
   "execution_count": 11,
   "metadata": {
    "nbgrader": {
     "grade": false,
     "grade_id": "cell-5831ab1b60811694",
     "locked": false,
     "schema_version": 3,
     "solution": true
    }
   },
   "outputs": [],
   "source": [
    "def poly(x, coeff):\n",
    "    '''\n",
    "    Computes a polynomial at a point x with a list of coefficients coeff\n",
    "    '''\n",
    "### BEGIN SOLUTION    \n",
    "    return sum([c * x**i for i,c in enumerate(coeff)])\n",
    "### END SOLUTION"
   ]
  },
  {
   "cell_type": "code",
   "execution_count": 12,
   "metadata": {
    "nbgrader": {
     "grade": true,
     "grade_id": "cell-c2d75a870ad7ae9e",
     "locked": true,
     "points": 1,
     "schema_version": 3,
     "solution": false
    }
   },
   "outputs": [],
   "source": [
    "assert poly(1, [2,2,1]) == 5\n",
    "assert poly(4, [2,2,1]) == 26"
   ]
  },
  {
   "cell_type": "code",
   "execution_count": 13,
   "metadata": {
    "nbgrader": {
     "grade": true,
     "grade_id": "cell-83efb8ef37654af3",
     "locked": true,
     "points": 1,
     "schema_version": 3,
     "solution": false
    }
   },
   "outputs": [],
   "source": [
    "# THIS IS A TEST CELL!\n",
    "### BEGIN HIDDEN TESTS\n",
    "assert poly(3, [3,3,3]) == 39\n",
    "assert poly(4, [1,1,1,1]) == 85\n",
    "### END HIDDEN TESTS"
   ]
  },
  {
   "cell_type": "markdown",
   "metadata": {
    "nbgrader": {
     "grade": false,
     "grade_id": "cell-52a7d97cecf28661",
     "locked": true,
     "schema_version": 3,
     "solution": false
    }
   },
   "source": [
    "## Question 5\n",
    "\n",
    "(a) Write a function **get_divisors** that takes two arguments, an integer **num** and a list **lst** of integers, and return all elements of **lst** that are divisors of **num**, i.e. if you divide **num** by a divisor, there is no remainder.\n",
    "\n",
    "(b) Include some test cases in the function's docstring and use the doctest module to check if the tests clear.\n",
    "\n",
    "(Source: Coursera, Learn to Program: Crafting Quality Code, Week 2)"
   ]
  },
  {
   "cell_type": "markdown",
   "metadata": {
    "nbgrader": {
     "grade": false,
     "grade_id": "cell-d0f0c67746682615",
     "locked": true,
     "schema_version": 3,
     "solution": false
    }
   },
   "source": [
    "#### Answer"
   ]
  },
  {
   "cell_type": "code",
   "execution_count": 14,
   "metadata": {
    "nbgrader": {
     "grade": false,
     "grade_id": "cell-64dbf36f4075f8c2",
     "locked": false,
     "schema_version": 3,
     "solution": true
    }
   },
   "outputs": [],
   "source": [
    "## Part (a)\n",
    "### BEGIN SOLUTION\n",
    "def get_divisors(num, possible_divisors):\n",
    "    ''' (int, list of int) -> list of int\n",
    "\n",
    "    Return a list of the values from possible_divisors\n",
    "    that are divisors of num.\n",
    "\n",
    "    >>> get_divisors(8, [1, 2, 3])\n",
    "    [1, 2]\n",
    "    >>> get_divisors(4, [-2, 0, 2])\n",
    "    [-2, 2]\n",
    "    '''\n",
    "\n",
    "    divisors = []\n",
    "    for item in possible_divisors:\n",
    "        ## note that 0 can be in possible_divisors -> we can make use of the lazy evaluation of the AND statement \n",
    "        if item != 0 and num % item == 0:\n",
    "            divisors.append(item)\n",
    "\n",
    "    return divisors\n",
    "### END SOLUTION"
   ]
  },
  {
   "cell_type": "code",
   "execution_count": 15,
   "metadata": {
    "nbgrader": {
     "grade": true,
     "grade_id": "cell-a56f24b0ad5bc823",
     "locked": true,
     "points": 1,
     "schema_version": 3,
     "solution": false
    }
   },
   "outputs": [],
   "source": [
    "assert get_divisors(8, [1, 2, 3]) == [1, 2]"
   ]
  },
  {
   "cell_type": "code",
   "execution_count": 16,
   "metadata": {
    "nbgrader": {
     "grade": true,
     "grade_id": "cell-73d13c0a8eda7045",
     "locked": true,
     "points": 2,
     "schema_version": 3,
     "solution": false
    }
   },
   "outputs": [],
   "source": [
    "# THIS IS A TEST CELL!\n",
    "### BEGIN HIDDEN TESTS\n",
    "assert get_divisors(4, [-2, 0, 2]) == [-2, 2]\n",
    "assert get_divisors(4, [0, 3, 5]) == []\n",
    "### END HIDDEN TESTS"
   ]
  },
  {
   "cell_type": "code",
   "execution_count": 17,
   "metadata": {
    "nbgrader": {
     "grade": false,
     "grade_id": "cell-54d3dbc71e2dbc78",
     "locked": false,
     "schema_version": 3,
     "solution": true
    }
   },
   "outputs": [
    {
     "data": {
      "text/plain": [
       "TestResults(failed=0, attempted=2)"
      ]
     },
     "execution_count": 17,
     "metadata": {},
     "output_type": "execute_result"
    }
   ],
   "source": [
    "## Part (b)\n",
    "### BEGIN SOLUTION\n",
    "import doctest\n",
    "doctest.testmod()\n",
    "### END SOLUTION"
   ]
  },
  {
   "cell_type": "markdown",
   "metadata": {},
   "source": [
    "## Question 6\n",
    "\n",
    "In this question, we are going to work with the **math** module that allows you to use some basic mathematical operatios like taking the logarithm or the square root. Note that we won't use the **math** module often later on, since all of its functions are also included in the **numpy** package, which we will get to know in a later session.\n",
    "\n",
    "(a) Import the math module.\n",
    "\n",
    "(b) Write a function **pythagoras** that take two numbers (ints or floats) representing the lengths of two smaller sides of a right triangle and returns the length of the hypotenuse, according to the Pythagorean theorem. Hint: Use the **sqrt** function of the **math** module.\n",
    "\n",
    "(c) You may recall that the *sine* of $x \\pi$ is zero, for all integers $x$. Suppose you have forgotten what values  the *cosine* of $x \\pi$ takes. Write a function **eval_sin** that loops over a list of integers and returns the *absolute values* of the difference between $\\sin(x \\pi)$ and $\\cos(x \\pi)$ as list.\n",
    "\n",
    "(d) Recall that from a first-order Taylor approximation, \n",
    "\\begin{equation}\n",
    "\\log(1 + x) \\approx \\log(1) + (x - 1) * \\frac{1}{1} = x\n",
    "\\end{equation}\n",
    "This approximation is closer to the true value the smaller $x$ is. Suppose you would like to know the first value for $x > 0$, for which the approximation error is greater than $tol$, i.e.\n",
    "\\begin{equation}\n",
    "\\left|\\frac{\\log(1 + x) - x}{x}\\right| > tol.\n",
    "\\end{equation}\n",
    "Write a function **find_threshold** that takes an error level **tol** as an argument and returns the corresponding threshold level. Use a **while** loop that starts at $x = 0.001 = \\text{1e-3}$ and increases $x$ by $\\text{1e-3}$ in every iteration of the loop.\n"
   ]
  },
  {
   "cell_type": "markdown",
   "metadata": {
    "nbgrader": {
     "grade": false,
     "grade_id": "cell-32c89685151fd99b",
     "locked": true,
     "schema_version": 3,
     "solution": false
    }
   },
   "source": [
    "#### Answer"
   ]
  },
  {
   "cell_type": "code",
   "execution_count": 18,
   "metadata": {
    "nbgrader": {
     "grade": false,
     "grade_id": "cell-ab3210ff0074387c",
     "locked": false,
     "schema_version": 3,
     "solution": true
    }
   },
   "outputs": [],
   "source": [
    "### BEGIN SOLUTION\n",
    "\n",
    "## question (a)\n",
    "import math\n",
    "\n",
    "## question (b)\n",
    "def pythagoras(a, b):\n",
    "    '''\n",
    "    Implements the Pythagorean theorem\n",
    "    '''\n",
    "    return math.sqrt(a**2 + b**2)\n",
    "\n",
    "\n",
    "## question (c)\n",
    "def eval_cos(num_lst):\n",
    "    '''\n",
    "    Evaluates the sine and cosine functions\n",
    "    '''\n",
    "    lst = []\n",
    "    for num in num_lst:\n",
    "        lst.append(abs(math.sin(num * math.pi) - math.cos(num * math.pi)) )\n",
    "    return lst\n",
    "\n",
    "## question (d)\n",
    "def find_threshold(tol):\n",
    "    '''\n",
    "    Finds a value x for which the Taylor approximation to log(1 + x) gives an error greater than tol\n",
    "    '''\n",
    "    ## initialize x and diff\n",
    "    x = 1e-3\n",
    "    diff = 0\n",
    "    ## while loop\n",
    "    while diff < tol:\n",
    "        x += 1e-3\n",
    "        diff = abs( math.log(1 + x)/x - 1 )\n",
    "        \n",
    "    return x   \n",
    "\n",
    "## END SOLUTION"
   ]
  },
  {
   "cell_type": "code",
   "execution_count": 19,
   "metadata": {
    "nbgrader": {
     "grade": true,
     "grade_id": "cell-78313d9b2c6fa7bd",
     "locked": true,
     "points": 2,
     "schema_version": 3,
     "solution": false
    }
   },
   "outputs": [],
   "source": [
    "import numpy as np\n",
    "\n",
    "assert pythagoras(4,5) == math.sqrt(41)\n",
    "assert max(np.array(eval_cos([4, 5])) - np.array([1., 1.])) < 1e-6\n",
    "assert abs(find_threshold(0.01) - 0.021) < 1e-6"
   ]
  },
  {
   "cell_type": "code",
   "execution_count": 20,
   "metadata": {
    "nbgrader": {
     "grade": true,
     "grade_id": "cell-fa560cd6fcf096b1",
     "locked": true,
     "points": 2,
     "schema_version": 3,
     "solution": false
    }
   },
   "outputs": [],
   "source": [
    "# THIS IS A TEST CELL!\n",
    "### BEGIN HIDDEN TESTS\n",
    "assert max(np.array(eval_cos(list(range(-10, 10)))) - np.array(20 * [1.])) < 1e-6\n",
    "assert abs(find_threshold(0.5) - 2.513) < 1e-6\n",
    "### END HIDDEN TESTS"
   ]
  },
  {
   "cell_type": "markdown",
   "metadata": {
    "nbgrader": {
     "grade": false,
     "grade_id": "cell-c6cc5015854348c4",
     "locked": true,
     "schema_version": 3,
     "solution": false
    }
   },
   "source": [
    "## Question 7\n",
    "\n",
    "Suppose you're a teacher and use Python dictionaries to keep track of your students' grades. Each student corresponds to a dictionary with the following key-value pairs:\n",
    "- \"name\": the student's name (a string)\n",
    "- \"homework\": a list of arbitrary length, containing the homework grades (floats)\n",
    "- \"quizzes\": a list of arbitrary length, containing the grades from quizzes (floats)\n",
    "- \"tests\": a list of arbitrary length, containing the grades from tests (floats)\n",
    "\n",
    "\n",
    "(a) The student Alice has the following grades:\n",
    "- homework: 100.0, 92.0, 98.0, 100.0\n",
    "- quizzes: 82.0, 83.0, 91.0\n",
    "- tests: 89.0, 97.0\n",
    "\n",
    "Write a dictionary (as defined above) named **alice** that keeps track of these grades.\n",
    "\n",
    "(b) Write a function **average** that takes a list of numbers and return the average. Use it to compute Alice's average grade for homework.\n",
    "\n",
    "(c) Write a function **student_average** that computes the overall average grade for a student across all exam types. It takes a student dictionary (as defined above) and a two-item tuple **weights**$ = (w_1, w_2)$ that contains the weights for homework and quizzes. The total average is given by:\n",
    "\\begin{equation}\n",
    "    \\text{Average}_{\\text{total}} = w_1 \\cdot \\text{Average}_{\\text{HW}} + w_2 \\cdot \\text{Average}_{\\text{QU}} + (1 - w_1 - w_2) \\cdot \\text{Average}_{\\text{TE}} \n",
    "\\end{equation}\n",
    "Compute Alice's overal average for weights $(0.2, 0.3)$.\n",
    "\n",
    "(d) Write a function **class_average** that a lists of student dictionaries and the weights tuple and computes the grade average over all students. Let there be two more students with the following grades:\n",
    "\n",
    "Michael:\n",
    "- homework: 90.0, 97.0, 75.0, 92.0\n",
    "- quizzes: 88.0, 40.0, 94.0\n",
    "- tests: 75.0, 90.0\n",
    "\n",
    "Tyler:\n",
    "- homework: 0.0, 87.0, 75.0, 22.0\n",
    "- quizzes: 0.0, 75.0, 78.0\n",
    "- tests: 100.0, 100.0\n",
    "\n",
    "Add them as dictionaries named **michael** and **tyler**. Compute the class average for the three students.\n",
    "\n",
    "(e) Suppose that in the last exam of the year, Alice scored 85.0, Michael 88.0 and Tyler 97.0. Update the corresponding dictionaries. How does the class average change?\n"
   ]
  },
  {
   "cell_type": "markdown",
   "metadata": {
    "nbgrader": {
     "grade": false,
     "grade_id": "cell-c6772d8b7bafb7a4",
     "locked": true,
     "schema_version": 3,
     "solution": false
    }
   },
   "source": [
    "#### Answer"
   ]
  },
  {
   "cell_type": "code",
   "execution_count": 21,
   "metadata": {
    "nbgrader": {
     "grade": false,
     "grade_id": "cell-725bffc1bc5c35af",
     "locked": false,
     "schema_version": 3,
     "solution": true
    }
   },
   "outputs": [],
   "source": [
    "## Question (a)\n",
    "\n",
    "### BEGIN SOLUTION\n",
    "alice = {\n",
    "    \"name\": \"Alice\",\n",
    "    \"homework\": [100.0, 92.0, 98.0, 100.0],\n",
    "    \"quizzes\": [82.0, 83.0, 91.0],\n",
    "    \"tests\": [89.0, 97.0]\n",
    "}\n",
    "### END SOLUTION"
   ]
  },
  {
   "cell_type": "code",
   "execution_count": 22,
   "metadata": {
    "nbgrader": {
     "grade": true,
     "grade_id": "cell-6b756a08335ea3f4",
     "locked": true,
     "points": 1,
     "schema_version": 3,
     "solution": false
    }
   },
   "outputs": [],
   "source": [
    "# THIS IS A TEST CELL!\n",
    "### BEGIN HIDDEN TESTS\n",
    "assert alice == {'name': 'Alice','homework': [100.0, 92.0, 98.0, 100.0], 'quizzes': [82.0, 83.0, 91.0], \\\n",
    "                 'tests': [89.0, 97.0]}\n",
    "### END HIDDEN TESTS"
   ]
  },
  {
   "cell_type": "code",
   "execution_count": 23,
   "metadata": {
    "nbgrader": {
     "grade": false,
     "grade_id": "cell-91781edd625b3faa",
     "locked": false,
     "schema_version": 3,
     "solution": true
    }
   },
   "outputs": [],
   "source": [
    "## Question (b)\n",
    "\n",
    "### BEGIN SOLUTION\n",
    "def average(lst):\n",
    "    '''\n",
    "    Computes the average of the elements in a list\n",
    "    '''\n",
    "    ave = sum(lst)/len(lst)\n",
    "#     ## alternative:    \n",
    "#     summ = 0\n",
    "#     for i in lst[0:len(lst)]:\n",
    "#         summ += i\n",
    "#     ave = summ/len(lst)\n",
    "\n",
    "    return ave \n",
    "### END SOLUTION"
   ]
  },
  {
   "cell_type": "code",
   "execution_count": 24,
   "metadata": {
    "nbgrader": {
     "grade": true,
     "grade_id": "cell-7ce6c1f0ba6ab233",
     "locked": true,
     "points": 1,
     "schema_version": 3,
     "solution": false
    }
   },
   "outputs": [],
   "source": [
    "# THIS IS A TEST CELL!\n",
    "### BEGIN HIDDEN TESTS\n",
    "assert average([100.0, 92.0, 98.0, 100.0]) == 97.5\n",
    "assert average([0, 0, 0, 0]) == 0\n",
    "### END HIDDEN TESTS"
   ]
  },
  {
   "cell_type": "code",
   "execution_count": 25,
   "metadata": {
    "nbgrader": {
     "grade": false,
     "grade_id": "cell-becc453cb3299bed",
     "locked": false,
     "schema_version": 3,
     "solution": true
    }
   },
   "outputs": [],
   "source": [
    "## Question (c)\n",
    "\n",
    "### BEGIN SOLUTION\n",
    "def student_average(student, weights):\n",
    "    '''\n",
    "    Computes the overall average grade for a student across all exam types for given weights\n",
    "    '''\n",
    "    total = weights[0] * average(student[\"homework\"]) + weights[1] * average(student[\"quizzes\"]) + \\\n",
    "        (1 - weights[0] - weights[1]) * average(student[\"tests\"])\n",
    "    return total\n",
    "### END SOLUTION"
   ]
  },
  {
   "cell_type": "code",
   "execution_count": 26,
   "metadata": {
    "nbgrader": {
     "grade": true,
     "grade_id": "cell-ee31ad4e5ab75d8a",
     "locked": true,
     "points": 1,
     "schema_version": 3,
     "solution": false
    }
   },
   "outputs": [],
   "source": [
    "# THIS IS A TEST CELL!\n",
    "### BEGIN HIDDEN TESTS\n",
    "assert student_average({'name': 'Alice','homework': [100.0, 92.0, 98.0, 100.0], 'quizzes': [82.0, 83.0, 91.0], \\\n",
    "                 'tests': [89.0, 97.0]}, (0.2, 0.3)) == 91.6\n",
    "### END HIDDEN TESTS"
   ]
  },
  {
   "cell_type": "code",
   "execution_count": 27,
   "metadata": {
    "nbgrader": {
     "grade": false,
     "grade_id": "cell-a5131b8330101a28",
     "locked": false,
     "schema_version": 3,
     "solution": true
    }
   },
   "outputs": [],
   "source": [
    "## Question (d)\n",
    "### BEGIN SOLUTION\n",
    "michael = {\n",
    "    \"name\": \"Michael\",\n",
    "    \"homework\": [90.0, 97.0, 75.0, 92.0],\n",
    "    \"quizzes\": [88.0, 40.0, 94.0],\n",
    "    \"tests\": [75.0, 90.0]\n",
    "}\n",
    "tyler = {\n",
    "    \"name\": \"Tyler\",\n",
    "    \"homework\": [0.0, 87.0, 75.0, 22.0],\n",
    "    \"quizzes\": [0.0, 75.0, 78.0],\n",
    "    \"tests\": [100.0, 100.0]\n",
    "}\n",
    "\n",
    "def class_average(students, weights):\n",
    "    total = 0\n",
    "    for student in students:\n",
    "        total += student_average(student, weights)\n",
    "    return total/len(students)\n",
    "### END SOLUTION"
   ]
  },
  {
   "cell_type": "code",
   "execution_count": 28,
   "metadata": {
    "nbgrader": {
     "grade": true,
     "grade_id": "cell-2d56b790a0e530fa",
     "locked": true,
     "points": 2,
     "schema_version": 3,
     "solution": false
    }
   },
   "outputs": [],
   "source": [
    "# THIS IS A TEST CELL!\n",
    "### BEGIN HIDDEN TESTS\n",
    "assert michael == {'name': 'Michael','homework': [90.0, 97.0, 75.0, 92.0],'quizzes': [88.0, 40.0, 94.0], \\\n",
    "                   'tests': [75.0, 90.0]}\n",
    "assert student_average(tyler, (0.2, 0.3)) == 74.5\n",
    "assert abs(class_average([alice, michael, tyler], (0.2, 0.3)) - 82.41666667) < 1e-6\n",
    "### END HIDDEN TESTS"
   ]
  },
  {
   "cell_type": "code",
   "execution_count": 29,
   "metadata": {
    "nbgrader": {
     "grade": false,
     "grade_id": "cell-117a412151a8f129",
     "locked": false,
     "schema_version": 3,
     "solution": true
    }
   },
   "outputs": [],
   "source": [
    "## Question (e)\n",
    "### BEGIN SOLUTION\n",
    "alice['tests'].append(85.0)\n",
    "michael['tests'].append(88.0)\n",
    "tyler['tests'].append(97.0)\n",
    "### END SOLUTION"
   ]
  },
  {
   "cell_type": "code",
   "execution_count": 30,
   "metadata": {
    "nbgrader": {
     "grade": true,
     "grade_id": "cell-6a78e679bf4c3c1a",
     "locked": true,
     "points": 2,
     "schema_version": 3,
     "solution": false
    }
   },
   "outputs": [],
   "source": [
    "# THIS IS A TEST CELL!\n",
    "### BEGIN HIDDEN TESTS\n",
    "assert alice == {'name': 'Alice','homework': [100.0, 92.0, 98.0, 100.0], 'quizzes': [82.0, 83.0, 91.0], \\\n",
    "                 'tests': [89.0, 97.0, 85.0]}\n",
    "assert abs(class_average([alice, michael, tyler], (0.2, 0.3)) - 82.1111111111) < 1e-6\n",
    "### END HIDDEN TESTS"
   ]
  },
  {
   "cell_type": "markdown",
   "metadata": {
    "collapsed": true,
    "nbgrader": {
     "grade": false,
     "grade_id": "cell-0df50be94a5548c1",
     "locked": true,
     "schema_version": 3,
     "solution": false
    }
   },
   "source": [
    "## Question 8\n",
    "\n",
    "Write a function that implements the following random device:\n",
    "- Flip an unbiased coin **n** times\n",
    "- If 3 consecutive heads occur one or more times within this sequence, pay one dollar\n",
    "- If not, pay nothing\n",
    "\n",
    "The function should take **n** as an input; the output is a tuple where\n",
    "- the first element is a string saying either **'Pay one dollar.'** or **'Pay nothing.'**, depending on the outcome of the flips\n",
    "- the second element is a list with **n** elements, that are either 1 (if the corresponding flip was head) or 0 (if it was tails). \n",
    "\n",
    "Use no import besides the **uniform** function from the **random** module. \n",
    "\n",
    "Hint: A \"coin flip\" is just a draw from a uniform distribution. The event we are interested in occurs with a probability of 50%, hence we can interpret any draw of less than 0.5 as \"heads\".  "
   ]
  },
  {
   "cell_type": "code",
   "execution_count": 31,
   "metadata": {
    "nbgrader": {
     "grade": false,
     "grade_id": "cell-8dfcb663ef0be512",
     "locked": true,
     "schema_version": 3,
     "solution": false
    }
   },
   "outputs": [],
   "source": [
    "import random"
   ]
  },
  {
   "cell_type": "markdown",
   "metadata": {
    "nbgrader": {
     "grade": false,
     "grade_id": "cell-6ebd56a8890c21c8",
     "locked": true,
     "schema_version": 3,
     "solution": false
    }
   },
   "source": [
    "#### Answer"
   ]
  },
  {
   "cell_type": "code",
   "execution_count": 32,
   "metadata": {
    "nbgrader": {
     "grade": false,
     "grade_id": "cell-11779f0f507f7143",
     "locked": false,
     "schema_version": 3,
     "solution": true
    }
   },
   "outputs": [],
   "source": [
    "### BEGIN SOLUTION\n",
    "\n",
    "def flip(n):\n",
    "    '''\n",
    "    Draws n times from a uniform distribution and reports 1 when \"head\", i.e. when draw < 0.5\n",
    "    '''\n",
    "    lst = []\n",
    "    count = 0\n",
    "    for i in range(n):\n",
    "        if random.uniform(0,1) < 0.5:\n",
    "            lst.append(1)\n",
    "            count = count + 1 \n",
    "        else:\n",
    "            lst.append(0)\n",
    "            ## reset count only if it hasn't reached 3 yet\n",
    "            if count < 3:\n",
    "                count = 0\n",
    "\n",
    "    ## check if count >= 3    \n",
    "    if count >= 3:\n",
    "        result = 'Pay one dollar.'\n",
    "    else:\n",
    "        result = 'Pay nothing.'\n",
    "            \n",
    "    return (result, lst)\n",
    "\n",
    "# ## alternative: faster solution without reporting list of draws\n",
    "# def flip(n):\n",
    "#     count = 0\n",
    "    \n",
    "#     for i in range(n):\n",
    "#         ## random draw between 0 and 1\n",
    "#         U = random.uniform(0, 1)\n",
    "#         if U < 0.5:\n",
    "#             count = count + 1  \n",
    "#         ## reset count\n",
    "#         else:\n",
    "#             count = 0\n",
    "        \n",
    "#         ## check if count == 3 and stop loop\n",
    "#         if count == 3:\n",
    "#             result = 'Pay one dollar.'\n",
    "#             break\n",
    "#     if count < 3:\n",
    "#         result = 'Pay nothing.'\n",
    "    \n",
    "#     return result  \n",
    "\n",
    "\n",
    "\n",
    "### END SOLUTION"
   ]
  },
  {
   "cell_type": "code",
   "execution_count": 33,
   "metadata": {
    "nbgrader": {
     "grade": true,
     "grade_id": "cell-cf3ee7a5f3a48020",
     "locked": true,
     "points": 3,
     "schema_version": 3,
     "solution": false
    }
   },
   "outputs": [],
   "source": [
    "# THIS IS A TEST CELL!\n",
    "### BEGIN HIDDEN TESTS\n",
    "A = flip(10)\n",
    "assert A[0] == 'Pay one dollar.' or A[0] == 'Pay nothing.'\n",
    "assert len(flip(20)[1]) == 20\n",
    "assert 0 in set(flip(10)[1])\n",
    "### END HIDDEN TESTS"
   ]
  },
  {
   "cell_type": "code",
   "execution_count": null,
   "metadata": {},
   "outputs": [],
   "source": []
  }
 ],
 "metadata": {
  "anaconda-cloud": {},
  "celltoolbar": "Create Assignment",
  "kernelspec": {
   "display_name": "Python 3",
   "language": "python",
   "name": "python3"
  },
  "language_info": {
   "codemirror_mode": {
    "name": "ipython",
    "version": 3
   },
   "file_extension": ".py",
   "mimetype": "text/x-python",
   "name": "python",
   "nbconvert_exporter": "python",
   "pygments_lexer": "ipython3",
   "version": "3.7.5"
  }
 },
 "nbformat": 4,
 "nbformat_minor": 1
}
