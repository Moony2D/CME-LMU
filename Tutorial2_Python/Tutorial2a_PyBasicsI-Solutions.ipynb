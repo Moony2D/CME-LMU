{
 "cells": [
  {
   "cell_type": "markdown",
   "metadata": {},
   "source": [
    "# Computational Methods in Economics\n",
    "\n",
    "## Tutorial 2a - Python Basics I - Solution to Classroom Exercises"
   ]
  },
  {
   "cell_type": "code",
   "execution_count": 1,
   "metadata": {},
   "outputs": [
    {
     "name": "stdout",
     "output_type": "stream",
     "text": [
      "Last update: 2019-10-20 14:50:43.933584\n"
     ]
    }
   ],
   "source": [
    "# Author: Alex Schmitt (schmitt@ifo.de)\n",
    "\n",
    "import datetime\n",
    "print('Last update: ' + str(datetime.datetime.today()))"
   ]
  },
  {
   "cell_type": "markdown",
   "metadata": {},
   "source": [
    "### Exercise 1\n",
    "\n",
    "Write a program which prompts the user for a Celsius temperature using the **input()** function. Convert the temperature to Fahrenheit and print out the converted temperature.\n",
    "\n",
    "Hint: \n",
    "\\begin{equation}\n",
    "    T_{F} = 1.8 \\cdot T_C + 32 \n",
    "\\end{equation}\n"
   ]
  },
  {
   "cell_type": "code",
   "execution_count": 2,
   "metadata": {},
   "outputs": [
    {
     "name": "stdout",
     "output_type": "stream",
     "text": [
      "Enter Temperature in degree Celsius:29\n",
      "29 degree Celsius corresponds to 84.2 degree Fahrenheit.\n"
     ]
    }
   ],
   "source": [
    "T_C = input(\"Enter Temperature in degree Celsius:\")\n",
    "T_F = 1.8 * float(T_C) + 32\n",
    "print(\"{} degree Celsius corresponds to {} degree Fahrenheit.\".format(T_C, T_F))"
   ]
  },
  {
   "cell_type": "markdown",
   "metadata": {
    "slideshow": {
     "slide_type": "slide"
    }
   },
   "source": [
    "### Exercise 2\n",
    "\n",
    "Suppose you want to use Python to keep track of the points of the clubs in the German football Bundesliga. For example, you have the following information:\n",
    "    - FC Bayern: 14 points\n",
    "    - FC Schalke: 14 points\n",
    "    - Borussia Dortmund: 12 points\n",
    "    \n",
    "(a) Based on what we have learned so far, use Python arrays to store this information, using one array for clubs and one array for points. Think about which array types may be suitable (and which are not).\n",
    "\n",
    "(b) Add information for at least one other club to your arrays.\n",
    "\n",
    "(c) Update the information in the points array to the most recent game day. \n",
    "\n",
    "(d) Use the arrays to write to the screen how many points a given club has."
   ]
  },
  {
   "cell_type": "markdown",
   "metadata": {},
   "source": [
    "#### Answer\n",
    "\n",
    "I use two arrays, **Clubs** and **Points**. For points, since you may want to update its values, it makes sense to use a *list*. For the club names, since they don't change, one could use a *tuple*. However, if you want to add new entries (see question (b)), a tuple would not work, hence I also use a list. "
   ]
  },
  {
   "cell_type": "code",
   "execution_count": 3,
   "metadata": {},
   "outputs": [
    {
     "name": "stdout",
     "output_type": "stream",
     "text": [
      "FC Bayern currently has 14 points.\n"
     ]
    }
   ],
   "source": [
    "Clubs = [\"FC Bayern\", \"FC Schalke\", \"Borussia Dortmund\", ]\n",
    "Points = [14, 14, 12]\n",
    "\n",
    "## (b)\n",
    "Clubs.append(\"FC Augsburg\")\n",
    "Points.append(5)\n",
    "\n",
    "## (c) Note: the quickest way would be to just define a new array. For practice, let's update the elements individually\n",
    "# Points[0]= \n",
    "# Points[1]=\n",
    "# Points[2]=\n",
    "# Points[3]=\n",
    "\n",
    "## (d)\n",
    "print(\"{} currently has {} points.\".format(Clubs[0], Points[0]))\n"
   ]
  },
  {
   "cell_type": "markdown",
   "metadata": {},
   "source": [
    "### Exercise 3\n",
    "\n",
    "Using **range**, write a comprehension whose value is a dictionary. The keys should be the integers from 0 to 99 and the value corresponding to a key should be the square of the key."
   ]
  },
  {
   "cell_type": "code",
   "execution_count": 25,
   "metadata": {},
   "outputs": [
    {
     "name": "stdout",
     "output_type": "stream",
     "text": [
      "{0: 0, 1: 1, 2: 4, 3: 9, 4: 16, 5: 25, 6: 36, 7: 49, 8: 64, 9: 81, 10: 100, 11: 121, 12: 144, 13: 169, 14: 196, 15: 225, 16: 256, 17: 289, 18: 324, 19: 361, 20: 400, 21: 441, 22: 484, 23: 529, 24: 576, 25: 625, 26: 676, 27: 729, 28: 784, 29: 841, 30: 900, 31: 961, 32: 1024, 33: 1089, 34: 1156, 35: 1225, 36: 1296, 37: 1369, 38: 1444, 39: 1521, 40: 1600, 41: 1681, 42: 1764, 43: 1849, 44: 1936, 45: 2025, 46: 2116, 47: 2209, 48: 2304, 49: 2401, 50: 2500, 51: 2601, 52: 2704, 53: 2809, 54: 2916, 55: 3025, 56: 3136, 57: 3249, 58: 3364, 59: 3481, 60: 3600, 61: 3721, 62: 3844, 63: 3969, 64: 4096, 65: 4225, 66: 4356, 67: 4489, 68: 4624, 69: 4761, 70: 4900, 71: 5041, 72: 5184, 73: 5329, 74: 5476, 75: 5625, 76: 5776, 77: 5929, 78: 6084, 79: 6241, 80: 6400, 81: 6561, 82: 6724, 83: 6889, 84: 7056, 85: 7225, 86: 7396, 87: 7569, 88: 7744, 89: 7921, 90: 8100, 91: 8281, 92: 8464, 93: 8649, 94: 8836, 95: 9025, 96: 9216, 97: 9409, 98: 9604}\n"
     ]
    }
   ],
   "source": [
    "D = {num : num**2 for num in range(99)}\n",
    "print(D)"
   ]
  },
  {
   "cell_type": "markdown",
   "metadata": {
    "slideshow": {
     "slide_type": "slide"
    }
   },
   "source": [
    "### Exercise 4\n",
    "\n",
    "(a) From exercise 2 above you have information on Bundesliga clubs and their points. Turn the arrays defined above into *sets*. Why will the resulting arrays be of different length?\n",
    "\n",
    "(b) Put the information from question 2 in a dictionary.\n",
    "\n",
    "**HINT**: With the **zip()** function, you can use the arrays defined in exercise 2 to easily construct the dictionary.\n",
    "\n",
    "(c) Add information for at least one other club to your dictionary.\n",
    "\n",
    "(d) Use the dictionary to write to the screen how many points a given club has."
   ]
  },
  {
   "cell_type": "markdown",
   "metadata": {},
   "source": [
    "#### Answer\n",
    "\n",
    "When using the **set()** function on a list, duplicate elements will be counted only once, hence the set with points will have one element less than the set with clubs. "
   ]
  },
  {
   "cell_type": "code",
   "execution_count": 4,
   "metadata": {},
   "outputs": [
    {
     "name": "stdout",
     "output_type": "stream",
     "text": [
      "{'FC Schalke', 'Borussia Dortmund', 'FC Augsburg', 'FC Bayern'}\n",
      "{12, 5, 14}\n",
      "FC Bayern currently has 14 points.\n"
     ]
    }
   ],
   "source": [
    "## (a)\n",
    "Clubs_set = set(Clubs)\n",
    "Points_set = set(Points)\n",
    "print(Clubs_set)\n",
    "print(Points_set)\n",
    "\n",
    "## (b)\n",
    "## long way\n",
    "# D = {\"Borussia Dortmund\": 12, \"FC Bayern\": 14, \"FC Schalke\": 614}\n",
    "\n",
    "## quick way: use arrays defined before\n",
    "D = dict(zip(Clubs, Points))\n",
    "\n",
    "## (c)\n",
    "D[\"Herta BSC\"] = 15\n",
    "\n",
    "## (d)\n",
    "club = \"FC Bayern\"\n",
    "print(\"{} currently has {} points.\".format(club, D[club]))"
   ]
  },
  {
   "cell_type": "code",
   "execution_count": null,
   "metadata": {},
   "outputs": [],
   "source": []
  }
 ],
 "metadata": {
  "anaconda-cloud": {},
  "kernelspec": {
   "display_name": "Python 3",
   "language": "python",
   "name": "python3"
  },
  "language_info": {
   "codemirror_mode": {
    "name": "ipython",
    "version": 3
   },
   "file_extension": ".py",
   "mimetype": "text/x-python",
   "name": "python",
   "nbconvert_exporter": "python",
   "pygments_lexer": "ipython3",
   "version": "3.7.3"
  }
 },
 "nbformat": 4,
 "nbformat_minor": 1
}
