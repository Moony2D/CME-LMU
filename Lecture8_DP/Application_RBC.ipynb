{
 "cells": [
  {
   "cell_type": "markdown",
   "metadata": {},
   "source": [
    "# Computational Methods in Economics\n",
    "\n",
    "## Application: The RBC Model"
   ]
  },
  {
   "cell_type": "code",
   "execution_count": 1,
   "metadata": {
    "collapsed": false
   },
   "outputs": [
    {
     "name": "stdout",
     "output_type": "stream",
     "text": [
      "Last update: 2019-01-27 21:35:40.938117\n"
     ]
    }
   ],
   "source": [
    "# Author: Alex Schmitt (schmitt@ifo.de)\n",
    "\n",
    "import datetime\n",
    "print('Last update: ' + str(datetime.datetime.today()))"
   ]
  },
  {
   "cell_type": "markdown",
   "metadata": {},
   "source": [
    "### Preliminaries\n",
    "\n",
    "#### Import Modules"
   ]
  },
  {
   "cell_type": "code",
   "execution_count": 2,
   "metadata": {
    "collapsed": true
   },
   "outputs": [],
   "source": [
    "import numpy as np\n",
    "import scipy.optimize\n",
    "\n",
    "import matplotlib.pyplot as plt\n",
    "%matplotlib inline\n",
    "import seaborn\n",
    "\n",
    "import funapprox_cme as fa"
   ]
  },
  {
   "cell_type": "markdown",
   "metadata": {},
   "source": [
    "Consider the following *stochastic* version of the NGM:\n",
    "\n",
    "\\begin{equation}\n",
    "    \\max_{\\left\\{c_t, k_{t+1}, h_{t} \\right\\}_{t = 0}^\\infty} \\mathbb{E} \\sum^\\infty_{t = 0} \\beta^t \\left[\\frac{c_t^{1 - \\nu}}{1 - \\nu} - B \\frac{h_t^{1+\\eta}}{1+\\eta}\\right]\n",
    "\\end{equation}\n",
    "\n",
    "s.t.\n",
    "\n",
    "\\begin{equation}\n",
    "    c_t + k_{t + 1} =  z_t A k_t^\\alpha h_{t}^{1-\\alpha} + (1 - \\delta) k_t\n",
    "\\end{equation}\n",
    "\n",
    "with $z_t \\in \\{0.98, 1.02\\}$. Compared to the standard model that we have seen so far, we assume that output is affected by a *productivity shock* $z_t$. In other words, $z_t$ is a discrete random variable (i.e. follows a stochastic process) whose \"support\" consists of two values, a low state $z_0 = 0.98$ and a high state $z_1 = 1.02$.\n",
    "\n",
    "We assume that these states are \"persistent\" in the sense that if the economy is in one state in period $t$, it is more likely to be in the same state in period $t+1$, rather than to moving to a different state. We can formalize this with a *probability transition matrix*:\n",
    "\n",
    "\\begin{equation}\n",
    "    P =  \\left[\\begin{array}{cc}\n",
    "    p_{00} & p_{01} \\\\\n",
    "    p_{10} & p_{11} \\\\\n",
    "    \\end{array}\\right]\n",
    "\\end{equation}\n",
    "\n",
    "The element $p_{ij}$ denotes the constant probability to move from state $i$ to state $j$ between two periods. Hence, it has to hold that $p_{00} + p_{01} = 1$ and $p_{10} + p_{11} = 1$.\n",
    "\n",
    "(a) Think about solving this model using a sequential approach. Why is this much more computationally intensive than for the deterministic model we have seen before? In other words, how many variables would the algorithm have to find when solving the model for a finite number of periods $T$?\n",
    "\n",
    "(b) We now solve the model using dynamic programming, for the parameter values given below:"
   ]
  },
  {
   "cell_type": "code",
   "execution_count": 3,
   "metadata": {
    "collapsed": true
   },
   "outputs": [],
   "source": [
    "## utility\n",
    "beta = 0.8      # discount factor\n",
    "nu = 2       # risk-aversion coefficient for consumption\n",
    "eta = 1         # elasticity parameter for labor supply\n",
    "\n",
    "## production\n",
    "alpha = 0.25\n",
    "delta = 0.1\n",
    "## derived\n",
    "A = (1 - beta * (1 - delta))/(alpha*beta) # normalization parameter for production function => steady state k = 1\n",
    "B = (1 - alpha) * A * (A - delta)**(-nu)      # parameter for utility function\n",
    "## initial capital stock\n",
    "k0 = 1\n",
    "\n",
    "params = {'beta': beta, 'nu': nu, 'eta': eta, \n",
    "          'alpha': alpha, 'delta': delta, 'A': A, 'B': B }"
   ]
  },
  {
   "cell_type": "code",
   "execution_count": 4,
   "metadata": {
    "collapsed": true
   },
   "outputs": [],
   "source": [
    "## stochastic states and transition matrix\n",
    "z = [0.98 , 1.02]\n",
    "P = np.array([[0.8, 0.2],\n",
    "                [0.2, 0.8]])"
   ]
  },
  {
   "cell_type": "markdown",
   "metadata": {},
   "source": [
    "Note that this model has two states, $k$ and $z$. However, in contrast to the two-state problem in question 4 in the previous problem set, $z$ is not a continuous variable, but can only take a *discrete* number of values (here 2). Hence, one approach to dynamic programming in this setting is to approximate the value function as a univariate function, but have two \"instances\" of $V$, one when the economy is in state 0 and one in state 1. \n",
    "\n",
    "In other words, we have approximations $\\hat{V}^{(it)}_0(k) = \\hat{V}(k; a^{(it)}_0)$ and $\\hat{V}^{(it)}_1(k) = \\hat{V}(k; a^{(it)}_1)$. This implies that the fitting step in every iteration of our value function iteration algorithm includes finding *two* vectors of basis coefficients.\n",
    "\n",
    "Moreover, note that the continuation value on the right hand side of the Bellman equation is given by the expectation over the possible states. In other words, when we are in state 0, we remain in state 0 with probability $p_{00}$ and move to state 1 with probability $p_{01}$. Hence, the expected continuation value is \n",
    "\n",
    "\\begin{equation}\n",
    "    p_{00} \\hat{V}(k'; a^{(it)}_0) + p_{01} \\hat{V}(k'; a^{(it)}_1)\n",
    "\\end{equation}\n",
    "\n",
    "and analogous if the economy is in state 1. Hence, the full Bellman equation to be used for the VFI algorithm when being in state $j \\in \\{0, 1\\}$ reads \n",
    "\n",
    "\\begin{equation}\n",
    "    \\hat{V}^{(it + 1)}_j(k) \\leftarrow \\max_{k', h} u(z_j f(k, h) + (1 - \\delta) k - k') + \\beta\\left[p_{j0} \\hat{V}^{(it)}_0(k') + p_{j1} \\hat{V}^{(it)}_0(k')\\right]\n",
    "\\end{equation}\n",
    "\n",
    "In other words, we essentially have two Bellman equations, one for each state. \n",
    "\n",
    "Solve the problem and derive the approximate policy functions. Simulate the economy over $T = 80$ periods. To simulate a sequence of shocks, $z_t$, you can use the following code:"
   ]
  },
  {
   "cell_type": "code",
   "execution_count": 5,
   "metadata": {
    "collapsed": true
   },
   "outputs": [],
   "source": [
    "## number of periods\n",
    "T = 80\n",
    "\n",
    "## initialize array to keep track of time series\n",
    "zt = np.zeros(T+1, dtype=np.int)\n",
    "\n",
    "## initial shock \n",
    "zt[0] = 0\n",
    "\n",
    "## loop over time and draw shocks\n",
    "for t in range(T):\n",
    "    draw = np.random.uniform()       \n",
    "    \n",
    "    if draw < P[zt[t], 0]:\n",
    "        zt[t+1] = 0\n",
    "    else:\n",
    "        zt[t+1] = 1 "
   ]
  },
  {
   "cell_type": "markdown",
   "metadata": {},
   "source": [
    "### Answer"
   ]
  },
  {
   "cell_type": "markdown",
   "metadata": {},
   "source": [
    "#### Auxiliary Functions"
   ]
  },
  {
   "cell_type": "code",
   "execution_count": 6,
   "metadata": {
    "collapsed": true
   },
   "outputs": [],
   "source": [
    "def u(c, h, pm):\n",
    "    \"\"\"\n",
    "    Evaluates an additive-separable utility function with consumption and labor as arguments\n",
    "    \"\"\"\n",
    "    return c**(1 - pm['nu'])/(1 - pm['nu']) - pm['B'] * h**(1 + pm['eta'])/(1 + pm['eta'])\n",
    "\n",
    "\n",
    "def f(k, h, pm):\n",
    "    \"\"\"\n",
    "    Evaluates a Cobb-Douglas production function with coefficient alpha and shift parameter A, for two inputs k and h\n",
    "    \"\"\"\n",
    "    return pm['A'] * k**pm['alpha'] * h**(1 - pm['alpha'])\n",
    "\n",
    "\n",
    "def f_diff(k, h, pm):\n",
    "    \"\"\"\n",
    "    Evaluates the first derivatives (returned as a tuple) of the Cobb-Douglas function with coefficient alpha and shift parameter A, for two inputs k and h\n",
    "    \"\"\"\n",
    "    return (pm['alpha'] * f(k, h, pm) / k, (1 - pm['alpha']) * f(k, h, pm) / h)"
   ]
  },
  {
   "cell_type": "markdown",
   "metadata": {},
   "source": [
    "#### Choose a grid around the steady state value for capital"
   ]
  },
  {
   "cell_type": "code",
   "execution_count": 7,
   "metadata": {
    "collapsed": true
   },
   "outputs": [],
   "source": [
    "m = 10\n",
    "k_min = 0.7\n",
    "k_max = 1.3\n",
    "\n",
    "k_grid = fa.chebgrid(k_min, k_max, m)"
   ]
  },
  {
   "cell_type": "markdown",
   "metadata": {},
   "source": [
    "#### Set the degree of approximation and an initial guess for the value function"
   ]
  },
  {
   "cell_type": "code",
   "execution_count": 8,
   "metadata": {
    "collapsed": true
   },
   "outputs": [],
   "source": [
    "## set the degree of approximation\n",
    "n = m - 1\n",
    "\n",
    "## initial guess for VF\n",
    "V0 = (alpha / (1 - alpha * beta)) * np.log(k_grid )\n",
    "## compute implied basis coefficients\n",
    "a_init = fa.chebapprox(V0, n)"
   ]
  },
  {
   "cell_type": "markdown",
   "metadata": {},
   "source": [
    "#### Define the objective function for the optimization step (= RHS of Bellman equation)"
   ]
  },
  {
   "cell_type": "code",
   "execution_count": 9,
   "metadata": {
    "collapsed": true
   },
   "outputs": [],
   "source": [
    "def vf_rhs(x, k, z, z_ind, a_0, a_1, k_min, k_max, P, pm):\n",
    "    \"\"\"\n",
    "    RHS of the Bellman equation\n",
    "    \"\"\"\n",
    "    kp = np.exp(x[0])\n",
    "    h = np.exp(x[1])\n",
    "\n",
    "    return (- u(z[z_ind] * f(k, h, pm) + (1 - pm['delta']) * k - kp, h, pm) - pm['beta'] * \n",
    "            ( P[z_ind, 0] * np.polynomial.chebyshev.chebval(fa.chebconvert(kp, k_min, k_max), a_0) \n",
    "              + P[z_ind, 1] * np.polynomial.chebyshev.chebval(fa.chebconvert(kp, k_min, k_max), a_1)  ) )"
   ]
  },
  {
   "cell_type": "markdown",
   "metadata": {},
   "source": [
    "#### Implement optimization step"
   ]
  },
  {
   "cell_type": "code",
   "execution_count": 10,
   "metadata": {
    "collapsed": true
   },
   "outputs": [],
   "source": [
    "def opt_step(k_grid, obj_fun, x0, z, a_0, a_1, k_min, k_max, P, pm):     \n",
    "    \"\"\"\n",
    "    Function that loops over all states (= elements in k_grid) and solves the respective optimization problem (obj_fun, initial guess x0)\n",
    "    for a given vector of Chebyshev basis coefficients a_ch\n",
    "    -> uses Scipy's optimize module\n",
    "    \"\"\"\n",
    "    ## initialize policy and value functions\n",
    "    V = np.zeros((m, len(z)))\n",
    "    K = np.zeros((m, len(z)))\n",
    "    H = np.zeros((m, len(z)))\n",
    "    \n",
    "    ## loop\n",
    "    for z_ind in range(len(z)):\n",
    "        for (ind, k) in enumerate(k_grid):\n",
    "        ## optimization step\n",
    "            res = scipy.optimize.minimize(obj_fun, x0, args = (k, z, z_ind, a_0, a_1, k_min, k_max, P, pm), method ='BFGS') \n",
    "            V[ind, z_ind] = - res.fun\n",
    "            K[ind, z_ind], H[ind, z_ind] = np.exp( res.x )\n",
    "\n",
    "    return V, K, H"
   ]
  },
  {
   "cell_type": "markdown",
   "metadata": {},
   "source": [
    "#### Solve model with value function iteration"
   ]
  },
  {
   "cell_type": "code",
   "execution_count": 11,
   "metadata": {
    "collapsed": false
   },
   "outputs": [
    {
     "name": "stdout",
     "output_type": "stream",
     "text": [
      "85 8.02067929568e-09\n"
     ]
    }
   ],
   "source": [
    "## initialize initial guess for basis coefficients and optimization\n",
    "a_0 = a_init.copy()\n",
    "a_1 = a_init.copy()\n",
    "x0 = (0, 0)\n",
    "\n",
    "eps = 1\n",
    "it = 0\n",
    "maxit = 100\n",
    "\n",
    "while eps > 1e-8 and it < maxit:\n",
    "    it += 1\n",
    "    ## optimization step\n",
    "    V, K, H = opt_step(k_grid, vf_rhs, x0, z, a_0, a_1, k_min, k_max, P, params)\n",
    "    ## fitting step\n",
    "    a_0_new = fa.chebapprox(V[:, 0], n)\n",
    "    a_1_new = fa.chebapprox(V[:, 1], n)\n",
    "    ## compute convergence criterion\n",
    "    eps0 = np.linalg.norm(a_0_new - a_0)\n",
    "    eps1 = np.linalg.norm(a_1_new - a_1) \n",
    "    eps = max(eps0, eps1)\n",
    "    ## update coefficients\n",
    "    a_0 = a_0_new.copy()\n",
    "    a_1 = a_1_new.copy()\n",
    "\n",
    "print(it, eps)"
   ]
  },
  {
   "cell_type": "markdown",
   "metadata": {},
   "source": [
    "#### Approximate policy functions"
   ]
  },
  {
   "cell_type": "code",
   "execution_count": 12,
   "metadata": {
    "collapsed": true
   },
   "outputs": [],
   "source": [
    "a_k, a_h = {}, {}\n",
    "for j in range(len(z)):    \n",
    "    a_k[j] = fa.chebapprox(K[:, j], n)\n",
    "    a_h[j] = fa.chebapprox(H[:, j], n)"
   ]
  },
  {
   "cell_type": "code",
   "execution_count": 13,
   "metadata": {
    "collapsed": false
   },
   "outputs": [
    {
     "data": {
      "text/plain": [
       "{0: array([  9.84641737e-01,   2.00892049e-01,  -1.01442285e-03,\n",
       "          1.90283771e-04,  -2.08393478e-05,   2.45499806e-06,\n",
       "         -9.35679068e-07,   8.43827871e-07,  -1.16420817e-06,\n",
       "          8.19424475e-07]),\n",
       " 1: array([  1.01360766e+00,   2.04091023e-01,  -1.21577611e-03,\n",
       "          2.06894383e-04,  -2.08518285e-05,   1.31085674e-06,\n",
       "          9.00918277e-07,   3.83204998e-07,   2.78174331e-06,\n",
       "         -1.49324050e-06])}"
      ]
     },
     "execution_count": 13,
     "metadata": {},
     "output_type": "execute_result"
    }
   ],
   "source": [
    "a_k"
   ]
  },
  {
   "cell_type": "markdown",
   "metadata": {},
   "source": [
    "#### Simulate the economy"
   ]
  },
  {
   "cell_type": "code",
   "execution_count": 14,
   "metadata": {
    "collapsed": true
   },
   "outputs": [],
   "source": [
    "## number of periods\n",
    "T = 80\n",
    "\n",
    "## initialize arrays to keep track of time series\n",
    "kt = np.zeros(T+1)\n",
    "ht = np.zeros(T)\n",
    "zt = np.zeros(T+1, dtype=np.int)\n",
    "\n",
    "## initial capital stock is given\n",
    "kt[0] = k0\n",
    "zt[0] = 0\n",
    "\n",
    "## loop over time and use policy function approximations to fill kt and ht\n",
    "for t in range(T):\n",
    "    kt[t+1] = np.polynomial.chebyshev.chebval( fa.chebconvert(kt[t], k_min, k_max), a_k[zt[t]] )\n",
    "    ht[t] = np.polynomial.chebyshev.chebval( fa.chebconvert(kt[t], k_min, k_max), a_h[zt[t]] )\n",
    "    \n",
    "    draw = np.random.uniform()       \n",
    "    if draw < P[zt[t], 0]:\n",
    "        zt[t+1] = 0\n",
    "    else:\n",
    "        zt[t+1] = 1      "
   ]
  },
  {
   "cell_type": "code",
   "execution_count": 16,
   "metadata": {
    "collapsed": false
   },
   "outputs": [
    {
     "data": {
      "text/plain": [
       "<matplotlib.collections.LineCollection at 0x84426fa390>"
      ]
     },
     "execution_count": 16,
     "metadata": {},
     "output_type": "execute_result"
    },
    {
     "data": {
      "image/png": "[encoded data removed]",
      "text/plain": [
       "<matplotlib.figure.Figure at 0x84422908d0>"
      ]
     },
     "metadata": {},
     "output_type": "display_data"
    }
   ],
   "source": [
    "## plot optimal plans and check for convergence to steady state\n",
    "fig, ax = plt.subplots(2,1)\n",
    "ax[0].plot(range(T), kt[:-1])\n",
    "ax[0].hlines(1, 0, T)\n",
    "ax[1].plot(range(T), ht)\n",
    "ax[1].hlines(1, 0, T)   "
   ]
  },
  {
   "cell_type": "code",
   "execution_count": 5,
   "metadata": {
    "collapsed": true
   },
   "outputs": [],
   "source": [
    "## implement AR(1)\n",
    "\n",
    "def ar1(T, rho, sigma, zbar = 1):\n",
    "    z = np.zeros(T)\n",
    "    z[0] = np.log(zbar)\n",
    "    \n",
    "    for t in range(1,T):        \n",
    "        z[t] = (1 - rho) * np.log(zbar) + rho * z[t-1] + sigma * np.random.normal()\n",
    "        \n",
    "    return z"
   ]
  },
  {
   "cell_type": "code",
   "execution_count": 8,
   "metadata": {
    "collapsed": false
   },
   "outputs": [
    {
     "data": {
      "text/plain": [
       "[<matplotlib.lines.Line2D at 0xdd1fe59c18>]"
      ]
     },
     "execution_count": 8,
     "metadata": {},
     "output_type": "execute_result"
    },
    {
     "data": {
      "image/png": "[encoded data removed]",
      "text/plain": [
       "<Figure size 576x396 with 1 Axes>"
      ]
     },
     "metadata": {},
     "output_type": "display_data"
    }
   ],
   "source": [
    "plt.plot(np.exp( ar1(50, 0.78, 0.0067) ) )"
   ]
  },
  {
   "cell_type": "code",
   "execution_count": 104,
   "metadata": {
    "collapsed": false
   },
   "outputs": [],
   "source": [
    "## utility\n",
    "beta = 0.8      # discount factor\n",
    "nu = 2       # risk-aversion coefficient for consumption\n",
    "eta = 1         # elasticity parameter for labor supply\n",
    "\n",
    "## production\n",
    "alpha = 0.25\n",
    "delta = 0.1\n",
    "## derived\n",
    "A = (1 - beta * (1 - delta))/(alpha*beta) # normalization parameter for production function => steady state k = 1\n",
    "B = (1 - alpha) * A * (A - delta)**(-nu)      # parameter for utility function\n",
    "## initial capital stock\n",
    "k0 = 0.8\n",
    "\n",
    "rho = 0.78\n",
    "sigma = 0.0067\n",
    "\n",
    "params = {'beta': beta, 'nu': nu, 'eta': eta, \n",
    "          'alpha': alpha, 'delta': delta, 'A': A, 'B': B, 'rho': rho, 'sigma': sigma }"
   ]
  },
  {
   "cell_type": "code",
   "execution_count": 40,
   "metadata": {
    "collapsed": true
   },
   "outputs": [],
   "source": [
    "def u(c, h, pm):\n",
    "    \"\"\"\n",
    "    Evaluates an additive-separable utility function with consumption and labor as arguments\n",
    "    \"\"\"\n",
    "    return c**(1 - pm['nu'])/(1 - pm['nu']) - pm['B'] * h**(1 + pm['eta'])/(1 + pm['eta'])\n",
    "\n",
    "def f(k, h, pm):\n",
    "    \"\"\"\n",
    "    Evaluates a Cobb-Douglas production function with coefficient alpha and shift parameter A, for two inputs k and h\n",
    "    \"\"\"\n",
    "    return pm['A'] * k**pm['alpha'] * h**(1 - pm['alpha'])\n",
    "\n",
    "\n",
    "def f_diff(k, h, pm):\n",
    "    \"\"\"\n",
    "    Evaluates the first derivatives (returned as a tuple) of the Cobb-Douglas function with coefficient alpha and shift parameter A, for two inputs k and h\n",
    "    \"\"\"\n",
    "    return (pm['alpha'] * f(k, h, pm) / k, (1 - pm['alpha']) * f(k, h, pm) / h)\n"
   ]
  },
  {
   "cell_type": "code",
   "execution_count": 41,
   "metadata": {
    "collapsed": true
   },
   "outputs": [],
   "source": [
    "m = 10\n",
    "k_min = 0.7\n",
    "k_max = 1.3\n",
    "\n",
    "k_grid = fa.chebgrid(k_min, k_max, m)"
   ]
  },
  {
   "cell_type": "code",
   "execution_count": 105,
   "metadata": {
    "collapsed": false
   },
   "outputs": [
    {
     "name": "stdout",
     "output_type": "stream",
     "text": [
      "[ 0.88681282  0.89861957  0.92107735  0.95198783  0.98832529  1.02653274\n",
      "  1.0628702   1.09378068  1.11623846  1.12804521]\n"
     ]
    }
   ],
   "source": [
    "epsmax = 4 * sigma\n",
    "z_max = np.exp(epsmax/(1-rho))\n",
    "z_min = 1/z_max\n",
    "# z_max= 1.001\n",
    "# z_min = 0.999\n",
    "\n",
    "z_grid = fa.chebgrid(z_min, z_max, 10)\n",
    "print(z_grid)"
   ]
  },
  {
   "cell_type": "code",
   "execution_count": 106,
   "metadata": {
    "collapsed": true
   },
   "outputs": [],
   "source": [
    "Z_grid, K_grid = np.meshgrid(z_grid, k_grid)"
   ]
  },
  {
   "cell_type": "code",
   "execution_count": 107,
   "metadata": {
    "collapsed": false
   },
   "outputs": [
    {
     "name": "stdout",
     "output_type": "stream",
     "text": [
      "[-2.93063742 -1.98165676 -1.15719371 -0.38118699  0.38118699  1.15719371\n",
      "  1.98165676  2.93063742]\n"
     ]
    }
   ],
   "source": [
    "N = 8\n",
    "nodes, weights = np.polynomial.hermite.hermgauss(N)\n",
    "print(nodes)"
   ]
  },
  {
   "cell_type": "code",
   "execution_count": 110,
   "metadata": {
    "collapsed": false
   },
   "outputs": [
    {
     "data": {
      "text/plain": [
       "array([ 0.88562372,  0.89362299,  0.90063129,  0.90727789,  0.9138555 ,\n",
       "        0.9205997 ,  0.92781957,  0.93619997])"
      ]
     },
     "execution_count": 110,
     "metadata": {},
     "output_type": "execute_result"
    }
   ],
   "source": [
    "z_grid[0]**rho * np.exp(np.sqrt(2) * sigma * nodes)"
   ]
  },
  {
   "cell_type": "code",
   "execution_count": 111,
   "metadata": {
    "collapsed": false
   },
   "outputs": [],
   "source": [
    "## set the degree of approximation\n",
    "n = m - 1\n",
    "\n",
    "## initial guess for VF\n",
    "V0 = (alpha / (1 - alpha * beta)) * np.log(K_grid )\n",
    "## compute implied basis coefficients\n",
    "a0 = fa.chebapprox_2d(V0, [n, n])"
   ]
  },
  {
   "cell_type": "code",
   "execution_count": 112,
   "metadata": {
    "collapsed": true
   },
   "outputs": [],
   "source": [
    "def vf_rhs(x, k, z, coef, k_min, k_max, z_min, z_max, nodes, weights, pm):\n",
    "    \"\"\"\n",
    "    RHS of the Bellman equation\n",
    "    \"\"\"\n",
    "    kp = np.exp(x[0])   # a scalar!\n",
    "    h = np.exp(x[1])    # a scalar!\n",
    "    \n",
    "    zp = z**pm['rho'] * np.exp(np.sqrt(2) * pm['sigma'] * nodes)  # an array\n",
    "    \n",
    "    cv = np.zeros(N)\n",
    "    for ind in range(N):\n",
    "        cv[ind] = np.polynomial.chebyshev.chebval2d(fa.chebconvert(kp, k_min, k_max),\n",
    "                                                    fa.chebconvert(zp[ind], z_min, z_max), coef)\n",
    "    \n",
    "    return (- u(z * f(k, h, pm) + (1 - pm['delta']) * k - kp, h, pm) \n",
    "            - beta * (np.pi)**(-0.5) * weights @ cv) "
   ]
  },
  {
   "cell_type": "code",
   "execution_count": 113,
   "metadata": {
    "collapsed": false
   },
   "outputs": [
    {
     "data": {
      "text/plain": [
       "1.4290013420271765"
      ]
     },
     "execution_count": 113,
     "metadata": {},
     "output_type": "execute_result"
    }
   ],
   "source": [
    "vf_rhs([0,0], k0, z_grid[0], a0, k_min, k_max, z_min, z_max, nodes, weights, params)"
   ]
  },
  {
   "cell_type": "code",
   "execution_count": 114,
   "metadata": {
    "collapsed": true
   },
   "outputs": [],
   "source": [
    "def opt_step(k_grid, z_grid, x0, a_ch, k_min, k_max, z_min, z_max, nodes, weights, pm):     \n",
    "    \"\"\"\n",
    "    Function that loops over all states (= elements in k_grid and q_grid) and solves the respective optimization problem (obj_fun, initial guess x0)\n",
    "    for a given vector of Chebyshev basis coefficients a_ch\n",
    "    -> uses Scipy's optimize module\n",
    "    \"\"\"\n",
    "    ## initialize policy and value functions\n",
    "    V = np.zeros((m, m))\n",
    "    K = np.zeros((m, m))\n",
    "    H = np.zeros((m, m))\n",
    "    \n",
    "    ## loop\n",
    "    for (ind1, k) in enumerate(k_grid):\n",
    "        for (ind2, z) in enumerate(z_grid):\n",
    "        ## optimization step\n",
    "            res = scipy.optimize.minimize(vf_rhs, x0, args = (k, z, a_ch, k_min, k_max, z_min, z_max, nodes, weights, pm), method ='BFGS') \n",
    "            V[ind1, ind2] = - res.fun\n",
    "            K[ind1, ind2], H[ind1, ind2]  = np.exp( res.x )\n",
    "            if res.success is not True:\n",
    "                print(k, z, res.message)\n",
    "        \n",
    "    return V, K, H"
   ]
  },
  {
   "cell_type": "code",
   "execution_count": 69,
   "metadata": {
    "collapsed": false
   },
   "outputs": [],
   "source": [
    "V, K, H = opt_step(k_grid, z_grid, x0, a0, k_min, k_max, z_min, z_max, nodes, weights, params)"
   ]
  },
  {
   "cell_type": "code",
   "execution_count": 77,
   "metadata": {
    "collapsed": true
   },
   "outputs": [],
   "source": [
    "a_new = fa.chebapprox_2d(V, [n, n])"
   ]
  },
  {
   "cell_type": "code",
   "execution_count": 103,
   "metadata": {
    "collapsed": false
   },
   "outputs": [],
   "source": [
    "# V, K, H = opt_step(k_grid, z_grid, x0, a_new, k_min, k_max, z_min, z_max, nodes, weights, params)"
   ]
  },
  {
   "cell_type": "code",
   "execution_count": 115,
   "metadata": {
    "collapsed": false
   },
   "outputs": [
    {
     "name": "stdout",
     "output_type": "stream",
     "text": [
      "10 0.148676444419\n",
      "20 0.0159683423424\n",
      "30 0.00171466371268\n",
      "40 0.000184111310429\n",
      "50 1.97688076122e-05\n",
      "60 2.12265962585e-06\n",
      "70 2.27918758536e-07\n",
      "80 2.44725892978e-08\n",
      "85 8.01907876559e-09\n"
     ]
    }
   ],
   "source": [
    "## initialize initial guess for basis coefficients and optimization\n",
    "a_ch = a0.copy()\n",
    "x0 = np.log([1, 1])\n",
    "\n",
    "eps = 1\n",
    "it = 0\n",
    "maxit = 300\n",
    "\n",
    "while eps > 1e-8 and it < maxit:\n",
    "    it += 1\n",
    "    ## optimization step\n",
    "    V, K, H = opt_step(k_grid, z_grid, x0, a_ch, k_min, k_max, z_min, z_max, nodes, weights, params)\n",
    "    ## fitting step\n",
    "    a_new = fa.chebapprox_2d(V, [n, n])\n",
    "    ## compute convergence criterion\n",
    "    eps = np.linalg.norm(a_new - a_ch)\n",
    "    ## update coefficients\n",
    "    a_ch = a_new.copy()\n",
    "    \n",
    "    if it % 10 == 0:\n",
    "        print(it, eps)\n",
    "\n",
    "print(it, eps)"
   ]
  },
  {
   "cell_type": "code",
   "execution_count": 116,
   "metadata": {
    "collapsed": true
   },
   "outputs": [],
   "source": [
    "a_k = fa.chebapprox_2d(K, [n, n])\n",
    "a_h = fa.chebapprox_2d(H, [n, n])"
   ]
  },
  {
   "cell_type": "code",
   "execution_count": 120,
   "metadata": {
    "collapsed": false
   },
   "outputs": [],
   "source": [
    "## number of periods\n",
    "T = 30\n",
    "k0 = 1\n",
    "\n",
    "## initialize arrays to keep track of time series\n",
    "kt = np.zeros(T+1)\n",
    "ht = np.zeros(T)\n",
    "\n",
    "## initial capital stock is given\n",
    "kt[0] = k0\n",
    "\n",
    "zt = np.exp( ar1(T+1, params['rho'], params['sigma']) )\n",
    "\n",
    "## loop over time and use policy function approximations to fill kt and ht\n",
    "for t in range(T):\n",
    "    kt[t+1] = np.polynomial.chebyshev.chebval2d( fa.chebconvert(kt[t], k_min, k_max), fa.chebconvert(zt[t], z_min, z_max), a_k )\n",
    "    ht[t] = np.polynomial.chebyshev.chebval2d( fa.chebconvert(kt[t], k_min, k_max), fa.chebconvert(zt[t], z_min, z_max), a_h )"
   ]
  },
  {
   "cell_type": "code",
   "execution_count": 121,
   "metadata": {
    "collapsed": false
   },
   "outputs": [
    {
     "data": {
      "text/plain": [
       "<matplotlib.collections.LineCollection at 0xdd2168e518>"
      ]
     },
     "execution_count": 121,
     "metadata": {},
     "output_type": "execute_result"
    },
    {
     "data": {
      "image/png": "[encoded data removed]",
      "text/plain": [
       "<Figure size 576x396 with 3 Axes>"
      ]
     },
     "metadata": {},
     "output_type": "display_data"
    }
   ],
   "source": [
    "## plot optimal plans and check for convergence to steady state\n",
    "fig, ax = plt.subplots(3,1)\n",
    "ax[1].plot(range(T), kt[:-1])\n",
    "ax[1].hlines(1, 0, T)\n",
    "ax[0].plot(range(T), zt[:-1])\n",
    "ax[2].plot(range(T), ht)\n",
    "ax[2].hlines(1, 0, T) "
   ]
  },
  {
   "cell_type": "markdown",
   "metadata": {},
   "source": [
    "## Compute Moments"
   ]
  },
  {
   "cell_type": "code",
   "execution_count": 124,
   "metadata": {
    "collapsed": false
   },
   "outputs": [
    {
     "name": "stdout",
     "output_type": "stream",
     "text": [
      "[0.0040279151977391878, 0.014699242320928469]\n"
     ]
    }
   ],
   "source": [
    "T = 10000\n",
    "Tb = 1000\n",
    "\n",
    "np.random.seed(1)\n",
    "zt = np.exp( ar1(T+1, params['rho'], params['sigma']) )\n",
    "\n",
    "## initialize arrays to keep track of time series\n",
    "kt = np.zeros(T+1)\n",
    "ht = np.zeros(T)\n",
    "invt = np.zeros(T)\n",
    "ct = np.zeros(T)\n",
    "yt = np.zeros(T)\n",
    "\n",
    "## initial capital stock is given\n",
    "kt[0] = k0\n",
    "\n",
    "zt = np.exp( ar1(T+1, params['rho'], params['sigma']) )\n",
    "\n",
    "## loop over time and use policy function approximations to fill kt and ht\n",
    "for t in range(T):\n",
    "    kt[t+1] = np.polynomial.chebyshev.chebval2d( fa.chebconvert(kt[t], k_min, k_max), fa.chebconvert(zt[t], z_min, z_max), a_k )\n",
    "    ht[t] = np.polynomial.chebyshev.chebval2d( fa.chebconvert(kt[t], k_min, k_max), fa.chebconvert(zt[t], z_min, z_max), a_h )\n",
    "\n",
    "    yt[t] = zt[t] * f(kt[t], ht[t], params)\n",
    "    invt[t] = kt[t + 1] - (1 - delta) * kt[t]\n",
    "    ct[t] = yt[t] - invt[t]\n",
    "\n",
    "#     moments = [np.std(np.log(yt[Tb:]) - np.log(ys)), np.std(np.log(ct[Tb:]) - np.log(cs)), \\\n",
    "#                np.std(np.log(invt[Tb:]) - np.log(invs)), np.std(np.log(lt[Tb:]) - np.log(ls)), \\\n",
    "#                np.std(np.log(kt[Tb:]) - np.log(ks))]\n",
    "    \n",
    "moments = [ np.std(np.log(ht[Tb:]) ), np.std(np.log(kt[Tb:]))]\n",
    "    \n",
    "print( moments )"
   ]
  },
  {
   "cell_type": "code",
   "execution_count": null,
   "metadata": {
    "collapsed": true
   },
   "outputs": [],
   "source": []
  }
 ],
 "metadata": {
  "kernelspec": {
   "display_name": "Python 3",
   "language": "python",
   "name": "python3"
  },
  "language_info": {
   "codemirror_mode": {
    "name": "ipython",
    "version": 3
   },
   "file_extension": ".py",
   "mimetype": "text/x-python",
   "name": "python",
   "nbconvert_exporter": "python",
   "pygments_lexer": "ipython3",
   "version": "3.6.6"
  }
 },
 "nbformat": 4,
 "nbformat_minor": 1
}
