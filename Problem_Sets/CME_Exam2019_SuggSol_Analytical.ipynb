{
 "cells": [
  {
   "cell_type": "markdown",
   "metadata": {},
   "source": [
    "# Computational Methods in Economics (WiSe 2018/19)\n",
    "\n",
    "## Exam Question - Suggested Solutions for analytical part"
   ]
  },
  {
   "cell_type": "code",
   "execution_count": 1,
   "metadata": {},
   "outputs": [
    {
     "name": "stdout",
     "output_type": "stream",
     "text": [
      "Last update: 2019-02-22 10:33:57.282013\n"
     ]
    }
   ],
   "source": [
    "# Author: Alex Schmitt (schmitt@ifo.de)\n",
    "\n",
    "import datetime\n",
    "print('Last update: ' + str(datetime.datetime.today()))"
   ]
  },
  {
   "cell_type": "markdown",
   "metadata": {},
   "source": [
    "The planner's problem reads\n",
    "\n",
    "\\begin{equation}\n",
    "    \\max_{\\left\\{c_t, h_t, e_t, r_t, s_{t+1}\\right\\}} \\sum^\\infty_{t = 0} \\beta^t \\left[\\frac{c_t^{1-\\nu}}{1-\\nu} - B \\frac{h_t^{1+\\eta}}{1+\\eta} \\right]\n",
    "\\end{equation}\n",
    "\n",
    "s.t. the resource constraint and the law of motion for $s_t$:\n",
    "\n",
    "\\begin{equation}\n",
    "    c_t = \\exp(-s_t) A e_t^\\alpha r_t^\\gamma h_{t}^{1-\\alpha - \\gamma} - \\rho r_t\n",
    "\\end{equation}\n",
    "\\begin{equation}\n",
    "    s_{t + 1} = \\phi s_t + e_t\n",
    "\\end{equation}"
   ]
  },
  {
   "cell_type": "markdown",
   "metadata": {},
   "source": [
    "To simplify the problem, substitute for $c_t$ in the objective function, using the first constraint:\n",
    "\n",
    "\\begin{equation}\n",
    "    \\max_{\\left\\{h_t, e_t, r_t, s_{t+1}\\right\\}} \\sum^\\infty_{t = 0} \\beta^t \\left[\\frac{1}{1-\\nu} \\left(  \\exp(-s_t) A e_t^\\alpha r_t^\\gamma h_{t}^{1-\\alpha - \\gamma} - \\rho r_t\\right)^{1-\\nu} - B \\frac{h_t^{1+\\eta}}{1+\\eta} \\right]\n",
    "\\end{equation}"
   ]
  },
  {
   "cell_type": "markdown",
   "metadata": {},
   "source": [
    "Next, note from the second constraint that $e_t = s_{t + 1} - \\phi s_t$; hence, we can substitute for $e_t$ in the objective function:\n",
    "\n",
    "\\begin{equation}\n",
    "    \\max_{\\left\\{h_t, r_t, s_{t+1}\\right\\}} \\sum^\\infty_{t = 0} \\beta^t \\left[\\frac{1}{1-\\nu} \\left(  \\exp(-s_t) A (s_{t + 1} - \\phi s_t)^\\alpha r_t^\\gamma h_{t}^{1-\\alpha - \\gamma} - \\rho r_t\\right)^{1-\\nu} - B \\frac{h_t^{1+\\eta}}{1+\\eta} \\right]\n",
    "\\end{equation}\n",
    "\n",
    "While this expression looks a bit messy, it is straightforward to derive the first-order conditions, i.e. take the derivatives w.r.t. $h_t, r_t, s_{t+1}$. To save notation, denote output by\n",
    "\n",
    "\\begin{equation}\n",
    "    y_t =  \\exp(-s_t) A (s_{t + 1} - \\phi s_t)^\\alpha r_t^\\gamma h_{t}^{1-\\alpha - \\gamma} \n",
    "\\end{equation}"
   ]
  },
  {
   "cell_type": "markdown",
   "metadata": {},
   "source": [
    "#### First-order conditions\n",
    "\n",
    "$r_t$: \n",
    "\n",
    "\\begin{equation}\n",
    "   \\gamma y_t r_t^{-1} - \\rho = 0\n",
    "\\end{equation}\n",
    "\n",
    "$h_t$:\n",
    "\n",
    "\\begin{equation}\n",
    "       c_t^{-\\nu} (1 - \\alpha - \\gamma) y_t h_t^{-1} - Bh_t^\\eta = 0\n",
    "\\end{equation}\n",
    "\n",
    "$s_{t+1}$:\n",
    "\n",
    "\\begin{equation}\n",
    "     \\beta^t  c_t^{-\\nu}  \\alpha y_t (s_{t + 1} - \\phi s_t)^{-1} +  \\beta^{t+1}  c_{t+1}^{-\\nu}  \\left[ \\alpha y_{t+1} (s_{t + 2} - \\phi s_{t+1})^{-1} (-\\phi) - y_{t+1}\\right] = 0\n",
    "\\end{equation}\n"
   ]
  },
  {
   "cell_type": "markdown",
   "metadata": {},
   "source": [
    "In the steady state, we have $s_t = s_{t+1} = s_{t+2} = s_s$ and hence the system of steady state conditions reads:\n",
    "\n",
    "\\begin{align}\n",
    "     \\gamma \\exp(-s_s) f(e_{s}, r_s, h_s) r_s^{-1} - \\rho &= 0 \\\\\n",
    "     [\\exp(-s_s) f(e_{s}, r_s, h_s) - \\rho r_s]^{-\\nu} (1 - \\alpha - \\gamma) \\exp(-s_s) f(e_{s}, r_s, h_s)  h_s^{-1} - Bh_s^\\eta &= 0 \\\\\n",
    "     \\alpha ((1 - \\phi) s)^{-1} +  \\beta \\left[ \\alpha ((1 - \\phi) s)^{-1} (-\\phi) - 1\\right] &= 0\n",
    "\\end{align}\n",
    "\n",
    "where $e_s = (1-\\phi) s_s$.\n"
   ]
  },
  {
   "cell_type": "markdown",
   "metadata": {},
   "source": [
    "We can simplify the last condition further to:\n",
    "\n",
    "\\begin{equation}\n",
    "    \\alpha ((1 - \\phi) s)^{-1} (1 - \\beta\\phi) - \\beta = 0\n",
    "\\end{equation}\n",
    "\n",
    "In steady state, $e_s = (1-\\phi) s_s$ and hence, we can also write this as\n",
    "\n",
    "\\begin{equation}\n",
    "    \\alpha e_s^{-1} (1 - \\beta\\phi) - \\beta = 0\n",
    "\\end{equation}\n",
    "\n",
    "If you had taken f.o.c.'s for $e_t$ rather than $s_{t+1}$, this is the expression you should have ended up with."
   ]
  }
 ],
 "metadata": {
  "kernelspec": {
   "display_name": "Python 3",
   "language": "python",
   "name": "python3"
  },
  "language_info": {
   "codemirror_mode": {
    "name": "ipython",
    "version": 3
   },
   "file_extension": ".py",
   "mimetype": "text/x-python",
   "name": "python",
   "nbconvert_exporter": "python",
   "pygments_lexer": "ipython3",
   "version": "3.7.5"
  }
 },
 "nbformat": 4,
 "nbformat_minor": 1
}
