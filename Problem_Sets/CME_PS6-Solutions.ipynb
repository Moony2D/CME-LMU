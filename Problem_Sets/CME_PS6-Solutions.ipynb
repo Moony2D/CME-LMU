{
 "cells": [
  {
   "cell_type": "markdown",
   "metadata": {
    "nbgrader": {
     "grade": false,
     "grade_id": "cell-766265bdb7b1d061",
     "locked": true,
     "schema_version": 3,
     "solution": false,
     "task": false
    }
   },
   "source": [
    "# Computational Methods in Economics (winter term 2019/20)\n",
    "\n",
    "## Problem Set 6"
   ]
  },
  {
   "cell_type": "markdown",
   "metadata": {
    "nbgrader": {
     "grade": false,
     "grade_id": "cell-aba41b2861a855b0",
     "locked": true,
     "schema_version": 3,
     "solution": false,
     "task": false
    }
   },
   "source": [
    "#### DEADLINE: Wednesday, February 5, 12 pm (Noon)"
   ]
  },
  {
   "cell_type": "markdown",
   "metadata": {
    "nbgrader": {
     "grade": false,
     "grade_id": "cell-2ca9aa5782909f87",
     "locked": true,
     "schema_version": 3,
     "solution": false,
     "task": false
    }
   },
   "source": [
    "### Preliminaries\n",
    "\n",
    "#### Import Modules"
   ]
  },
  {
   "cell_type": "code",
   "execution_count": 1,
   "metadata": {
    "nbgrader": {
     "grade": false,
     "grade_id": "cell-8074bc2d1f52c6f1",
     "locked": true,
     "schema_version": 3,
     "solution": false,
     "task": false
    }
   },
   "outputs": [],
   "source": [
    "import numpy as np\n",
    "import scipy.optimize\n",
    "\n",
    "import matplotlib.pyplot as plt\n",
    "%matplotlib inline\n",
    "\n",
    "import funapprox_cme as fa"
   ]
  },
  {
   "cell_type": "markdown",
   "metadata": {
    "nbgrader": {
     "grade": false,
     "grade_id": "cell-e5318083ca87a69d",
     "locked": true,
     "schema_version": 3,
     "solution": false,
     "task": false
    }
   },
   "source": [
    "## Question 1\n",
    "\n",
    "In this question, we use Gaussian-Legendre quadrature to approximate the mean of the *beta distribution* (https://en.wikipedia.org/wiki/Beta_distribution). First, compute the analytical mean for parameter values **a = 3** and **b = 5** (in the Wikipedia article, the parameters are called $\\alpha$ and $\\beta$, respectively), either by hand or using a **Scipy** package (**Hint**: check the contents of **scipy.stats**). Store your result in a scalar variable named **mean_true**. \n",
    " \n",
    "Next, use Gauss-Legendre to compute the numerical approximation **mean_approx**. For the pdf, you can again make use of the appropriate **Scipy** package. Note that the pdf of the beta distribution is defined in the range $[0, 1]$.\n",
    "\n",
    "NB: Be careful not to mix up the parameters **a** and **b** of the beta distribution with our notation for the end points of the distribution's interval (here $[0, 1]$)."
   ]
  },
  {
   "cell_type": "code",
   "execution_count": 2,
   "metadata": {
    "nbgrader": {
     "grade": false,
     "grade_id": "cell-5d08b5416e95dee7",
     "locked": false,
     "schema_version": 3,
     "solution": true
    }
   },
   "outputs": [],
   "source": [
    "### BEGIN SOLUTION\n",
    "\n",
    "from scipy.stats import beta\n",
    "\n",
    "## Parameters of the beta distribution\n",
    "a = 3\n",
    "b = 5\n",
    "\n",
    "mean_true = beta.stats(a, b, loc=0, scale=1, moments='m')\n",
    "\n",
    "# approximate mean\n",
    "[nodes_l, weights_l] = np.polynomial.legendre.leggauss(22)\n",
    "X = beta.pdf( (nodes_l + 1) * 0.5 , a, b) * (nodes_l + 1) * 0.5\n",
    "mean_approx = 0.5 * weights_l @ X\n",
    "\n",
    "### END SOLUTION"
   ]
  },
  {
   "cell_type": "code",
   "execution_count": 3,
   "metadata": {
    "nbgrader": {
     "grade": true,
     "grade_id": "cell-d8b5b1270da7e274",
     "locked": true,
     "points": 1,
     "schema_version": 3,
     "solution": false
    }
   },
   "outputs": [],
   "source": [
    "# THIS IS A TEST CELL!\n",
    "### BEGIN HIDDEN TESTS\n",
    "assert mean_true == 0.375\n",
    "### END HIDDEN TESTS"
   ]
  },
  {
   "cell_type": "code",
   "execution_count": 4,
   "metadata": {
    "nbgrader": {
     "grade": true,
     "grade_id": "cell-a74790823bef7115",
     "locked": true,
     "points": 2,
     "schema_version": 3,
     "solution": false
    }
   },
   "outputs": [],
   "source": [
    "# THIS IS A TEST CELL!\n",
    "### BEGIN HIDDEN TESTS\n",
    "assert np.allclose( mean_approx, 0.375)\n",
    "assert mean_approx != 0.375\n",
    "### END HIDDEN TESTS"
   ]
  },
  {
   "cell_type": "markdown",
   "metadata": {
    "nbgrader": {
     "grade": false,
     "grade_id": "cell-30602a2fa258c061",
     "locked": true,
     "schema_version": 3,
     "solution": false
    }
   },
   "source": [
    "## Question 2\n",
    "\n",
    "In the stochastic NGM, let output be given by $y_t = z_t f(k_t)$. $z_t$ is a random variable (\"shock\") whose *logarithm* follows an AR(1) process: \n",
    "\n",
    "\\begin{equation}\n",
    "    \\ln(z_{t+1}) = \\rho \\ln(z_t) + \\epsilon_{t+1},\\ \\ \\epsilon_{t+1} \\sim N(0, \\sigma^2)\n",
    "\\end{equation}\n",
    "\n",
    "Moreover, in this version of the growth model, let $\\delta = 1$ (full depreciation). The production function (without the shock) is given by\n",
    "\n",
    "\n",
    "$$\n",
    "    f(k) = k^\\alpha\n",
    "$$\n",
    "\n",
    "(and hence labor supply is implicitly set constant to 1).\n",
    "\n",
    "\n",
    "The random variable $\\epsilon_{t+1}$ enters the Euler equation on the right hand side, and hence there is an expected value:\n",
    "\n",
    "\\begin{equation}\n",
    "\\begin{split}\n",
    "    c_t^{-1} &= \\beta E[c_{t+1}^{-\\nu} z_{t+1} f_k(k_{t+1})] \\\\\n",
    "               &= \\beta E[c_{t+1}^{-\\nu} \\exp(\\rho \\ln(z_t) + \\epsilon_{t+1}) \\alpha k_{t+1}^{\\alpha -1}] \\\\\n",
    "               &= \\beta E[c_{t+1}^{-\\nu}  z_t^\\rho \\exp(\\epsilon_{t+1}) \\alpha k_{t+1}^{\\alpha -1} ]\n",
    "\\end{split}    \n",
    "\\end{equation}\n",
    "\n",
    "If $\\epsilon_{t+1}$ is normally distributed with mean $\\mu$ and variance $\\sigma^2$, the expectation of $g(\\epsilon_{t+1})$ (for an arbitrary function $g$) can be approximated by\n",
    "\n",
    "\\begin{equation}\n",
    "    E[g(\\epsilon_{t+1})] = \\sum^n_{i = 1} \\frac{1}{\\sqrt{\\pi}} \\omega_i g(\\sqrt{2} \\sigma \\xi_i + \\mu)\n",
    "\\end{equation}\n",
    "\n",
    "Hence, the right hand side of the Euler equation can be approximated in the following way:\n",
    "\n",
    "\\begin{equation}\n",
    "\\begin{split}\n",
    "   c_t^{-1}  &= \\beta E[c_{t+1}^{-\\nu}  z_t^\\rho \\exp(\\epsilon_{t+1}) \\alpha k_{t+1}^{\\alpha -1} ] \\\\\n",
    "                  &= \\beta \\sum^n_{i = 1} \\frac{1}{\\sqrt{\\pi}} \\omega_i c_{t+1}^{-1}  z_t^\\rho \\exp(\\sqrt{2} \\sigma \\xi_i) \\alpha k_{t+1}^{\\alpha -1}  \n",
    "\\end{split}\n",
    "\\end{equation}\n",
    "\n",
    "Note that we could use this equation to solve the model using root finding and function approximation tools. Here, we will just employ this equation to show that a stochastic NGM cannot attain a steady state. \n",
    "\n",
    "If there were a steady state, we would have $c_t = c_{t+1}$. Hence,\n",
    "\n",
    "\\begin{equation}\n",
    "   1 = \\beta \\sum^n_{i = 1} \\frac{1}{\\sqrt{\\pi}} \\omega_i  z_t^\\rho   \\exp(\\sqrt{2} \\sigma \\xi_i) \\alpha k_{t+1}^{\\alpha -1}\n",
    "\\end{equation}\n",
    "\n",
    "and rearranging terms gives\n",
    "\n",
    "\\begin{equation}\n",
    "   k_{t+1} = \\big[ \\alpha\\beta z_t^\\rho \\sum^n_{i = 1} \\frac{1}{\\sqrt{\\pi}} \\omega_i    \\exp(\\sqrt{2} \\sigma \\xi_i) \\big]^{\\frac{1}{1-\\alpha}} \\tag{1}\n",
    "\\end{equation}\n",
    "\n"
   ]
  },
  {
   "cell_type": "markdown",
   "metadata": {
    "nbgrader": {
     "grade": false,
     "grade_id": "cell-f27e7d71211c3818",
     "locked": true,
     "schema_version": 3,
     "solution": false
    }
   },
   "source": [
    "(a) Evaluate the sum on the RHS of (1), i.e.\n",
    "\n",
    "$$\n",
    "    \\sum^n_{i = 1} \\frac{1}{\\sqrt{\\pi}} \\omega_i    \\exp(\\sqrt{2} \\sigma \\xi_i) \n",
    "$$    \n",
    "\n",
    "using Gaussian-Hermite nodes and weights, with $n = 8$ and $\\sigma = 0.0067$. Store the result in a scalar named **sum_ee**.\n"
   ]
  },
  {
   "cell_type": "code",
   "execution_count": 5,
   "metadata": {
    "nbgrader": {
     "grade": false,
     "grade_id": "cell-292a41d9926b6051",
     "locked": false,
     "schema_version": 3,
     "solution": true
    }
   },
   "outputs": [],
   "source": [
    "### BEGIN SOLUTION\n",
    "sigma = 0.0067\n",
    "n = 8\n",
    "[nodes, weights] = np.polynomial.hermite.hermgauss(n)\n",
    "sum_ee = np.pi**(-0.5) * np.exp(np.sqrt(2) * sigma * nodes) @ weights\n",
    "### END SOLUTION"
   ]
  },
  {
   "cell_type": "code",
   "execution_count": 6,
   "metadata": {
    "nbgrader": {
     "grade": true,
     "grade_id": "cell-a1f2490a5337fe35",
     "locked": true,
     "points": 2,
     "schema_version": 3,
     "solution": false
    }
   },
   "outputs": [],
   "source": [
    "assert np.allclose(sum_ee, 1.00002)"
   ]
  },
  {
   "cell_type": "markdown",
   "metadata": {
    "nbgrader": {
     "grade": false,
     "grade_id": "cell-ca652e545d948503",
     "locked": true,
     "schema_version": 3,
     "solution": false
    }
   },
   "source": [
    "(b) The function **ar1** below implements an AR1 process of length T. Use it to create a T-by-1 array **z** in which each element $z_t$ comes from the AR1 process above,\n",
    "\n",
    "\\begin{equation}\n",
    "    \\ln(z_{t+1}) = \\rho \\ln(z_t) + \\epsilon_{t+1},\\ \\ \\epsilon_{t+1} \\sim N(0, \\sigma^2)\n",
    "\\end{equation}\n",
    "\n",
    "for $T = 100$, $\\rho = 0.8$ and $\\sigma = 0.0067$. You do not need to change the default settings in **ar1**.\n"
   ]
  },
  {
   "cell_type": "code",
   "execution_count": 7,
   "metadata": {
    "nbgrader": {
     "grade": false,
     "grade_id": "cell-86ab8e3ccb52403a",
     "locked": true,
     "schema_version": 3,
     "solution": false,
     "task": false
    }
   },
   "outputs": [],
   "source": [
    "def ar1(T, rho, sigma, wbar = 0):\n",
    "    '''\n",
    "    Implements an AR1 process of length T with autocorrelation rho and standard deviation sigma\n",
    "    '''\n",
    "    w = np.zeros(T)\n",
    "    ## initialize at wbar\n",
    "    w[0] = wbar\n",
    "    \n",
    "    for t in range(1,T):        \n",
    "        w[t] = (1 - rho) * wbar + rho * w[t-1] + sigma * np.random.normal()\n",
    "        \n",
    "    return w"
   ]
  },
  {
   "cell_type": "code",
   "execution_count": 8,
   "metadata": {
    "nbgrader": {
     "grade": false,
     "grade_id": "cell-5cb4f4f861f56cb2",
     "locked": false,
     "schema_version": 3,
     "solution": true,
     "task": false
    }
   },
   "outputs": [
    {
     "data": {
      "text/plain": [
       "[<matplotlib.lines.Line2D at 0x25feb489508>]"
      ]
     },
     "execution_count": 8,
     "metadata": {},
     "output_type": "execute_result"
    },
    {
     "data": {
      "image/png": "[encoded data removed]",
      "text/plain": [
       "<Figure size 432x288 with 1 Axes>"
      ]
     },
     "metadata": {
      "needs_background": "light"
     },
     "output_type": "display_data"
    }
   ],
   "source": [
    "### BEGIN SOLUTION\n",
    "T = 100\n",
    "rho = 0.8\n",
    "sigma = 0.0067\n",
    "z = np.exp( ar1(100, rho, sigma) )\n",
    "plt.plot(z)\n",
    "### END SOLUTION"
   ]
  },
  {
   "cell_type": "code",
   "execution_count": 9,
   "metadata": {
    "nbgrader": {
     "grade": true,
     "grade_id": "cell-70afeffc9f59f767",
     "locked": true,
     "points": 1,
     "schema_version": 3,
     "solution": false,
     "task": false
    }
   },
   "outputs": [],
   "source": [
    "assert np.allclose(z.mean(), 1, atol = 1e-2)"
   ]
  },
  {
   "cell_type": "markdown",
   "metadata": {
    "nbgrader": {
     "grade": false,
     "grade_id": "cell-0a52c0417fd9f7dc",
     "locked": true,
     "schema_version": 3,
     "solution": false,
     "task": false
    }
   },
   "source": [
    "(c) With the results and parameter values from (a) and (b), use equation (1) to simulate the time paths for output and consumption. That is, return two T-by-1 arrays **Y** and **C** for output and consumption, respectively, where the $t$-th element contains the correspoding variable value in period $t$. For initial output, set $y_0 = 0.7$. Moreover, let $\\alpha = 0.33$, $\\beta = 0.96$ and $T = 100$.\n",
    "\n",
    "**Hint**: For every period $t$, we have $c_t = y_t - k_{t+1}$ and $y_{t+1} = z_{t+1} k_{t+1}^\\alpha$.\n",
    "\n",
    "*Optional question (no submission required)*: Why do the resulting time paths imply that there is no steady state?"
   ]
  },
  {
   "cell_type": "code",
   "execution_count": 10,
   "metadata": {
    "nbgrader": {
     "grade": false,
     "grade_id": "cell-bb4888b1cd503f65",
     "locked": false,
     "schema_version": 3,
     "solution": true,
     "task": false
    }
   },
   "outputs": [
    {
     "data": {
      "text/plain": [
       "[<matplotlib.lines.Line2D at 0x25feb546e48>]"
      ]
     },
     "execution_count": 10,
     "metadata": {},
     "output_type": "execute_result"
    },
    {
     "data": {
      "image/png": "[encoded data removed]",
      "text/plain": [
       "<Figure size 432x288 with 1 Axes>"
      ]
     },
     "metadata": {
      "needs_background": "light"
     },
     "output_type": "display_data"
    }
   ],
   "source": [
    "### BEGIN SOLUTION\n",
    "alpha = 0.33\n",
    "beta = 0.96\n",
    "T = 100\n",
    "rho = 0.8\n",
    "sigma = 0.0067\n",
    "\n",
    "z = np.exp( ar1(T+1, rho, sigma) )\n",
    "\n",
    "C = np.zeros(T)\n",
    "Y = 0.7 * np.ones(T+1)\n",
    "for time in range(T):\n",
    "    kp = (alpha * beta * z[time]**rho * sum_ee)**(1/(1-alpha))\n",
    "    C[time] = Y[time] - kp\n",
    "    Y[time + 1] = z[time + 1] * kp**alpha\n",
    "    \n",
    "plt.plot(C[:-1])   \n",
    "### END SOLUTION"
   ]
  },
  {
   "cell_type": "code",
   "execution_count": 11,
   "metadata": {
    "nbgrader": {
     "grade": true,
     "grade_id": "cell-5896d2ec3f4fde34",
     "locked": true,
     "points": 3,
     "schema_version": 3,
     "solution": false
    }
   },
   "outputs": [],
   "source": [
    "assert np.allclose(C.std(), 0.014, atol = 1e-2)"
   ]
  },
  {
   "cell_type": "markdown",
   "metadata": {
    "nbgrader": {
     "grade": false,
     "grade_id": "cell-09b1f26ee7c9e3a6",
     "locked": true,
     "schema_version": 3,
     "solution": false
    }
   },
   "source": [
    "## Question 3 (N)\n",
    "\n",
    "*This was the exam question 2019*.\n",
    "\n",
    "Consider a growth model without capital. Instead, output is produced using labor and energy. Energy comes in two forms, a \"dirty\" and a \"clean\" variant. Using dirty energy $e_t$ causes emissions of a pollutant and hence a *pollution externality*: it contributes to a stock of the pollutant which negatively affects production. Apart from this negative productivity effect, there is no other cost of dirty energy use. In contrast, clean energy $r_t$ does not cause pollution, but has a constant marginal cost $\\rho$, paid in output units. \n",
    "\n",
    "Formally, per-period utility is given by:\n",
    "\n",
    "\\begin{equation}\n",
    "    u(c_t, h_t) = \\frac{c_t^{1-\\nu}}{1-\\nu} - B \\frac{h_t^{1+\\eta}}{1+\\eta}\n",
    "\\end{equation}\n",
    "\n",
    "Output is given by\n",
    "\n",
    "\\begin{equation}\n",
    "    y_t = D(s_t) f(e_{t}, r_t, h_t) = D(s_t) A e_t^\\alpha r_t^\\gamma h_{t}^{1-\\alpha - \\gamma}\n",
    "\\end{equation}\n",
    "\n",
    "where $s_t$ denotes the pollution stock. $D(s_t)$ is called a damage function: it reduces available output, to an extent which depends on the size of the pollution stock. We assume the following functional form:\n",
    "\n",
    "\\begin{equation}\n",
    "    D(s_{t}) = \\exp(- s_t)\n",
    "\\end{equation}\n",
    "\n",
    "$s_t$ evolves according to the following law of motion:\n",
    "\n",
    "\\begin{equation}\n",
    "    s_{t + 1} = \\phi s_t + e_t\n",
    "\\end{equation}\n",
    "\n",
    "In other words, a share $(1 - \\phi)$ of the current pollution stock depreciates every period. The remaining share, together with the current dirty energy use/emissions $e_t$, makes up the pollution stock in the subsequent period.\n",
    "\n",
    "The planner's problem reads\n",
    "\n",
    "\\begin{equation}\n",
    "    \\max_{\\left\\{c_t, h_t, e_t, r_t, s_{t+1}\\right\\}} \\sum^\\infty_{t = 0} \\beta^t \\left[\\frac{c_t^{1-\\nu}}{1-\\nu} - B \\frac{h_t^{1+\\eta}}{1+\\eta} \\right]\n",
    "\\end{equation}\n",
    "\n",
    "s.t. the resource constraint and the law of motion for $s_t$:\n",
    "\n",
    "\\begin{equation}\n",
    "    c_t = \\exp(-s_t) A e_t^\\alpha r_t^\\gamma h_{t}^{1-\\alpha - \\gamma} - \\rho r_t\n",
    "\\end{equation}\n",
    "\\begin{equation}\n",
    "    s_{t + 1} = \\phi s_t + e_t\n",
    "\\end{equation}\n",
    "\n",
    "(As a side note, this model is not well-suited for representing climate change, but rather a more short-term production externality, e.g. air pollution.)"
   ]
  },
  {
   "cell_type": "markdown",
   "metadata": {
    "nbgrader": {
     "grade": false,
     "grade_id": "cell-f3f25337f0a4e33c",
     "locked": true,
     "schema_version": 3,
     "solution": false
    }
   },
   "source": [
    "(a) Using the parameter values below, compute the steady state of the model. Report the steady state values $(e_s, r_s, h_s)$ (in this order!) in a Numpy array named **x_s**.\n",
    "\n",
    "*Hint*: For comparison, you get the following steady state value for $e_s$:\n",
    "\n",
    "\\begin{equation}\n",
    "    e_s = 0.1528\n",
    "\\end{equation}\n"
   ]
  },
  {
   "cell_type": "code",
   "execution_count": 12,
   "metadata": {
    "nbgrader": {
     "grade": false,
     "grade_id": "cell-d9aa4bf92087c23e",
     "locked": true,
     "schema_version": 3,
     "solution": false
    }
   },
   "outputs": [],
   "source": [
    "## utility\n",
    "beta = 0.9      # discount factor\n",
    "nu = 2          # risk-aversion coefficient for consumption\n",
    "eta = 1         # elasticity parameter for labor supply\n",
    "B = 1\n",
    "\n",
    "## production\n",
    "alpha = 0.25\n",
    "gamma = 0.05\n",
    "A = 1\n",
    "\n",
    "rho = 0.1       # marginal cost of clean energy\n",
    "phi = 0.5       # share of pollutant that remains in the air between two periods\n",
    "\n",
    "## initial values\n",
    "s0 = 0.05\n",
    "\n",
    "params = {'beta': beta, 'nu': nu, 'eta': eta, 'alpha': alpha, 'gamma': gamma,\n",
    "          'phi': phi, 'rho': rho, 'A': A, 'B': B }"
   ]
  },
  {
   "cell_type": "code",
   "execution_count": 13,
   "metadata": {
    "nbgrader": {
     "grade": false,
     "grade_id": "cell-7b9d11132f916334",
     "locked": false,
     "schema_version": 3,
     "solution": true
    }
   },
   "outputs": [],
   "source": [
    "### BEGIN SOLUTION\n",
    "\n",
    "## functions\n",
    "def u(c, h, pm):\n",
    "    \"\"\"\n",
    "    Evaluates an additive-separable utility function with consumption and labor as arguments\n",
    "    \"\"\"\n",
    "    return c**(1 - pm['nu'])/(1 - pm['nu']) - pm['B'] * h**(1 + pm['eta'])/(1 + pm['eta'])\n",
    "\n",
    "def f(e, r, h, pm):\n",
    "    \"\"\"\n",
    "    Evaluates a Cobb-Douglas production function with coefficient alpha and shift parameter A, for two inputs k and h\n",
    "    \"\"\"\n",
    "    return pm['A'] * e**pm['alpha'] * r**pm['gamma'] * h**(1 - pm['alpha'] - pm['gamma'])\n",
    "\n",
    "\n",
    "def f_diff(e, r, h, pm):\n",
    "    \"\"\"\n",
    "    Evaluates the first derivatives (returned as a tuple) of the Cobb-Douglas function with coefficient alpha and shift parameter A, for two inputs k and h\n",
    "    \"\"\"\n",
    "    return np.array( (pm['alpha'] * f(e, r, h, pm)  / e, \n",
    "                      pm['gamma'] * f(e, r, h, pm)  / r, \n",
    "                     (1 - pm['alpha'] - pm['gamma'] ) * f(e, r, h, pm) / h) )\n",
    "\n",
    "## steady-state conditions\n",
    "def steady(x, pm):\n",
    "    \"\"\"\n",
    "    Returns the vector-valued function consisting of the steady-state conditions \n",
    "    \"\"\"\n",
    "    y = np.zeros(3)\n",
    "    \n",
    "    e, r, h = x\n",
    "    s = e / (1 - pm['phi'])\n",
    "\n",
    "    c = np.exp(-s) * f(e, r, h, pm) - pm['rho'] * r\n",
    "    mp = np.exp(-s) * f_diff(e, r, h, pm)\n",
    "    \n",
    "    y[0] = pm['alpha'] * e**(-1) - pm['beta'] * (pm['alpha'] * pm['phi'] * e**(-1) + 1) \n",
    "    y[1] = mp[1] - rho\n",
    "    y[2] = c**(- pm['nu']) * mp[2] - B * h**pm['eta']\n",
    "    \n",
    "    return y\n",
    "\n",
    "x0 = np.array([0.1, 0.2, 1.2])\n",
    "res = scipy.optimize.root(steady, x0, args = ( params ), tol = 1e-8, method = \"broyden1\")\n",
    "\n",
    "x_s = res.x \n",
    "## END SOLUTION"
   ]
  },
  {
   "cell_type": "code",
   "execution_count": 14,
   "metadata": {
    "nbgrader": {
     "grade": true,
     "grade_id": "cell-4593f7304b05e854",
     "locked": true,
     "points": 5,
     "schema_version": 3,
     "solution": false,
     "task": false
    }
   },
   "outputs": [],
   "source": [
    "# THIS IS A TEST CELL!\n",
    "### BEGIN HIDDEN TESTS\n",
    "assert np.allclose( x_s, np.array([0.15277778, 0.25043399, 1.24441083]) )\n",
    "### END HIDDEN TESTS"
   ]
  },
  {
   "cell_type": "markdown",
   "metadata": {
    "nbgrader": {
     "grade": false,
     "grade_id": "cell-1e1505fecd12d319",
     "locked": true,
     "schema_version": 3,
     "solution": false
    }
   },
   "source": [
    "(b) Use dynamic programming to solve the model, given the initial pollution stock $s_0 = 0.05$. Your main result should be an array of coefficient, **a_ch**, of dimension 10-by-1. In other words, when approximating functions, use a degree of approximation $n = 9$. \n",
    "\n",
    "*Hint 1*: For value function iteration, you can use $V^{(0)}(s) = - s^2$ as initial guess. \n",
    "\n",
    "*Hint 2*: For comparison, the first element of your **a_ch** vector should be **a_ch[0]** = -28.6624417.\n"
   ]
  },
  {
   "cell_type": "code",
   "execution_count": 15,
   "metadata": {
    "nbgrader": {
     "grade": false,
     "grade_id": "cell-336fa8f4de872b21",
     "locked": false,
     "schema_version": 3,
     "solution": true,
     "task": false
    }
   },
   "outputs": [],
   "source": [
    "### BEGIN SOLUTION\n",
    "\n",
    "#### Choose a grid around the steady state value for capital\n",
    "\n",
    "m = 10\n",
    "s_min = 0.05\n",
    "s_max = 0.5\n",
    "\n",
    "s_grid = fa.chebgrid(s_min, s_max, m)\n",
    "\n",
    "#### Set the degree of approximation and an initial guess for the value function\n",
    "\n",
    "n = m - 1\n",
    "\n",
    "## initial guess for VF\n",
    "V0 = - s_grid**2\n",
    "## compute implied basis coefficients\n",
    "a0 = fa.chebapprox(V0, n)\n",
    "\n",
    "#### Define the objective function for the optimization step (= RHS of Bellman equation)\n",
    "\n",
    "def vf_rhs(x, s, a, s_min, s_max, pm):\n",
    "    \"\"\"\n",
    "    RHS of the Bellman equation\n",
    "    \"\"\"\n",
    "    e = np.exp(x[0])\n",
    "    r = np.exp(x[1])\n",
    "    h = np.exp(x[2])\n",
    "    \n",
    "    sp = pm['phi'] * s + e\n",
    "    \n",
    "    return (- u( np.exp(- s) * f(e, r, h, pm) - pm['rho'] * r, h, pm) \n",
    "            - pm['beta'] * np.polynomial.chebyshev.chebval(fa.chebconvert(sp, s_min, s_max), a) )\n",
    "\n",
    "#### Solve model with value function iteration\n",
    "\n",
    "def opt_step(s_grid, x0, a_ch, s_min, s_max, pm):     \n",
    "    \"\"\"\n",
    "    Function that loops over all states (= elements in k_grid) and solves the respective optimization problem (obj_fun, initial guess x0)\n",
    "    for a given vector of Chebyshev basis coefficients a_ch\n",
    "    -> uses Scipy's optimize module\n",
    "    \"\"\"\n",
    "    ## initialize policy and value functions\n",
    "    V = np.zeros(m)\n",
    "    E = np.zeros(m)\n",
    "    R = np.zeros(m)\n",
    "    H = np.zeros(m)\n",
    "    \n",
    "    ## loop\n",
    "    for (ind, s) in enumerate(s_grid):\n",
    "    ## optimization step\n",
    "        res = scipy.optimize.minimize(vf_rhs, x0, args = (s, a_ch, s_min, s_max, pm), method ='BFGS') \n",
    "        V[ind] = - res.fun\n",
    "        E[ind], R[ind], H[ind]  = np.exp( res.x )\n",
    "        if res.success is not True:\n",
    "            print(res.message)\n",
    "        \n",
    "    return V, E, R, H\n",
    "\n",
    "## initialize initial guess for basis coefficients and optimization\n",
    "a_ch = a0.copy()\n",
    "x0 = np.log(x_s)\n",
    "\n",
    "eps = 1\n",
    "it = 0\n",
    "maxit = 200\n",
    "\n",
    "while eps > 1e-8 and it < maxit:\n",
    "    it += 1\n",
    "    ## optimization step\n",
    "    V, E, R, H = opt_step(s_grid, x0, a_ch, s_min, s_max, params)\n",
    "    ## fitting step\n",
    "    a_new = fa.chebapprox(V, n)\n",
    "    ## compute convergence criterion\n",
    "    eps = np.linalg.norm(a_new - a_ch)\n",
    "    ## update coefficients\n",
    "    a_ch = a_new.copy()\n",
    "    \n",
    "#     if it % 10 == 0:\n",
    "#         print(it, eps)\n",
    "# print(it, eps)\n",
    "\n",
    "### END SOLUTION\n"
   ]
  },
  {
   "cell_type": "code",
   "execution_count": 16,
   "metadata": {
    "nbgrader": {
     "grade": true,
     "grade_id": "cell-8bf9b94b0da00df9",
     "locked": true,
     "points": 5,
     "schema_version": 3,
     "solution": false,
     "task": false
    }
   },
   "outputs": [],
   "source": [
    "# THIS IS A TEST CELL!\n",
    "### BEGIN HIDDEN TESTS\n",
    "assert np.allclose( a_ch, np.array([-2.86624417e+01, -8.92831204e-01, -2.54647106e-02, -5.90130821e-04,\n",
    "       -1.10725420e-05, -1.72754295e-07, -2.37927958e-09, -1.15005095e-10,\n",
    "        4.46966515e-11,  1.49788176e-10]) )\n",
    "### END HIDDEN TESTS"
   ]
  },
  {
   "cell_type": "markdown",
   "metadata": {
    "nbgrader": {
     "grade": false,
     "grade_id": "cell-04d6dcea14e63b81",
     "locked": true,
     "schema_version": 3,
     "solution": false,
     "task": false
    }
   },
   "source": [
    "(c) Derive approximations to the policy functions (i.e. compute approximation coefficients **a_e**, **a_r** and **a_h**) and simulate the economy for $T = 30$. Plot the time paths for $e$, $r$ and $h$ (named **et**, **rt** and **ht**, respectively), and include their corresponding steady state values."
   ]
  },
  {
   "cell_type": "code",
   "execution_count": 17,
   "metadata": {
    "nbgrader": {
     "grade": false,
     "grade_id": "cell-cee288922d8bb8ec",
     "locked": false,
     "schema_version": 3,
     "solution": true,
     "task": false
    }
   },
   "outputs": [
    {
     "data": {
      "text/plain": [
       "<matplotlib.collections.LineCollection at 0x25feb656ec8>"
      ]
     },
     "execution_count": 17,
     "metadata": {},
     "output_type": "execute_result"
    },
    {
     "data": {
      "image/png": "[encoded data removed]",
      "text/plain": [
       "<Figure size 432x288 with 3 Axes>"
      ]
     },
     "metadata": {
      "needs_background": "light"
     },
     "output_type": "display_data"
    }
   ],
   "source": [
    "### BEGIN SOLUTION\n",
    "\n",
    "a_e = fa.chebapprox(E, n)\n",
    "a_r = fa.chebapprox(R, n)\n",
    "a_h = fa.chebapprox(H, n)\n",
    "\n",
    "## number of periods\n",
    "T = 30\n",
    "\n",
    "## initialize arrays to keep track of time series\n",
    "st = np.zeros(T+1)\n",
    "et = np.zeros(T)\n",
    "rt = np.zeros(T)\n",
    "ht = np.zeros(T)\n",
    "\n",
    "## initial capital stock is given\n",
    "st[0] = s0\n",
    "\n",
    "## loop over time and use policy function approximations to fill kt and ht\n",
    "for t in range(T):\n",
    "    et[t] = np.polynomial.chebyshev.chebval( fa.chebconvert(st[t], s_min, s_max), a_e)\n",
    "    rt[t] = np.polynomial.chebyshev.chebval( fa.chebconvert(st[t], s_min, s_max), a_r )\n",
    "    ht[t] = np.polynomial.chebyshev.chebval( fa.chebconvert(st[t], s_min, s_max), a_h )\n",
    "    st[t + 1] = params['phi'] * st[t] + et[t]\n",
    "    \n",
    "## plot optimal plans and check for convergence to steady state\n",
    "fig, ax = plt.subplots(3,1)\n",
    "ax[0].plot(range(T), et)\n",
    "ax[0].hlines(x_s[0], 0, T)\n",
    "ax[1].plot(range(T), rt)\n",
    "ax[1].hlines(x_s[1], 0, T)   \n",
    "ax[2].plot(range(T), ht)\n",
    "ax[2].hlines(x_s[2], 0, T) \n",
    "\n",
    "### END SOLUTION"
   ]
  },
  {
   "cell_type": "code",
   "execution_count": 18,
   "metadata": {
    "nbgrader": {
     "grade": true,
     "grade_id": "cell-f2203c738a806497",
     "locked": true,
     "points": 2,
     "schema_version": 3,
     "solution": false,
     "task": false
    }
   },
   "outputs": [],
   "source": [
    "assert np.allclose(a_e, np.array([ 1.51164831e-01,  1.37937099e-02,  2.69269608e-04,  2.22815220e-06,\n",
    "       -1.25248601e-07,  2.56957335e-07,  2.83333412e-07, -1.75284347e-07,\n",
    "       -1.92270845e-07, -3.10513586e-08]))"
   ]
  },
  {
   "cell_type": "code",
   "execution_count": 19,
   "metadata": {
    "nbgrader": {
     "grade": true,
     "grade_id": "cell-4e06be38be505956",
     "locked": true,
     "points": 4,
     "schema_version": 3,
     "solution": false,
     "task": false
    }
   },
   "outputs": [],
   "source": [
    "assert np.allclose(et.mean(), 0.15161157605)"
   ]
  },
  {
   "cell_type": "markdown",
   "metadata": {
    "nbgrader": {
     "grade": false,
     "grade_id": "cell-e57ed4d543433cdb",
     "locked": true,
     "schema_version": 3,
     "solution": false,
     "task": false
    }
   },
   "source": [
    "-------------------------------------------------------------------------------------------------------------------------------"
   ]
  }
 ],
 "metadata": {
  "celltoolbar": "Create Assignment",
  "kernelspec": {
   "display_name": "Python 3",
   "language": "python",
   "name": "python3"
  },
  "language_info": {
   "codemirror_mode": {
    "name": "ipython",
    "version": 3
   },
   "file_extension": ".py",
   "mimetype": "text/x-python",
   "name": "python",
   "nbconvert_exporter": "python",
   "pygments_lexer": "ipython3",
   "version": "3.7.5"
  }
 },
 "nbformat": 4,
 "nbformat_minor": 1
}
