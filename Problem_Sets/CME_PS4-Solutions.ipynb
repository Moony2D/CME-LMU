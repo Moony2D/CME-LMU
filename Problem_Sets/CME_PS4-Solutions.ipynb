{
 "cells": [
  {
   "cell_type": "markdown",
   "metadata": {
    "nbgrader": {
     "grade": false,
     "grade_id": "cell-ff41bfd971742b5f",
     "locked": true,
     "schema_version": 3,
     "solution": false,
     "task": false
    }
   },
   "source": [
    "# Computational Methods in Economics\n",
    "\n",
    "## Problem Set 4 - Numerical Optimization and Pandas "
   ]
  },
  {
   "cell_type": "markdown",
   "metadata": {
    "nbgrader": {
     "grade": false,
     "grade_id": "cell-a69909ea9ea572e8",
     "locked": true,
     "schema_version": 3,
     "solution": false,
     "task": false
    }
   },
   "source": [
    "#### DEADLINE: Wednesday, January 8, 12 pm (Noon)"
   ]
  },
  {
   "cell_type": "markdown",
   "metadata": {
    "nbgrader": {
     "grade": false,
     "grade_id": "cell-3990712381996b5b",
     "locked": true,
     "schema_version": 3,
     "solution": false,
     "task": false
    }
   },
   "source": [
    "### Preliminaries\n",
    "\n",
    "#### Import Modules"
   ]
  },
  {
   "cell_type": "code",
   "execution_count": 1,
   "metadata": {
    "nbgrader": {
     "grade": false,
     "grade_id": "cell-b2465406307b475e",
     "locked": true,
     "schema_version": 3,
     "solution": false,
     "task": false
    }
   },
   "outputs": [],
   "source": [
    "import numpy as np\n",
    "import pandas as pd\n",
    "import scipy.optimize\n",
    "\n",
    "import matplotlib.pyplot as plt\n",
    "%matplotlib inline"
   ]
  },
  {
   "cell_type": "markdown",
   "metadata": {
    "nbgrader": {
     "grade": false,
     "grade_id": "cell-957bfdc7c012f582",
     "locked": true,
     "schema_version": 3,
     "solution": false,
     "task": false
    }
   },
   "source": [
    "## Question 1\n",
    "\n",
    "Run the cell below which imports the data set on Bundesliga players and performs the same operations as in the lecture, in order to make the players' last names the indices of the DataFrame (Make sure that you have the **BundesligaData.csv** file in the same folder!)"
   ]
  },
  {
   "cell_type": "code",
   "execution_count": 2,
   "metadata": {
    "nbgrader": {
     "grade": false,
     "grade_id": "cell-dd786e363f969368",
     "locked": true,
     "schema_version": 3,
     "solution": false,
     "task": false
    }
   },
   "outputs": [
    {
     "data": {
      "text/html": [
       "<div>\n",
       "<style scoped>\n",
       "    .dataframe tbody tr th:only-of-type {\n",
       "        vertical-align: middle;\n",
       "    }\n",
       "\n",
       "    .dataframe tbody tr th {\n",
       "        vertical-align: top;\n",
       "    }\n",
       "\n",
       "    .dataframe thead th {\n",
       "        text-align: right;\n",
       "    }\n",
       "</style>\n",
       "<table border=\"1\" class=\"dataframe\">\n",
       "  <thead>\n",
       "    <tr style=\"text-align: right;\">\n",
       "      <th></th>\n",
       "      <th>first name</th>\n",
       "      <th>position</th>\n",
       "      <th>value</th>\n",
       "      <th>valuemax</th>\n",
       "      <th>age</th>\n",
       "      <th>goals</th>\n",
       "      <th>assists</th>\n",
       "      <th>yellow</th>\n",
       "      <th>red</th>\n",
       "      <th>shotspergame</th>\n",
       "      <th>passsuccess</th>\n",
       "      <th>aerialswon</th>\n",
       "      <th>rating</th>\n",
       "      <th>positioncode</th>\n",
       "    </tr>\n",
       "    <tr>\n",
       "      <th>name</th>\n",
       "      <th></th>\n",
       "      <th></th>\n",
       "      <th></th>\n",
       "      <th></th>\n",
       "      <th></th>\n",
       "      <th></th>\n",
       "      <th></th>\n",
       "      <th></th>\n",
       "      <th></th>\n",
       "      <th></th>\n",
       "      <th></th>\n",
       "      <th></th>\n",
       "      <th></th>\n",
       "      <th></th>\n",
       "    </tr>\n",
       "  </thead>\n",
       "  <tbody>\n",
       "    <tr>\n",
       "      <th>Lewandowski</th>\n",
       "      <td>Robert</td>\n",
       "      <td>striker</td>\n",
       "      <td>80.0</td>\n",
       "      <td>80.0</td>\n",
       "      <td>28</td>\n",
       "      <td>30</td>\n",
       "      <td>4</td>\n",
       "      <td>5</td>\n",
       "      <td>0</td>\n",
       "      <td>4.2</td>\n",
       "      <td>75.0</td>\n",
       "      <td>1.8</td>\n",
       "      <td>7.71</td>\n",
       "      <td>3</td>\n",
       "    </tr>\n",
       "    <tr>\n",
       "      <th>Aubameyang</th>\n",
       "      <td>Pierre-Emerick</td>\n",
       "      <td>striker</td>\n",
       "      <td>65.0</td>\n",
       "      <td>65.0</td>\n",
       "      <td>27</td>\n",
       "      <td>29</td>\n",
       "      <td>2</td>\n",
       "      <td>3</td>\n",
       "      <td>0</td>\n",
       "      <td>3.6</td>\n",
       "      <td>70.3</td>\n",
       "      <td>1.3</td>\n",
       "      <td>7.40</td>\n",
       "      <td>3</td>\n",
       "    </tr>\n",
       "    <tr>\n",
       "      <th>Mueller</th>\n",
       "      <td>Thomas</td>\n",
       "      <td>striker</td>\n",
       "      <td>60.0</td>\n",
       "      <td>75.0</td>\n",
       "      <td>27</td>\n",
       "      <td>5</td>\n",
       "      <td>12</td>\n",
       "      <td>0</td>\n",
       "      <td>0</td>\n",
       "      <td>2.2</td>\n",
       "      <td>76.2</td>\n",
       "      <td>1.8</td>\n",
       "      <td>7.30</td>\n",
       "      <td>3</td>\n",
       "    </tr>\n",
       "    <tr>\n",
       "      <th>Reus</th>\n",
       "      <td>Marco</td>\n",
       "      <td>striker</td>\n",
       "      <td>40.0</td>\n",
       "      <td>50.0</td>\n",
       "      <td>27</td>\n",
       "      <td>5</td>\n",
       "      <td>4</td>\n",
       "      <td>1</td>\n",
       "      <td>1</td>\n",
       "      <td>2.3</td>\n",
       "      <td>74.6</td>\n",
       "      <td>0.4</td>\n",
       "      <td>7.03</td>\n",
       "      <td>3</td>\n",
       "    </tr>\n",
       "    <tr>\n",
       "      <th>Costa</th>\n",
       "      <td>Douglas</td>\n",
       "      <td>striker</td>\n",
       "      <td>30.0</td>\n",
       "      <td>35.0</td>\n",
       "      <td>26</td>\n",
       "      <td>4</td>\n",
       "      <td>3</td>\n",
       "      <td>2</td>\n",
       "      <td>0</td>\n",
       "      <td>1.9</td>\n",
       "      <td>80.2</td>\n",
       "      <td>0.1</td>\n",
       "      <td>7.17</td>\n",
       "      <td>3</td>\n",
       "    </tr>\n",
       "  </tbody>\n",
       "</table>\n",
       "</div>"
      ],
      "text/plain": [
       "                 first name position  value  valuemax  age  goals  assists  \\\n",
       "name                                                                         \n",
       "Lewandowski          Robert  striker   80.0      80.0   28     30        4   \n",
       "Aubameyang   Pierre-Emerick  striker   65.0      65.0   27     29        2   \n",
       "Mueller              Thomas  striker   60.0      75.0   27      5       12   \n",
       "Reus                  Marco  striker   40.0      50.0   27      5        4   \n",
       "Costa               Douglas  striker   30.0      35.0   26      4        3   \n",
       "\n",
       "             yellow  red  shotspergame  passsuccess  aerialswon  rating  \\\n",
       "name                                                                      \n",
       "Lewandowski       5    0           4.2         75.0         1.8    7.71   \n",
       "Aubameyang        3    0           3.6         70.3         1.3    7.40   \n",
       "Mueller           0    0           2.2         76.2         1.8    7.30   \n",
       "Reus              1    1           2.3         74.6         0.4    7.03   \n",
       "Costa             2    0           1.9         80.2         0.1    7.17   \n",
       "\n",
       "             positioncode  \n",
       "name                       \n",
       "Lewandowski             3  \n",
       "Aubameyang              3  \n",
       "Mueller                 3  \n",
       "Reus                    3  \n",
       "Costa                   3  "
      ]
     },
     "execution_count": 2,
     "metadata": {},
     "output_type": "execute_result"
    }
   ],
   "source": [
    "df = pd.read_csv('BundesligaData.csv', sep = ';')\n",
    "\n",
    "def reverse_name(name):\n",
    "    L = name.split(\" \")\n",
    "    try:\n",
    "        S = L[1] + \" \" + L[0]\n",
    "    except:\n",
    "        S = L[0]\n",
    "    return S\n",
    "## apply reverse_name function on 'name' column\n",
    "df['name'] = df['name'].apply(reverse_name)\n",
    "## create new dataframe with last and first names\n",
    "names = df['name'].str.split(expand=True)\n",
    "# replace column 'name'\n",
    "df['name'] = names[0]\n",
    "## add column 'first name'\n",
    "df.insert(1, 'first name', names[1])\n",
    "## make name the index\n",
    "df.set_index('name', drop = True, inplace = True)\n",
    "## check dataframe\n",
    "df.head()"
   ]
  },
  {
   "cell_type": "markdown",
   "metadata": {
    "nbgrader": {
     "grade": false,
     "grade_id": "cell-b8be152f6919b5a9",
     "locked": true,
     "schema_version": 3,
     "solution": false,
     "task": false
    }
   },
   "source": [
    "Using this DataFrame, answer the following questions:"
   ]
  },
  {
   "cell_type": "markdown",
   "metadata": {
    "nbgrader": {
     "grade": false,
     "grade_id": "cell-b2d1e17e9f82c6c2",
     "locked": true,
     "schema_version": 3,
     "solution": false,
     "task": false
    }
   },
   "source": [
    "(a) Which player got the most scorer points in the 2016/17 season, and how many points did he get? A scorer point is awarded for both a goal and an assist. Your answer should be a tuple named **answer** consisting of a string (the player's last name) and an integer."
   ]
  },
  {
   "cell_type": "code",
   "execution_count": 3,
   "metadata": {
    "nbgrader": {
     "grade": false,
     "grade_id": "cell-2b746ba3c901352c",
     "locked": false,
     "schema_version": 3,
     "solution": true,
     "task": false
    }
   },
   "outputs": [],
   "source": [
    "## (a)\n",
    "### BEGIN SOLUTION\n",
    "## define a series called 'points'\n",
    "points = df['goals'] + df['assists']\n",
    "## use argmax and max methods\n",
    "answer = ( points.idxmax(), points.max() )\n",
    "### END SOLUTION"
   ]
  },
  {
   "cell_type": "code",
   "execution_count": 4,
   "metadata": {
    "nbgrader": {
     "grade": true,
     "grade_id": "cell-63f185d923f251c3",
     "locked": true,
     "points": 1,
     "schema_version": 3,
     "solution": false,
     "task": false
    }
   },
   "outputs": [],
   "source": [
    "## THIS IS A TEST CELL!\n",
    "### BEGIN HIDDEN TESTS\n",
    "assert answer == ('Lewandowski', 34)\n",
    "### END HIDDEN TESTS"
   ]
  },
  {
   "cell_type": "markdown",
   "metadata": {
    "nbgrader": {
     "grade": false,
     "grade_id": "cell-95aa0cc1592f1d7f",
     "locked": true,
     "schema_version": 3,
     "solution": false,
     "task": false
    }
   },
   "source": [
    "(b) Are there any players in the data set that are younger than 23 and have scored at least 8 goals? Your answer should be a tuple named **answer** containing only strings."
   ]
  },
  {
   "cell_type": "code",
   "execution_count": 5,
   "metadata": {
    "nbgrader": {
     "grade": false,
     "grade_id": "cell-5f51e6beead41989",
     "locked": false,
     "schema_version": 3,
     "solution": true,
     "task": false
    }
   },
   "outputs": [],
   "source": [
    "## (b)\n",
    "### BEGIN SOLUTION\n",
    "A = (df['age'] < 23) & (df['goals'] >= 8)\n",
    "answer = tuple(df.loc[A].index)\n",
    "### END SOLUTION"
   ]
  },
  {
   "cell_type": "code",
   "execution_count": 6,
   "metadata": {
    "nbgrader": {
     "grade": true,
     "grade_id": "cell-1c5d448170c9bd17",
     "locked": true,
     "points": 1,
     "schema_version": 3,
     "solution": false,
     "task": false
    }
   },
   "outputs": [],
   "source": [
    "## THIS IS A TEST CELL!\n",
    "### BEGIN HIDDEN TESTS\n",
    "assert (answer == ('Werner', 'Keita', 'Gnabry')) or (answer == ['Werner', 'Keita', 'Gnabry'])\n",
    "### END HIDDEN TESTS"
   ]
  },
  {
   "cell_type": "markdown",
   "metadata": {
    "nbgrader": {
     "grade": false,
     "grade_id": "cell-7d5eecde13e1b195",
     "locked": true,
     "schema_version": 3,
     "solution": false,
     "task": false
    }
   },
   "source": [
    "(c) At which positions do the players with the most red cards, the most assists, and the highest pass success, respectively, play? For your answer, use the following dictionary, where you need to add the corresponding positions."
   ]
  },
  {
   "cell_type": "code",
   "execution_count": 7,
   "metadata": {
    "nbgrader": {
     "grade": false,
     "grade_id": "cell-b0eff87d5a150e33",
     "locked": true,
     "schema_version": 3,
     "solution": false,
     "task": false
    }
   },
   "outputs": [],
   "source": [
    "answer = {'red cards': None,\\\n",
    "          'assists': None,\\\n",
    "          'pass success': None}"
   ]
  },
  {
   "cell_type": "code",
   "execution_count": 8,
   "metadata": {
    "nbgrader": {
     "grade": false,
     "grade_id": "cell-78377fcb5b99484a",
     "locked": false,
     "schema_version": 3,
     "solution": true,
     "task": false
    }
   },
   "outputs": [],
   "source": [
    "## (c)\n",
    "### BEGIN SOLUTION\n",
    "answer = {'red cards': df['position'].loc[ df['red'].idxmax()],\\\n",
    "          'assists': df['position'].loc[ df['assists'].idxmax()],\\\n",
    "          'pass success': df['position'].loc[ df['passsuccess'].idxmax()]}\n",
    "### END SOLUTION"
   ]
  },
  {
   "cell_type": "code",
   "execution_count": 9,
   "metadata": {
    "nbgrader": {
     "grade": true,
     "grade_id": "cell-8ddeadd0c4dd756e",
     "locked": true,
     "points": 1,
     "schema_version": 3,
     "solution": false,
     "task": false
    }
   },
   "outputs": [],
   "source": [
    "## THIS IS A TEST CELL!\n",
    "### BEGIN HIDDEN TESTS\n",
    "assert answer == {'red cards': 'midfielder',\\\n",
    "          'assists': 'striker',\\\n",
    "          'pass success':'defender'}\n",
    "### END HIDDEN TESTS"
   ]
  },
  {
   "cell_type": "markdown",
   "metadata": {
    "nbgrader": {
     "grade": false,
     "grade_id": "cell-ac0a2b4d2b334abf",
     "locked": true,
     "schema_version": 3,
     "solution": false,
     "task": false
    }
   },
   "source": [
    "(d) For the first five players, update the **'goals'** column with the the number of goals they scored on the matchday 34, namely {'Lewandowski' : 0, 'Aubameyang': 2, 'Mueller': 0, Costa': 0, 'Reus': 1}. This should change the DataFrame **df** in place.\n",
    "\n",
    "**Hint**: All functions or methods needed to solve this question were discussed in the **pd.Series** part of the lecture."
   ]
  },
  {
   "cell_type": "code",
   "execution_count": 10,
   "metadata": {
    "nbgrader": {
     "grade": false,
     "grade_id": "cell-3e8cdaf90f3debd9",
     "locked": false,
     "schema_version": 3,
     "solution": true,
     "task": false
    }
   },
   "outputs": [],
   "source": [
    "## (d)\n",
    "### BEGIN SOLUTION\n",
    "goals_34 = {'Lewandowski' : 0, 'Aubameyang': 2, 'Mueller': 0, 'Costa': 0, 'Reus': 1}\n",
    "goals_34 = pd.Series(goals_34)\n",
    "df['goals'] = df['goals'].add(goals_34, fill_value = 0)\n",
    "### END SOLUTION"
   ]
  },
  {
   "cell_type": "code",
   "execution_count": 11,
   "metadata": {
    "nbgrader": {
     "grade": true,
     "grade_id": "cell-812563c23c7d901a",
     "locked": true,
     "points": 1,
     "schema_version": 3,
     "solution": false,
     "task": false
    }
   },
   "outputs": [],
   "source": [
    "## THIS IS A TEST CELL!\n",
    "### BEGIN HIDDEN TESTS\n",
    "assert df.iloc[0:5, 5].mean() == 15.2\n",
    "### END HIDDEN TESTS"
   ]
  },
  {
   "cell_type": "markdown",
   "metadata": {
    "nbgrader": {
     "grade": false,
     "grade_id": "cell-f2b2a53f6e2461a8",
     "locked": true,
     "schema_version": 3,
     "solution": false,
     "task": false
    }
   },
   "source": [
    "(e) At what age do players on average have the highest value? At what age the highest rating? Use the **groupby** and the **apply** method. Your answer should be a tuple named answer consisting of two integers."
   ]
  },
  {
   "cell_type": "code",
   "execution_count": 12,
   "metadata": {
    "nbgrader": {
     "grade": false,
     "grade_id": "cell-cdf9e4ad2c6ff9de",
     "locked": false,
     "schema_version": 3,
     "solution": true,
     "task": false
    }
   },
   "outputs": [],
   "source": [
    "## (e)\n",
    "### BEGIN SOLUTION\n",
    "average_agegroups = df.groupby('age')['value', 'rating'].mean()\n",
    "answer = (average_agegroups['value'].idxmax(), average_agegroups['rating'].idxmax()) \n",
    "### END SOLUTION"
   ]
  },
  {
   "cell_type": "code",
   "execution_count": 13,
   "metadata": {
    "nbgrader": {
     "grade": true,
     "grade_id": "cell-0209bfa55fa2fc38",
     "locked": true,
     "points": 1,
     "schema_version": 3,
     "solution": false,
     "task": false
    }
   },
   "outputs": [],
   "source": [
    "## THIS IS A TEST CELL!\n",
    "### BEGIN HIDDEN TESTS\n",
    "assert answer == (19, 35)\n",
    "### END HIDDEN TESTS"
   ]
  },
  {
   "cell_type": "markdown",
   "metadata": {
    "nbgrader": {
     "grade": false,
     "grade_id": "cell-3dcfec900059ebac",
     "locked": true,
     "schema_version": 3,
     "solution": false,
     "task": false
    }
   },
   "source": [
    "(f) Write a function **standardize** that takes a series or dataframe column and standardizes its data, i.e. transforms each value by removing the mean and by dividing by the standard deviation:\n",
    "\\begin{equation}\n",
    "    \\tilde{x}_i = \\frac{x_i - mean(x)}{std(x)}\n",
    "\\end{equation}\n",
    "When computing the standard deviation, keep the default settings.\n",
    "\n",
    "Create a new DataFrame **df_stand** as a copy of **df**. Use the **apply** to standardize **df_stand**. Keep in mind that **apply** only works if all columns have the right data type; use **drop** to get rid of those column that don't."
   ]
  },
  {
   "cell_type": "code",
   "execution_count": 14,
   "metadata": {
    "nbgrader": {
     "grade": false,
     "grade_id": "cell-c8d9f2016de7d4e3",
     "locked": false,
     "schema_version": 3,
     "solution": true,
     "task": false
    }
   },
   "outputs": [],
   "source": [
    "## (f)\n",
    "### BEGIN SOLUTION\n",
    "def standardize(s):\n",
    "    return (s - s.mean()) / s.std()\n",
    "\n",
    "df_stand = df.copy()\n",
    "df_stand.drop('position', axis = 1, inplace = True)\n",
    "df_stand.drop('first name', axis = 1, inplace = True)\n",
    "df_stand = df_stand.apply(standardize)\n",
    "### END SOLUTION"
   ]
  },
  {
   "cell_type": "code",
   "execution_count": 15,
   "metadata": {
    "nbgrader": {
     "grade": true,
     "grade_id": "cell-59db52ca119feaae",
     "locked": true,
     "points": 1,
     "schema_version": 3,
     "solution": false,
     "task": false
    }
   },
   "outputs": [],
   "source": [
    "s = pd.Series([1,2,3,4,5])\n",
    "assert np.allclose(standardize(s), pd.Series([-1.264911,-0.632456,0,0.632456,1.264911]) )"
   ]
  },
  {
   "cell_type": "code",
   "execution_count": 16,
   "metadata": {
    "nbgrader": {
     "grade": true,
     "grade_id": "cell-1d0cb3bc12a0ab95",
     "locked": true,
     "points": 1,
     "schema_version": 3,
     "solution": false,
     "task": false
    }
   },
   "outputs": [],
   "source": [
    "## THIS IS A TEST CELL!\n",
    "### BEGIN HIDDEN TESTS\n",
    "assert np.allclose(df_stand['value'].mean(), 0)\n",
    "### END HIDDEN TESTS"
   ]
  },
  {
   "cell_type": "markdown",
   "metadata": {
    "nbgrader": {
     "grade": false,
     "grade_id": "cell-72202bc99d1724f7",
     "locked": true,
     "schema_version": 3,
     "solution": false,
     "task": false
    }
   },
   "source": [
    "## Question 2\n",
    "\n",
    "Solve the following problem using *constrained optimization*\n",
    "\n",
    "$$\n",
    "    \\min_{\\mathbf{x}}\\ x_1 x_4  (x_1 + x_2 + x_3) + x_3\n",
    "$$\n",
    "\n",
    "s.t. \n",
    "$$\n",
    "  x_1  x_2  x_3  x_4 >= 25  \n",
    "$$\n",
    "\n",
    "$$\n",
    "  x_1^2  x_2^2  x_3^2  x_4^2 = 40  \n",
    "$$\n",
    "\n",
    "and $1 \\le x_j \\le 5$ for $j =1,2,3,4$. You can use $x0 = (1,5,5,1)$ as an initial guess. Save your solution vector under the name **x_sol**.\n",
    "\n",
    "**Hint**: In order to solve the question, apart from the initial guess, you need to define three functions (either using **def** or the **lambda** notation), a list of dictionaries and a list of tuples. "
   ]
  },
  {
   "cell_type": "code",
   "execution_count": 17,
   "metadata": {
    "nbgrader": {
     "grade": false,
     "grade_id": "cell-b1ba99b8320ee796",
     "locked": false,
     "schema_version": 3,
     "solution": true,
     "task": false
    }
   },
   "outputs": [],
   "source": [
    "### BEGIN SOLUTION\n",
    "## objective function\n",
    "obj = lambda x: x[0] * x[3] * np.sum(x[:-1]) + x[2]\n",
    "## contraint 1\n",
    "constr1 = lambda x: np.prod(x) - 25 \n",
    "## constraint 2\n",
    "constr2 = lambda x: np.sum(x**2) - 40\n",
    "constr = [{'type': 'eq', 'fun': constr2},\n",
    "         {'type': 'ineq', 'fun': constr1},]\n",
    "## bounds\n",
    "bnds = [(1,5)] * 4 \n",
    "\n",
    "## initial guess\n",
    "x0 = np.array([1,5,5,1])\n",
    "## solve problem\n",
    "res = scipy.optimize.minimize(obj, x0,  method ='SLSQP', constraints = constr, bounds = bnds)\n",
    "x_sol = res.x\n",
    "### END SOLUTION"
   ]
  },
  {
   "cell_type": "code",
   "execution_count": 18,
   "metadata": {
    "nbgrader": {
     "grade": true,
     "grade_id": "cell-44b691247402081f",
     "locked": true,
     "points": 5,
     "schema_version": 3,
     "solution": false,
     "task": false
    }
   },
   "outputs": [],
   "source": [
    "assert np.allclose(x_sol, np.array([1. , 4.74299607, 3.82115466, 1.37940764]))"
   ]
  },
  {
   "cell_type": "markdown",
   "metadata": {
    "nbgrader": {
     "grade": false,
     "grade_id": "cell-45473838c3aa02d7",
     "locked": true,
     "schema_version": 3,
     "solution": false,
     "task": false
    }
   },
   "source": [
    "## Question 3\n",
    "*Based on Judd(1998), chapter 4, question 2*. Consider an endowment economy with $m$ agents and $n$ goods. Throughout this question, *superscripts* will indicate agents, while *subscripts* will indicate goods.\n",
    "\n",
    "Assume that agent $i$'s utility function over the $n$ goods is \n",
    "\n",
    "\\begin{equation}\n",
    "    u^{i}(\\mathbf{x}^i) = \\sum^{n}_{j = 1} a^i_j (x^i_j)^{v^i_j + 1} (1 + v^i_j)^{-1} \n",
    "\\end{equation}\n",
    "\n",
    "Suppose that agent $i$'s endowment of good $j$ is $e^i_j$. Assume that $a^i_j, e^i_j > 0$ and $v^i_j < 0$ (for $v^i_j =-1$, we replace $(x^i_j)^{v^i_j + 1} (1 + v^i_j)^{-1}$ with $\\ln x^i_j$). \n",
    "\n",
    "In this question, we use *numerical optimization* to solve for the outcome of the planning problem, in which the planner maximizes total welfare:\n",
    "\n",
    "$$\n",
    "    \\max_{\\left\\{\\mathbf{x}^i\\right\\}_{i = 1}^m} \\sum_{i = 1}^m \\lambda^i u^{i}(\\mathbf{x}^i) \n",
    "$$\n",
    "subject to the resource constraint:\n",
    "<a id = 'rc'></a>\n",
    "\\begin{equation}\n",
    "    \\sum^{m}_{i = 1} x_j^i = \\sum^{m}_{i = 1} e_j^i, \\quad \\forall j \\tag{RC}\n",
    "\\end{equation}\n",
    "\n",
    "\n",
    "where $\\lambda^i$ is the social weight associated with agent $i$. We will consider a case with $m = 2$ (two agents) and $n = 3$ (three goods; however, note that your code should be written in a way that it works for any number $n$!). Assume the following values for the parameters:"
   ]
  },
  {
   "cell_type": "code",
   "execution_count": 19,
   "metadata": {
    "nbgrader": {
     "grade": false,
     "grade_id": "cell-ec79105103171ce3",
     "locked": true,
     "schema_version": 3,
     "solution": false,
     "task": false
    }
   },
   "outputs": [],
   "source": [
    "## read parameters\n",
    "A = np.array([ [2.0, 1.5, 1.5],\n",
    "               [1.5, 2.0, 1.5]])\n",
    "\n",
    "V = np.array([ [-2.0, -0.5, -0.5],\n",
    "               [-1.5, -0.5, -1.5]])\n",
    "\n",
    "E = np.array([ [2.0, 3.0, 0.0],\n",
    "               [1.0, 2.0, 4.0]])"
   ]
  },
  {
   "cell_type": "markdown",
   "metadata": {
    "nbgrader": {
     "grade": false,
     "grade_id": "cell-0ced49eeb5545a09",
     "locked": true,
     "schema_version": 3,
     "solution": false,
     "task": false
    }
   },
   "source": [
    "The way to read these matrices is that an agent corresponds to a row and a good to a column. For example, agent 1's endowment of good 2, $e^1_2$, would be the element in the first row and second column of matrix **E**, and hence $e^1_2 = 3.0$."
   ]
  },
  {
   "cell_type": "markdown",
   "metadata": {
    "nbgrader": {
     "grade": false,
     "grade_id": "cell-a4824d6935dfbcd2",
     "locked": true,
     "schema_version": 3,
     "solution": false,
     "task": false
    }
   },
   "source": [
    "(a) Write a function **objective_uncon** that takes as inputs a flat array **x1**, the arrays **A**, **V** and **E** given above, and a flat array **lam** containing the social weights $\\lambda^1$ and $\\lambda^2 = 1 - \\lambda^1$, and returns the *negative* of total welfare as defined above (recall that we face a *maximization* problem here!). \n",
    "\n",
    "**Hint**: A slightly tricky issue when answering this question using *unconstrained* numerical optimization methods is how to deal with the constraint that aggregate consumption of good $j$ must equal aggregate endowments, i.e.\n",
    "\n",
    "\\begin{equation}\n",
    "    \\sum^{m}_{i = 1} x_j^i = \\sum^{m}_{i = 1} e_j^i\n",
    "\\end{equation}\n",
    "\n",
    "With two agents, this can be easily addressed by maximizing over the consumption choice of agent 1, and then computing the consumption of agent 2 as the *residual*. Hence, for good $j$:\n",
    "\n",
    "\\begin{equation}\n",
    "    x_j^2 = \\sum^{2}_{i = 1} e^i_j - x_j^1\n",
    "\\end{equation}\n",
    "\n",
    "Thus, the input in the **objective_uncon** function is a flat array of length $n$, in the example here of length 3, representing the vector $\\mathbf{x}^1 = (x^1_1, x^1_2, x^1_3)$."
   ]
  },
  {
   "cell_type": "code",
   "execution_count": 20,
   "metadata": {
    "nbgrader": {
     "grade": false,
     "grade_id": "cell-0f3c606180bdb376",
     "locked": false,
     "schema_version": 3,
     "solution": true,
     "task": false
    }
   },
   "outputs": [],
   "source": [
    "def objective_uncon(x1, V, A, E, lam):\n",
    "    \"\"\"\n",
    "    Implements the objective function for the social planner problem with two agents and n goods\n",
    "    \n",
    "    ((n,)np.array, (m,n)np.array, (m,n)np.array, (m,n)np.array, (m,)np.array ) -> float\n",
    "    \"\"\"\n",
    "    ## get dimension of the problem \n",
    "    m, n = V.shape ## number of agents, number of good\n",
    "\n",
    "    ## check if the parameter matrices have the correct dimensions \n",
    "    assert A.shape == (m, n), \"The dimensions of A and V must coincide!\"\n",
    "    assert E.shape == (m, n), \"The dimensions of E and V must coincide!\"\n",
    "    assert len(lam) == m, \"The length of lam is not consistent with the dimensions of V!\"\n",
    "    \n",
    "    ## The remainder of the function below should include the following steps:\n",
    "    ## 1. compute x2 for given x1 and E \n",
    "    ## 2. compute total welfare from x1, x2, lam, V and A\n",
    "    \n",
    "    \n",
    "    ### BEGIN SOLUTION\n",
    "    ## compute consumption of agent 2\n",
    "    x2 = E.sum(axis = 0) - x1\n",
    "    ## create consumption matrix X\n",
    "    X = np.row_stack( (x1, x2) )\n",
    "    \n",
    "    ## loop over agents and evaluate their utility\n",
    "    u = np.zeros(m)\n",
    "    for ind in range(m):\n",
    "        v, a = V[ind,:], A[ind,:]\n",
    "        Q = a / (1 + v)\n",
    "        u[ind] = Q @ X[ind,:]**(1 + v)\n",
    "\n",
    "    ## compute welfare given weights lam (NB: we could use summation instead of vector multiplication )\n",
    "    return - lam @ u\n",
    "    ### END SOLUTION"
   ]
  },
  {
   "cell_type": "code",
   "execution_count": 21,
   "metadata": {
    "nbgrader": {
     "grade": true,
     "grade_id": "cell-f2778041df07ecff",
     "locked": true,
     "points": 5,
     "schema_version": 3,
     "solution": false,
     "task": false
    }
   },
   "outputs": [],
   "source": [
    "x0 = np.array([2., 2., 2.])\n",
    "lam1 = 0.5\n",
    "lam = np.array([lam1, 1-lam1])\n",
    "objective_uncon(x0, V, A, E, lam)\n",
    "\n",
    "assert np.allclose(objective_uncon(x0, V, A, E, lam), -4.646082130477218) "
   ]
  },
  {
   "cell_type": "markdown",
   "metadata": {
    "nbgrader": {
     "grade": false,
     "grade_id": "cell-bb92e0aef9b2ac83",
     "locked": true,
     "schema_version": 3,
     "solution": false,
     "task": false
    }
   },
   "source": [
    "(b) Using Scipy's BFGS implementation, compute the solution to the planning problem. You should report a tuple **x_sol** that consists of arrays **x1** and **x2**, the consumption vector for agents 1 and 2, respectively. "
   ]
  },
  {
   "cell_type": "code",
   "execution_count": 22,
   "metadata": {
    "nbgrader": {
     "grade": false,
     "grade_id": "cell-86df3bba0f0249f9",
     "locked": false,
     "schema_version": 3,
     "solution": true,
     "task": false
    }
   },
   "outputs": [
    {
     "name": "stdout",
     "output_type": "stream",
     "text": [
      "Optimization terminated successfully.\n",
      "         Current function value: -4.850494\n",
      "         Iterations: 9\n",
      "         Function evaluations: 50\n",
      "         Gradient evaluations: 10\n"
     ]
    }
   ],
   "source": [
    "## b)\n",
    "x0 = np.array([2., 2., 2.])\n",
    "lam1 = 0.5\n",
    "lam = np.array([lam1, 1-lam1])\n",
    "### BEGIN SOLUTION\n",
    "res = scipy.optimize.minimize(objective_uncon, x0, method = 'BFGS', args = (V, A, E, lam), options = {'disp': True})\n",
    "x1 = res.x\n",
    "x2 = E.sum(axis = 0) - x1\n",
    "x_sol = (x1, x2)\n",
    "### END SOLUTION"
   ]
  },
  {
   "cell_type": "code",
   "execution_count": 23,
   "metadata": {
    "nbgrader": {
     "grade": true,
     "grade_id": "cell-d4ceaca73deb9b15",
     "locked": true,
     "points": 3,
     "schema_version": 3,
     "solution": false,
     "task": false
    }
   },
   "outputs": [],
   "source": [
    "assert np.allclose(x_sol,  (np.array([1.53646326, 1.79999756, 2.62120338]), np.array([1.46353674, 3.20000244, 1.37879662])) ) "
   ]
  },
  {
   "cell_type": "markdown",
   "metadata": {},
   "source": [
    "(c) Alternatively, we can use constrained optimization to solve the same problem. Write a function **objective_con** that takes as inputs a flat array **x**, the arrays **A**, **V** and **E** given above, and a flat array **lam**. This function is very similar to the function defined in question (a). The important difference here is that we maximize over the quantities of agent 1 and agent 2 simultaneously. Hence, the input **x** has length $2n$, here 6. \n",
    "\n",
    "**Hint**: Depending on how you set up your function, the following property of the Numpy's **resize** method may be useful (you do not have to use this to answer the question though!): "
   ]
  },
  {
   "cell_type": "code",
   "execution_count": 24,
   "metadata": {
    "nbgrader": {
     "grade": false,
     "grade_id": "cell-274b91e117ff53e4",
     "locked": true,
     "schema_version": 3,
     "solution": false,
     "task": false
    }
   },
   "outputs": [
    {
     "name": "stdout",
     "output_type": "stream",
     "text": [
      "[['a' 'b' 'c']\n",
      " ['d' 'e' 'f']]\n"
     ]
    }
   ],
   "source": [
    "B = np.array(['a', 'b', 'c', 'd', 'e', 'f'])\n",
    "B.resize((2,3))\n",
    "print(B)"
   ]
  },
  {
   "cell_type": "code",
   "execution_count": 25,
   "metadata": {
    "nbgrader": {
     "grade": false,
     "grade_id": "cell-731dacf14ab2188a",
     "locked": false,
     "schema_version": 3,
     "solution": true,
     "task": false
    }
   },
   "outputs": [],
   "source": [
    "## c)\n",
    "\n",
    "def objective_con(x, V, A, E, lam):\n",
    "    \"\"\"\n",
    "    Computes the objective function for the m-by-n social planner problem\n",
    "    \n",
    "    ((m*n,)np.array, (m,n)np.array, (m,n)np.array, (m,n)np.array, (m,)np.array ) -> float\n",
    "    \"\"\"\n",
    "    ## get dimension of the problem \n",
    "    m, n = V.shape ## number of agents, number of good\n",
    "\n",
    "    ## check if the parameter matrices have the correct dimensions \n",
    "    assert A.shape == (m, n), \"The dimensions of A and V must coincide!\"\n",
    "    assert E.shape == (m, n), \"The dimensions of E and V must coincide!\"\n",
    "    assert len(lam) == m, \"The length of lam is not consistent with the dimensions of V!\"\n",
    "    \n",
    "    ### BEGIN SOLUTION\n",
    "    X = x.copy()\n",
    "    X.resize((m, n))\n",
    "    \n",
    "    ## loop over agents and evaluate their utility\n",
    "    u = np.zeros(m)\n",
    "    for ind in range(m):\n",
    "        v, a = V[ind,:], A[ind,:]\n",
    "        Q = a / (1 + v)\n",
    "        u[ind] = Q @ X[ind,:]**(1 + v)\n",
    "\n",
    "    ## compute welfare given weights lam (NB: we could use summation instead of vector multiplication )\n",
    "    return - lam @ u\n",
    "    ### END SOLUTION\n"
   ]
  },
  {
   "cell_type": "code",
   "execution_count": 26,
   "metadata": {
    "nbgrader": {
     "grade": true,
     "grade_id": "cell-f972f1be475dc841",
     "locked": true,
     "points": 2,
     "schema_version": 3,
     "solution": false,
     "task": false
    }
   },
   "outputs": [],
   "source": [
    "# THIS IS A TEST CELL!\n",
    "### BEGIN HIDDEN TESTS\n",
    "x0 = np.array([2., 2., 2., 1., 3., 2.])\n",
    "lam1 = 0.5\n",
    "lam = np.array([lam1, 1-lam1])\n",
    "objective_con(x0, V, A, E, lam)\n",
    "\n",
    "assert np.allclose(objective_con(x0, V, A, E, lam), -4.646082130477218) \n",
    "### END HIDDEN TESTS"
   ]
  },
  {
   "cell_type": "markdown",
   "metadata": {
    "nbgrader": {
     "grade": false,
     "grade_id": "cell-21ef6a8bcc1f7432",
     "locked": true,
     "schema_version": 3,
     "solution": false,
     "task": false
    }
   },
   "source": [
    "(d) Below, I give you a function **resource** which is used to define the resource constraint [RC](#rc) in the **constr** list. With this list, solve the constrained optimization problem (recall to define bounds for the variables!). Report your results in a flat Numpy array called **x_sol2**. "
   ]
  },
  {
   "cell_type": "code",
   "execution_count": 27,
   "metadata": {
    "nbgrader": {
     "grade": false,
     "grade_id": "cell-a8d51e2f94520419",
     "locked": true,
     "schema_version": 3,
     "solution": false,
     "task": false
    }
   },
   "outputs": [],
   "source": [
    "def resource(x, V, A, E, lam):\n",
    "    \"\"\"\n",
    "    Computes an m-by-n consumption matrix from solution vector x and endowments E;\n",
    "    Agent n's consumption is computed as the residual comsumption \n",
    "    \"\"\"\n",
    "    ## get dimension of the endowment matrix\n",
    "    m, n = E.shape\n",
    "    ## reshape x into matrix X \n",
    "    X = x.copy()\n",
    "    X.resize((m, n))\n",
    "    ## compute and return residual consumption\n",
    "    return E.sum(axis = 0) - X.sum(axis = 0)\n",
    "\n",
    "constr = [{'type': 'eq', 'fun': resource, 'args': (V, A, E, lam)}]"
   ]
  },
  {
   "cell_type": "code",
   "execution_count": 28,
   "metadata": {
    "nbgrader": {
     "grade": false,
     "grade_id": "cell-1f477cd78aef5c2a",
     "locked": false,
     "schema_version": 3,
     "solution": true,
     "task": false
    }
   },
   "outputs": [
    {
     "name": "stdout",
     "output_type": "stream",
     "text": [
      "Optimization terminated successfully.    (Exit mode 0)\n",
      "            Current function value: -4.8504942672142\n",
      "            Iterations: 11\n",
      "            Function evaluations: 88\n",
      "            Gradient evaluations: 11\n"
     ]
    }
   ],
   "source": [
    "x0 = np.array([2., 2., 2., 1., 3., 2.])\n",
    "lam1 = 0.5\n",
    "lam = np.array([lam1, 1-lam1]) \n",
    "### BEGIN SOLUTION\n",
    "bnds = [(0,1e+6)] * 6 \n",
    "\n",
    "res = scipy.optimize.minimize(objective_con, x0, args = (V, A, E, lam), method ='SLSQP', constraints = constr, bounds = bnds, options = {'disp': True})\n",
    "x_sol2 = res.x \n",
    "### END SOLUTION"
   ]
  },
  {
   "cell_type": "code",
   "execution_count": 29,
   "metadata": {
    "nbgrader": {
     "grade": true,
     "grade_id": "cell-acc5fb3f96593ac0",
     "locked": true,
     "points": 3,
     "schema_version": 3,
     "solution": false,
     "task": false
    }
   },
   "outputs": [],
   "source": [
    "assert np.allclose(x_sol2, np.array([1.53677822, 1.79949481, 2.62096144, 1.46322178, 3.20050519, 1.37903856])) "
   ]
  }
 ],
 "metadata": {
  "celltoolbar": "Create Assignment",
  "kernelspec": {
   "display_name": "Python 3",
   "language": "python",
   "name": "python3"
  },
  "language_info": {
   "codemirror_mode": {
    "name": "ipython",
    "version": 3
   },
   "file_extension": ".py",
   "mimetype": "text/x-python",
   "name": "python",
   "nbconvert_exporter": "python",
   "pygments_lexer": "ipython3",
   "version": "3.7.5"
  }
 },
 "nbformat": 4,
 "nbformat_minor": 1
}
